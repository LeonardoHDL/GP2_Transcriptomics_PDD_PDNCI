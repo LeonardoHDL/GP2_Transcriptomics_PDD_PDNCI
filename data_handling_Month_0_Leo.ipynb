{
 "cells": [
  {
   "cell_type": "markdown",
   "metadata": {},
   "source": [
    "## Load libraries"
   ]
  },
  {
   "cell_type": "code",
   "execution_count": 177,
   "metadata": {},
   "outputs": [],
   "source": [
    "# Use the os package to interact with the environment\n",
    "import os\n",
    "import sys\n",
    "\n",
    "# Bring in Pandas for Dataframe functionality\n",
    "import pandas as pd\n",
    "from functools import reduce\n",
    "\n",
    "# Bring some visualization functionality \n",
    "import seaborn as sns\n",
    "\n",
    "# numpy for basics\n",
    "import numpy as np\n",
    "\n",
    "# Use StringIO for working with file contents\n",
    "from io import StringIO\n",
    "\n",
    "# Enable IPython to display matplotlib graphs\n",
    "import matplotlib.pyplot as plt\n",
    "%matplotlib inline\n",
    "\n",
    "# Enable interaction with the FireCloud API\n",
    "from firecloud import api as fapi\n",
    "\n",
    "# Import the iPython HTML rendering for displaying links to Google Cloud Console\n",
    "from IPython.core.display import display, HTML\n",
    "\n",
    "# Import urllib modules for building URLs to Google Cloud Console\n",
    "import urllib.parse\n",
    "\n",
    "# BigQuery for querying data\n",
    "from google.cloud import bigquery"
   ]
  },
  {
   "cell_type": "markdown",
   "metadata": {},
   "source": [
    "## Create Python Functions to Interact With GCP/Terra"
   ]
  },
  {
   "cell_type": "code",
   "execution_count": 178,
   "metadata": {},
   "outputs": [],
   "source": [
    "# Utility routine for printing a shell command before executing it\n",
    "def shell_do(command):\n",
    "    print(f'Executing: {command}', file=sys.stderr)\n",
    "    !$command\n",
    "    \n",
    "def shell_return(command):\n",
    "    print(f'Executing: {command}', file=sys.stderr)\n",
    "    output = !$command\n",
    "    return '\\n'.join(output)\n",
    "\n",
    "# Utility routine for printing a query before executing it\n",
    "def bq_query(query):\n",
    "    print(f'Executing: {query}', file=sys.stderr)\n",
    "    return pd.read_gbq(query, project_id=BILLING_PROJECT_ID, dialect='standard')\n",
    "\n",
    "# Utility routine for display a message and a link\n",
    "def display_html_link(description, link_text, url):\n",
    "    html = f'''\n",
    "    <p>\n",
    "    </p>\n",
    "    <p>\n",
    "    {description}\n",
    "    <a target=_blank href=\"{url}\">{link_text}</a>.\n",
    "    </p>\n",
    "    '''\n",
    "\n",
    "    display(HTML(html))\n",
    "\n",
    "# Utility routines for reading files from Google Cloud Storage\n",
    "def gcs_read_file(path):\n",
    "    \"\"\"Return the contents of a file in GCS\"\"\"\n",
    "    contents = !gsutil -u {BILLING_PROJECT_ID} cat {path}\n",
    "    return '\\n'.join(contents)\n",
    "    \n",
    "def gcs_read_csv(path, sep=None):\n",
    "    \"\"\"Return a DataFrame from the contents of a delimited file in GCS\"\"\"\n",
    "    return pd.read_csv(StringIO(gcs_read_file(path)), sep=sep, engine='python')\n",
    "\n",
    "# Utility routine for displaying a message and link to Cloud Console\n",
    "def link_to_cloud_console_gcs(description, link_text, gcs_path):\n",
    "    url = '{}?{}'.format(\n",
    "        os.path.join('https://console.cloud.google.com/storage/browser',\n",
    "                     gcs_path.replace(\"gs://\",\"\")),\n",
    "        urllib.parse.urlencode({'userProject': BILLING_PROJECT_ID}))\n",
    "\n",
    "    display_html_link(description, link_text, url)"
   ]
  },
  {
   "cell_type": "markdown",
   "metadata": {},
   "source": [
    "## Initialize Workspace Variables"
   ]
  },
  {
   "cell_type": "code",
   "execution_count": 179,
   "metadata": {},
   "outputs": [
    {
     "name": "stdout",
     "output_type": "stream",
     "text": [
      "terra-2b540c0c\n",
      "PDD_Transcriptomic_Project_Trainees\n",
      "gs://fc-48371aef-4547-45c8-9640-6bd27b0cd4a5\n"
     ]
    }
   ],
   "source": [
    "# Set up billing project and data path variables\n",
    "BILLING_PROJECT_ID = os.environ['GOOGLE_PROJECT']\n",
    "WORKSPACE_NAMESPACE = os.environ['WORKSPACE_NAMESPACE']\n",
    "WORKSPACE_NAME = os.environ['WORKSPACE_NAME']\n",
    "WORKSPACE_BUCKET = os.environ['WORKSPACE_BUCKET']\n",
    "\n",
    "WORKSPACE_ATTRIBUTES = fapi.get_workspace(WORKSPACE_NAMESPACE, WORKSPACE_NAME).json().get('workspace',{}).get('attributes',{})\n",
    "\n",
    "print(BILLING_PROJECT_ID)\n",
    "print(WORKSPACE_NAME)\n",
    "print(WORKSPACE_BUCKET)"
   ]
  },
  {
   "cell_type": "code",
   "execution_count": 180,
   "metadata": {},
   "outputs": [],
   "source": [
    "## AMP-PD v2.5\n",
    "## Explicitly define release v2.5 path and other paths\n",
    "\n",
    "AMP_RELEASE_PATH = 'gs://amp-pd-data/releases/2021_v2-5release_0510'\n",
    "AMP_CLINICAL_RELEASE_PATH = f'{AMP_RELEASE_PATH}/clinical'\n",
    "AMP_TRANSCRIPTOMICS_PATH_PICARD = 'gs://amp-pd-transcriptomics/releases/2021_v2-5release_0510/rnaseq/picard/metrics'\n",
    "AMP_TRANSCRIPTOMICS_PATH_FEATURE_COUNTS = 'gs://amp-pd-transcriptomics/releases/2021_v2-5release_0510/rnaseq/subread/feature-counts'\n",
    "AMP_TRANSCRIPTOMICS_PATH_SEQUENCING = 'gs://amp-pd-transcriptomics/releases/2021_v2-5release_0510/rnaseq/sequencing/metrics'"
   ]
  },
  {
   "cell_type": "code",
   "execution_count": 181,
   "metadata": {},
   "outputs": [
    {
     "name": "stdout",
     "output_type": "stream",
     "text": [
      "/home/jupyter/\n"
     ]
    }
   ],
   "source": [
    "#Set working directory\n",
    "WORK_DIR = f'/home/jupyter/'\n",
    "print(WORK_DIR)"
   ]
  },
  {
   "cell_type": "code",
   "execution_count": 182,
   "metadata": {
    "code_folding": [],
    "scrolled": true
   },
   "outputs": [],
   "source": [
    "##Copy files from bucket workspace to notebook workspace\n",
    "#shell_do(f'gsutil -u {BILLING_PROJECT_ID} -m cp -r {AMP_RELEASE_PATH}/amp_pd_case_control.csv {WORK_DIR}')\n",
    "#shell_do(f'gsutil -u {BILLING_PROJECT_ID} -m cp -r {AMP_RELEASE_PATH}/rna_sample_inventory.csv {WORK_DIR}')\n",
    "#shell_do(f'gsutil -u {BILLING_PROJECT_ID} -m cp -r {AMP_CLINICAL_RELEASE_PATH}/Enrollment.csv {WORK_DIR}')\n",
    "#shell_do(f'gsutil -u {BILLING_PROJECT_ID} -m cp -r {AMP_CLINICAL_RELEASE_PATH}/Demographics.csv {WORK_DIR}')\n",
    "#shell_do(f'gsutil -u {BILLING_PROJECT_ID} -m cp -r {AMP_CLINICAL_RELEASE_PATH}/MOCA.csv {WORK_DIR}')\n",
    "#shell_do(f'gsutil -u {BILLING_PROJECT_ID} -m cp -r {AMP_CLINICAL_RELEASE_PATH}/PD_Medical_History.csv {WORK_DIR}')\n",
    "#shell_do(f'gsutil -u {BILLING_PROJECT_ID} -m cp -r {AMP_TRANSCRIPTOMICS_PATH_PICARD}/aggregated.alignment_summary_metrics.tsv {WORK_DIR}')\n",
    "#shell_do(f'gsutil -u {BILLING_PROJECT_ID} -m cp -r {AMP_TRANSCRIPTOMICS_PATH_PICARD}/aggregated.rna_seq_metrics.tsv {WORK_DIR}')\n",
    "#shell_do(f'gsutil -u {BILLING_PROJECT_ID} -m cp -r {AMP_TRANSCRIPTOMICS_PATH_FEATURE_COUNTS}/matrix.featureCounts.tsv {WORK_DIR}')\n",
    "#shell_do(f'gsutil -u {BILLING_PROJECT_ID} -m cp -r {AMP_TRANSCRIPTOMICS_PATH_SEQUENCING}/rna_quality_metrics.csv {WORK_DIR}')"
   ]
  },
  {
   "cell_type": "code",
   "execution_count": 183,
   "metadata": {
    "scrolled": false
   },
   "outputs": [],
   "source": [
    "#Read all the different files needed with pd.read_excel() or pd.read_csv()\n",
    "moca = pd.read_csv(f'{WORK_DIR}/MOCA.csv')\n",
    "medical_history = pd.read_csv(f'{WORK_DIR}/PD_Medical_History.csv')\n",
    "demographics = pd.read_csv(f'{WORK_DIR}/Demographics.csv')\n",
    "case_control = pd.read_csv(f'{WORK_DIR}/amp_pd_case_control.csv')\n",
    "plate = pd.read_csv(f'{WORK_DIR}/rna_quality_metrics.csv')\n",
    "base = pd.read_csv(f'{WORK_DIR}/aggregated.rna_seq_metrics.tsv', sep = '\\t')\n",
    "strand = pd.read_csv(f'{WORK_DIR}/aggregated.alignment_summary_metrics.tsv', sep = '\\t')\n",
    "rnaseq = pd.read_csv(f'{WORK_DIR}/rna_sample_inventory.csv')"
   ]
  },
  {
   "cell_type": "code",
   "execution_count": 184,
   "metadata": {},
   "outputs": [
    {
     "data": {
      "text/html": [
       "<div>\n",
       "<style scoped>\n",
       "    .dataframe tbody tr th:only-of-type {\n",
       "        vertical-align: middle;\n",
       "    }\n",
       "\n",
       "    .dataframe tbody tr th {\n",
       "        vertical-align: top;\n",
       "    }\n",
       "\n",
       "    .dataframe thead th {\n",
       "        text-align: right;\n",
       "    }\n",
       "</style>\n",
       "<table border=\"1\" class=\"dataframe\">\n",
       "  <thead>\n",
       "    <tr style=\"text-align: right;\">\n",
       "      <th></th>\n",
       "      <th>participant_id</th>\n",
       "      <th>GUID</th>\n",
       "      <th>visit_name</th>\n",
       "      <th>visit_month</th>\n",
       "      <th>diagnosis</th>\n",
       "      <th>initial_diagnosis</th>\n",
       "      <th>most_recent_diagnosis</th>\n",
       "      <th>change_in_diagnosis</th>\n",
       "      <th>change_in_diagnosis_months_after_baseline</th>\n",
       "      <th>surgery_for_parkinson_disease</th>\n",
       "      <th>pd_diagnosis_months_after_baseline</th>\n",
       "      <th>age_at_diagnosis</th>\n",
       "      <th>pd_medication_initiation_months_after_baseline</th>\n",
       "      <th>pd_medication_start_months_after_baseline</th>\n",
       "      <th>use_of_pd_medication</th>\n",
       "      <th>pd_medication_recent_use_months_after_baseline</th>\n",
       "      <th>on_levodopa</th>\n",
       "      <th>on_dopamine_agonist</th>\n",
       "      <th>on_other_pd_medications</th>\n",
       "      <th>diagnosis_type</th>\n",
       "    </tr>\n",
       "  </thead>\n",
       "  <tbody>\n",
       "    <tr>\n",
       "      <th>0</th>\n",
       "      <td>BF-1001</td>\n",
       "      <td>PDNW781VHY</td>\n",
       "      <td>M0</td>\n",
       "      <td>0.0</td>\n",
       "      <td>No PD Nor Other Neurological Disorder</td>\n",
       "      <td>NaN</td>\n",
       "      <td>NaN</td>\n",
       "      <td>NaN</td>\n",
       "      <td>NaN</td>\n",
       "      <td>NaN</td>\n",
       "      <td>NaN</td>\n",
       "      <td>NaN</td>\n",
       "      <td>NaN</td>\n",
       "      <td>NaN</td>\n",
       "      <td>NaN</td>\n",
       "      <td>NaN</td>\n",
       "      <td>NaN</td>\n",
       "      <td>NaN</td>\n",
       "      <td>NaN</td>\n",
       "      <td>NaN</td>\n",
       "    </tr>\n",
       "    <tr>\n",
       "      <th>1</th>\n",
       "      <td>BF-1002</td>\n",
       "      <td>PDCB969UGG</td>\n",
       "      <td>LOG</td>\n",
       "      <td>NaN</td>\n",
       "      <td>NaN</td>\n",
       "      <td>NaN</td>\n",
       "      <td>NaN</td>\n",
       "      <td>NaN</td>\n",
       "      <td>NaN</td>\n",
       "      <td>NaN</td>\n",
       "      <td>NaN</td>\n",
       "      <td>NaN</td>\n",
       "      <td>NaN</td>\n",
       "      <td>-39.0</td>\n",
       "      <td>NaN</td>\n",
       "      <td>NaN</td>\n",
       "      <td>NaN</td>\n",
       "      <td>NaN</td>\n",
       "      <td>NaN</td>\n",
       "      <td>NaN</td>\n",
       "    </tr>\n",
       "    <tr>\n",
       "      <th>2</th>\n",
       "      <td>BF-1002</td>\n",
       "      <td>PDCB969UGG</td>\n",
       "      <td>M0</td>\n",
       "      <td>0.0</td>\n",
       "      <td>Idiopathic PD</td>\n",
       "      <td>NaN</td>\n",
       "      <td>NaN</td>\n",
       "      <td>NaN</td>\n",
       "      <td>NaN</td>\n",
       "      <td>NaN</td>\n",
       "      <td>-61.0</td>\n",
       "      <td>61.0</td>\n",
       "      <td>NaN</td>\n",
       "      <td>NaN</td>\n",
       "      <td>Yes</td>\n",
       "      <td>0.0</td>\n",
       "      <td>Yes</td>\n",
       "      <td>No</td>\n",
       "      <td>No</td>\n",
       "      <td>NaN</td>\n",
       "    </tr>\n",
       "    <tr>\n",
       "      <th>3</th>\n",
       "      <td>BF-1003</td>\n",
       "      <td>PDLW805AHT</td>\n",
       "      <td>LOG</td>\n",
       "      <td>NaN</td>\n",
       "      <td>NaN</td>\n",
       "      <td>NaN</td>\n",
       "      <td>NaN</td>\n",
       "      <td>NaN</td>\n",
       "      <td>NaN</td>\n",
       "      <td>NaN</td>\n",
       "      <td>NaN</td>\n",
       "      <td>NaN</td>\n",
       "      <td>NaN</td>\n",
       "      <td>-57.0</td>\n",
       "      <td>NaN</td>\n",
       "      <td>NaN</td>\n",
       "      <td>NaN</td>\n",
       "      <td>NaN</td>\n",
       "      <td>NaN</td>\n",
       "      <td>NaN</td>\n",
       "    </tr>\n",
       "    <tr>\n",
       "      <th>4</th>\n",
       "      <td>BF-1003</td>\n",
       "      <td>PDLW805AHT</td>\n",
       "      <td>M0</td>\n",
       "      <td>0.0</td>\n",
       "      <td>Idiopathic PD</td>\n",
       "      <td>NaN</td>\n",
       "      <td>NaN</td>\n",
       "      <td>NaN</td>\n",
       "      <td>NaN</td>\n",
       "      <td>NaN</td>\n",
       "      <td>-60.0</td>\n",
       "      <td>56.0</td>\n",
       "      <td>NaN</td>\n",
       "      <td>NaN</td>\n",
       "      <td>Yes</td>\n",
       "      <td>0.0</td>\n",
       "      <td>Yes</td>\n",
       "      <td>Yes</td>\n",
       "      <td>Yes</td>\n",
       "      <td>NaN</td>\n",
       "    </tr>\n",
       "    <tr>\n",
       "      <th>...</th>\n",
       "      <td>...</td>\n",
       "      <td>...</td>\n",
       "      <td>...</td>\n",
       "      <td>...</td>\n",
       "      <td>...</td>\n",
       "      <td>...</td>\n",
       "      <td>...</td>\n",
       "      <td>...</td>\n",
       "      <td>...</td>\n",
       "      <td>...</td>\n",
       "      <td>...</td>\n",
       "      <td>...</td>\n",
       "      <td>...</td>\n",
       "      <td>...</td>\n",
       "      <td>...</td>\n",
       "      <td>...</td>\n",
       "      <td>...</td>\n",
       "      <td>...</td>\n",
       "      <td>...</td>\n",
       "      <td>...</td>\n",
       "    </tr>\n",
       "    <tr>\n",
       "      <th>28722</th>\n",
       "      <td>SY-PDZZ260HUM</td>\n",
       "      <td>PDZZ260HUM</td>\n",
       "      <td>M18</td>\n",
       "      <td>18.0</td>\n",
       "      <td>NaN</td>\n",
       "      <td>NaN</td>\n",
       "      <td>NaN</td>\n",
       "      <td>NaN</td>\n",
       "      <td>NaN</td>\n",
       "      <td>NaN</td>\n",
       "      <td>NaN</td>\n",
       "      <td>NaN</td>\n",
       "      <td>NaN</td>\n",
       "      <td>NaN</td>\n",
       "      <td>NaN</td>\n",
       "      <td>NaN</td>\n",
       "      <td>Yes</td>\n",
       "      <td>NaN</td>\n",
       "      <td>Yes</td>\n",
       "      <td>NaN</td>\n",
       "    </tr>\n",
       "    <tr>\n",
       "      <th>28723</th>\n",
       "      <td>SY-PDZZ260HUM</td>\n",
       "      <td>PDZZ260HUM</td>\n",
       "      <td>M24</td>\n",
       "      <td>24.0</td>\n",
       "      <td>NaN</td>\n",
       "      <td>NaN</td>\n",
       "      <td>NaN</td>\n",
       "      <td>NaN</td>\n",
       "      <td>NaN</td>\n",
       "      <td>NaN</td>\n",
       "      <td>NaN</td>\n",
       "      <td>NaN</td>\n",
       "      <td>NaN</td>\n",
       "      <td>NaN</td>\n",
       "      <td>NaN</td>\n",
       "      <td>NaN</td>\n",
       "      <td>Yes</td>\n",
       "      <td>NaN</td>\n",
       "      <td>No</td>\n",
       "      <td>NaN</td>\n",
       "    </tr>\n",
       "    <tr>\n",
       "      <th>28724</th>\n",
       "      <td>SY-PDZZ260HUM</td>\n",
       "      <td>PDZZ260HUM</td>\n",
       "      <td>M36</td>\n",
       "      <td>36.0</td>\n",
       "      <td>Parkinson's Disease</td>\n",
       "      <td>NaN</td>\n",
       "      <td>NaN</td>\n",
       "      <td>NaN</td>\n",
       "      <td>NaN</td>\n",
       "      <td>NaN</td>\n",
       "      <td>NaN</td>\n",
       "      <td>NaN</td>\n",
       "      <td>NaN</td>\n",
       "      <td>NaN</td>\n",
       "      <td>NaN</td>\n",
       "      <td>NaN</td>\n",
       "      <td>NaN</td>\n",
       "      <td>NaN</td>\n",
       "      <td>NaN</td>\n",
       "      <td>NaN</td>\n",
       "    </tr>\n",
       "    <tr>\n",
       "      <th>28725</th>\n",
       "      <td>SY-PDZZ260HUM</td>\n",
       "      <td>PDZZ260HUM</td>\n",
       "      <td>M42</td>\n",
       "      <td>42.0</td>\n",
       "      <td>NaN</td>\n",
       "      <td>NaN</td>\n",
       "      <td>NaN</td>\n",
       "      <td>NaN</td>\n",
       "      <td>NaN</td>\n",
       "      <td>NaN</td>\n",
       "      <td>NaN</td>\n",
       "      <td>NaN</td>\n",
       "      <td>NaN</td>\n",
       "      <td>NaN</td>\n",
       "      <td>NaN</td>\n",
       "      <td>NaN</td>\n",
       "      <td>Yes</td>\n",
       "      <td>NaN</td>\n",
       "      <td>No</td>\n",
       "      <td>NaN</td>\n",
       "    </tr>\n",
       "    <tr>\n",
       "      <th>28726</th>\n",
       "      <td>SY-PDZZ260HUM</td>\n",
       "      <td>PDZZ260HUM</td>\n",
       "      <td>M6</td>\n",
       "      <td>6.0</td>\n",
       "      <td>NaN</td>\n",
       "      <td>NaN</td>\n",
       "      <td>NaN</td>\n",
       "      <td>NaN</td>\n",
       "      <td>NaN</td>\n",
       "      <td>NaN</td>\n",
       "      <td>NaN</td>\n",
       "      <td>NaN</td>\n",
       "      <td>NaN</td>\n",
       "      <td>NaN</td>\n",
       "      <td>NaN</td>\n",
       "      <td>NaN</td>\n",
       "      <td>No</td>\n",
       "      <td>NaN</td>\n",
       "      <td>No</td>\n",
       "      <td>NaN</td>\n",
       "    </tr>\n",
       "  </tbody>\n",
       "</table>\n",
       "<p>28727 rows × 20 columns</p>\n",
       "</div>"
      ],
      "text/plain": [
       "      participant_id        GUID visit_name  visit_month  \\\n",
       "0            BF-1001  PDNW781VHY         M0          0.0   \n",
       "1            BF-1002  PDCB969UGG        LOG          NaN   \n",
       "2            BF-1002  PDCB969UGG         M0          0.0   \n",
       "3            BF-1003  PDLW805AHT        LOG          NaN   \n",
       "4            BF-1003  PDLW805AHT         M0          0.0   \n",
       "...              ...         ...        ...          ...   \n",
       "28722  SY-PDZZ260HUM  PDZZ260HUM        M18         18.0   \n",
       "28723  SY-PDZZ260HUM  PDZZ260HUM        M24         24.0   \n",
       "28724  SY-PDZZ260HUM  PDZZ260HUM        M36         36.0   \n",
       "28725  SY-PDZZ260HUM  PDZZ260HUM        M42         42.0   \n",
       "28726  SY-PDZZ260HUM  PDZZ260HUM         M6          6.0   \n",
       "\n",
       "                                   diagnosis initial_diagnosis  \\\n",
       "0      No PD Nor Other Neurological Disorder               NaN   \n",
       "1                                        NaN               NaN   \n",
       "2                              Idiopathic PD               NaN   \n",
       "3                                        NaN               NaN   \n",
       "4                              Idiopathic PD               NaN   \n",
       "...                                      ...               ...   \n",
       "28722                                    NaN               NaN   \n",
       "28723                                    NaN               NaN   \n",
       "28724                    Parkinson's Disease               NaN   \n",
       "28725                                    NaN               NaN   \n",
       "28726                                    NaN               NaN   \n",
       "\n",
       "      most_recent_diagnosis change_in_diagnosis  \\\n",
       "0                       NaN                 NaN   \n",
       "1                       NaN                 NaN   \n",
       "2                       NaN                 NaN   \n",
       "3                       NaN                 NaN   \n",
       "4                       NaN                 NaN   \n",
       "...                     ...                 ...   \n",
       "28722                   NaN                 NaN   \n",
       "28723                   NaN                 NaN   \n",
       "28724                   NaN                 NaN   \n",
       "28725                   NaN                 NaN   \n",
       "28726                   NaN                 NaN   \n",
       "\n",
       "       change_in_diagnosis_months_after_baseline  \\\n",
       "0                                            NaN   \n",
       "1                                            NaN   \n",
       "2                                            NaN   \n",
       "3                                            NaN   \n",
       "4                                            NaN   \n",
       "...                                          ...   \n",
       "28722                                        NaN   \n",
       "28723                                        NaN   \n",
       "28724                                        NaN   \n",
       "28725                                        NaN   \n",
       "28726                                        NaN   \n",
       "\n",
       "      surgery_for_parkinson_disease  pd_diagnosis_months_after_baseline  \\\n",
       "0                               NaN                                 NaN   \n",
       "1                               NaN                                 NaN   \n",
       "2                               NaN                               -61.0   \n",
       "3                               NaN                                 NaN   \n",
       "4                               NaN                               -60.0   \n",
       "...                             ...                                 ...   \n",
       "28722                           NaN                                 NaN   \n",
       "28723                           NaN                                 NaN   \n",
       "28724                           NaN                                 NaN   \n",
       "28725                           NaN                                 NaN   \n",
       "28726                           NaN                                 NaN   \n",
       "\n",
       "       age_at_diagnosis  pd_medication_initiation_months_after_baseline  \\\n",
       "0                   NaN                                             NaN   \n",
       "1                   NaN                                             NaN   \n",
       "2                  61.0                                             NaN   \n",
       "3                   NaN                                             NaN   \n",
       "4                  56.0                                             NaN   \n",
       "...                 ...                                             ...   \n",
       "28722               NaN                                             NaN   \n",
       "28723               NaN                                             NaN   \n",
       "28724               NaN                                             NaN   \n",
       "28725               NaN                                             NaN   \n",
       "28726               NaN                                             NaN   \n",
       "\n",
       "       pd_medication_start_months_after_baseline use_of_pd_medication  \\\n",
       "0                                            NaN                  NaN   \n",
       "1                                          -39.0                  NaN   \n",
       "2                                            NaN                  Yes   \n",
       "3                                          -57.0                  NaN   \n",
       "4                                            NaN                  Yes   \n",
       "...                                          ...                  ...   \n",
       "28722                                        NaN                  NaN   \n",
       "28723                                        NaN                  NaN   \n",
       "28724                                        NaN                  NaN   \n",
       "28725                                        NaN                  NaN   \n",
       "28726                                        NaN                  NaN   \n",
       "\n",
       "       pd_medication_recent_use_months_after_baseline on_levodopa  \\\n",
       "0                                                 NaN         NaN   \n",
       "1                                                 NaN         NaN   \n",
       "2                                                 0.0         Yes   \n",
       "3                                                 NaN         NaN   \n",
       "4                                                 0.0         Yes   \n",
       "...                                               ...         ...   \n",
       "28722                                             NaN         Yes   \n",
       "28723                                             NaN         Yes   \n",
       "28724                                             NaN         NaN   \n",
       "28725                                             NaN         Yes   \n",
       "28726                                             NaN          No   \n",
       "\n",
       "      on_dopamine_agonist on_other_pd_medications diagnosis_type  \n",
       "0                     NaN                     NaN            NaN  \n",
       "1                     NaN                     NaN            NaN  \n",
       "2                      No                      No            NaN  \n",
       "3                     NaN                     NaN            NaN  \n",
       "4                     Yes                     Yes            NaN  \n",
       "...                   ...                     ...            ...  \n",
       "28722                 NaN                     Yes            NaN  \n",
       "28723                 NaN                      No            NaN  \n",
       "28724                 NaN                     NaN            NaN  \n",
       "28725                 NaN                      No            NaN  \n",
       "28726                 NaN                      No            NaN  \n",
       "\n",
       "[28727 rows x 20 columns]"
      ]
     },
     "execution_count": 184,
     "metadata": {},
     "output_type": "execute_result"
    }
   ],
   "source": [
    "medical_history"
   ]
  },
  {
   "cell_type": "code",
   "execution_count": 185,
   "metadata": {},
   "outputs": [],
   "source": [
    "#Keep baseline visit with visit_name==\"M0\"\n",
    "moca_m0 = moca[moca.visit_name==\"M0\"]\n",
    "medical_history_m0 = medical_history[medical_history.visit_name==\"M0\"]\n",
    "demographics_m0 = demographics[(demographics.visit_month==0) | (demographics.visit_month==-1)]"
   ]
  },
  {
   "cell_type": "code",
   "execution_count": 186,
   "metadata": {},
   "outputs": [
    {
     "data": {
      "text/plain": [
       "Index(['participant_id', 'GUID', 'visit_name', 'visit_month',\n",
       "       'age_at_baseline', 'sex', 'ethnicity', 'race', 'education_level_years'],\n",
       "      dtype='object')"
      ]
     },
     "execution_count": 186,
     "metadata": {},
     "output_type": "execute_result"
    }
   ],
   "source": [
    "demographics_m0.columns"
   ]
  },
  {
   "cell_type": "code",
   "execution_count": 187,
   "metadata": {},
   "outputs": [
    {
     "data": {
      "text/plain": [
       "(10773, 9)"
      ]
     },
     "execution_count": 187,
     "metadata": {},
     "output_type": "execute_result"
    }
   ],
   "source": [
    "demographics_m0.shape"
   ]
  },
  {
   "cell_type": "code",
   "execution_count": 188,
   "metadata": {},
   "outputs": [],
   "source": [
    "#Keep the columns that we are interested in from the original datasets\n",
    "moca_m0 = moca_m0[[\"participant_id\", \"GUID\", \"visit_name\",\"visit_month\",\"moca_total_score\"]]\n",
    "medical_history_m0 = medical_history_m0[[\"participant_id\",\"GUID\",\"visit_name\",\"visit_month\",\"diagnosis\",\"initial_diagnosis\",\"most_recent_diagnosis\",\"age_at_diagnosis\"]]"
   ]
  },
  {
   "cell_type": "code",
   "execution_count": 189,
   "metadata": {},
   "outputs": [
    {
     "data": {
      "text/html": [
       "<div>\n",
       "<style scoped>\n",
       "    .dataframe tbody tr th:only-of-type {\n",
       "        vertical-align: middle;\n",
       "    }\n",
       "\n",
       "    .dataframe tbody tr th {\n",
       "        vertical-align: top;\n",
       "    }\n",
       "\n",
       "    .dataframe thead th {\n",
       "        text-align: right;\n",
       "    }\n",
       "</style>\n",
       "<table border=\"1\" class=\"dataframe\">\n",
       "  <thead>\n",
       "    <tr style=\"text-align: right;\">\n",
       "      <th></th>\n",
       "      <th>participant_id</th>\n",
       "      <th>diagnosis_at_baseline</th>\n",
       "      <th>diagnosis_latest</th>\n",
       "      <th>case_control_other_at_baseline</th>\n",
       "      <th>case_control_other_latest</th>\n",
       "    </tr>\n",
       "  </thead>\n",
       "  <tbody>\n",
       "    <tr>\n",
       "      <th>0</th>\n",
       "      <td>BF-1018</td>\n",
       "      <td>Essential Tremor</td>\n",
       "      <td>Essential Tremor</td>\n",
       "      <td>Other</td>\n",
       "      <td>Other</td>\n",
       "    </tr>\n",
       "    <tr>\n",
       "      <th>1</th>\n",
       "      <td>BF-1050</td>\n",
       "      <td>Other Neurological Disorder(s)</td>\n",
       "      <td>Other Neurological Disorder(s)</td>\n",
       "      <td>Other</td>\n",
       "      <td>Other</td>\n",
       "    </tr>\n",
       "    <tr>\n",
       "      <th>2</th>\n",
       "      <td>BF-1074</td>\n",
       "      <td>Other Neurological Disorder(s)</td>\n",
       "      <td>Other Neurological Disorder(s)</td>\n",
       "      <td>Other</td>\n",
       "      <td>Other</td>\n",
       "    </tr>\n",
       "    <tr>\n",
       "      <th>3</th>\n",
       "      <td>BF-1181</td>\n",
       "      <td>Other Neurological Disorder(s)</td>\n",
       "      <td>Other Neurological Disorder(s)</td>\n",
       "      <td>Other</td>\n",
       "      <td>Other</td>\n",
       "    </tr>\n",
       "    <tr>\n",
       "      <th>4</th>\n",
       "      <td>BF-1215</td>\n",
       "      <td>Essential Tremor</td>\n",
       "      <td>Essential Tremor</td>\n",
       "      <td>Other</td>\n",
       "      <td>Other</td>\n",
       "    </tr>\n",
       "    <tr>\n",
       "      <th>...</th>\n",
       "      <td>...</td>\n",
       "      <td>...</td>\n",
       "      <td>...</td>\n",
       "      <td>...</td>\n",
       "      <td>...</td>\n",
       "    </tr>\n",
       "    <tr>\n",
       "      <th>10767</th>\n",
       "      <td>PP-75512</td>\n",
       "      <td>No PD Nor Other Neurological Disorder</td>\n",
       "      <td>No PD Nor Other Neurological Disorder</td>\n",
       "      <td>Control</td>\n",
       "      <td>Control</td>\n",
       "    </tr>\n",
       "    <tr>\n",
       "      <th>10768</th>\n",
       "      <td>PP-75520</td>\n",
       "      <td>No PD Nor Other Neurological Disorder</td>\n",
       "      <td>No PD Nor Other Neurological Disorder</td>\n",
       "      <td>Control</td>\n",
       "      <td>Control</td>\n",
       "    </tr>\n",
       "    <tr>\n",
       "      <th>10769</th>\n",
       "      <td>PP-75547</td>\n",
       "      <td>No PD Nor Other Neurological Disorder</td>\n",
       "      <td>No PD Nor Other Neurological Disorder</td>\n",
       "      <td>Control</td>\n",
       "      <td>Control</td>\n",
       "    </tr>\n",
       "    <tr>\n",
       "      <th>10770</th>\n",
       "      <td>PP-75550</td>\n",
       "      <td>No PD Nor Other Neurological Disorder</td>\n",
       "      <td>No PD Nor Other Neurological Disorder</td>\n",
       "      <td>Control</td>\n",
       "      <td>Control</td>\n",
       "    </tr>\n",
       "    <tr>\n",
       "      <th>10771</th>\n",
       "      <td>PP-92834</td>\n",
       "      <td>Prodromal non-motor PD</td>\n",
       "      <td>No PD Nor Other Neurological Disorder</td>\n",
       "      <td>Other</td>\n",
       "      <td>Control</td>\n",
       "    </tr>\n",
       "  </tbody>\n",
       "</table>\n",
       "<p>10772 rows × 5 columns</p>\n",
       "</div>"
      ],
      "text/plain": [
       "      participant_id                  diagnosis_at_baseline  \\\n",
       "0            BF-1018                       Essential Tremor   \n",
       "1            BF-1050         Other Neurological Disorder(s)   \n",
       "2            BF-1074         Other Neurological Disorder(s)   \n",
       "3            BF-1181         Other Neurological Disorder(s)   \n",
       "4            BF-1215                       Essential Tremor   \n",
       "...              ...                                    ...   \n",
       "10767       PP-75512  No PD Nor Other Neurological Disorder   \n",
       "10768       PP-75520  No PD Nor Other Neurological Disorder   \n",
       "10769       PP-75547  No PD Nor Other Neurological Disorder   \n",
       "10770       PP-75550  No PD Nor Other Neurological Disorder   \n",
       "10771       PP-92834                 Prodromal non-motor PD   \n",
       "\n",
       "                            diagnosis_latest case_control_other_at_baseline  \\\n",
       "0                           Essential Tremor                          Other   \n",
       "1             Other Neurological Disorder(s)                          Other   \n",
       "2             Other Neurological Disorder(s)                          Other   \n",
       "3             Other Neurological Disorder(s)                          Other   \n",
       "4                           Essential Tremor                          Other   \n",
       "...                                      ...                            ...   \n",
       "10767  No PD Nor Other Neurological Disorder                        Control   \n",
       "10768  No PD Nor Other Neurological Disorder                        Control   \n",
       "10769  No PD Nor Other Neurological Disorder                        Control   \n",
       "10770  No PD Nor Other Neurological Disorder                        Control   \n",
       "10771  No PD Nor Other Neurological Disorder                          Other   \n",
       "\n",
       "      case_control_other_latest  \n",
       "0                         Other  \n",
       "1                         Other  \n",
       "2                         Other  \n",
       "3                         Other  \n",
       "4                         Other  \n",
       "...                         ...  \n",
       "10767                   Control  \n",
       "10768                   Control  \n",
       "10769                   Control  \n",
       "10770                   Control  \n",
       "10771                   Control  \n",
       "\n",
       "[10772 rows x 5 columns]"
      ]
     },
     "execution_count": 189,
     "metadata": {},
     "output_type": "execute_result"
    }
   ],
   "source": [
    "case_control"
   ]
  },
  {
   "cell_type": "code",
   "execution_count": 190,
   "metadata": {},
   "outputs": [
    {
     "data": {
      "text/plain": [
       "Control    4312\n",
       "Case       3527\n",
       "Name: case_control_other_latest, dtype: int64"
      ]
     },
     "execution_count": 190,
     "metadata": {},
     "output_type": "execute_result"
    }
   ],
   "source": [
    "#Keep only those Case and Controls from the case_control_other_latest column.\n",
    "case_control_PD_HC_M0_latest = case_control.loc[(case_control.case_control_other_latest==\"Case\") | (case_control.case_control_other_latest==\"Control\")]\n",
    "case_control_PD_HC_M0_latest.case_control_other_latest.value_counts()"
   ]
  },
  {
   "cell_type": "code",
   "execution_count": 191,
   "metadata": {},
   "outputs": [
    {
     "data": {
      "text/html": [
       "<div>\n",
       "<style scoped>\n",
       "    .dataframe tbody tr th:only-of-type {\n",
       "        vertical-align: middle;\n",
       "    }\n",
       "\n",
       "    .dataframe tbody tr th {\n",
       "        vertical-align: top;\n",
       "    }\n",
       "\n",
       "    .dataframe thead th {\n",
       "        text-align: right;\n",
       "    }\n",
       "</style>\n",
       "<table border=\"1\" class=\"dataframe\">\n",
       "  <thead>\n",
       "    <tr style=\"text-align: right;\">\n",
       "      <th></th>\n",
       "      <th>participant_id</th>\n",
       "      <th>diagnosis_at_baseline</th>\n",
       "      <th>diagnosis_latest</th>\n",
       "      <th>case_control_other_at_baseline</th>\n",
       "      <th>case_control_other_latest</th>\n",
       "    </tr>\n",
       "  </thead>\n",
       "  <tbody>\n",
       "    <tr>\n",
       "      <th>2801</th>\n",
       "      <td>BF-1002</td>\n",
       "      <td>Idiopathic PD</td>\n",
       "      <td>Idiopathic PD</td>\n",
       "      <td>Case</td>\n",
       "      <td>Case</td>\n",
       "    </tr>\n",
       "    <tr>\n",
       "      <th>2802</th>\n",
       "      <td>BF-1003</td>\n",
       "      <td>Idiopathic PD</td>\n",
       "      <td>Idiopathic PD</td>\n",
       "      <td>Case</td>\n",
       "      <td>Case</td>\n",
       "    </tr>\n",
       "    <tr>\n",
       "      <th>2803</th>\n",
       "      <td>BF-1004</td>\n",
       "      <td>Idiopathic PD</td>\n",
       "      <td>Idiopathic PD</td>\n",
       "      <td>Case</td>\n",
       "      <td>Case</td>\n",
       "    </tr>\n",
       "    <tr>\n",
       "      <th>2804</th>\n",
       "      <td>BF-1006</td>\n",
       "      <td>Idiopathic PD</td>\n",
       "      <td>Idiopathic PD</td>\n",
       "      <td>Case</td>\n",
       "      <td>Case</td>\n",
       "    </tr>\n",
       "    <tr>\n",
       "      <th>2805</th>\n",
       "      <td>BF-1008</td>\n",
       "      <td>Idiopathic PD</td>\n",
       "      <td>Idiopathic PD</td>\n",
       "      <td>Case</td>\n",
       "      <td>Case</td>\n",
       "    </tr>\n",
       "    <tr>\n",
       "      <th>...</th>\n",
       "      <td>...</td>\n",
       "      <td>...</td>\n",
       "      <td>...</td>\n",
       "      <td>...</td>\n",
       "      <td>...</td>\n",
       "    </tr>\n",
       "    <tr>\n",
       "      <th>10767</th>\n",
       "      <td>PP-75512</td>\n",
       "      <td>No PD Nor Other Neurological Disorder</td>\n",
       "      <td>No PD Nor Other Neurological Disorder</td>\n",
       "      <td>Control</td>\n",
       "      <td>Control</td>\n",
       "    </tr>\n",
       "    <tr>\n",
       "      <th>10768</th>\n",
       "      <td>PP-75520</td>\n",
       "      <td>No PD Nor Other Neurological Disorder</td>\n",
       "      <td>No PD Nor Other Neurological Disorder</td>\n",
       "      <td>Control</td>\n",
       "      <td>Control</td>\n",
       "    </tr>\n",
       "    <tr>\n",
       "      <th>10769</th>\n",
       "      <td>PP-75547</td>\n",
       "      <td>No PD Nor Other Neurological Disorder</td>\n",
       "      <td>No PD Nor Other Neurological Disorder</td>\n",
       "      <td>Control</td>\n",
       "      <td>Control</td>\n",
       "    </tr>\n",
       "    <tr>\n",
       "      <th>10770</th>\n",
       "      <td>PP-75550</td>\n",
       "      <td>No PD Nor Other Neurological Disorder</td>\n",
       "      <td>No PD Nor Other Neurological Disorder</td>\n",
       "      <td>Control</td>\n",
       "      <td>Control</td>\n",
       "    </tr>\n",
       "    <tr>\n",
       "      <th>10771</th>\n",
       "      <td>PP-92834</td>\n",
       "      <td>Prodromal non-motor PD</td>\n",
       "      <td>No PD Nor Other Neurological Disorder</td>\n",
       "      <td>Other</td>\n",
       "      <td>Control</td>\n",
       "    </tr>\n",
       "  </tbody>\n",
       "</table>\n",
       "<p>7839 rows × 5 columns</p>\n",
       "</div>"
      ],
      "text/plain": [
       "      participant_id                  diagnosis_at_baseline  \\\n",
       "2801         BF-1002                          Idiopathic PD   \n",
       "2802         BF-1003                          Idiopathic PD   \n",
       "2803         BF-1004                          Idiopathic PD   \n",
       "2804         BF-1006                          Idiopathic PD   \n",
       "2805         BF-1008                          Idiopathic PD   \n",
       "...              ...                                    ...   \n",
       "10767       PP-75512  No PD Nor Other Neurological Disorder   \n",
       "10768       PP-75520  No PD Nor Other Neurological Disorder   \n",
       "10769       PP-75547  No PD Nor Other Neurological Disorder   \n",
       "10770       PP-75550  No PD Nor Other Neurological Disorder   \n",
       "10771       PP-92834                 Prodromal non-motor PD   \n",
       "\n",
       "                            diagnosis_latest case_control_other_at_baseline  \\\n",
       "2801                           Idiopathic PD                           Case   \n",
       "2802                           Idiopathic PD                           Case   \n",
       "2803                           Idiopathic PD                           Case   \n",
       "2804                           Idiopathic PD                           Case   \n",
       "2805                           Idiopathic PD                           Case   \n",
       "...                                      ...                            ...   \n",
       "10767  No PD Nor Other Neurological Disorder                        Control   \n",
       "10768  No PD Nor Other Neurological Disorder                        Control   \n",
       "10769  No PD Nor Other Neurological Disorder                        Control   \n",
       "10770  No PD Nor Other Neurological Disorder                        Control   \n",
       "10771  No PD Nor Other Neurological Disorder                          Other   \n",
       "\n",
       "      case_control_other_latest  \n",
       "2801                       Case  \n",
       "2802                       Case  \n",
       "2803                       Case  \n",
       "2804                       Case  \n",
       "2805                       Case  \n",
       "...                         ...  \n",
       "10767                   Control  \n",
       "10768                   Control  \n",
       "10769                   Control  \n",
       "10770                   Control  \n",
       "10771                   Control  \n",
       "\n",
       "[7839 rows x 5 columns]"
      ]
     },
     "execution_count": 191,
     "metadata": {},
     "output_type": "execute_result"
    }
   ],
   "source": [
    "case_control_PD_HC_M0_latest"
   ]
  },
  {
   "cell_type": "markdown",
   "metadata": {},
   "source": [
    "### MERGE DATASETS AT VISIT 0"
   ]
  },
  {
   "cell_type": "code",
   "execution_count": 192,
   "metadata": {},
   "outputs": [],
   "source": [
    "#Merge all the different datasets on participant_id with how=\"outer\" especified to keep all the participants_id. Not only those that are in common between the datasets (this would be the default option)\n",
    "\n",
    "moca_medicalhistory = pd.merge(moca_m0,medical_history_m0,on=\"participant_id\",how=\"outer\")\n",
    "moca_medicalhistory_demographics = pd.merge(moca_medicalhistory,demographics_m0,on=\"participant_id\",how=\"outer\")\n",
    "clinical_data = pd.merge(moca_medicalhistory_demographics,case_control_PD_HC_M0_latest,on=\"participant_id\",how=\"outer\")"
   ]
  },
  {
   "cell_type": "code",
   "execution_count": 193,
   "metadata": {},
   "outputs": [
    {
     "data": {
      "text/plain": [
       "participant_id                    10782\n",
       "GUID_x                             2387\n",
       "visit_name_x                       3362\n",
       "visit_month_x                      3362\n",
       "moca_total_score                   3361\n",
       "GUID_y                             3611\n",
       "visit_name_y                       9639\n",
       "visit_month_y                      9639\n",
       "diagnosis                          9639\n",
       "initial_diagnosis                    16\n",
       "most_recent_diagnosis                13\n",
       "age_at_diagnosis                   2345\n",
       "GUID                               3612\n",
       "visit_name                        10782\n",
       "visit_month                       10782\n",
       "age_at_baseline                   10782\n",
       "sex                               10782\n",
       "ethnicity                          6177\n",
       "race                              10763\n",
       "education_level_years              6196\n",
       "diagnosis_at_baseline              7849\n",
       "diagnosis_latest                   7849\n",
       "case_control_other_at_baseline     7849\n",
       "case_control_other_latest          7849\n",
       "dtype: int64"
      ]
     },
     "execution_count": 193,
     "metadata": {},
     "output_type": "execute_result"
    }
   ],
   "source": [
    "clinical_data.count()"
   ]
  },
  {
   "cell_type": "code",
   "execution_count": 194,
   "metadata": {},
   "outputs": [],
   "source": [
    "clinical_data['age_at_baseline'] = clinical_data['age_at_baseline'].astype(float)"
   ]
  },
  {
   "cell_type": "code",
   "execution_count": 195,
   "metadata": {},
   "outputs": [],
   "source": [
    "#Create new variable age_at_diagnosis - age_at_baseline and add it as a covariate\n",
    "clinical_data['disease_duration'] = clinical_data['age_at_baseline'] - clinical_data['age_at_diagnosis'] "
   ]
  },
  {
   "cell_type": "code",
   "execution_count": 196,
   "metadata": {},
   "outputs": [
    {
     "data": {
      "text/html": [
       "<div>\n",
       "<style scoped>\n",
       "    .dataframe tbody tr th:only-of-type {\n",
       "        vertical-align: middle;\n",
       "    }\n",
       "\n",
       "    .dataframe tbody tr th {\n",
       "        vertical-align: top;\n",
       "    }\n",
       "\n",
       "    .dataframe thead th {\n",
       "        text-align: right;\n",
       "    }\n",
       "</style>\n",
       "<table border=\"1\" class=\"dataframe\">\n",
       "  <thead>\n",
       "    <tr style=\"text-align: right;\">\n",
       "      <th></th>\n",
       "      <th>participant_id</th>\n",
       "      <th>GUID_x</th>\n",
       "      <th>visit_name_x</th>\n",
       "      <th>visit_month_x</th>\n",
       "      <th>moca_total_score</th>\n",
       "      <th>GUID_y</th>\n",
       "      <th>visit_name_y</th>\n",
       "      <th>visit_month_y</th>\n",
       "      <th>diagnosis</th>\n",
       "      <th>initial_diagnosis</th>\n",
       "      <th>...</th>\n",
       "      <th>age_at_baseline</th>\n",
       "      <th>sex</th>\n",
       "      <th>ethnicity</th>\n",
       "      <th>race</th>\n",
       "      <th>education_level_years</th>\n",
       "      <th>diagnosis_at_baseline</th>\n",
       "      <th>diagnosis_latest</th>\n",
       "      <th>case_control_other_at_baseline</th>\n",
       "      <th>case_control_other_latest</th>\n",
       "      <th>disease_duration</th>\n",
       "    </tr>\n",
       "  </thead>\n",
       "  <tbody>\n",
       "    <tr>\n",
       "      <th>0</th>\n",
       "      <td>BF-1001</td>\n",
       "      <td>PDNW781VHY</td>\n",
       "      <td>M0</td>\n",
       "      <td>0.0</td>\n",
       "      <td>28.0</td>\n",
       "      <td>PDNW781VHY</td>\n",
       "      <td>M0</td>\n",
       "      <td>0.0</td>\n",
       "      <td>No PD Nor Other Neurological Disorder</td>\n",
       "      <td>NaN</td>\n",
       "      <td>...</td>\n",
       "      <td>55.0</td>\n",
       "      <td>Male</td>\n",
       "      <td>Not Hispanic or Latino</td>\n",
       "      <td>White</td>\n",
       "      <td>12-16 years</td>\n",
       "      <td>No PD Nor Other Neurological Disorder</td>\n",
       "      <td>No PD Nor Other Neurological Disorder</td>\n",
       "      <td>Control</td>\n",
       "      <td>Control</td>\n",
       "      <td>NaN</td>\n",
       "    </tr>\n",
       "    <tr>\n",
       "      <th>1</th>\n",
       "      <td>BF-1002</td>\n",
       "      <td>PDCB969UGG</td>\n",
       "      <td>M0</td>\n",
       "      <td>0.0</td>\n",
       "      <td>29.0</td>\n",
       "      <td>PDCB969UGG</td>\n",
       "      <td>M0</td>\n",
       "      <td>0.0</td>\n",
       "      <td>Idiopathic PD</td>\n",
       "      <td>NaN</td>\n",
       "      <td>...</td>\n",
       "      <td>66.0</td>\n",
       "      <td>Female</td>\n",
       "      <td>Not Hispanic or Latino</td>\n",
       "      <td>White</td>\n",
       "      <td>12-16 years</td>\n",
       "      <td>Idiopathic PD</td>\n",
       "      <td>Idiopathic PD</td>\n",
       "      <td>Case</td>\n",
       "      <td>Case</td>\n",
       "      <td>5.0</td>\n",
       "    </tr>\n",
       "    <tr>\n",
       "      <th>2</th>\n",
       "      <td>BF-1003</td>\n",
       "      <td>PDLW805AHT</td>\n",
       "      <td>M0</td>\n",
       "      <td>0.0</td>\n",
       "      <td>30.0</td>\n",
       "      <td>PDLW805AHT</td>\n",
       "      <td>M0</td>\n",
       "      <td>0.0</td>\n",
       "      <td>Idiopathic PD</td>\n",
       "      <td>NaN</td>\n",
       "      <td>...</td>\n",
       "      <td>61.0</td>\n",
       "      <td>Male</td>\n",
       "      <td>Not Hispanic or Latino</td>\n",
       "      <td>White</td>\n",
       "      <td>12-16 years</td>\n",
       "      <td>Idiopathic PD</td>\n",
       "      <td>Idiopathic PD</td>\n",
       "      <td>Case</td>\n",
       "      <td>Case</td>\n",
       "      <td>5.0</td>\n",
       "    </tr>\n",
       "    <tr>\n",
       "      <th>3</th>\n",
       "      <td>BF-1004</td>\n",
       "      <td>PDKW284DYW</td>\n",
       "      <td>M0</td>\n",
       "      <td>0.0</td>\n",
       "      <td>28.0</td>\n",
       "      <td>PDKW284DYW</td>\n",
       "      <td>M0</td>\n",
       "      <td>0.0</td>\n",
       "      <td>Idiopathic PD</td>\n",
       "      <td>NaN</td>\n",
       "      <td>...</td>\n",
       "      <td>62.0</td>\n",
       "      <td>Male</td>\n",
       "      <td>Not Hispanic or Latino</td>\n",
       "      <td>White</td>\n",
       "      <td>12-16 years</td>\n",
       "      <td>Idiopathic PD</td>\n",
       "      <td>Idiopathic PD</td>\n",
       "      <td>Case</td>\n",
       "      <td>Case</td>\n",
       "      <td>7.0</td>\n",
       "    </tr>\n",
       "    <tr>\n",
       "      <th>4</th>\n",
       "      <td>BF-1005</td>\n",
       "      <td>PDTM274KX6</td>\n",
       "      <td>M0</td>\n",
       "      <td>0.0</td>\n",
       "      <td>27.0</td>\n",
       "      <td>PDTM274KX6</td>\n",
       "      <td>M0</td>\n",
       "      <td>0.0</td>\n",
       "      <td>No PD Nor Other Neurological Disorder</td>\n",
       "      <td>NaN</td>\n",
       "      <td>...</td>\n",
       "      <td>61.0</td>\n",
       "      <td>Female</td>\n",
       "      <td>Not Hispanic or Latino</td>\n",
       "      <td>White</td>\n",
       "      <td>12-16 years</td>\n",
       "      <td>No PD Nor Other Neurological Disorder</td>\n",
       "      <td>No PD Nor Other Neurological Disorder</td>\n",
       "      <td>Control</td>\n",
       "      <td>Control</td>\n",
       "      <td>NaN</td>\n",
       "    </tr>\n",
       "    <tr>\n",
       "      <th>...</th>\n",
       "      <td>...</td>\n",
       "      <td>...</td>\n",
       "      <td>...</td>\n",
       "      <td>...</td>\n",
       "      <td>...</td>\n",
       "      <td>...</td>\n",
       "      <td>...</td>\n",
       "      <td>...</td>\n",
       "      <td>...</td>\n",
       "      <td>...</td>\n",
       "      <td>...</td>\n",
       "      <td>...</td>\n",
       "      <td>...</td>\n",
       "      <td>...</td>\n",
       "      <td>...</td>\n",
       "      <td>...</td>\n",
       "      <td>...</td>\n",
       "      <td>...</td>\n",
       "      <td>...</td>\n",
       "      <td>...</td>\n",
       "      <td>...</td>\n",
       "    </tr>\n",
       "    <tr>\n",
       "      <th>10777</th>\n",
       "      <td>PP-75537</td>\n",
       "      <td>NaN</td>\n",
       "      <td>NaN</td>\n",
       "      <td>NaN</td>\n",
       "      <td>NaN</td>\n",
       "      <td>NaN</td>\n",
       "      <td>NaN</td>\n",
       "      <td>NaN</td>\n",
       "      <td>NaN</td>\n",
       "      <td>NaN</td>\n",
       "      <td>...</td>\n",
       "      <td>37.0</td>\n",
       "      <td>Female</td>\n",
       "      <td>Not Hispanic or Latino</td>\n",
       "      <td>White</td>\n",
       "      <td>12-16 years</td>\n",
       "      <td>Idiopathic PD</td>\n",
       "      <td>Idiopathic PD</td>\n",
       "      <td>Case</td>\n",
       "      <td>Case</td>\n",
       "      <td>NaN</td>\n",
       "    </tr>\n",
       "    <tr>\n",
       "      <th>10778</th>\n",
       "      <td>PP-75547</td>\n",
       "      <td>NaN</td>\n",
       "      <td>NaN</td>\n",
       "      <td>NaN</td>\n",
       "      <td>NaN</td>\n",
       "      <td>NaN</td>\n",
       "      <td>NaN</td>\n",
       "      <td>NaN</td>\n",
       "      <td>NaN</td>\n",
       "      <td>NaN</td>\n",
       "      <td>...</td>\n",
       "      <td>52.0</td>\n",
       "      <td>Male</td>\n",
       "      <td>Not Hispanic or Latino</td>\n",
       "      <td>White</td>\n",
       "      <td>Greater than 16 years</td>\n",
       "      <td>No PD Nor Other Neurological Disorder</td>\n",
       "      <td>No PD Nor Other Neurological Disorder</td>\n",
       "      <td>Control</td>\n",
       "      <td>Control</td>\n",
       "      <td>NaN</td>\n",
       "    </tr>\n",
       "    <tr>\n",
       "      <th>10779</th>\n",
       "      <td>PP-75550</td>\n",
       "      <td>NaN</td>\n",
       "      <td>NaN</td>\n",
       "      <td>NaN</td>\n",
       "      <td>NaN</td>\n",
       "      <td>NaN</td>\n",
       "      <td>NaN</td>\n",
       "      <td>NaN</td>\n",
       "      <td>NaN</td>\n",
       "      <td>NaN</td>\n",
       "      <td>...</td>\n",
       "      <td>69.0</td>\n",
       "      <td>Male</td>\n",
       "      <td>Not Hispanic or Latino</td>\n",
       "      <td>White</td>\n",
       "      <td>Greater than 16 years</td>\n",
       "      <td>No PD Nor Other Neurological Disorder</td>\n",
       "      <td>No PD Nor Other Neurological Disorder</td>\n",
       "      <td>Control</td>\n",
       "      <td>Control</td>\n",
       "      <td>NaN</td>\n",
       "    </tr>\n",
       "    <tr>\n",
       "      <th>10780</th>\n",
       "      <td>PP-75564</td>\n",
       "      <td>NaN</td>\n",
       "      <td>NaN</td>\n",
       "      <td>NaN</td>\n",
       "      <td>NaN</td>\n",
       "      <td>NaN</td>\n",
       "      <td>NaN</td>\n",
       "      <td>NaN</td>\n",
       "      <td>NaN</td>\n",
       "      <td>NaN</td>\n",
       "      <td>...</td>\n",
       "      <td>77.0</td>\n",
       "      <td>Female</td>\n",
       "      <td>Not Hispanic or Latino</td>\n",
       "      <td>White</td>\n",
       "      <td>12-16 years</td>\n",
       "      <td>Prodromal motor PD</td>\n",
       "      <td>Idiopathic PD</td>\n",
       "      <td>Other</td>\n",
       "      <td>Case</td>\n",
       "      <td>NaN</td>\n",
       "    </tr>\n",
       "    <tr>\n",
       "      <th>10781</th>\n",
       "      <td>PP-75565</td>\n",
       "      <td>NaN</td>\n",
       "      <td>NaN</td>\n",
       "      <td>NaN</td>\n",
       "      <td>NaN</td>\n",
       "      <td>NaN</td>\n",
       "      <td>NaN</td>\n",
       "      <td>NaN</td>\n",
       "      <td>NaN</td>\n",
       "      <td>NaN</td>\n",
       "      <td>...</td>\n",
       "      <td>65.0</td>\n",
       "      <td>Male</td>\n",
       "      <td>Not Hispanic or Latino</td>\n",
       "      <td>White</td>\n",
       "      <td>Greater than 16 years</td>\n",
       "      <td>NaN</td>\n",
       "      <td>NaN</td>\n",
       "      <td>NaN</td>\n",
       "      <td>NaN</td>\n",
       "      <td>NaN</td>\n",
       "    </tr>\n",
       "  </tbody>\n",
       "</table>\n",
       "<p>10782 rows × 25 columns</p>\n",
       "</div>"
      ],
      "text/plain": [
       "      participant_id      GUID_x visit_name_x  visit_month_x  \\\n",
       "0            BF-1001  PDNW781VHY           M0            0.0   \n",
       "1            BF-1002  PDCB969UGG           M0            0.0   \n",
       "2            BF-1003  PDLW805AHT           M0            0.0   \n",
       "3            BF-1004  PDKW284DYW           M0            0.0   \n",
       "4            BF-1005  PDTM274KX6           M0            0.0   \n",
       "...              ...         ...          ...            ...   \n",
       "10777       PP-75537         NaN          NaN            NaN   \n",
       "10778       PP-75547         NaN          NaN            NaN   \n",
       "10779       PP-75550         NaN          NaN            NaN   \n",
       "10780       PP-75564         NaN          NaN            NaN   \n",
       "10781       PP-75565         NaN          NaN            NaN   \n",
       "\n",
       "       moca_total_score      GUID_y visit_name_y  visit_month_y  \\\n",
       "0                  28.0  PDNW781VHY           M0            0.0   \n",
       "1                  29.0  PDCB969UGG           M0            0.0   \n",
       "2                  30.0  PDLW805AHT           M0            0.0   \n",
       "3                  28.0  PDKW284DYW           M0            0.0   \n",
       "4                  27.0  PDTM274KX6           M0            0.0   \n",
       "...                 ...         ...          ...            ...   \n",
       "10777               NaN         NaN          NaN            NaN   \n",
       "10778               NaN         NaN          NaN            NaN   \n",
       "10779               NaN         NaN          NaN            NaN   \n",
       "10780               NaN         NaN          NaN            NaN   \n",
       "10781               NaN         NaN          NaN            NaN   \n",
       "\n",
       "                                   diagnosis initial_diagnosis  ...  \\\n",
       "0      No PD Nor Other Neurological Disorder               NaN  ...   \n",
       "1                              Idiopathic PD               NaN  ...   \n",
       "2                              Idiopathic PD               NaN  ...   \n",
       "3                              Idiopathic PD               NaN  ...   \n",
       "4      No PD Nor Other Neurological Disorder               NaN  ...   \n",
       "...                                      ...               ...  ...   \n",
       "10777                                    NaN               NaN  ...   \n",
       "10778                                    NaN               NaN  ...   \n",
       "10779                                    NaN               NaN  ...   \n",
       "10780                                    NaN               NaN  ...   \n",
       "10781                                    NaN               NaN  ...   \n",
       "\n",
       "      age_at_baseline     sex               ethnicity   race  \\\n",
       "0                55.0    Male  Not Hispanic or Latino  White   \n",
       "1                66.0  Female  Not Hispanic or Latino  White   \n",
       "2                61.0    Male  Not Hispanic or Latino  White   \n",
       "3                62.0    Male  Not Hispanic or Latino  White   \n",
       "4                61.0  Female  Not Hispanic or Latino  White   \n",
       "...               ...     ...                     ...    ...   \n",
       "10777            37.0  Female  Not Hispanic or Latino  White   \n",
       "10778            52.0    Male  Not Hispanic or Latino  White   \n",
       "10779            69.0    Male  Not Hispanic or Latino  White   \n",
       "10780            77.0  Female  Not Hispanic or Latino  White   \n",
       "10781            65.0    Male  Not Hispanic or Latino  White   \n",
       "\n",
       "       education_level_years                  diagnosis_at_baseline  \\\n",
       "0                12-16 years  No PD Nor Other Neurological Disorder   \n",
       "1                12-16 years                          Idiopathic PD   \n",
       "2                12-16 years                          Idiopathic PD   \n",
       "3                12-16 years                          Idiopathic PD   \n",
       "4                12-16 years  No PD Nor Other Neurological Disorder   \n",
       "...                      ...                                    ...   \n",
       "10777            12-16 years                          Idiopathic PD   \n",
       "10778  Greater than 16 years  No PD Nor Other Neurological Disorder   \n",
       "10779  Greater than 16 years  No PD Nor Other Neurological Disorder   \n",
       "10780            12-16 years                     Prodromal motor PD   \n",
       "10781  Greater than 16 years                                    NaN   \n",
       "\n",
       "                            diagnosis_latest case_control_other_at_baseline  \\\n",
       "0      No PD Nor Other Neurological Disorder                        Control   \n",
       "1                              Idiopathic PD                           Case   \n",
       "2                              Idiopathic PD                           Case   \n",
       "3                              Idiopathic PD                           Case   \n",
       "4      No PD Nor Other Neurological Disorder                        Control   \n",
       "...                                      ...                            ...   \n",
       "10777                          Idiopathic PD                           Case   \n",
       "10778  No PD Nor Other Neurological Disorder                        Control   \n",
       "10779  No PD Nor Other Neurological Disorder                        Control   \n",
       "10780                          Idiopathic PD                          Other   \n",
       "10781                                    NaN                            NaN   \n",
       "\n",
       "      case_control_other_latest disease_duration  \n",
       "0                       Control              NaN  \n",
       "1                          Case              5.0  \n",
       "2                          Case              5.0  \n",
       "3                          Case              7.0  \n",
       "4                       Control              NaN  \n",
       "...                         ...              ...  \n",
       "10777                      Case              NaN  \n",
       "10778                   Control              NaN  \n",
       "10779                   Control              NaN  \n",
       "10780                      Case              NaN  \n",
       "10781                       NaN              NaN  \n",
       "\n",
       "[10782 rows x 25 columns]"
      ]
     },
     "execution_count": 196,
     "metadata": {},
     "output_type": "execute_result"
    }
   ],
   "source": [
    "clinical_data"
   ]
  },
  {
   "cell_type": "markdown",
   "metadata": {},
   "source": [
    "## MERGE WITH TRANSCRIPTOME DATA"
   ]
  },
  {
   "cell_type": "code",
   "execution_count": 197,
   "metadata": {},
   "outputs": [
    {
     "data": {
      "text/plain": [
       "3196"
      ]
     },
     "execution_count": 197,
     "metadata": {},
     "output_type": "execute_result"
    }
   ],
   "source": [
    "#Keep baseline visits with visit_month==0.0 and visit_month==0.5\n",
    "rnaseq_m0_05 = rnaseq[(rnaseq.visit_month==0.0) | (rnaseq.visit_month==0.5)]\n",
    "rnaseq_m0_05.participant_id.count()"
   ]
  },
  {
   "cell_type": "code",
   "execution_count": 198,
   "metadata": {},
   "outputs": [
    {
     "data": {
      "text/plain": [
       "(3196, 3)"
      ]
     },
     "execution_count": 198,
     "metadata": {},
     "output_type": "execute_result"
    }
   ],
   "source": [
    "rnaseq_m0_05.shape"
   ]
  },
  {
   "cell_type": "code",
   "execution_count": 199,
   "metadata": {},
   "outputs": [
    {
     "data": {
      "text/plain": [
       "(10782, 25)"
      ]
     },
     "execution_count": 199,
     "metadata": {},
     "output_type": "execute_result"
    }
   ],
   "source": [
    "clinical_data.shape"
   ]
  },
  {
   "cell_type": "code",
   "execution_count": 200,
   "metadata": {
    "scrolled": true
   },
   "outputs": [
    {
     "name": "stderr",
     "output_type": "stream",
     "text": [
      "/opt/conda/lib/python3.7/site-packages/ipykernel_launcher.py:2: FutureWarning: Passing 'suffixes' which cause duplicate columns {'visit_month_x'} in the result is deprecated and will raise a MergeError in a future version.\n",
      "  \n"
     ]
    }
   ],
   "source": [
    "#Merge both datasets on participant_id\n",
    "clinical_rnaseq_data = pd.merge(clinical_data,rnaseq_m0_05, on=\"participant_id\")"
   ]
  },
  {
   "cell_type": "code",
   "execution_count": 201,
   "metadata": {},
   "outputs": [
    {
     "data": {
      "text/plain": [
       "No PD Nor Other Neurological Disorder    815\n",
       "Parkinson's Disease                      800\n",
       "Idiopathic PD                            506\n",
       "Progressive Supranuclear Palsy            55\n",
       "Multiple System Atrophy                   54\n",
       "Prodromal non-motor PD                    51\n",
       "Essential Tremor                          28\n",
       "Other Neurological Disorder(s)            15\n",
       "Prodromal motor PD                         7\n",
       "Corticobasal Degeneration                  5\n",
       "Dementia With Lewy Bodies                  5\n",
       "Parkinsonism                               2\n",
       "Olivopontocerebellar Atrophy               1\n",
       "Fahr's Syndrome                            1\n",
       "Name: diagnosis, dtype: int64"
      ]
     },
     "execution_count": 201,
     "metadata": {},
     "output_type": "execute_result"
    }
   ],
   "source": [
    "clinical_rnaseq_data.diagnosis.value_counts()"
   ]
  },
  {
   "cell_type": "code",
   "execution_count": 202,
   "metadata": {},
   "outputs": [
    {
     "data": {
      "text/plain": [
       "participant_id                    3196\n",
       "GUID_x                            1640\n",
       "visit_name_x                      2030\n",
       "visit_month_x                     2030\n",
       "moca_total_score                  2030\n",
       "GUID_y                            1673\n",
       "visit_name_y                      2345\n",
       "visit_month_y                     2345\n",
       "diagnosis                         2345\n",
       "initial_diagnosis                   12\n",
       "most_recent_diagnosis               12\n",
       "age_at_diagnosis                  1075\n",
       "GUID                              1674\n",
       "visit_name                        3196\n",
       "visit_month_x                     3196\n",
       "age_at_baseline                   3196\n",
       "sex                               3196\n",
       "ethnicity                         3196\n",
       "race                              3196\n",
       "education_level_years             3196\n",
       "diagnosis_at_baseline             2923\n",
       "diagnosis_latest                  2923\n",
       "case_control_other_at_baseline    2923\n",
       "case_control_other_latest         2923\n",
       "disease_duration                  1075\n",
       "sample_id                         3196\n",
       "visit_month_y                     3196\n",
       "dtype: int64"
      ]
     },
     "execution_count": 202,
     "metadata": {},
     "output_type": "execute_result"
    }
   ],
   "source": [
    "clinical_rnaseq_data.count()"
   ]
  },
  {
   "cell_type": "code",
   "execution_count": 203,
   "metadata": {},
   "outputs": [
    {
     "data": {
      "text/plain": [
       "(3196, 27)"
      ]
     },
     "execution_count": 203,
     "metadata": {},
     "output_type": "execute_result"
    }
   ],
   "source": [
    "clinical_rnaseq_data.shape"
   ]
  },
  {
   "cell_type": "code",
   "execution_count": 204,
   "metadata": {},
   "outputs": [
    {
     "data": {
      "text/plain": [
       "No PD Nor Other Neurological Disorder    815\n",
       "Parkinson's Disease                      800\n",
       "Idiopathic PD                            506\n",
       "Progressive Supranuclear Palsy            55\n",
       "Multiple System Atrophy                   54\n",
       "Prodromal non-motor PD                    51\n",
       "Essential Tremor                          28\n",
       "Other Neurological Disorder(s)            15\n",
       "Prodromal motor PD                         7\n",
       "Corticobasal Degeneration                  5\n",
       "Dementia With Lewy Bodies                  5\n",
       "Parkinsonism                               2\n",
       "Olivopontocerebellar Atrophy               1\n",
       "Fahr's Syndrome                            1\n",
       "Name: diagnosis, dtype: int64"
      ]
     },
     "execution_count": 204,
     "metadata": {},
     "output_type": "execute_result"
    }
   ],
   "source": [
    "clinical_rnaseq_data.diagnosis.value_counts()"
   ]
  },
  {
   "cell_type": "code",
   "execution_count": 205,
   "metadata": {},
   "outputs": [],
   "source": [
    "#Keep only those with No PD Nor Other Neurological Disorder, Parkinson's Disease and Idiopathic PD\n",
    "clinical_rnaseq_data = clinical_rnaseq_data.loc[(clinical_rnaseq_data['diagnosis']==\"No PD Nor Other Neurological Disorder\") | (clinical_rnaseq_data['diagnosis']==\"Parkinson's Disease\") | (clinical_rnaseq_data['diagnosis']==\"Idiopathic PD\")]"
   ]
  },
  {
   "cell_type": "code",
   "execution_count": 206,
   "metadata": {},
   "outputs": [
    {
     "data": {
      "text/plain": [
       "(2121, 27)"
      ]
     },
     "execution_count": 206,
     "metadata": {},
     "output_type": "execute_result"
    }
   ],
   "source": [
    "#we are left with just 2121 cases that are of interest, those left out the previous filter are diagnosed with other condition\n",
    "clinical_rnaseq_data.shape"
   ]
  },
  {
   "cell_type": "code",
   "execution_count": 207,
   "metadata": {},
   "outputs": [
    {
     "data": {
      "text/plain": [
       "participant_id                    2121\n",
       "GUID_x                            1496\n",
       "visit_name_x                      1871\n",
       "visit_month_x                     1871\n",
       "moca_total_score                  1871\n",
       "GUID_y                            1520\n",
       "visit_name_y                      2121\n",
       "visit_month_y                     2121\n",
       "diagnosis                         2121\n",
       "initial_diagnosis                    1\n",
       "most_recent_diagnosis                1\n",
       "age_at_diagnosis                   926\n",
       "GUID                              1520\n",
       "visit_name                        2121\n",
       "visit_month_x                     2121\n",
       "age_at_baseline                   2121\n",
       "sex                               2121\n",
       "ethnicity                         2121\n",
       "race                              2121\n",
       "education_level_years             2121\n",
       "diagnosis_at_baseline             2103\n",
       "diagnosis_latest                  2103\n",
       "case_control_other_at_baseline    2103\n",
       "case_control_other_latest         2103\n",
       "disease_duration                   926\n",
       "sample_id                         2121\n",
       "visit_month_y                     2121\n",
       "dtype: int64"
      ]
     },
     "execution_count": 207,
     "metadata": {},
     "output_type": "execute_result"
    }
   ],
   "source": [
    "clinical_rnaseq_data.count()"
   ]
  },
  {
   "cell_type": "code",
   "execution_count": 208,
   "metadata": {},
   "outputs": [
    {
     "data": {
      "text/plain": [
       "1226"
      ]
     },
     "execution_count": 208,
     "metadata": {},
     "output_type": "execute_result"
    }
   ],
   "source": [
    "#If we just keep the MOCA scale we would have 1226 participants with normal cognition\n",
    "clinical_rnaseq_data[clinical_rnaseq_data.moca_total_score > 25.0].shape[0]"
   ]
  },
  {
   "cell_type": "code",
   "execution_count": 209,
   "metadata": {},
   "outputs": [
    {
     "data": {
      "text/plain": [
       "64"
      ]
     },
     "execution_count": 209,
     "metadata": {},
     "output_type": "execute_result"
    }
   ],
   "source": [
    "#If we just keep the MOCA scale we would have 64 participants with dementia\n",
    "clinical_rnaseq_data[clinical_rnaseq_data.moca_total_score < 19.0].shape[0]"
   ]
  },
  {
   "cell_type": "code",
   "execution_count": 210,
   "metadata": {},
   "outputs": [
    {
     "data": {
      "text/plain": [
       "399"
      ]
     },
     "execution_count": 210,
     "metadata": {},
     "output_type": "execute_result"
    }
   ],
   "source": [
    "#If we just keep the MOCA scale we would have 399 participants with MCI\n",
    "clinical_rnaseq_data[(clinical_rnaseq_data.moca_total_score > 19.0) & (clinical_rnaseq_data.moca_total_score < 25.0)].shape[0]"
   ]
  },
  {
   "cell_type": "code",
   "execution_count": 211,
   "metadata": {},
   "outputs": [
    {
     "data": {
      "text/plain": [
       "Parkinson's Disease                      41\n",
       "Idiopathic PD                            18\n",
       "No PD Nor Other Neurological Disorder     5\n",
       "Name: diagnosis, dtype: int64"
      ]
     },
     "execution_count": 211,
     "metadata": {},
     "output_type": "execute_result"
    }
   ],
   "source": [
    "#Now we want to know how many of these participants with dementia are PD patients and how many controls\n",
    "clinical_rnaseq_data_dementia = clinical_rnaseq_data.loc[(clinical_rnaseq_data['moca_total_score']<19)]\n",
    "clinical_rnaseq_data_dementia.diagnosis.value_counts()"
   ]
  },
  {
   "cell_type": "code",
   "execution_count": 212,
   "metadata": {
    "scrolled": true
   },
   "outputs": [
    {
     "data": {
      "text/plain": [
       "No PD Nor Other Neurological Disorder    621\n",
       "Parkinson's Disease                      426\n",
       "Idiopathic PD                            179\n",
       "Name: diagnosis, dtype: int64"
      ]
     },
     "execution_count": 212,
     "metadata": {},
     "output_type": "execute_result"
    }
   ],
   "source": [
    "#Now we want to know how many of these cognitive normal participants are PD patients and how many controls\n",
    "clinical_rnaseq_data_cognitive_normal = clinical_rnaseq_data.loc[(clinical_rnaseq_data['moca_total_score']>25)]\n",
    "clinical_rnaseq_data_cognitive_normal.diagnosis.value_counts()"
   ]
  },
  {
   "cell_type": "code",
   "execution_count": 213,
   "metadata": {
    "scrolled": true
   },
   "outputs": [
    {
     "data": {
      "text/plain": [
       "Parkinson's Disease                      220\n",
       "No PD Nor Other Neurological Disorder    115\n",
       "Idiopathic PD                             64\n",
       "Name: diagnosis, dtype: int64"
      ]
     },
     "execution_count": 213,
     "metadata": {},
     "output_type": "execute_result"
    }
   ],
   "source": [
    "#Now we want to know how many of these MCI participants are PD patients and how many controls\n",
    "clinical_rnaseq_data_mci = clinical_rnaseq_data.loc[(clinical_rnaseq_data['moca_total_score']<25) & (clinical_rnaseq_data['moca_total_score']>19) ]\n",
    "clinical_rnaseq_data_mci.diagnosis.value_counts()"
   ]
  },
  {
   "cell_type": "code",
   "execution_count": 214,
   "metadata": {},
   "outputs": [],
   "source": [
    "plate_edited = plate[[\"sample_id\",\"RIN_Value\",\"Plate\"]]"
   ]
  },
  {
   "cell_type": "code",
   "execution_count": 215,
   "metadata": {},
   "outputs": [],
   "source": [
    "bases_edited = base[[\"participant_id\",\"sample_id\",\"PCT_USABLE_BASES\"]]"
   ]
  },
  {
   "cell_type": "code",
   "execution_count": 216,
   "metadata": {},
   "outputs": [],
   "source": [
    "strand_edited = strand[[\"participant_id\",\"sample_id\",\"STRAND_BALANCE\"]]"
   ]
  },
  {
   "cell_type": "code",
   "execution_count": 217,
   "metadata": {},
   "outputs": [],
   "source": [
    "#We now merge the final_dataset with the plate, STRAND_BALANCE, and PCT_USABLE_BASES\n",
    "clinical_rnaseq_data_plate = pd.merge(clinical_rnaseq_data,plate_edited,on=\"sample_id\")\n",
    "clinical_rnaseq_data_plate_base = pd.merge(clinical_rnaseq_data_plate,bases_edited,on=\"sample_id\")\n",
    "\n"
   ]
  },
  {
   "cell_type": "code",
   "execution_count": 218,
   "metadata": {},
   "outputs": [],
   "source": [
    "sample_meta_uncleaned = pd.merge(clinical_rnaseq_data_plate_base,strand_edited,on=\"sample_id\")"
   ]
  },
  {
   "cell_type": "code",
   "execution_count": 219,
   "metadata": {},
   "outputs": [
    {
     "data": {
      "text/plain": [
       "participant_id_x                  2121\n",
       "GUID_x                            1496\n",
       "visit_name_x                      1871\n",
       "visit_month_x                     1871\n",
       "moca_total_score                  1871\n",
       "GUID_y                            1520\n",
       "visit_name_y                      2121\n",
       "visit_month_y                     2121\n",
       "diagnosis                         2121\n",
       "initial_diagnosis                    1\n",
       "most_recent_diagnosis                1\n",
       "age_at_diagnosis                   926\n",
       "GUID                              1520\n",
       "visit_name                        2121\n",
       "visit_month_x                     2121\n",
       "age_at_baseline                   2121\n",
       "sex                               2121\n",
       "ethnicity                         2121\n",
       "race                              2121\n",
       "education_level_years             2121\n",
       "diagnosis_at_baseline             2103\n",
       "diagnosis_latest                  2103\n",
       "case_control_other_at_baseline    2103\n",
       "case_control_other_latest         2103\n",
       "disease_duration                   926\n",
       "sample_id                         2121\n",
       "visit_month_y                     2121\n",
       "RIN_Value                         2121\n",
       "Plate                             2121\n",
       "participant_id_y                  2121\n",
       "PCT_USABLE_BASES                  2121\n",
       "participant_id                    2121\n",
       "STRAND_BALANCE                    2121\n",
       "dtype: int64"
      ]
     },
     "execution_count": 219,
     "metadata": {},
     "output_type": "execute_result"
    }
   ],
   "source": [
    "sample_meta_uncleaned.count()"
   ]
  },
  {
   "cell_type": "code",
   "execution_count": 220,
   "metadata": {},
   "outputs": [
    {
     "data": {
      "text/plain": [
       "Index(['participant_id_x', 'GUID_x', 'visit_name_x', 'visit_month_x',\n",
       "       'moca_total_score', 'GUID_y', 'visit_name_y', 'visit_month_y',\n",
       "       'diagnosis', 'initial_diagnosis', 'most_recent_diagnosis',\n",
       "       'age_at_diagnosis', 'GUID', 'visit_name', 'visit_month_x',\n",
       "       'age_at_baseline', 'sex', 'ethnicity', 'race', 'education_level_years',\n",
       "       'diagnosis_at_baseline', 'diagnosis_latest',\n",
       "       'case_control_other_at_baseline', 'case_control_other_latest',\n",
       "       'disease_duration', 'sample_id', 'visit_month_y', 'RIN_Value', 'Plate',\n",
       "       'participant_id_y', 'PCT_USABLE_BASES', 'participant_id',\n",
       "       'STRAND_BALANCE'],\n",
       "      dtype='object')"
      ]
     },
     "execution_count": 220,
     "metadata": {},
     "output_type": "execute_result"
    }
   ],
   "source": [
    "#See column headers\n",
    "sample_meta_uncleaned.columns"
   ]
  },
  {
   "cell_type": "code",
   "execution_count": 221,
   "metadata": {},
   "outputs": [],
   "source": [
    "#Clean data - keep all the columns we need\n",
    "sample_meta = sample_meta_uncleaned[[\"participant_id_x\", \"GUID_x\", \"visit_month_x\", \"sample_id\", \"PCT_USABLE_BASES\", \"Plate\", \"STRAND_BALANCE\", \"diagnosis_at_baseline\", \"case_control_other_at_baseline\", \"case_control_other_latest\", \"age_at_baseline\", \"age_at_diagnosis\", \"disease_duration\", \"sex\", \"ethnicity\", \"race\", \"education_level_years\", \"moca_total_score\", \"diagnosis_latest\"]]"
   ]
  },
  {
   "cell_type": "code",
   "execution_count": 222,
   "metadata": {},
   "outputs": [
    {
     "data": {
      "text/plain": [
       "participant_id_x                  2121\n",
       "GUID_x                            1496\n",
       "visit_month_x                     1871\n",
       "visit_month_x                     2121\n",
       "sample_id                         2121\n",
       "PCT_USABLE_BASES                  2121\n",
       "Plate                             2121\n",
       "STRAND_BALANCE                    2121\n",
       "diagnosis_at_baseline             2103\n",
       "case_control_other_at_baseline    2103\n",
       "case_control_other_latest         2103\n",
       "age_at_baseline                   2121\n",
       "age_at_diagnosis                   926\n",
       "disease_duration                   926\n",
       "sex                               2121\n",
       "ethnicity                         2121\n",
       "race                              2121\n",
       "education_level_years             2121\n",
       "moca_total_score                  1871\n",
       "diagnosis_latest                  2103\n",
       "dtype: int64"
      ]
     },
     "execution_count": 222,
     "metadata": {},
     "output_type": "execute_result"
    }
   ],
   "source": [
    "#Check headers\n",
    "sample_meta.count()"
   ]
  },
  {
   "cell_type": "code",
   "execution_count": 223,
   "metadata": {},
   "outputs": [
    {
     "data": {
      "text/plain": [
       "Index(['participant_id_x', 'GUID_x', 'visit_month_x', 'visit_month_x',\n",
       "       'sample_id', 'PCT_USABLE_BASES', 'Plate', 'STRAND_BALANCE',\n",
       "       'diagnosis_at_baseline', 'case_control_other_at_baseline',\n",
       "       'case_control_other_latest', 'age_at_baseline', 'age_at_diagnosis',\n",
       "       'disease_duration', 'sex', 'ethnicity', 'race', 'education_level_years',\n",
       "       'moca_total_score', 'diagnosis_latest'],\n",
       "      dtype='object')"
      ]
     },
     "execution_count": 223,
     "metadata": {},
     "output_type": "execute_result"
    }
   ],
   "source": [
    "#Check csv file\n",
    "sample_meta.columns"
   ]
  },
  {
   "cell_type": "code",
   "execution_count": 224,
   "metadata": {},
   "outputs": [],
   "source": [
    "#Rename headers\n",
    "sample_meta.columns.values[0] = 'participant_id'\n",
    "sample_meta.columns.values[1] = 'GUID'\n",
    "sample_meta.columns.values[2] = 'visit_month_1'\n",
    "sample_meta.columns.values[3] = 'visit_month_2'"
   ]
  },
  {
   "cell_type": "code",
   "execution_count": 225,
   "metadata": {},
   "outputs": [
    {
     "data": {
      "text/plain": [
       "participant_id                    2121\n",
       "GUID                              1496\n",
       "visit_month_1                     1871\n",
       "visit_month_2                     2121\n",
       "sample_id                         2121\n",
       "PCT_USABLE_BASES                  2121\n",
       "Plate                             2121\n",
       "STRAND_BALANCE                    2121\n",
       "diagnosis_at_baseline             2103\n",
       "case_control_other_at_baseline    2103\n",
       "case_control_other_latest         2103\n",
       "age_at_baseline                   2121\n",
       "age_at_diagnosis                   926\n",
       "disease_duration                   926\n",
       "sex                               2121\n",
       "ethnicity                         2121\n",
       "race                              2121\n",
       "education_level_years             2121\n",
       "moca_total_score                  1871\n",
       "diagnosis_latest                  2103\n",
       "dtype: int64"
      ]
     },
     "execution_count": 225,
     "metadata": {},
     "output_type": "execute_result"
    }
   ],
   "source": [
    "#Recheck headers\n",
    "sample_meta.count()"
   ]
  },
  {
   "cell_type": "code",
   "execution_count": 226,
   "metadata": {},
   "outputs": [
    {
     "data": {
      "text/plain": [
       "participant_id                    2121\n",
       "GUID                              1496\n",
       "visit_month_2                     2121\n",
       "sample_id                         2121\n",
       "PCT_USABLE_BASES                  2121\n",
       "Plate                             2121\n",
       "STRAND_BALANCE                    2121\n",
       "diagnosis_at_baseline             2103\n",
       "diagnosis_latest                  2103\n",
       "case_control_other_at_baseline    2103\n",
       "case_control_other_latest         2103\n",
       "age_at_baseline                   2121\n",
       "age_at_diagnosis                   926\n",
       "disease_duration                   926\n",
       "sex                               2121\n",
       "ethnicity                         2121\n",
       "race                              2121\n",
       "education_level_years             2121\n",
       "moca_total_score                  1871\n",
       "dtype: int64"
      ]
     },
     "execution_count": 226,
     "metadata": {},
     "output_type": "execute_result"
    }
   ],
   "source": [
    "#Select the GUID and visit_month that we need\n",
    "sample_meta = sample_meta[[\"participant_id\", \"GUID\", \"visit_month_2\", \"sample_id\", \"PCT_USABLE_BASES\", \"Plate\", \"STRAND_BALANCE\", \"diagnosis_at_baseline\", \"diagnosis_latest\", \"case_control_other_at_baseline\", \"case_control_other_latest\", \"age_at_baseline\", \"age_at_diagnosis\", \"disease_duration\", \"sex\", \"ethnicity\", \"race\", \"education_level_years\", \"moca_total_score\"]]\n",
    "sample_meta.count()"
   ]
  },
  {
   "cell_type": "code",
   "execution_count": 227,
   "metadata": {
    "scrolled": true
   },
   "outputs": [
    {
     "data": {
      "text/plain": [
       "participant_id                    2121\n",
       "GUID                              1496\n",
       "visit_month                       2121\n",
       "sample_id                         2121\n",
       "PCT_USABLE_BASES                  2121\n",
       "Plate                             2121\n",
       "STRAND_BALANCE                    2121\n",
       "diagnosis_at_baseline             2103\n",
       "diagnosis_latest                  2103\n",
       "case_control_other_at_baseline    2103\n",
       "case_control_other_latest         2103\n",
       "age_at_baseline                   2121\n",
       "age_at_diagnosis                   926\n",
       "disease_duration                   926\n",
       "sex                               2121\n",
       "ethnicity                         2121\n",
       "race                              2121\n",
       "education_level_years             2121\n",
       "moca_total_score                  1871\n",
       "dtype: int64"
      ]
     },
     "execution_count": 227,
     "metadata": {},
     "output_type": "execute_result"
    }
   ],
   "source": [
    "#Rename the columns as we need\n",
    "sample_meta.columns.values[2] = 'visit_month'\n",
    "sample_meta.count()"
   ]
  },
  {
   "cell_type": "code",
   "execution_count": 228,
   "metadata": {},
   "outputs": [
    {
     "data": {
      "text/plain": [
       "(2121, 19)"
      ]
     },
     "execution_count": 228,
     "metadata": {},
     "output_type": "execute_result"
    }
   ],
   "source": [
    "sample_meta.shape"
   ]
  },
  {
   "cell_type": "code",
   "execution_count": 229,
   "metadata": {},
   "outputs": [
    {
     "data": {
      "text/plain": [
       "28.0    284\n",
       "27.0    276\n",
       "29.0    254\n",
       "26.0    236\n",
       "30.0    164\n",
       "25.0    162\n",
       "24.0    153\n",
       "23.0    100\n",
       "22.0     75\n",
       "21.0     39\n",
       "20.0     32\n",
       "18.0     28\n",
       "19.0     20\n",
       "31.0     12\n",
       "17.0     11\n",
       "16.0      6\n",
       "12.0      4\n",
       "10.0      3\n",
       "15.0      3\n",
       "9.0       2\n",
       "14.0      2\n",
       "13.0      2\n",
       "8.0       1\n",
       "6.0       1\n",
       "11.0      1\n",
       "Name: moca_total_score, dtype: int64"
      ]
     },
     "execution_count": 229,
     "metadata": {},
     "output_type": "execute_result"
    }
   ],
   "source": [
    "sample_meta.moca_total_score.value_counts()"
   ]
  },
  {
   "cell_type": "code",
   "execution_count": 230,
   "metadata": {},
   "outputs": [
    {
     "data": {
      "text/plain": [
       "Case       1294\n",
       "Control     809\n",
       "Name: case_control_other_latest, dtype: int64"
      ]
     },
     "execution_count": 230,
     "metadata": {},
     "output_type": "execute_result"
    }
   ],
   "source": [
    "sample_meta.case_control_other_latest.value_counts()"
   ]
  },
  {
   "cell_type": "code",
   "execution_count": 231,
   "metadata": {},
   "outputs": [],
   "source": [
    "#Define Cognition phenotype variable - assign PDnoCI \n",
    "sample_meta.loc[(sample_meta['moca_total_score'] >25) & (sample_meta['case_control_other_latest'] == \"Case\"), 'Cognition_phenotype'] = 'PDnoCI'\n",
    "sample_meta.loc[(sample_meta['moca_total_score'] <19) & (sample_meta['case_control_other_latest'] == \"Case\"), 'Cognition_phenotype'] = 'PDD'\n",
    "sample_meta.loc[(sample_meta['moca_total_score'] > 25) & (sample_meta['case_control_other_latest'] == \"Control\"), 'Cognition_phenotype'] = 'HCnoCI'\n",
    "sample_meta.loc[(sample_meta['moca_total_score'] < 19) & (sample_meta['case_control_other_latest'] == \"Control\"), 'Cognition_phenotype'] = 'HCD'\n",
    "sample_meta.loc[(sample_meta['moca_total_score'] >19) & (sample_meta['moca_total_score'] <25) & (sample_meta['case_control_other_latest'] == \"Control\"), 'Cognition_phenotype'] = 'HCMCI'\n",
    "sample_meta.loc[(sample_meta['moca_total_score'] >19) & (sample_meta['moca_total_score'] <25) & (sample_meta['case_control_other_latest'] == \"Case\"), 'Cognition_phenotype'] = 'PDMCI'"
   ]
  },
  {
   "cell_type": "code",
   "execution_count": 232,
   "metadata": {},
   "outputs": [
    {
     "data": {
      "text/plain": [
       "participant_id                    2121\n",
       "GUID                              1496\n",
       "visit_month                       2121\n",
       "sample_id                         2121\n",
       "PCT_USABLE_BASES                  2121\n",
       "Plate                             2121\n",
       "STRAND_BALANCE                    2121\n",
       "diagnosis_at_baseline             2103\n",
       "diagnosis_latest                  2103\n",
       "case_control_other_at_baseline    2103\n",
       "case_control_other_latest         2103\n",
       "age_at_baseline                   2121\n",
       "age_at_diagnosis                   926\n",
       "disease_duration                   926\n",
       "sex                               2121\n",
       "ethnicity                         2121\n",
       "race                              2121\n",
       "education_level_years             2121\n",
       "moca_total_score                  1871\n",
       "Cognition_phenotype               1678\n",
       "dtype: int64"
      ]
     },
     "execution_count": 232,
     "metadata": {},
     "output_type": "execute_result"
    }
   ],
   "source": [
    "sample_meta.count()"
   ]
  },
  {
   "cell_type": "code",
   "execution_count": 233,
   "metadata": {},
   "outputs": [
    {
     "data": {
      "text/plain": [
       "HCnoCI    618\n",
       "PDnoCI    602\n",
       "PDMCI     282\n",
       "HCMCI     114\n",
       "PDD        57\n",
       "HCD         5\n",
       "Name: Cognition_phenotype, dtype: int64"
      ]
     },
     "execution_count": 233,
     "metadata": {},
     "output_type": "execute_result"
    }
   ],
   "source": [
    "#Check new variable counts\n",
    "sample_meta.Cognition_phenotype.value_counts()"
   ]
  },
  {
   "cell_type": "code",
   "execution_count": 234,
   "metadata": {},
   "outputs": [
    {
     "data": {
      "text/plain": [
       "(2121, 20)"
      ]
     },
     "execution_count": 234,
     "metadata": {},
     "output_type": "execute_result"
    }
   ],
   "source": [
    "sample_meta.shape\n",
    "#still having 2121 individuals"
   ]
  },
  {
   "cell_type": "code",
   "execution_count": 235,
   "metadata": {},
   "outputs": [],
   "source": [
    "#Drop the rows with NA in the cognition phenotype variable\n",
    "sample_meta.dropna(subset=[\"Cognition_phenotype\"], how = \"all\", inplace=True)\n",
    "#This is important because here we drop around 500 individuals\n",
    "#this happended because we defined cognitition phenotype based on 2 variables\n",
    "#MOCA (only 1800 values available) and Case_control_other_latest (2100 values available)\n",
    "#So individuals that contain info for those 2 variables are kept"
   ]
  },
  {
   "cell_type": "code",
   "execution_count": 236,
   "metadata": {},
   "outputs": [
    {
     "data": {
      "text/plain": [
       "HCnoCI    618\n",
       "PDnoCI    602\n",
       "PDMCI     282\n",
       "HCMCI     114\n",
       "PDD        57\n",
       "HCD         5\n",
       "Name: Cognition_phenotype, dtype: int64"
      ]
     },
     "execution_count": 236,
     "metadata": {},
     "output_type": "execute_result"
    }
   ],
   "source": [
    "#Check new variable counts\n",
    "sample_meta.Cognition_phenotype.value_counts()"
   ]
  },
  {
   "cell_type": "code",
   "execution_count": 237,
   "metadata": {},
   "outputs": [
    {
     "data": {
      "text/plain": [
       "(1678, 20)"
      ]
     },
     "execution_count": 237,
     "metadata": {},
     "output_type": "execute_result"
    }
   ],
   "source": [
    "sample_meta.shape"
   ]
  },
  {
   "cell_type": "code",
   "execution_count": null,
   "metadata": {},
   "outputs": [],
   "source": []
  },
  {
   "cell_type": "code",
   "execution_count": 238,
   "metadata": {},
   "outputs": [],
   "source": [
    "#Change the age variable from continuous to range\n",
    "sample_meta.loc[sample_meta['age_at_baseline'] <55, 'age_baseline_range'] = 'under_55'\n",
    "sample_meta.loc[(sample_meta['age_at_baseline'] >54) & (sample_meta['age_at_baseline'] < 66) , 'age_baseline_range'] = '55_to_65'\n",
    "sample_meta.loc[sample_meta['age_at_baseline']>65, 'age_baseline_range'] = 'above_65'"
   ]
  },
  {
   "cell_type": "code",
   "execution_count": 239,
   "metadata": {},
   "outputs": [
    {
     "data": {
      "text/html": [
       "<div>\n",
       "<style scoped>\n",
       "    .dataframe tbody tr th:only-of-type {\n",
       "        vertical-align: middle;\n",
       "    }\n",
       "\n",
       "    .dataframe tbody tr th {\n",
       "        vertical-align: top;\n",
       "    }\n",
       "\n",
       "    .dataframe thead th {\n",
       "        text-align: right;\n",
       "    }\n",
       "</style>\n",
       "<table border=\"1\" class=\"dataframe\">\n",
       "  <thead>\n",
       "    <tr style=\"text-align: right;\">\n",
       "      <th></th>\n",
       "      <th>participant_id</th>\n",
       "      <th>GUID</th>\n",
       "      <th>visit_month</th>\n",
       "      <th>sample_id</th>\n",
       "      <th>PCT_USABLE_BASES</th>\n",
       "      <th>Plate</th>\n",
       "      <th>STRAND_BALANCE</th>\n",
       "      <th>diagnosis_at_baseline</th>\n",
       "      <th>diagnosis_latest</th>\n",
       "      <th>case_control_other_at_baseline</th>\n",
       "      <th>...</th>\n",
       "      <th>age_at_baseline</th>\n",
       "      <th>age_at_diagnosis</th>\n",
       "      <th>disease_duration</th>\n",
       "      <th>sex</th>\n",
       "      <th>ethnicity</th>\n",
       "      <th>race</th>\n",
       "      <th>education_level_years</th>\n",
       "      <th>moca_total_score</th>\n",
       "      <th>Cognition_phenotype</th>\n",
       "      <th>age_baseline_range</th>\n",
       "    </tr>\n",
       "  </thead>\n",
       "  <tbody>\n",
       "    <tr>\n",
       "      <th>0</th>\n",
       "      <td>BF-1001</td>\n",
       "      <td>PDNW781VHY</td>\n",
       "      <td>0</td>\n",
       "      <td>BF-1001-SVM0_5T1</td>\n",
       "      <td>0.379947</td>\n",
       "      <td>P341</td>\n",
       "      <td>0.628003</td>\n",
       "      <td>No PD Nor Other Neurological Disorder</td>\n",
       "      <td>No PD Nor Other Neurological Disorder</td>\n",
       "      <td>Control</td>\n",
       "      <td>...</td>\n",
       "      <td>55.0</td>\n",
       "      <td>NaN</td>\n",
       "      <td>NaN</td>\n",
       "      <td>Male</td>\n",
       "      <td>Not Hispanic or Latino</td>\n",
       "      <td>White</td>\n",
       "      <td>12-16 years</td>\n",
       "      <td>28.0</td>\n",
       "      <td>HCnoCI</td>\n",
       "      <td>55_to_65</td>\n",
       "    </tr>\n",
       "    <tr>\n",
       "      <th>1</th>\n",
       "      <td>BF-1002</td>\n",
       "      <td>PDCB969UGG</td>\n",
       "      <td>0</td>\n",
       "      <td>BF-1002-SVM0_5T1</td>\n",
       "      <td>0.204625</td>\n",
       "      <td>P341</td>\n",
       "      <td>0.750852</td>\n",
       "      <td>Idiopathic PD</td>\n",
       "      <td>Idiopathic PD</td>\n",
       "      <td>Case</td>\n",
       "      <td>...</td>\n",
       "      <td>66.0</td>\n",
       "      <td>61.0</td>\n",
       "      <td>5.0</td>\n",
       "      <td>Female</td>\n",
       "      <td>Not Hispanic or Latino</td>\n",
       "      <td>White</td>\n",
       "      <td>12-16 years</td>\n",
       "      <td>29.0</td>\n",
       "      <td>PDnoCI</td>\n",
       "      <td>above_65</td>\n",
       "    </tr>\n",
       "    <tr>\n",
       "      <th>2</th>\n",
       "      <td>BF-1003</td>\n",
       "      <td>PDLW805AHT</td>\n",
       "      <td>0</td>\n",
       "      <td>BF-1003-SVM0_5T1</td>\n",
       "      <td>0.251916</td>\n",
       "      <td>P341</td>\n",
       "      <td>0.714203</td>\n",
       "      <td>Idiopathic PD</td>\n",
       "      <td>Idiopathic PD</td>\n",
       "      <td>Case</td>\n",
       "      <td>...</td>\n",
       "      <td>61.0</td>\n",
       "      <td>56.0</td>\n",
       "      <td>5.0</td>\n",
       "      <td>Male</td>\n",
       "      <td>Not Hispanic or Latino</td>\n",
       "      <td>White</td>\n",
       "      <td>12-16 years</td>\n",
       "      <td>30.0</td>\n",
       "      <td>PDnoCI</td>\n",
       "      <td>55_to_65</td>\n",
       "    </tr>\n",
       "    <tr>\n",
       "      <th>3</th>\n",
       "      <td>BF-1004</td>\n",
       "      <td>PDKW284DYW</td>\n",
       "      <td>0</td>\n",
       "      <td>BF-1004-SVM0_5T1</td>\n",
       "      <td>0.269126</td>\n",
       "      <td>P341</td>\n",
       "      <td>0.675027</td>\n",
       "      <td>Idiopathic PD</td>\n",
       "      <td>Idiopathic PD</td>\n",
       "      <td>Case</td>\n",
       "      <td>...</td>\n",
       "      <td>62.0</td>\n",
       "      <td>55.0</td>\n",
       "      <td>7.0</td>\n",
       "      <td>Male</td>\n",
       "      <td>Not Hispanic or Latino</td>\n",
       "      <td>White</td>\n",
       "      <td>12-16 years</td>\n",
       "      <td>28.0</td>\n",
       "      <td>PDnoCI</td>\n",
       "      <td>55_to_65</td>\n",
       "    </tr>\n",
       "    <tr>\n",
       "      <th>4</th>\n",
       "      <td>BF-1005</td>\n",
       "      <td>PDTM274KX6</td>\n",
       "      <td>0</td>\n",
       "      <td>BF-1005-SVM0_5T1</td>\n",
       "      <td>0.319619</td>\n",
       "      <td>P341</td>\n",
       "      <td>0.595464</td>\n",
       "      <td>No PD Nor Other Neurological Disorder</td>\n",
       "      <td>No PD Nor Other Neurological Disorder</td>\n",
       "      <td>Control</td>\n",
       "      <td>...</td>\n",
       "      <td>61.0</td>\n",
       "      <td>NaN</td>\n",
       "      <td>NaN</td>\n",
       "      <td>Female</td>\n",
       "      <td>Not Hispanic or Latino</td>\n",
       "      <td>White</td>\n",
       "      <td>12-16 years</td>\n",
       "      <td>27.0</td>\n",
       "      <td>HCnoCI</td>\n",
       "      <td>55_to_65</td>\n",
       "    </tr>\n",
       "  </tbody>\n",
       "</table>\n",
       "<p>5 rows × 21 columns</p>\n",
       "</div>"
      ],
      "text/plain": [
       "  participant_id        GUID  visit_month         sample_id  PCT_USABLE_BASES  \\\n",
       "0        BF-1001  PDNW781VHY            0  BF-1001-SVM0_5T1          0.379947   \n",
       "1        BF-1002  PDCB969UGG            0  BF-1002-SVM0_5T1          0.204625   \n",
       "2        BF-1003  PDLW805AHT            0  BF-1003-SVM0_5T1          0.251916   \n",
       "3        BF-1004  PDKW284DYW            0  BF-1004-SVM0_5T1          0.269126   \n",
       "4        BF-1005  PDTM274KX6            0  BF-1005-SVM0_5T1          0.319619   \n",
       "\n",
       "  Plate  STRAND_BALANCE                  diagnosis_at_baseline  \\\n",
       "0  P341        0.628003  No PD Nor Other Neurological Disorder   \n",
       "1  P341        0.750852                          Idiopathic PD   \n",
       "2  P341        0.714203                          Idiopathic PD   \n",
       "3  P341        0.675027                          Idiopathic PD   \n",
       "4  P341        0.595464  No PD Nor Other Neurological Disorder   \n",
       "\n",
       "                        diagnosis_latest case_control_other_at_baseline  ...  \\\n",
       "0  No PD Nor Other Neurological Disorder                        Control  ...   \n",
       "1                          Idiopathic PD                           Case  ...   \n",
       "2                          Idiopathic PD                           Case  ...   \n",
       "3                          Idiopathic PD                           Case  ...   \n",
       "4  No PD Nor Other Neurological Disorder                        Control  ...   \n",
       "\n",
       "  age_at_baseline  age_at_diagnosis  disease_duration     sex  \\\n",
       "0            55.0               NaN               NaN    Male   \n",
       "1            66.0              61.0               5.0  Female   \n",
       "2            61.0              56.0               5.0    Male   \n",
       "3            62.0              55.0               7.0    Male   \n",
       "4            61.0               NaN               NaN  Female   \n",
       "\n",
       "                ethnicity   race education_level_years moca_total_score  \\\n",
       "0  Not Hispanic or Latino  White           12-16 years             28.0   \n",
       "1  Not Hispanic or Latino  White           12-16 years             29.0   \n",
       "2  Not Hispanic or Latino  White           12-16 years             30.0   \n",
       "3  Not Hispanic or Latino  White           12-16 years             28.0   \n",
       "4  Not Hispanic or Latino  White           12-16 years             27.0   \n",
       "\n",
       "   Cognition_phenotype age_baseline_range  \n",
       "0               HCnoCI           55_to_65  \n",
       "1               PDnoCI           above_65  \n",
       "2               PDnoCI           55_to_65  \n",
       "3               PDnoCI           55_to_65  \n",
       "4               HCnoCI           55_to_65  \n",
       "\n",
       "[5 rows x 21 columns]"
      ]
     },
     "execution_count": 239,
     "metadata": {},
     "output_type": "execute_result"
    }
   ],
   "source": [
    "sample_meta.head()"
   ]
  },
  {
   "cell_type": "code",
   "execution_count": 240,
   "metadata": {},
   "outputs": [
    {
     "data": {
      "text/plain": [
       "above_65    763\n",
       "55_to_65    530\n",
       "under_55    385\n",
       "Name: age_baseline_range, dtype: int64"
      ]
     },
     "execution_count": 240,
     "metadata": {},
     "output_type": "execute_result"
    }
   ],
   "source": [
    "sample_meta.age_baseline_range.value_counts()"
   ]
  },
  {
   "cell_type": "code",
   "execution_count": 241,
   "metadata": {
    "scrolled": false
   },
   "outputs": [
    {
     "data": {
      "text/plain": [
       "participant_id                    1678\n",
       "GUID                              1333\n",
       "visit_month                       1678\n",
       "sample_id                         1678\n",
       "PCT_USABLE_BASES                  1678\n",
       "Plate                             1678\n",
       "STRAND_BALANCE                    1678\n",
       "diagnosis_at_baseline             1678\n",
       "diagnosis_latest                  1678\n",
       "case_control_other_at_baseline    1678\n",
       "case_control_other_latest         1678\n",
       "age_at_baseline                   1678\n",
       "age_at_diagnosis                   800\n",
       "disease_duration                   800\n",
       "sex                               1678\n",
       "ethnicity                         1678\n",
       "race                              1678\n",
       "education_level_years             1678\n",
       "moca_total_score                  1678\n",
       "Cognition_phenotype               1678\n",
       "age_baseline_range                1678\n",
       "dtype: int64"
      ]
     },
     "execution_count": 241,
     "metadata": {},
     "output_type": "execute_result"
    }
   ],
   "source": [
    "sample_meta.count()"
   ]
  },
  {
   "cell_type": "code",
   "execution_count": 242,
   "metadata": {},
   "outputs": [],
   "source": [
    "sample_meta_white = sample_meta.loc[sample_meta['race'] ==\"White\"]"
   ]
  },
  {
   "cell_type": "code",
   "execution_count": 243,
   "metadata": {},
   "outputs": [
    {
     "data": {
      "text/plain": [
       "HCnoCI    571\n",
       "PDnoCI    570\n",
       "PDMCI     268\n",
       "HCMCI     100\n",
       "PDD        50\n",
       "HCD         4\n",
       "Name: Cognition_phenotype, dtype: int64"
      ]
     },
     "execution_count": 243,
     "metadata": {},
     "output_type": "execute_result"
    }
   ],
   "source": [
    "sample_meta_white.Cognition_phenotype.value_counts()"
   ]
  },
  {
   "cell_type": "code",
   "execution_count": 244,
   "metadata": {},
   "outputs": [
    {
     "data": {
      "text/plain": [
       "HCnoCI    618\n",
       "PDnoCI    602\n",
       "PDMCI     282\n",
       "HCMCI     114\n",
       "PDD        57\n",
       "HCD         5\n",
       "Name: Cognition_phenotype, dtype: int64"
      ]
     },
     "execution_count": 244,
     "metadata": {},
     "output_type": "execute_result"
    }
   ],
   "source": [
    "sample_meta.Cognition_phenotype.value_counts()"
   ]
  },
  {
   "cell_type": "code",
   "execution_count": 245,
   "metadata": {},
   "outputs": [
    {
     "data": {
      "text/plain": [
       "False"
      ]
     },
     "execution_count": 245,
     "metadata": {},
     "output_type": "execute_result"
    }
   ],
   "source": [
    "sample_meta_white['participant_id'].duplicated().any()"
   ]
  },
  {
   "cell_type": "code",
   "execution_count": 246,
   "metadata": {},
   "outputs": [],
   "source": [
    "participant_id_M0 = sample_meta_white.participant_id"
   ]
  },
  {
   "cell_type": "code",
   "execution_count": 247,
   "metadata": {},
   "outputs": [],
   "source": [
    "#participant_id_M0.to_csv(f'{WORKSPACE_BUCKET}/Participant_id_M0.csv', header=\"participant_id\")"
   ]
  },
  {
   "cell_type": "code",
   "execution_count": 248,
   "metadata": {},
   "outputs": [],
   "source": [
    "#sample_meta_white.to_csv(f'{WORKSPACE_BUCKET}/sample_meta_white_final_PDD_PDMCI_PDNC.csv')"
   ]
  },
  {
   "cell_type": "code",
   "execution_count": 249,
   "metadata": {},
   "outputs": [
    {
     "data": {
      "text/html": [
       "<div>\n",
       "<style scoped>\n",
       "    .dataframe tbody tr th:only-of-type {\n",
       "        vertical-align: middle;\n",
       "    }\n",
       "\n",
       "    .dataframe tbody tr th {\n",
       "        vertical-align: top;\n",
       "    }\n",
       "\n",
       "    .dataframe thead th {\n",
       "        text-align: right;\n",
       "    }\n",
       "</style>\n",
       "<table border=\"1\" class=\"dataframe\">\n",
       "  <thead>\n",
       "    <tr style=\"text-align: right;\">\n",
       "      <th></th>\n",
       "      <th>participant_id</th>\n",
       "      <th>GUID</th>\n",
       "      <th>visit_month</th>\n",
       "      <th>sample_id</th>\n",
       "      <th>PCT_USABLE_BASES</th>\n",
       "      <th>Plate</th>\n",
       "      <th>STRAND_BALANCE</th>\n",
       "      <th>diagnosis_at_baseline</th>\n",
       "      <th>diagnosis_latest</th>\n",
       "      <th>case_control_other_at_baseline</th>\n",
       "      <th>...</th>\n",
       "      <th>age_at_baseline</th>\n",
       "      <th>age_at_diagnosis</th>\n",
       "      <th>disease_duration</th>\n",
       "      <th>sex</th>\n",
       "      <th>ethnicity</th>\n",
       "      <th>race</th>\n",
       "      <th>education_level_years</th>\n",
       "      <th>moca_total_score</th>\n",
       "      <th>Cognition_phenotype</th>\n",
       "      <th>age_baseline_range</th>\n",
       "    </tr>\n",
       "  </thead>\n",
       "  <tbody>\n",
       "    <tr>\n",
       "      <th>0</th>\n",
       "      <td>BF-1001</td>\n",
       "      <td>PDNW781VHY</td>\n",
       "      <td>0</td>\n",
       "      <td>BF-1001-SVM0_5T1</td>\n",
       "      <td>0.379947</td>\n",
       "      <td>P341</td>\n",
       "      <td>0.628003</td>\n",
       "      <td>No PD Nor Other Neurological Disorder</td>\n",
       "      <td>No PD Nor Other Neurological Disorder</td>\n",
       "      <td>Control</td>\n",
       "      <td>...</td>\n",
       "      <td>55.0</td>\n",
       "      <td>NaN</td>\n",
       "      <td>NaN</td>\n",
       "      <td>Male</td>\n",
       "      <td>Not Hispanic or Latino</td>\n",
       "      <td>White</td>\n",
       "      <td>12-16 years</td>\n",
       "      <td>28.0</td>\n",
       "      <td>HCnoCI</td>\n",
       "      <td>55_to_65</td>\n",
       "    </tr>\n",
       "    <tr>\n",
       "      <th>1</th>\n",
       "      <td>BF-1002</td>\n",
       "      <td>PDCB969UGG</td>\n",
       "      <td>0</td>\n",
       "      <td>BF-1002-SVM0_5T1</td>\n",
       "      <td>0.204625</td>\n",
       "      <td>P341</td>\n",
       "      <td>0.750852</td>\n",
       "      <td>Idiopathic PD</td>\n",
       "      <td>Idiopathic PD</td>\n",
       "      <td>Case</td>\n",
       "      <td>...</td>\n",
       "      <td>66.0</td>\n",
       "      <td>61.0</td>\n",
       "      <td>5.0</td>\n",
       "      <td>Female</td>\n",
       "      <td>Not Hispanic or Latino</td>\n",
       "      <td>White</td>\n",
       "      <td>12-16 years</td>\n",
       "      <td>29.0</td>\n",
       "      <td>PDnoCI</td>\n",
       "      <td>above_65</td>\n",
       "    </tr>\n",
       "    <tr>\n",
       "      <th>2</th>\n",
       "      <td>BF-1003</td>\n",
       "      <td>PDLW805AHT</td>\n",
       "      <td>0</td>\n",
       "      <td>BF-1003-SVM0_5T1</td>\n",
       "      <td>0.251916</td>\n",
       "      <td>P341</td>\n",
       "      <td>0.714203</td>\n",
       "      <td>Idiopathic PD</td>\n",
       "      <td>Idiopathic PD</td>\n",
       "      <td>Case</td>\n",
       "      <td>...</td>\n",
       "      <td>61.0</td>\n",
       "      <td>56.0</td>\n",
       "      <td>5.0</td>\n",
       "      <td>Male</td>\n",
       "      <td>Not Hispanic or Latino</td>\n",
       "      <td>White</td>\n",
       "      <td>12-16 years</td>\n",
       "      <td>30.0</td>\n",
       "      <td>PDnoCI</td>\n",
       "      <td>55_to_65</td>\n",
       "    </tr>\n",
       "    <tr>\n",
       "      <th>3</th>\n",
       "      <td>BF-1004</td>\n",
       "      <td>PDKW284DYW</td>\n",
       "      <td>0</td>\n",
       "      <td>BF-1004-SVM0_5T1</td>\n",
       "      <td>0.269126</td>\n",
       "      <td>P341</td>\n",
       "      <td>0.675027</td>\n",
       "      <td>Idiopathic PD</td>\n",
       "      <td>Idiopathic PD</td>\n",
       "      <td>Case</td>\n",
       "      <td>...</td>\n",
       "      <td>62.0</td>\n",
       "      <td>55.0</td>\n",
       "      <td>7.0</td>\n",
       "      <td>Male</td>\n",
       "      <td>Not Hispanic or Latino</td>\n",
       "      <td>White</td>\n",
       "      <td>12-16 years</td>\n",
       "      <td>28.0</td>\n",
       "      <td>PDnoCI</td>\n",
       "      <td>55_to_65</td>\n",
       "    </tr>\n",
       "    <tr>\n",
       "      <th>4</th>\n",
       "      <td>BF-1005</td>\n",
       "      <td>PDTM274KX6</td>\n",
       "      <td>0</td>\n",
       "      <td>BF-1005-SVM0_5T1</td>\n",
       "      <td>0.319619</td>\n",
       "      <td>P341</td>\n",
       "      <td>0.595464</td>\n",
       "      <td>No PD Nor Other Neurological Disorder</td>\n",
       "      <td>No PD Nor Other Neurological Disorder</td>\n",
       "      <td>Control</td>\n",
       "      <td>...</td>\n",
       "      <td>61.0</td>\n",
       "      <td>NaN</td>\n",
       "      <td>NaN</td>\n",
       "      <td>Female</td>\n",
       "      <td>Not Hispanic or Latino</td>\n",
       "      <td>White</td>\n",
       "      <td>12-16 years</td>\n",
       "      <td>27.0</td>\n",
       "      <td>HCnoCI</td>\n",
       "      <td>55_to_65</td>\n",
       "    </tr>\n",
       "  </tbody>\n",
       "</table>\n",
       "<p>5 rows × 21 columns</p>\n",
       "</div>"
      ],
      "text/plain": [
       "  participant_id        GUID  visit_month         sample_id  PCT_USABLE_BASES  \\\n",
       "0        BF-1001  PDNW781VHY            0  BF-1001-SVM0_5T1          0.379947   \n",
       "1        BF-1002  PDCB969UGG            0  BF-1002-SVM0_5T1          0.204625   \n",
       "2        BF-1003  PDLW805AHT            0  BF-1003-SVM0_5T1          0.251916   \n",
       "3        BF-1004  PDKW284DYW            0  BF-1004-SVM0_5T1          0.269126   \n",
       "4        BF-1005  PDTM274KX6            0  BF-1005-SVM0_5T1          0.319619   \n",
       "\n",
       "  Plate  STRAND_BALANCE                  diagnosis_at_baseline  \\\n",
       "0  P341        0.628003  No PD Nor Other Neurological Disorder   \n",
       "1  P341        0.750852                          Idiopathic PD   \n",
       "2  P341        0.714203                          Idiopathic PD   \n",
       "3  P341        0.675027                          Idiopathic PD   \n",
       "4  P341        0.595464  No PD Nor Other Neurological Disorder   \n",
       "\n",
       "                        diagnosis_latest case_control_other_at_baseline  ...  \\\n",
       "0  No PD Nor Other Neurological Disorder                        Control  ...   \n",
       "1                          Idiopathic PD                           Case  ...   \n",
       "2                          Idiopathic PD                           Case  ...   \n",
       "3                          Idiopathic PD                           Case  ...   \n",
       "4  No PD Nor Other Neurological Disorder                        Control  ...   \n",
       "\n",
       "  age_at_baseline  age_at_diagnosis  disease_duration     sex  \\\n",
       "0            55.0               NaN               NaN    Male   \n",
       "1            66.0              61.0               5.0  Female   \n",
       "2            61.0              56.0               5.0    Male   \n",
       "3            62.0              55.0               7.0    Male   \n",
       "4            61.0               NaN               NaN  Female   \n",
       "\n",
       "                ethnicity   race education_level_years moca_total_score  \\\n",
       "0  Not Hispanic or Latino  White           12-16 years             28.0   \n",
       "1  Not Hispanic or Latino  White           12-16 years             29.0   \n",
       "2  Not Hispanic or Latino  White           12-16 years             30.0   \n",
       "3  Not Hispanic or Latino  White           12-16 years             28.0   \n",
       "4  Not Hispanic or Latino  White           12-16 years             27.0   \n",
       "\n",
       "   Cognition_phenotype age_baseline_range  \n",
       "0               HCnoCI           55_to_65  \n",
       "1               PDnoCI           above_65  \n",
       "2               PDnoCI           55_to_65  \n",
       "3               PDnoCI           55_to_65  \n",
       "4               HCnoCI           55_to_65  \n",
       "\n",
       "[5 rows x 21 columns]"
      ]
     },
     "execution_count": 249,
     "metadata": {},
     "output_type": "execute_result"
    }
   ],
   "source": [
    "sample_meta_white.head()\n"
   ]
  },
  {
   "cell_type": "code",
   "execution_count": 250,
   "metadata": {},
   "outputs": [
    {
     "name": "stderr",
     "output_type": "stream",
     "text": [
      "/opt/conda/lib/python3.7/site-packages/pandas/core/frame.py:3641: SettingWithCopyWarning: \n",
      "A value is trying to be set on a copy of a slice from a DataFrame.\n",
      "Try using .loc[row_indexer,col_indexer] = value instead\n",
      "\n",
      "See the caveats in the documentation: https://pandas.pydata.org/pandas-docs/stable/user_guide/indexing.html#returning-a-view-versus-a-copy\n",
      "  self[k1] = value[k2]\n"
     ]
    }
   ],
   "source": [
    "sample_meta_white[['belonging_cohort', 'ID_number']] = sample_meta_white['participant_id'].str.split('-', 1, expand=True)\n"
   ]
  },
  {
   "cell_type": "code",
   "execution_count": 251,
   "metadata": {},
   "outputs": [
    {
     "data": {
      "text/plain": [
       "PD    1068\n",
       "PP     319\n",
       "BF     176\n",
       "Name: belonging_cohort, dtype: int64"
      ]
     },
     "execution_count": 251,
     "metadata": {},
     "output_type": "execute_result"
    }
   ],
   "source": [
    "sample_meta_white.belonging_cohort.value_counts()"
   ]
  },
  {
   "cell_type": "code",
   "execution_count": 252,
   "metadata": {},
   "outputs": [
    {
     "data": {
      "text/html": [
       "<div>\n",
       "<style scoped>\n",
       "    .dataframe tbody tr th:only-of-type {\n",
       "        vertical-align: middle;\n",
       "    }\n",
       "\n",
       "    .dataframe tbody tr th {\n",
       "        vertical-align: top;\n",
       "    }\n",
       "\n",
       "    .dataframe thead th {\n",
       "        text-align: right;\n",
       "    }\n",
       "</style>\n",
       "<table border=\"1\" class=\"dataframe\">\n",
       "  <thead>\n",
       "    <tr style=\"text-align: right;\">\n",
       "      <th></th>\n",
       "      <th>participant_id</th>\n",
       "      <th>GUID</th>\n",
       "      <th>visit_month</th>\n",
       "      <th>sample_id</th>\n",
       "      <th>PCT_USABLE_BASES</th>\n",
       "      <th>Plate</th>\n",
       "      <th>STRAND_BALANCE</th>\n",
       "      <th>diagnosis_at_baseline</th>\n",
       "      <th>diagnosis_latest</th>\n",
       "      <th>case_control_other_at_baseline</th>\n",
       "      <th>...</th>\n",
       "      <th>disease_duration</th>\n",
       "      <th>sex</th>\n",
       "      <th>ethnicity</th>\n",
       "      <th>race</th>\n",
       "      <th>education_level_years</th>\n",
       "      <th>moca_total_score</th>\n",
       "      <th>Cognition_phenotype</th>\n",
       "      <th>age_baseline_range</th>\n",
       "      <th>belonging_cohort</th>\n",
       "      <th>ID_number</th>\n",
       "    </tr>\n",
       "  </thead>\n",
       "  <tbody>\n",
       "    <tr>\n",
       "      <th>0</th>\n",
       "      <td>BF-1001</td>\n",
       "      <td>PDNW781VHY</td>\n",
       "      <td>0</td>\n",
       "      <td>BF-1001-SVM0_5T1</td>\n",
       "      <td>0.379947</td>\n",
       "      <td>P341</td>\n",
       "      <td>0.628003</td>\n",
       "      <td>No PD Nor Other Neurological Disorder</td>\n",
       "      <td>No PD Nor Other Neurological Disorder</td>\n",
       "      <td>Control</td>\n",
       "      <td>...</td>\n",
       "      <td>NaN</td>\n",
       "      <td>Male</td>\n",
       "      <td>Not Hispanic or Latino</td>\n",
       "      <td>White</td>\n",
       "      <td>12-16 years</td>\n",
       "      <td>28.0</td>\n",
       "      <td>HCnoCI</td>\n",
       "      <td>55_to_65</td>\n",
       "      <td>BF</td>\n",
       "      <td>1001</td>\n",
       "    </tr>\n",
       "    <tr>\n",
       "      <th>1</th>\n",
       "      <td>BF-1002</td>\n",
       "      <td>PDCB969UGG</td>\n",
       "      <td>0</td>\n",
       "      <td>BF-1002-SVM0_5T1</td>\n",
       "      <td>0.204625</td>\n",
       "      <td>P341</td>\n",
       "      <td>0.750852</td>\n",
       "      <td>Idiopathic PD</td>\n",
       "      <td>Idiopathic PD</td>\n",
       "      <td>Case</td>\n",
       "      <td>...</td>\n",
       "      <td>5.0</td>\n",
       "      <td>Female</td>\n",
       "      <td>Not Hispanic or Latino</td>\n",
       "      <td>White</td>\n",
       "      <td>12-16 years</td>\n",
       "      <td>29.0</td>\n",
       "      <td>PDnoCI</td>\n",
       "      <td>above_65</td>\n",
       "      <td>BF</td>\n",
       "      <td>1002</td>\n",
       "    </tr>\n",
       "    <tr>\n",
       "      <th>2</th>\n",
       "      <td>BF-1003</td>\n",
       "      <td>PDLW805AHT</td>\n",
       "      <td>0</td>\n",
       "      <td>BF-1003-SVM0_5T1</td>\n",
       "      <td>0.251916</td>\n",
       "      <td>P341</td>\n",
       "      <td>0.714203</td>\n",
       "      <td>Idiopathic PD</td>\n",
       "      <td>Idiopathic PD</td>\n",
       "      <td>Case</td>\n",
       "      <td>...</td>\n",
       "      <td>5.0</td>\n",
       "      <td>Male</td>\n",
       "      <td>Not Hispanic or Latino</td>\n",
       "      <td>White</td>\n",
       "      <td>12-16 years</td>\n",
       "      <td>30.0</td>\n",
       "      <td>PDnoCI</td>\n",
       "      <td>55_to_65</td>\n",
       "      <td>BF</td>\n",
       "      <td>1003</td>\n",
       "    </tr>\n",
       "    <tr>\n",
       "      <th>3</th>\n",
       "      <td>BF-1004</td>\n",
       "      <td>PDKW284DYW</td>\n",
       "      <td>0</td>\n",
       "      <td>BF-1004-SVM0_5T1</td>\n",
       "      <td>0.269126</td>\n",
       "      <td>P341</td>\n",
       "      <td>0.675027</td>\n",
       "      <td>Idiopathic PD</td>\n",
       "      <td>Idiopathic PD</td>\n",
       "      <td>Case</td>\n",
       "      <td>...</td>\n",
       "      <td>7.0</td>\n",
       "      <td>Male</td>\n",
       "      <td>Not Hispanic or Latino</td>\n",
       "      <td>White</td>\n",
       "      <td>12-16 years</td>\n",
       "      <td>28.0</td>\n",
       "      <td>PDnoCI</td>\n",
       "      <td>55_to_65</td>\n",
       "      <td>BF</td>\n",
       "      <td>1004</td>\n",
       "    </tr>\n",
       "    <tr>\n",
       "      <th>4</th>\n",
       "      <td>BF-1005</td>\n",
       "      <td>PDTM274KX6</td>\n",
       "      <td>0</td>\n",
       "      <td>BF-1005-SVM0_5T1</td>\n",
       "      <td>0.319619</td>\n",
       "      <td>P341</td>\n",
       "      <td>0.595464</td>\n",
       "      <td>No PD Nor Other Neurological Disorder</td>\n",
       "      <td>No PD Nor Other Neurological Disorder</td>\n",
       "      <td>Control</td>\n",
       "      <td>...</td>\n",
       "      <td>NaN</td>\n",
       "      <td>Female</td>\n",
       "      <td>Not Hispanic or Latino</td>\n",
       "      <td>White</td>\n",
       "      <td>12-16 years</td>\n",
       "      <td>27.0</td>\n",
       "      <td>HCnoCI</td>\n",
       "      <td>55_to_65</td>\n",
       "      <td>BF</td>\n",
       "      <td>1005</td>\n",
       "    </tr>\n",
       "  </tbody>\n",
       "</table>\n",
       "<p>5 rows × 23 columns</p>\n",
       "</div>"
      ],
      "text/plain": [
       "  participant_id        GUID  visit_month         sample_id  PCT_USABLE_BASES  \\\n",
       "0        BF-1001  PDNW781VHY            0  BF-1001-SVM0_5T1          0.379947   \n",
       "1        BF-1002  PDCB969UGG            0  BF-1002-SVM0_5T1          0.204625   \n",
       "2        BF-1003  PDLW805AHT            0  BF-1003-SVM0_5T1          0.251916   \n",
       "3        BF-1004  PDKW284DYW            0  BF-1004-SVM0_5T1          0.269126   \n",
       "4        BF-1005  PDTM274KX6            0  BF-1005-SVM0_5T1          0.319619   \n",
       "\n",
       "  Plate  STRAND_BALANCE                  diagnosis_at_baseline  \\\n",
       "0  P341        0.628003  No PD Nor Other Neurological Disorder   \n",
       "1  P341        0.750852                          Idiopathic PD   \n",
       "2  P341        0.714203                          Idiopathic PD   \n",
       "3  P341        0.675027                          Idiopathic PD   \n",
       "4  P341        0.595464  No PD Nor Other Neurological Disorder   \n",
       "\n",
       "                        diagnosis_latest case_control_other_at_baseline  ...  \\\n",
       "0  No PD Nor Other Neurological Disorder                        Control  ...   \n",
       "1                          Idiopathic PD                           Case  ...   \n",
       "2                          Idiopathic PD                           Case  ...   \n",
       "3                          Idiopathic PD                           Case  ...   \n",
       "4  No PD Nor Other Neurological Disorder                        Control  ...   \n",
       "\n",
       "  disease_duration     sex               ethnicity   race  \\\n",
       "0              NaN    Male  Not Hispanic or Latino  White   \n",
       "1              5.0  Female  Not Hispanic or Latino  White   \n",
       "2              5.0    Male  Not Hispanic or Latino  White   \n",
       "3              7.0    Male  Not Hispanic or Latino  White   \n",
       "4              NaN  Female  Not Hispanic or Latino  White   \n",
       "\n",
       "  education_level_years moca_total_score Cognition_phenotype  \\\n",
       "0           12-16 years             28.0              HCnoCI   \n",
       "1           12-16 years             29.0              PDnoCI   \n",
       "2           12-16 years             30.0              PDnoCI   \n",
       "3           12-16 years             28.0              PDnoCI   \n",
       "4           12-16 years             27.0              HCnoCI   \n",
       "\n",
       "  age_baseline_range  belonging_cohort ID_number  \n",
       "0           55_to_65                BF      1001  \n",
       "1           above_65                BF      1002  \n",
       "2           55_to_65                BF      1003  \n",
       "3           55_to_65                BF      1004  \n",
       "4           55_to_65                BF      1005  \n",
       "\n",
       "[5 rows x 23 columns]"
      ]
     },
     "execution_count": 252,
     "metadata": {},
     "output_type": "execute_result"
    }
   ],
   "source": [
    "sample_meta_white.head()"
   ]
  },
  {
   "cell_type": "code",
   "execution_count": 253,
   "metadata": {},
   "outputs": [],
   "source": [
    "sample_meta_white_BF_cohort = sample_meta_white.loc[sample_meta_white.belonging_cohort==\"BF\"]"
   ]
  },
  {
   "cell_type": "code",
   "execution_count": 254,
   "metadata": {},
   "outputs": [
    {
     "data": {
      "text/plain": [
       "(176, 23)"
      ]
     },
     "execution_count": 254,
     "metadata": {},
     "output_type": "execute_result"
    }
   ],
   "source": [
    "sample_meta_white_BF_cohort.shape"
   ]
  },
  {
   "cell_type": "code",
   "execution_count": 255,
   "metadata": {},
   "outputs": [
    {
     "data": {
      "text/html": [
       "<div>\n",
       "<style scoped>\n",
       "    .dataframe tbody tr th:only-of-type {\n",
       "        vertical-align: middle;\n",
       "    }\n",
       "\n",
       "    .dataframe tbody tr th {\n",
       "        vertical-align: top;\n",
       "    }\n",
       "\n",
       "    .dataframe thead th {\n",
       "        text-align: right;\n",
       "    }\n",
       "</style>\n",
       "<table border=\"1\" class=\"dataframe\">\n",
       "  <thead>\n",
       "    <tr style=\"text-align: right;\">\n",
       "      <th></th>\n",
       "      <th>participant_id</th>\n",
       "      <th>GUID</th>\n",
       "      <th>visit_month</th>\n",
       "      <th>sample_id</th>\n",
       "      <th>PCT_USABLE_BASES</th>\n",
       "      <th>Plate</th>\n",
       "      <th>STRAND_BALANCE</th>\n",
       "      <th>diagnosis_at_baseline</th>\n",
       "      <th>diagnosis_latest</th>\n",
       "      <th>case_control_other_at_baseline</th>\n",
       "      <th>...</th>\n",
       "      <th>disease_duration</th>\n",
       "      <th>sex</th>\n",
       "      <th>ethnicity</th>\n",
       "      <th>race</th>\n",
       "      <th>education_level_years</th>\n",
       "      <th>moca_total_score</th>\n",
       "      <th>Cognition_phenotype</th>\n",
       "      <th>age_baseline_range</th>\n",
       "      <th>belonging_cohort</th>\n",
       "      <th>ID_number</th>\n",
       "    </tr>\n",
       "  </thead>\n",
       "  <tbody>\n",
       "    <tr>\n",
       "      <th>0</th>\n",
       "      <td>BF-1001</td>\n",
       "      <td>PDNW781VHY</td>\n",
       "      <td>0</td>\n",
       "      <td>BF-1001-SVM0_5T1</td>\n",
       "      <td>0.379947</td>\n",
       "      <td>P341</td>\n",
       "      <td>0.628003</td>\n",
       "      <td>No PD Nor Other Neurological Disorder</td>\n",
       "      <td>No PD Nor Other Neurological Disorder</td>\n",
       "      <td>Control</td>\n",
       "      <td>...</td>\n",
       "      <td>NaN</td>\n",
       "      <td>Male</td>\n",
       "      <td>Not Hispanic or Latino</td>\n",
       "      <td>White</td>\n",
       "      <td>12-16 years</td>\n",
       "      <td>28.0</td>\n",
       "      <td>HCnoCI</td>\n",
       "      <td>55_to_65</td>\n",
       "      <td>BF</td>\n",
       "      <td>1001</td>\n",
       "    </tr>\n",
       "    <tr>\n",
       "      <th>1</th>\n",
       "      <td>BF-1002</td>\n",
       "      <td>PDCB969UGG</td>\n",
       "      <td>0</td>\n",
       "      <td>BF-1002-SVM0_5T1</td>\n",
       "      <td>0.204625</td>\n",
       "      <td>P341</td>\n",
       "      <td>0.750852</td>\n",
       "      <td>Idiopathic PD</td>\n",
       "      <td>Idiopathic PD</td>\n",
       "      <td>Case</td>\n",
       "      <td>...</td>\n",
       "      <td>5.0</td>\n",
       "      <td>Female</td>\n",
       "      <td>Not Hispanic or Latino</td>\n",
       "      <td>White</td>\n",
       "      <td>12-16 years</td>\n",
       "      <td>29.0</td>\n",
       "      <td>PDnoCI</td>\n",
       "      <td>above_65</td>\n",
       "      <td>BF</td>\n",
       "      <td>1002</td>\n",
       "    </tr>\n",
       "    <tr>\n",
       "      <th>2</th>\n",
       "      <td>BF-1003</td>\n",
       "      <td>PDLW805AHT</td>\n",
       "      <td>0</td>\n",
       "      <td>BF-1003-SVM0_5T1</td>\n",
       "      <td>0.251916</td>\n",
       "      <td>P341</td>\n",
       "      <td>0.714203</td>\n",
       "      <td>Idiopathic PD</td>\n",
       "      <td>Idiopathic PD</td>\n",
       "      <td>Case</td>\n",
       "      <td>...</td>\n",
       "      <td>5.0</td>\n",
       "      <td>Male</td>\n",
       "      <td>Not Hispanic or Latino</td>\n",
       "      <td>White</td>\n",
       "      <td>12-16 years</td>\n",
       "      <td>30.0</td>\n",
       "      <td>PDnoCI</td>\n",
       "      <td>55_to_65</td>\n",
       "      <td>BF</td>\n",
       "      <td>1003</td>\n",
       "    </tr>\n",
       "    <tr>\n",
       "      <th>3</th>\n",
       "      <td>BF-1004</td>\n",
       "      <td>PDKW284DYW</td>\n",
       "      <td>0</td>\n",
       "      <td>BF-1004-SVM0_5T1</td>\n",
       "      <td>0.269126</td>\n",
       "      <td>P341</td>\n",
       "      <td>0.675027</td>\n",
       "      <td>Idiopathic PD</td>\n",
       "      <td>Idiopathic PD</td>\n",
       "      <td>Case</td>\n",
       "      <td>...</td>\n",
       "      <td>7.0</td>\n",
       "      <td>Male</td>\n",
       "      <td>Not Hispanic or Latino</td>\n",
       "      <td>White</td>\n",
       "      <td>12-16 years</td>\n",
       "      <td>28.0</td>\n",
       "      <td>PDnoCI</td>\n",
       "      <td>55_to_65</td>\n",
       "      <td>BF</td>\n",
       "      <td>1004</td>\n",
       "    </tr>\n",
       "    <tr>\n",
       "      <th>4</th>\n",
       "      <td>BF-1005</td>\n",
       "      <td>PDTM274KX6</td>\n",
       "      <td>0</td>\n",
       "      <td>BF-1005-SVM0_5T1</td>\n",
       "      <td>0.319619</td>\n",
       "      <td>P341</td>\n",
       "      <td>0.595464</td>\n",
       "      <td>No PD Nor Other Neurological Disorder</td>\n",
       "      <td>No PD Nor Other Neurological Disorder</td>\n",
       "      <td>Control</td>\n",
       "      <td>...</td>\n",
       "      <td>NaN</td>\n",
       "      <td>Female</td>\n",
       "      <td>Not Hispanic or Latino</td>\n",
       "      <td>White</td>\n",
       "      <td>12-16 years</td>\n",
       "      <td>27.0</td>\n",
       "      <td>HCnoCI</td>\n",
       "      <td>55_to_65</td>\n",
       "      <td>BF</td>\n",
       "      <td>1005</td>\n",
       "    </tr>\n",
       "  </tbody>\n",
       "</table>\n",
       "<p>5 rows × 23 columns</p>\n",
       "</div>"
      ],
      "text/plain": [
       "  participant_id        GUID  visit_month         sample_id  PCT_USABLE_BASES  \\\n",
       "0        BF-1001  PDNW781VHY            0  BF-1001-SVM0_5T1          0.379947   \n",
       "1        BF-1002  PDCB969UGG            0  BF-1002-SVM0_5T1          0.204625   \n",
       "2        BF-1003  PDLW805AHT            0  BF-1003-SVM0_5T1          0.251916   \n",
       "3        BF-1004  PDKW284DYW            0  BF-1004-SVM0_5T1          0.269126   \n",
       "4        BF-1005  PDTM274KX6            0  BF-1005-SVM0_5T1          0.319619   \n",
       "\n",
       "  Plate  STRAND_BALANCE                  diagnosis_at_baseline  \\\n",
       "0  P341        0.628003  No PD Nor Other Neurological Disorder   \n",
       "1  P341        0.750852                          Idiopathic PD   \n",
       "2  P341        0.714203                          Idiopathic PD   \n",
       "3  P341        0.675027                          Idiopathic PD   \n",
       "4  P341        0.595464  No PD Nor Other Neurological Disorder   \n",
       "\n",
       "                        diagnosis_latest case_control_other_at_baseline  ...  \\\n",
       "0  No PD Nor Other Neurological Disorder                        Control  ...   \n",
       "1                          Idiopathic PD                           Case  ...   \n",
       "2                          Idiopathic PD                           Case  ...   \n",
       "3                          Idiopathic PD                           Case  ...   \n",
       "4  No PD Nor Other Neurological Disorder                        Control  ...   \n",
       "\n",
       "  disease_duration     sex               ethnicity   race  \\\n",
       "0              NaN    Male  Not Hispanic or Latino  White   \n",
       "1              5.0  Female  Not Hispanic or Latino  White   \n",
       "2              5.0    Male  Not Hispanic or Latino  White   \n",
       "3              7.0    Male  Not Hispanic or Latino  White   \n",
       "4              NaN  Female  Not Hispanic or Latino  White   \n",
       "\n",
       "  education_level_years moca_total_score Cognition_phenotype  \\\n",
       "0           12-16 years             28.0              HCnoCI   \n",
       "1           12-16 years             29.0              PDnoCI   \n",
       "2           12-16 years             30.0              PDnoCI   \n",
       "3           12-16 years             28.0              PDnoCI   \n",
       "4           12-16 years             27.0              HCnoCI   \n",
       "\n",
       "  age_baseline_range  belonging_cohort ID_number  \n",
       "0           55_to_65                BF      1001  \n",
       "1           above_65                BF      1002  \n",
       "2           55_to_65                BF      1003  \n",
       "3           55_to_65                BF      1004  \n",
       "4           55_to_65                BF      1005  \n",
       "\n",
       "[5 rows x 23 columns]"
      ]
     },
     "execution_count": 255,
     "metadata": {},
     "output_type": "execute_result"
    }
   ],
   "source": [
    "sample_meta_white_BF_cohort.head()"
   ]
  },
  {
   "cell_type": "code",
   "execution_count": 256,
   "metadata": {},
   "outputs": [],
   "source": [
    "#sample_meta_white_BF_cohort.to_csv(f'{WORKSPACE_BUCKET}/sample_meta_white_BF_cohort_final_PDD_PDMCI_PDNC.csv')"
   ]
  },
  {
   "cell_type": "code",
   "execution_count": 257,
   "metadata": {},
   "outputs": [
    {
     "data": {
      "text/plain": [
       "Index(['participant_id', 'GUID', 'visit_month', 'sample_id',\n",
       "       'PCT_USABLE_BASES', 'Plate', 'STRAND_BALANCE', 'diagnosis_at_baseline',\n",
       "       'diagnosis_latest', 'case_control_other_at_baseline',\n",
       "       'case_control_other_latest', 'age_at_baseline', 'age_at_diagnosis',\n",
       "       'disease_duration', 'sex', 'ethnicity', 'race', 'education_level_years',\n",
       "       'moca_total_score', 'Cognition_phenotype', 'age_baseline_range',\n",
       "       'belonging_cohort', 'ID_number'],\n",
       "      dtype='object')"
      ]
     },
     "execution_count": 257,
     "metadata": {},
     "output_type": "execute_result"
    }
   ],
   "source": [
    "sample_meta_white_BF_cohort.columns"
   ]
  },
  {
   "cell_type": "code",
   "execution_count": 258,
   "metadata": {},
   "outputs": [
    {
     "data": {
      "text/plain": [
       "Male      99\n",
       "Female    77\n",
       "Name: sex, dtype: int64"
      ]
     },
     "execution_count": 258,
     "metadata": {},
     "output_type": "execute_result"
    }
   ],
   "source": [
    "sample_meta_white_BF_cohort.sex.value_counts()"
   ]
  },
  {
   "cell_type": "code",
   "execution_count": 259,
   "metadata": {},
   "outputs": [
    {
     "data": {
      "text/plain": [
       "PDnoCI    82\n",
       "HCnoCI    75\n",
       "PDMCI     15\n",
       "PDD        2\n",
       "HCMCI      2\n",
       "Name: Cognition_phenotype, dtype: int64"
      ]
     },
     "execution_count": 259,
     "metadata": {},
     "output_type": "execute_result"
    }
   ],
   "source": [
    "sample_meta_white_BF_cohort.Cognition_phenotype.value_counts()"
   ]
  },
  {
   "cell_type": "code",
   "execution_count": 260,
   "metadata": {},
   "outputs": [
    {
     "name": "stdout",
     "output_type": "stream",
     "text": [
      "Mean: 67.65853658536585\n",
      "Median: 68.0\n",
      "Standard Deviation: 6.178855845573141\n"
     ]
    }
   ],
   "source": [
    "# Define the condition\n",
    "target_value = 'PDnoCI'\n",
    "condition = sample_meta_white_BF_cohort['Cognition_phenotype'] == target_value\n",
    "\n",
    "# Use boolean indexing to filter the DataFrame\n",
    "subset = sample_meta_white_BF_cohort.loc[condition, 'age_at_baseline']\n",
    "\n",
    "# Calculate basic statistics on the subset\n",
    "mean_value = subset.mean()\n",
    "median_value = subset.median()\n",
    "std_dev_value = subset.std()\n",
    "\n",
    "# Print the results\n",
    "print(f\"Mean: {mean_value}\")\n",
    "print(f\"Median: {median_value}\")\n",
    "print(f\"Standard Deviation: {std_dev_value}\")\n"
   ]
  },
  {
   "cell_type": "code",
   "execution_count": 261,
   "metadata": {},
   "outputs": [
    {
     "name": "stdout",
     "output_type": "stream",
     "text": [
      "Mean: 72.33333333333333\n",
      "Median: 72.0\n",
      "Standard Deviation: 6.031662488978672\n"
     ]
    }
   ],
   "source": [
    "# Define the condition\n",
    "target_value = 'PDMCI'\n",
    "condition = sample_meta_white_BF_cohort['Cognition_phenotype'] == target_value\n",
    "\n",
    "# Use boolean indexing to filter the DataFrame\n",
    "subset = sample_meta_white_BF_cohort.loc[condition, 'age_at_baseline']\n",
    "\n",
    "# Calculate basic statistics on the subset\n",
    "mean_value = subset.mean()\n",
    "median_value = subset.median()\n",
    "std_dev_value = subset.std()\n",
    "\n",
    "# Print the results\n",
    "print(f\"Mean: {mean_value}\")\n",
    "print(f\"Median: {median_value}\")\n",
    "print(f\"Standard Deviation: {std_dev_value}\")"
   ]
  },
  {
   "cell_type": "code",
   "execution_count": 262,
   "metadata": {},
   "outputs": [
    {
     "name": "stdout",
     "output_type": "stream",
     "text": [
      "Mean: 71.5\n",
      "Median: 71.5\n",
      "Standard Deviation: 2.1213203435596424\n"
     ]
    }
   ],
   "source": [
    "# Define the condition\n",
    "target_value = 'PDD'\n",
    "condition = sample_meta_white_BF_cohort['Cognition_phenotype'] == target_value\n",
    "\n",
    "# Use boolean indexing to filter the DataFrame\n",
    "subset = sample_meta_white_BF_cohort.loc[condition, 'age_at_baseline']\n",
    "\n",
    "# Calculate basic statistics on the subset\n",
    "mean_value = subset.mean()\n",
    "median_value = subset.median()\n",
    "std_dev_value = subset.std()\n",
    "\n",
    "# Print the results\n",
    "print(f\"Mean: {mean_value}\")\n",
    "print(f\"Median: {median_value}\")\n",
    "print(f\"Standard Deviation: {std_dev_value}\")"
   ]
  },
  {
   "cell_type": "code",
   "execution_count": 269,
   "metadata": {},
   "outputs": [],
   "source": [
    "sample_meta_white_BF_cohort_subsetting = sample_meta_white_BF_cohort.loc[sample_meta_white_BF_cohort.Cognition_phenotype==\"PDMCI\"]"
   ]
  },
  {
   "cell_type": "code",
   "execution_count": 270,
   "metadata": {},
   "outputs": [
    {
     "data": {
      "text/plain": [
       "Male      11\n",
       "Female     4\n",
       "Name: sex, dtype: int64"
      ]
     },
     "execution_count": 270,
     "metadata": {},
     "output_type": "execute_result"
    }
   ],
   "source": [
    "sample_meta_white_BF_cohort_subsetting.sex.value_counts()"
   ]
  },
  {
   "cell_type": "code",
   "execution_count": null,
   "metadata": {},
   "outputs": [],
   "source": []
  }
 ],
 "metadata": {
  "kernelspec": {
   "display_name": "Python 3",
   "language": "python",
   "name": "python3"
  },
  "language_info": {
   "codemirror_mode": {
    "name": "ipython",
    "version": 3
   },
   "file_extension": ".py",
   "mimetype": "text/x-python",
   "name": "python",
   "nbconvert_exporter": "python",
   "pygments_lexer": "ipython3",
   "version": "3.7.12"
  },
  "toc": {
   "base_numbering": 1,
   "nav_menu": {},
   "number_sections": true,
   "sideBar": true,
   "skip_h1_title": false,
   "title_cell": "Table of Contents",
   "title_sidebar": "Contents",
   "toc_cell": false,
   "toc_position": {},
   "toc_section_display": true,
   "toc_window_display": false
  }
 },
 "nbformat": 4,
 "nbformat_minor": 2
}
