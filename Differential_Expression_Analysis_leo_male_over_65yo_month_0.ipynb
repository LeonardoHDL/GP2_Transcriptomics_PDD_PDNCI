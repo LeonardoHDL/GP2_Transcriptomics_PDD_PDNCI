{
 "cells": [
  {
   "cell_type": "markdown",
   "metadata": {},
   "source": [
    "## Load libraries"
   ]
  },
  {
   "cell_type": "code",
   "execution_count": 5,
   "metadata": {},
   "outputs": [
    {
     "name": "stderr",
     "output_type": "stream",
     "text": [
      "Warning message in system(\"timedatectl\", intern = TRUE):\n",
      "“running command 'timedatectl' had status 1”\n",
      "── \u001b[1mAttaching core tidyverse packages\u001b[22m ──────────────────────── tidyverse 2.0.0 ──\n",
      "\u001b[32m✔\u001b[39m \u001b[34mdplyr    \u001b[39m 1.1.2     \u001b[32m✔\u001b[39m \u001b[34mreadr    \u001b[39m 2.1.4\n",
      "\u001b[32m✔\u001b[39m \u001b[34mforcats  \u001b[39m 1.0.0     \u001b[32m✔\u001b[39m \u001b[34mstringr  \u001b[39m 1.5.0\n",
      "\u001b[32m✔\u001b[39m \u001b[34mggplot2  \u001b[39m 3.4.2     \u001b[32m✔\u001b[39m \u001b[34mtibble   \u001b[39m 3.2.1\n",
      "\u001b[32m✔\u001b[39m \u001b[34mlubridate\u001b[39m 1.9.2     \u001b[32m✔\u001b[39m \u001b[34mtidyr    \u001b[39m 1.3.0\n",
      "\u001b[32m✔\u001b[39m \u001b[34mpurrr    \u001b[39m 1.0.1     \n",
      "── \u001b[1mConflicts\u001b[22m ────────────────────────────────────────── tidyverse_conflicts() ──\n",
      "\u001b[31m✖\u001b[39m \u001b[34mdplyr\u001b[39m::\u001b[32mfilter()\u001b[39m masks \u001b[34mstats\u001b[39m::filter()\n",
      "\u001b[31m✖\u001b[39m \u001b[34mdplyr\u001b[39m::\u001b[32mlag()\u001b[39m    masks \u001b[34mstats\u001b[39m::lag()\n",
      "\u001b[36mℹ\u001b[39m Use the conflicted package (\u001b[3m\u001b[34m<http://conflicted.r-lib.org/>\u001b[39m\u001b[23m) to force all conflicts to become errors\n",
      "Loading required package: limma\n",
      "\n",
      "\n",
      "Attaching package: ‘EnvStats’\n",
      "\n",
      "\n",
      "The following objects are masked from ‘package:stats’:\n",
      "\n",
      "    predict, predict.lm\n",
      "\n",
      "\n",
      "The following object is masked from ‘package:base’:\n",
      "\n",
      "    print.default\n",
      "\n",
      "\n"
     ]
    }
   ],
   "source": [
    "library(tidyverse) #basis for data manipulation, best practices\n",
    "library(edgeR) #expression normalization\n",
    "library(limma) #differential expression\n",
    "library(reticulate) # Load reticulate for calling the FireCloud Python API\n",
    "library(bigrquery) # Load biqrquery for interacting with BigQuery\n",
    "library(EnvStats)\n",
    "library(xlsx)"
   ]
  },
  {
   "cell_type": "markdown",
   "metadata": {},
   "source": [
    "## Initialize Workspace Variables"
   ]
  },
  {
   "cell_type": "code",
   "execution_count": 1,
   "metadata": {},
   "outputs": [],
   "source": [
    "BILLING_PROJECT_ID <- Sys.getenv('GOOGLE_PROJECT')\n",
    "WORKSPACE_NAMESPACE <- Sys.getenv('WORKSPACE_NAMESPACE')\n",
    "WORKSPACE_NAME <- Sys.getenv('WORKSPACE_NAME')\n",
    "WORKSPACE_BUCKET <- Sys.getenv('WORKSPACE_BUCKET')"
   ]
  },
  {
   "cell_type": "code",
   "execution_count": 6,
   "metadata": {},
   "outputs": [],
   "source": [
    "# Utility routine for printing a shell command before executing it\n",
    "shell_do <- function(command) {\n",
    "    print(paste('Executing: ', command))\n",
    "    system(command, intern = TRUE)\n",
    "}"
   ]
  },
  {
   "cell_type": "code",
   "execution_count": 7,
   "metadata": {},
   "outputs": [],
   "source": [
    "gcs_read_file <- function(path) {\n",
    "    pipe(str_glue('gsutil -u {BILLING_PROJECT_ID} cat {path}'))\n",
    "}"
   ]
  },
  {
   "cell_type": "code",
   "execution_count": 8,
   "metadata": {},
   "outputs": [],
   "source": [
    "#Sample metadata\n",
    "samplemetaPath <- file.path({WORKSPACE_BUCKET}, 'sample_meta_white_final_PDD_PDMCI_PDNC.csv')\n",
    "tmp <- gcs_read_file(samplemetaPath)\n",
    "sample_meta <- read.csv(tmp,header=TRUE)"
   ]
  },
  {
   "cell_type": "code",
   "execution_count": 15,
   "metadata": {},
   "outputs": [
    {
     "data": {
      "text/html": [
       "<style>\n",
       ".list-inline {list-style: none; margin:0; padding: 0}\n",
       ".list-inline>li {display: inline-block}\n",
       ".list-inline>li:not(:last-child)::after {content: \"\\00b7\"; padding: 0 .5ex}\n",
       "</style>\n",
       "<ol class=list-inline><li>'X'</li><li>'participant_id'</li><li>'GUID'</li><li>'visit_month'</li><li>'sample_id'</li><li>'PCT_USABLE_BASES'</li><li>'Plate'</li><li>'STRAND_BALANCE'</li><li>'diagnosis_at_baseline'</li><li>'diagnosis_latest'</li><li>'case_control_other_at_baseline'</li><li>'case_control_other_latest'</li><li>'age_at_baseline'</li><li>'age_at_diagnosis'</li><li>'disease_duration'</li><li>'sex'</li><li>'ethnicity'</li><li>'race'</li><li>'education_level_years'</li><li>'moca_total_score'</li><li>'Cognition_phenotype'</li><li>'age_baseline_range'</li></ol>\n"
      ],
      "text/latex": [
       "\\begin{enumerate*}\n",
       "\\item 'X'\n",
       "\\item 'participant\\_id'\n",
       "\\item 'GUID'\n",
       "\\item 'visit\\_month'\n",
       "\\item 'sample\\_id'\n",
       "\\item 'PCT\\_USABLE\\_BASES'\n",
       "\\item 'Plate'\n",
       "\\item 'STRAND\\_BALANCE'\n",
       "\\item 'diagnosis\\_at\\_baseline'\n",
       "\\item 'diagnosis\\_latest'\n",
       "\\item 'case\\_control\\_other\\_at\\_baseline'\n",
       "\\item 'case\\_control\\_other\\_latest'\n",
       "\\item 'age\\_at\\_baseline'\n",
       "\\item 'age\\_at\\_diagnosis'\n",
       "\\item 'disease\\_duration'\n",
       "\\item 'sex'\n",
       "\\item 'ethnicity'\n",
       "\\item 'race'\n",
       "\\item 'education\\_level\\_years'\n",
       "\\item 'moca\\_total\\_score'\n",
       "\\item 'Cognition\\_phenotype'\n",
       "\\item 'age\\_baseline\\_range'\n",
       "\\end{enumerate*}\n"
      ],
      "text/markdown": [
       "1. 'X'\n",
       "2. 'participant_id'\n",
       "3. 'GUID'\n",
       "4. 'visit_month'\n",
       "5. 'sample_id'\n",
       "6. 'PCT_USABLE_BASES'\n",
       "7. 'Plate'\n",
       "8. 'STRAND_BALANCE'\n",
       "9. 'diagnosis_at_baseline'\n",
       "10. 'diagnosis_latest'\n",
       "11. 'case_control_other_at_baseline'\n",
       "12. 'case_control_other_latest'\n",
       "13. 'age_at_baseline'\n",
       "14. 'age_at_diagnosis'\n",
       "15. 'disease_duration'\n",
       "16. 'sex'\n",
       "17. 'ethnicity'\n",
       "18. 'race'\n",
       "19. 'education_level_years'\n",
       "20. 'moca_total_score'\n",
       "21. 'Cognition_phenotype'\n",
       "22. 'age_baseline_range'\n",
       "\n",
       "\n"
      ],
      "text/plain": [
       " [1] \"X\"                              \"participant_id\"                \n",
       " [3] \"GUID\"                           \"visit_month\"                   \n",
       " [5] \"sample_id\"                      \"PCT_USABLE_BASES\"              \n",
       " [7] \"Plate\"                          \"STRAND_BALANCE\"                \n",
       " [9] \"diagnosis_at_baseline\"          \"diagnosis_latest\"              \n",
       "[11] \"case_control_other_at_baseline\" \"case_control_other_latest\"     \n",
       "[13] \"age_at_baseline\"                \"age_at_diagnosis\"              \n",
       "[15] \"disease_duration\"               \"sex\"                           \n",
       "[17] \"ethnicity\"                      \"race\"                          \n",
       "[19] \"education_level_years\"          \"moca_total_score\"              \n",
       "[21] \"Cognition_phenotype\"            \"age_baseline_range\"            "
      ]
     },
     "metadata": {},
     "output_type": "display_data"
    }
   ],
   "source": [
    "colnames(sample_meta)"
   ]
  },
  {
   "cell_type": "code",
   "execution_count": 45,
   "metadata": {},
   "outputs": [
    {
     "data": {
      "text/plain": [
       "\n",
       "19 22 23 24 25 26 27 28 29 30 31 32 33 34 35 36 37 38 39 40 41 42 43 44 45 46 \n",
       " 1  2  1  2  2  5  2  1  3  3  6  4  2  6  2  9  9  9 11 10 12  9 12  9 13 16 \n",
       "47 48 49 50 51 52 53 54 55 56 57 58 59 60 61 62 63 64 65 66 67 68 69 70 71 72 \n",
       "11 17 21 21 25 28 35 19 36 45 29 36 43 41 53 45 53 54 58 71 69 67 73 58 48 50 \n",
       "73 74 75 76 77 78 79 80 81 82 83 84 85 86 87 88 89 90 \n",
       "43 38 35 29 30 25 24 18 20 14  3  4  1  3  3  3  1  2 "
      ]
     },
     "metadata": {},
     "output_type": "display_data"
    }
   ],
   "source": [
    "table(sample_meta$age_at_baseline)"
   ]
  },
  {
   "cell_type": "code",
   "execution_count": 46,
   "metadata": {},
   "outputs": [
    {
     "data": {
      "text/plain": [
       "\n",
       "   HCD  HCMCI HCnoCI    PDD  PDMCI PDnoCI \n",
       "     4    100    571     50    268    570 "
      ]
     },
     "metadata": {},
     "output_type": "display_data"
    }
   ],
   "source": [
    "table(sample_meta$Cognition_phenotype)"
   ]
  },
  {
   "cell_type": "markdown",
   "metadata": {},
   "source": [
    "Choose sex and age of interest"
   ]
  },
  {
   "cell_type": "code",
   "execution_count": 47,
   "metadata": {},
   "outputs": [
    {
     "data": {
      "text/html": [
       "456"
      ],
      "text/latex": [
       "456"
      ],
      "text/markdown": [
       "456"
      ],
      "text/plain": [
       "[1] 456"
      ]
     },
     "metadata": {},
     "output_type": "display_data"
    }
   ],
   "source": [
    "#this is the number of individuals who should remain in the study\n",
    "sum(sample_meta$age_at_baseline >= 65 & sample_meta$sex == \"Male\")"
   ]
  },
  {
   "cell_type": "code",
   "execution_count": 48,
   "metadata": {},
   "outputs": [],
   "source": [
    "sample_meta_over_65 <-sample_meta[sample_meta$age_at_baseline>=65,]"
   ]
  },
  {
   "cell_type": "code",
   "execution_count": 49,
   "metadata": {},
   "outputs": [
    {
     "data": {
      "text/plain": [
       "\n",
       "   HCD  HCMCI HCnoCI    PDD  PDMCI PDnoCI \n",
       "     3     61    204     40    189    293 "
      ]
     },
     "metadata": {},
     "output_type": "display_data"
    }
   ],
   "source": [
    "table(sample_meta_over_65$Cognition_phenotype)"
   ]
  },
  {
   "cell_type": "code",
   "execution_count": 50,
   "metadata": {},
   "outputs": [
    {
     "data": {
      "text/plain": [
       "\n",
       "65 66 67 68 69 70 71 72 73 74 75 76 77 78 79 80 81 82 83 84 85 86 87 88 89 90 \n",
       "58 71 69 67 73 58 48 50 43 38 35 29 30 25 24 18 20 14  3  4  1  3  3  3  1  2 "
      ]
     },
     "metadata": {},
     "output_type": "display_data"
    }
   ],
   "source": [
    "table(sample_meta_over_65$age_at_baseline)"
   ]
  },
  {
   "cell_type": "code",
   "execution_count": 51,
   "metadata": {},
   "outputs": [],
   "source": [
    "sample_meta_male_over_65 <-sample_meta_over_65[sample_meta_over_65$sex=='Male',]"
   ]
  },
  {
   "cell_type": "code",
   "execution_count": 52,
   "metadata": {},
   "outputs": [
    {
     "data": {
      "text/plain": [
       "\n",
       "   HCD  HCMCI HCnoCI    PDD  PDMCI PDnoCI \n",
       "     3     41     89     29    126    168 "
      ]
     },
     "metadata": {},
     "output_type": "display_data"
    }
   ],
   "source": [
    "table(sample_meta_male_over_65$Cognition_phenotype)"
   ]
  },
  {
   "cell_type": "code",
   "execution_count": 53,
   "metadata": {},
   "outputs": [
    {
     "data": {
      "text/plain": [
       "\n",
       "65 66 67 68 69 70 71 72 73 74 75 76 77 78 79 80 81 82 83 84 85 86 87 88 90 \n",
       "33 44 37 39 36 40 22 27 25 23 19 17 22 14 16  9 13  9  2  2  1  2  2  1  1 "
      ]
     },
     "metadata": {},
     "output_type": "display_data"
    }
   ],
   "source": [
    "table(sample_meta_male_over_65$age_at_baseline)"
   ]
  },
  {
   "cell_type": "code",
   "execution_count": 65,
   "metadata": {},
   "outputs": [
    {
     "name": "stdout",
     "output_type": "stream",
     "text": [
      "'data.frame':\t456 obs. of  22 variables:\n",
      " $ X                             : int  7 9 11 20 28 37 38 43 44 46 ...\n",
      " $ participant_id                : chr  \"BF-1009\" \"BF-1011\" \"BF-1013\" \"BF-1023\" ...\n",
      " $ GUID                          : chr  \"PDFT112PA2\" \"PDJP257EZP\" \"PDTY193MRJ\" \"PDRU506GJR\" ...\n",
      " $ visit_month                   : int  0 0 0 0 0 0 0 0 0 0 ...\n",
      " $ sample_id                     : chr  \"BF-1009-SVM0_5T1\" \"BF-1011-SVM0_5T1\" \"BF-1013-SVM0_5T1\" \"BF-1023-SVM0_5T1\" ...\n",
      " $ PCT_USABLE_BASES              : num  0.369 0.175 0.23 0.153 0.179 ...\n",
      " $ Plate                         : chr  \"P341\" \"P341\" \"P341\" \"P341\" ...\n",
      " $ STRAND_BALANCE                : num  0.56 0.822 0.741 0.857 0.786 ...\n",
      " $ diagnosis_at_baseline         : chr  \"No PD Nor Other Neurological Disorder\" \"Idiopathic PD\" \"No PD Nor Other Neurological Disorder\" \"No PD Nor Other Neurological Disorder\" ...\n",
      " $ diagnosis_latest              : chr  \"No PD Nor Other Neurological Disorder\" \"Idiopathic PD\" \"No PD Nor Other Neurological Disorder\" \"No PD Nor Other Neurological Disorder\" ...\n",
      " $ case_control_other_at_baseline: chr  \"Control\" \"Case\" \"Control\" \"Control\" ...\n",
      " $ case_control_other_latest     : chr  \"Control\" \"Case\" \"Control\" \"Control\" ...\n",
      " $ age_at_baseline               : num  73 70 81 72 70 77 72 65 66 65 ...\n",
      " $ age_at_diagnosis              : num  NA 65 NA NA 63 67 72 59 59 59 ...\n",
      " $ disease_duration              : num  NA 5 NA NA 7 10 0 6 7 6 ...\n",
      " $ sex                           : chr  \"Male\" \"Male\" \"Male\" \"Male\" ...\n",
      " $ ethnicity                     : chr  \"Not Hispanic or Latino\" \"Not Hispanic or Latino\" \"Not Hispanic or Latino\" \"Not Hispanic or Latino\" ...\n",
      " $ race                          : chr  \"White\" \"White\" \"White\" \"White\" ...\n",
      " $ education_level_years         : chr  \"Greater than 16 years\" \"Greater than 16 years\" \"Greater than 16 years\" \"Greater than 16 years\" ...\n",
      " $ moca_total_score              : num  29 24 29 26 18 26 26 27 24 27 ...\n",
      " $ Cognition_phenotype           : chr  \"HCnoCI\" \"PDMCI\" \"HCnoCI\" \"HCnoCI\" ...\n",
      " $ age_baseline_range            : chr  \"above_65\" \"above_65\" \"above_65\" \"above_65\" ...\n",
      "NULL\n"
     ]
    }
   ],
   "source": [
    "print(str(sample_meta_male_over_65))\n",
    "#notice that we obtain the 456 individuals that we expected"
   ]
  },
  {
   "cell_type": "code",
   "execution_count": 66,
   "metadata": {},
   "outputs": [
    {
     "data": {
      "text/html": [
       "<table class=\"dataframe\">\n",
       "<caption>A data.frame: 456 × 22</caption>\n",
       "<thead>\n",
       "\t<tr><th></th><th scope=col>X</th><th scope=col>participant_id</th><th scope=col>GUID</th><th scope=col>visit_month</th><th scope=col>sample_id</th><th scope=col>PCT_USABLE_BASES</th><th scope=col>Plate</th><th scope=col>STRAND_BALANCE</th><th scope=col>diagnosis_at_baseline</th><th scope=col>diagnosis_latest</th><th scope=col>⋯</th><th scope=col>age_at_baseline</th><th scope=col>age_at_diagnosis</th><th scope=col>disease_duration</th><th scope=col>sex</th><th scope=col>ethnicity</th><th scope=col>race</th><th scope=col>education_level_years</th><th scope=col>moca_total_score</th><th scope=col>Cognition_phenotype</th><th scope=col>age_baseline_range</th></tr>\n",
       "\t<tr><th></th><th scope=col>&lt;int&gt;</th><th scope=col>&lt;chr&gt;</th><th scope=col>&lt;chr&gt;</th><th scope=col>&lt;int&gt;</th><th scope=col>&lt;chr&gt;</th><th scope=col>&lt;dbl&gt;</th><th scope=col>&lt;chr&gt;</th><th scope=col>&lt;dbl&gt;</th><th scope=col>&lt;chr&gt;</th><th scope=col>&lt;chr&gt;</th><th scope=col>⋯</th><th scope=col>&lt;dbl&gt;</th><th scope=col>&lt;dbl&gt;</th><th scope=col>&lt;dbl&gt;</th><th scope=col>&lt;chr&gt;</th><th scope=col>&lt;chr&gt;</th><th scope=col>&lt;chr&gt;</th><th scope=col>&lt;chr&gt;</th><th scope=col>&lt;dbl&gt;</th><th scope=col>&lt;chr&gt;</th><th scope=col>&lt;chr&gt;</th></tr>\n",
       "</thead>\n",
       "<tbody>\n",
       "\t<tr><th scope=row>7</th><td>  7</td><td>BF-1009</td><td>PDFT112PA2    </td><td>0</td><td>BF-1009-SVM0_5T1</td><td>0.368938</td><td>P341</td><td>0.559685</td><td>No PD Nor Other Neurological Disorder</td><td>No PD Nor Other Neurological Disorder</td><td>⋯</td><td>73</td><td>NA</td><td>NA</td><td>Male</td><td>Not Hispanic or Latino</td><td>White</td><td>Greater than 16 years</td><td>29</td><td>HCnoCI</td><td>above_65</td></tr>\n",
       "\t<tr><th scope=row>8</th><td>  9</td><td>BF-1011</td><td>PDJP257EZP    </td><td>0</td><td>BF-1011-SVM0_5T1</td><td>0.175267</td><td>P341</td><td>0.821981</td><td>Idiopathic PD                        </td><td>Idiopathic PD                        </td><td>⋯</td><td>70</td><td>65</td><td> 5</td><td>Male</td><td>Not Hispanic or Latino</td><td>White</td><td>Greater than 16 years</td><td>24</td><td>PDMCI </td><td>above_65</td></tr>\n",
       "\t<tr><th scope=row>10</th><td> 11</td><td>BF-1013</td><td>PDTY193MRJ    </td><td>0</td><td>BF-1013-SVM0_5T1</td><td>0.229987</td><td>P341</td><td>0.740576</td><td>No PD Nor Other Neurological Disorder</td><td>No PD Nor Other Neurological Disorder</td><td>⋯</td><td>81</td><td>NA</td><td>NA</td><td>Male</td><td>Not Hispanic or Latino</td><td>White</td><td>Greater than 16 years</td><td>29</td><td>HCnoCI</td><td>above_65</td></tr>\n",
       "\t<tr><th scope=row>16</th><td> 20</td><td>BF-1023</td><td>PDRU506GJR    </td><td>0</td><td>BF-1023-SVM0_5T1</td><td>0.153338</td><td>P341</td><td>0.857184</td><td>No PD Nor Other Neurological Disorder</td><td>No PD Nor Other Neurological Disorder</td><td>⋯</td><td>72</td><td>NA</td><td>NA</td><td>Male</td><td>Not Hispanic or Latino</td><td>White</td><td>Greater than 16 years</td><td>26</td><td>HCnoCI</td><td>above_65</td></tr>\n",
       "\t<tr><th scope=row>24</th><td> 28</td><td>BF-1032</td><td>PDJZ532TZK    </td><td>0</td><td>BF-1032-SVM0_5T1</td><td>0.178567</td><td>P341</td><td>0.785834</td><td>Idiopathic PD                        </td><td>Idiopathic PD                        </td><td>⋯</td><td>70</td><td>63</td><td> 7</td><td>Male</td><td>Not Hispanic or Latino</td><td>White</td><td>Greater than 16 years</td><td>18</td><td>PDD   </td><td>above_65</td></tr>\n",
       "\t<tr><th scope=row>31</th><td> 37</td><td>BF-1044</td><td>PDKG534VMG    </td><td>0</td><td>BF-1044-SVM0_5T1</td><td>0.543721</td><td>P342</td><td>0.518666</td><td>Idiopathic PD                        </td><td>Idiopathic PD                        </td><td>⋯</td><td>77</td><td>67</td><td>10</td><td>Male</td><td>Not Hispanic or Latino</td><td>White</td><td>Greater than 16 years</td><td>26</td><td>PDnoCI</td><td>above_65</td></tr>\n",
       "\t<tr><th scope=row>32</th><td> 38</td><td>BF-1045</td><td>PDEZ044TE4    </td><td>0</td><td>BF-1045-SVM0_5T1</td><td>0.400889</td><td>P342</td><td>0.632508</td><td>Idiopathic PD                        </td><td>Idiopathic PD                        </td><td>⋯</td><td>72</td><td>72</td><td> 0</td><td>Male</td><td>Not Hispanic or Latino</td><td>White</td><td>Greater than 16 years</td><td>26</td><td>PDnoCI</td><td>above_65</td></tr>\n",
       "\t<tr><th scope=row>36</th><td> 43</td><td>BF-1051</td><td>PDYA912JPR    </td><td>0</td><td>BF-1051-SVM0_5T1</td><td>0.428424</td><td>P341</td><td>0.552939</td><td>Idiopathic PD                        </td><td>Idiopathic PD                        </td><td>⋯</td><td>65</td><td>59</td><td> 6</td><td>Male</td><td>Not Hispanic or Latino</td><td>White</td><td>Greater than 16 years</td><td>27</td><td>PDnoCI</td><td>55_to_65</td></tr>\n",
       "\t<tr><th scope=row>37</th><td> 44</td><td>BF-1052</td><td>PDYV290XFK    </td><td>0</td><td>BF-1052-SVM0_5T1</td><td>0.326003</td><td>P341</td><td>0.696349</td><td>Idiopathic PD                        </td><td>Idiopathic PD                        </td><td>⋯</td><td>66</td><td>59</td><td> 7</td><td>Male</td><td>Not Hispanic or Latino</td><td>White</td><td>Greater than 16 years</td><td>24</td><td>PDMCI </td><td>above_65</td></tr>\n",
       "\t<tr><th scope=row>39</th><td> 46</td><td>BF-1054</td><td>PDTF210PBJ    </td><td>0</td><td>BF-1054-SVM0_5T1</td><td>0.217465</td><td>P341</td><td>0.761710</td><td>Idiopathic PD                        </td><td>Idiopathic PD                        </td><td>⋯</td><td>65</td><td>59</td><td> 6</td><td>Male</td><td>Not Hispanic or Latino</td><td>White</td><td>Greater than 16 years</td><td>27</td><td>PDnoCI</td><td>55_to_65</td></tr>\n",
       "\t<tr><th scope=row>45</th><td> 53</td><td>BF-1064</td><td>PDZY479RW4    </td><td>0</td><td>BF-1064-SVM0_5T1</td><td>0.270980</td><td>P341</td><td>0.707273</td><td>Idiopathic PD                        </td><td>Idiopathic PD                        </td><td>⋯</td><td>74</td><td>64</td><td>10</td><td>Male</td><td>Not Hispanic or Latino</td><td>White</td><td>Greater than 16 years</td><td>22</td><td>PDMCI </td><td>above_65</td></tr>\n",
       "\t<tr><th scope=row>46</th><td> 54</td><td>BF-1065</td><td>PDPA576VKG    </td><td>0</td><td>BF-1065-SVM0_5T1</td><td>0.200012</td><td>P341</td><td>0.791646</td><td>Idiopathic PD                        </td><td>Idiopathic PD                        </td><td>⋯</td><td>68</td><td>60</td><td> 8</td><td>Male</td><td>Not Hispanic or Latino</td><td>White</td><td>Greater than 16 years</td><td>24</td><td>PDMCI </td><td>above_65</td></tr>\n",
       "\t<tr><th scope=row>49</th><td> 57</td><td>BF-1068</td><td>PDNM040XEK    </td><td>0</td><td>BF-1068-SVM0_5T1</td><td>0.204843</td><td>P341</td><td>0.805482</td><td>Idiopathic PD                        </td><td>Idiopathic PD                        </td><td>⋯</td><td>79</td><td>73</td><td> 6</td><td>Male</td><td>Not Hispanic or Latino</td><td>White</td><td>Greater than 16 years</td><td>27</td><td>PDnoCI</td><td>above_65</td></tr>\n",
       "\t<tr><th scope=row>57</th><td> 69</td><td>BF-1083</td><td>PDHC631ZTT    </td><td>0</td><td>BF-1083-SVM0_5T1</td><td>0.303373</td><td>P342</td><td>0.591517</td><td>Idiopathic PD                        </td><td>Idiopathic PD                        </td><td>⋯</td><td>71</td><td>66</td><td> 5</td><td>Male</td><td>Not Hispanic or Latino</td><td>White</td><td>12-16 years          </td><td>28</td><td>PDnoCI</td><td>above_65</td></tr>\n",
       "\t<tr><th scope=row>59</th><td> 71</td><td>BF-1085</td><td>PDKH960RVF    </td><td>0</td><td>BF-1085-SVM0_5T1</td><td>0.343591</td><td>P342</td><td>0.581023</td><td>Idiopathic PD                        </td><td>Idiopathic PD                        </td><td>⋯</td><td>66</td><td>60</td><td> 6</td><td>Male</td><td>Not Hispanic or Latino</td><td>White</td><td>12-16 years          </td><td>23</td><td>PDMCI </td><td>above_65</td></tr>\n",
       "\t<tr><th scope=row>60</th><td> 72</td><td>BF-1086</td><td>PDVC688DCC    </td><td>0</td><td>BF-1086-SVM0_5T1</td><td>0.267975</td><td>P342</td><td>0.702552</td><td>Idiopathic PD                        </td><td>Idiopathic PD                        </td><td>⋯</td><td>79</td><td>69</td><td>10</td><td>Male</td><td>Not Hispanic or Latino</td><td>White</td><td>12-16 years          </td><td>28</td><td>PDnoCI</td><td>above_65</td></tr>\n",
       "\t<tr><th scope=row>63</th><td> 75</td><td>BF-1091</td><td>PDEB612LPE    </td><td>0</td><td>BF-1091-SVM0_5T1</td><td>0.297992</td><td>P342</td><td>0.594147</td><td>Idiopathic PD                        </td><td>Idiopathic PD                        </td><td>⋯</td><td>68</td><td>59</td><td> 9</td><td>Male</td><td>Not Hispanic or Latino</td><td>White</td><td>12-16 years          </td><td>27</td><td>PDnoCI</td><td>above_65</td></tr>\n",
       "\t<tr><th scope=row>65</th><td> 77</td><td>BF-1093</td><td>PDPT847LVB    </td><td>0</td><td>BF-1093-SVM0_5T1</td><td>0.337131</td><td>P342</td><td>0.559685</td><td>Idiopathic PD                        </td><td>Idiopathic PD                        </td><td>⋯</td><td>69</td><td>65</td><td> 4</td><td>Male</td><td>Not Hispanic or Latino</td><td>White</td><td>12-16 years          </td><td>22</td><td>PDMCI </td><td>above_65</td></tr>\n",
       "\t<tr><th scope=row>71</th><td> 83</td><td>BF-1100</td><td>PDBW494GHE    </td><td>0</td><td>BF-1100-SVM0_5T1</td><td>0.346323</td><td>P342</td><td>0.679662</td><td>Idiopathic PD                        </td><td>Idiopathic PD                        </td><td>⋯</td><td>71</td><td>56</td><td>15</td><td>Male</td><td>Not Hispanic or Latino</td><td>White</td><td>Less than 12 years   </td><td>28</td><td>PDnoCI</td><td>above_65</td></tr>\n",
       "\t<tr><th scope=row>72</th><td> 85</td><td>BF-1102</td><td>PDGE690VLX    </td><td>0</td><td>BF-1102-SVM0_5T1</td><td>0.342366</td><td>P341</td><td>0.630592</td><td>Idiopathic PD                        </td><td>Idiopathic PD                        </td><td>⋯</td><td>69</td><td>60</td><td> 9</td><td>Male</td><td>Not Hispanic or Latino</td><td>White</td><td>12-16 years          </td><td>27</td><td>PDnoCI</td><td>above_65</td></tr>\n",
       "\t<tr><th scope=row>77</th><td> 90</td><td>BF-1107</td><td>PDXV986CP4    </td><td>0</td><td>BF-1107-SVM0_5T1</td><td>0.245242</td><td>P341</td><td>0.681783</td><td>No PD Nor Other Neurological Disorder</td><td>No PD Nor Other Neurological Disorder</td><td>⋯</td><td>81</td><td>NA</td><td>NA</td><td>Male</td><td>Not Hispanic or Latino</td><td>White</td><td>Greater than 16 years</td><td>27</td><td>HCnoCI</td><td>above_65</td></tr>\n",
       "\t<tr><th scope=row>82</th><td> 97</td><td>BF-1122</td><td>PDYU580PT2    </td><td>0</td><td>BF-1122-SVM0_5T1</td><td>0.457212</td><td>P342</td><td>0.572005</td><td>No PD Nor Other Neurological Disorder</td><td>No PD Nor Other Neurological Disorder</td><td>⋯</td><td>77</td><td>NA</td><td>NA</td><td>Male</td><td>Not Hispanic or Latino</td><td>White</td><td>Greater than 16 years</td><td>28</td><td>HCnoCI</td><td>above_65</td></tr>\n",
       "\t<tr><th scope=row>83</th><td> 98</td><td>BF-1123</td><td>PDPW971YLK    </td><td>0</td><td>BF-1123-SVM0_5T1</td><td>0.412993</td><td>P342</td><td>0.581839</td><td>Idiopathic PD                        </td><td>Idiopathic PD                        </td><td>⋯</td><td>74</td><td>61</td><td>13</td><td>Male</td><td>Not Hispanic or Latino</td><td>White</td><td>12-16 years          </td><td>28</td><td>PDnoCI</td><td>above_65</td></tr>\n",
       "\t<tr><th scope=row>85</th><td>100</td><td>BF-1125</td><td>PDGM095LTR    </td><td>0</td><td>BF-1125-SVM0_5T1</td><td>0.243849</td><td>P343</td><td>0.740451</td><td>Idiopathic PD                        </td><td>Idiopathic PD                        </td><td>⋯</td><td>69</td><td>66</td><td> 3</td><td>Male</td><td>Not Hispanic or Latino</td><td>White</td><td>Greater than 16 years</td><td>29</td><td>PDnoCI</td><td>above_65</td></tr>\n",
       "\t<tr><th scope=row>87</th><td>102</td><td>BF-1127</td><td>PD_INVAU879RU4</td><td>0</td><td>BF-1127-SVM0_5T1</td><td>0.307194</td><td>P342</td><td>0.595753</td><td>Idiopathic PD                        </td><td>Idiopathic PD                        </td><td>⋯</td><td>65</td><td>59</td><td> 6</td><td>Male</td><td>Not Hispanic or Latino</td><td>White</td><td>12-16 years          </td><td>30</td><td>PDnoCI</td><td>55_to_65</td></tr>\n",
       "\t<tr><th scope=row>90</th><td>105</td><td>BF-1130</td><td>PD_INVWT425XR4</td><td>0</td><td>BF-1130-SVM0_5T1</td><td>0.302694</td><td>P342</td><td>0.681069</td><td>Idiopathic PD                        </td><td>Idiopathic PD                        </td><td>⋯</td><td>69</td><td>66</td><td> 3</td><td>Male</td><td>Not Hispanic or Latino</td><td>White</td><td>Greater than 16 years</td><td>27</td><td>PDnoCI</td><td>above_65</td></tr>\n",
       "\t<tr><th scope=row>93</th><td>108</td><td>BF-1133</td><td>PD_INVTG922XML</td><td>0</td><td>BF-1133-SVM0_5T1</td><td>0.355065</td><td>P342</td><td>0.540170</td><td>Idiopathic PD                        </td><td>Idiopathic PD                        </td><td>⋯</td><td>77</td><td>72</td><td> 5</td><td>Male</td><td>Not Hispanic or Latino</td><td>White</td><td>12-16 years          </td><td>26</td><td>PDnoCI</td><td>above_65</td></tr>\n",
       "\t<tr><th scope=row>101</th><td>116</td><td>BF-1142</td><td>PD_INVZU604HTC</td><td>0</td><td>BF-1142-SVM0_5T1</td><td>0.342063</td><td>P342</td><td>0.552902</td><td>Idiopathic PD                        </td><td>Idiopathic PD                        </td><td>⋯</td><td>72</td><td>57</td><td>15</td><td>Male</td><td>Not Hispanic or Latino</td><td>White</td><td>Greater than 16 years</td><td>23</td><td>PDMCI </td><td>above_65</td></tr>\n",
       "\t<tr><th scope=row>102</th><td>117</td><td>BF-1143</td><td>PDFG291EV2    </td><td>0</td><td>BF-1143-SVM0_5T1</td><td>0.341832</td><td>P342</td><td>0.554843</td><td>No PD Nor Other Neurological Disorder</td><td>No PD Nor Other Neurological Disorder</td><td>⋯</td><td>76</td><td>NA</td><td>NA</td><td>Male</td><td>Not Hispanic or Latino</td><td>White</td><td>12-16 years          </td><td>30</td><td>HCnoCI</td><td>above_65</td></tr>\n",
       "\t<tr><th scope=row>104</th><td>120</td><td>BF-1146</td><td>PDAU724KZY    </td><td>0</td><td>BF-1146-SVM0_5T1</td><td>0.354629</td><td>P342</td><td>0.704674</td><td>No PD Nor Other Neurological Disorder</td><td>No PD Nor Other Neurological Disorder</td><td>⋯</td><td>84</td><td>NA</td><td>NA</td><td>Male</td><td>Not Hispanic or Latino</td><td>White</td><td>12-16 years          </td><td>29</td><td>HCnoCI</td><td>above_65</td></tr>\n",
       "\t<tr><th scope=row>⋮</th><td>⋮</td><td>⋮</td><td>⋮</td><td>⋮</td><td>⋮</td><td>⋮</td><td>⋮</td><td>⋮</td><td>⋮</td><td>⋮</td><td>⋱</td><td>⋮</td><td>⋮</td><td>⋮</td><td>⋮</td><td>⋮</td><td>⋮</td><td>⋮</td><td>⋮</td><td>⋮</td><td>⋮</td></tr>\n",
       "\t<tr><th scope=row>1376</th><td>1654</td><td>PP-42216</td><td></td><td>-1</td><td>PP-42216-BLM0T1</td><td>0.433133</td><td>P216</td><td>0.515745</td><td>Idiopathic PD                        </td><td>Idiopathic PD                        </td><td>⋯</td><td>77</td><td>63</td><td>14</td><td>Male</td><td>Not Hispanic or Latino</td><td>White</td><td>Greater than 16 years</td><td>26</td><td>PDnoCI</td><td>above_65</td></tr>\n",
       "\t<tr><th scope=row>1379</th><td>1659</td><td>PP-42298</td><td></td><td>-1</td><td>PP-42298-BLM0T1</td><td>0.386652</td><td>P225</td><td>0.526024</td><td>Idiopathic PD                        </td><td>Idiopathic PD                        </td><td>⋯</td><td>67</td><td>67</td><td> 0</td><td>Male</td><td>Not Hispanic or Latino</td><td>White</td><td>12-16 years          </td><td>22</td><td>PDMCI </td><td>above_65</td></tr>\n",
       "\t<tr><th scope=row>1380</th><td>1660</td><td>PP-42305</td><td></td><td>-1</td><td>PP-42305-BLM0T1</td><td>0.363201</td><td>P225</td><td>0.517440</td><td>Idiopathic PD                        </td><td>Idiopathic PD                        </td><td>⋯</td><td>82</td><td>57</td><td>25</td><td>Male</td><td>Not Hispanic or Latino</td><td>White</td><td>12-16 years          </td><td>20</td><td>PDMCI </td><td>above_65</td></tr>\n",
       "\t<tr><th scope=row>1381</th><td>1661</td><td>PP-42312</td><td></td><td>-1</td><td>PP-42312-BLM0T1</td><td>0.052557</td><td>P225</td><td>0.504500</td><td>Idiopathic PD                        </td><td>Idiopathic PD                        </td><td>⋯</td><td>69</td><td>57</td><td>12</td><td>Male</td><td>Not Hispanic or Latino</td><td>White</td><td>12-16 years          </td><td>17</td><td>PDD   </td><td>above_65</td></tr>\n",
       "\t<tr><th scope=row>1383</th><td>1664</td><td>PP-42361</td><td></td><td>-1</td><td>PP-42361-BLM0T1</td><td>0.399135</td><td>P225</td><td>0.579958</td><td>Idiopathic PD                        </td><td>Idiopathic PD                        </td><td>⋯</td><td>65</td><td>63</td><td> 2</td><td>Male</td><td>Not Hispanic or Latino</td><td>White</td><td>12-16 years          </td><td>28</td><td>PDnoCI</td><td>55_to_65</td></tr>\n",
       "\t<tr><th scope=row>1386</th><td>1668</td><td>PP-42435</td><td></td><td>-1</td><td>PP-42435-BLM0T1</td><td>0.303864</td><td>P225</td><td>0.654320</td><td>Idiopathic PD                        </td><td>Idiopathic PD                        </td><td>⋯</td><td>70</td><td>54</td><td>16</td><td>Male</td><td>Not Hispanic or Latino</td><td>White</td><td>Greater than 16 years</td><td>24</td><td>PDMCI </td><td>above_65</td></tr>\n",
       "\t<tr><th scope=row>1388</th><td>1670</td><td>PP-42437</td><td></td><td>-1</td><td>PP-42437-BLM0T1</td><td>0.434282</td><td>P225</td><td>0.529707</td><td>Idiopathic PD                        </td><td>Idiopathic PD                        </td><td>⋯</td><td>67</td><td>63</td><td> 4</td><td>Male</td><td>Not Hispanic or Latino</td><td>White</td><td>Less than 12 years   </td><td>28</td><td>PDnoCI</td><td>above_65</td></tr>\n",
       "\t<tr><th scope=row>1390</th><td>1672</td><td>PP-42442</td><td></td><td>-1</td><td>PP-42442-BLM0T1</td><td>0.486171</td><td>P225</td><td>0.536999</td><td>No PD Nor Other Neurological Disorder</td><td>No PD Nor Other Neurological Disorder</td><td>⋯</td><td>70</td><td>NA</td><td>NA</td><td>Male</td><td>Not Hispanic or Latino</td><td>White</td><td>Greater than 16 years</td><td>29</td><td>HCnoCI</td><td>above_65</td></tr>\n",
       "\t<tr><th scope=row>1400</th><td>1685</td><td>PP-50376</td><td></td><td>-1</td><td>PP-50376-BLM0T1</td><td>0.422775</td><td>P202</td><td>0.522518</td><td>Idiopathic PD                        </td><td>Idiopathic PD                        </td><td>⋯</td><td>76</td><td>62</td><td>14</td><td>Male</td><td>Not Hispanic or Latino</td><td>White</td><td>Greater than 16 years</td><td>30</td><td>PDnoCI</td><td>above_65</td></tr>\n",
       "\t<tr><th scope=row>1405</th><td>1691</td><td>PP-50525</td><td></td><td>-1</td><td>PP-50525-BLM0T1</td><td>0.461398</td><td>P205</td><td>0.547009</td><td>Idiopathic PD                        </td><td>Idiopathic PD                        </td><td>⋯</td><td>79</td><td>73</td><td> 6</td><td>Male</td><td>Not Hispanic or Latino</td><td>White</td><td>Greater than 16 years</td><td>30</td><td>PDnoCI</td><td>above_65</td></tr>\n",
       "\t<tr><th scope=row>1406</th><td>1692</td><td>PP-50532</td><td></td><td>-1</td><td>PP-50532-BLM0T1</td><td>0.364239</td><td>P201</td><td>0.507209</td><td>Idiopathic PD                        </td><td>Idiopathic PD                        </td><td>⋯</td><td>82</td><td>82</td><td> 0</td><td>Male</td><td>Not Hispanic or Latino</td><td>White</td><td>12-16 years          </td><td>23</td><td>PDMCI </td><td>above_65</td></tr>\n",
       "\t<tr><th scope=row>1410</th><td>1696</td><td>PP-50689</td><td></td><td>-1</td><td>PP-50689-BLM0T1</td><td>0.418583</td><td>P208</td><td>0.510585</td><td>Idiopathic PD                        </td><td>Idiopathic PD                        </td><td>⋯</td><td>77</td><td>NA</td><td>NA</td><td>Male</td><td>Not Hispanic or Latino</td><td>White</td><td>Greater than 16 years</td><td>28</td><td>PDnoCI</td><td>above_65</td></tr>\n",
       "\t<tr><th scope=row>1413</th><td>1699</td><td>PP-50753</td><td></td><td>-1</td><td>PP-50753-BLM0T1</td><td>0.361013</td><td>P202</td><td>0.528220</td><td>Idiopathic PD                        </td><td>Idiopathic PD                        </td><td>⋯</td><td>77</td><td>64</td><td>13</td><td>Male</td><td>Not Hispanic or Latino</td><td>White</td><td>12-16 years          </td><td>27</td><td>PDnoCI</td><td>above_65</td></tr>\n",
       "\t<tr><th scope=row>1436</th><td>1728</td><td>PP-51611</td><td></td><td>-1</td><td>PP-51611-BLM0T1</td><td>0.440282</td><td>P210</td><td>0.510534</td><td>Idiopathic PD                        </td><td>Idiopathic PD                        </td><td>⋯</td><td>66</td><td>NA</td><td>NA</td><td>Male</td><td>Not Hispanic or Latino</td><td>White</td><td>Greater than 16 years</td><td>29</td><td>PDnoCI</td><td>above_65</td></tr>\n",
       "\t<tr><th scope=row>1443</th><td>1736</td><td>PP-51690</td><td></td><td>-1</td><td>PP-51690-BLM0T1</td><td>0.442002</td><td>P211</td><td>0.496006</td><td>No PD Nor Other Neurological Disorder</td><td>No PD Nor Other Neurological Disorder</td><td>⋯</td><td>86</td><td>NA</td><td>NA</td><td>Male</td><td>Not Hispanic or Latino</td><td>White</td><td>Greater than 16 years</td><td>23</td><td>HCMCI </td><td>above_65</td></tr>\n",
       "\t<tr><th scope=row>1451</th><td>1744</td><td>PP-51870</td><td></td><td>-1</td><td>PP-51870-BLM0T1</td><td>0.323215</td><td>P205</td><td>0.592851</td><td>Idiopathic PD                        </td><td>Idiopathic PD                        </td><td>⋯</td><td>70</td><td>61</td><td> 9</td><td>Male</td><td>Not Hispanic or Latino</td><td>White</td><td>Greater than 16 years</td><td>26</td><td>PDnoCI</td><td>above_65</td></tr>\n",
       "\t<tr><th scope=row>1452</th><td>1745</td><td>PP-51904</td><td></td><td>-1</td><td>PP-51904-BLM0T1</td><td>0.437147</td><td>P209</td><td>0.616551</td><td>Idiopathic PD                        </td><td>Idiopathic PD                        </td><td>⋯</td><td>68</td><td>62</td><td> 6</td><td>Male</td><td>Not Hispanic or Latino</td><td>White</td><td>Greater than 16 years</td><td>23</td><td>PDMCI </td><td>above_65</td></tr>\n",
       "\t<tr><th scope=row>1454</th><td>1747</td><td>PP-51918</td><td></td><td>-1</td><td>PP-51918-BLM0T1</td><td>0.485614</td><td>P214</td><td>0.508869</td><td>No PD Nor Other Neurological Disorder</td><td>No PD Nor Other Neurological Disorder</td><td>⋯</td><td>75</td><td>NA</td><td>NA</td><td>Male</td><td>Not Hispanic or Latino</td><td>White</td><td>Greater than 16 years</td><td>24</td><td>HCMCI </td><td>above_65</td></tr>\n",
       "\t<tr><th scope=row>1458</th><td>1751</td><td>PP-52296</td><td></td><td>-1</td><td>PP-52296-BLM0T1</td><td>0.479268</td><td>P213</td><td>0.491279</td><td>Idiopathic PD                        </td><td>Idiopathic PD                        </td><td>⋯</td><td>77</td><td>75</td><td> 2</td><td>Male</td><td>Not Hispanic or Latino</td><td>White</td><td>12-16 years          </td><td>26</td><td>PDnoCI</td><td>above_65</td></tr>\n",
       "\t<tr><th scope=row>1477</th><td>1772</td><td>PP-52644</td><td></td><td>-1</td><td>PP-52644-BLM0T1</td><td>0.386551</td><td>P213</td><td>0.491713</td><td>Idiopathic PD                        </td><td>Idiopathic PD                        </td><td>⋯</td><td>70</td><td>57</td><td>13</td><td>Male</td><td>Not Hispanic or Latino</td><td>White</td><td>Greater than 16 years</td><td>29</td><td>PDnoCI</td><td>above_65</td></tr>\n",
       "\t<tr><th scope=row>1479</th><td>1774</td><td>PP-52746</td><td></td><td>-1</td><td>PP-52746-BLM0T1</td><td>0.344222</td><td>P206</td><td>0.619877</td><td>Idiopathic PD                        </td><td>Idiopathic PD                        </td><td>⋯</td><td>70</td><td>57</td><td>13</td><td>Male</td><td>Not Hispanic or Latino</td><td>White</td><td>Greater than 16 years</td><td>28</td><td>PDnoCI</td><td>above_65</td></tr>\n",
       "\t<tr><th scope=row>1483</th><td>1778</td><td>PP-52791</td><td></td><td>-1</td><td>PP-52791-BLM0T1</td><td>0.380056</td><td>P207</td><td>0.596929</td><td>No PD Nor Other Neurological Disorder</td><td>No PD Nor Other Neurological Disorder</td><td>⋯</td><td>70</td><td>NA</td><td>NA</td><td>Male</td><td>Not Hispanic or Latino</td><td>White</td><td>12-16 years          </td><td>24</td><td>HCMCI </td><td>above_65</td></tr>\n",
       "\t<tr><th scope=row>1497</th><td>1792</td><td>PP-53286</td><td></td><td>-1</td><td>PP-53286-BLM0T1</td><td>0.435225</td><td>P206</td><td>0.531768</td><td>Idiopathic PD                        </td><td>Idiopathic PD                        </td><td>⋯</td><td>65</td><td>61</td><td> 4</td><td>Male</td><td>Not Hispanic or Latino</td><td>White</td><td>Greater than 16 years</td><td>27</td><td>PDnoCI</td><td>55_to_65</td></tr>\n",
       "\t<tr><th scope=row>1499</th><td>1794</td><td>PP-53319</td><td></td><td>-1</td><td>PP-53319-BLM0T1</td><td>0.442306</td><td>P212</td><td>0.500816</td><td>No PD Nor Other Neurological Disorder</td><td>No PD Nor Other Neurological Disorder</td><td>⋯</td><td>73</td><td>NA</td><td>NA</td><td>Male</td><td>Not Hispanic or Latino</td><td>White</td><td>12-16 years          </td><td>27</td><td>HCnoCI</td><td>above_65</td></tr>\n",
       "\t<tr><th scope=row>1500</th><td>1796</td><td>PP-53422</td><td></td><td>-1</td><td>PP-53422-BLM0T1</td><td>0.435070</td><td>P216</td><td>0.493369</td><td>Idiopathic PD                        </td><td>Idiopathic PD                        </td><td>⋯</td><td>69</td><td>66</td><td> 3</td><td>Male</td><td>Not Hispanic or Latino</td><td>White</td><td>12-16 years          </td><td>23</td><td>PDMCI </td><td>above_65</td></tr>\n",
       "\t<tr><th scope=row>1509</th><td>1808</td><td>PP-54072</td><td></td><td>-1</td><td>PP-54072-BLM0T1</td><td>0.316176</td><td>P207</td><td>0.569770</td><td>Idiopathic PD                        </td><td>Idiopathic PD                        </td><td>⋯</td><td>66</td><td>54</td><td>12</td><td>Male</td><td>Not Hispanic or Latino</td><td>White</td><td>Greater than 16 years</td><td>26</td><td>PDnoCI</td><td>above_65</td></tr>\n",
       "\t<tr><th scope=row>1521</th><td>1821</td><td>PP-54724</td><td></td><td>-1</td><td>PP-54724-BLM0T1</td><td>0.365276</td><td>P209</td><td>0.661018</td><td>Idiopathic PD                        </td><td>Idiopathic PD                        </td><td>⋯</td><td>69</td><td>66</td><td> 3</td><td>Male</td><td>Not Hispanic or Latino</td><td>White</td><td>Greater than 16 years</td><td>27</td><td>PDnoCI</td><td>above_65</td></tr>\n",
       "\t<tr><th scope=row>1527</th><td>1828</td><td>PP-55198</td><td></td><td>-1</td><td>PP-55198-BLM0T1</td><td>0.493912</td><td>P215</td><td>0.489058</td><td>Idiopathic PD                        </td><td>Idiopathic PD                        </td><td>⋯</td><td>70</td><td>69</td><td> 1</td><td>Male</td><td>Not Hispanic or Latino</td><td>White</td><td>12-16 years          </td><td>23</td><td>PDMCI </td><td>above_65</td></tr>\n",
       "\t<tr><th scope=row>1532</th><td>1833</td><td>PP-55610</td><td></td><td>-1</td><td>PP-55610-BLM0T1</td><td>0.470297</td><td>P208</td><td>0.511241</td><td>Idiopathic PD                        </td><td>Idiopathic PD                        </td><td>⋯</td><td>69</td><td>59</td><td>10</td><td>Male</td><td>Not Hispanic or Latino</td><td>White</td><td>Greater than 16 years</td><td>21</td><td>PDMCI </td><td>above_65</td></tr>\n",
       "\t<tr><th scope=row>1550</th><td>1854</td><td>PP-57567</td><td></td><td>-1</td><td>PP-57567-BLM0T1</td><td>0.417775</td><td>P209</td><td>0.543829</td><td>No PD Nor Other Neurological Disorder</td><td>No PD Nor Other Neurological Disorder</td><td>⋯</td><td>72</td><td>NA</td><td>NA</td><td>Male</td><td>Not Hispanic or Latino</td><td>White</td><td>Greater than 16 years</td><td>24</td><td>HCMCI </td><td>above_65</td></tr>\n",
       "</tbody>\n",
       "</table>\n"
      ],
      "text/latex": [
       "A data.frame: 456 × 22\n",
       "\\begin{tabular}{r|lllllllllllllllllllll}\n",
       "  & X & participant\\_id & GUID & visit\\_month & sample\\_id & PCT\\_USABLE\\_BASES & Plate & STRAND\\_BALANCE & diagnosis\\_at\\_baseline & diagnosis\\_latest & ⋯ & age\\_at\\_baseline & age\\_at\\_diagnosis & disease\\_duration & sex & ethnicity & race & education\\_level\\_years & moca\\_total\\_score & Cognition\\_phenotype & age\\_baseline\\_range\\\\\n",
       "  & <int> & <chr> & <chr> & <int> & <chr> & <dbl> & <chr> & <dbl> & <chr> & <chr> & ⋯ & <dbl> & <dbl> & <dbl> & <chr> & <chr> & <chr> & <chr> & <dbl> & <chr> & <chr>\\\\\n",
       "\\hline\n",
       "\t7 &   7 & BF-1009 & PDFT112PA2     & 0 & BF-1009-SVM0\\_5T1 & 0.368938 & P341 & 0.559685 & No PD Nor Other Neurological Disorder & No PD Nor Other Neurological Disorder & ⋯ & 73 & NA & NA & Male & Not Hispanic or Latino & White & Greater than 16 years & 29 & HCnoCI & above\\_65\\\\\n",
       "\t8 &   9 & BF-1011 & PDJP257EZP     & 0 & BF-1011-SVM0\\_5T1 & 0.175267 & P341 & 0.821981 & Idiopathic PD                         & Idiopathic PD                         & ⋯ & 70 & 65 &  5 & Male & Not Hispanic or Latino & White & Greater than 16 years & 24 & PDMCI  & above\\_65\\\\\n",
       "\t10 &  11 & BF-1013 & PDTY193MRJ     & 0 & BF-1013-SVM0\\_5T1 & 0.229987 & P341 & 0.740576 & No PD Nor Other Neurological Disorder & No PD Nor Other Neurological Disorder & ⋯ & 81 & NA & NA & Male & Not Hispanic or Latino & White & Greater than 16 years & 29 & HCnoCI & above\\_65\\\\\n",
       "\t16 &  20 & BF-1023 & PDRU506GJR     & 0 & BF-1023-SVM0\\_5T1 & 0.153338 & P341 & 0.857184 & No PD Nor Other Neurological Disorder & No PD Nor Other Neurological Disorder & ⋯ & 72 & NA & NA & Male & Not Hispanic or Latino & White & Greater than 16 years & 26 & HCnoCI & above\\_65\\\\\n",
       "\t24 &  28 & BF-1032 & PDJZ532TZK     & 0 & BF-1032-SVM0\\_5T1 & 0.178567 & P341 & 0.785834 & Idiopathic PD                         & Idiopathic PD                         & ⋯ & 70 & 63 &  7 & Male & Not Hispanic or Latino & White & Greater than 16 years & 18 & PDD    & above\\_65\\\\\n",
       "\t31 &  37 & BF-1044 & PDKG534VMG     & 0 & BF-1044-SVM0\\_5T1 & 0.543721 & P342 & 0.518666 & Idiopathic PD                         & Idiopathic PD                         & ⋯ & 77 & 67 & 10 & Male & Not Hispanic or Latino & White & Greater than 16 years & 26 & PDnoCI & above\\_65\\\\\n",
       "\t32 &  38 & BF-1045 & PDEZ044TE4     & 0 & BF-1045-SVM0\\_5T1 & 0.400889 & P342 & 0.632508 & Idiopathic PD                         & Idiopathic PD                         & ⋯ & 72 & 72 &  0 & Male & Not Hispanic or Latino & White & Greater than 16 years & 26 & PDnoCI & above\\_65\\\\\n",
       "\t36 &  43 & BF-1051 & PDYA912JPR     & 0 & BF-1051-SVM0\\_5T1 & 0.428424 & P341 & 0.552939 & Idiopathic PD                         & Idiopathic PD                         & ⋯ & 65 & 59 &  6 & Male & Not Hispanic or Latino & White & Greater than 16 years & 27 & PDnoCI & 55\\_to\\_65\\\\\n",
       "\t37 &  44 & BF-1052 & PDYV290XFK     & 0 & BF-1052-SVM0\\_5T1 & 0.326003 & P341 & 0.696349 & Idiopathic PD                         & Idiopathic PD                         & ⋯ & 66 & 59 &  7 & Male & Not Hispanic or Latino & White & Greater than 16 years & 24 & PDMCI  & above\\_65\\\\\n",
       "\t39 &  46 & BF-1054 & PDTF210PBJ     & 0 & BF-1054-SVM0\\_5T1 & 0.217465 & P341 & 0.761710 & Idiopathic PD                         & Idiopathic PD                         & ⋯ & 65 & 59 &  6 & Male & Not Hispanic or Latino & White & Greater than 16 years & 27 & PDnoCI & 55\\_to\\_65\\\\\n",
       "\t45 &  53 & BF-1064 & PDZY479RW4     & 0 & BF-1064-SVM0\\_5T1 & 0.270980 & P341 & 0.707273 & Idiopathic PD                         & Idiopathic PD                         & ⋯ & 74 & 64 & 10 & Male & Not Hispanic or Latino & White & Greater than 16 years & 22 & PDMCI  & above\\_65\\\\\n",
       "\t46 &  54 & BF-1065 & PDPA576VKG     & 0 & BF-1065-SVM0\\_5T1 & 0.200012 & P341 & 0.791646 & Idiopathic PD                         & Idiopathic PD                         & ⋯ & 68 & 60 &  8 & Male & Not Hispanic or Latino & White & Greater than 16 years & 24 & PDMCI  & above\\_65\\\\\n",
       "\t49 &  57 & BF-1068 & PDNM040XEK     & 0 & BF-1068-SVM0\\_5T1 & 0.204843 & P341 & 0.805482 & Idiopathic PD                         & Idiopathic PD                         & ⋯ & 79 & 73 &  6 & Male & Not Hispanic or Latino & White & Greater than 16 years & 27 & PDnoCI & above\\_65\\\\\n",
       "\t57 &  69 & BF-1083 & PDHC631ZTT     & 0 & BF-1083-SVM0\\_5T1 & 0.303373 & P342 & 0.591517 & Idiopathic PD                         & Idiopathic PD                         & ⋯ & 71 & 66 &  5 & Male & Not Hispanic or Latino & White & 12-16 years           & 28 & PDnoCI & above\\_65\\\\\n",
       "\t59 &  71 & BF-1085 & PDKH960RVF     & 0 & BF-1085-SVM0\\_5T1 & 0.343591 & P342 & 0.581023 & Idiopathic PD                         & Idiopathic PD                         & ⋯ & 66 & 60 &  6 & Male & Not Hispanic or Latino & White & 12-16 years           & 23 & PDMCI  & above\\_65\\\\\n",
       "\t60 &  72 & BF-1086 & PDVC688DCC     & 0 & BF-1086-SVM0\\_5T1 & 0.267975 & P342 & 0.702552 & Idiopathic PD                         & Idiopathic PD                         & ⋯ & 79 & 69 & 10 & Male & Not Hispanic or Latino & White & 12-16 years           & 28 & PDnoCI & above\\_65\\\\\n",
       "\t63 &  75 & BF-1091 & PDEB612LPE     & 0 & BF-1091-SVM0\\_5T1 & 0.297992 & P342 & 0.594147 & Idiopathic PD                         & Idiopathic PD                         & ⋯ & 68 & 59 &  9 & Male & Not Hispanic or Latino & White & 12-16 years           & 27 & PDnoCI & above\\_65\\\\\n",
       "\t65 &  77 & BF-1093 & PDPT847LVB     & 0 & BF-1093-SVM0\\_5T1 & 0.337131 & P342 & 0.559685 & Idiopathic PD                         & Idiopathic PD                         & ⋯ & 69 & 65 &  4 & Male & Not Hispanic or Latino & White & 12-16 years           & 22 & PDMCI  & above\\_65\\\\\n",
       "\t71 &  83 & BF-1100 & PDBW494GHE     & 0 & BF-1100-SVM0\\_5T1 & 0.346323 & P342 & 0.679662 & Idiopathic PD                         & Idiopathic PD                         & ⋯ & 71 & 56 & 15 & Male & Not Hispanic or Latino & White & Less than 12 years    & 28 & PDnoCI & above\\_65\\\\\n",
       "\t72 &  85 & BF-1102 & PDGE690VLX     & 0 & BF-1102-SVM0\\_5T1 & 0.342366 & P341 & 0.630592 & Idiopathic PD                         & Idiopathic PD                         & ⋯ & 69 & 60 &  9 & Male & Not Hispanic or Latino & White & 12-16 years           & 27 & PDnoCI & above\\_65\\\\\n",
       "\t77 &  90 & BF-1107 & PDXV986CP4     & 0 & BF-1107-SVM0\\_5T1 & 0.245242 & P341 & 0.681783 & No PD Nor Other Neurological Disorder & No PD Nor Other Neurological Disorder & ⋯ & 81 & NA & NA & Male & Not Hispanic or Latino & White & Greater than 16 years & 27 & HCnoCI & above\\_65\\\\\n",
       "\t82 &  97 & BF-1122 & PDYU580PT2     & 0 & BF-1122-SVM0\\_5T1 & 0.457212 & P342 & 0.572005 & No PD Nor Other Neurological Disorder & No PD Nor Other Neurological Disorder & ⋯ & 77 & NA & NA & Male & Not Hispanic or Latino & White & Greater than 16 years & 28 & HCnoCI & above\\_65\\\\\n",
       "\t83 &  98 & BF-1123 & PDPW971YLK     & 0 & BF-1123-SVM0\\_5T1 & 0.412993 & P342 & 0.581839 & Idiopathic PD                         & Idiopathic PD                         & ⋯ & 74 & 61 & 13 & Male & Not Hispanic or Latino & White & 12-16 years           & 28 & PDnoCI & above\\_65\\\\\n",
       "\t85 & 100 & BF-1125 & PDGM095LTR     & 0 & BF-1125-SVM0\\_5T1 & 0.243849 & P343 & 0.740451 & Idiopathic PD                         & Idiopathic PD                         & ⋯ & 69 & 66 &  3 & Male & Not Hispanic or Latino & White & Greater than 16 years & 29 & PDnoCI & above\\_65\\\\\n",
       "\t87 & 102 & BF-1127 & PD\\_INVAU879RU4 & 0 & BF-1127-SVM0\\_5T1 & 0.307194 & P342 & 0.595753 & Idiopathic PD                         & Idiopathic PD                         & ⋯ & 65 & 59 &  6 & Male & Not Hispanic or Latino & White & 12-16 years           & 30 & PDnoCI & 55\\_to\\_65\\\\\n",
       "\t90 & 105 & BF-1130 & PD\\_INVWT425XR4 & 0 & BF-1130-SVM0\\_5T1 & 0.302694 & P342 & 0.681069 & Idiopathic PD                         & Idiopathic PD                         & ⋯ & 69 & 66 &  3 & Male & Not Hispanic or Latino & White & Greater than 16 years & 27 & PDnoCI & above\\_65\\\\\n",
       "\t93 & 108 & BF-1133 & PD\\_INVTG922XML & 0 & BF-1133-SVM0\\_5T1 & 0.355065 & P342 & 0.540170 & Idiopathic PD                         & Idiopathic PD                         & ⋯ & 77 & 72 &  5 & Male & Not Hispanic or Latino & White & 12-16 years           & 26 & PDnoCI & above\\_65\\\\\n",
       "\t101 & 116 & BF-1142 & PD\\_INVZU604HTC & 0 & BF-1142-SVM0\\_5T1 & 0.342063 & P342 & 0.552902 & Idiopathic PD                         & Idiopathic PD                         & ⋯ & 72 & 57 & 15 & Male & Not Hispanic or Latino & White & Greater than 16 years & 23 & PDMCI  & above\\_65\\\\\n",
       "\t102 & 117 & BF-1143 & PDFG291EV2     & 0 & BF-1143-SVM0\\_5T1 & 0.341832 & P342 & 0.554843 & No PD Nor Other Neurological Disorder & No PD Nor Other Neurological Disorder & ⋯ & 76 & NA & NA & Male & Not Hispanic or Latino & White & 12-16 years           & 30 & HCnoCI & above\\_65\\\\\n",
       "\t104 & 120 & BF-1146 & PDAU724KZY     & 0 & BF-1146-SVM0\\_5T1 & 0.354629 & P342 & 0.704674 & No PD Nor Other Neurological Disorder & No PD Nor Other Neurological Disorder & ⋯ & 84 & NA & NA & Male & Not Hispanic or Latino & White & 12-16 years           & 29 & HCnoCI & above\\_65\\\\\n",
       "\t⋮ & ⋮ & ⋮ & ⋮ & ⋮ & ⋮ & ⋮ & ⋮ & ⋮ & ⋮ & ⋮ & ⋱ & ⋮ & ⋮ & ⋮ & ⋮ & ⋮ & ⋮ & ⋮ & ⋮ & ⋮ & ⋮\\\\\n",
       "\t1376 & 1654 & PP-42216 &  & -1 & PP-42216-BLM0T1 & 0.433133 & P216 & 0.515745 & Idiopathic PD                         & Idiopathic PD                         & ⋯ & 77 & 63 & 14 & Male & Not Hispanic or Latino & White & Greater than 16 years & 26 & PDnoCI & above\\_65\\\\\n",
       "\t1379 & 1659 & PP-42298 &  & -1 & PP-42298-BLM0T1 & 0.386652 & P225 & 0.526024 & Idiopathic PD                         & Idiopathic PD                         & ⋯ & 67 & 67 &  0 & Male & Not Hispanic or Latino & White & 12-16 years           & 22 & PDMCI  & above\\_65\\\\\n",
       "\t1380 & 1660 & PP-42305 &  & -1 & PP-42305-BLM0T1 & 0.363201 & P225 & 0.517440 & Idiopathic PD                         & Idiopathic PD                         & ⋯ & 82 & 57 & 25 & Male & Not Hispanic or Latino & White & 12-16 years           & 20 & PDMCI  & above\\_65\\\\\n",
       "\t1381 & 1661 & PP-42312 &  & -1 & PP-42312-BLM0T1 & 0.052557 & P225 & 0.504500 & Idiopathic PD                         & Idiopathic PD                         & ⋯ & 69 & 57 & 12 & Male & Not Hispanic or Latino & White & 12-16 years           & 17 & PDD    & above\\_65\\\\\n",
       "\t1383 & 1664 & PP-42361 &  & -1 & PP-42361-BLM0T1 & 0.399135 & P225 & 0.579958 & Idiopathic PD                         & Idiopathic PD                         & ⋯ & 65 & 63 &  2 & Male & Not Hispanic or Latino & White & 12-16 years           & 28 & PDnoCI & 55\\_to\\_65\\\\\n",
       "\t1386 & 1668 & PP-42435 &  & -1 & PP-42435-BLM0T1 & 0.303864 & P225 & 0.654320 & Idiopathic PD                         & Idiopathic PD                         & ⋯ & 70 & 54 & 16 & Male & Not Hispanic or Latino & White & Greater than 16 years & 24 & PDMCI  & above\\_65\\\\\n",
       "\t1388 & 1670 & PP-42437 &  & -1 & PP-42437-BLM0T1 & 0.434282 & P225 & 0.529707 & Idiopathic PD                         & Idiopathic PD                         & ⋯ & 67 & 63 &  4 & Male & Not Hispanic or Latino & White & Less than 12 years    & 28 & PDnoCI & above\\_65\\\\\n",
       "\t1390 & 1672 & PP-42442 &  & -1 & PP-42442-BLM0T1 & 0.486171 & P225 & 0.536999 & No PD Nor Other Neurological Disorder & No PD Nor Other Neurological Disorder & ⋯ & 70 & NA & NA & Male & Not Hispanic or Latino & White & Greater than 16 years & 29 & HCnoCI & above\\_65\\\\\n",
       "\t1400 & 1685 & PP-50376 &  & -1 & PP-50376-BLM0T1 & 0.422775 & P202 & 0.522518 & Idiopathic PD                         & Idiopathic PD                         & ⋯ & 76 & 62 & 14 & Male & Not Hispanic or Latino & White & Greater than 16 years & 30 & PDnoCI & above\\_65\\\\\n",
       "\t1405 & 1691 & PP-50525 &  & -1 & PP-50525-BLM0T1 & 0.461398 & P205 & 0.547009 & Idiopathic PD                         & Idiopathic PD                         & ⋯ & 79 & 73 &  6 & Male & Not Hispanic or Latino & White & Greater than 16 years & 30 & PDnoCI & above\\_65\\\\\n",
       "\t1406 & 1692 & PP-50532 &  & -1 & PP-50532-BLM0T1 & 0.364239 & P201 & 0.507209 & Idiopathic PD                         & Idiopathic PD                         & ⋯ & 82 & 82 &  0 & Male & Not Hispanic or Latino & White & 12-16 years           & 23 & PDMCI  & above\\_65\\\\\n",
       "\t1410 & 1696 & PP-50689 &  & -1 & PP-50689-BLM0T1 & 0.418583 & P208 & 0.510585 & Idiopathic PD                         & Idiopathic PD                         & ⋯ & 77 & NA & NA & Male & Not Hispanic or Latino & White & Greater than 16 years & 28 & PDnoCI & above\\_65\\\\\n",
       "\t1413 & 1699 & PP-50753 &  & -1 & PP-50753-BLM0T1 & 0.361013 & P202 & 0.528220 & Idiopathic PD                         & Idiopathic PD                         & ⋯ & 77 & 64 & 13 & Male & Not Hispanic or Latino & White & 12-16 years           & 27 & PDnoCI & above\\_65\\\\\n",
       "\t1436 & 1728 & PP-51611 &  & -1 & PP-51611-BLM0T1 & 0.440282 & P210 & 0.510534 & Idiopathic PD                         & Idiopathic PD                         & ⋯ & 66 & NA & NA & Male & Not Hispanic or Latino & White & Greater than 16 years & 29 & PDnoCI & above\\_65\\\\\n",
       "\t1443 & 1736 & PP-51690 &  & -1 & PP-51690-BLM0T1 & 0.442002 & P211 & 0.496006 & No PD Nor Other Neurological Disorder & No PD Nor Other Neurological Disorder & ⋯ & 86 & NA & NA & Male & Not Hispanic or Latino & White & Greater than 16 years & 23 & HCMCI  & above\\_65\\\\\n",
       "\t1451 & 1744 & PP-51870 &  & -1 & PP-51870-BLM0T1 & 0.323215 & P205 & 0.592851 & Idiopathic PD                         & Idiopathic PD                         & ⋯ & 70 & 61 &  9 & Male & Not Hispanic or Latino & White & Greater than 16 years & 26 & PDnoCI & above\\_65\\\\\n",
       "\t1452 & 1745 & PP-51904 &  & -1 & PP-51904-BLM0T1 & 0.437147 & P209 & 0.616551 & Idiopathic PD                         & Idiopathic PD                         & ⋯ & 68 & 62 &  6 & Male & Not Hispanic or Latino & White & Greater than 16 years & 23 & PDMCI  & above\\_65\\\\\n",
       "\t1454 & 1747 & PP-51918 &  & -1 & PP-51918-BLM0T1 & 0.485614 & P214 & 0.508869 & No PD Nor Other Neurological Disorder & No PD Nor Other Neurological Disorder & ⋯ & 75 & NA & NA & Male & Not Hispanic or Latino & White & Greater than 16 years & 24 & HCMCI  & above\\_65\\\\\n",
       "\t1458 & 1751 & PP-52296 &  & -1 & PP-52296-BLM0T1 & 0.479268 & P213 & 0.491279 & Idiopathic PD                         & Idiopathic PD                         & ⋯ & 77 & 75 &  2 & Male & Not Hispanic or Latino & White & 12-16 years           & 26 & PDnoCI & above\\_65\\\\\n",
       "\t1477 & 1772 & PP-52644 &  & -1 & PP-52644-BLM0T1 & 0.386551 & P213 & 0.491713 & Idiopathic PD                         & Idiopathic PD                         & ⋯ & 70 & 57 & 13 & Male & Not Hispanic or Latino & White & Greater than 16 years & 29 & PDnoCI & above\\_65\\\\\n",
       "\t1479 & 1774 & PP-52746 &  & -1 & PP-52746-BLM0T1 & 0.344222 & P206 & 0.619877 & Idiopathic PD                         & Idiopathic PD                         & ⋯ & 70 & 57 & 13 & Male & Not Hispanic or Latino & White & Greater than 16 years & 28 & PDnoCI & above\\_65\\\\\n",
       "\t1483 & 1778 & PP-52791 &  & -1 & PP-52791-BLM0T1 & 0.380056 & P207 & 0.596929 & No PD Nor Other Neurological Disorder & No PD Nor Other Neurological Disorder & ⋯ & 70 & NA & NA & Male & Not Hispanic or Latino & White & 12-16 years           & 24 & HCMCI  & above\\_65\\\\\n",
       "\t1497 & 1792 & PP-53286 &  & -1 & PP-53286-BLM0T1 & 0.435225 & P206 & 0.531768 & Idiopathic PD                         & Idiopathic PD                         & ⋯ & 65 & 61 &  4 & Male & Not Hispanic or Latino & White & Greater than 16 years & 27 & PDnoCI & 55\\_to\\_65\\\\\n",
       "\t1499 & 1794 & PP-53319 &  & -1 & PP-53319-BLM0T1 & 0.442306 & P212 & 0.500816 & No PD Nor Other Neurological Disorder & No PD Nor Other Neurological Disorder & ⋯ & 73 & NA & NA & Male & Not Hispanic or Latino & White & 12-16 years           & 27 & HCnoCI & above\\_65\\\\\n",
       "\t1500 & 1796 & PP-53422 &  & -1 & PP-53422-BLM0T1 & 0.435070 & P216 & 0.493369 & Idiopathic PD                         & Idiopathic PD                         & ⋯ & 69 & 66 &  3 & Male & Not Hispanic or Latino & White & 12-16 years           & 23 & PDMCI  & above\\_65\\\\\n",
       "\t1509 & 1808 & PP-54072 &  & -1 & PP-54072-BLM0T1 & 0.316176 & P207 & 0.569770 & Idiopathic PD                         & Idiopathic PD                         & ⋯ & 66 & 54 & 12 & Male & Not Hispanic or Latino & White & Greater than 16 years & 26 & PDnoCI & above\\_65\\\\\n",
       "\t1521 & 1821 & PP-54724 &  & -1 & PP-54724-BLM0T1 & 0.365276 & P209 & 0.661018 & Idiopathic PD                         & Idiopathic PD                         & ⋯ & 69 & 66 &  3 & Male & Not Hispanic or Latino & White & Greater than 16 years & 27 & PDnoCI & above\\_65\\\\\n",
       "\t1527 & 1828 & PP-55198 &  & -1 & PP-55198-BLM0T1 & 0.493912 & P215 & 0.489058 & Idiopathic PD                         & Idiopathic PD                         & ⋯ & 70 & 69 &  1 & Male & Not Hispanic or Latino & White & 12-16 years           & 23 & PDMCI  & above\\_65\\\\\n",
       "\t1532 & 1833 & PP-55610 &  & -1 & PP-55610-BLM0T1 & 0.470297 & P208 & 0.511241 & Idiopathic PD                         & Idiopathic PD                         & ⋯ & 69 & 59 & 10 & Male & Not Hispanic or Latino & White & Greater than 16 years & 21 & PDMCI  & above\\_65\\\\\n",
       "\t1550 & 1854 & PP-57567 &  & -1 & PP-57567-BLM0T1 & 0.417775 & P209 & 0.543829 & No PD Nor Other Neurological Disorder & No PD Nor Other Neurological Disorder & ⋯ & 72 & NA & NA & Male & Not Hispanic or Latino & White & Greater than 16 years & 24 & HCMCI  & above\\_65\\\\\n",
       "\\end{tabular}\n"
      ],
      "text/markdown": [
       "\n",
       "A data.frame: 456 × 22\n",
       "\n",
       "| <!--/--> | X &lt;int&gt; | participant_id &lt;chr&gt; | GUID &lt;chr&gt; | visit_month &lt;int&gt; | sample_id &lt;chr&gt; | PCT_USABLE_BASES &lt;dbl&gt; | Plate &lt;chr&gt; | STRAND_BALANCE &lt;dbl&gt; | diagnosis_at_baseline &lt;chr&gt; | diagnosis_latest &lt;chr&gt; | ⋯ ⋯ | age_at_baseline &lt;dbl&gt; | age_at_diagnosis &lt;dbl&gt; | disease_duration &lt;dbl&gt; | sex &lt;chr&gt; | ethnicity &lt;chr&gt; | race &lt;chr&gt; | education_level_years &lt;chr&gt; | moca_total_score &lt;dbl&gt; | Cognition_phenotype &lt;chr&gt; | age_baseline_range &lt;chr&gt; |\n",
       "|---|---|---|---|---|---|---|---|---|---|---|---|---|---|---|---|---|---|---|---|---|---|\n",
       "| 7 |   7 | BF-1009 | PDFT112PA2     | 0 | BF-1009-SVM0_5T1 | 0.368938 | P341 | 0.559685 | No PD Nor Other Neurological Disorder | No PD Nor Other Neurological Disorder | ⋯ | 73 | NA | NA | Male | Not Hispanic or Latino | White | Greater than 16 years | 29 | HCnoCI | above_65 |\n",
       "| 8 |   9 | BF-1011 | PDJP257EZP     | 0 | BF-1011-SVM0_5T1 | 0.175267 | P341 | 0.821981 | Idiopathic PD                         | Idiopathic PD                         | ⋯ | 70 | 65 |  5 | Male | Not Hispanic or Latino | White | Greater than 16 years | 24 | PDMCI  | above_65 |\n",
       "| 10 |  11 | BF-1013 | PDTY193MRJ     | 0 | BF-1013-SVM0_5T1 | 0.229987 | P341 | 0.740576 | No PD Nor Other Neurological Disorder | No PD Nor Other Neurological Disorder | ⋯ | 81 | NA | NA | Male | Not Hispanic or Latino | White | Greater than 16 years | 29 | HCnoCI | above_65 |\n",
       "| 16 |  20 | BF-1023 | PDRU506GJR     | 0 | BF-1023-SVM0_5T1 | 0.153338 | P341 | 0.857184 | No PD Nor Other Neurological Disorder | No PD Nor Other Neurological Disorder | ⋯ | 72 | NA | NA | Male | Not Hispanic or Latino | White | Greater than 16 years | 26 | HCnoCI | above_65 |\n",
       "| 24 |  28 | BF-1032 | PDJZ532TZK     | 0 | BF-1032-SVM0_5T1 | 0.178567 | P341 | 0.785834 | Idiopathic PD                         | Idiopathic PD                         | ⋯ | 70 | 63 |  7 | Male | Not Hispanic or Latino | White | Greater than 16 years | 18 | PDD    | above_65 |\n",
       "| 31 |  37 | BF-1044 | PDKG534VMG     | 0 | BF-1044-SVM0_5T1 | 0.543721 | P342 | 0.518666 | Idiopathic PD                         | Idiopathic PD                         | ⋯ | 77 | 67 | 10 | Male | Not Hispanic or Latino | White | Greater than 16 years | 26 | PDnoCI | above_65 |\n",
       "| 32 |  38 | BF-1045 | PDEZ044TE4     | 0 | BF-1045-SVM0_5T1 | 0.400889 | P342 | 0.632508 | Idiopathic PD                         | Idiopathic PD                         | ⋯ | 72 | 72 |  0 | Male | Not Hispanic or Latino | White | Greater than 16 years | 26 | PDnoCI | above_65 |\n",
       "| 36 |  43 | BF-1051 | PDYA912JPR     | 0 | BF-1051-SVM0_5T1 | 0.428424 | P341 | 0.552939 | Idiopathic PD                         | Idiopathic PD                         | ⋯ | 65 | 59 |  6 | Male | Not Hispanic or Latino | White | Greater than 16 years | 27 | PDnoCI | 55_to_65 |\n",
       "| 37 |  44 | BF-1052 | PDYV290XFK     | 0 | BF-1052-SVM0_5T1 | 0.326003 | P341 | 0.696349 | Idiopathic PD                         | Idiopathic PD                         | ⋯ | 66 | 59 |  7 | Male | Not Hispanic or Latino | White | Greater than 16 years | 24 | PDMCI  | above_65 |\n",
       "| 39 |  46 | BF-1054 | PDTF210PBJ     | 0 | BF-1054-SVM0_5T1 | 0.217465 | P341 | 0.761710 | Idiopathic PD                         | Idiopathic PD                         | ⋯ | 65 | 59 |  6 | Male | Not Hispanic or Latino | White | Greater than 16 years | 27 | PDnoCI | 55_to_65 |\n",
       "| 45 |  53 | BF-1064 | PDZY479RW4     | 0 | BF-1064-SVM0_5T1 | 0.270980 | P341 | 0.707273 | Idiopathic PD                         | Idiopathic PD                         | ⋯ | 74 | 64 | 10 | Male | Not Hispanic or Latino | White | Greater than 16 years | 22 | PDMCI  | above_65 |\n",
       "| 46 |  54 | BF-1065 | PDPA576VKG     | 0 | BF-1065-SVM0_5T1 | 0.200012 | P341 | 0.791646 | Idiopathic PD                         | Idiopathic PD                         | ⋯ | 68 | 60 |  8 | Male | Not Hispanic or Latino | White | Greater than 16 years | 24 | PDMCI  | above_65 |\n",
       "| 49 |  57 | BF-1068 | PDNM040XEK     | 0 | BF-1068-SVM0_5T1 | 0.204843 | P341 | 0.805482 | Idiopathic PD                         | Idiopathic PD                         | ⋯ | 79 | 73 |  6 | Male | Not Hispanic or Latino | White | Greater than 16 years | 27 | PDnoCI | above_65 |\n",
       "| 57 |  69 | BF-1083 | PDHC631ZTT     | 0 | BF-1083-SVM0_5T1 | 0.303373 | P342 | 0.591517 | Idiopathic PD                         | Idiopathic PD                         | ⋯ | 71 | 66 |  5 | Male | Not Hispanic or Latino | White | 12-16 years           | 28 | PDnoCI | above_65 |\n",
       "| 59 |  71 | BF-1085 | PDKH960RVF     | 0 | BF-1085-SVM0_5T1 | 0.343591 | P342 | 0.581023 | Idiopathic PD                         | Idiopathic PD                         | ⋯ | 66 | 60 |  6 | Male | Not Hispanic or Latino | White | 12-16 years           | 23 | PDMCI  | above_65 |\n",
       "| 60 |  72 | BF-1086 | PDVC688DCC     | 0 | BF-1086-SVM0_5T1 | 0.267975 | P342 | 0.702552 | Idiopathic PD                         | Idiopathic PD                         | ⋯ | 79 | 69 | 10 | Male | Not Hispanic or Latino | White | 12-16 years           | 28 | PDnoCI | above_65 |\n",
       "| 63 |  75 | BF-1091 | PDEB612LPE     | 0 | BF-1091-SVM0_5T1 | 0.297992 | P342 | 0.594147 | Idiopathic PD                         | Idiopathic PD                         | ⋯ | 68 | 59 |  9 | Male | Not Hispanic or Latino | White | 12-16 years           | 27 | PDnoCI | above_65 |\n",
       "| 65 |  77 | BF-1093 | PDPT847LVB     | 0 | BF-1093-SVM0_5T1 | 0.337131 | P342 | 0.559685 | Idiopathic PD                         | Idiopathic PD                         | ⋯ | 69 | 65 |  4 | Male | Not Hispanic or Latino | White | 12-16 years           | 22 | PDMCI  | above_65 |\n",
       "| 71 |  83 | BF-1100 | PDBW494GHE     | 0 | BF-1100-SVM0_5T1 | 0.346323 | P342 | 0.679662 | Idiopathic PD                         | Idiopathic PD                         | ⋯ | 71 | 56 | 15 | Male | Not Hispanic or Latino | White | Less than 12 years    | 28 | PDnoCI | above_65 |\n",
       "| 72 |  85 | BF-1102 | PDGE690VLX     | 0 | BF-1102-SVM0_5T1 | 0.342366 | P341 | 0.630592 | Idiopathic PD                         | Idiopathic PD                         | ⋯ | 69 | 60 |  9 | Male | Not Hispanic or Latino | White | 12-16 years           | 27 | PDnoCI | above_65 |\n",
       "| 77 |  90 | BF-1107 | PDXV986CP4     | 0 | BF-1107-SVM0_5T1 | 0.245242 | P341 | 0.681783 | No PD Nor Other Neurological Disorder | No PD Nor Other Neurological Disorder | ⋯ | 81 | NA | NA | Male | Not Hispanic or Latino | White | Greater than 16 years | 27 | HCnoCI | above_65 |\n",
       "| 82 |  97 | BF-1122 | PDYU580PT2     | 0 | BF-1122-SVM0_5T1 | 0.457212 | P342 | 0.572005 | No PD Nor Other Neurological Disorder | No PD Nor Other Neurological Disorder | ⋯ | 77 | NA | NA | Male | Not Hispanic or Latino | White | Greater than 16 years | 28 | HCnoCI | above_65 |\n",
       "| 83 |  98 | BF-1123 | PDPW971YLK     | 0 | BF-1123-SVM0_5T1 | 0.412993 | P342 | 0.581839 | Idiopathic PD                         | Idiopathic PD                         | ⋯ | 74 | 61 | 13 | Male | Not Hispanic or Latino | White | 12-16 years           | 28 | PDnoCI | above_65 |\n",
       "| 85 | 100 | BF-1125 | PDGM095LTR     | 0 | BF-1125-SVM0_5T1 | 0.243849 | P343 | 0.740451 | Idiopathic PD                         | Idiopathic PD                         | ⋯ | 69 | 66 |  3 | Male | Not Hispanic or Latino | White | Greater than 16 years | 29 | PDnoCI | above_65 |\n",
       "| 87 | 102 | BF-1127 | PD_INVAU879RU4 | 0 | BF-1127-SVM0_5T1 | 0.307194 | P342 | 0.595753 | Idiopathic PD                         | Idiopathic PD                         | ⋯ | 65 | 59 |  6 | Male | Not Hispanic or Latino | White | 12-16 years           | 30 | PDnoCI | 55_to_65 |\n",
       "| 90 | 105 | BF-1130 | PD_INVWT425XR4 | 0 | BF-1130-SVM0_5T1 | 0.302694 | P342 | 0.681069 | Idiopathic PD                         | Idiopathic PD                         | ⋯ | 69 | 66 |  3 | Male | Not Hispanic or Latino | White | Greater than 16 years | 27 | PDnoCI | above_65 |\n",
       "| 93 | 108 | BF-1133 | PD_INVTG922XML | 0 | BF-1133-SVM0_5T1 | 0.355065 | P342 | 0.540170 | Idiopathic PD                         | Idiopathic PD                         | ⋯ | 77 | 72 |  5 | Male | Not Hispanic or Latino | White | 12-16 years           | 26 | PDnoCI | above_65 |\n",
       "| 101 | 116 | BF-1142 | PD_INVZU604HTC | 0 | BF-1142-SVM0_5T1 | 0.342063 | P342 | 0.552902 | Idiopathic PD                         | Idiopathic PD                         | ⋯ | 72 | 57 | 15 | Male | Not Hispanic or Latino | White | Greater than 16 years | 23 | PDMCI  | above_65 |\n",
       "| 102 | 117 | BF-1143 | PDFG291EV2     | 0 | BF-1143-SVM0_5T1 | 0.341832 | P342 | 0.554843 | No PD Nor Other Neurological Disorder | No PD Nor Other Neurological Disorder | ⋯ | 76 | NA | NA | Male | Not Hispanic or Latino | White | 12-16 years           | 30 | HCnoCI | above_65 |\n",
       "| 104 | 120 | BF-1146 | PDAU724KZY     | 0 | BF-1146-SVM0_5T1 | 0.354629 | P342 | 0.704674 | No PD Nor Other Neurological Disorder | No PD Nor Other Neurological Disorder | ⋯ | 84 | NA | NA | Male | Not Hispanic or Latino | White | 12-16 years           | 29 | HCnoCI | above_65 |\n",
       "| ⋮ | ⋮ | ⋮ | ⋮ | ⋮ | ⋮ | ⋮ | ⋮ | ⋮ | ⋮ | ⋮ | ⋱ | ⋮ | ⋮ | ⋮ | ⋮ | ⋮ | ⋮ | ⋮ | ⋮ | ⋮ | ⋮ |\n",
       "| 1376 | 1654 | PP-42216 | <!----> | -1 | PP-42216-BLM0T1 | 0.433133 | P216 | 0.515745 | Idiopathic PD                         | Idiopathic PD                         | ⋯ | 77 | 63 | 14 | Male | Not Hispanic or Latino | White | Greater than 16 years | 26 | PDnoCI | above_65 |\n",
       "| 1379 | 1659 | PP-42298 | <!----> | -1 | PP-42298-BLM0T1 | 0.386652 | P225 | 0.526024 | Idiopathic PD                         | Idiopathic PD                         | ⋯ | 67 | 67 |  0 | Male | Not Hispanic or Latino | White | 12-16 years           | 22 | PDMCI  | above_65 |\n",
       "| 1380 | 1660 | PP-42305 | <!----> | -1 | PP-42305-BLM0T1 | 0.363201 | P225 | 0.517440 | Idiopathic PD                         | Idiopathic PD                         | ⋯ | 82 | 57 | 25 | Male | Not Hispanic or Latino | White | 12-16 years           | 20 | PDMCI  | above_65 |\n",
       "| 1381 | 1661 | PP-42312 | <!----> | -1 | PP-42312-BLM0T1 | 0.052557 | P225 | 0.504500 | Idiopathic PD                         | Idiopathic PD                         | ⋯ | 69 | 57 | 12 | Male | Not Hispanic or Latino | White | 12-16 years           | 17 | PDD    | above_65 |\n",
       "| 1383 | 1664 | PP-42361 | <!----> | -1 | PP-42361-BLM0T1 | 0.399135 | P225 | 0.579958 | Idiopathic PD                         | Idiopathic PD                         | ⋯ | 65 | 63 |  2 | Male | Not Hispanic or Latino | White | 12-16 years           | 28 | PDnoCI | 55_to_65 |\n",
       "| 1386 | 1668 | PP-42435 | <!----> | -1 | PP-42435-BLM0T1 | 0.303864 | P225 | 0.654320 | Idiopathic PD                         | Idiopathic PD                         | ⋯ | 70 | 54 | 16 | Male | Not Hispanic or Latino | White | Greater than 16 years | 24 | PDMCI  | above_65 |\n",
       "| 1388 | 1670 | PP-42437 | <!----> | -1 | PP-42437-BLM0T1 | 0.434282 | P225 | 0.529707 | Idiopathic PD                         | Idiopathic PD                         | ⋯ | 67 | 63 |  4 | Male | Not Hispanic or Latino | White | Less than 12 years    | 28 | PDnoCI | above_65 |\n",
       "| 1390 | 1672 | PP-42442 | <!----> | -1 | PP-42442-BLM0T1 | 0.486171 | P225 | 0.536999 | No PD Nor Other Neurological Disorder | No PD Nor Other Neurological Disorder | ⋯ | 70 | NA | NA | Male | Not Hispanic or Latino | White | Greater than 16 years | 29 | HCnoCI | above_65 |\n",
       "| 1400 | 1685 | PP-50376 | <!----> | -1 | PP-50376-BLM0T1 | 0.422775 | P202 | 0.522518 | Idiopathic PD                         | Idiopathic PD                         | ⋯ | 76 | 62 | 14 | Male | Not Hispanic or Latino | White | Greater than 16 years | 30 | PDnoCI | above_65 |\n",
       "| 1405 | 1691 | PP-50525 | <!----> | -1 | PP-50525-BLM0T1 | 0.461398 | P205 | 0.547009 | Idiopathic PD                         | Idiopathic PD                         | ⋯ | 79 | 73 |  6 | Male | Not Hispanic or Latino | White | Greater than 16 years | 30 | PDnoCI | above_65 |\n",
       "| 1406 | 1692 | PP-50532 | <!----> | -1 | PP-50532-BLM0T1 | 0.364239 | P201 | 0.507209 | Idiopathic PD                         | Idiopathic PD                         | ⋯ | 82 | 82 |  0 | Male | Not Hispanic or Latino | White | 12-16 years           | 23 | PDMCI  | above_65 |\n",
       "| 1410 | 1696 | PP-50689 | <!----> | -1 | PP-50689-BLM0T1 | 0.418583 | P208 | 0.510585 | Idiopathic PD                         | Idiopathic PD                         | ⋯ | 77 | NA | NA | Male | Not Hispanic or Latino | White | Greater than 16 years | 28 | PDnoCI | above_65 |\n",
       "| 1413 | 1699 | PP-50753 | <!----> | -1 | PP-50753-BLM0T1 | 0.361013 | P202 | 0.528220 | Idiopathic PD                         | Idiopathic PD                         | ⋯ | 77 | 64 | 13 | Male | Not Hispanic or Latino | White | 12-16 years           | 27 | PDnoCI | above_65 |\n",
       "| 1436 | 1728 | PP-51611 | <!----> | -1 | PP-51611-BLM0T1 | 0.440282 | P210 | 0.510534 | Idiopathic PD                         | Idiopathic PD                         | ⋯ | 66 | NA | NA | Male | Not Hispanic or Latino | White | Greater than 16 years | 29 | PDnoCI | above_65 |\n",
       "| 1443 | 1736 | PP-51690 | <!----> | -1 | PP-51690-BLM0T1 | 0.442002 | P211 | 0.496006 | No PD Nor Other Neurological Disorder | No PD Nor Other Neurological Disorder | ⋯ | 86 | NA | NA | Male | Not Hispanic or Latino | White | Greater than 16 years | 23 | HCMCI  | above_65 |\n",
       "| 1451 | 1744 | PP-51870 | <!----> | -1 | PP-51870-BLM0T1 | 0.323215 | P205 | 0.592851 | Idiopathic PD                         | Idiopathic PD                         | ⋯ | 70 | 61 |  9 | Male | Not Hispanic or Latino | White | Greater than 16 years | 26 | PDnoCI | above_65 |\n",
       "| 1452 | 1745 | PP-51904 | <!----> | -1 | PP-51904-BLM0T1 | 0.437147 | P209 | 0.616551 | Idiopathic PD                         | Idiopathic PD                         | ⋯ | 68 | 62 |  6 | Male | Not Hispanic or Latino | White | Greater than 16 years | 23 | PDMCI  | above_65 |\n",
       "| 1454 | 1747 | PP-51918 | <!----> | -1 | PP-51918-BLM0T1 | 0.485614 | P214 | 0.508869 | No PD Nor Other Neurological Disorder | No PD Nor Other Neurological Disorder | ⋯ | 75 | NA | NA | Male | Not Hispanic or Latino | White | Greater than 16 years | 24 | HCMCI  | above_65 |\n",
       "| 1458 | 1751 | PP-52296 | <!----> | -1 | PP-52296-BLM0T1 | 0.479268 | P213 | 0.491279 | Idiopathic PD                         | Idiopathic PD                         | ⋯ | 77 | 75 |  2 | Male | Not Hispanic or Latino | White | 12-16 years           | 26 | PDnoCI | above_65 |\n",
       "| 1477 | 1772 | PP-52644 | <!----> | -1 | PP-52644-BLM0T1 | 0.386551 | P213 | 0.491713 | Idiopathic PD                         | Idiopathic PD                         | ⋯ | 70 | 57 | 13 | Male | Not Hispanic or Latino | White | Greater than 16 years | 29 | PDnoCI | above_65 |\n",
       "| 1479 | 1774 | PP-52746 | <!----> | -1 | PP-52746-BLM0T1 | 0.344222 | P206 | 0.619877 | Idiopathic PD                         | Idiopathic PD                         | ⋯ | 70 | 57 | 13 | Male | Not Hispanic or Latino | White | Greater than 16 years | 28 | PDnoCI | above_65 |\n",
       "| 1483 | 1778 | PP-52791 | <!----> | -1 | PP-52791-BLM0T1 | 0.380056 | P207 | 0.596929 | No PD Nor Other Neurological Disorder | No PD Nor Other Neurological Disorder | ⋯ | 70 | NA | NA | Male | Not Hispanic or Latino | White | 12-16 years           | 24 | HCMCI  | above_65 |\n",
       "| 1497 | 1792 | PP-53286 | <!----> | -1 | PP-53286-BLM0T1 | 0.435225 | P206 | 0.531768 | Idiopathic PD                         | Idiopathic PD                         | ⋯ | 65 | 61 |  4 | Male | Not Hispanic or Latino | White | Greater than 16 years | 27 | PDnoCI | 55_to_65 |\n",
       "| 1499 | 1794 | PP-53319 | <!----> | -1 | PP-53319-BLM0T1 | 0.442306 | P212 | 0.500816 | No PD Nor Other Neurological Disorder | No PD Nor Other Neurological Disorder | ⋯ | 73 | NA | NA | Male | Not Hispanic or Latino | White | 12-16 years           | 27 | HCnoCI | above_65 |\n",
       "| 1500 | 1796 | PP-53422 | <!----> | -1 | PP-53422-BLM0T1 | 0.435070 | P216 | 0.493369 | Idiopathic PD                         | Idiopathic PD                         | ⋯ | 69 | 66 |  3 | Male | Not Hispanic or Latino | White | 12-16 years           | 23 | PDMCI  | above_65 |\n",
       "| 1509 | 1808 | PP-54072 | <!----> | -1 | PP-54072-BLM0T1 | 0.316176 | P207 | 0.569770 | Idiopathic PD                         | Idiopathic PD                         | ⋯ | 66 | 54 | 12 | Male | Not Hispanic or Latino | White | Greater than 16 years | 26 | PDnoCI | above_65 |\n",
       "| 1521 | 1821 | PP-54724 | <!----> | -1 | PP-54724-BLM0T1 | 0.365276 | P209 | 0.661018 | Idiopathic PD                         | Idiopathic PD                         | ⋯ | 69 | 66 |  3 | Male | Not Hispanic or Latino | White | Greater than 16 years | 27 | PDnoCI | above_65 |\n",
       "| 1527 | 1828 | PP-55198 | <!----> | -1 | PP-55198-BLM0T1 | 0.493912 | P215 | 0.489058 | Idiopathic PD                         | Idiopathic PD                         | ⋯ | 70 | 69 |  1 | Male | Not Hispanic or Latino | White | 12-16 years           | 23 | PDMCI  | above_65 |\n",
       "| 1532 | 1833 | PP-55610 | <!----> | -1 | PP-55610-BLM0T1 | 0.470297 | P208 | 0.511241 | Idiopathic PD                         | Idiopathic PD                         | ⋯ | 69 | 59 | 10 | Male | Not Hispanic or Latino | White | Greater than 16 years | 21 | PDMCI  | above_65 |\n",
       "| 1550 | 1854 | PP-57567 | <!----> | -1 | PP-57567-BLM0T1 | 0.417775 | P209 | 0.543829 | No PD Nor Other Neurological Disorder | No PD Nor Other Neurological Disorder | ⋯ | 72 | NA | NA | Male | Not Hispanic or Latino | White | Greater than 16 years | 24 | HCMCI  | above_65 |\n",
       "\n"
      ],
      "text/plain": [
       "     X    participant_id GUID           visit_month sample_id       \n",
       "7      7  BF-1009        PDFT112PA2     0           BF-1009-SVM0_5T1\n",
       "8      9  BF-1011        PDJP257EZP     0           BF-1011-SVM0_5T1\n",
       "10    11  BF-1013        PDTY193MRJ     0           BF-1013-SVM0_5T1\n",
       "16    20  BF-1023        PDRU506GJR     0           BF-1023-SVM0_5T1\n",
       "24    28  BF-1032        PDJZ532TZK     0           BF-1032-SVM0_5T1\n",
       "31    37  BF-1044        PDKG534VMG     0           BF-1044-SVM0_5T1\n",
       "32    38  BF-1045        PDEZ044TE4     0           BF-1045-SVM0_5T1\n",
       "36    43  BF-1051        PDYA912JPR     0           BF-1051-SVM0_5T1\n",
       "37    44  BF-1052        PDYV290XFK     0           BF-1052-SVM0_5T1\n",
       "39    46  BF-1054        PDTF210PBJ     0           BF-1054-SVM0_5T1\n",
       "45    53  BF-1064        PDZY479RW4     0           BF-1064-SVM0_5T1\n",
       "46    54  BF-1065        PDPA576VKG     0           BF-1065-SVM0_5T1\n",
       "49    57  BF-1068        PDNM040XEK     0           BF-1068-SVM0_5T1\n",
       "57    69  BF-1083        PDHC631ZTT     0           BF-1083-SVM0_5T1\n",
       "59    71  BF-1085        PDKH960RVF     0           BF-1085-SVM0_5T1\n",
       "60    72  BF-1086        PDVC688DCC     0           BF-1086-SVM0_5T1\n",
       "63    75  BF-1091        PDEB612LPE     0           BF-1091-SVM0_5T1\n",
       "65    77  BF-1093        PDPT847LVB     0           BF-1093-SVM0_5T1\n",
       "71    83  BF-1100        PDBW494GHE     0           BF-1100-SVM0_5T1\n",
       "72    85  BF-1102        PDGE690VLX     0           BF-1102-SVM0_5T1\n",
       "77    90  BF-1107        PDXV986CP4     0           BF-1107-SVM0_5T1\n",
       "82    97  BF-1122        PDYU580PT2     0           BF-1122-SVM0_5T1\n",
       "83    98  BF-1123        PDPW971YLK     0           BF-1123-SVM0_5T1\n",
       "85   100  BF-1125        PDGM095LTR     0           BF-1125-SVM0_5T1\n",
       "87   102  BF-1127        PD_INVAU879RU4 0           BF-1127-SVM0_5T1\n",
       "90   105  BF-1130        PD_INVWT425XR4 0           BF-1130-SVM0_5T1\n",
       "93   108  BF-1133        PD_INVTG922XML 0           BF-1133-SVM0_5T1\n",
       "101  116  BF-1142        PD_INVZU604HTC 0           BF-1142-SVM0_5T1\n",
       "102  117  BF-1143        PDFG291EV2     0           BF-1143-SVM0_5T1\n",
       "104  120  BF-1146        PDAU724KZY     0           BF-1146-SVM0_5T1\n",
       "⋮    ⋮    ⋮              ⋮              ⋮           ⋮               \n",
       "1376 1654 PP-42216                      -1          PP-42216-BLM0T1 \n",
       "1379 1659 PP-42298                      -1          PP-42298-BLM0T1 \n",
       "1380 1660 PP-42305                      -1          PP-42305-BLM0T1 \n",
       "1381 1661 PP-42312                      -1          PP-42312-BLM0T1 \n",
       "1383 1664 PP-42361                      -1          PP-42361-BLM0T1 \n",
       "1386 1668 PP-42435                      -1          PP-42435-BLM0T1 \n",
       "1388 1670 PP-42437                      -1          PP-42437-BLM0T1 \n",
       "1390 1672 PP-42442                      -1          PP-42442-BLM0T1 \n",
       "1400 1685 PP-50376                      -1          PP-50376-BLM0T1 \n",
       "1405 1691 PP-50525                      -1          PP-50525-BLM0T1 \n",
       "1406 1692 PP-50532                      -1          PP-50532-BLM0T1 \n",
       "1410 1696 PP-50689                      -1          PP-50689-BLM0T1 \n",
       "1413 1699 PP-50753                      -1          PP-50753-BLM0T1 \n",
       "1436 1728 PP-51611                      -1          PP-51611-BLM0T1 \n",
       "1443 1736 PP-51690                      -1          PP-51690-BLM0T1 \n",
       "1451 1744 PP-51870                      -1          PP-51870-BLM0T1 \n",
       "1452 1745 PP-51904                      -1          PP-51904-BLM0T1 \n",
       "1454 1747 PP-51918                      -1          PP-51918-BLM0T1 \n",
       "1458 1751 PP-52296                      -1          PP-52296-BLM0T1 \n",
       "1477 1772 PP-52644                      -1          PP-52644-BLM0T1 \n",
       "1479 1774 PP-52746                      -1          PP-52746-BLM0T1 \n",
       "1483 1778 PP-52791                      -1          PP-52791-BLM0T1 \n",
       "1497 1792 PP-53286                      -1          PP-53286-BLM0T1 \n",
       "1499 1794 PP-53319                      -1          PP-53319-BLM0T1 \n",
       "1500 1796 PP-53422                      -1          PP-53422-BLM0T1 \n",
       "1509 1808 PP-54072                      -1          PP-54072-BLM0T1 \n",
       "1521 1821 PP-54724                      -1          PP-54724-BLM0T1 \n",
       "1527 1828 PP-55198                      -1          PP-55198-BLM0T1 \n",
       "1532 1833 PP-55610                      -1          PP-55610-BLM0T1 \n",
       "1550 1854 PP-57567                      -1          PP-57567-BLM0T1 \n",
       "     PCT_USABLE_BASES Plate STRAND_BALANCE\n",
       "7    0.368938         P341  0.559685      \n",
       "8    0.175267         P341  0.821981      \n",
       "10   0.229987         P341  0.740576      \n",
       "16   0.153338         P341  0.857184      \n",
       "24   0.178567         P341  0.785834      \n",
       "31   0.543721         P342  0.518666      \n",
       "32   0.400889         P342  0.632508      \n",
       "36   0.428424         P341  0.552939      \n",
       "37   0.326003         P341  0.696349      \n",
       "39   0.217465         P341  0.761710      \n",
       "45   0.270980         P341  0.707273      \n",
       "46   0.200012         P341  0.791646      \n",
       "49   0.204843         P341  0.805482      \n",
       "57   0.303373         P342  0.591517      \n",
       "59   0.343591         P342  0.581023      \n",
       "60   0.267975         P342  0.702552      \n",
       "63   0.297992         P342  0.594147      \n",
       "65   0.337131         P342  0.559685      \n",
       "71   0.346323         P342  0.679662      \n",
       "72   0.342366         P341  0.630592      \n",
       "77   0.245242         P341  0.681783      \n",
       "82   0.457212         P342  0.572005      \n",
       "83   0.412993         P342  0.581839      \n",
       "85   0.243849         P343  0.740451      \n",
       "87   0.307194         P342  0.595753      \n",
       "90   0.302694         P342  0.681069      \n",
       "93   0.355065         P342  0.540170      \n",
       "101  0.342063         P342  0.552902      \n",
       "102  0.341832         P342  0.554843      \n",
       "104  0.354629         P342  0.704674      \n",
       "⋮    ⋮                ⋮     ⋮             \n",
       "1376 0.433133         P216  0.515745      \n",
       "1379 0.386652         P225  0.526024      \n",
       "1380 0.363201         P225  0.517440      \n",
       "1381 0.052557         P225  0.504500      \n",
       "1383 0.399135         P225  0.579958      \n",
       "1386 0.303864         P225  0.654320      \n",
       "1388 0.434282         P225  0.529707      \n",
       "1390 0.486171         P225  0.536999      \n",
       "1400 0.422775         P202  0.522518      \n",
       "1405 0.461398         P205  0.547009      \n",
       "1406 0.364239         P201  0.507209      \n",
       "1410 0.418583         P208  0.510585      \n",
       "1413 0.361013         P202  0.528220      \n",
       "1436 0.440282         P210  0.510534      \n",
       "1443 0.442002         P211  0.496006      \n",
       "1451 0.323215         P205  0.592851      \n",
       "1452 0.437147         P209  0.616551      \n",
       "1454 0.485614         P214  0.508869      \n",
       "1458 0.479268         P213  0.491279      \n",
       "1477 0.386551         P213  0.491713      \n",
       "1479 0.344222         P206  0.619877      \n",
       "1483 0.380056         P207  0.596929      \n",
       "1497 0.435225         P206  0.531768      \n",
       "1499 0.442306         P212  0.500816      \n",
       "1500 0.435070         P216  0.493369      \n",
       "1509 0.316176         P207  0.569770      \n",
       "1521 0.365276         P209  0.661018      \n",
       "1527 0.493912         P215  0.489058      \n",
       "1532 0.470297         P208  0.511241      \n",
       "1550 0.417775         P209  0.543829      \n",
       "     diagnosis_at_baseline                \n",
       "7    No PD Nor Other Neurological Disorder\n",
       "8    Idiopathic PD                        \n",
       "10   No PD Nor Other Neurological Disorder\n",
       "16   No PD Nor Other Neurological Disorder\n",
       "24   Idiopathic PD                        \n",
       "31   Idiopathic PD                        \n",
       "32   Idiopathic PD                        \n",
       "36   Idiopathic PD                        \n",
       "37   Idiopathic PD                        \n",
       "39   Idiopathic PD                        \n",
       "45   Idiopathic PD                        \n",
       "46   Idiopathic PD                        \n",
       "49   Idiopathic PD                        \n",
       "57   Idiopathic PD                        \n",
       "59   Idiopathic PD                        \n",
       "60   Idiopathic PD                        \n",
       "63   Idiopathic PD                        \n",
       "65   Idiopathic PD                        \n",
       "71   Idiopathic PD                        \n",
       "72   Idiopathic PD                        \n",
       "77   No PD Nor Other Neurological Disorder\n",
       "82   No PD Nor Other Neurological Disorder\n",
       "83   Idiopathic PD                        \n",
       "85   Idiopathic PD                        \n",
       "87   Idiopathic PD                        \n",
       "90   Idiopathic PD                        \n",
       "93   Idiopathic PD                        \n",
       "101  Idiopathic PD                        \n",
       "102  No PD Nor Other Neurological Disorder\n",
       "104  No PD Nor Other Neurological Disorder\n",
       "⋮    ⋮                                    \n",
       "1376 Idiopathic PD                        \n",
       "1379 Idiopathic PD                        \n",
       "1380 Idiopathic PD                        \n",
       "1381 Idiopathic PD                        \n",
       "1383 Idiopathic PD                        \n",
       "1386 Idiopathic PD                        \n",
       "1388 Idiopathic PD                        \n",
       "1390 No PD Nor Other Neurological Disorder\n",
       "1400 Idiopathic PD                        \n",
       "1405 Idiopathic PD                        \n",
       "1406 Idiopathic PD                        \n",
       "1410 Idiopathic PD                        \n",
       "1413 Idiopathic PD                        \n",
       "1436 Idiopathic PD                        \n",
       "1443 No PD Nor Other Neurological Disorder\n",
       "1451 Idiopathic PD                        \n",
       "1452 Idiopathic PD                        \n",
       "1454 No PD Nor Other Neurological Disorder\n",
       "1458 Idiopathic PD                        \n",
       "1477 Idiopathic PD                        \n",
       "1479 Idiopathic PD                        \n",
       "1483 No PD Nor Other Neurological Disorder\n",
       "1497 Idiopathic PD                        \n",
       "1499 No PD Nor Other Neurological Disorder\n",
       "1500 Idiopathic PD                        \n",
       "1509 Idiopathic PD                        \n",
       "1521 Idiopathic PD                        \n",
       "1527 Idiopathic PD                        \n",
       "1532 Idiopathic PD                        \n",
       "1550 No PD Nor Other Neurological Disorder\n",
       "     diagnosis_latest                      ⋯ age_at_baseline age_at_diagnosis\n",
       "7    No PD Nor Other Neurological Disorder ⋯ 73              NA              \n",
       "8    Idiopathic PD                         ⋯ 70              65              \n",
       "10   No PD Nor Other Neurological Disorder ⋯ 81              NA              \n",
       "16   No PD Nor Other Neurological Disorder ⋯ 72              NA              \n",
       "24   Idiopathic PD                         ⋯ 70              63              \n",
       "31   Idiopathic PD                         ⋯ 77              67              \n",
       "32   Idiopathic PD                         ⋯ 72              72              \n",
       "36   Idiopathic PD                         ⋯ 65              59              \n",
       "37   Idiopathic PD                         ⋯ 66              59              \n",
       "39   Idiopathic PD                         ⋯ 65              59              \n",
       "45   Idiopathic PD                         ⋯ 74              64              \n",
       "46   Idiopathic PD                         ⋯ 68              60              \n",
       "49   Idiopathic PD                         ⋯ 79              73              \n",
       "57   Idiopathic PD                         ⋯ 71              66              \n",
       "59   Idiopathic PD                         ⋯ 66              60              \n",
       "60   Idiopathic PD                         ⋯ 79              69              \n",
       "63   Idiopathic PD                         ⋯ 68              59              \n",
       "65   Idiopathic PD                         ⋯ 69              65              \n",
       "71   Idiopathic PD                         ⋯ 71              56              \n",
       "72   Idiopathic PD                         ⋯ 69              60              \n",
       "77   No PD Nor Other Neurological Disorder ⋯ 81              NA              \n",
       "82   No PD Nor Other Neurological Disorder ⋯ 77              NA              \n",
       "83   Idiopathic PD                         ⋯ 74              61              \n",
       "85   Idiopathic PD                         ⋯ 69              66              \n",
       "87   Idiopathic PD                         ⋯ 65              59              \n",
       "90   Idiopathic PD                         ⋯ 69              66              \n",
       "93   Idiopathic PD                         ⋯ 77              72              \n",
       "101  Idiopathic PD                         ⋯ 72              57              \n",
       "102  No PD Nor Other Neurological Disorder ⋯ 76              NA              \n",
       "104  No PD Nor Other Neurological Disorder ⋯ 84              NA              \n",
       "⋮    ⋮                                     ⋱ ⋮               ⋮               \n",
       "1376 Idiopathic PD                         ⋯ 77              63              \n",
       "1379 Idiopathic PD                         ⋯ 67              67              \n",
       "1380 Idiopathic PD                         ⋯ 82              57              \n",
       "1381 Idiopathic PD                         ⋯ 69              57              \n",
       "1383 Idiopathic PD                         ⋯ 65              63              \n",
       "1386 Idiopathic PD                         ⋯ 70              54              \n",
       "1388 Idiopathic PD                         ⋯ 67              63              \n",
       "1390 No PD Nor Other Neurological Disorder ⋯ 70              NA              \n",
       "1400 Idiopathic PD                         ⋯ 76              62              \n",
       "1405 Idiopathic PD                         ⋯ 79              73              \n",
       "1406 Idiopathic PD                         ⋯ 82              82              \n",
       "1410 Idiopathic PD                         ⋯ 77              NA              \n",
       "1413 Idiopathic PD                         ⋯ 77              64              \n",
       "1436 Idiopathic PD                         ⋯ 66              NA              \n",
       "1443 No PD Nor Other Neurological Disorder ⋯ 86              NA              \n",
       "1451 Idiopathic PD                         ⋯ 70              61              \n",
       "1452 Idiopathic PD                         ⋯ 68              62              \n",
       "1454 No PD Nor Other Neurological Disorder ⋯ 75              NA              \n",
       "1458 Idiopathic PD                         ⋯ 77              75              \n",
       "1477 Idiopathic PD                         ⋯ 70              57              \n",
       "1479 Idiopathic PD                         ⋯ 70              57              \n",
       "1483 No PD Nor Other Neurological Disorder ⋯ 70              NA              \n",
       "1497 Idiopathic PD                         ⋯ 65              61              \n",
       "1499 No PD Nor Other Neurological Disorder ⋯ 73              NA              \n",
       "1500 Idiopathic PD                         ⋯ 69              66              \n",
       "1509 Idiopathic PD                         ⋯ 66              54              \n",
       "1521 Idiopathic PD                         ⋯ 69              66              \n",
       "1527 Idiopathic PD                         ⋯ 70              69              \n",
       "1532 Idiopathic PD                         ⋯ 69              59              \n",
       "1550 No PD Nor Other Neurological Disorder ⋯ 72              NA              \n",
       "     disease_duration sex  ethnicity              race  education_level_years\n",
       "7    NA               Male Not Hispanic or Latino White Greater than 16 years\n",
       "8     5               Male Not Hispanic or Latino White Greater than 16 years\n",
       "10   NA               Male Not Hispanic or Latino White Greater than 16 years\n",
       "16   NA               Male Not Hispanic or Latino White Greater than 16 years\n",
       "24    7               Male Not Hispanic or Latino White Greater than 16 years\n",
       "31   10               Male Not Hispanic or Latino White Greater than 16 years\n",
       "32    0               Male Not Hispanic or Latino White Greater than 16 years\n",
       "36    6               Male Not Hispanic or Latino White Greater than 16 years\n",
       "37    7               Male Not Hispanic or Latino White Greater than 16 years\n",
       "39    6               Male Not Hispanic or Latino White Greater than 16 years\n",
       "45   10               Male Not Hispanic or Latino White Greater than 16 years\n",
       "46    8               Male Not Hispanic or Latino White Greater than 16 years\n",
       "49    6               Male Not Hispanic or Latino White Greater than 16 years\n",
       "57    5               Male Not Hispanic or Latino White 12-16 years          \n",
       "59    6               Male Not Hispanic or Latino White 12-16 years          \n",
       "60   10               Male Not Hispanic or Latino White 12-16 years          \n",
       "63    9               Male Not Hispanic or Latino White 12-16 years          \n",
       "65    4               Male Not Hispanic or Latino White 12-16 years          \n",
       "71   15               Male Not Hispanic or Latino White Less than 12 years   \n",
       "72    9               Male Not Hispanic or Latino White 12-16 years          \n",
       "77   NA               Male Not Hispanic or Latino White Greater than 16 years\n",
       "82   NA               Male Not Hispanic or Latino White Greater than 16 years\n",
       "83   13               Male Not Hispanic or Latino White 12-16 years          \n",
       "85    3               Male Not Hispanic or Latino White Greater than 16 years\n",
       "87    6               Male Not Hispanic or Latino White 12-16 years          \n",
       "90    3               Male Not Hispanic or Latino White Greater than 16 years\n",
       "93    5               Male Not Hispanic or Latino White 12-16 years          \n",
       "101  15               Male Not Hispanic or Latino White Greater than 16 years\n",
       "102  NA               Male Not Hispanic or Latino White 12-16 years          \n",
       "104  NA               Male Not Hispanic or Latino White 12-16 years          \n",
       "⋮    ⋮                ⋮    ⋮                      ⋮     ⋮                    \n",
       "1376 14               Male Not Hispanic or Latino White Greater than 16 years\n",
       "1379  0               Male Not Hispanic or Latino White 12-16 years          \n",
       "1380 25               Male Not Hispanic or Latino White 12-16 years          \n",
       "1381 12               Male Not Hispanic or Latino White 12-16 years          \n",
       "1383  2               Male Not Hispanic or Latino White 12-16 years          \n",
       "1386 16               Male Not Hispanic or Latino White Greater than 16 years\n",
       "1388  4               Male Not Hispanic or Latino White Less than 12 years   \n",
       "1390 NA               Male Not Hispanic or Latino White Greater than 16 years\n",
       "1400 14               Male Not Hispanic or Latino White Greater than 16 years\n",
       "1405  6               Male Not Hispanic or Latino White Greater than 16 years\n",
       "1406  0               Male Not Hispanic or Latino White 12-16 years          \n",
       "1410 NA               Male Not Hispanic or Latino White Greater than 16 years\n",
       "1413 13               Male Not Hispanic or Latino White 12-16 years          \n",
       "1436 NA               Male Not Hispanic or Latino White Greater than 16 years\n",
       "1443 NA               Male Not Hispanic or Latino White Greater than 16 years\n",
       "1451  9               Male Not Hispanic or Latino White Greater than 16 years\n",
       "1452  6               Male Not Hispanic or Latino White Greater than 16 years\n",
       "1454 NA               Male Not Hispanic or Latino White Greater than 16 years\n",
       "1458  2               Male Not Hispanic or Latino White 12-16 years          \n",
       "1477 13               Male Not Hispanic or Latino White Greater than 16 years\n",
       "1479 13               Male Not Hispanic or Latino White Greater than 16 years\n",
       "1483 NA               Male Not Hispanic or Latino White 12-16 years          \n",
       "1497  4               Male Not Hispanic or Latino White Greater than 16 years\n",
       "1499 NA               Male Not Hispanic or Latino White 12-16 years          \n",
       "1500  3               Male Not Hispanic or Latino White 12-16 years          \n",
       "1509 12               Male Not Hispanic or Latino White Greater than 16 years\n",
       "1521  3               Male Not Hispanic or Latino White Greater than 16 years\n",
       "1527  1               Male Not Hispanic or Latino White 12-16 years          \n",
       "1532 10               Male Not Hispanic or Latino White Greater than 16 years\n",
       "1550 NA               Male Not Hispanic or Latino White Greater than 16 years\n",
       "     moca_total_score Cognition_phenotype age_baseline_range\n",
       "7    29               HCnoCI              above_65          \n",
       "8    24               PDMCI               above_65          \n",
       "10   29               HCnoCI              above_65          \n",
       "16   26               HCnoCI              above_65          \n",
       "24   18               PDD                 above_65          \n",
       "31   26               PDnoCI              above_65          \n",
       "32   26               PDnoCI              above_65          \n",
       "36   27               PDnoCI              55_to_65          \n",
       "37   24               PDMCI               above_65          \n",
       "39   27               PDnoCI              55_to_65          \n",
       "45   22               PDMCI               above_65          \n",
       "46   24               PDMCI               above_65          \n",
       "49   27               PDnoCI              above_65          \n",
       "57   28               PDnoCI              above_65          \n",
       "59   23               PDMCI               above_65          \n",
       "60   28               PDnoCI              above_65          \n",
       "63   27               PDnoCI              above_65          \n",
       "65   22               PDMCI               above_65          \n",
       "71   28               PDnoCI              above_65          \n",
       "72   27               PDnoCI              above_65          \n",
       "77   27               HCnoCI              above_65          \n",
       "82   28               HCnoCI              above_65          \n",
       "83   28               PDnoCI              above_65          \n",
       "85   29               PDnoCI              above_65          \n",
       "87   30               PDnoCI              55_to_65          \n",
       "90   27               PDnoCI              above_65          \n",
       "93   26               PDnoCI              above_65          \n",
       "101  23               PDMCI               above_65          \n",
       "102  30               HCnoCI              above_65          \n",
       "104  29               HCnoCI              above_65          \n",
       "⋮    ⋮                ⋮                   ⋮                 \n",
       "1376 26               PDnoCI              above_65          \n",
       "1379 22               PDMCI               above_65          \n",
       "1380 20               PDMCI               above_65          \n",
       "1381 17               PDD                 above_65          \n",
       "1383 28               PDnoCI              55_to_65          \n",
       "1386 24               PDMCI               above_65          \n",
       "1388 28               PDnoCI              above_65          \n",
       "1390 29               HCnoCI              above_65          \n",
       "1400 30               PDnoCI              above_65          \n",
       "1405 30               PDnoCI              above_65          \n",
       "1406 23               PDMCI               above_65          \n",
       "1410 28               PDnoCI              above_65          \n",
       "1413 27               PDnoCI              above_65          \n",
       "1436 29               PDnoCI              above_65          \n",
       "1443 23               HCMCI               above_65          \n",
       "1451 26               PDnoCI              above_65          \n",
       "1452 23               PDMCI               above_65          \n",
       "1454 24               HCMCI               above_65          \n",
       "1458 26               PDnoCI              above_65          \n",
       "1477 29               PDnoCI              above_65          \n",
       "1479 28               PDnoCI              above_65          \n",
       "1483 24               HCMCI               above_65          \n",
       "1497 27               PDnoCI              55_to_65          \n",
       "1499 27               HCnoCI              above_65          \n",
       "1500 23               PDMCI               above_65          \n",
       "1509 26               PDnoCI              above_65          \n",
       "1521 27               PDnoCI              above_65          \n",
       "1527 23               PDMCI               above_65          \n",
       "1532 21               PDMCI               above_65          \n",
       "1550 24               HCMCI               above_65          "
      ]
     },
     "metadata": {},
     "output_type": "display_data"
    }
   ],
   "source": [
    "sample_meta_male_over_65"
   ]
  },
  {
   "cell_type": "code",
   "execution_count": 55,
   "metadata": {},
   "outputs": [],
   "source": [
    "#Transcriptomics count data\n",
    "rnaPath <- file.path({WORKSPACE_BUCKET}, 'matrix.featureCounts.tsv')"
   ]
  },
  {
   "cell_type": "code",
   "execution_count": 56,
   "metadata": {},
   "outputs": [],
   "source": [
    "tmp <- gcs_read_file(rnaPath)"
   ]
  },
  {
   "cell_type": "code",
   "execution_count": 57,
   "metadata": {},
   "outputs": [],
   "source": [
    "countTable <- read.table(file=tmp, header=TRUE, sep=\"\\t\", check.names=FALSE, row.names=\"Geneid\")"
   ]
  },
  {
   "cell_type": "code",
   "execution_count": 58,
   "metadata": {},
   "outputs": [],
   "source": [
    "#passingGenesAnno\n",
    "annoPath <- file.path({WORKSPACE_BUCKET}, 'passingGenesAnno.csv')\n",
    "tmp <- gcs_read_file(annoPath)\n",
    "filtGenes <- read.csv(tmp,header=TRUE)"
   ]
  },
  {
   "cell_type": "code",
   "execution_count": 59,
   "metadata": {},
   "outputs": [
    {
     "data": {
      "text/html": [
       "<style>\n",
       ".list-inline {list-style: none; margin:0; padding: 0}\n",
       ".list-inline>li {display: inline-block}\n",
       ".list-inline>li:not(:last-child)::after {content: \"\\00b7\"; padding: 0 .5ex}\n",
       "</style>\n",
       "<ol class=list-inline><li>58780</li><li>8461</li></ol>\n"
      ],
      "text/latex": [
       "\\begin{enumerate*}\n",
       "\\item 58780\n",
       "\\item 8461\n",
       "\\end{enumerate*}\n"
      ],
      "text/markdown": [
       "1. 58780\n",
       "2. 8461\n",
       "\n",
       "\n"
      ],
      "text/plain": [
       "[1] 58780  8461"
      ]
     },
     "metadata": {},
     "output_type": "display_data"
    },
    {
     "data": {
      "text/html": [
       "<table class=\"dataframe\">\n",
       "<caption>A data.frame: 6 × 10</caption>\n",
       "<thead>\n",
       "\t<tr><th></th><th scope=col>PP-3867-SVM6T1</th><th scope=col>PD-PDMZ724XCN-SVM18T1</th><th scope=col>PP-60044-SVM24T1</th><th scope=col>PP-3604-SVM12T1</th><th scope=col>PP-3522-SVM12T1</th><th scope=col>PP-50572-SVM12T1</th><th scope=col>PD-PDCT406CN9-SVM12T1</th><th scope=col>PP-3071-SVM12T1</th><th scope=col>PP-3815-BLM0T1</th><th scope=col>PD-PDDE532JGE-SVM12T1</th></tr>\n",
       "\t<tr><th></th><th scope=col>&lt;int&gt;</th><th scope=col>&lt;int&gt;</th><th scope=col>&lt;int&gt;</th><th scope=col>&lt;int&gt;</th><th scope=col>&lt;int&gt;</th><th scope=col>&lt;int&gt;</th><th scope=col>&lt;int&gt;</th><th scope=col>&lt;int&gt;</th><th scope=col>&lt;int&gt;</th><th scope=col>&lt;int&gt;</th></tr>\n",
       "</thead>\n",
       "<tbody>\n",
       "\t<tr><th scope=row>ENSG00000242268.2</th><td>1</td><td>0</td><td> 3</td><td>0</td><td> 1</td><td> 0</td><td> 1</td><td> 0</td><td> 0</td><td> 1</td></tr>\n",
       "\t<tr><th scope=row>ENSG00000259041.1</th><td>0</td><td>0</td><td> 0</td><td>0</td><td> 0</td><td> 0</td><td> 1</td><td> 0</td><td> 0</td><td> 0</td></tr>\n",
       "\t<tr><th scope=row>ENSG00000207641.1</th><td>0</td><td>0</td><td> 0</td><td>0</td><td> 0</td><td> 0</td><td> 0</td><td> 0</td><td> 0</td><td> 0</td></tr>\n",
       "\t<tr><th scope=row>ENSG00000270112.3</th><td>0</td><td>0</td><td> 2</td><td>7</td><td> 1</td><td> 2</td><td>27</td><td> 2</td><td> 1</td><td> 2</td></tr>\n",
       "\t<tr><th scope=row>ENSG00000280143.1</th><td>6</td><td>9</td><td>38</td><td>6</td><td>27</td><td>13</td><td>18</td><td>26</td><td>19</td><td>11</td></tr>\n",
       "\t<tr><th scope=row>ENSG00000269416.5</th><td>0</td><td>1</td><td> 1</td><td>1</td><td> 4</td><td> 0</td><td> 8</td><td> 0</td><td> 0</td><td> 0</td></tr>\n",
       "</tbody>\n",
       "</table>\n"
      ],
      "text/latex": [
       "A data.frame: 6 × 10\n",
       "\\begin{tabular}{r|llllllllll}\n",
       "  & PP-3867-SVM6T1 & PD-PDMZ724XCN-SVM18T1 & PP-60044-SVM24T1 & PP-3604-SVM12T1 & PP-3522-SVM12T1 & PP-50572-SVM12T1 & PD-PDCT406CN9-SVM12T1 & PP-3071-SVM12T1 & PP-3815-BLM0T1 & PD-PDDE532JGE-SVM12T1\\\\\n",
       "  & <int> & <int> & <int> & <int> & <int> & <int> & <int> & <int> & <int> & <int>\\\\\n",
       "\\hline\n",
       "\tENSG00000242268.2 & 1 & 0 &  3 & 0 &  1 &  0 &  1 &  0 &  0 &  1\\\\\n",
       "\tENSG00000259041.1 & 0 & 0 &  0 & 0 &  0 &  0 &  1 &  0 &  0 &  0\\\\\n",
       "\tENSG00000207641.1 & 0 & 0 &  0 & 0 &  0 &  0 &  0 &  0 &  0 &  0\\\\\n",
       "\tENSG00000270112.3 & 0 & 0 &  2 & 7 &  1 &  2 & 27 &  2 &  1 &  2\\\\\n",
       "\tENSG00000280143.1 & 6 & 9 & 38 & 6 & 27 & 13 & 18 & 26 & 19 & 11\\\\\n",
       "\tENSG00000269416.5 & 0 & 1 &  1 & 1 &  4 &  0 &  8 &  0 &  0 &  0\\\\\n",
       "\\end{tabular}\n"
      ],
      "text/markdown": [
       "\n",
       "A data.frame: 6 × 10\n",
       "\n",
       "| <!--/--> | PP-3867-SVM6T1 &lt;int&gt; | PD-PDMZ724XCN-SVM18T1 &lt;int&gt; | PP-60044-SVM24T1 &lt;int&gt; | PP-3604-SVM12T1 &lt;int&gt; | PP-3522-SVM12T1 &lt;int&gt; | PP-50572-SVM12T1 &lt;int&gt; | PD-PDCT406CN9-SVM12T1 &lt;int&gt; | PP-3071-SVM12T1 &lt;int&gt; | PP-3815-BLM0T1 &lt;int&gt; | PD-PDDE532JGE-SVM12T1 &lt;int&gt; |\n",
       "|---|---|---|---|---|---|---|---|---|---|---|\n",
       "| ENSG00000242268.2 | 1 | 0 |  3 | 0 |  1 |  0 |  1 |  0 |  0 |  1 |\n",
       "| ENSG00000259041.1 | 0 | 0 |  0 | 0 |  0 |  0 |  1 |  0 |  0 |  0 |\n",
       "| ENSG00000207641.1 | 0 | 0 |  0 | 0 |  0 |  0 |  0 |  0 |  0 |  0 |\n",
       "| ENSG00000270112.3 | 0 | 0 |  2 | 7 |  1 |  2 | 27 |  2 |  1 |  2 |\n",
       "| ENSG00000280143.1 | 6 | 9 | 38 | 6 | 27 | 13 | 18 | 26 | 19 | 11 |\n",
       "| ENSG00000269416.5 | 0 | 1 |  1 | 1 |  4 |  0 |  8 |  0 |  0 |  0 |\n",
       "\n"
      ],
      "text/plain": [
       "                  PP-3867-SVM6T1 PD-PDMZ724XCN-SVM18T1 PP-60044-SVM24T1\n",
       "ENSG00000242268.2 1              0                      3              \n",
       "ENSG00000259041.1 0              0                      0              \n",
       "ENSG00000207641.1 0              0                      0              \n",
       "ENSG00000270112.3 0              0                      2              \n",
       "ENSG00000280143.1 6              9                     38              \n",
       "ENSG00000269416.5 0              1                      1              \n",
       "                  PP-3604-SVM12T1 PP-3522-SVM12T1 PP-50572-SVM12T1\n",
       "ENSG00000242268.2 0                1               0              \n",
       "ENSG00000259041.1 0                0               0              \n",
       "ENSG00000207641.1 0                0               0              \n",
       "ENSG00000270112.3 7                1               2              \n",
       "ENSG00000280143.1 6               27              13              \n",
       "ENSG00000269416.5 1                4               0              \n",
       "                  PD-PDCT406CN9-SVM12T1 PP-3071-SVM12T1 PP-3815-BLM0T1\n",
       "ENSG00000242268.2  1                     0               0            \n",
       "ENSG00000259041.1  1                     0               0            \n",
       "ENSG00000207641.1  0                     0               0            \n",
       "ENSG00000270112.3 27                     2               1            \n",
       "ENSG00000280143.1 18                    26              19            \n",
       "ENSG00000269416.5  8                     0               0            \n",
       "                  PD-PDDE532JGE-SVM12T1\n",
       "ENSG00000242268.2  1                   \n",
       "ENSG00000259041.1  0                   \n",
       "ENSG00000207641.1  0                   \n",
       "ENSG00000270112.3  2                   \n",
       "ENSG00000280143.1 11                   \n",
       "ENSG00000269416.5  0                   "
      ]
     },
     "metadata": {},
     "output_type": "display_data"
    }
   ],
   "source": [
    "dim(countTable)\n",
    "head(countTable[,c(1:10)])"
   ]
  },
  {
   "cell_type": "code",
   "execution_count": 60,
   "metadata": {},
   "outputs": [
    {
     "data": {
      "text/html": [
       "<style>\n",
       ".list-inline {list-style: none; margin:0; padding: 0}\n",
       ".list-inline>li {display: inline-block}\n",
       ".list-inline>li:not(:last-child)::after {content: \"\\00b7\"; padding: 0 .5ex}\n",
       "</style>\n",
       "<ol class=list-inline><li>2742017</li><li>8</li></ol>\n"
      ],
      "text/latex": [
       "\\begin{enumerate*}\n",
       "\\item 2742017\n",
       "\\item 8\n",
       "\\end{enumerate*}\n"
      ],
      "text/markdown": [
       "1. 2742017\n",
       "2. 8\n",
       "\n",
       "\n"
      ],
      "text/plain": [
       "[1] 2742017       8"
      ]
     },
     "metadata": {},
     "output_type": "display_data"
    },
    {
     "data": {
      "text/html": [
       "<table class=\"dataframe\">\n",
       "<caption>A data.frame: 6 × 8</caption>\n",
       "<thead>\n",
       "\t<tr><th></th><th scope=col>X</th><th scope=col>gene_id</th><th scope=col>gene_name</th><th scope=col>gene_type</th><th scope=col>seqname</th><th scope=col>start</th><th scope=col>end</th><th scope=col>strand</th></tr>\n",
       "\t<tr><th></th><th scope=col>&lt;int&gt;</th><th scope=col>&lt;chr&gt;</th><th scope=col>&lt;chr&gt;</th><th scope=col>&lt;chr&gt;</th><th scope=col>&lt;chr&gt;</th><th scope=col>&lt;int&gt;</th><th scope=col>&lt;int&gt;</th><th scope=col>&lt;chr&gt;</th></tr>\n",
       "</thead>\n",
       "<tbody>\n",
       "\t<tr><th scope=row>1</th><td>0</td><td>ENSG00000223972.5</td><td>DDX11L1</td><td>transcribed_unprocessed_pseudogene</td><td>chr1</td><td>11869</td><td>14409</td><td>+</td></tr>\n",
       "\t<tr><th scope=row>2</th><td>1</td><td>ENSG00000223972.5</td><td>DDX11L1</td><td>transcribed_unprocessed_pseudogene</td><td>chr1</td><td>11869</td><td>14409</td><td>+</td></tr>\n",
       "\t<tr><th scope=row>3</th><td>2</td><td>ENSG00000223972.5</td><td>DDX11L1</td><td>transcribed_unprocessed_pseudogene</td><td>chr1</td><td>11869</td><td>12227</td><td>+</td></tr>\n",
       "\t<tr><th scope=row>4</th><td>3</td><td>ENSG00000223972.5</td><td>DDX11L1</td><td>transcribed_unprocessed_pseudogene</td><td>chr1</td><td>12613</td><td>12721</td><td>+</td></tr>\n",
       "\t<tr><th scope=row>5</th><td>4</td><td>ENSG00000223972.5</td><td>DDX11L1</td><td>transcribed_unprocessed_pseudogene</td><td>chr1</td><td>13221</td><td>14409</td><td>+</td></tr>\n",
       "\t<tr><th scope=row>6</th><td>5</td><td>ENSG00000223972.5</td><td>DDX11L1</td><td>transcribed_unprocessed_pseudogene</td><td>chr1</td><td>12010</td><td>13670</td><td>+</td></tr>\n",
       "</tbody>\n",
       "</table>\n"
      ],
      "text/latex": [
       "A data.frame: 6 × 8\n",
       "\\begin{tabular}{r|llllllll}\n",
       "  & X & gene\\_id & gene\\_name & gene\\_type & seqname & start & end & strand\\\\\n",
       "  & <int> & <chr> & <chr> & <chr> & <chr> & <int> & <int> & <chr>\\\\\n",
       "\\hline\n",
       "\t1 & 0 & ENSG00000223972.5 & DDX11L1 & transcribed\\_unprocessed\\_pseudogene & chr1 & 11869 & 14409 & +\\\\\n",
       "\t2 & 1 & ENSG00000223972.5 & DDX11L1 & transcribed\\_unprocessed\\_pseudogene & chr1 & 11869 & 14409 & +\\\\\n",
       "\t3 & 2 & ENSG00000223972.5 & DDX11L1 & transcribed\\_unprocessed\\_pseudogene & chr1 & 11869 & 12227 & +\\\\\n",
       "\t4 & 3 & ENSG00000223972.5 & DDX11L1 & transcribed\\_unprocessed\\_pseudogene & chr1 & 12613 & 12721 & +\\\\\n",
       "\t5 & 4 & ENSG00000223972.5 & DDX11L1 & transcribed\\_unprocessed\\_pseudogene & chr1 & 13221 & 14409 & +\\\\\n",
       "\t6 & 5 & ENSG00000223972.5 & DDX11L1 & transcribed\\_unprocessed\\_pseudogene & chr1 & 12010 & 13670 & +\\\\\n",
       "\\end{tabular}\n"
      ],
      "text/markdown": [
       "\n",
       "A data.frame: 6 × 8\n",
       "\n",
       "| <!--/--> | X &lt;int&gt; | gene_id &lt;chr&gt; | gene_name &lt;chr&gt; | gene_type &lt;chr&gt; | seqname &lt;chr&gt; | start &lt;int&gt; | end &lt;int&gt; | strand &lt;chr&gt; |\n",
       "|---|---|---|---|---|---|---|---|---|\n",
       "| 1 | 0 | ENSG00000223972.5 | DDX11L1 | transcribed_unprocessed_pseudogene | chr1 | 11869 | 14409 | + |\n",
       "| 2 | 1 | ENSG00000223972.5 | DDX11L1 | transcribed_unprocessed_pseudogene | chr1 | 11869 | 14409 | + |\n",
       "| 3 | 2 | ENSG00000223972.5 | DDX11L1 | transcribed_unprocessed_pseudogene | chr1 | 11869 | 12227 | + |\n",
       "| 4 | 3 | ENSG00000223972.5 | DDX11L1 | transcribed_unprocessed_pseudogene | chr1 | 12613 | 12721 | + |\n",
       "| 5 | 4 | ENSG00000223972.5 | DDX11L1 | transcribed_unprocessed_pseudogene | chr1 | 13221 | 14409 | + |\n",
       "| 6 | 5 | ENSG00000223972.5 | DDX11L1 | transcribed_unprocessed_pseudogene | chr1 | 12010 | 13670 | + |\n",
       "\n"
      ],
      "text/plain": [
       "  X gene_id           gene_name gene_type                          seqname\n",
       "1 0 ENSG00000223972.5 DDX11L1   transcribed_unprocessed_pseudogene chr1   \n",
       "2 1 ENSG00000223972.5 DDX11L1   transcribed_unprocessed_pseudogene chr1   \n",
       "3 2 ENSG00000223972.5 DDX11L1   transcribed_unprocessed_pseudogene chr1   \n",
       "4 3 ENSG00000223972.5 DDX11L1   transcribed_unprocessed_pseudogene chr1   \n",
       "5 4 ENSG00000223972.5 DDX11L1   transcribed_unprocessed_pseudogene chr1   \n",
       "6 5 ENSG00000223972.5 DDX11L1   transcribed_unprocessed_pseudogene chr1   \n",
       "  start end   strand\n",
       "1 11869 14409 +     \n",
       "2 11869 14409 +     \n",
       "3 11869 12227 +     \n",
       "4 12613 12721 +     \n",
       "5 13221 14409 +     \n",
       "6 12010 13670 +     "
      ]
     },
     "metadata": {},
     "output_type": "display_data"
    }
   ],
   "source": [
    "dim(filtGenes)\n",
    "head(filtGenes)"
   ]
  },
  {
   "cell_type": "code",
   "execution_count": 61,
   "metadata": {},
   "outputs": [],
   "source": [
    "countTable.back <- countTable"
   ]
  },
  {
   "cell_type": "code",
   "execution_count": 62,
   "metadata": {
    "scrolled": true
   },
   "outputs": [
    {
     "data": {
      "text/html": [
       "<style>\n",
       ".list-inline {list-style: none; margin:0; padding: 0}\n",
       ".list-inline>li {display: inline-block}\n",
       ".list-inline>li:not(:last-child)::after {content: \"\\00b7\"; padding: 0 .5ex}\n",
       "</style>\n",
       "<ol class=list-inline><li>58721</li><li>8461</li></ol>\n"
      ],
      "text/latex": [
       "\\begin{enumerate*}\n",
       "\\item 58721\n",
       "\\item 8461\n",
       "\\end{enumerate*}\n"
      ],
      "text/markdown": [
       "1. 58721\n",
       "2. 8461\n",
       "\n",
       "\n"
      ],
      "text/plain": [
       "[1] 58721  8461"
      ]
     },
     "metadata": {},
     "output_type": "display_data"
    }
   ],
   "source": [
    "countTable <- countTable[rownames(countTable) %in% filtGenes$gene_id,]\n",
    "dim(countTable)"
   ]
  },
  {
   "cell_type": "code",
   "execution_count": 63,
   "metadata": {},
   "outputs": [],
   "source": [
    "#Subset sample data to case control only, match count table to sample table\n",
    "sample_meta_male_over_65.sub <- sample_meta_male_over_65 %>%\n",
    "    filter(Cognition_phenotype == \"PDD\" | Cognition_phenotype == \"PDnoCI\") %>%\n",
    "    mutate(ageBin = factor(cut(age_at_baseline, breaks=c(0, 55, 65, 100),\n",
    "                             labels = c(\"under_55\", \"55_to_65\", \"over_65\"),\n",
    "                             right = FALSE,\n",
    "                             include.lowest = T),\n",
    "                         levels = c(\"under_55\", \"55_to_65\", \"over_65\")))"
   ]
  },
  {
   "cell_type": "code",
   "execution_count": 64,
   "metadata": {},
   "outputs": [
    {
     "name": "stdout",
     "output_type": "stream",
     "text": [
      "'data.frame':\t197 obs. of  23 variables:\n",
      " $ X                             : int  28 37 38 43 46 57 69 72 75 83 ...\n",
      " $ participant_id                : chr  \"BF-1032\" \"BF-1044\" \"BF-1045\" \"BF-1051\" ...\n",
      " $ GUID                          : chr  \"PDJZ532TZK\" \"PDKG534VMG\" \"PDEZ044TE4\" \"PDYA912JPR\" ...\n",
      " $ visit_month                   : int  0 0 0 0 0 0 0 0 0 0 ...\n",
      " $ sample_id                     : chr  \"BF-1032-SVM0_5T1\" \"BF-1044-SVM0_5T1\" \"BF-1045-SVM0_5T1\" \"BF-1051-SVM0_5T1\" ...\n",
      " $ PCT_USABLE_BASES              : num  0.179 0.544 0.401 0.428 0.217 ...\n",
      " $ Plate                         : chr  \"P341\" \"P342\" \"P342\" \"P341\" ...\n",
      " $ STRAND_BALANCE                : num  0.786 0.519 0.633 0.553 0.762 ...\n",
      " $ diagnosis_at_baseline         : chr  \"Idiopathic PD\" \"Idiopathic PD\" \"Idiopathic PD\" \"Idiopathic PD\" ...\n",
      " $ diagnosis_latest              : chr  \"Idiopathic PD\" \"Idiopathic PD\" \"Idiopathic PD\" \"Idiopathic PD\" ...\n",
      " $ case_control_other_at_baseline: chr  \"Case\" \"Case\" \"Case\" \"Case\" ...\n",
      " $ case_control_other_latest     : chr  \"Case\" \"Case\" \"Case\" \"Case\" ...\n",
      " $ age_at_baseline               : num  70 77 72 65 65 79 71 79 68 71 ...\n",
      " $ age_at_diagnosis              : num  63 67 72 59 59 73 66 69 59 56 ...\n",
      " $ disease_duration              : num  7 10 0 6 6 6 5 10 9 15 ...\n",
      " $ sex                           : chr  \"Male\" \"Male\" \"Male\" \"Male\" ...\n",
      " $ ethnicity                     : chr  \"Not Hispanic or Latino\" \"Not Hispanic or Latino\" \"Not Hispanic or Latino\" \"Not Hispanic or Latino\" ...\n",
      " $ race                          : chr  \"White\" \"White\" \"White\" \"White\" ...\n",
      " $ education_level_years         : chr  \"Greater than 16 years\" \"Greater than 16 years\" \"Greater than 16 years\" \"Greater than 16 years\" ...\n",
      " $ moca_total_score              : num  18 26 26 27 27 27 28 28 27 28 ...\n",
      " $ Cognition_phenotype           : chr  \"PDD\" \"PDnoCI\" \"PDnoCI\" \"PDnoCI\" ...\n",
      " $ age_baseline_range            : chr  \"above_65\" \"above_65\" \"above_65\" \"55_to_65\" ...\n",
      " $ ageBin                        : Factor w/ 3 levels \"under_55\",\"55_to_65\",..: 3 3 3 3 3 3 3 3 3 3 ...\n"
     ]
    }
   ],
   "source": [
    "str(sample_meta_male_over_65.sub)"
   ]
  },
  {
   "cell_type": "code",
   "execution_count": 67,
   "metadata": {
    "scrolled": true
   },
   "outputs": [
    {
     "data": {
      "text/plain": [
       "        \n",
       "         Male\n",
       "  PDD      29\n",
       "  PDnoCI  168"
      ]
     },
     "metadata": {},
     "output_type": "display_data"
    },
    {
     "data": {
      "text/plain": [
       "        \n",
       "         under_55 55_to_65 over_65\n",
       "  PDD           0        0      29\n",
       "  PDnoCI        0        0     168"
      ]
     },
     "metadata": {},
     "output_type": "display_data"
    }
   ],
   "source": [
    "#Here is a summary of the samples we will use for this comparison\n",
    "table(sample_meta_male_over_65.sub$Cognition_phenotype, sample_meta_male_over_65.sub$sex)\n",
    "table(sample_meta_male_over_65.sub$Cognition_phenotype, sample_meta_male_over_65.sub$ageBin)"
   ]
  },
  {
   "cell_type": "code",
   "execution_count": 68,
   "metadata": {},
   "outputs": [
    {
     "data": {
      "text/html": [
       "74.2413793103448"
      ],
      "text/latex": [
       "74.2413793103448"
      ],
      "text/markdown": [
       "74.2413793103448"
      ],
      "text/plain": [
       "[1] 74.24138"
      ]
     },
     "metadata": {},
     "output_type": "display_data"
    },
    {
     "data": {
      "text/html": [
       "6.19709132470222"
      ],
      "text/latex": [
       "6.19709132470222"
      ],
      "text/markdown": [
       "6.19709132470222"
      ],
      "text/plain": [
       "[1] 6.197091"
      ]
     },
     "metadata": {},
     "output_type": "display_data"
    },
    {
     "data": {
      "text/html": [
       "70.2976190476191"
      ],
      "text/latex": [
       "70.2976190476191"
      ],
      "text/markdown": [
       "70.2976190476191"
      ],
      "text/plain": [
       "[1] 70.29762"
      ]
     },
     "metadata": {},
     "output_type": "display_data"
    },
    {
     "data": {
      "text/html": [
       "4.44063911326352"
      ],
      "text/latex": [
       "4.44063911326352"
      ],
      "text/markdown": [
       "4.44063911326352"
      ],
      "text/plain": [
       "[1] 4.440639"
      ]
     },
     "metadata": {},
     "output_type": "display_data"
    }
   ],
   "source": [
    "library(dplyr)\n",
    "sample_meta_male_over_65.sub %>% filter(Cognition_phenotype == \"PDD\") %>% pull(age_at_baseline) %>% mean()\n",
    "sample_meta_male_over_65.sub %>% filter(Cognition_phenotype == \"PDD\") %>% pull(age_at_baseline) %>% sd()\n",
    "sample_meta_male_over_65.sub %>% filter(Cognition_phenotype == \"PDnoCI\") %>% pull(age_at_baseline) %>% mean()\n",
    "sample_meta_male_over_65.sub %>% filter(Cognition_phenotype == \"PDnoCI\") %>% pull(age_at_baseline) %>% sd()"
   ]
  },
  {
   "cell_type": "code",
   "execution_count": 69,
   "metadata": {},
   "outputs": [
    {
     "data": {
      "text/html": [
       "<style>\n",
       ".list-inline {list-style: none; margin:0; padding: 0}\n",
       ".list-inline>li {display: inline-block}\n",
       ".list-inline>li:not(:last-child)::after {content: \"\\00b7\"; padding: 0 .5ex}\n",
       "</style>\n",
       "<ol class=list-inline><li>58721</li><li>197</li></ol>\n"
      ],
      "text/latex": [
       "\\begin{enumerate*}\n",
       "\\item 58721\n",
       "\\item 197\n",
       "\\end{enumerate*}\n"
      ],
      "text/markdown": [
       "1. 58721\n",
       "2. 197\n",
       "\n",
       "\n"
      ],
      "text/plain": [
       "[1] 58721   197"
      ]
     },
     "metadata": {},
     "output_type": "display_data"
    }
   ],
   "source": [
    "#order count table and metadata table to match\n",
    "countsSub <- countTable[,names(countTable) %in% sort(sample_meta_male_over_65.sub$sample_id)]\n",
    "dim(countsSub)"
   ]
  },
  {
   "cell_type": "code",
   "execution_count": 70,
   "metadata": {},
   "outputs": [],
   "source": [
    "i <- match(sample_meta_male_over_65.sub$sample_id, names(countsSub), nomatch = 0)\n",
    "countsSub <- countsSub[,i]"
   ]
  },
  {
   "cell_type": "code",
   "execution_count": 71,
   "metadata": {
    "scrolled": true
   },
   "outputs": [
    {
     "data": {
      "text/html": [
       "TRUE"
      ],
      "text/latex": [
       "TRUE"
      ],
      "text/markdown": [
       "TRUE"
      ],
      "text/plain": [
       "[1] TRUE"
      ]
     },
     "metadata": {},
     "output_type": "display_data"
    }
   ],
   "source": [
    "identical(names(countsSub), sample_meta_male_over_65.sub$sample_id) #double checking"
   ]
  },
  {
   "cell_type": "markdown",
   "metadata": {},
   "source": [
    "Differential Expression testing with limma"
   ]
  },
  {
   "cell_type": "code",
   "execution_count": 72,
   "metadata": {},
   "outputs": [],
   "source": [
    "## sample design\n",
    "case <- factor(gsub(\"\\\\+\", \"\", sample_meta_male_over_65.sub$Cognition_phenotype), levels = c(\"PDD\", \"PDnoCI\"))\n",
    "age <- factor(sample_meta_male_over_65.sub$ageBin, levels = c(\"under_55\", \"55_to_65\", \"over_65\"))\n",
    "sex <- factor(sample_meta_male_over_65.sub$sex,\n",
    "              levels = c(\"Male\", \"Female\"))\n",
    "plate <- factor(sample_meta_male_over_65.sub$Plate)\n",
    "usableBases <- sample_meta_male_over_65.sub$PCT_USABLE_BASES\n",
    "strandBalance <- sample_meta_male_over_65.sub$STRAND_BALANCE"
   ]
  },
  {
   "cell_type": "code",
   "execution_count": 119,
   "metadata": {},
   "outputs": [],
   "source": [
    "design <- model.matrix(~ 0 + case + plate  + usableBases + strandBalance)"
   ]
  },
  {
   "cell_type": "code",
   "execution_count": 120,
   "metadata": {},
   "outputs": [
    {
     "data": {
      "text/html": [
       "<table class=\"dataframe\">\n",
       "<caption>A matrix: 197 × 67 of type dbl</caption>\n",
       "<thead>\n",
       "\t<tr><th></th><th scope=col>casePDD</th><th scope=col>casePDnoCI</th><th scope=col>plateP202</th><th scope=col>plateP203</th><th scope=col>plateP205</th><th scope=col>plateP206</th><th scope=col>plateP207</th><th scope=col>plateP208</th><th scope=col>plateP209</th><th scope=col>plateP210</th><th scope=col>⋯</th><th scope=col>plateP336</th><th scope=col>plateP337</th><th scope=col>plateP338</th><th scope=col>plateP339</th><th scope=col>plateP340</th><th scope=col>plateP341</th><th scope=col>plateP342</th><th scope=col>plateP343</th><th scope=col>usableBases</th><th scope=col>strandBalance</th></tr>\n",
       "</thead>\n",
       "<tbody>\n",
       "\t<tr><th scope=row>1</th><td>1</td><td>0</td><td>0</td><td>0</td><td>0</td><td>0</td><td>0</td><td>0</td><td>0</td><td>0</td><td>⋯</td><td>0</td><td>0</td><td>0</td><td>0</td><td>0</td><td>1</td><td>0</td><td>0</td><td>0.178567</td><td>0.785834</td></tr>\n",
       "\t<tr><th scope=row>2</th><td>0</td><td>1</td><td>0</td><td>0</td><td>0</td><td>0</td><td>0</td><td>0</td><td>0</td><td>0</td><td>⋯</td><td>0</td><td>0</td><td>0</td><td>0</td><td>0</td><td>0</td><td>1</td><td>0</td><td>0.543721</td><td>0.518666</td></tr>\n",
       "\t<tr><th scope=row>3</th><td>0</td><td>1</td><td>0</td><td>0</td><td>0</td><td>0</td><td>0</td><td>0</td><td>0</td><td>0</td><td>⋯</td><td>0</td><td>0</td><td>0</td><td>0</td><td>0</td><td>0</td><td>1</td><td>0</td><td>0.400889</td><td>0.632508</td></tr>\n",
       "\t<tr><th scope=row>4</th><td>0</td><td>1</td><td>0</td><td>0</td><td>0</td><td>0</td><td>0</td><td>0</td><td>0</td><td>0</td><td>⋯</td><td>0</td><td>0</td><td>0</td><td>0</td><td>0</td><td>1</td><td>0</td><td>0</td><td>0.428424</td><td>0.552939</td></tr>\n",
       "\t<tr><th scope=row>5</th><td>0</td><td>1</td><td>0</td><td>0</td><td>0</td><td>0</td><td>0</td><td>0</td><td>0</td><td>0</td><td>⋯</td><td>0</td><td>0</td><td>0</td><td>0</td><td>0</td><td>1</td><td>0</td><td>0</td><td>0.217465</td><td>0.761710</td></tr>\n",
       "\t<tr><th scope=row>6</th><td>0</td><td>1</td><td>0</td><td>0</td><td>0</td><td>0</td><td>0</td><td>0</td><td>0</td><td>0</td><td>⋯</td><td>0</td><td>0</td><td>0</td><td>0</td><td>0</td><td>1</td><td>0</td><td>0</td><td>0.204843</td><td>0.805482</td></tr>\n",
       "\t<tr><th scope=row>7</th><td>0</td><td>1</td><td>0</td><td>0</td><td>0</td><td>0</td><td>0</td><td>0</td><td>0</td><td>0</td><td>⋯</td><td>0</td><td>0</td><td>0</td><td>0</td><td>0</td><td>0</td><td>1</td><td>0</td><td>0.303373</td><td>0.591517</td></tr>\n",
       "\t<tr><th scope=row>8</th><td>0</td><td>1</td><td>0</td><td>0</td><td>0</td><td>0</td><td>0</td><td>0</td><td>0</td><td>0</td><td>⋯</td><td>0</td><td>0</td><td>0</td><td>0</td><td>0</td><td>0</td><td>1</td><td>0</td><td>0.267975</td><td>0.702552</td></tr>\n",
       "\t<tr><th scope=row>9</th><td>0</td><td>1</td><td>0</td><td>0</td><td>0</td><td>0</td><td>0</td><td>0</td><td>0</td><td>0</td><td>⋯</td><td>0</td><td>0</td><td>0</td><td>0</td><td>0</td><td>0</td><td>1</td><td>0</td><td>0.297992</td><td>0.594147</td></tr>\n",
       "\t<tr><th scope=row>10</th><td>0</td><td>1</td><td>0</td><td>0</td><td>0</td><td>0</td><td>0</td><td>0</td><td>0</td><td>0</td><td>⋯</td><td>0</td><td>0</td><td>0</td><td>0</td><td>0</td><td>0</td><td>1</td><td>0</td><td>0.346323</td><td>0.679662</td></tr>\n",
       "\t<tr><th scope=row>11</th><td>0</td><td>1</td><td>0</td><td>0</td><td>0</td><td>0</td><td>0</td><td>0</td><td>0</td><td>0</td><td>⋯</td><td>0</td><td>0</td><td>0</td><td>0</td><td>0</td><td>1</td><td>0</td><td>0</td><td>0.342366</td><td>0.630592</td></tr>\n",
       "\t<tr><th scope=row>12</th><td>0</td><td>1</td><td>0</td><td>0</td><td>0</td><td>0</td><td>0</td><td>0</td><td>0</td><td>0</td><td>⋯</td><td>0</td><td>0</td><td>0</td><td>0</td><td>0</td><td>0</td><td>1</td><td>0</td><td>0.412993</td><td>0.581839</td></tr>\n",
       "\t<tr><th scope=row>13</th><td>0</td><td>1</td><td>0</td><td>0</td><td>0</td><td>0</td><td>0</td><td>0</td><td>0</td><td>0</td><td>⋯</td><td>0</td><td>0</td><td>0</td><td>0</td><td>0</td><td>0</td><td>0</td><td>1</td><td>0.243849</td><td>0.740451</td></tr>\n",
       "\t<tr><th scope=row>14</th><td>0</td><td>1</td><td>0</td><td>0</td><td>0</td><td>0</td><td>0</td><td>0</td><td>0</td><td>0</td><td>⋯</td><td>0</td><td>0</td><td>0</td><td>0</td><td>0</td><td>0</td><td>1</td><td>0</td><td>0.307194</td><td>0.595753</td></tr>\n",
       "\t<tr><th scope=row>15</th><td>0</td><td>1</td><td>0</td><td>0</td><td>0</td><td>0</td><td>0</td><td>0</td><td>0</td><td>0</td><td>⋯</td><td>0</td><td>0</td><td>0</td><td>0</td><td>0</td><td>0</td><td>1</td><td>0</td><td>0.302694</td><td>0.681069</td></tr>\n",
       "\t<tr><th scope=row>16</th><td>0</td><td>1</td><td>0</td><td>0</td><td>0</td><td>0</td><td>0</td><td>0</td><td>0</td><td>0</td><td>⋯</td><td>0</td><td>0</td><td>0</td><td>0</td><td>0</td><td>0</td><td>1</td><td>0</td><td>0.355065</td><td>0.540170</td></tr>\n",
       "\t<tr><th scope=row>17</th><td>0</td><td>1</td><td>0</td><td>0</td><td>0</td><td>0</td><td>0</td><td>0</td><td>0</td><td>0</td><td>⋯</td><td>0</td><td>0</td><td>0</td><td>0</td><td>0</td><td>1</td><td>0</td><td>0</td><td>0.385131</td><td>0.512446</td></tr>\n",
       "\t<tr><th scope=row>18</th><td>0</td><td>1</td><td>0</td><td>0</td><td>0</td><td>0</td><td>0</td><td>0</td><td>0</td><td>0</td><td>⋯</td><td>0</td><td>0</td><td>0</td><td>0</td><td>0</td><td>1</td><td>0</td><td>0</td><td>0.198934</td><td>0.816509</td></tr>\n",
       "\t<tr><th scope=row>19</th><td>0</td><td>1</td><td>0</td><td>0</td><td>0</td><td>0</td><td>0</td><td>0</td><td>0</td><td>0</td><td>⋯</td><td>0</td><td>0</td><td>0</td><td>0</td><td>0</td><td>1</td><td>0</td><td>0</td><td>0.360555</td><td>0.652022</td></tr>\n",
       "\t<tr><th scope=row>20</th><td>0</td><td>1</td><td>0</td><td>0</td><td>0</td><td>0</td><td>0</td><td>0</td><td>0</td><td>0</td><td>⋯</td><td>0</td><td>0</td><td>0</td><td>0</td><td>0</td><td>1</td><td>0</td><td>0</td><td>0.205793</td><td>0.780496</td></tr>\n",
       "\t<tr><th scope=row>21</th><td>0</td><td>1</td><td>0</td><td>0</td><td>0</td><td>0</td><td>0</td><td>0</td><td>0</td><td>0</td><td>⋯</td><td>0</td><td>0</td><td>0</td><td>0</td><td>0</td><td>0</td><td>1</td><td>0</td><td>0.287526</td><td>0.673995</td></tr>\n",
       "\t<tr><th scope=row>22</th><td>0</td><td>1</td><td>0</td><td>0</td><td>0</td><td>0</td><td>0</td><td>0</td><td>0</td><td>0</td><td>⋯</td><td>0</td><td>0</td><td>0</td><td>0</td><td>0</td><td>0</td><td>1</td><td>0</td><td>0.394993</td><td>0.543050</td></tr>\n",
       "\t<tr><th scope=row>23</th><td>0</td><td>1</td><td>0</td><td>0</td><td>0</td><td>0</td><td>0</td><td>0</td><td>0</td><td>0</td><td>⋯</td><td>0</td><td>0</td><td>0</td><td>0</td><td>0</td><td>0</td><td>0</td><td>1</td><td>0.260631</td><td>0.677435</td></tr>\n",
       "\t<tr><th scope=row>24</th><td>0</td><td>1</td><td>0</td><td>0</td><td>0</td><td>0</td><td>0</td><td>0</td><td>0</td><td>0</td><td>⋯</td><td>0</td><td>0</td><td>0</td><td>0</td><td>0</td><td>1</td><td>0</td><td>0</td><td>0.302043</td><td>0.677706</td></tr>\n",
       "\t<tr><th scope=row>25</th><td>0</td><td>1</td><td>0</td><td>0</td><td>0</td><td>0</td><td>0</td><td>0</td><td>0</td><td>0</td><td>⋯</td><td>0</td><td>0</td><td>0</td><td>0</td><td>0</td><td>1</td><td>0</td><td>0</td><td>0.263316</td><td>0.725312</td></tr>\n",
       "\t<tr><th scope=row>26</th><td>1</td><td>0</td><td>0</td><td>0</td><td>0</td><td>0</td><td>0</td><td>0</td><td>0</td><td>0</td><td>⋯</td><td>0</td><td>0</td><td>0</td><td>0</td><td>0</td><td>1</td><td>0</td><td>0</td><td>0.152539</td><td>0.861824</td></tr>\n",
       "\t<tr><th scope=row>27</th><td>0</td><td>1</td><td>0</td><td>0</td><td>0</td><td>0</td><td>0</td><td>0</td><td>0</td><td>0</td><td>⋯</td><td>0</td><td>0</td><td>0</td><td>0</td><td>0</td><td>1</td><td>0</td><td>0</td><td>0.303068</td><td>0.643768</td></tr>\n",
       "\t<tr><th scope=row>28</th><td>0</td><td>1</td><td>0</td><td>0</td><td>0</td><td>0</td><td>0</td><td>0</td><td>0</td><td>0</td><td>⋯</td><td>0</td><td>0</td><td>0</td><td>0</td><td>0</td><td>0</td><td>1</td><td>0</td><td>0.266801</td><td>0.755565</td></tr>\n",
       "\t<tr><th scope=row>29</th><td>0</td><td>1</td><td>0</td><td>0</td><td>0</td><td>0</td><td>0</td><td>0</td><td>0</td><td>0</td><td>⋯</td><td>0</td><td>0</td><td>0</td><td>0</td><td>0</td><td>0</td><td>0</td><td>1</td><td>0.412228</td><td>0.611796</td></tr>\n",
       "\t<tr><th scope=row>30</th><td>0</td><td>1</td><td>0</td><td>0</td><td>0</td><td>0</td><td>0</td><td>0</td><td>0</td><td>0</td><td>⋯</td><td>0</td><td>0</td><td>0</td><td>0</td><td>0</td><td>0</td><td>1</td><td>0</td><td>0.339546</td><td>0.649403</td></tr>\n",
       "\t<tr><th scope=row>⋮</th><td>⋮</td><td>⋮</td><td>⋮</td><td>⋮</td><td>⋮</td><td>⋮</td><td>⋮</td><td>⋮</td><td>⋮</td><td>⋮</td><td>⋱</td><td>⋮</td><td>⋮</td><td>⋮</td><td>⋮</td><td>⋮</td><td>⋮</td><td>⋮</td><td>⋮</td><td>⋮</td><td>⋮</td></tr>\n",
       "\t<tr><th scope=row>168</th><td>0</td><td>1</td><td>0</td><td>0</td><td>0</td><td>0</td><td>0</td><td>0</td><td>0</td><td>0</td><td>⋯</td><td>0</td><td>0</td><td>0</td><td>0</td><td>0</td><td>0</td><td>0</td><td>0</td><td>0.400722</td><td>0.498908</td></tr>\n",
       "\t<tr><th scope=row>169</th><td>0</td><td>1</td><td>0</td><td>0</td><td>0</td><td>0</td><td>0</td><td>0</td><td>0</td><td>0</td><td>⋯</td><td>0</td><td>0</td><td>0</td><td>0</td><td>0</td><td>0</td><td>0</td><td>0</td><td>0.365867</td><td>0.528138</td></tr>\n",
       "\t<tr><th scope=row>170</th><td>1</td><td>0</td><td>0</td><td>0</td><td>0</td><td>0</td><td>0</td><td>0</td><td>0</td><td>0</td><td>⋯</td><td>0</td><td>0</td><td>0</td><td>0</td><td>0</td><td>0</td><td>0</td><td>0</td><td>0.397660</td><td>0.500939</td></tr>\n",
       "\t<tr><th scope=row>171</th><td>1</td><td>0</td><td>0</td><td>0</td><td>0</td><td>0</td><td>0</td><td>0</td><td>0</td><td>0</td><td>⋯</td><td>0</td><td>0</td><td>0</td><td>0</td><td>0</td><td>0</td><td>0</td><td>0</td><td>0.056840</td><td>0.504118</td></tr>\n",
       "\t<tr><th scope=row>172</th><td>0</td><td>1</td><td>0</td><td>0</td><td>1</td><td>0</td><td>0</td><td>0</td><td>0</td><td>0</td><td>⋯</td><td>0</td><td>0</td><td>0</td><td>0</td><td>0</td><td>0</td><td>0</td><td>0</td><td>0.354135</td><td>0.505030</td></tr>\n",
       "\t<tr><th scope=row>173</th><td>0</td><td>1</td><td>0</td><td>0</td><td>0</td><td>1</td><td>0</td><td>0</td><td>0</td><td>0</td><td>⋯</td><td>0</td><td>0</td><td>0</td><td>0</td><td>0</td><td>0</td><td>0</td><td>0</td><td>0.343237</td><td>0.503639</td></tr>\n",
       "\t<tr><th scope=row>174</th><td>0</td><td>1</td><td>0</td><td>0</td><td>0</td><td>0</td><td>0</td><td>0</td><td>0</td><td>0</td><td>⋯</td><td>0</td><td>0</td><td>0</td><td>0</td><td>0</td><td>0</td><td>0</td><td>0</td><td>0.405564</td><td>0.499254</td></tr>\n",
       "\t<tr><th scope=row>175</th><td>1</td><td>0</td><td>0</td><td>0</td><td>0</td><td>0</td><td>1</td><td>0</td><td>0</td><td>0</td><td>⋯</td><td>0</td><td>0</td><td>0</td><td>0</td><td>0</td><td>0</td><td>0</td><td>0</td><td>0.377874</td><td>0.501182</td></tr>\n",
       "\t<tr><th scope=row>176</th><td>1</td><td>0</td><td>0</td><td>0</td><td>0</td><td>0</td><td>0</td><td>0</td><td>0</td><td>0</td><td>⋯</td><td>0</td><td>0</td><td>0</td><td>0</td><td>0</td><td>0</td><td>0</td><td>0</td><td>0.475859</td><td>0.518219</td></tr>\n",
       "\t<tr><th scope=row>177</th><td>1</td><td>0</td><td>0</td><td>0</td><td>0</td><td>0</td><td>0</td><td>0</td><td>0</td><td>0</td><td>⋯</td><td>0</td><td>0</td><td>0</td><td>0</td><td>0</td><td>0</td><td>0</td><td>0</td><td>0.407849</td><td>0.503934</td></tr>\n",
       "\t<tr><th scope=row>178</th><td>1</td><td>0</td><td>0</td><td>0</td><td>0</td><td>0</td><td>0</td><td>1</td><td>0</td><td>0</td><td>⋯</td><td>0</td><td>0</td><td>0</td><td>0</td><td>0</td><td>0</td><td>0</td><td>0</td><td>0.352343</td><td>0.435932</td></tr>\n",
       "\t<tr><th scope=row>179</th><td>1</td><td>0</td><td>0</td><td>0</td><td>0</td><td>0</td><td>0</td><td>0</td><td>0</td><td>0</td><td>⋯</td><td>0</td><td>0</td><td>0</td><td>0</td><td>0</td><td>0</td><td>0</td><td>0</td><td>0.409191</td><td>0.514778</td></tr>\n",
       "\t<tr><th scope=row>180</th><td>1</td><td>0</td><td>0</td><td>0</td><td>0</td><td>0</td><td>0</td><td>0</td><td>0</td><td>0</td><td>⋯</td><td>0</td><td>0</td><td>0</td><td>0</td><td>0</td><td>0</td><td>0</td><td>0</td><td>0.383486</td><td>0.515609</td></tr>\n",
       "\t<tr><th scope=row>181</th><td>0</td><td>1</td><td>0</td><td>0</td><td>0</td><td>0</td><td>0</td><td>0</td><td>0</td><td>0</td><td>⋯</td><td>0</td><td>0</td><td>0</td><td>0</td><td>0</td><td>0</td><td>0</td><td>0</td><td>0.426318</td><td>0.500869</td></tr>\n",
       "\t<tr><th scope=row>182</th><td>0</td><td>1</td><td>0</td><td>0</td><td>0</td><td>0</td><td>0</td><td>0</td><td>0</td><td>0</td><td>⋯</td><td>0</td><td>0</td><td>0</td><td>0</td><td>0</td><td>0</td><td>0</td><td>0</td><td>0.433133</td><td>0.515745</td></tr>\n",
       "\t<tr><th scope=row>183</th><td>1</td><td>0</td><td>0</td><td>0</td><td>0</td><td>0</td><td>0</td><td>0</td><td>0</td><td>0</td><td>⋯</td><td>0</td><td>0</td><td>0</td><td>0</td><td>0</td><td>0</td><td>0</td><td>0</td><td>0.052557</td><td>0.504500</td></tr>\n",
       "\t<tr><th scope=row>184</th><td>0</td><td>1</td><td>0</td><td>0</td><td>0</td><td>0</td><td>0</td><td>0</td><td>0</td><td>0</td><td>⋯</td><td>0</td><td>0</td><td>0</td><td>0</td><td>0</td><td>0</td><td>0</td><td>0</td><td>0.399135</td><td>0.579958</td></tr>\n",
       "\t<tr><th scope=row>185</th><td>0</td><td>1</td><td>0</td><td>0</td><td>0</td><td>0</td><td>0</td><td>0</td><td>0</td><td>0</td><td>⋯</td><td>0</td><td>0</td><td>0</td><td>0</td><td>0</td><td>0</td><td>0</td><td>0</td><td>0.434282</td><td>0.529707</td></tr>\n",
       "\t<tr><th scope=row>186</th><td>0</td><td>1</td><td>1</td><td>0</td><td>0</td><td>0</td><td>0</td><td>0</td><td>0</td><td>0</td><td>⋯</td><td>0</td><td>0</td><td>0</td><td>0</td><td>0</td><td>0</td><td>0</td><td>0</td><td>0.422775</td><td>0.522518</td></tr>\n",
       "\t<tr><th scope=row>187</th><td>0</td><td>1</td><td>0</td><td>0</td><td>1</td><td>0</td><td>0</td><td>0</td><td>0</td><td>0</td><td>⋯</td><td>0</td><td>0</td><td>0</td><td>0</td><td>0</td><td>0</td><td>0</td><td>0</td><td>0.461398</td><td>0.547009</td></tr>\n",
       "\t<tr><th scope=row>188</th><td>0</td><td>1</td><td>0</td><td>0</td><td>0</td><td>0</td><td>0</td><td>1</td><td>0</td><td>0</td><td>⋯</td><td>0</td><td>0</td><td>0</td><td>0</td><td>0</td><td>0</td><td>0</td><td>0</td><td>0.418583</td><td>0.510585</td></tr>\n",
       "\t<tr><th scope=row>189</th><td>0</td><td>1</td><td>1</td><td>0</td><td>0</td><td>0</td><td>0</td><td>0</td><td>0</td><td>0</td><td>⋯</td><td>0</td><td>0</td><td>0</td><td>0</td><td>0</td><td>0</td><td>0</td><td>0</td><td>0.361013</td><td>0.528220</td></tr>\n",
       "\t<tr><th scope=row>190</th><td>0</td><td>1</td><td>0</td><td>0</td><td>0</td><td>0</td><td>0</td><td>0</td><td>0</td><td>1</td><td>⋯</td><td>0</td><td>0</td><td>0</td><td>0</td><td>0</td><td>0</td><td>0</td><td>0</td><td>0.440282</td><td>0.510534</td></tr>\n",
       "\t<tr><th scope=row>191</th><td>0</td><td>1</td><td>0</td><td>0</td><td>1</td><td>0</td><td>0</td><td>0</td><td>0</td><td>0</td><td>⋯</td><td>0</td><td>0</td><td>0</td><td>0</td><td>0</td><td>0</td><td>0</td><td>0</td><td>0.323215</td><td>0.592851</td></tr>\n",
       "\t<tr><th scope=row>192</th><td>0</td><td>1</td><td>0</td><td>0</td><td>0</td><td>0</td><td>0</td><td>0</td><td>0</td><td>0</td><td>⋯</td><td>0</td><td>0</td><td>0</td><td>0</td><td>0</td><td>0</td><td>0</td><td>0</td><td>0.479268</td><td>0.491279</td></tr>\n",
       "\t<tr><th scope=row>193</th><td>0</td><td>1</td><td>0</td><td>0</td><td>0</td><td>0</td><td>0</td><td>0</td><td>0</td><td>0</td><td>⋯</td><td>0</td><td>0</td><td>0</td><td>0</td><td>0</td><td>0</td><td>0</td><td>0</td><td>0.386551</td><td>0.491713</td></tr>\n",
       "\t<tr><th scope=row>194</th><td>0</td><td>1</td><td>0</td><td>0</td><td>0</td><td>1</td><td>0</td><td>0</td><td>0</td><td>0</td><td>⋯</td><td>0</td><td>0</td><td>0</td><td>0</td><td>0</td><td>0</td><td>0</td><td>0</td><td>0.344222</td><td>0.619877</td></tr>\n",
       "\t<tr><th scope=row>195</th><td>0</td><td>1</td><td>0</td><td>0</td><td>0</td><td>1</td><td>0</td><td>0</td><td>0</td><td>0</td><td>⋯</td><td>0</td><td>0</td><td>0</td><td>0</td><td>0</td><td>0</td><td>0</td><td>0</td><td>0.435225</td><td>0.531768</td></tr>\n",
       "\t<tr><th scope=row>196</th><td>0</td><td>1</td><td>0</td><td>0</td><td>0</td><td>0</td><td>1</td><td>0</td><td>0</td><td>0</td><td>⋯</td><td>0</td><td>0</td><td>0</td><td>0</td><td>0</td><td>0</td><td>0</td><td>0</td><td>0.316176</td><td>0.569770</td></tr>\n",
       "\t<tr><th scope=row>197</th><td>0</td><td>1</td><td>0</td><td>0</td><td>0</td><td>0</td><td>0</td><td>0</td><td>1</td><td>0</td><td>⋯</td><td>0</td><td>0</td><td>0</td><td>0</td><td>0</td><td>0</td><td>0</td><td>0</td><td>0.365276</td><td>0.661018</td></tr>\n",
       "</tbody>\n",
       "</table>\n"
      ],
      "text/latex": [
       "A matrix: 197 × 67 of type dbl\n",
       "\\begin{tabular}{r|lllllllllllllllllllll}\n",
       "  & casePDD & casePDnoCI & plateP202 & plateP203 & plateP205 & plateP206 & plateP207 & plateP208 & plateP209 & plateP210 & ⋯ & plateP336 & plateP337 & plateP338 & plateP339 & plateP340 & plateP341 & plateP342 & plateP343 & usableBases & strandBalance\\\\\n",
       "\\hline\n",
       "\t1 & 1 & 0 & 0 & 0 & 0 & 0 & 0 & 0 & 0 & 0 & ⋯ & 0 & 0 & 0 & 0 & 0 & 1 & 0 & 0 & 0.178567 & 0.785834\\\\\n",
       "\t2 & 0 & 1 & 0 & 0 & 0 & 0 & 0 & 0 & 0 & 0 & ⋯ & 0 & 0 & 0 & 0 & 0 & 0 & 1 & 0 & 0.543721 & 0.518666\\\\\n",
       "\t3 & 0 & 1 & 0 & 0 & 0 & 0 & 0 & 0 & 0 & 0 & ⋯ & 0 & 0 & 0 & 0 & 0 & 0 & 1 & 0 & 0.400889 & 0.632508\\\\\n",
       "\t4 & 0 & 1 & 0 & 0 & 0 & 0 & 0 & 0 & 0 & 0 & ⋯ & 0 & 0 & 0 & 0 & 0 & 1 & 0 & 0 & 0.428424 & 0.552939\\\\\n",
       "\t5 & 0 & 1 & 0 & 0 & 0 & 0 & 0 & 0 & 0 & 0 & ⋯ & 0 & 0 & 0 & 0 & 0 & 1 & 0 & 0 & 0.217465 & 0.761710\\\\\n",
       "\t6 & 0 & 1 & 0 & 0 & 0 & 0 & 0 & 0 & 0 & 0 & ⋯ & 0 & 0 & 0 & 0 & 0 & 1 & 0 & 0 & 0.204843 & 0.805482\\\\\n",
       "\t7 & 0 & 1 & 0 & 0 & 0 & 0 & 0 & 0 & 0 & 0 & ⋯ & 0 & 0 & 0 & 0 & 0 & 0 & 1 & 0 & 0.303373 & 0.591517\\\\\n",
       "\t8 & 0 & 1 & 0 & 0 & 0 & 0 & 0 & 0 & 0 & 0 & ⋯ & 0 & 0 & 0 & 0 & 0 & 0 & 1 & 0 & 0.267975 & 0.702552\\\\\n",
       "\t9 & 0 & 1 & 0 & 0 & 0 & 0 & 0 & 0 & 0 & 0 & ⋯ & 0 & 0 & 0 & 0 & 0 & 0 & 1 & 0 & 0.297992 & 0.594147\\\\\n",
       "\t10 & 0 & 1 & 0 & 0 & 0 & 0 & 0 & 0 & 0 & 0 & ⋯ & 0 & 0 & 0 & 0 & 0 & 0 & 1 & 0 & 0.346323 & 0.679662\\\\\n",
       "\t11 & 0 & 1 & 0 & 0 & 0 & 0 & 0 & 0 & 0 & 0 & ⋯ & 0 & 0 & 0 & 0 & 0 & 1 & 0 & 0 & 0.342366 & 0.630592\\\\\n",
       "\t12 & 0 & 1 & 0 & 0 & 0 & 0 & 0 & 0 & 0 & 0 & ⋯ & 0 & 0 & 0 & 0 & 0 & 0 & 1 & 0 & 0.412993 & 0.581839\\\\\n",
       "\t13 & 0 & 1 & 0 & 0 & 0 & 0 & 0 & 0 & 0 & 0 & ⋯ & 0 & 0 & 0 & 0 & 0 & 0 & 0 & 1 & 0.243849 & 0.740451\\\\\n",
       "\t14 & 0 & 1 & 0 & 0 & 0 & 0 & 0 & 0 & 0 & 0 & ⋯ & 0 & 0 & 0 & 0 & 0 & 0 & 1 & 0 & 0.307194 & 0.595753\\\\\n",
       "\t15 & 0 & 1 & 0 & 0 & 0 & 0 & 0 & 0 & 0 & 0 & ⋯ & 0 & 0 & 0 & 0 & 0 & 0 & 1 & 0 & 0.302694 & 0.681069\\\\\n",
       "\t16 & 0 & 1 & 0 & 0 & 0 & 0 & 0 & 0 & 0 & 0 & ⋯ & 0 & 0 & 0 & 0 & 0 & 0 & 1 & 0 & 0.355065 & 0.540170\\\\\n",
       "\t17 & 0 & 1 & 0 & 0 & 0 & 0 & 0 & 0 & 0 & 0 & ⋯ & 0 & 0 & 0 & 0 & 0 & 1 & 0 & 0 & 0.385131 & 0.512446\\\\\n",
       "\t18 & 0 & 1 & 0 & 0 & 0 & 0 & 0 & 0 & 0 & 0 & ⋯ & 0 & 0 & 0 & 0 & 0 & 1 & 0 & 0 & 0.198934 & 0.816509\\\\\n",
       "\t19 & 0 & 1 & 0 & 0 & 0 & 0 & 0 & 0 & 0 & 0 & ⋯ & 0 & 0 & 0 & 0 & 0 & 1 & 0 & 0 & 0.360555 & 0.652022\\\\\n",
       "\t20 & 0 & 1 & 0 & 0 & 0 & 0 & 0 & 0 & 0 & 0 & ⋯ & 0 & 0 & 0 & 0 & 0 & 1 & 0 & 0 & 0.205793 & 0.780496\\\\\n",
       "\t21 & 0 & 1 & 0 & 0 & 0 & 0 & 0 & 0 & 0 & 0 & ⋯ & 0 & 0 & 0 & 0 & 0 & 0 & 1 & 0 & 0.287526 & 0.673995\\\\\n",
       "\t22 & 0 & 1 & 0 & 0 & 0 & 0 & 0 & 0 & 0 & 0 & ⋯ & 0 & 0 & 0 & 0 & 0 & 0 & 1 & 0 & 0.394993 & 0.543050\\\\\n",
       "\t23 & 0 & 1 & 0 & 0 & 0 & 0 & 0 & 0 & 0 & 0 & ⋯ & 0 & 0 & 0 & 0 & 0 & 0 & 0 & 1 & 0.260631 & 0.677435\\\\\n",
       "\t24 & 0 & 1 & 0 & 0 & 0 & 0 & 0 & 0 & 0 & 0 & ⋯ & 0 & 0 & 0 & 0 & 0 & 1 & 0 & 0 & 0.302043 & 0.677706\\\\\n",
       "\t25 & 0 & 1 & 0 & 0 & 0 & 0 & 0 & 0 & 0 & 0 & ⋯ & 0 & 0 & 0 & 0 & 0 & 1 & 0 & 0 & 0.263316 & 0.725312\\\\\n",
       "\t26 & 1 & 0 & 0 & 0 & 0 & 0 & 0 & 0 & 0 & 0 & ⋯ & 0 & 0 & 0 & 0 & 0 & 1 & 0 & 0 & 0.152539 & 0.861824\\\\\n",
       "\t27 & 0 & 1 & 0 & 0 & 0 & 0 & 0 & 0 & 0 & 0 & ⋯ & 0 & 0 & 0 & 0 & 0 & 1 & 0 & 0 & 0.303068 & 0.643768\\\\\n",
       "\t28 & 0 & 1 & 0 & 0 & 0 & 0 & 0 & 0 & 0 & 0 & ⋯ & 0 & 0 & 0 & 0 & 0 & 0 & 1 & 0 & 0.266801 & 0.755565\\\\\n",
       "\t29 & 0 & 1 & 0 & 0 & 0 & 0 & 0 & 0 & 0 & 0 & ⋯ & 0 & 0 & 0 & 0 & 0 & 0 & 0 & 1 & 0.412228 & 0.611796\\\\\n",
       "\t30 & 0 & 1 & 0 & 0 & 0 & 0 & 0 & 0 & 0 & 0 & ⋯ & 0 & 0 & 0 & 0 & 0 & 0 & 1 & 0 & 0.339546 & 0.649403\\\\\n",
       "\t⋮ & ⋮ & ⋮ & ⋮ & ⋮ & ⋮ & ⋮ & ⋮ & ⋮ & ⋮ & ⋮ & ⋱ & ⋮ & ⋮ & ⋮ & ⋮ & ⋮ & ⋮ & ⋮ & ⋮ & ⋮ & ⋮\\\\\n",
       "\t168 & 0 & 1 & 0 & 0 & 0 & 0 & 0 & 0 & 0 & 0 & ⋯ & 0 & 0 & 0 & 0 & 0 & 0 & 0 & 0 & 0.400722 & 0.498908\\\\\n",
       "\t169 & 0 & 1 & 0 & 0 & 0 & 0 & 0 & 0 & 0 & 0 & ⋯ & 0 & 0 & 0 & 0 & 0 & 0 & 0 & 0 & 0.365867 & 0.528138\\\\\n",
       "\t170 & 1 & 0 & 0 & 0 & 0 & 0 & 0 & 0 & 0 & 0 & ⋯ & 0 & 0 & 0 & 0 & 0 & 0 & 0 & 0 & 0.397660 & 0.500939\\\\\n",
       "\t171 & 1 & 0 & 0 & 0 & 0 & 0 & 0 & 0 & 0 & 0 & ⋯ & 0 & 0 & 0 & 0 & 0 & 0 & 0 & 0 & 0.056840 & 0.504118\\\\\n",
       "\t172 & 0 & 1 & 0 & 0 & 1 & 0 & 0 & 0 & 0 & 0 & ⋯ & 0 & 0 & 0 & 0 & 0 & 0 & 0 & 0 & 0.354135 & 0.505030\\\\\n",
       "\t173 & 0 & 1 & 0 & 0 & 0 & 1 & 0 & 0 & 0 & 0 & ⋯ & 0 & 0 & 0 & 0 & 0 & 0 & 0 & 0 & 0.343237 & 0.503639\\\\\n",
       "\t174 & 0 & 1 & 0 & 0 & 0 & 0 & 0 & 0 & 0 & 0 & ⋯ & 0 & 0 & 0 & 0 & 0 & 0 & 0 & 0 & 0.405564 & 0.499254\\\\\n",
       "\t175 & 1 & 0 & 0 & 0 & 0 & 0 & 1 & 0 & 0 & 0 & ⋯ & 0 & 0 & 0 & 0 & 0 & 0 & 0 & 0 & 0.377874 & 0.501182\\\\\n",
       "\t176 & 1 & 0 & 0 & 0 & 0 & 0 & 0 & 0 & 0 & 0 & ⋯ & 0 & 0 & 0 & 0 & 0 & 0 & 0 & 0 & 0.475859 & 0.518219\\\\\n",
       "\t177 & 1 & 0 & 0 & 0 & 0 & 0 & 0 & 0 & 0 & 0 & ⋯ & 0 & 0 & 0 & 0 & 0 & 0 & 0 & 0 & 0.407849 & 0.503934\\\\\n",
       "\t178 & 1 & 0 & 0 & 0 & 0 & 0 & 0 & 1 & 0 & 0 & ⋯ & 0 & 0 & 0 & 0 & 0 & 0 & 0 & 0 & 0.352343 & 0.435932\\\\\n",
       "\t179 & 1 & 0 & 0 & 0 & 0 & 0 & 0 & 0 & 0 & 0 & ⋯ & 0 & 0 & 0 & 0 & 0 & 0 & 0 & 0 & 0.409191 & 0.514778\\\\\n",
       "\t180 & 1 & 0 & 0 & 0 & 0 & 0 & 0 & 0 & 0 & 0 & ⋯ & 0 & 0 & 0 & 0 & 0 & 0 & 0 & 0 & 0.383486 & 0.515609\\\\\n",
       "\t181 & 0 & 1 & 0 & 0 & 0 & 0 & 0 & 0 & 0 & 0 & ⋯ & 0 & 0 & 0 & 0 & 0 & 0 & 0 & 0 & 0.426318 & 0.500869\\\\\n",
       "\t182 & 0 & 1 & 0 & 0 & 0 & 0 & 0 & 0 & 0 & 0 & ⋯ & 0 & 0 & 0 & 0 & 0 & 0 & 0 & 0 & 0.433133 & 0.515745\\\\\n",
       "\t183 & 1 & 0 & 0 & 0 & 0 & 0 & 0 & 0 & 0 & 0 & ⋯ & 0 & 0 & 0 & 0 & 0 & 0 & 0 & 0 & 0.052557 & 0.504500\\\\\n",
       "\t184 & 0 & 1 & 0 & 0 & 0 & 0 & 0 & 0 & 0 & 0 & ⋯ & 0 & 0 & 0 & 0 & 0 & 0 & 0 & 0 & 0.399135 & 0.579958\\\\\n",
       "\t185 & 0 & 1 & 0 & 0 & 0 & 0 & 0 & 0 & 0 & 0 & ⋯ & 0 & 0 & 0 & 0 & 0 & 0 & 0 & 0 & 0.434282 & 0.529707\\\\\n",
       "\t186 & 0 & 1 & 1 & 0 & 0 & 0 & 0 & 0 & 0 & 0 & ⋯ & 0 & 0 & 0 & 0 & 0 & 0 & 0 & 0 & 0.422775 & 0.522518\\\\\n",
       "\t187 & 0 & 1 & 0 & 0 & 1 & 0 & 0 & 0 & 0 & 0 & ⋯ & 0 & 0 & 0 & 0 & 0 & 0 & 0 & 0 & 0.461398 & 0.547009\\\\\n",
       "\t188 & 0 & 1 & 0 & 0 & 0 & 0 & 0 & 1 & 0 & 0 & ⋯ & 0 & 0 & 0 & 0 & 0 & 0 & 0 & 0 & 0.418583 & 0.510585\\\\\n",
       "\t189 & 0 & 1 & 1 & 0 & 0 & 0 & 0 & 0 & 0 & 0 & ⋯ & 0 & 0 & 0 & 0 & 0 & 0 & 0 & 0 & 0.361013 & 0.528220\\\\\n",
       "\t190 & 0 & 1 & 0 & 0 & 0 & 0 & 0 & 0 & 0 & 1 & ⋯ & 0 & 0 & 0 & 0 & 0 & 0 & 0 & 0 & 0.440282 & 0.510534\\\\\n",
       "\t191 & 0 & 1 & 0 & 0 & 1 & 0 & 0 & 0 & 0 & 0 & ⋯ & 0 & 0 & 0 & 0 & 0 & 0 & 0 & 0 & 0.323215 & 0.592851\\\\\n",
       "\t192 & 0 & 1 & 0 & 0 & 0 & 0 & 0 & 0 & 0 & 0 & ⋯ & 0 & 0 & 0 & 0 & 0 & 0 & 0 & 0 & 0.479268 & 0.491279\\\\\n",
       "\t193 & 0 & 1 & 0 & 0 & 0 & 0 & 0 & 0 & 0 & 0 & ⋯ & 0 & 0 & 0 & 0 & 0 & 0 & 0 & 0 & 0.386551 & 0.491713\\\\\n",
       "\t194 & 0 & 1 & 0 & 0 & 0 & 1 & 0 & 0 & 0 & 0 & ⋯ & 0 & 0 & 0 & 0 & 0 & 0 & 0 & 0 & 0.344222 & 0.619877\\\\\n",
       "\t195 & 0 & 1 & 0 & 0 & 0 & 1 & 0 & 0 & 0 & 0 & ⋯ & 0 & 0 & 0 & 0 & 0 & 0 & 0 & 0 & 0.435225 & 0.531768\\\\\n",
       "\t196 & 0 & 1 & 0 & 0 & 0 & 0 & 1 & 0 & 0 & 0 & ⋯ & 0 & 0 & 0 & 0 & 0 & 0 & 0 & 0 & 0.316176 & 0.569770\\\\\n",
       "\t197 & 0 & 1 & 0 & 0 & 0 & 0 & 0 & 0 & 1 & 0 & ⋯ & 0 & 0 & 0 & 0 & 0 & 0 & 0 & 0 & 0.365276 & 0.661018\\\\\n",
       "\\end{tabular}\n"
      ],
      "text/markdown": [
       "\n",
       "A matrix: 197 × 67 of type dbl\n",
       "\n",
       "| <!--/--> | casePDD | casePDnoCI | plateP202 | plateP203 | plateP205 | plateP206 | plateP207 | plateP208 | plateP209 | plateP210 | ⋯ | plateP336 | plateP337 | plateP338 | plateP339 | plateP340 | plateP341 | plateP342 | plateP343 | usableBases | strandBalance |\n",
       "|---|---|---|---|---|---|---|---|---|---|---|---|---|---|---|---|---|---|---|---|---|---|\n",
       "| 1 | 1 | 0 | 0 | 0 | 0 | 0 | 0 | 0 | 0 | 0 | ⋯ | 0 | 0 | 0 | 0 | 0 | 1 | 0 | 0 | 0.178567 | 0.785834 |\n",
       "| 2 | 0 | 1 | 0 | 0 | 0 | 0 | 0 | 0 | 0 | 0 | ⋯ | 0 | 0 | 0 | 0 | 0 | 0 | 1 | 0 | 0.543721 | 0.518666 |\n",
       "| 3 | 0 | 1 | 0 | 0 | 0 | 0 | 0 | 0 | 0 | 0 | ⋯ | 0 | 0 | 0 | 0 | 0 | 0 | 1 | 0 | 0.400889 | 0.632508 |\n",
       "| 4 | 0 | 1 | 0 | 0 | 0 | 0 | 0 | 0 | 0 | 0 | ⋯ | 0 | 0 | 0 | 0 | 0 | 1 | 0 | 0 | 0.428424 | 0.552939 |\n",
       "| 5 | 0 | 1 | 0 | 0 | 0 | 0 | 0 | 0 | 0 | 0 | ⋯ | 0 | 0 | 0 | 0 | 0 | 1 | 0 | 0 | 0.217465 | 0.761710 |\n",
       "| 6 | 0 | 1 | 0 | 0 | 0 | 0 | 0 | 0 | 0 | 0 | ⋯ | 0 | 0 | 0 | 0 | 0 | 1 | 0 | 0 | 0.204843 | 0.805482 |\n",
       "| 7 | 0 | 1 | 0 | 0 | 0 | 0 | 0 | 0 | 0 | 0 | ⋯ | 0 | 0 | 0 | 0 | 0 | 0 | 1 | 0 | 0.303373 | 0.591517 |\n",
       "| 8 | 0 | 1 | 0 | 0 | 0 | 0 | 0 | 0 | 0 | 0 | ⋯ | 0 | 0 | 0 | 0 | 0 | 0 | 1 | 0 | 0.267975 | 0.702552 |\n",
       "| 9 | 0 | 1 | 0 | 0 | 0 | 0 | 0 | 0 | 0 | 0 | ⋯ | 0 | 0 | 0 | 0 | 0 | 0 | 1 | 0 | 0.297992 | 0.594147 |\n",
       "| 10 | 0 | 1 | 0 | 0 | 0 | 0 | 0 | 0 | 0 | 0 | ⋯ | 0 | 0 | 0 | 0 | 0 | 0 | 1 | 0 | 0.346323 | 0.679662 |\n",
       "| 11 | 0 | 1 | 0 | 0 | 0 | 0 | 0 | 0 | 0 | 0 | ⋯ | 0 | 0 | 0 | 0 | 0 | 1 | 0 | 0 | 0.342366 | 0.630592 |\n",
       "| 12 | 0 | 1 | 0 | 0 | 0 | 0 | 0 | 0 | 0 | 0 | ⋯ | 0 | 0 | 0 | 0 | 0 | 0 | 1 | 0 | 0.412993 | 0.581839 |\n",
       "| 13 | 0 | 1 | 0 | 0 | 0 | 0 | 0 | 0 | 0 | 0 | ⋯ | 0 | 0 | 0 | 0 | 0 | 0 | 0 | 1 | 0.243849 | 0.740451 |\n",
       "| 14 | 0 | 1 | 0 | 0 | 0 | 0 | 0 | 0 | 0 | 0 | ⋯ | 0 | 0 | 0 | 0 | 0 | 0 | 1 | 0 | 0.307194 | 0.595753 |\n",
       "| 15 | 0 | 1 | 0 | 0 | 0 | 0 | 0 | 0 | 0 | 0 | ⋯ | 0 | 0 | 0 | 0 | 0 | 0 | 1 | 0 | 0.302694 | 0.681069 |\n",
       "| 16 | 0 | 1 | 0 | 0 | 0 | 0 | 0 | 0 | 0 | 0 | ⋯ | 0 | 0 | 0 | 0 | 0 | 0 | 1 | 0 | 0.355065 | 0.540170 |\n",
       "| 17 | 0 | 1 | 0 | 0 | 0 | 0 | 0 | 0 | 0 | 0 | ⋯ | 0 | 0 | 0 | 0 | 0 | 1 | 0 | 0 | 0.385131 | 0.512446 |\n",
       "| 18 | 0 | 1 | 0 | 0 | 0 | 0 | 0 | 0 | 0 | 0 | ⋯ | 0 | 0 | 0 | 0 | 0 | 1 | 0 | 0 | 0.198934 | 0.816509 |\n",
       "| 19 | 0 | 1 | 0 | 0 | 0 | 0 | 0 | 0 | 0 | 0 | ⋯ | 0 | 0 | 0 | 0 | 0 | 1 | 0 | 0 | 0.360555 | 0.652022 |\n",
       "| 20 | 0 | 1 | 0 | 0 | 0 | 0 | 0 | 0 | 0 | 0 | ⋯ | 0 | 0 | 0 | 0 | 0 | 1 | 0 | 0 | 0.205793 | 0.780496 |\n",
       "| 21 | 0 | 1 | 0 | 0 | 0 | 0 | 0 | 0 | 0 | 0 | ⋯ | 0 | 0 | 0 | 0 | 0 | 0 | 1 | 0 | 0.287526 | 0.673995 |\n",
       "| 22 | 0 | 1 | 0 | 0 | 0 | 0 | 0 | 0 | 0 | 0 | ⋯ | 0 | 0 | 0 | 0 | 0 | 0 | 1 | 0 | 0.394993 | 0.543050 |\n",
       "| 23 | 0 | 1 | 0 | 0 | 0 | 0 | 0 | 0 | 0 | 0 | ⋯ | 0 | 0 | 0 | 0 | 0 | 0 | 0 | 1 | 0.260631 | 0.677435 |\n",
       "| 24 | 0 | 1 | 0 | 0 | 0 | 0 | 0 | 0 | 0 | 0 | ⋯ | 0 | 0 | 0 | 0 | 0 | 1 | 0 | 0 | 0.302043 | 0.677706 |\n",
       "| 25 | 0 | 1 | 0 | 0 | 0 | 0 | 0 | 0 | 0 | 0 | ⋯ | 0 | 0 | 0 | 0 | 0 | 1 | 0 | 0 | 0.263316 | 0.725312 |\n",
       "| 26 | 1 | 0 | 0 | 0 | 0 | 0 | 0 | 0 | 0 | 0 | ⋯ | 0 | 0 | 0 | 0 | 0 | 1 | 0 | 0 | 0.152539 | 0.861824 |\n",
       "| 27 | 0 | 1 | 0 | 0 | 0 | 0 | 0 | 0 | 0 | 0 | ⋯ | 0 | 0 | 0 | 0 | 0 | 1 | 0 | 0 | 0.303068 | 0.643768 |\n",
       "| 28 | 0 | 1 | 0 | 0 | 0 | 0 | 0 | 0 | 0 | 0 | ⋯ | 0 | 0 | 0 | 0 | 0 | 0 | 1 | 0 | 0.266801 | 0.755565 |\n",
       "| 29 | 0 | 1 | 0 | 0 | 0 | 0 | 0 | 0 | 0 | 0 | ⋯ | 0 | 0 | 0 | 0 | 0 | 0 | 0 | 1 | 0.412228 | 0.611796 |\n",
       "| 30 | 0 | 1 | 0 | 0 | 0 | 0 | 0 | 0 | 0 | 0 | ⋯ | 0 | 0 | 0 | 0 | 0 | 0 | 1 | 0 | 0.339546 | 0.649403 |\n",
       "| ⋮ | ⋮ | ⋮ | ⋮ | ⋮ | ⋮ | ⋮ | ⋮ | ⋮ | ⋮ | ⋮ | ⋱ | ⋮ | ⋮ | ⋮ | ⋮ | ⋮ | ⋮ | ⋮ | ⋮ | ⋮ | ⋮ |\n",
       "| 168 | 0 | 1 | 0 | 0 | 0 | 0 | 0 | 0 | 0 | 0 | ⋯ | 0 | 0 | 0 | 0 | 0 | 0 | 0 | 0 | 0.400722 | 0.498908 |\n",
       "| 169 | 0 | 1 | 0 | 0 | 0 | 0 | 0 | 0 | 0 | 0 | ⋯ | 0 | 0 | 0 | 0 | 0 | 0 | 0 | 0 | 0.365867 | 0.528138 |\n",
       "| 170 | 1 | 0 | 0 | 0 | 0 | 0 | 0 | 0 | 0 | 0 | ⋯ | 0 | 0 | 0 | 0 | 0 | 0 | 0 | 0 | 0.397660 | 0.500939 |\n",
       "| 171 | 1 | 0 | 0 | 0 | 0 | 0 | 0 | 0 | 0 | 0 | ⋯ | 0 | 0 | 0 | 0 | 0 | 0 | 0 | 0 | 0.056840 | 0.504118 |\n",
       "| 172 | 0 | 1 | 0 | 0 | 1 | 0 | 0 | 0 | 0 | 0 | ⋯ | 0 | 0 | 0 | 0 | 0 | 0 | 0 | 0 | 0.354135 | 0.505030 |\n",
       "| 173 | 0 | 1 | 0 | 0 | 0 | 1 | 0 | 0 | 0 | 0 | ⋯ | 0 | 0 | 0 | 0 | 0 | 0 | 0 | 0 | 0.343237 | 0.503639 |\n",
       "| 174 | 0 | 1 | 0 | 0 | 0 | 0 | 0 | 0 | 0 | 0 | ⋯ | 0 | 0 | 0 | 0 | 0 | 0 | 0 | 0 | 0.405564 | 0.499254 |\n",
       "| 175 | 1 | 0 | 0 | 0 | 0 | 0 | 1 | 0 | 0 | 0 | ⋯ | 0 | 0 | 0 | 0 | 0 | 0 | 0 | 0 | 0.377874 | 0.501182 |\n",
       "| 176 | 1 | 0 | 0 | 0 | 0 | 0 | 0 | 0 | 0 | 0 | ⋯ | 0 | 0 | 0 | 0 | 0 | 0 | 0 | 0 | 0.475859 | 0.518219 |\n",
       "| 177 | 1 | 0 | 0 | 0 | 0 | 0 | 0 | 0 | 0 | 0 | ⋯ | 0 | 0 | 0 | 0 | 0 | 0 | 0 | 0 | 0.407849 | 0.503934 |\n",
       "| 178 | 1 | 0 | 0 | 0 | 0 | 0 | 0 | 1 | 0 | 0 | ⋯ | 0 | 0 | 0 | 0 | 0 | 0 | 0 | 0 | 0.352343 | 0.435932 |\n",
       "| 179 | 1 | 0 | 0 | 0 | 0 | 0 | 0 | 0 | 0 | 0 | ⋯ | 0 | 0 | 0 | 0 | 0 | 0 | 0 | 0 | 0.409191 | 0.514778 |\n",
       "| 180 | 1 | 0 | 0 | 0 | 0 | 0 | 0 | 0 | 0 | 0 | ⋯ | 0 | 0 | 0 | 0 | 0 | 0 | 0 | 0 | 0.383486 | 0.515609 |\n",
       "| 181 | 0 | 1 | 0 | 0 | 0 | 0 | 0 | 0 | 0 | 0 | ⋯ | 0 | 0 | 0 | 0 | 0 | 0 | 0 | 0 | 0.426318 | 0.500869 |\n",
       "| 182 | 0 | 1 | 0 | 0 | 0 | 0 | 0 | 0 | 0 | 0 | ⋯ | 0 | 0 | 0 | 0 | 0 | 0 | 0 | 0 | 0.433133 | 0.515745 |\n",
       "| 183 | 1 | 0 | 0 | 0 | 0 | 0 | 0 | 0 | 0 | 0 | ⋯ | 0 | 0 | 0 | 0 | 0 | 0 | 0 | 0 | 0.052557 | 0.504500 |\n",
       "| 184 | 0 | 1 | 0 | 0 | 0 | 0 | 0 | 0 | 0 | 0 | ⋯ | 0 | 0 | 0 | 0 | 0 | 0 | 0 | 0 | 0.399135 | 0.579958 |\n",
       "| 185 | 0 | 1 | 0 | 0 | 0 | 0 | 0 | 0 | 0 | 0 | ⋯ | 0 | 0 | 0 | 0 | 0 | 0 | 0 | 0 | 0.434282 | 0.529707 |\n",
       "| 186 | 0 | 1 | 1 | 0 | 0 | 0 | 0 | 0 | 0 | 0 | ⋯ | 0 | 0 | 0 | 0 | 0 | 0 | 0 | 0 | 0.422775 | 0.522518 |\n",
       "| 187 | 0 | 1 | 0 | 0 | 1 | 0 | 0 | 0 | 0 | 0 | ⋯ | 0 | 0 | 0 | 0 | 0 | 0 | 0 | 0 | 0.461398 | 0.547009 |\n",
       "| 188 | 0 | 1 | 0 | 0 | 0 | 0 | 0 | 1 | 0 | 0 | ⋯ | 0 | 0 | 0 | 0 | 0 | 0 | 0 | 0 | 0.418583 | 0.510585 |\n",
       "| 189 | 0 | 1 | 1 | 0 | 0 | 0 | 0 | 0 | 0 | 0 | ⋯ | 0 | 0 | 0 | 0 | 0 | 0 | 0 | 0 | 0.361013 | 0.528220 |\n",
       "| 190 | 0 | 1 | 0 | 0 | 0 | 0 | 0 | 0 | 0 | 1 | ⋯ | 0 | 0 | 0 | 0 | 0 | 0 | 0 | 0 | 0.440282 | 0.510534 |\n",
       "| 191 | 0 | 1 | 0 | 0 | 1 | 0 | 0 | 0 | 0 | 0 | ⋯ | 0 | 0 | 0 | 0 | 0 | 0 | 0 | 0 | 0.323215 | 0.592851 |\n",
       "| 192 | 0 | 1 | 0 | 0 | 0 | 0 | 0 | 0 | 0 | 0 | ⋯ | 0 | 0 | 0 | 0 | 0 | 0 | 0 | 0 | 0.479268 | 0.491279 |\n",
       "| 193 | 0 | 1 | 0 | 0 | 0 | 0 | 0 | 0 | 0 | 0 | ⋯ | 0 | 0 | 0 | 0 | 0 | 0 | 0 | 0 | 0.386551 | 0.491713 |\n",
       "| 194 | 0 | 1 | 0 | 0 | 0 | 1 | 0 | 0 | 0 | 0 | ⋯ | 0 | 0 | 0 | 0 | 0 | 0 | 0 | 0 | 0.344222 | 0.619877 |\n",
       "| 195 | 0 | 1 | 0 | 0 | 0 | 1 | 0 | 0 | 0 | 0 | ⋯ | 0 | 0 | 0 | 0 | 0 | 0 | 0 | 0 | 0.435225 | 0.531768 |\n",
       "| 196 | 0 | 1 | 0 | 0 | 0 | 0 | 1 | 0 | 0 | 0 | ⋯ | 0 | 0 | 0 | 0 | 0 | 0 | 0 | 0 | 0.316176 | 0.569770 |\n",
       "| 197 | 0 | 1 | 0 | 0 | 0 | 0 | 0 | 0 | 1 | 0 | ⋯ | 0 | 0 | 0 | 0 | 0 | 0 | 0 | 0 | 0.365276 | 0.661018 |\n",
       "\n"
      ],
      "text/plain": [
       "    casePDD casePDnoCI plateP202 plateP203 plateP205 plateP206 plateP207\n",
       "1   1       0          0         0         0         0         0        \n",
       "2   0       1          0         0         0         0         0        \n",
       "3   0       1          0         0         0         0         0        \n",
       "4   0       1          0         0         0         0         0        \n",
       "5   0       1          0         0         0         0         0        \n",
       "6   0       1          0         0         0         0         0        \n",
       "7   0       1          0         0         0         0         0        \n",
       "8   0       1          0         0         0         0         0        \n",
       "9   0       1          0         0         0         0         0        \n",
       "10  0       1          0         0         0         0         0        \n",
       "11  0       1          0         0         0         0         0        \n",
       "12  0       1          0         0         0         0         0        \n",
       "13  0       1          0         0         0         0         0        \n",
       "14  0       1          0         0         0         0         0        \n",
       "15  0       1          0         0         0         0         0        \n",
       "16  0       1          0         0         0         0         0        \n",
       "17  0       1          0         0         0         0         0        \n",
       "18  0       1          0         0         0         0         0        \n",
       "19  0       1          0         0         0         0         0        \n",
       "20  0       1          0         0         0         0         0        \n",
       "21  0       1          0         0         0         0         0        \n",
       "22  0       1          0         0         0         0         0        \n",
       "23  0       1          0         0         0         0         0        \n",
       "24  0       1          0         0         0         0         0        \n",
       "25  0       1          0         0         0         0         0        \n",
       "26  1       0          0         0         0         0         0        \n",
       "27  0       1          0         0         0         0         0        \n",
       "28  0       1          0         0         0         0         0        \n",
       "29  0       1          0         0         0         0         0        \n",
       "30  0       1          0         0         0         0         0        \n",
       "⋮   ⋮       ⋮          ⋮         ⋮         ⋮         ⋮         ⋮        \n",
       "168 0       1          0         0         0         0         0        \n",
       "169 0       1          0         0         0         0         0        \n",
       "170 1       0          0         0         0         0         0        \n",
       "171 1       0          0         0         0         0         0        \n",
       "172 0       1          0         0         1         0         0        \n",
       "173 0       1          0         0         0         1         0        \n",
       "174 0       1          0         0         0         0         0        \n",
       "175 1       0          0         0         0         0         1        \n",
       "176 1       0          0         0         0         0         0        \n",
       "177 1       0          0         0         0         0         0        \n",
       "178 1       0          0         0         0         0         0        \n",
       "179 1       0          0         0         0         0         0        \n",
       "180 1       0          0         0         0         0         0        \n",
       "181 0       1          0         0         0         0         0        \n",
       "182 0       1          0         0         0         0         0        \n",
       "183 1       0          0         0         0         0         0        \n",
       "184 0       1          0         0         0         0         0        \n",
       "185 0       1          0         0         0         0         0        \n",
       "186 0       1          1         0         0         0         0        \n",
       "187 0       1          0         0         1         0         0        \n",
       "188 0       1          0         0         0         0         0        \n",
       "189 0       1          1         0         0         0         0        \n",
       "190 0       1          0         0         0         0         0        \n",
       "191 0       1          0         0         1         0         0        \n",
       "192 0       1          0         0         0         0         0        \n",
       "193 0       1          0         0         0         0         0        \n",
       "194 0       1          0         0         0         1         0        \n",
       "195 0       1          0         0         0         1         0        \n",
       "196 0       1          0         0         0         0         1        \n",
       "197 0       1          0         0         0         0         0        \n",
       "    plateP208 plateP209 plateP210 ⋯ plateP336 plateP337 plateP338 plateP339\n",
       "1   0         0         0         ⋯ 0         0         0         0        \n",
       "2   0         0         0         ⋯ 0         0         0         0        \n",
       "3   0         0         0         ⋯ 0         0         0         0        \n",
       "4   0         0         0         ⋯ 0         0         0         0        \n",
       "5   0         0         0         ⋯ 0         0         0         0        \n",
       "6   0         0         0         ⋯ 0         0         0         0        \n",
       "7   0         0         0         ⋯ 0         0         0         0        \n",
       "8   0         0         0         ⋯ 0         0         0         0        \n",
       "9   0         0         0         ⋯ 0         0         0         0        \n",
       "10  0         0         0         ⋯ 0         0         0         0        \n",
       "11  0         0         0         ⋯ 0         0         0         0        \n",
       "12  0         0         0         ⋯ 0         0         0         0        \n",
       "13  0         0         0         ⋯ 0         0         0         0        \n",
       "14  0         0         0         ⋯ 0         0         0         0        \n",
       "15  0         0         0         ⋯ 0         0         0         0        \n",
       "16  0         0         0         ⋯ 0         0         0         0        \n",
       "17  0         0         0         ⋯ 0         0         0         0        \n",
       "18  0         0         0         ⋯ 0         0         0         0        \n",
       "19  0         0         0         ⋯ 0         0         0         0        \n",
       "20  0         0         0         ⋯ 0         0         0         0        \n",
       "21  0         0         0         ⋯ 0         0         0         0        \n",
       "22  0         0         0         ⋯ 0         0         0         0        \n",
       "23  0         0         0         ⋯ 0         0         0         0        \n",
       "24  0         0         0         ⋯ 0         0         0         0        \n",
       "25  0         0         0         ⋯ 0         0         0         0        \n",
       "26  0         0         0         ⋯ 0         0         0         0        \n",
       "27  0         0         0         ⋯ 0         0         0         0        \n",
       "28  0         0         0         ⋯ 0         0         0         0        \n",
       "29  0         0         0         ⋯ 0         0         0         0        \n",
       "30  0         0         0         ⋯ 0         0         0         0        \n",
       "⋮   ⋮         ⋮         ⋮         ⋱ ⋮         ⋮         ⋮         ⋮        \n",
       "168 0         0         0         ⋯ 0         0         0         0        \n",
       "169 0         0         0         ⋯ 0         0         0         0        \n",
       "170 0         0         0         ⋯ 0         0         0         0        \n",
       "171 0         0         0         ⋯ 0         0         0         0        \n",
       "172 0         0         0         ⋯ 0         0         0         0        \n",
       "173 0         0         0         ⋯ 0         0         0         0        \n",
       "174 0         0         0         ⋯ 0         0         0         0        \n",
       "175 0         0         0         ⋯ 0         0         0         0        \n",
       "176 0         0         0         ⋯ 0         0         0         0        \n",
       "177 0         0         0         ⋯ 0         0         0         0        \n",
       "178 1         0         0         ⋯ 0         0         0         0        \n",
       "179 0         0         0         ⋯ 0         0         0         0        \n",
       "180 0         0         0         ⋯ 0         0         0         0        \n",
       "181 0         0         0         ⋯ 0         0         0         0        \n",
       "182 0         0         0         ⋯ 0         0         0         0        \n",
       "183 0         0         0         ⋯ 0         0         0         0        \n",
       "184 0         0         0         ⋯ 0         0         0         0        \n",
       "185 0         0         0         ⋯ 0         0         0         0        \n",
       "186 0         0         0         ⋯ 0         0         0         0        \n",
       "187 0         0         0         ⋯ 0         0         0         0        \n",
       "188 1         0         0         ⋯ 0         0         0         0        \n",
       "189 0         0         0         ⋯ 0         0         0         0        \n",
       "190 0         0         1         ⋯ 0         0         0         0        \n",
       "191 0         0         0         ⋯ 0         0         0         0        \n",
       "192 0         0         0         ⋯ 0         0         0         0        \n",
       "193 0         0         0         ⋯ 0         0         0         0        \n",
       "194 0         0         0         ⋯ 0         0         0         0        \n",
       "195 0         0         0         ⋯ 0         0         0         0        \n",
       "196 0         0         0         ⋯ 0         0         0         0        \n",
       "197 0         1         0         ⋯ 0         0         0         0        \n",
       "    plateP340 plateP341 plateP342 plateP343 usableBases strandBalance\n",
       "1   0         1         0         0         0.178567    0.785834     \n",
       "2   0         0         1         0         0.543721    0.518666     \n",
       "3   0         0         1         0         0.400889    0.632508     \n",
       "4   0         1         0         0         0.428424    0.552939     \n",
       "5   0         1         0         0         0.217465    0.761710     \n",
       "6   0         1         0         0         0.204843    0.805482     \n",
       "7   0         0         1         0         0.303373    0.591517     \n",
       "8   0         0         1         0         0.267975    0.702552     \n",
       "9   0         0         1         0         0.297992    0.594147     \n",
       "10  0         0         1         0         0.346323    0.679662     \n",
       "11  0         1         0         0         0.342366    0.630592     \n",
       "12  0         0         1         0         0.412993    0.581839     \n",
       "13  0         0         0         1         0.243849    0.740451     \n",
       "14  0         0         1         0         0.307194    0.595753     \n",
       "15  0         0         1         0         0.302694    0.681069     \n",
       "16  0         0         1         0         0.355065    0.540170     \n",
       "17  0         1         0         0         0.385131    0.512446     \n",
       "18  0         1         0         0         0.198934    0.816509     \n",
       "19  0         1         0         0         0.360555    0.652022     \n",
       "20  0         1         0         0         0.205793    0.780496     \n",
       "21  0         0         1         0         0.287526    0.673995     \n",
       "22  0         0         1         0         0.394993    0.543050     \n",
       "23  0         0         0         1         0.260631    0.677435     \n",
       "24  0         1         0         0         0.302043    0.677706     \n",
       "25  0         1         0         0         0.263316    0.725312     \n",
       "26  0         1         0         0         0.152539    0.861824     \n",
       "27  0         1         0         0         0.303068    0.643768     \n",
       "28  0         0         1         0         0.266801    0.755565     \n",
       "29  0         0         0         1         0.412228    0.611796     \n",
       "30  0         0         1         0         0.339546    0.649403     \n",
       "⋮   ⋮         ⋮         ⋮         ⋮         ⋮           ⋮            \n",
       "168 0         0         0         0         0.400722    0.498908     \n",
       "169 0         0         0         0         0.365867    0.528138     \n",
       "170 0         0         0         0         0.397660    0.500939     \n",
       "171 0         0         0         0         0.056840    0.504118     \n",
       "172 0         0         0         0         0.354135    0.505030     \n",
       "173 0         0         0         0         0.343237    0.503639     \n",
       "174 0         0         0         0         0.405564    0.499254     \n",
       "175 0         0         0         0         0.377874    0.501182     \n",
       "176 0         0         0         0         0.475859    0.518219     \n",
       "177 0         0         0         0         0.407849    0.503934     \n",
       "178 0         0         0         0         0.352343    0.435932     \n",
       "179 0         0         0         0         0.409191    0.514778     \n",
       "180 0         0         0         0         0.383486    0.515609     \n",
       "181 0         0         0         0         0.426318    0.500869     \n",
       "182 0         0         0         0         0.433133    0.515745     \n",
       "183 0         0         0         0         0.052557    0.504500     \n",
       "184 0         0         0         0         0.399135    0.579958     \n",
       "185 0         0         0         0         0.434282    0.529707     \n",
       "186 0         0         0         0         0.422775    0.522518     \n",
       "187 0         0         0         0         0.461398    0.547009     \n",
       "188 0         0         0         0         0.418583    0.510585     \n",
       "189 0         0         0         0         0.361013    0.528220     \n",
       "190 0         0         0         0         0.440282    0.510534     \n",
       "191 0         0         0         0         0.323215    0.592851     \n",
       "192 0         0         0         0         0.479268    0.491279     \n",
       "193 0         0         0         0         0.386551    0.491713     \n",
       "194 0         0         0         0         0.344222    0.619877     \n",
       "195 0         0         0         0         0.435225    0.531768     \n",
       "196 0         0         0         0         0.316176    0.569770     \n",
       "197 0         0         0         0         0.365276    0.661018     "
      ]
     },
     "metadata": {},
     "output_type": "display_data"
    }
   ],
   "source": [
    "design"
   ]
  },
  {
   "cell_type": "code",
   "execution_count": 121,
   "metadata": {},
   "outputs": [],
   "source": [
    "colnames(design) <- gsub(\"case\", \"\", colnames(design))"
   ]
  },
  {
   "cell_type": "code",
   "execution_count": 122,
   "metadata": {},
   "outputs": [],
   "source": [
    "contr.matrix <- makeContrasts(\n",
    "  Case_vs_Control = PDD - PDnoCI,\n",
    "  levels = colnames(design)\n",
    ")"
   ]
  },
  {
   "cell_type": "code",
   "execution_count": 123,
   "metadata": {
    "scrolled": true
   },
   "outputs": [
    {
     "data": {
      "text/html": [
       "<table class=\"dataframe\">\n",
       "<caption>A matrix: 67 × 1 of type dbl</caption>\n",
       "<thead>\n",
       "\t<tr><th></th><th scope=col>Case_vs_Control</th></tr>\n",
       "</thead>\n",
       "<tbody>\n",
       "\t<tr><th scope=row>PDD</th><td> 1</td></tr>\n",
       "\t<tr><th scope=row>PDnoCI</th><td>-1</td></tr>\n",
       "\t<tr><th scope=row>plateP202</th><td> 0</td></tr>\n",
       "\t<tr><th scope=row>plateP203</th><td> 0</td></tr>\n",
       "\t<tr><th scope=row>plateP205</th><td> 0</td></tr>\n",
       "\t<tr><th scope=row>plateP206</th><td> 0</td></tr>\n",
       "\t<tr><th scope=row>plateP207</th><td> 0</td></tr>\n",
       "\t<tr><th scope=row>plateP208</th><td> 0</td></tr>\n",
       "\t<tr><th scope=row>plateP209</th><td> 0</td></tr>\n",
       "\t<tr><th scope=row>plateP210</th><td> 0</td></tr>\n",
       "\t<tr><th scope=row>plateP211</th><td> 0</td></tr>\n",
       "\t<tr><th scope=row>plateP212</th><td> 0</td></tr>\n",
       "\t<tr><th scope=row>plateP213</th><td> 0</td></tr>\n",
       "\t<tr><th scope=row>plateP216</th><td> 0</td></tr>\n",
       "\t<tr><th scope=row>plateP217</th><td> 0</td></tr>\n",
       "\t<tr><th scope=row>plateP218</th><td> 0</td></tr>\n",
       "\t<tr><th scope=row>plateP219</th><td> 0</td></tr>\n",
       "\t<tr><th scope=row>plateP220</th><td> 0</td></tr>\n",
       "\t<tr><th scope=row>plateP221</th><td> 0</td></tr>\n",
       "\t<tr><th scope=row>plateP222</th><td> 0</td></tr>\n",
       "\t<tr><th scope=row>plateP223</th><td> 0</td></tr>\n",
       "\t<tr><th scope=row>plateP225</th><td> 0</td></tr>\n",
       "\t<tr><th scope=row>plateP301</th><td> 0</td></tr>\n",
       "\t<tr><th scope=row>plateP302</th><td> 0</td></tr>\n",
       "\t<tr><th scope=row>plateP303</th><td> 0</td></tr>\n",
       "\t<tr><th scope=row>plateP304</th><td> 0</td></tr>\n",
       "\t<tr><th scope=row>plateP305</th><td> 0</td></tr>\n",
       "\t<tr><th scope=row>plateP306</th><td> 0</td></tr>\n",
       "\t<tr><th scope=row>plateP307</th><td> 0</td></tr>\n",
       "\t<tr><th scope=row>plateP308</th><td> 0</td></tr>\n",
       "\t<tr><th scope=row>⋮</th><td>⋮</td></tr>\n",
       "\t<tr><th scope=row>plateP316</th><td>0</td></tr>\n",
       "\t<tr><th scope=row>plateP317</th><td>0</td></tr>\n",
       "\t<tr><th scope=row>plateP318</th><td>0</td></tr>\n",
       "\t<tr><th scope=row>plateP319</th><td>0</td></tr>\n",
       "\t<tr><th scope=row>plateP320</th><td>0</td></tr>\n",
       "\t<tr><th scope=row>plateP321</th><td>0</td></tr>\n",
       "\t<tr><th scope=row>plateP322</th><td>0</td></tr>\n",
       "\t<tr><th scope=row>plateP323</th><td>0</td></tr>\n",
       "\t<tr><th scope=row>plateP324</th><td>0</td></tr>\n",
       "\t<tr><th scope=row>plateP325</th><td>0</td></tr>\n",
       "\t<tr><th scope=row>plateP326</th><td>0</td></tr>\n",
       "\t<tr><th scope=row>plateP327</th><td>0</td></tr>\n",
       "\t<tr><th scope=row>plateP328</th><td>0</td></tr>\n",
       "\t<tr><th scope=row>plateP329</th><td>0</td></tr>\n",
       "\t<tr><th scope=row>plateP330</th><td>0</td></tr>\n",
       "\t<tr><th scope=row>plateP331</th><td>0</td></tr>\n",
       "\t<tr><th scope=row>plateP332</th><td>0</td></tr>\n",
       "\t<tr><th scope=row>plateP333</th><td>0</td></tr>\n",
       "\t<tr><th scope=row>plateP334</th><td>0</td></tr>\n",
       "\t<tr><th scope=row>plateP335</th><td>0</td></tr>\n",
       "\t<tr><th scope=row>plateP336</th><td>0</td></tr>\n",
       "\t<tr><th scope=row>plateP337</th><td>0</td></tr>\n",
       "\t<tr><th scope=row>plateP338</th><td>0</td></tr>\n",
       "\t<tr><th scope=row>plateP339</th><td>0</td></tr>\n",
       "\t<tr><th scope=row>plateP340</th><td>0</td></tr>\n",
       "\t<tr><th scope=row>plateP341</th><td>0</td></tr>\n",
       "\t<tr><th scope=row>plateP342</th><td>0</td></tr>\n",
       "\t<tr><th scope=row>plateP343</th><td>0</td></tr>\n",
       "\t<tr><th scope=row>usableBases</th><td>0</td></tr>\n",
       "\t<tr><th scope=row>strandBalance</th><td>0</td></tr>\n",
       "</tbody>\n",
       "</table>\n"
      ],
      "text/latex": [
       "A matrix: 67 × 1 of type dbl\n",
       "\\begin{tabular}{r|l}\n",
       "  & Case\\_vs\\_Control\\\\\n",
       "\\hline\n",
       "\tPDD &  1\\\\\n",
       "\tPDnoCI & -1\\\\\n",
       "\tplateP202 &  0\\\\\n",
       "\tplateP203 &  0\\\\\n",
       "\tplateP205 &  0\\\\\n",
       "\tplateP206 &  0\\\\\n",
       "\tplateP207 &  0\\\\\n",
       "\tplateP208 &  0\\\\\n",
       "\tplateP209 &  0\\\\\n",
       "\tplateP210 &  0\\\\\n",
       "\tplateP211 &  0\\\\\n",
       "\tplateP212 &  0\\\\\n",
       "\tplateP213 &  0\\\\\n",
       "\tplateP216 &  0\\\\\n",
       "\tplateP217 &  0\\\\\n",
       "\tplateP218 &  0\\\\\n",
       "\tplateP219 &  0\\\\\n",
       "\tplateP220 &  0\\\\\n",
       "\tplateP221 &  0\\\\\n",
       "\tplateP222 &  0\\\\\n",
       "\tplateP223 &  0\\\\\n",
       "\tplateP225 &  0\\\\\n",
       "\tplateP301 &  0\\\\\n",
       "\tplateP302 &  0\\\\\n",
       "\tplateP303 &  0\\\\\n",
       "\tplateP304 &  0\\\\\n",
       "\tplateP305 &  0\\\\\n",
       "\tplateP306 &  0\\\\\n",
       "\tplateP307 &  0\\\\\n",
       "\tplateP308 &  0\\\\\n",
       "\t⋮ & ⋮\\\\\n",
       "\tplateP316 & 0\\\\\n",
       "\tplateP317 & 0\\\\\n",
       "\tplateP318 & 0\\\\\n",
       "\tplateP319 & 0\\\\\n",
       "\tplateP320 & 0\\\\\n",
       "\tplateP321 & 0\\\\\n",
       "\tplateP322 & 0\\\\\n",
       "\tplateP323 & 0\\\\\n",
       "\tplateP324 & 0\\\\\n",
       "\tplateP325 & 0\\\\\n",
       "\tplateP326 & 0\\\\\n",
       "\tplateP327 & 0\\\\\n",
       "\tplateP328 & 0\\\\\n",
       "\tplateP329 & 0\\\\\n",
       "\tplateP330 & 0\\\\\n",
       "\tplateP331 & 0\\\\\n",
       "\tplateP332 & 0\\\\\n",
       "\tplateP333 & 0\\\\\n",
       "\tplateP334 & 0\\\\\n",
       "\tplateP335 & 0\\\\\n",
       "\tplateP336 & 0\\\\\n",
       "\tplateP337 & 0\\\\\n",
       "\tplateP338 & 0\\\\\n",
       "\tplateP339 & 0\\\\\n",
       "\tplateP340 & 0\\\\\n",
       "\tplateP341 & 0\\\\\n",
       "\tplateP342 & 0\\\\\n",
       "\tplateP343 & 0\\\\\n",
       "\tusableBases & 0\\\\\n",
       "\tstrandBalance & 0\\\\\n",
       "\\end{tabular}\n"
      ],
      "text/markdown": [
       "\n",
       "A matrix: 67 × 1 of type dbl\n",
       "\n",
       "| <!--/--> | Case_vs_Control |\n",
       "|---|---|\n",
       "| PDD |  1 |\n",
       "| PDnoCI | -1 |\n",
       "| plateP202 |  0 |\n",
       "| plateP203 |  0 |\n",
       "| plateP205 |  0 |\n",
       "| plateP206 |  0 |\n",
       "| plateP207 |  0 |\n",
       "| plateP208 |  0 |\n",
       "| plateP209 |  0 |\n",
       "| plateP210 |  0 |\n",
       "| plateP211 |  0 |\n",
       "| plateP212 |  0 |\n",
       "| plateP213 |  0 |\n",
       "| plateP216 |  0 |\n",
       "| plateP217 |  0 |\n",
       "| plateP218 |  0 |\n",
       "| plateP219 |  0 |\n",
       "| plateP220 |  0 |\n",
       "| plateP221 |  0 |\n",
       "| plateP222 |  0 |\n",
       "| plateP223 |  0 |\n",
       "| plateP225 |  0 |\n",
       "| plateP301 |  0 |\n",
       "| plateP302 |  0 |\n",
       "| plateP303 |  0 |\n",
       "| plateP304 |  0 |\n",
       "| plateP305 |  0 |\n",
       "| plateP306 |  0 |\n",
       "| plateP307 |  0 |\n",
       "| plateP308 |  0 |\n",
       "| ⋮ | ⋮ |\n",
       "| plateP316 | 0 |\n",
       "| plateP317 | 0 |\n",
       "| plateP318 | 0 |\n",
       "| plateP319 | 0 |\n",
       "| plateP320 | 0 |\n",
       "| plateP321 | 0 |\n",
       "| plateP322 | 0 |\n",
       "| plateP323 | 0 |\n",
       "| plateP324 | 0 |\n",
       "| plateP325 | 0 |\n",
       "| plateP326 | 0 |\n",
       "| plateP327 | 0 |\n",
       "| plateP328 | 0 |\n",
       "| plateP329 | 0 |\n",
       "| plateP330 | 0 |\n",
       "| plateP331 | 0 |\n",
       "| plateP332 | 0 |\n",
       "| plateP333 | 0 |\n",
       "| plateP334 | 0 |\n",
       "| plateP335 | 0 |\n",
       "| plateP336 | 0 |\n",
       "| plateP337 | 0 |\n",
       "| plateP338 | 0 |\n",
       "| plateP339 | 0 |\n",
       "| plateP340 | 0 |\n",
       "| plateP341 | 0 |\n",
       "| plateP342 | 0 |\n",
       "| plateP343 | 0 |\n",
       "| usableBases | 0 |\n",
       "| strandBalance | 0 |\n",
       "\n"
      ],
      "text/plain": [
       "              Case_vs_Control\n",
       "PDD            1             \n",
       "PDnoCI        -1             \n",
       "plateP202      0             \n",
       "plateP203      0             \n",
       "plateP205      0             \n",
       "plateP206      0             \n",
       "plateP207      0             \n",
       "plateP208      0             \n",
       "plateP209      0             \n",
       "plateP210      0             \n",
       "plateP211      0             \n",
       "plateP212      0             \n",
       "plateP213      0             \n",
       "plateP216      0             \n",
       "plateP217      0             \n",
       "plateP218      0             \n",
       "plateP219      0             \n",
       "plateP220      0             \n",
       "plateP221      0             \n",
       "plateP222      0             \n",
       "plateP223      0             \n",
       "plateP225      0             \n",
       "plateP301      0             \n",
       "plateP302      0             \n",
       "plateP303      0             \n",
       "plateP304      0             \n",
       "plateP305      0             \n",
       "plateP306      0             \n",
       "plateP307      0             \n",
       "plateP308      0             \n",
       "⋮             ⋮              \n",
       "plateP316     0              \n",
       "plateP317     0              \n",
       "plateP318     0              \n",
       "plateP319     0              \n",
       "plateP320     0              \n",
       "plateP321     0              \n",
       "plateP322     0              \n",
       "plateP323     0              \n",
       "plateP324     0              \n",
       "plateP325     0              \n",
       "plateP326     0              \n",
       "plateP327     0              \n",
       "plateP328     0              \n",
       "plateP329     0              \n",
       "plateP330     0              \n",
       "plateP331     0              \n",
       "plateP332     0              \n",
       "plateP333     0              \n",
       "plateP334     0              \n",
       "plateP335     0              \n",
       "plateP336     0              \n",
       "plateP337     0              \n",
       "plateP338     0              \n",
       "plateP339     0              \n",
       "plateP340     0              \n",
       "plateP341     0              \n",
       "plateP342     0              \n",
       "plateP343     0              \n",
       "usableBases   0              \n",
       "strandBalance 0              "
      ]
     },
     "metadata": {},
     "output_type": "display_data"
    }
   ],
   "source": [
    "contr.matrix"
   ]
  },
  {
   "cell_type": "markdown",
   "metadata": {},
   "source": [
    "Pre-filtering and count normalization to counts per million (CPM)"
   ]
  },
  {
   "cell_type": "code",
   "execution_count": 124,
   "metadata": {},
   "outputs": [
    {
     "data": {
      "text/html": [
       "23493"
      ],
      "text/latex": [
       "23493"
      ],
      "text/markdown": [
       "23493"
      ],
      "text/plain": [
       "[1] 23493"
      ]
     },
     "metadata": {},
     "output_type": "display_data"
    }
   ],
   "source": [
    "## normalization and filtering in limma\n",
    "keep <- filterByExpr(countsSub, group = case)\n",
    "sum(keep) #this is the number of genes we are testing for differential expression"
   ]
  },
  {
   "cell_type": "code",
   "execution_count": 125,
   "metadata": {},
   "outputs": [],
   "source": [
    "dge <- DGEList(countsSub[keep,])"
   ]
  },
  {
   "cell_type": "code",
   "execution_count": 126,
   "metadata": {},
   "outputs": [],
   "source": [
    "dge  <- calcNormFactors(dge) #normalizes, what does it do?"
   ]
  },
  {
   "cell_type": "code",
   "execution_count": 127,
   "metadata": {},
   "outputs": [],
   "source": [
    "#sample_meta_male_over_65.sub$sex <- as.factor(sample_meta_male_over_65.sub$sex)"
   ]
  },
  {
   "cell_type": "code",
   "execution_count": 128,
   "metadata": {},
   "outputs": [],
   "source": [
    "#par(mfrow=c(1,2))\n",
    "#levels(sample_meta_male_over_65.sub$sex) #what is this?\n",
    "#col.cell <- c(\"purple\",\"orange\")[sample_meta_male_over_65.sub$sex]\n",
    "#data.frame(sample_meta_male_over_65.sub$sex,col.cell)"
   ]
  },
  {
   "cell_type": "code",
   "execution_count": 129,
   "metadata": {},
   "outputs": [],
   "source": [
    "#plotMDS(dge,col=col.cell)"
   ]
  },
  {
   "cell_type": "code",
   "execution_count": 130,
   "metadata": {
    "scrolled": true
   },
   "outputs": [
    {
     "data": {
      "text/html": [
       "<style>\n",
       ".list-inline {list-style: none; margin:0; padding: 0}\n",
       ".list-inline>li {display: inline-block}\n",
       ".list-inline>li:not(:last-child)::after {content: \"\\00b7\"; padding: 0 .5ex}\n",
       "</style>\n",
       "<ol class=list-inline><li>2339889</li><li>8</li></ol>\n"
      ],
      "text/latex": [
       "\\begin{enumerate*}\n",
       "\\item 2339889\n",
       "\\item 8\n",
       "\\end{enumerate*}\n"
      ],
      "text/markdown": [
       "1. 2339889\n",
       "2. 8\n",
       "\n",
       "\n"
      ],
      "text/plain": [
       "[1] 2339889       8"
      ]
     },
     "metadata": {},
     "output_type": "display_data"
    }
   ],
   "source": [
    "#order gene list\n",
    "genes.anno.Match <- filtGenes[filtGenes$gene_id %in% sort(row.names(dge$counts)),]\n",
    "dim(genes.anno.Match)"
   ]
  },
  {
   "cell_type": "code",
   "execution_count": 131,
   "metadata": {},
   "outputs": [],
   "source": [
    "i <- match(row.names(dge$counts), genes.anno.Match$gene_id, nomatch = 0)"
   ]
  },
  {
   "cell_type": "code",
   "execution_count": 132,
   "metadata": {},
   "outputs": [],
   "source": [
    "genes.anno.Match <- genes.anno.Match[i,]"
   ]
  },
  {
   "cell_type": "code",
   "execution_count": 133,
   "metadata": {},
   "outputs": [
    {
     "data": {
      "text/html": [
       "<table class=\"dataframe\">\n",
       "<caption>A data.frame: 23493 × 8</caption>\n",
       "<thead>\n",
       "\t<tr><th></th><th scope=col>X</th><th scope=col>gene_id</th><th scope=col>gene_name</th><th scope=col>gene_type</th><th scope=col>seqname</th><th scope=col>start</th><th scope=col>end</th><th scope=col>strand</th></tr>\n",
       "\t<tr><th></th><th scope=col>&lt;int&gt;</th><th scope=col>&lt;chr&gt;</th><th scope=col>&lt;chr&gt;</th><th scope=col>&lt;chr&gt;</th><th scope=col>&lt;chr&gt;</th><th scope=col>&lt;int&gt;</th><th scope=col>&lt;int&gt;</th><th scope=col>&lt;chr&gt;</th></tr>\n",
       "</thead>\n",
       "<tbody>\n",
       "\t<tr><th scope=row>1553274</th><td>1553273</td><td>ENSG00000280143.1 </td><td>AP000892.3</td><td>TEC                 </td><td>chr11</td><td>117204967</td><td>117210292</td><td>+</td></tr>\n",
       "\t<tr><th scope=row>653470</th><td> 653469</td><td>ENSG00000263642.1 </td><td>MIR4802   </td><td>miRNA               </td><td>chr4 </td><td> 40502040</td><td> 40502119</td><td>-</td></tr>\n",
       "\t<tr><th scope=row>2018910</th><td>2018909</td><td>ENSG00000158486.13</td><td>DNAH3     </td><td>protein_coding      </td><td>chr16</td><td> 20933111</td><td> 21159441</td><td>-</td></tr>\n",
       "\t<tr><th scope=row>2157821</th><td>2157820</td><td>ENSG00000198242.13</td><td>RPL23A    </td><td>protein_coding      </td><td>chr17</td><td> 28719393</td><td> 28724359</td><td>+</td></tr>\n",
       "\t<tr><th scope=row>1767755</th><td>1767754</td><td>ENSG00000231981.3 </td><td>RPL7L1P12 </td><td>processed_pseudogene</td><td>chr13</td><td> 98949719</td><td> 98950447</td><td>-</td></tr>\n",
       "\t<tr><th scope=row>458779</th><td> 458778</td><td>ENSG00000134108.12</td><td>ARL8B     </td><td>protein_coding      </td><td>chr3 </td><td>  5122220</td><td>  5180912</td><td>+</td></tr>\n",
       "\t<tr><th scope=row>1759388</th><td>1759387</td><td>ENSG00000276644.4 </td><td>DACH1     </td><td>protein_coding      </td><td>chr13</td><td> 71437966</td><td> 71867192</td><td>-</td></tr>\n",
       "\t<tr><th scope=row>33611</th><td>  33610</td><td>ENSG00000231105.1 </td><td>AL031728.1</td><td>antisense           </td><td>chr1 </td><td> 21293290</td><td> 21299774</td><td>+</td></tr>\n",
       "\t<tr><th scope=row>2430783</th><td>2430782</td><td>ENSG00000167578.17</td><td>RAB4B     </td><td>protein_coding      </td><td>chr19</td><td> 40778216</td><td> 40796938</td><td>+</td></tr>\n",
       "\t<tr><th scope=row>2566917</th><td>2566916</td><td>ENSG00000236830.6 </td><td>CBR3-AS1  </td><td>processed_transcript</td><td>chr21</td><td> 36131767</td><td> 36175815</td><td>-</td></tr>\n",
       "\t<tr><th scope=row>1273453</th><td>1273452</td><td>ENSG00000056586.15</td><td>RC3H2     </td><td>protein_coding      </td><td>chr9 </td><td>122844556</td><td>122905341</td><td>-</td></tr>\n",
       "\t<tr><th scope=row>585931</th><td> 585930</td><td>ENSG00000070087.14</td><td>PFN2      </td><td>protein_coding      </td><td>chr3 </td><td>149964904</td><td>150050788</td><td>-</td></tr>\n",
       "\t<tr><th scope=row>845107</th><td> 845106</td><td>ENSG00000146083.11</td><td>RNF44     </td><td>protein_coding      </td><td>chr5 </td><td>176526697</td><td>176538025</td><td>-</td></tr>\n",
       "\t<tr><th scope=row>1731546</th><td>1731545</td><td>ENSG00000279700.1 </td><td>AC131212.2</td><td>TEC                 </td><td>chr12</td><td>132565071</td><td>132566425</td><td>+</td></tr>\n",
       "\t<tr><th scope=row>322203</th><td> 322202</td><td>ENSG00000153561.12</td><td>RMND5A    </td><td>protein_coding      </td><td>chr2 </td><td> 86720173</td><td> 86778041</td><td>+</td></tr>\n",
       "\t<tr><th scope=row>2372905</th><td>2372904</td><td>ENSG00000179262.9 </td><td>RAD23A    </td><td>protein_coding      </td><td>chr19</td><td> 12945855</td><td> 12953642</td><td>+</td></tr>\n",
       "\t<tr><th scope=row>2347336</th><td>2347335</td><td>ENSG00000104833.11</td><td>TUBB4A    </td><td>protein_coding      </td><td>chr19</td><td>  6494319</td><td>  6502848</td><td>-</td></tr>\n",
       "\t<tr><th scope=row>2138328</th><td>2138327</td><td>ENSG00000006695.10</td><td>COX10     </td><td>protein_coding      </td><td>chr17</td><td> 14069496</td><td> 14208677</td><td>+</td></tr>\n",
       "\t<tr><th scope=row>1375735</th><td>1375734</td><td>ENSG00000095587.8 </td><td>TLL2      </td><td>protein_coding      </td><td>chr10</td><td> 96364606</td><td> 96513918</td><td>-</td></tr>\n",
       "\t<tr><th scope=row>1208477</th><td>1208476</td><td>ENSG00000167700.8 </td><td>MFSD3     </td><td>protein_coding      </td><td>chr8 </td><td>144509074</td><td>144511213</td><td>+</td></tr>\n",
       "\t<tr><th scope=row>870448</th><td> 870447</td><td>ENSG00000187475.5 </td><td>HIST1H1T  </td><td>protein_coding      </td><td>chr6 </td><td> 26107419</td><td> 26108136</td><td>-</td></tr>\n",
       "\t<tr><th scope=row>1993478</th><td>1993477</td><td>ENSG00000008517.16</td><td>IL32      </td><td>protein_coding      </td><td>chr16</td><td>  3065297</td><td>  3082192</td><td>+</td></tr>\n",
       "\t<tr><th scope=row>2012933</th><td>2012932</td><td>ENSG00000279415.1 </td><td>AC099494.2</td><td>TEC                 </td><td>chr16</td><td> 17227023</td><td> 17228000</td><td>-</td></tr>\n",
       "\t<tr><th scope=row>2235346</th><td>2235345</td><td>ENSG00000266644.1 </td><td>AC103810.5</td><td>antisense           </td><td>chr17</td><td> 64899766</td><td> 64900716</td><td>+</td></tr>\n",
       "\t<tr><th scope=row>1366822</th><td>1366821</td><td>ENSG00000227896.2 </td><td>AL731569.1</td><td>antisense           </td><td>chr10</td><td> 86521945</td><td> 86525101</td><td>+</td></tr>\n",
       "\t<tr><th scope=row>1694450</th><td>1694449</td><td>ENSG00000171759.9 </td><td>PAH       </td><td>protein_coding      </td><td>chr12</td><td>102836885</td><td>102958410</td><td>-</td></tr>\n",
       "\t<tr><th scope=row>1437702</th><td>1437701</td><td>ENSG00000070081.16</td><td>NUCB2     </td><td>protein_coding      </td><td>chr11</td><td> 17208153</td><td> 17349980</td><td>+</td></tr>\n",
       "\t<tr><th scope=row>346735</th><td> 346734</td><td>ENSG00000088179.8 </td><td>PTPN4     </td><td>protein_coding      </td><td>chr2 </td><td>119759631</td><td>119983818</td><td>+</td></tr>\n",
       "\t<tr><th scope=row>2262716</th><td>2262715</td><td>ENSG00000275479.1 </td><td>AC087741.2</td><td>lincRNA             </td><td>chr17</td><td> 80149627</td><td> 80149798</td><td>+</td></tr>\n",
       "\t<tr><th scope=row>2539682</th><td>2539681</td><td>ENSG00000158480.10</td><td>SPATA2    </td><td>protein_coding      </td><td>chr20</td><td> 49903391</td><td> 49915508</td><td>-</td></tr>\n",
       "\t<tr><th scope=row>⋮</th><td>⋮</td><td>⋮</td><td>⋮</td><td>⋮</td><td>⋮</td><td>⋮</td><td>⋮</td><td>⋮</td></tr>\n",
       "\t<tr><th scope=row>1938800</th><td>1938799</td><td>ENSG00000166233.14</td><td>ARIH1     </td><td>protein_coding        </td><td>chr15</td><td> 72474326</td><td> 72602985</td><td>+</td></tr>\n",
       "\t<tr><th scope=row>1431012</th><td>1431011</td><td>ENSG00000268403.2 </td><td>AC132192.2</td><td>antisense             </td><td>chr11</td><td>  9459556</td><td>  9460702</td><td>-</td></tr>\n",
       "\t<tr><th scope=row>2323122</th><td>2323121</td><td>ENSG00000279474.1 </td><td>AC125437.2</td><td>TEC                   </td><td>chr18</td><td> 79144752</td><td> 79146918</td><td>+</td></tr>\n",
       "\t<tr><th scope=row>1098893</th><td>1098892</td><td>ENSG00000223459.6 </td><td>TCAF1P1   </td><td>unprocessed_pseudogene</td><td>chr7 </td><td>143598039</td><td>143604839</td><td>+</td></tr>\n",
       "\t<tr><th scope=row>323932</th><td> 323931</td><td>ENSG00000241294.1 </td><td>IGKV2-24  </td><td>IG_V_gene             </td><td>chr2 </td><td> 89176328</td><td> 89177160</td><td>-</td></tr>\n",
       "\t<tr><th scope=row>2144486</th><td>2144485</td><td>ENSG00000171953.15</td><td>ATPAF2    </td><td>protein_coding        </td><td>chr17</td><td> 17977409</td><td> 18039209</td><td>-</td></tr>\n",
       "\t<tr><th scope=row>2178812</th><td>2178811</td><td>ENSG00000186075.12</td><td>ZPBP2     </td><td>protein_coding        </td><td>chr17</td><td> 39868164</td><td> 39877896</td><td>+</td></tr>\n",
       "\t<tr><th scope=row>2382414</th><td>2382413</td><td>ENSG00000186115.12</td><td>CYP4F2    </td><td>protein_coding        </td><td>chr19</td><td> 15878023</td><td> 15898120</td><td>-</td></tr>\n",
       "\t<tr><th scope=row>2611662</th><td>2611661</td><td>ENSG00000213888.3 </td><td>LINC01521 </td><td>lincRNA               </td><td>chr22</td><td> 31346777</td><td> 31348719</td><td>+</td></tr>\n",
       "\t<tr><th scope=row>281388</th><td> 281387</td><td>ENSG00000237803.5 </td><td>LINC00211 </td><td>lincRNA               </td><td>chr2 </td><td> 37826247</td><td> 37876274</td><td>-</td></tr>\n",
       "\t<tr><th scope=row>1163850</th><td>1163849</td><td>ENSG00000260398.1 </td><td>AC068700.1</td><td>sense_overlapping     </td><td>chr8 </td><td> 78605952</td><td> 78609705</td><td>+</td></tr>\n",
       "\t<tr><th scope=row>699892</th><td> 699891</td><td>ENSG00000170522.9 </td><td>ELOVL6    </td><td>protein_coding        </td><td>chr4 </td><td>110045846</td><td>110199199</td><td>-</td></tr>\n",
       "\t<tr><th scope=row>395575</th><td> 395574</td><td>ENSG00000162999.12</td><td>DUSP19    </td><td>protein_coding        </td><td>chr2 </td><td>183078559</td><td>183100005</td><td>+</td></tr>\n",
       "\t<tr><th scope=row>2598137</th><td>2598136</td><td>ENSG00000099991.17</td><td>CABIN1    </td><td>protein_coding        </td><td>chr22</td><td> 24011192</td><td> 24178628</td><td>+</td></tr>\n",
       "\t<tr><th scope=row>2668514</th><td>2668513</td><td>ENSG00000102265.11</td><td>TIMP1     </td><td>protein_coding        </td><td>chrX </td><td> 47582313</td><td> 47586789</td><td>+</td></tr>\n",
       "\t<tr><th scope=row>2352301</th><td>2352300</td><td>ENSG00000066044.14</td><td>ELAVL1    </td><td>protein_coding        </td><td>chr19</td><td>  7958579</td><td>  8005659</td><td>-</td></tr>\n",
       "\t<tr><th scope=row>2657235</th><td>2657234</td><td>ENSG00000214124.3 </td><td>SNRPEP9   </td><td>processed_pseudogene  </td><td>chrX </td><td> 24513450</td><td> 24513687</td><td>+</td></tr>\n",
       "\t<tr><th scope=row>986082</th><td> 986081</td><td>ENSG00000146587.17</td><td>RBAK      </td><td>protein_coding        </td><td>chr7 </td><td>  5045821</td><td>  5069488</td><td>+</td></tr>\n",
       "\t<tr><th scope=row>788566</th><td> 788565</td><td>ENSG00000173930.8 </td><td>SLCO4C1   </td><td>protein_coding        </td><td>chr5 </td><td>102233986</td><td>102296549</td><td>-</td></tr>\n",
       "\t<tr><th scope=row>1322381</th><td>1322380</td><td>ENSG00000107863.17</td><td>ARHGAP21  </td><td>protein_coding        </td><td>chr10</td><td> 24583609</td><td> 24723668</td><td>-</td></tr>\n",
       "\t<tr><th scope=row>2602539</th><td>2602538</td><td>ENSG00000221760.1 </td><td>MIR548J   </td><td>miRNA                 </td><td>chr22</td><td> 26555212</td><td> 26555323</td><td>-</td></tr>\n",
       "\t<tr><th scope=row>1601271</th><td>1601270</td><td>ENSG00000213782.7 </td><td>DDX47     </td><td>protein_coding        </td><td>chr12</td><td> 12813316</td><td> 12829981</td><td>+</td></tr>\n",
       "\t<tr><th scope=row>1034500</th><td>1034499</td><td>ENSG00000146707.14</td><td>POMZP3    </td><td>protein_coding        </td><td>chr7 </td><td> 76609986</td><td> 76627261</td><td>-</td></tr>\n",
       "\t<tr><th scope=row>332690</th><td> 332689</td><td>ENSG00000158417.10</td><td>EIF5B     </td><td>protein_coding        </td><td>chr2 </td><td> 99337353</td><td> 99401326</td><td>+</td></tr>\n",
       "\t<tr><th scope=row>2504403</th><td>2504402</td><td>ENSG00000089177.18</td><td>KIF16B    </td><td>protein_coding        </td><td>chr20</td><td> 16272104</td><td> 16573434</td><td>-</td></tr>\n",
       "\t<tr><th scope=row>196710</th><td> 196709</td><td>ENSG00000203729.8 </td><td>LINC00272 </td><td>lincRNA               </td><td>chr1 </td><td>182407621</td><td>182414815</td><td>+</td></tr>\n",
       "\t<tr><th scope=row>2710500</th><td>2710499</td><td>ENSG00000009694.13</td><td>TENM1     </td><td>protein_coding        </td><td>chrX </td><td>124375903</td><td>124963817</td><td>-</td></tr>\n",
       "\t<tr><th scope=row>222746</th><td> 222745</td><td>ENSG00000123685.8 </td><td>BATF3     </td><td>protein_coding        </td><td>chr1 </td><td>212686418</td><td>212699985</td><td>-</td></tr>\n",
       "\t<tr><th scope=row>2483083</th><td>2483082</td><td>ENSG00000105063.18</td><td>PPP6R1    </td><td>protein_coding        </td><td>chr19</td><td> 55229780</td><td> 55258995</td><td>-</td></tr>\n",
       "\t<tr><th scope=row>2132170</th><td>2132169</td><td>ENSG00000178921.13</td><td>PFAS      </td><td>protein_coding        </td><td>chr17</td><td>  8247618</td><td>  8270491</td><td>+</td></tr>\n",
       "</tbody>\n",
       "</table>\n"
      ],
      "text/latex": [
       "A data.frame: 23493 × 8\n",
       "\\begin{tabular}{r|llllllll}\n",
       "  & X & gene\\_id & gene\\_name & gene\\_type & seqname & start & end & strand\\\\\n",
       "  & <int> & <chr> & <chr> & <chr> & <chr> & <int> & <int> & <chr>\\\\\n",
       "\\hline\n",
       "\t1553274 & 1553273 & ENSG00000280143.1  & AP000892.3 & TEC                  & chr11 & 117204967 & 117210292 & +\\\\\n",
       "\t653470 &  653469 & ENSG00000263642.1  & MIR4802    & miRNA                & chr4  &  40502040 &  40502119 & -\\\\\n",
       "\t2018910 & 2018909 & ENSG00000158486.13 & DNAH3      & protein\\_coding       & chr16 &  20933111 &  21159441 & -\\\\\n",
       "\t2157821 & 2157820 & ENSG00000198242.13 & RPL23A     & protein\\_coding       & chr17 &  28719393 &  28724359 & +\\\\\n",
       "\t1767755 & 1767754 & ENSG00000231981.3  & RPL7L1P12  & processed\\_pseudogene & chr13 &  98949719 &  98950447 & -\\\\\n",
       "\t458779 &  458778 & ENSG00000134108.12 & ARL8B      & protein\\_coding       & chr3  &   5122220 &   5180912 & +\\\\\n",
       "\t1759388 & 1759387 & ENSG00000276644.4  & DACH1      & protein\\_coding       & chr13 &  71437966 &  71867192 & -\\\\\n",
       "\t33611 &   33610 & ENSG00000231105.1  & AL031728.1 & antisense            & chr1  &  21293290 &  21299774 & +\\\\\n",
       "\t2430783 & 2430782 & ENSG00000167578.17 & RAB4B      & protein\\_coding       & chr19 &  40778216 &  40796938 & +\\\\\n",
       "\t2566917 & 2566916 & ENSG00000236830.6  & CBR3-AS1   & processed\\_transcript & chr21 &  36131767 &  36175815 & -\\\\\n",
       "\t1273453 & 1273452 & ENSG00000056586.15 & RC3H2      & protein\\_coding       & chr9  & 122844556 & 122905341 & -\\\\\n",
       "\t585931 &  585930 & ENSG00000070087.14 & PFN2       & protein\\_coding       & chr3  & 149964904 & 150050788 & -\\\\\n",
       "\t845107 &  845106 & ENSG00000146083.11 & RNF44      & protein\\_coding       & chr5  & 176526697 & 176538025 & -\\\\\n",
       "\t1731546 & 1731545 & ENSG00000279700.1  & AC131212.2 & TEC                  & chr12 & 132565071 & 132566425 & +\\\\\n",
       "\t322203 &  322202 & ENSG00000153561.12 & RMND5A     & protein\\_coding       & chr2  &  86720173 &  86778041 & +\\\\\n",
       "\t2372905 & 2372904 & ENSG00000179262.9  & RAD23A     & protein\\_coding       & chr19 &  12945855 &  12953642 & +\\\\\n",
       "\t2347336 & 2347335 & ENSG00000104833.11 & TUBB4A     & protein\\_coding       & chr19 &   6494319 &   6502848 & -\\\\\n",
       "\t2138328 & 2138327 & ENSG00000006695.10 & COX10      & protein\\_coding       & chr17 &  14069496 &  14208677 & +\\\\\n",
       "\t1375735 & 1375734 & ENSG00000095587.8  & TLL2       & protein\\_coding       & chr10 &  96364606 &  96513918 & -\\\\\n",
       "\t1208477 & 1208476 & ENSG00000167700.8  & MFSD3      & protein\\_coding       & chr8  & 144509074 & 144511213 & +\\\\\n",
       "\t870448 &  870447 & ENSG00000187475.5  & HIST1H1T   & protein\\_coding       & chr6  &  26107419 &  26108136 & -\\\\\n",
       "\t1993478 & 1993477 & ENSG00000008517.16 & IL32       & protein\\_coding       & chr16 &   3065297 &   3082192 & +\\\\\n",
       "\t2012933 & 2012932 & ENSG00000279415.1  & AC099494.2 & TEC                  & chr16 &  17227023 &  17228000 & -\\\\\n",
       "\t2235346 & 2235345 & ENSG00000266644.1  & AC103810.5 & antisense            & chr17 &  64899766 &  64900716 & +\\\\\n",
       "\t1366822 & 1366821 & ENSG00000227896.2  & AL731569.1 & antisense            & chr10 &  86521945 &  86525101 & +\\\\\n",
       "\t1694450 & 1694449 & ENSG00000171759.9  & PAH        & protein\\_coding       & chr12 & 102836885 & 102958410 & -\\\\\n",
       "\t1437702 & 1437701 & ENSG00000070081.16 & NUCB2      & protein\\_coding       & chr11 &  17208153 &  17349980 & +\\\\\n",
       "\t346735 &  346734 & ENSG00000088179.8  & PTPN4      & protein\\_coding       & chr2  & 119759631 & 119983818 & +\\\\\n",
       "\t2262716 & 2262715 & ENSG00000275479.1  & AC087741.2 & lincRNA              & chr17 &  80149627 &  80149798 & +\\\\\n",
       "\t2539682 & 2539681 & ENSG00000158480.10 & SPATA2     & protein\\_coding       & chr20 &  49903391 &  49915508 & -\\\\\n",
       "\t⋮ & ⋮ & ⋮ & ⋮ & ⋮ & ⋮ & ⋮ & ⋮ & ⋮\\\\\n",
       "\t1938800 & 1938799 & ENSG00000166233.14 & ARIH1      & protein\\_coding         & chr15 &  72474326 &  72602985 & +\\\\\n",
       "\t1431012 & 1431011 & ENSG00000268403.2  & AC132192.2 & antisense              & chr11 &   9459556 &   9460702 & -\\\\\n",
       "\t2323122 & 2323121 & ENSG00000279474.1  & AC125437.2 & TEC                    & chr18 &  79144752 &  79146918 & +\\\\\n",
       "\t1098893 & 1098892 & ENSG00000223459.6  & TCAF1P1    & unprocessed\\_pseudogene & chr7  & 143598039 & 143604839 & +\\\\\n",
       "\t323932 &  323931 & ENSG00000241294.1  & IGKV2-24   & IG\\_V\\_gene              & chr2  &  89176328 &  89177160 & -\\\\\n",
       "\t2144486 & 2144485 & ENSG00000171953.15 & ATPAF2     & protein\\_coding         & chr17 &  17977409 &  18039209 & -\\\\\n",
       "\t2178812 & 2178811 & ENSG00000186075.12 & ZPBP2      & protein\\_coding         & chr17 &  39868164 &  39877896 & +\\\\\n",
       "\t2382414 & 2382413 & ENSG00000186115.12 & CYP4F2     & protein\\_coding         & chr19 &  15878023 &  15898120 & -\\\\\n",
       "\t2611662 & 2611661 & ENSG00000213888.3  & LINC01521  & lincRNA                & chr22 &  31346777 &  31348719 & +\\\\\n",
       "\t281388 &  281387 & ENSG00000237803.5  & LINC00211  & lincRNA                & chr2  &  37826247 &  37876274 & -\\\\\n",
       "\t1163850 & 1163849 & ENSG00000260398.1  & AC068700.1 & sense\\_overlapping      & chr8  &  78605952 &  78609705 & +\\\\\n",
       "\t699892 &  699891 & ENSG00000170522.9  & ELOVL6     & protein\\_coding         & chr4  & 110045846 & 110199199 & -\\\\\n",
       "\t395575 &  395574 & ENSG00000162999.12 & DUSP19     & protein\\_coding         & chr2  & 183078559 & 183100005 & +\\\\\n",
       "\t2598137 & 2598136 & ENSG00000099991.17 & CABIN1     & protein\\_coding         & chr22 &  24011192 &  24178628 & +\\\\\n",
       "\t2668514 & 2668513 & ENSG00000102265.11 & TIMP1      & protein\\_coding         & chrX  &  47582313 &  47586789 & +\\\\\n",
       "\t2352301 & 2352300 & ENSG00000066044.14 & ELAVL1     & protein\\_coding         & chr19 &   7958579 &   8005659 & -\\\\\n",
       "\t2657235 & 2657234 & ENSG00000214124.3  & SNRPEP9    & processed\\_pseudogene   & chrX  &  24513450 &  24513687 & +\\\\\n",
       "\t986082 &  986081 & ENSG00000146587.17 & RBAK       & protein\\_coding         & chr7  &   5045821 &   5069488 & +\\\\\n",
       "\t788566 &  788565 & ENSG00000173930.8  & SLCO4C1    & protein\\_coding         & chr5  & 102233986 & 102296549 & -\\\\\n",
       "\t1322381 & 1322380 & ENSG00000107863.17 & ARHGAP21   & protein\\_coding         & chr10 &  24583609 &  24723668 & -\\\\\n",
       "\t2602539 & 2602538 & ENSG00000221760.1  & MIR548J    & miRNA                  & chr22 &  26555212 &  26555323 & -\\\\\n",
       "\t1601271 & 1601270 & ENSG00000213782.7  & DDX47      & protein\\_coding         & chr12 &  12813316 &  12829981 & +\\\\\n",
       "\t1034500 & 1034499 & ENSG00000146707.14 & POMZP3     & protein\\_coding         & chr7  &  76609986 &  76627261 & -\\\\\n",
       "\t332690 &  332689 & ENSG00000158417.10 & EIF5B      & protein\\_coding         & chr2  &  99337353 &  99401326 & +\\\\\n",
       "\t2504403 & 2504402 & ENSG00000089177.18 & KIF16B     & protein\\_coding         & chr20 &  16272104 &  16573434 & -\\\\\n",
       "\t196710 &  196709 & ENSG00000203729.8  & LINC00272  & lincRNA                & chr1  & 182407621 & 182414815 & +\\\\\n",
       "\t2710500 & 2710499 & ENSG00000009694.13 & TENM1      & protein\\_coding         & chrX  & 124375903 & 124963817 & -\\\\\n",
       "\t222746 &  222745 & ENSG00000123685.8  & BATF3      & protein\\_coding         & chr1  & 212686418 & 212699985 & -\\\\\n",
       "\t2483083 & 2483082 & ENSG00000105063.18 & PPP6R1     & protein\\_coding         & chr19 &  55229780 &  55258995 & -\\\\\n",
       "\t2132170 & 2132169 & ENSG00000178921.13 & PFAS       & protein\\_coding         & chr17 &   8247618 &   8270491 & +\\\\\n",
       "\\end{tabular}\n"
      ],
      "text/markdown": [
       "\n",
       "A data.frame: 23493 × 8\n",
       "\n",
       "| <!--/--> | X &lt;int&gt; | gene_id &lt;chr&gt; | gene_name &lt;chr&gt; | gene_type &lt;chr&gt; | seqname &lt;chr&gt; | start &lt;int&gt; | end &lt;int&gt; | strand &lt;chr&gt; |\n",
       "|---|---|---|---|---|---|---|---|---|\n",
       "| 1553274 | 1553273 | ENSG00000280143.1  | AP000892.3 | TEC                  | chr11 | 117204967 | 117210292 | + |\n",
       "| 653470 |  653469 | ENSG00000263642.1  | MIR4802    | miRNA                | chr4  |  40502040 |  40502119 | - |\n",
       "| 2018910 | 2018909 | ENSG00000158486.13 | DNAH3      | protein_coding       | chr16 |  20933111 |  21159441 | - |\n",
       "| 2157821 | 2157820 | ENSG00000198242.13 | RPL23A     | protein_coding       | chr17 |  28719393 |  28724359 | + |\n",
       "| 1767755 | 1767754 | ENSG00000231981.3  | RPL7L1P12  | processed_pseudogene | chr13 |  98949719 |  98950447 | - |\n",
       "| 458779 |  458778 | ENSG00000134108.12 | ARL8B      | protein_coding       | chr3  |   5122220 |   5180912 | + |\n",
       "| 1759388 | 1759387 | ENSG00000276644.4  | DACH1      | protein_coding       | chr13 |  71437966 |  71867192 | - |\n",
       "| 33611 |   33610 | ENSG00000231105.1  | AL031728.1 | antisense            | chr1  |  21293290 |  21299774 | + |\n",
       "| 2430783 | 2430782 | ENSG00000167578.17 | RAB4B      | protein_coding       | chr19 |  40778216 |  40796938 | + |\n",
       "| 2566917 | 2566916 | ENSG00000236830.6  | CBR3-AS1   | processed_transcript | chr21 |  36131767 |  36175815 | - |\n",
       "| 1273453 | 1273452 | ENSG00000056586.15 | RC3H2      | protein_coding       | chr9  | 122844556 | 122905341 | - |\n",
       "| 585931 |  585930 | ENSG00000070087.14 | PFN2       | protein_coding       | chr3  | 149964904 | 150050788 | - |\n",
       "| 845107 |  845106 | ENSG00000146083.11 | RNF44      | protein_coding       | chr5  | 176526697 | 176538025 | - |\n",
       "| 1731546 | 1731545 | ENSG00000279700.1  | AC131212.2 | TEC                  | chr12 | 132565071 | 132566425 | + |\n",
       "| 322203 |  322202 | ENSG00000153561.12 | RMND5A     | protein_coding       | chr2  |  86720173 |  86778041 | + |\n",
       "| 2372905 | 2372904 | ENSG00000179262.9  | RAD23A     | protein_coding       | chr19 |  12945855 |  12953642 | + |\n",
       "| 2347336 | 2347335 | ENSG00000104833.11 | TUBB4A     | protein_coding       | chr19 |   6494319 |   6502848 | - |\n",
       "| 2138328 | 2138327 | ENSG00000006695.10 | COX10      | protein_coding       | chr17 |  14069496 |  14208677 | + |\n",
       "| 1375735 | 1375734 | ENSG00000095587.8  | TLL2       | protein_coding       | chr10 |  96364606 |  96513918 | - |\n",
       "| 1208477 | 1208476 | ENSG00000167700.8  | MFSD3      | protein_coding       | chr8  | 144509074 | 144511213 | + |\n",
       "| 870448 |  870447 | ENSG00000187475.5  | HIST1H1T   | protein_coding       | chr6  |  26107419 |  26108136 | - |\n",
       "| 1993478 | 1993477 | ENSG00000008517.16 | IL32       | protein_coding       | chr16 |   3065297 |   3082192 | + |\n",
       "| 2012933 | 2012932 | ENSG00000279415.1  | AC099494.2 | TEC                  | chr16 |  17227023 |  17228000 | - |\n",
       "| 2235346 | 2235345 | ENSG00000266644.1  | AC103810.5 | antisense            | chr17 |  64899766 |  64900716 | + |\n",
       "| 1366822 | 1366821 | ENSG00000227896.2  | AL731569.1 | antisense            | chr10 |  86521945 |  86525101 | + |\n",
       "| 1694450 | 1694449 | ENSG00000171759.9  | PAH        | protein_coding       | chr12 | 102836885 | 102958410 | - |\n",
       "| 1437702 | 1437701 | ENSG00000070081.16 | NUCB2      | protein_coding       | chr11 |  17208153 |  17349980 | + |\n",
       "| 346735 |  346734 | ENSG00000088179.8  | PTPN4      | protein_coding       | chr2  | 119759631 | 119983818 | + |\n",
       "| 2262716 | 2262715 | ENSG00000275479.1  | AC087741.2 | lincRNA              | chr17 |  80149627 |  80149798 | + |\n",
       "| 2539682 | 2539681 | ENSG00000158480.10 | SPATA2     | protein_coding       | chr20 |  49903391 |  49915508 | - |\n",
       "| ⋮ | ⋮ | ⋮ | ⋮ | ⋮ | ⋮ | ⋮ | ⋮ | ⋮ |\n",
       "| 1938800 | 1938799 | ENSG00000166233.14 | ARIH1      | protein_coding         | chr15 |  72474326 |  72602985 | + |\n",
       "| 1431012 | 1431011 | ENSG00000268403.2  | AC132192.2 | antisense              | chr11 |   9459556 |   9460702 | - |\n",
       "| 2323122 | 2323121 | ENSG00000279474.1  | AC125437.2 | TEC                    | chr18 |  79144752 |  79146918 | + |\n",
       "| 1098893 | 1098892 | ENSG00000223459.6  | TCAF1P1    | unprocessed_pseudogene | chr7  | 143598039 | 143604839 | + |\n",
       "| 323932 |  323931 | ENSG00000241294.1  | IGKV2-24   | IG_V_gene              | chr2  |  89176328 |  89177160 | - |\n",
       "| 2144486 | 2144485 | ENSG00000171953.15 | ATPAF2     | protein_coding         | chr17 |  17977409 |  18039209 | - |\n",
       "| 2178812 | 2178811 | ENSG00000186075.12 | ZPBP2      | protein_coding         | chr17 |  39868164 |  39877896 | + |\n",
       "| 2382414 | 2382413 | ENSG00000186115.12 | CYP4F2     | protein_coding         | chr19 |  15878023 |  15898120 | - |\n",
       "| 2611662 | 2611661 | ENSG00000213888.3  | LINC01521  | lincRNA                | chr22 |  31346777 |  31348719 | + |\n",
       "| 281388 |  281387 | ENSG00000237803.5  | LINC00211  | lincRNA                | chr2  |  37826247 |  37876274 | - |\n",
       "| 1163850 | 1163849 | ENSG00000260398.1  | AC068700.1 | sense_overlapping      | chr8  |  78605952 |  78609705 | + |\n",
       "| 699892 |  699891 | ENSG00000170522.9  | ELOVL6     | protein_coding         | chr4  | 110045846 | 110199199 | - |\n",
       "| 395575 |  395574 | ENSG00000162999.12 | DUSP19     | protein_coding         | chr2  | 183078559 | 183100005 | + |\n",
       "| 2598137 | 2598136 | ENSG00000099991.17 | CABIN1     | protein_coding         | chr22 |  24011192 |  24178628 | + |\n",
       "| 2668514 | 2668513 | ENSG00000102265.11 | TIMP1      | protein_coding         | chrX  |  47582313 |  47586789 | + |\n",
       "| 2352301 | 2352300 | ENSG00000066044.14 | ELAVL1     | protein_coding         | chr19 |   7958579 |   8005659 | - |\n",
       "| 2657235 | 2657234 | ENSG00000214124.3  | SNRPEP9    | processed_pseudogene   | chrX  |  24513450 |  24513687 | + |\n",
       "| 986082 |  986081 | ENSG00000146587.17 | RBAK       | protein_coding         | chr7  |   5045821 |   5069488 | + |\n",
       "| 788566 |  788565 | ENSG00000173930.8  | SLCO4C1    | protein_coding         | chr5  | 102233986 | 102296549 | - |\n",
       "| 1322381 | 1322380 | ENSG00000107863.17 | ARHGAP21   | protein_coding         | chr10 |  24583609 |  24723668 | - |\n",
       "| 2602539 | 2602538 | ENSG00000221760.1  | MIR548J    | miRNA                  | chr22 |  26555212 |  26555323 | - |\n",
       "| 1601271 | 1601270 | ENSG00000213782.7  | DDX47      | protein_coding         | chr12 |  12813316 |  12829981 | + |\n",
       "| 1034500 | 1034499 | ENSG00000146707.14 | POMZP3     | protein_coding         | chr7  |  76609986 |  76627261 | - |\n",
       "| 332690 |  332689 | ENSG00000158417.10 | EIF5B      | protein_coding         | chr2  |  99337353 |  99401326 | + |\n",
       "| 2504403 | 2504402 | ENSG00000089177.18 | KIF16B     | protein_coding         | chr20 |  16272104 |  16573434 | - |\n",
       "| 196710 |  196709 | ENSG00000203729.8  | LINC00272  | lincRNA                | chr1  | 182407621 | 182414815 | + |\n",
       "| 2710500 | 2710499 | ENSG00000009694.13 | TENM1      | protein_coding         | chrX  | 124375903 | 124963817 | - |\n",
       "| 222746 |  222745 | ENSG00000123685.8  | BATF3      | protein_coding         | chr1  | 212686418 | 212699985 | - |\n",
       "| 2483083 | 2483082 | ENSG00000105063.18 | PPP6R1     | protein_coding         | chr19 |  55229780 |  55258995 | - |\n",
       "| 2132170 | 2132169 | ENSG00000178921.13 | PFAS       | protein_coding         | chr17 |   8247618 |   8270491 | + |\n",
       "\n"
      ],
      "text/plain": [
       "        X       gene_id            gene_name  gene_type              seqname\n",
       "1553274 1553273 ENSG00000280143.1  AP000892.3 TEC                    chr11  \n",
       "653470   653469 ENSG00000263642.1  MIR4802    miRNA                  chr4   \n",
       "2018910 2018909 ENSG00000158486.13 DNAH3      protein_coding         chr16  \n",
       "2157821 2157820 ENSG00000198242.13 RPL23A     protein_coding         chr17  \n",
       "1767755 1767754 ENSG00000231981.3  RPL7L1P12  processed_pseudogene   chr13  \n",
       "458779   458778 ENSG00000134108.12 ARL8B      protein_coding         chr3   \n",
       "1759388 1759387 ENSG00000276644.4  DACH1      protein_coding         chr13  \n",
       "33611     33610 ENSG00000231105.1  AL031728.1 antisense              chr1   \n",
       "2430783 2430782 ENSG00000167578.17 RAB4B      protein_coding         chr19  \n",
       "2566917 2566916 ENSG00000236830.6  CBR3-AS1   processed_transcript   chr21  \n",
       "1273453 1273452 ENSG00000056586.15 RC3H2      protein_coding         chr9   \n",
       "585931   585930 ENSG00000070087.14 PFN2       protein_coding         chr3   \n",
       "845107   845106 ENSG00000146083.11 RNF44      protein_coding         chr5   \n",
       "1731546 1731545 ENSG00000279700.1  AC131212.2 TEC                    chr12  \n",
       "322203   322202 ENSG00000153561.12 RMND5A     protein_coding         chr2   \n",
       "2372905 2372904 ENSG00000179262.9  RAD23A     protein_coding         chr19  \n",
       "2347336 2347335 ENSG00000104833.11 TUBB4A     protein_coding         chr19  \n",
       "2138328 2138327 ENSG00000006695.10 COX10      protein_coding         chr17  \n",
       "1375735 1375734 ENSG00000095587.8  TLL2       protein_coding         chr10  \n",
       "1208477 1208476 ENSG00000167700.8  MFSD3      protein_coding         chr8   \n",
       "870448   870447 ENSG00000187475.5  HIST1H1T   protein_coding         chr6   \n",
       "1993478 1993477 ENSG00000008517.16 IL32       protein_coding         chr16  \n",
       "2012933 2012932 ENSG00000279415.1  AC099494.2 TEC                    chr16  \n",
       "2235346 2235345 ENSG00000266644.1  AC103810.5 antisense              chr17  \n",
       "1366822 1366821 ENSG00000227896.2  AL731569.1 antisense              chr10  \n",
       "1694450 1694449 ENSG00000171759.9  PAH        protein_coding         chr12  \n",
       "1437702 1437701 ENSG00000070081.16 NUCB2      protein_coding         chr11  \n",
       "346735   346734 ENSG00000088179.8  PTPN4      protein_coding         chr2   \n",
       "2262716 2262715 ENSG00000275479.1  AC087741.2 lincRNA                chr17  \n",
       "2539682 2539681 ENSG00000158480.10 SPATA2     protein_coding         chr20  \n",
       "⋮       ⋮       ⋮                  ⋮          ⋮                      ⋮      \n",
       "1938800 1938799 ENSG00000166233.14 ARIH1      protein_coding         chr15  \n",
       "1431012 1431011 ENSG00000268403.2  AC132192.2 antisense              chr11  \n",
       "2323122 2323121 ENSG00000279474.1  AC125437.2 TEC                    chr18  \n",
       "1098893 1098892 ENSG00000223459.6  TCAF1P1    unprocessed_pseudogene chr7   \n",
       "323932   323931 ENSG00000241294.1  IGKV2-24   IG_V_gene              chr2   \n",
       "2144486 2144485 ENSG00000171953.15 ATPAF2     protein_coding         chr17  \n",
       "2178812 2178811 ENSG00000186075.12 ZPBP2      protein_coding         chr17  \n",
       "2382414 2382413 ENSG00000186115.12 CYP4F2     protein_coding         chr19  \n",
       "2611662 2611661 ENSG00000213888.3  LINC01521  lincRNA                chr22  \n",
       "281388   281387 ENSG00000237803.5  LINC00211  lincRNA                chr2   \n",
       "1163850 1163849 ENSG00000260398.1  AC068700.1 sense_overlapping      chr8   \n",
       "699892   699891 ENSG00000170522.9  ELOVL6     protein_coding         chr4   \n",
       "395575   395574 ENSG00000162999.12 DUSP19     protein_coding         chr2   \n",
       "2598137 2598136 ENSG00000099991.17 CABIN1     protein_coding         chr22  \n",
       "2668514 2668513 ENSG00000102265.11 TIMP1      protein_coding         chrX   \n",
       "2352301 2352300 ENSG00000066044.14 ELAVL1     protein_coding         chr19  \n",
       "2657235 2657234 ENSG00000214124.3  SNRPEP9    processed_pseudogene   chrX   \n",
       "986082   986081 ENSG00000146587.17 RBAK       protein_coding         chr7   \n",
       "788566   788565 ENSG00000173930.8  SLCO4C1    protein_coding         chr5   \n",
       "1322381 1322380 ENSG00000107863.17 ARHGAP21   protein_coding         chr10  \n",
       "2602539 2602538 ENSG00000221760.1  MIR548J    miRNA                  chr22  \n",
       "1601271 1601270 ENSG00000213782.7  DDX47      protein_coding         chr12  \n",
       "1034500 1034499 ENSG00000146707.14 POMZP3     protein_coding         chr7   \n",
       "332690   332689 ENSG00000158417.10 EIF5B      protein_coding         chr2   \n",
       "2504403 2504402 ENSG00000089177.18 KIF16B     protein_coding         chr20  \n",
       "196710   196709 ENSG00000203729.8  LINC00272  lincRNA                chr1   \n",
       "2710500 2710499 ENSG00000009694.13 TENM1      protein_coding         chrX   \n",
       "222746   222745 ENSG00000123685.8  BATF3      protein_coding         chr1   \n",
       "2483083 2483082 ENSG00000105063.18 PPP6R1     protein_coding         chr19  \n",
       "2132170 2132169 ENSG00000178921.13 PFAS       protein_coding         chr17  \n",
       "        start     end       strand\n",
       "1553274 117204967 117210292 +     \n",
       "653470   40502040  40502119 -     \n",
       "2018910  20933111  21159441 -     \n",
       "2157821  28719393  28724359 +     \n",
       "1767755  98949719  98950447 -     \n",
       "458779    5122220   5180912 +     \n",
       "1759388  71437966  71867192 -     \n",
       "33611    21293290  21299774 +     \n",
       "2430783  40778216  40796938 +     \n",
       "2566917  36131767  36175815 -     \n",
       "1273453 122844556 122905341 -     \n",
       "585931  149964904 150050788 -     \n",
       "845107  176526697 176538025 -     \n",
       "1731546 132565071 132566425 +     \n",
       "322203   86720173  86778041 +     \n",
       "2372905  12945855  12953642 +     \n",
       "2347336   6494319   6502848 -     \n",
       "2138328  14069496  14208677 +     \n",
       "1375735  96364606  96513918 -     \n",
       "1208477 144509074 144511213 +     \n",
       "870448   26107419  26108136 -     \n",
       "1993478   3065297   3082192 +     \n",
       "2012933  17227023  17228000 -     \n",
       "2235346  64899766  64900716 +     \n",
       "1366822  86521945  86525101 +     \n",
       "1694450 102836885 102958410 -     \n",
       "1437702  17208153  17349980 +     \n",
       "346735  119759631 119983818 +     \n",
       "2262716  80149627  80149798 +     \n",
       "2539682  49903391  49915508 -     \n",
       "⋮       ⋮         ⋮         ⋮     \n",
       "1938800  72474326  72602985 +     \n",
       "1431012   9459556   9460702 -     \n",
       "2323122  79144752  79146918 +     \n",
       "1098893 143598039 143604839 +     \n",
       "323932   89176328  89177160 -     \n",
       "2144486  17977409  18039209 -     \n",
       "2178812  39868164  39877896 +     \n",
       "2382414  15878023  15898120 -     \n",
       "2611662  31346777  31348719 +     \n",
       "281388   37826247  37876274 -     \n",
       "1163850  78605952  78609705 +     \n",
       "699892  110045846 110199199 -     \n",
       "395575  183078559 183100005 +     \n",
       "2598137  24011192  24178628 +     \n",
       "2668514  47582313  47586789 +     \n",
       "2352301   7958579   8005659 -     \n",
       "2657235  24513450  24513687 +     \n",
       "986082    5045821   5069488 +     \n",
       "788566  102233986 102296549 -     \n",
       "1322381  24583609  24723668 -     \n",
       "2602539  26555212  26555323 -     \n",
       "1601271  12813316  12829981 +     \n",
       "1034500  76609986  76627261 -     \n",
       "332690   99337353  99401326 +     \n",
       "2504403  16272104  16573434 -     \n",
       "196710  182407621 182414815 +     \n",
       "2710500 124375903 124963817 -     \n",
       "222746  212686418 212699985 -     \n",
       "2483083  55229780  55258995 -     \n",
       "2132170   8247618   8270491 +     "
      ]
     },
     "metadata": {},
     "output_type": "display_data"
    }
   ],
   "source": [
    "genes.anno.Match"
   ]
  },
  {
   "cell_type": "code",
   "execution_count": 87,
   "metadata": {
    "scrolled": true
   },
   "outputs": [
    {
     "data": {
      "text/html": [
       "TRUE"
      ],
      "text/latex": [
       "TRUE"
      ],
      "text/markdown": [
       "TRUE"
      ],
      "text/plain": [
       "[1] TRUE"
      ]
     },
     "metadata": {},
     "output_type": "display_data"
    }
   ],
   "source": [
    "identical(genes.anno.Match$gene_id, row.names(dge$counts)) #double checking"
   ]
  },
  {
   "cell_type": "code",
   "execution_count": 88,
   "metadata": {},
   "outputs": [],
   "source": [
    "dge$genes <- genes.anno.Match"
   ]
  },
  {
   "cell_type": "code",
   "execution_count": 89,
   "metadata": {},
   "outputs": [
    {
     "data": {
      "text/html": [
       "<style>\n",
       ".list-inline {list-style: none; margin:0; padding: 0}\n",
       ".list-inline>li {display: inline-block}\n",
       ".list-inline>li:not(:last-child)::after {content: \"\\00b7\"; padding: 0 .5ex}\n",
       "</style>\n",
       "<ol class=list-inline><li>23493</li><li>197</li></ol>\n"
      ],
      "text/latex": [
       "\\begin{enumerate*}\n",
       "\\item 23493\n",
       "\\item 197\n",
       "\\end{enumerate*}\n"
      ],
      "text/markdown": [
       "1. 23493\n",
       "2. 197\n",
       "\n",
       "\n"
      ],
      "text/plain": [
       "[1] 23493   197"
      ]
     },
     "metadata": {},
     "output_type": "display_data"
    }
   ],
   "source": [
    "dim(dge) #where rows are the samples"
   ]
  },
  {
   "cell_type": "code",
   "execution_count": 134,
   "metadata": {},
   "outputs": [],
   "source": [
    "CPM <- cpm(dge) #used to calculate counts per million (CPM) values for a matrix or data frame of\n",
    "#normalized counts. CPM values are commonly used to normalize and compare gene expression levels across different samples."
   ]
  },
  {
   "cell_type": "code",
   "execution_count": 135,
   "metadata": {},
   "outputs": [],
   "source": [
    "logCPM <- cpm(dge, log = TRUE, prior.count = 3)"
   ]
  },
  {
   "cell_type": "code",
   "execution_count": 136,
   "metadata": {},
   "outputs": [
    {
     "data": {
      "text/html": [
       "<table class=\"dataframe\">\n",
       "<caption>A matrix: 5 × 5 of type chr</caption>\n",
       "<thead>\n",
       "\t<tr><th></th><th scope=col>gene_name</th><th scope=col>BF-1032-SVM0_5T1</th><th scope=col>BF-1044-SVM0_5T1</th><th scope=col>BF-1045-SVM0_5T1</th><th scope=col>BF-1051-SVM0_5T1</th></tr>\n",
       "</thead>\n",
       "<tbody>\n",
       "\t<tr><th scope=row>ENSG00000280143.1</th><td>AP000892.3</td><td>0.202363877216088</td><td>0.177996774242548 </td><td>0.101737260150988</td><td>0.342571191453697</td></tr>\n",
       "\t<tr><th scope=row>ENSG00000263642.1</th><td>MIR4802   </td><td>1.8212748949448  </td><td>0.45770599090941  </td><td>0.813898081207903</td><td>0.570951985756162</td></tr>\n",
       "\t<tr><th scope=row>ENSG00000158486.13</th><td>DNAH3     </td><td>0                </td><td>0.0762843318182351</td><td>0                </td><td>0                </td></tr>\n",
       "\t<tr><th scope=row>ENSG00000198242.13</th><td>RPL23A    </td><td>346.514412419682 </td><td>634.100794183776  </td><td>486.609315302175 </td><td>498.288829702261 </td></tr>\n",
       "\t<tr><th scope=row>ENSG00000231981.3</th><td>RPL7L1P12 </td><td>1.21418326329653 </td><td>0.559418433333724 </td><td>0.356080410528458</td><td>1.06577704007817 </td></tr>\n",
       "</tbody>\n",
       "</table>\n"
      ],
      "text/latex": [
       "A matrix: 5 × 5 of type chr\n",
       "\\begin{tabular}{r|lllll}\n",
       "  & gene\\_name & BF-1032-SVM0\\_5T1 & BF-1044-SVM0\\_5T1 & BF-1045-SVM0\\_5T1 & BF-1051-SVM0\\_5T1\\\\\n",
       "\\hline\n",
       "\tENSG00000280143.1 & AP000892.3 & 0.202363877216088 & 0.177996774242548  & 0.101737260150988 & 0.342571191453697\\\\\n",
       "\tENSG00000263642.1 & MIR4802    & 1.8212748949448   & 0.45770599090941   & 0.813898081207903 & 0.570951985756162\\\\\n",
       "\tENSG00000158486.13 & DNAH3      & 0                 & 0.0762843318182351 & 0                 & 0                \\\\\n",
       "\tENSG00000198242.13 & RPL23A     & 346.514412419682  & 634.100794183776   & 486.609315302175  & 498.288829702261 \\\\\n",
       "\tENSG00000231981.3 & RPL7L1P12  & 1.21418326329653  & 0.559418433333724  & 0.356080410528458 & 1.06577704007817 \\\\\n",
       "\\end{tabular}\n"
      ],
      "text/markdown": [
       "\n",
       "A matrix: 5 × 5 of type chr\n",
       "\n",
       "| <!--/--> | gene_name | BF-1032-SVM0_5T1 | BF-1044-SVM0_5T1 | BF-1045-SVM0_5T1 | BF-1051-SVM0_5T1 |\n",
       "|---|---|---|---|---|---|\n",
       "| ENSG00000280143.1 | AP000892.3 | 0.202363877216088 | 0.177996774242548  | 0.101737260150988 | 0.342571191453697 |\n",
       "| ENSG00000263642.1 | MIR4802    | 1.8212748949448   | 0.45770599090941   | 0.813898081207903 | 0.570951985756162 |\n",
       "| ENSG00000158486.13 | DNAH3      | 0                 | 0.0762843318182351 | 0                 | 0                 |\n",
       "| ENSG00000198242.13 | RPL23A     | 346.514412419682  | 634.100794183776   | 486.609315302175  | 498.288829702261  |\n",
       "| ENSG00000231981.3 | RPL7L1P12  | 1.21418326329653  | 0.559418433333724  | 0.356080410528458 | 1.06577704007817  |\n",
       "\n"
      ],
      "text/plain": [
       "                   gene_name  BF-1032-SVM0_5T1  BF-1044-SVM0_5T1  \n",
       "ENSG00000280143.1  AP000892.3 0.202363877216088 0.177996774242548 \n",
       "ENSG00000263642.1  MIR4802    1.8212748949448   0.45770599090941  \n",
       "ENSG00000158486.13 DNAH3      0                 0.0762843318182351\n",
       "ENSG00000198242.13 RPL23A     346.514412419682  634.100794183776  \n",
       "ENSG00000231981.3  RPL7L1P12  1.21418326329653  0.559418433333724 \n",
       "                   BF-1045-SVM0_5T1  BF-1051-SVM0_5T1 \n",
       "ENSG00000280143.1  0.101737260150988 0.342571191453697\n",
       "ENSG00000263642.1  0.813898081207903 0.570951985756162\n",
       "ENSG00000158486.13 0                 0                \n",
       "ENSG00000198242.13 486.609315302175  498.288829702261 \n",
       "ENSG00000231981.3  0.356080410528458 1.06577704007817 "
      ]
     },
     "metadata": {},
     "output_type": "display_data"
    }
   ],
   "source": [
    "cpm_names <- cbind(gene_name=genes.anno.Match$gene_name, CPM) #it was binded the gene name from gene anno and the cpm matrix from\n",
    "#the count_table matrix. \n",
    "head(cpm_names)[1:5,1:5] #when CPM ==0?"
   ]
  },
  {
   "cell_type": "code",
   "execution_count": 137,
   "metadata": {},
   "outputs": [
    {
     "data": {
      "text/html": [
       "<style>\n",
       ".list-inline {list-style: none; margin:0; padding: 0}\n",
       ".list-inline>li {display: inline-block}\n",
       ".list-inline>li:not(:last-child)::after {content: \"\\00b7\"; padding: 0 .5ex}\n",
       "</style>\n",
       "<ol class=list-inline><li>23493</li><li>198</li></ol>\n"
      ],
      "text/latex": [
       "\\begin{enumerate*}\n",
       "\\item 23493\n",
       "\\item 198\n",
       "\\end{enumerate*}\n"
      ],
      "text/markdown": [
       "1. 23493\n",
       "2. 198\n",
       "\n",
       "\n"
      ],
      "text/plain": [
       "[1] 23493   198"
      ]
     },
     "metadata": {},
     "output_type": "display_data"
    }
   ],
   "source": [
    "dim(cpm_names) #just one column more: gene_name"
   ]
  },
  {
   "cell_type": "code",
   "execution_count": 138,
   "metadata": {},
   "outputs": [
    {
     "data": {
      "text/html": [
       "<table class=\"dataframe\">\n",
       "<caption>A data.frame: 5 × 5</caption>\n",
       "<thead>\n",
       "\t<tr><th></th><th scope=col>gene_name</th><th scope=col>BF-1032-SVM0_5T1</th><th scope=col>BF-1044-SVM0_5T1</th><th scope=col>BF-1045-SVM0_5T1</th><th scope=col>BF-1051-SVM0_5T1</th></tr>\n",
       "\t<tr><th></th><th scope=col>&lt;chr&gt;</th><th scope=col>&lt;chr&gt;</th><th scope=col>&lt;chr&gt;</th><th scope=col>&lt;chr&gt;</th><th scope=col>&lt;chr&gt;</th></tr>\n",
       "</thead>\n",
       "<tbody>\n",
       "\t<tr><th scope=row>ENSG00000280143.1</th><td>AP000892.3</td><td>0.202363877216088</td><td>0.177996774242548 </td><td>0.101737260150988</td><td>0.342571191453697</td></tr>\n",
       "\t<tr><th scope=row>ENSG00000263642.1</th><td>MIR4802   </td><td>1.8212748949448  </td><td>0.45770599090941  </td><td>0.813898081207903</td><td>0.570951985756162</td></tr>\n",
       "\t<tr><th scope=row>ENSG00000158486.13</th><td>DNAH3     </td><td>0                </td><td>0.0762843318182351</td><td>0                </td><td>0                </td></tr>\n",
       "\t<tr><th scope=row>ENSG00000198242.13</th><td>RPL23A    </td><td>346.514412419682 </td><td>634.100794183776  </td><td>486.609315302175 </td><td>498.288829702261 </td></tr>\n",
       "\t<tr><th scope=row>ENSG00000231981.3</th><td>RPL7L1P12 </td><td>1.21418326329653 </td><td>0.559418433333724 </td><td>0.356080410528458</td><td>1.06577704007817 </td></tr>\n",
       "</tbody>\n",
       "</table>\n"
      ],
      "text/latex": [
       "A data.frame: 5 × 5\n",
       "\\begin{tabular}{r|lllll}\n",
       "  & gene\\_name & BF-1032-SVM0\\_5T1 & BF-1044-SVM0\\_5T1 & BF-1045-SVM0\\_5T1 & BF-1051-SVM0\\_5T1\\\\\n",
       "  & <chr> & <chr> & <chr> & <chr> & <chr>\\\\\n",
       "\\hline\n",
       "\tENSG00000280143.1 & AP000892.3 & 0.202363877216088 & 0.177996774242548  & 0.101737260150988 & 0.342571191453697\\\\\n",
       "\tENSG00000263642.1 & MIR4802    & 1.8212748949448   & 0.45770599090941   & 0.813898081207903 & 0.570951985756162\\\\\n",
       "\tENSG00000158486.13 & DNAH3      & 0                 & 0.0762843318182351 & 0                 & 0                \\\\\n",
       "\tENSG00000198242.13 & RPL23A     & 346.514412419682  & 634.100794183776   & 486.609315302175  & 498.288829702261 \\\\\n",
       "\tENSG00000231981.3 & RPL7L1P12  & 1.21418326329653  & 0.559418433333724  & 0.356080410528458 & 1.06577704007817 \\\\\n",
       "\\end{tabular}\n"
      ],
      "text/markdown": [
       "\n",
       "A data.frame: 5 × 5\n",
       "\n",
       "| <!--/--> | gene_name &lt;chr&gt; | BF-1032-SVM0_5T1 &lt;chr&gt; | BF-1044-SVM0_5T1 &lt;chr&gt; | BF-1045-SVM0_5T1 &lt;chr&gt; | BF-1051-SVM0_5T1 &lt;chr&gt; |\n",
       "|---|---|---|---|---|---|\n",
       "| ENSG00000280143.1 | AP000892.3 | 0.202363877216088 | 0.177996774242548  | 0.101737260150988 | 0.342571191453697 |\n",
       "| ENSG00000263642.1 | MIR4802    | 1.8212748949448   | 0.45770599090941   | 0.813898081207903 | 0.570951985756162 |\n",
       "| ENSG00000158486.13 | DNAH3      | 0                 | 0.0762843318182351 | 0                 | 0                 |\n",
       "| ENSG00000198242.13 | RPL23A     | 346.514412419682  | 634.100794183776   | 486.609315302175  | 498.288829702261  |\n",
       "| ENSG00000231981.3 | RPL7L1P12  | 1.21418326329653  | 0.559418433333724  | 0.356080410528458 | 1.06577704007817  |\n",
       "\n"
      ],
      "text/plain": [
       "                   gene_name  BF-1032-SVM0_5T1  BF-1044-SVM0_5T1  \n",
       "ENSG00000280143.1  AP000892.3 0.202363877216088 0.177996774242548 \n",
       "ENSG00000263642.1  MIR4802    1.8212748949448   0.45770599090941  \n",
       "ENSG00000158486.13 DNAH3      0                 0.0762843318182351\n",
       "ENSG00000198242.13 RPL23A     346.514412419682  634.100794183776  \n",
       "ENSG00000231981.3  RPL7L1P12  1.21418326329653  0.559418433333724 \n",
       "                   BF-1045-SVM0_5T1  BF-1051-SVM0_5T1 \n",
       "ENSG00000280143.1  0.101737260150988 0.342571191453697\n",
       "ENSG00000263642.1  0.813898081207903 0.570951985756162\n",
       "ENSG00000158486.13 0                 0                \n",
       "ENSG00000198242.13 486.609315302175  498.288829702261 \n",
       "ENSG00000231981.3  0.356080410528458 1.06577704007817 "
      ]
     },
     "metadata": {},
     "output_type": "display_data"
    },
    {
     "data": {
      "text/html": [
       "<style>\n",
       ".list-inline {list-style: none; margin:0; padding: 0}\n",
       ".list-inline>li {display: inline-block}\n",
       ".list-inline>li:not(:last-child)::after {content: \"\\00b7\"; padding: 0 .5ex}\n",
       "</style>\n",
       "<ol class=list-inline><li>23493</li><li>198</li></ol>\n"
      ],
      "text/latex": [
       "\\begin{enumerate*}\n",
       "\\item 23493\n",
       "\\item 198\n",
       "\\end{enumerate*}\n"
      ],
      "text/markdown": [
       "1. 23493\n",
       "2. 198\n",
       "\n",
       "\n"
      ],
      "text/plain": [
       "[1] 23493   198"
      ]
     },
     "metadata": {},
     "output_type": "display_data"
    },
    {
     "data": {
      "text/html": [
       "<style>\n",
       ".list-inline {list-style: none; margin:0; padding: 0}\n",
       ".list-inline>li {display: inline-block}\n",
       ".list-inline>li:not(:last-child)::after {content: \"\\00b7\"; padding: 0 .5ex}\n",
       "</style>\n",
       "<ol class=list-inline><li>23314</li><li>198</li></ol>\n"
      ],
      "text/latex": [
       "\\begin{enumerate*}\n",
       "\\item 23314\n",
       "\\item 198\n",
       "\\end{enumerate*}\n"
      ],
      "text/markdown": [
       "1. 23314\n",
       "2. 198\n",
       "\n",
       "\n"
      ],
      "text/plain": [
       "[1] 23314   198"
      ]
     },
     "metadata": {},
     "output_type": "display_data"
    }
   ],
   "source": [
    "cpm_names_dist <- distinct(as.data.frame(cpm_names), gene_name, .keep_all = TRUE)\n",
    "head(cpm_names_dist)[1:5,1:5]\n",
    "dim(cpm_names)\n",
    "dim(cpm_names_dist)"
   ]
  },
  {
   "cell_type": "markdown",
   "metadata": {},
   "source": [
    "Limma voom, fit, and eBayes"
   ]
  },
  {
   "cell_type": "code",
   "execution_count": 139,
   "metadata": {
    "scrolled": false
   },
   "outputs": [
    {
     "data": {
      "image/png": "[encoded data removed]",
      "text/plain": [
       "Plot with title “voom: Mean-variance trend”"
      ]
     },
     "metadata": {
      "image/png": {
       "height": 420,
       "width": 420
      }
     },
     "output_type": "display_data"
    }
   ],
   "source": [
    "#Transform count data to log2-counts per million (logCPM), estimate the mean-variance relationship and use this to compute appropriate observational-level weights.\n",
    "#The data are then ready for linear modelling.\n",
    "v <- voom(dge, design, plot=TRUE) #check voom plot for curve to see if we need to do more filtering\n",
    "# voom is used to transform RNA-seq count data into log-counts-per-million (logCPM) values suitable for linear modeling and differential expression analysis.\n",
    "\n",
    "#design: A design matrix or model matrix specifying the experimental design and contrasts of interest for differential expression analysis."
   ]
  },
  {
   "cell_type": "code",
   "execution_count": 140,
   "metadata": {},
   "outputs": [],
   "source": [
    "#compute linear model fit for each gene, given our design and the results from voom\n",
    "vfit <- lmFit(v, design)\n",
    "vfit.con1 <- contrasts.fit(vfit, contrasts=contr.matrix) \n",
    "#The lmFit() function is a part of the limma package in R.\n",
    "#It is used for fitting linear models to gene expression data, particularly for \n",
    "#differential expression analysis in microarray and RNA-seq experiments."
   ]
  },
  {
   "cell_type": "markdown",
   "metadata": {},
   "source": [
    "The eBayes() function applies an empirical Bayes method to estimate the overall distribution of gene-specific variances. It shrinks the estimated gene-specific variances towards a common value, resulting in more stable and moderated estimates. This shrinkage improves the accuracy of statistical inference, especially in cases where the number of samples is small."
   ]
  },
  {
   "cell_type": "code",
   "execution_count": 142,
   "metadata": {},
   "outputs": [],
   "source": [
    "#Given a linear model fit, compute moderated t-statistics, moderated F-statistic, and log-odds of differential expression by empirical Bayes moderation of the standard errors towards a common value\n",
    "efit <- eBayes(vfit.con1)"
   ]
  },
  {
   "cell_type": "code",
   "execution_count": 143,
   "metadata": {},
   "outputs": [
    {
     "data": {
      "image/png": "[encoded data removed]",
      "text/plain": [
       "plot without title"
      ]
     },
     "metadata": {
      "image/png": {
       "height": 420,
       "width": 420
      }
     },
     "output_type": "display_data"
    }
   ],
   "source": [
    "plotSA(efit)"
   ]
  },
  {
   "cell_type": "code",
   "execution_count": 144,
   "metadata": {},
   "outputs": [
    {
     "data": {
      "text/plain": [
       "       Case_vs_Control\n",
       "Down                 0\n",
       "NotSig           23493\n",
       "Up                   0"
      ]
     },
     "metadata": {},
     "output_type": "display_data"
    }
   ],
   "source": [
    "#summary of differential expression results\n",
    "summary(decideTests(efit))"
   ]
  },
  {
   "cell_type": "code",
   "execution_count": 145,
   "metadata": {},
   "outputs": [],
   "source": [
    "DE.results <- as.data.frame(summary(decideTests(efit))) %>%\n",
    "pivot_wider(names_from = Var2, values_from = Freq)"
   ]
  },
  {
   "cell_type": "code",
   "execution_count": 146,
   "metadata": {},
   "outputs": [
    {
     "data": {
      "text/html": [
       "<table class=\"dataframe\">\n",
       "<caption>A tibble: 3 × 2</caption>\n",
       "<thead>\n",
       "\t<tr><th scope=col>Var1</th><th scope=col>Case_vs_Control</th></tr>\n",
       "\t<tr><th scope=col>&lt;fct&gt;</th><th scope=col>&lt;dbl&gt;</th></tr>\n",
       "</thead>\n",
       "<tbody>\n",
       "\t<tr><td>Down  </td><td>    0</td></tr>\n",
       "\t<tr><td>NotSig</td><td>23493</td></tr>\n",
       "\t<tr><td>Up    </td><td>    0</td></tr>\n",
       "</tbody>\n",
       "</table>\n"
      ],
      "text/latex": [
       "A tibble: 3 × 2\n",
       "\\begin{tabular}{ll}\n",
       " Var1 & Case\\_vs\\_Control\\\\\n",
       " <fct> & <dbl>\\\\\n",
       "\\hline\n",
       "\t Down   &     0\\\\\n",
       "\t NotSig & 23493\\\\\n",
       "\t Up     &     0\\\\\n",
       "\\end{tabular}\n"
      ],
      "text/markdown": [
       "\n",
       "A tibble: 3 × 2\n",
       "\n",
       "| Var1 &lt;fct&gt; | Case_vs_Control &lt;dbl&gt; |\n",
       "|---|---|\n",
       "| Down   |     0 |\n",
       "| NotSig | 23493 |\n",
       "| Up     |     0 |\n",
       "\n"
      ],
      "text/plain": [
       "  Var1   Case_vs_Control\n",
       "1 Down       0          \n",
       "2 NotSig 23493          \n",
       "3 Up         0          "
      ]
     },
     "metadata": {},
     "output_type": "display_data"
    }
   ],
   "source": [
    "DE.results"
   ]
  },
  {
   "cell_type": "code",
   "execution_count": 147,
   "metadata": {},
   "outputs": [],
   "source": [
    "#make table of mean CPM for each group to add to results file\n",
    "control.Group <- sample_meta_male_over_65.sub$sample_id[sample_meta_male_over_65.sub$Cognition_phenotype == \"PDnoCI\"]\n",
    "case.Group <- sample_meta_male_over_65.sub$sample_id[sample_meta_male_over_65.sub$Cognition_phenotype == \"PDD\"]"
   ]
  },
  {
   "cell_type": "code",
   "execution_count": 148,
   "metadata": {},
   "outputs": [],
   "source": [
    "controlCPM <- logCPM[,control.Group]\n",
    "caseCPM <- logCPM[,case.Group]"
   ]
  },
  {
   "cell_type": "code",
   "execution_count": 149,
   "metadata": {
    "scrolled": true
   },
   "outputs": [
    {
     "data": {
      "text/plain": [
       "   gene_id          AvgExpr_Control    AvgExpr_Case    \n",
       " Length:23493       Min.   :-2.6896   Min.   :-2.5120  \n",
       " Class :character   1st Qu.:-0.4647   1st Qu.:-0.2343  \n",
       " Mode  :character   Median : 2.0154   Median : 2.0619  \n",
       "                    Mean   : 2.2389   Mean   : 2.3153  \n",
       "                    3rd Qu.: 4.6562   3rd Qu.: 4.5320  \n",
       "                    Max.   :17.1560   Max.   :16.6679  "
      ]
     },
     "metadata": {},
     "output_type": "display_data"
    }
   ],
   "source": [
    "meanCPM <- data.frame(\"gene_id\" = row.names(logCPM),\n",
    "                      \"AvgExpr_Control\" = rowMeans(controlCPM),\n",
    "                      \"AvgExpr_Case\" = rowMeans(caseCPM)\n",
    "\n",
    ")\n",
    "summary(meanCPM)"
   ]
  },
  {
   "cell_type": "code",
   "execution_count": 150,
   "metadata": {},
   "outputs": [
    {
     "data": {
      "text/html": [
       "<table class=\"dataframe\">\n",
       "<caption>A data.frame: 6 × 3</caption>\n",
       "<thead>\n",
       "\t<tr><th></th><th scope=col>gene_id</th><th scope=col>AvgExpr_Control</th><th scope=col>AvgExpr_Case</th></tr>\n",
       "\t<tr><th></th><th scope=col>&lt;chr&gt;</th><th scope=col>&lt;dbl&gt;</th><th scope=col>&lt;dbl&gt;</th></tr>\n",
       "</thead>\n",
       "<tbody>\n",
       "\t<tr><th scope=row>ENSG00000280143.1</th><td>ENSG00000280143.1 </td><td>-1.1418424</td><td>-0.6193143</td></tr>\n",
       "\t<tr><th scope=row>ENSG00000263642.1</th><td>ENSG00000263642.1 </td><td> 0.1054059</td><td> 0.3480949</td></tr>\n",
       "\t<tr><th scope=row>ENSG00000158486.13</th><td>ENSG00000158486.13</td><td>-2.0829105</td><td>-0.9708706</td></tr>\n",
       "\t<tr><th scope=row>ENSG00000198242.13</th><td>ENSG00000198242.13</td><td> 8.6433642</td><td> 8.1442674</td></tr>\n",
       "\t<tr><th scope=row>ENSG00000231981.3</th><td>ENSG00000231981.3 </td><td> 0.3029934</td><td> 0.2518915</td></tr>\n",
       "\t<tr><th scope=row>ENSG00000134108.12</th><td>ENSG00000134108.12</td><td> 5.8110152</td><td> 5.5225695</td></tr>\n",
       "</tbody>\n",
       "</table>\n"
      ],
      "text/latex": [
       "A data.frame: 6 × 3\n",
       "\\begin{tabular}{r|lll}\n",
       "  & gene\\_id & AvgExpr\\_Control & AvgExpr\\_Case\\\\\n",
       "  & <chr> & <dbl> & <dbl>\\\\\n",
       "\\hline\n",
       "\tENSG00000280143.1 & ENSG00000280143.1  & -1.1418424 & -0.6193143\\\\\n",
       "\tENSG00000263642.1 & ENSG00000263642.1  &  0.1054059 &  0.3480949\\\\\n",
       "\tENSG00000158486.13 & ENSG00000158486.13 & -2.0829105 & -0.9708706\\\\\n",
       "\tENSG00000198242.13 & ENSG00000198242.13 &  8.6433642 &  8.1442674\\\\\n",
       "\tENSG00000231981.3 & ENSG00000231981.3  &  0.3029934 &  0.2518915\\\\\n",
       "\tENSG00000134108.12 & ENSG00000134108.12 &  5.8110152 &  5.5225695\\\\\n",
       "\\end{tabular}\n"
      ],
      "text/markdown": [
       "\n",
       "A data.frame: 6 × 3\n",
       "\n",
       "| <!--/--> | gene_id &lt;chr&gt; | AvgExpr_Control &lt;dbl&gt; | AvgExpr_Case &lt;dbl&gt; |\n",
       "|---|---|---|---|\n",
       "| ENSG00000280143.1 | ENSG00000280143.1  | -1.1418424 | -0.6193143 |\n",
       "| ENSG00000263642.1 | ENSG00000263642.1  |  0.1054059 |  0.3480949 |\n",
       "| ENSG00000158486.13 | ENSG00000158486.13 | -2.0829105 | -0.9708706 |\n",
       "| ENSG00000198242.13 | ENSG00000198242.13 |  8.6433642 |  8.1442674 |\n",
       "| ENSG00000231981.3 | ENSG00000231981.3  |  0.3029934 |  0.2518915 |\n",
       "| ENSG00000134108.12 | ENSG00000134108.12 |  5.8110152 |  5.5225695 |\n",
       "\n"
      ],
      "text/plain": [
       "                   gene_id            AvgExpr_Control AvgExpr_Case\n",
       "ENSG00000280143.1  ENSG00000280143.1  -1.1418424      -0.6193143  \n",
       "ENSG00000263642.1  ENSG00000263642.1   0.1054059       0.3480949  \n",
       "ENSG00000158486.13 ENSG00000158486.13 -2.0829105      -0.9708706  \n",
       "ENSG00000198242.13 ENSG00000198242.13  8.6433642       8.1442674  \n",
       "ENSG00000231981.3  ENSG00000231981.3   0.3029934       0.2518915  \n",
       "ENSG00000134108.12 ENSG00000134108.12  5.8110152       5.5225695  "
      ]
     },
     "metadata": {},
     "output_type": "display_data"
    }
   ],
   "source": [
    "head(meanCPM)"
   ]
  },
  {
   "cell_type": "code",
   "execution_count": 151,
   "metadata": {},
   "outputs": [],
   "source": [
    "#Classify a series of related t-statistics as up, down or not significant\n",
    "dt <- decideTests(efit)"
   ]
  },
  {
   "cell_type": "code",
   "execution_count": 152,
   "metadata": {},
   "outputs": [],
   "source": [
    "#output full results table with logFC, p values, and mean CPM for each gene\n",
    "df <- topTable(efit, coef = 1, n = Inf)"
   ]
  },
  {
   "cell_type": "code",
   "execution_count": 153,
   "metadata": {},
   "outputs": [
    {
     "ename": "ERROR",
     "evalue": "\u001b[1m\u001b[33mError\u001b[39m in `left_join()`:\u001b[22m\n\u001b[1m\u001b[22m\u001b[33m!\u001b[39m `by` must be supplied when `x` and `y` have no common variables.\n\u001b[36mℹ\u001b[39m Use `cross_join()` to perform a cross-join.\n",
     "output_type": "error",
     "traceback": [
      "\u001b[1m\u001b[33mError\u001b[39m in `left_join()`:\u001b[22m\n\u001b[1m\u001b[22m\u001b[33m!\u001b[39m `by` must be supplied when `x` and `y` have no common variables.\n\u001b[36mℹ\u001b[39m Use `cross_join()` to perform a cross-join.\nTraceback:\n",
      "1. left_join(df, meanCPM)",
      "2. left_join.data.frame(df, meanCPM)",
      "3. join_mutate(x = x, y = y, by = by, type = \"left\", suffix = suffix, \n .     na_matches = na_matches, keep = keep, multiple = multiple, \n .     unmatched = unmatched, relationship = relationship, user_env = caller_env())",
      "4. join_by_common(x_names, y_names, error_call = error_call)",
      "5. abort(message, call = error_call)",
      "6. signal_abort(cnd, .file)"
     ]
    }
   ],
   "source": [
    "df.withMeans <- left_join(df, meanCPM)"
   ]
  },
  {
   "cell_type": "code",
   "execution_count": 154,
   "metadata": {},
   "outputs": [],
   "source": [
    "df.withMeans$minus_log10_pValue <- -log10(df.withMeans$P.Value)"
   ]
  },
  {
   "cell_type": "code",
   "execution_count": 155,
   "metadata": {
    "scrolled": false
   },
   "outputs": [
    {
     "data": {
      "text/html": [
       "<table class=\"dataframe\">\n",
       "<caption>A data.frame: 6 × 17</caption>\n",
       "<thead>\n",
       "\t<tr><th></th><th scope=col>X</th><th scope=col>gene_id</th><th scope=col>gene_name</th><th scope=col>gene_type</th><th scope=col>seqname</th><th scope=col>start</th><th scope=col>end</th><th scope=col>strand</th><th scope=col>logFC</th><th scope=col>AveExpr</th><th scope=col>t</th><th scope=col>P.Value</th><th scope=col>adj.P.Val</th><th scope=col>B</th><th scope=col>AvgExpr_Control</th><th scope=col>AvgExpr_Case</th><th scope=col>minus_log10_pValue</th></tr>\n",
       "\t<tr><th></th><th scope=col>&lt;int&gt;</th><th scope=col>&lt;chr&gt;</th><th scope=col>&lt;chr&gt;</th><th scope=col>&lt;chr&gt;</th><th scope=col>&lt;chr&gt;</th><th scope=col>&lt;int&gt;</th><th scope=col>&lt;int&gt;</th><th scope=col>&lt;chr&gt;</th><th scope=col>&lt;dbl&gt;</th><th scope=col>&lt;dbl&gt;</th><th scope=col>&lt;dbl&gt;</th><th scope=col>&lt;dbl&gt;</th><th scope=col>&lt;dbl&gt;</th><th scope=col>&lt;dbl&gt;</th><th scope=col>&lt;dbl&gt;</th><th scope=col>&lt;dbl&gt;</th><th scope=col>&lt;dbl&gt;</th></tr>\n",
       "</thead>\n",
       "<tbody>\n",
       "\t<tr><th scope=row>1</th><td>1047081</td><td>ENSG00000127990.17</td><td>SGCE      </td><td>protein_coding</td><td>chr7 </td><td> 94524204</td><td> 94656572</td><td>-</td><td> 0.9575136</td><td> 0.89401577</td><td> 4.333610</td><td>2.839283e-05</td><td>0.1132687</td><td>2.113137</td><td> 0.8762440</td><td> 1.5804330</td><td>4.546791</td></tr>\n",
       "\t<tr><th scope=row>2</th><td>2170746</td><td>ENSG00000277089.4 </td><td>AC243829.4</td><td>antisense     </td><td>chr17</td><td> 36072866</td><td> 36090134</td><td>+</td><td> 0.9573735</td><td> 0.42217805</td><td> 4.340574</td><td>2.761464e-05</td><td>0.1132687</td><td>1.903950</td><td> 0.4425883</td><td> 1.0641576</td><td>4.558861</td></tr>\n",
       "\t<tr><th scope=row>3</th><td> 615568</td><td>ENSG00000163923.9 </td><td>RPL39L    </td><td>protein_coding</td><td>chr3 </td><td>187120948</td><td>187180908</td><td>-</td><td> 0.6228526</td><td> 0.03437278</td><td> 4.349092</td><td>2.669058e-05</td><td>0.1132687</td><td>1.884240</td><td> 0.1107291</td><td> 0.4942215</td><td>4.573642</td></tr>\n",
       "\t<tr><th scope=row>4</th><td>1675713</td><td>ENSG00000180881.19</td><td>CAPS2     </td><td>protein_coding</td><td>chr12</td><td> 75275979</td><td> 75390928</td><td>-</td><td> 0.4369203</td><td> 2.87292816</td><td> 4.218148</td><td>4.481451e-05</td><td>0.1132687</td><td>1.875624</td><td> 2.8651820</td><td> 3.0439512</td><td>4.348581</td></tr>\n",
       "\t<tr><th scope=row>5</th><td>1683400</td><td>ENSG00000258302.2 </td><td>AC025034.1</td><td>antisense     </td><td>chr12</td><td> 89561129</td><td> 89594878</td><td>+</td><td> 0.5329528</td><td> 0.70404143</td><td> 4.238647</td><td>4.135171e-05</td><td>0.1132687</td><td>1.753780</td><td> 0.7476157</td><td> 1.0186976</td><td>4.383507</td></tr>\n",
       "\t<tr><th scope=row>6</th><td>1872776</td><td>ENSG00000211973.2 </td><td>IGHV1-69  </td><td>IG_V_gene     </td><td>chr14</td><td>106714684</td><td>106715181</td><td>-</td><td>-1.8540707</td><td>-1.88502352</td><td>-4.579615</td><td>1.044862e-05</td><td>0.1132687</td><td>1.728243</td><td>-1.1272713</td><td>-1.9601323</td><td>4.980941</td></tr>\n",
       "</tbody>\n",
       "</table>\n"
      ],
      "text/latex": [
       "A data.frame: 6 × 17\n",
       "\\begin{tabular}{r|lllllllllllllllll}\n",
       "  & X & gene\\_id & gene\\_name & gene\\_type & seqname & start & end & strand & logFC & AveExpr & t & P.Value & adj.P.Val & B & AvgExpr\\_Control & AvgExpr\\_Case & minus\\_log10\\_pValue\\\\\n",
       "  & <int> & <chr> & <chr> & <chr> & <chr> & <int> & <int> & <chr> & <dbl> & <dbl> & <dbl> & <dbl> & <dbl> & <dbl> & <dbl> & <dbl> & <dbl>\\\\\n",
       "\\hline\n",
       "\t1 & 1047081 & ENSG00000127990.17 & SGCE       & protein\\_coding & chr7  &  94524204 &  94656572 & - &  0.9575136 &  0.89401577 &  4.333610 & 2.839283e-05 & 0.1132687 & 2.113137 &  0.8762440 &  1.5804330 & 4.546791\\\\\n",
       "\t2 & 2170746 & ENSG00000277089.4  & AC243829.4 & antisense      & chr17 &  36072866 &  36090134 & + &  0.9573735 &  0.42217805 &  4.340574 & 2.761464e-05 & 0.1132687 & 1.903950 &  0.4425883 &  1.0641576 & 4.558861\\\\\n",
       "\t3 &  615568 & ENSG00000163923.9  & RPL39L     & protein\\_coding & chr3  & 187120948 & 187180908 & - &  0.6228526 &  0.03437278 &  4.349092 & 2.669058e-05 & 0.1132687 & 1.884240 &  0.1107291 &  0.4942215 & 4.573642\\\\\n",
       "\t4 & 1675713 & ENSG00000180881.19 & CAPS2      & protein\\_coding & chr12 &  75275979 &  75390928 & - &  0.4369203 &  2.87292816 &  4.218148 & 4.481451e-05 & 0.1132687 & 1.875624 &  2.8651820 &  3.0439512 & 4.348581\\\\\n",
       "\t5 & 1683400 & ENSG00000258302.2  & AC025034.1 & antisense      & chr12 &  89561129 &  89594878 & + &  0.5329528 &  0.70404143 &  4.238647 & 4.135171e-05 & 0.1132687 & 1.753780 &  0.7476157 &  1.0186976 & 4.383507\\\\\n",
       "\t6 & 1872776 & ENSG00000211973.2  & IGHV1-69   & IG\\_V\\_gene      & chr14 & 106714684 & 106715181 & - & -1.8540707 & -1.88502352 & -4.579615 & 1.044862e-05 & 0.1132687 & 1.728243 & -1.1272713 & -1.9601323 & 4.980941\\\\\n",
       "\\end{tabular}\n"
      ],
      "text/markdown": [
       "\n",
       "A data.frame: 6 × 17\n",
       "\n",
       "| <!--/--> | X &lt;int&gt; | gene_id &lt;chr&gt; | gene_name &lt;chr&gt; | gene_type &lt;chr&gt; | seqname &lt;chr&gt; | start &lt;int&gt; | end &lt;int&gt; | strand &lt;chr&gt; | logFC &lt;dbl&gt; | AveExpr &lt;dbl&gt; | t &lt;dbl&gt; | P.Value &lt;dbl&gt; | adj.P.Val &lt;dbl&gt; | B &lt;dbl&gt; | AvgExpr_Control &lt;dbl&gt; | AvgExpr_Case &lt;dbl&gt; | minus_log10_pValue &lt;dbl&gt; |\n",
       "|---|---|---|---|---|---|---|---|---|---|---|---|---|---|---|---|---|---|\n",
       "| 1 | 1047081 | ENSG00000127990.17 | SGCE       | protein_coding | chr7  |  94524204 |  94656572 | - |  0.9575136 |  0.89401577 |  4.333610 | 2.839283e-05 | 0.1132687 | 2.113137 |  0.8762440 |  1.5804330 | 4.546791 |\n",
       "| 2 | 2170746 | ENSG00000277089.4  | AC243829.4 | antisense      | chr17 |  36072866 |  36090134 | + |  0.9573735 |  0.42217805 |  4.340574 | 2.761464e-05 | 0.1132687 | 1.903950 |  0.4425883 |  1.0641576 | 4.558861 |\n",
       "| 3 |  615568 | ENSG00000163923.9  | RPL39L     | protein_coding | chr3  | 187120948 | 187180908 | - |  0.6228526 |  0.03437278 |  4.349092 | 2.669058e-05 | 0.1132687 | 1.884240 |  0.1107291 |  0.4942215 | 4.573642 |\n",
       "| 4 | 1675713 | ENSG00000180881.19 | CAPS2      | protein_coding | chr12 |  75275979 |  75390928 | - |  0.4369203 |  2.87292816 |  4.218148 | 4.481451e-05 | 0.1132687 | 1.875624 |  2.8651820 |  3.0439512 | 4.348581 |\n",
       "| 5 | 1683400 | ENSG00000258302.2  | AC025034.1 | antisense      | chr12 |  89561129 |  89594878 | + |  0.5329528 |  0.70404143 |  4.238647 | 4.135171e-05 | 0.1132687 | 1.753780 |  0.7476157 |  1.0186976 | 4.383507 |\n",
       "| 6 | 1872776 | ENSG00000211973.2  | IGHV1-69   | IG_V_gene      | chr14 | 106714684 | 106715181 | - | -1.8540707 | -1.88502352 | -4.579615 | 1.044862e-05 | 0.1132687 | 1.728243 | -1.1272713 | -1.9601323 | 4.980941 |\n",
       "\n"
      ],
      "text/plain": [
       "  X       gene_id            gene_name  gene_type      seqname start    \n",
       "1 1047081 ENSG00000127990.17 SGCE       protein_coding chr7     94524204\n",
       "2 2170746 ENSG00000277089.4  AC243829.4 antisense      chr17    36072866\n",
       "3  615568 ENSG00000163923.9  RPL39L     protein_coding chr3    187120948\n",
       "4 1675713 ENSG00000180881.19 CAPS2      protein_coding chr12    75275979\n",
       "5 1683400 ENSG00000258302.2  AC025034.1 antisense      chr12    89561129\n",
       "6 1872776 ENSG00000211973.2  IGHV1-69   IG_V_gene      chr14   106714684\n",
       "  end       strand logFC      AveExpr     t         P.Value      adj.P.Val\n",
       "1  94656572 -       0.9575136  0.89401577  4.333610 2.839283e-05 0.1132687\n",
       "2  36090134 +       0.9573735  0.42217805  4.340574 2.761464e-05 0.1132687\n",
       "3 187180908 -       0.6228526  0.03437278  4.349092 2.669058e-05 0.1132687\n",
       "4  75390928 -       0.4369203  2.87292816  4.218148 4.481451e-05 0.1132687\n",
       "5  89594878 +       0.5329528  0.70404143  4.238647 4.135171e-05 0.1132687\n",
       "6 106715181 -      -1.8540707 -1.88502352 -4.579615 1.044862e-05 0.1132687\n",
       "  B        AvgExpr_Control AvgExpr_Case minus_log10_pValue\n",
       "1 2.113137  0.8762440       1.5804330   4.546791          \n",
       "2 1.903950  0.4425883       1.0641576   4.558861          \n",
       "3 1.884240  0.1107291       0.4942215   4.573642          \n",
       "4 1.875624  2.8651820       3.0439512   4.348581          \n",
       "5 1.753780  0.7476157       1.0186976   4.383507          \n",
       "6 1.728243 -1.1272713      -1.9601323   4.980941          "
      ]
     },
     "metadata": {},
     "output_type": "display_data"
    }
   ],
   "source": [
    "head(df.withMeans)"
   ]
  },
  {
   "cell_type": "code",
   "execution_count": 156,
   "metadata": {},
   "outputs": [],
   "source": [
    "library(ggrepel)"
   ]
  },
  {
   "cell_type": "code",
   "execution_count": 157,
   "metadata": {},
   "outputs": [],
   "source": [
    "genes<-subset(df.withMeans,((adj.P.Val<0.05 & logFC>=log2(1.5)) | (adj.P.Val<0.05 & logFC<=-log2(1.5))))"
   ]
  },
  {
   "cell_type": "code",
   "execution_count": 158,
   "metadata": {},
   "outputs": [
    {
     "data": {
      "text/html": [
       "<table class=\"dataframe\">\n",
       "<caption>A data.frame: 0 × 17</caption>\n",
       "<thead>\n",
       "\t<tr><th scope=col>X</th><th scope=col>gene_id</th><th scope=col>gene_name</th><th scope=col>gene_type</th><th scope=col>seqname</th><th scope=col>start</th><th scope=col>end</th><th scope=col>strand</th><th scope=col>logFC</th><th scope=col>AveExpr</th><th scope=col>t</th><th scope=col>P.Value</th><th scope=col>adj.P.Val</th><th scope=col>B</th><th scope=col>AvgExpr_Control</th><th scope=col>AvgExpr_Case</th><th scope=col>minus_log10_pValue</th></tr>\n",
       "\t<tr><th scope=col>&lt;int&gt;</th><th scope=col>&lt;chr&gt;</th><th scope=col>&lt;chr&gt;</th><th scope=col>&lt;chr&gt;</th><th scope=col>&lt;chr&gt;</th><th scope=col>&lt;int&gt;</th><th scope=col>&lt;int&gt;</th><th scope=col>&lt;chr&gt;</th><th scope=col>&lt;dbl&gt;</th><th scope=col>&lt;dbl&gt;</th><th scope=col>&lt;dbl&gt;</th><th scope=col>&lt;dbl&gt;</th><th scope=col>&lt;dbl&gt;</th><th scope=col>&lt;dbl&gt;</th><th scope=col>&lt;dbl&gt;</th><th scope=col>&lt;dbl&gt;</th><th scope=col>&lt;dbl&gt;</th></tr>\n",
       "</thead>\n",
       "<tbody>\n",
       "</tbody>\n",
       "</table>\n"
      ],
      "text/latex": [
       "A data.frame: 0 × 17\n",
       "\\begin{tabular}{lllllllllllllllll}\n",
       " X & gene\\_id & gene\\_name & gene\\_type & seqname & start & end & strand & logFC & AveExpr & t & P.Value & adj.P.Val & B & AvgExpr\\_Control & AvgExpr\\_Case & minus\\_log10\\_pValue\\\\\n",
       " <int> & <chr> & <chr> & <chr> & <chr> & <int> & <int> & <chr> & <dbl> & <dbl> & <dbl> & <dbl> & <dbl> & <dbl> & <dbl> & <dbl> & <dbl>\\\\\n",
       "\\hline\n",
       "\\end{tabular}\n"
      ],
      "text/markdown": [
       "\n",
       "A data.frame: 0 × 17\n",
       "\n",
       "| X &lt;int&gt; | gene_id &lt;chr&gt; | gene_name &lt;chr&gt; | gene_type &lt;chr&gt; | seqname &lt;chr&gt; | start &lt;int&gt; | end &lt;int&gt; | strand &lt;chr&gt; | logFC &lt;dbl&gt; | AveExpr &lt;dbl&gt; | t &lt;dbl&gt; | P.Value &lt;dbl&gt; | adj.P.Val &lt;dbl&gt; | B &lt;dbl&gt; | AvgExpr_Control &lt;dbl&gt; | AvgExpr_Case &lt;dbl&gt; | minus_log10_pValue &lt;dbl&gt; |\n",
       "|---|---|---|---|---|---|---|---|---|---|---|---|---|---|---|---|---|\n",
       "\n"
      ],
      "text/plain": [
       "     X gene_id gene_name gene_type seqname start end strand logFC AveExpr t\n",
       "     P.Value adj.P.Val B AvgExpr_Control AvgExpr_Case minus_log10_pValue"
      ]
     },
     "metadata": {},
     "output_type": "display_data"
    }
   ],
   "source": [
    "genes"
   ]
  },
  {
   "cell_type": "code",
   "execution_count": 159,
   "metadata": {},
   "outputs": [],
   "source": [
    "df <- df %>% \n",
    "  mutate(\n",
    "    Expression = case_when(logFC >= log2(1.5) & adj.P.Val <= 0.05 ~ \"Up-regulated\",\n",
    "                           logFC <= -log2(1.5) & adj.P.Val <= 0.05 ~ \"Down-regulated\",\n",
    "                           TRUE ~ \"Unchanged\")\n",
    "    )"
   ]
  },
  {
   "cell_type": "code",
   "execution_count": 160,
   "metadata": {
    "scrolled": true
   },
   "outputs": [],
   "source": [
    "p2 <- ggplot(df, aes(logFC, -log(adj.P.Val,10))) +\n",
    "  geom_point(aes(color = Expression), size = 1) +\n",
    "  xlab(expression(\"log\"[2]*\"FC\")) + \n",
    "  ylab(expression(\"-log\"[10]*\"(padj)\")) +\n",
    "  scale_color_manual(values = c(\"dodgerblue3\", \"gray50\", \"firebrick3\")) +\n",
    "  guides(colour = guide_legend(override.aes = list(size=1.5)))+\n",
    "  geom_hline(yintercept = -log10(0.05),linetype = \"dashed\") + \n",
    "  geom_vline(xintercept = c(-log2(1.5), log2(1.5)),linetype = \"dashed\") +\n",
    "  geom_text_repel(data = genes, \n",
    "                  aes(label = gene_name))"
   ]
  },
  {
   "cell_type": "code",
   "execution_count": 161,
   "metadata": {},
   "outputs": [
    {
     "data": {
      "image/png": "[encoded data removed]",
      "text/plain": [
       "plot without title"
      ]
     },
     "metadata": {
      "image/png": {
       "height": 420,
       "width": 420
      }
     },
     "output_type": "display_data"
    }
   ],
   "source": [
    "p2 + ggtitle(\"Volcano Plot: PDD vs PD-NC\")\n",
    "#linea horizontal log fold change\n",
    "#linea vertical -log10 p value"
   ]
  },
  {
   "cell_type": "code",
   "execution_count": 162,
   "metadata": {},
   "outputs": [
    {
     "data": {
      "image/png": "[encoded data removed]",
      "text/plain": [
       "Plot with title “MD Plot: PDD vs. PD-NC”"
      ]
     },
     "metadata": {
      "image/png": {
       "height": 420,
       "width": 420
      }
     },
     "output_type": "display_data"
    }
   ],
   "source": [
    "#MD plot with upregulated genes in green and downregulated genes in red\n",
    "plotMD(efit, column = 1, status = dt[,1], main = \"MD Plot: PDD vs. PD-NC\",\n",
    "       xlim=c(-10,15))"
   ]
  },
  {
   "cell_type": "code",
   "execution_count": 163,
   "metadata": {},
   "outputs": [],
   "source": [
    "write_tsv(df.withMeans, \"PDD_vs_PDnoCI_M0_passingFilt_white_limmaResults.tsv\")"
   ]
  },
  {
   "cell_type": "code",
   "execution_count": 164,
   "metadata": {},
   "outputs": [
    {
     "data": {
      "text/html": [],
      "text/latex": [],
      "text/markdown": [],
      "text/plain": [
       "character(0)"
      ]
     },
     "metadata": {},
     "output_type": "display_data"
    }
   ],
   "source": [
    "system(paste0(\"gsutil cp ./* \",WORKSPACE_BUCKET),intern=TRUE)"
   ]
  },
  {
   "cell_type": "code",
   "execution_count": 165,
   "metadata": {},
   "outputs": [],
   "source": [
    "#df.withMeans\n",
    "df.withMeansPath <- file.path({WORKSPACE_BUCKET}, 'PDD_vs_PDnoCI_M0_passingFilt_white_limmaResults.tsv')\n",
    "tmp <- gcs_read_file(df.withMeansPath)\n",
    "df.withMeans <- read.csv(tmp,header=TRUE, sep=\"\\t\")"
   ]
  },
  {
   "cell_type": "code",
   "execution_count": 166,
   "metadata": {
    "scrolled": false
   },
   "outputs": [
    {
     "data": {
      "text/html": [
       "<table class=\"dataframe\">\n",
       "<caption>A data.frame: 23493 × 17</caption>\n",
       "<thead>\n",
       "\t<tr><th scope=col>X</th><th scope=col>gene_id</th><th scope=col>gene_name</th><th scope=col>gene_type</th><th scope=col>seqname</th><th scope=col>start</th><th scope=col>end</th><th scope=col>strand</th><th scope=col>logFC</th><th scope=col>AveExpr</th><th scope=col>t</th><th scope=col>P.Value</th><th scope=col>adj.P.Val</th><th scope=col>B</th><th scope=col>AvgExpr_Control</th><th scope=col>AvgExpr_Case</th><th scope=col>minus_log10_pValue</th></tr>\n",
       "\t<tr><th scope=col>&lt;int&gt;</th><th scope=col>&lt;chr&gt;</th><th scope=col>&lt;chr&gt;</th><th scope=col>&lt;chr&gt;</th><th scope=col>&lt;chr&gt;</th><th scope=col>&lt;int&gt;</th><th scope=col>&lt;int&gt;</th><th scope=col>&lt;chr&gt;</th><th scope=col>&lt;dbl&gt;</th><th scope=col>&lt;dbl&gt;</th><th scope=col>&lt;dbl&gt;</th><th scope=col>&lt;dbl&gt;</th><th scope=col>&lt;dbl&gt;</th><th scope=col>&lt;dbl&gt;</th><th scope=col>&lt;dbl&gt;</th><th scope=col>&lt;dbl&gt;</th><th scope=col>&lt;dbl&gt;</th></tr>\n",
       "</thead>\n",
       "<tbody>\n",
       "\t<tr><td>1047081</td><td>ENSG00000127990.17</td><td>SGCE      </td><td>protein_coding                    </td><td>chr7 </td><td> 94524204</td><td> 94656572</td><td>-</td><td> 0.9575136</td><td> 0.8940157735</td><td> 4.333610</td><td>2.839283e-05</td><td>0.1132687</td><td>2.11313738</td><td> 0.87624398</td><td> 1.58043298</td><td>4.546791</td></tr>\n",
       "\t<tr><td>2170746</td><td>ENSG00000277089.4 </td><td>AC243829.4</td><td>antisense                         </td><td>chr17</td><td> 36072866</td><td> 36090134</td><td>+</td><td> 0.9573735</td><td> 0.4221780501</td><td> 4.340574</td><td>2.761464e-05</td><td>0.1132687</td><td>1.90394999</td><td> 0.44258832</td><td> 1.06415763</td><td>4.558861</td></tr>\n",
       "\t<tr><td> 615568</td><td>ENSG00000163923.9 </td><td>RPL39L    </td><td>protein_coding                    </td><td>chr3 </td><td>187120948</td><td>187180908</td><td>-</td><td> 0.6228526</td><td> 0.0343727768</td><td> 4.349092</td><td>2.669058e-05</td><td>0.1132687</td><td>1.88424027</td><td> 0.11072914</td><td> 0.49422146</td><td>4.573642</td></tr>\n",
       "\t<tr><td>1675713</td><td>ENSG00000180881.19</td><td>CAPS2     </td><td>protein_coding                    </td><td>chr12</td><td> 75275979</td><td> 75390928</td><td>-</td><td> 0.4369203</td><td> 2.8729281601</td><td> 4.218148</td><td>4.481451e-05</td><td>0.1132687</td><td>1.87562447</td><td> 2.86518204</td><td> 3.04395116</td><td>4.348581</td></tr>\n",
       "\t<tr><td>1683400</td><td>ENSG00000258302.2 </td><td>AC025034.1</td><td>antisense                         </td><td>chr12</td><td> 89561129</td><td> 89594878</td><td>+</td><td> 0.5329528</td><td> 0.7040414301</td><td> 4.238647</td><td>4.135171e-05</td><td>0.1132687</td><td>1.75377966</td><td> 0.74761571</td><td> 1.01869761</td><td>4.383507</td></tr>\n",
       "\t<tr><td>1872776</td><td>ENSG00000211973.2 </td><td>IGHV1-69  </td><td>IG_V_gene                         </td><td>chr14</td><td>106714684</td><td>106715181</td><td>-</td><td>-1.8540707</td><td>-1.8850235174</td><td>-4.579615</td><td>1.044862e-05</td><td>0.1132687</td><td>1.72824274</td><td>-1.12727131</td><td>-1.96013234</td><td>4.980941</td></tr>\n",
       "\t<tr><td>2347526</td><td>ENSG00000125726.10</td><td>CD70      </td><td>protein_coding                    </td><td>chr19</td><td>  6583183</td><td>  6604103</td><td>-</td><td> 0.8076482</td><td>-0.1433975112</td><td> 4.300069</td><td>3.244593e-05</td><td>0.1132687</td><td>1.63119350</td><td>-0.06406166</td><td> 0.45302989</td><td>4.488840</td></tr>\n",
       "\t<tr><td>1859608</td><td>ENSG00000168350.7 </td><td>DEGS2     </td><td>protein_coding                    </td><td>chr14</td><td>100143957</td><td>100160163</td><td>-</td><td> 0.9076694</td><td>-0.7508862081</td><td> 4.197713</td><td>4.854232e-05</td><td>0.1132687</td><td>1.31069173</td><td>-0.61884449</td><td> 0.32111462</td><td>4.313879</td></tr>\n",
       "\t<tr><td> 794644</td><td>ENSG00000197744.5 </td><td>PTMAP2    </td><td>processed_pseudogene              </td><td>chr5 </td><td>118973796</td><td>118974122</td><td>+</td><td> 0.7619128</td><td>-1.1307252500</td><td> 4.262738</td><td>3.760982e-05</td><td>0.1132687</td><td>1.16169876</td><td>-0.85659052</td><td>-0.65665827</td><td>4.424699</td></tr>\n",
       "\t<tr><td> 623870</td><td>ENSG00000163958.13</td><td>ZDHHC19   </td><td>protein_coding                    </td><td>chr3 </td><td>196197449</td><td>196211437</td><td>-</td><td> 1.1146895</td><td>-1.8641185734</td><td> 4.313148</td><td>3.080335e-05</td><td>0.1132687</td><td>1.04169703</td><td>-1.48458547</td><td>-0.39627538</td><td>4.511402</td></tr>\n",
       "\t<tr><td>1905912</td><td>ENSG00000259520.5 </td><td>AC051619.5</td><td>antisense                         </td><td>chr15</td><td> 45251580</td><td> 45279251</td><td>-</td><td> 0.7710052</td><td>-1.1930518521</td><td> 4.157241</td><td>5.682107e-05</td><td>0.1132687</td><td>1.02302784</td><td>-0.95040653</td><td>-0.40986778</td><td>4.245491</td></tr>\n",
       "\t<tr><td>1698733</td><td>ENSG00000151136.14</td><td>BTBD11    </td><td>protein_coding                    </td><td>chr12</td><td>107318413</td><td>107659642</td><td>+</td><td>-0.4392640</td><td> 4.2618476266</td><td>-3.964777</td><td>1.184351e-04</td><td>0.1623141</td><td>1.00604815</td><td> 4.31286685</td><td> 4.01621260</td><td>3.926519</td></tr>\n",
       "\t<tr><td>2521353</td><td>ENSG00000025293.16</td><td>PHF20     </td><td>protein_coding                    </td><td>chr20</td><td> 35771974</td><td> 35950381</td><td>+</td><td>-0.1964115</td><td> 6.7890912774</td><td>-3.951751</td><td>1.243627e-04</td><td>0.1623141</td><td>0.95357949</td><td> 6.82809914</td><td> 6.57134636</td><td>3.905310</td></tr>\n",
       "\t<tr><td> 150685</td><td>ENSG00000163155.11</td><td>LYSMD1    </td><td>protein_coding                    </td><td>chr1 </td><td>151159748</td><td>151165948</td><td>-</td><td> 0.4178172</td><td> 0.2776337619</td><td> 4.001252</td><td>1.032363e-04</td><td>0.1623141</td><td>0.94263549</td><td> 0.31532916</td><td> 0.82217409</td><td>3.986168</td></tr>\n",
       "\t<tr><td> 501655</td><td>ENSG00000265078.2 </td><td>RN7SL664P </td><td>misc_RNA                          </td><td>chr3 </td><td> 48094801</td><td> 48095105</td><td>-</td><td> 1.0831635</td><td>-1.2311377337</td><td> 4.152582</td><td>5.785656e-05</td><td>0.1132687</td><td>0.87421504</td><td>-0.93891647</td><td>-0.57573212</td><td>4.237647</td></tr>\n",
       "\t<tr><td>1057276</td><td>ENSG00000066923.17</td><td>STAG3     </td><td>protein_coding                    </td><td>chr7 </td><td>100177563</td><td>100221488</td><td>+</td><td> 0.6368061</td><td> 0.0003129914</td><td> 3.973586</td><td>1.145804e-04</td><td>0.1623141</td><td>0.76465237</td><td> 0.03721758</td><td> 0.78139417</td><td>3.940890</td></tr>\n",
       "\t<tr><td>1291545</td><td>ENSG00000125482.12</td><td>TTF1      </td><td>protein_coding                    </td><td>chr9 </td><td>132375548</td><td>132406851</td><td>-</td><td>-0.2176816</td><td> 4.7713990363</td><td>-3.883430</td><td>1.603759e-04</td><td>0.1668673</td><td>0.73051809</td><td> 4.82659245</td><td> 4.48508702</td><td>3.794861</td></tr>\n",
       "\t<tr><td>2044176</td><td>ENSG00000069329.17</td><td>VPS35     </td><td>protein_coding                    </td><td>chr16</td><td> 46656132</td><td> 46689518</td><td>-</td><td>-0.2479898</td><td> 6.9415681290</td><td>-3.855832</td><td>1.775713e-04</td><td>0.1668673</td><td>0.63332924</td><td> 7.00483170</td><td> 6.58257858</td><td>3.750627</td></tr>\n",
       "\t<tr><td>1956233</td><td>ENSG00000103723.13</td><td>AP3B2     </td><td>protein_coding                    </td><td>chr15</td><td> 82659281</td><td> 82709914</td><td>-</td><td> 1.3879046</td><td>-0.8735858177</td><td> 3.999745</td><td>1.038257e-04</td><td>0.1623141</td><td>0.55734540</td><td>-0.74455351</td><td> 0.50700654</td><td>3.983695</td></tr>\n",
       "\t<tr><td> 276642</td><td>ENSG00000214711.9 </td><td>CAPN14    </td><td>protein_coding                    </td><td>chr2 </td><td> 31173056</td><td> 31233858</td><td>-</td><td> 0.5370334</td><td> 0.4898435822</td><td> 3.856318</td><td>1.772540e-04</td><td>0.1668673</td><td>0.52495839</td><td> 0.51287445</td><td> 1.03159815</td><td>3.751404</td></tr>\n",
       "\t<tr><td> 689669</td><td>ENSG00000163116.9 </td><td>STPG2     </td><td>protein_coding                    </td><td>chr4 </td><td> 97184093</td><td> 98143240</td><td>-</td><td> 0.6195154</td><td>-0.6133671292</td><td> 3.919053</td><td>1.405133e-04</td><td>0.1668673</td><td>0.49815852</td><td>-0.48239724</td><td> 0.07661418</td><td>3.852283</td></tr>\n",
       "\t<tr><td>1291437</td><td>ENSG00000107290.13</td><td>SETX      </td><td>protein_coding                    </td><td>chr9 </td><td>132261356</td><td>132354985</td><td>-</td><td>-0.3006426</td><td> 9.4291146943</td><td>-3.798031</td><td>2.194311e-04</td><td>0.1921157</td><td>0.45824943</td><td> 9.49914790</td><td> 9.02477964</td><td>3.658702</td></tr>\n",
       "\t<tr><td>1473698</td><td>ENSG00000197629.5 </td><td>MPEG1     </td><td>protein_coding                    </td><td>chr11</td><td> 59208510</td><td> 59212951</td><td>-</td><td>-0.3726257</td><td> 8.1506453351</td><td>-3.796330</td><td>2.207944e-04</td><td>0.1921157</td><td>0.44429792</td><td> 8.21226902</td><td> 7.79699279</td><td>3.656012</td></tr>\n",
       "\t<tr><td>  53349</td><td>ENSG00000220785.7 </td><td>MTMR9LP   </td><td>transcribed_unprocessed_pseudogene</td><td>chr1 </td><td> 32231658</td><td> 32241620</td><td>-</td><td> 1.0362658</td><td>-1.7609550201</td><td> 4.119088</td><td>6.585148e-05</td><td>0.1190038</td><td>0.40708280</td><td>-1.41921859</td><td>-0.47899816</td><td>4.181434</td></tr>\n",
       "\t<tr><td> 816770</td><td>ENSG00000113141.17</td><td>IK        </td><td>protein_coding                    </td><td>chr5 </td><td>140647058</td><td>140662479</td><td>+</td><td>-0.2491288</td><td> 6.9531149711</td><td>-3.723604</td><td>2.872267e-04</td><td>0.2301555</td><td>0.20054961</td><td> 7.01600193</td><td> 6.59628770</td><td>3.541775</td></tr>\n",
       "\t<tr><td> 519284</td><td>ENSG00000164091.11</td><td>WDR82     </td><td>protein_coding                    </td><td>chr3 </td><td> 52254421</td><td> 52288020</td><td>-</td><td>-0.2316190</td><td> 7.7195326461</td><td>-3.696762</td><td>3.162229e-04</td><td>0.2301555</td><td>0.11955166</td><td> 7.76201519</td><td> 7.47777311</td><td>3.500007</td></tr>\n",
       "\t<tr><td>1221880</td><td>ENSG00000147889.17</td><td>CDKN2A    </td><td>protein_coding                    </td><td>chr9 </td><td> 21967753</td><td> 21995301</td><td>-</td><td> 0.4432767</td><td> 2.0052344417</td><td> 3.684515</td><td>3.303537e-04</td><td>0.2301555</td><td>0.10497588</td><td> 1.97041708</td><td> 2.44311864</td><td>3.481021</td></tr>\n",
       "\t<tr><td>1355319</td><td>ENSG00000279689.1 </td><td>AC022400.8</td><td>TEC                               </td><td>chr10</td><td> 73769264</td><td> 73772862</td><td>-</td><td> 0.4378061</td><td>-0.0627927055</td><td> 3.747750</td><td>2.633107e-04</td><td>0.2209271</td><td>0.09748851</td><td> 0.02213770</td><td> 0.39921588</td><td>3.579531</td></tr>\n",
       "\t<tr><td> 807555</td><td>ENSG00000145833.15</td><td>DDX46     </td><td>protein_coding                    </td><td>chr5 </td><td>134758771</td><td>134855133</td><td>+</td><td>-0.1982569</td><td> 6.4667762077</td><td>-3.669184</td><td>3.488857e-04</td><td>0.2301555</td><td>0.02500587</td><td> 6.51195839</td><td> 6.21534165</td><td>3.457317</td></tr>\n",
       "\t<tr><td>1284258</td><td>ENSG00000119392.14</td><td>GLE1      </td><td>protein_coding                    </td><td>chr9 </td><td>128504700</td><td>128542288</td><td>+</td><td>-0.1779501</td><td> 5.5825388777</td><td>-3.662799</td><td>3.568909e-04</td><td>0.2301555</td><td>0.00470246</td><td> 5.61978006</td><td> 5.38578888</td><td>3.447464</td></tr>\n",
       "\t<tr><td>⋮</td><td>⋮</td><td>⋮</td><td>⋮</td><td>⋮</td><td>⋮</td><td>⋮</td><td>⋮</td><td>⋮</td><td>⋮</td><td>⋮</td><td>⋮</td><td>⋮</td><td>⋮</td><td>⋮</td><td>⋮</td><td>⋮</td></tr>\n",
       "\t<tr><td>2046840</td><td>ENSG00000205423.11</td><td>CNEP1R1 </td><td>protein_coding                    </td><td>chr16</td><td> 50024410</td><td> 50037088</td><td>+</td><td>-1.523392e-03</td><td>5.769270</td><td>-0.0186188069</td><td>0.9851726</td><td>0.9953186</td><td>-6.117588</td><td>5.799643</td><td>5.610354</td><td>6.487669e-03</td></tr>\n",
       "\t<tr><td>2104124</td><td>ENSG00000260528.4 </td><td>FAM157C </td><td>lincRNA                           </td><td>chr16</td><td> 90102271</td><td> 90178344</td><td>+</td><td> 1.428478e-02</td><td>5.857681</td><td> 0.0930773523</td><td>0.9259797</td><td>0.9801683</td><td>-6.117598</td><td>5.819215</td><td>6.097702</td><td>3.339852e-02</td></tr>\n",
       "\t<tr><td> 257764</td><td>ENSG00000134308.13</td><td>YWHAQ   </td><td>protein_coding                    </td><td>chr2 </td><td>  9583972</td><td>  9631014</td><td>-</td><td>-2.218321e-03</td><td>6.189199</td><td>-0.0310832523</td><td>0.9752489</td><td>0.9934404</td><td>-6.117786</td><td>6.233724</td><td>5.944028</td><td>1.088452e-02</td></tr>\n",
       "\t<tr><td>2019654</td><td>ENSG00000180747.15</td><td>SMG1P3  </td><td>transcribed_unprocessed_pseudogene</td><td>chr16</td><td> 21446683</td><td> 21520444</td><td>-</td><td>-1.577399e-03</td><td>5.932217</td><td>-0.0173776085</td><td>0.9861610</td><td>0.9954832</td><td>-6.117825</td><td>5.933246</td><td>5.941433</td><td>6.052195e-03</td></tr>\n",
       "\t<tr><td>1270798</td><td>ENSG00000226752.9 </td><td>CUTALP  </td><td>transcribed_unitary_pseudogene    </td><td>chr9 </td><td>120824828</td><td>120854385</td><td>+</td><td>-8.246343e-03</td><td>5.965736</td><td>-0.0354502431</td><td>0.9717729</td><td>0.9929683</td><td>-6.117946</td><td>5.978037</td><td>5.911828</td><td>1.243520e-02</td></tr>\n",
       "\t<tr><td> 989011</td><td>ENSG00000205903.6 </td><td>ZNF316  </td><td>protein_coding                    </td><td>chr7 </td><td>  6637322</td><td>  6656432</td><td>+</td><td> 7.883649e-03</td><td>5.816470</td><td> 0.0866801243</td><td>0.9310539</td><td>0.9815130</td><td>-6.117999</td><td>5.813622</td><td>5.849805</td><td>3.102519e-02</td></tr>\n",
       "\t<tr><td> 876743</td><td>ENSG00000204569.9 </td><td>PPP1R10 </td><td>protein_coding                    </td><td>chr6 </td><td> 30600400</td><td> 30618612</td><td>-</td><td> 2.969939e-03</td><td>6.197248</td><td> 0.0482984916</td><td>0.9615495</td><td>0.9912612</td><td>-6.118400</td><td>6.209979</td><td>6.135994</td><td>1.702833e-02</td></tr>\n",
       "\t<tr><td>1339287</td><td>ENSG00000198964.13</td><td>SGMS1   </td><td>protein_coding                    </td><td>chr10</td><td> 50305586</td><td> 50625163</td><td>-</td><td>-2.439162e-03</td><td>6.064686</td><td>-0.0408440750</td><td>0.9674804</td><td>0.9924545</td><td>-6.118567</td><td>6.083519</td><td>5.969220</td><td>1.435783e-02</td></tr>\n",
       "\t<tr><td>1917494</td><td>ENSG00000140262.17</td><td>TCF12   </td><td>protein_coding                    </td><td>chr15</td><td> 56918623</td><td> 57299281</td><td>+</td><td>-3.233955e-03</td><td>6.171161</td><td>-0.0521416487</td><td>0.9584927</td><td>0.9906238</td><td>-6.118895</td><td>6.193740</td><td>6.052983</td><td>1.841119e-02</td></tr>\n",
       "\t<tr><td> 552410</td><td>ENSG00000072858.10</td><td>SIDT1   </td><td>protein_coding                    </td><td>chr3 </td><td>113532296</td><td>113629578</td><td>+</td><td>-5.050496e-03</td><td>5.716584</td><td>-0.0479712307</td><td>0.9618099</td><td>0.9912612</td><td>-6.118998</td><td>5.725911</td><td>5.680181</td><td>1.691077e-02</td></tr>\n",
       "\t<tr><td>1878168</td><td>ENSG00000128731.16</td><td>HERC2   </td><td>protein_coding                    </td><td>chr15</td><td> 28111040</td><td> 28322152</td><td>-</td><td> 4.472515e-03</td><td>5.900806</td><td> 0.0460747672</td><td>0.9633186</td><td>0.9915981</td><td>-6.119164</td><td>5.874803</td><td>6.067134</td><td>1.623007e-02</td></tr>\n",
       "\t<tr><td>1388605</td><td>ENSG00000108039.17</td><td>XPNPEP1 </td><td>protein_coding                    </td><td>chr10</td><td>109864766</td><td>109923553</td><td>-</td><td>-2.651447e-03</td><td>5.881096</td><td>-0.0527758037</td><td>0.9579883</td><td>0.9903187</td><td>-6.119215</td><td>5.904584</td><td>5.760376</td><td>1.863977e-02</td></tr>\n",
       "\t<tr><td>  44666</td><td>ENSG00000142765.17</td><td>SYTL1   </td><td>protein_coding                    </td><td>chr1 </td><td> 27342020</td><td> 27353937</td><td>+</td><td> 7.077173e-04</td><td>6.159966</td><td> 0.0083570149</td><td>0.9933444</td><td>0.9978304</td><td>-6.119219</td><td>6.155394</td><td>6.200469</td><td>2.900131e-03</td></tr>\n",
       "\t<tr><td> 848450</td><td>ENSG00000146094.14</td><td>DOK3    </td><td>protein_coding                    </td><td>chr5 </td><td>177501907</td><td>177511274</td><td>-</td><td> 6.893725e-03</td><td>6.168012</td><td> 0.0557447537</td><td>0.9556273</td><td>0.9898833</td><td>-6.119330</td><td>6.143706</td><td>6.322662</td><td>1.971143e-02</td></tr>\n",
       "\t<tr><td>1452533</td><td>ENSG00000085063.15</td><td>CD59    </td><td>protein_coding                    </td><td>chr11</td><td> 33703010</td><td> 33736491</td><td>-</td><td>-1.241222e-05</td><td>5.803344</td><td>-0.0001360079</td><td>0.9998917</td><td>0.9999643</td><td>-6.119706</td><td>5.822834</td><td>5.706996</td><td>4.704462e-05</td></tr>\n",
       "\t<tr><td> 830900</td><td>ENSG00000123643.12</td><td>SLC36A1 </td><td>protein_coding                    </td><td>chr5 </td><td>151437046</td><td>151492381</td><td>+</td><td> 4.175601e-03</td><td>5.586811</td><td> 0.0342425671</td><td>0.9727342</td><td>0.9931527</td><td>-6.119755</td><td>5.565450</td><td>5.730179</td><td>1.200583e-02</td></tr>\n",
       "\t<tr><td> 357949</td><td>ENSG00000115919.14</td><td>KYNU    </td><td>protein_coding                    </td><td>chr2 </td><td>142877498</td><td>143055832</td><td>+</td><td>-1.084882e-03</td><td>5.903582</td><td>-0.0098147013</td><td>0.9921836</td><td>0.9973629</td><td>-6.120070</td><td>5.930586</td><td>5.762694</td><td>3.407966e-03</td></tr>\n",
       "\t<tr><td> 358351</td><td>ENSG00000121964.14</td><td>GTDC1   </td><td>protein_coding                    </td><td>chr2 </td><td>143938068</td><td>144332568</td><td>-</td><td> 4.338456e-05</td><td>5.615215</td><td> 0.0006224742</td><td>0.9995043</td><td>0.9998022</td><td>-6.120074</td><td>5.625670</td><td>5.573201</td><td>2.153532e-04</td></tr>\n",
       "\t<tr><td> 335831</td><td>ENSG00000115604.10</td><td>IL18R1  </td><td>protein_coding                    </td><td>chr2 </td><td>102311529</td><td>102398775</td><td>+</td><td>-7.431494e-03</td><td>5.830680</td><td>-0.0563649174</td><td>0.9551342</td><td>0.9897855</td><td>-6.120180</td><td>5.846035</td><td>5.758235</td><td>1.993560e-02</td></tr>\n",
       "\t<tr><td>1625567</td><td>ENSG00000061273.17</td><td>HDAC7   </td><td>protein_coding                    </td><td>chr12</td><td> 47782722</td><td> 47833132</td><td>-</td><td> 2.382394e-03</td><td>5.870383</td><td> 0.0191754874</td><td>0.9847293</td><td>0.9952607</td><td>-6.120361</td><td>5.838190</td><td>6.073310</td><td>6.683119e-03</td></tr>\n",
       "\t<tr><td> 857450</td><td>ENSG00000124570.19</td><td>SERPINB6</td><td>protein_coding                    </td><td>chr6 </td><td>  2948159</td><td>  2972165</td><td>-</td><td> 2.625126e-03</td><td>5.712219</td><td> 0.0323121210</td><td>0.9742707</td><td>0.9933170</td><td>-6.120441</td><td>5.713564</td><td>5.721887</td><td>1.132034e-02</td></tr>\n",
       "\t<tr><td>2228835</td><td>ENSG00000170921.15</td><td>TANC2   </td><td>protein_coding                    </td><td>chr17</td><td> 63009556</td><td> 63427699</td><td>+</td><td> 3.173090e-03</td><td>5.617490</td><td> 0.0364557536</td><td>0.9709727</td><td>0.9928913</td><td>-6.120904</td><td>5.605614</td><td>5.705027</td><td>1.279300e-02</td></tr>\n",
       "\t<tr><td>1661341</td><td>ENSG00000166986.14</td><td>MARS    </td><td>protein_coding                    </td><td>chr12</td><td> 57475445</td><td> 57517569</td><td>+</td><td>-2.408975e-03</td><td>6.193260</td><td>-0.0348709520</td><td>0.9722340</td><td>0.9929683</td><td>-6.120936</td><td>6.187397</td><td>6.239691</td><td>1.222919e-02</td></tr>\n",
       "\t<tr><td> 811395</td><td>ENSG00000120709.10</td><td>FAM53C  </td><td>protein_coding                    </td><td>chr5 </td><td>138331935</td><td>138349729</td><td>+</td><td>-5.802742e-03</td><td>6.147088</td><td>-0.0486923493</td><td>0.9612362</td><td>0.9912612</td><td>-6.120998</td><td>6.129717</td><td>6.260984</td><td>1.716986e-02</td></tr>\n",
       "\t<tr><td>1311424</td><td>ENSG00000170525.20</td><td>PFKFB3  </td><td>protein_coding                    </td><td>chr10</td><td>  6144934</td><td>  6254644</td><td>+</td><td>-8.046183e-03</td><td>6.178698</td><td>-0.0635710297</td><td>0.9494056</td><td>0.9875706</td><td>-6.121390</td><td>6.146644</td><td>6.377634</td><td>2.254822e-02</td></tr>\n",
       "\t<tr><td>1775551</td><td>ENSG00000150403.17</td><td>TMCO3   </td><td>protein_coding                    </td><td>chr13</td><td>113490995</td><td>113554590</td><td>+</td><td>-3.232960e-03</td><td>6.171723</td><td>-0.0423349507</td><td>0.9662941</td><td>0.9924140</td><td>-6.121501</td><td>6.180570</td><td>6.133142</td><td>1.489069e-02</td></tr>\n",
       "\t<tr><td>2152978</td><td>ENSG00000034152.18</td><td>MAP2K3  </td><td>protein_coding                    </td><td>chr17</td><td> 21284672</td><td> 21315240</td><td>+</td><td>-4.778963e-03</td><td>6.407099</td><td>-0.0300610526</td><td>0.9760626</td><td>0.9934500</td><td>-6.121611</td><td>6.396788</td><td>6.478349</td><td>1.052231e-02</td></tr>\n",
       "\t<tr><td>1135924</td><td>ENSG00000197892.12</td><td>KIF13B  </td><td>protein_coding                    </td><td>chr8 </td><td> 29067279</td><td> 29263124</td><td>-</td><td> 3.558001e-03</td><td>5.701174</td><td> 0.0451116926</td><td>0.9640848</td><td>0.9917277</td><td>-6.121705</td><td>5.696171</td><td>5.747726</td><td>1.588478e-02</td></tr>\n",
       "\t<tr><td> 335234</td><td>ENSG00000115590.13</td><td>IL1R2   </td><td>protein_coding                    </td><td>chr2 </td><td>101991844</td><td>102028544</td><td>+</td><td> 3.278117e-03</td><td>6.695467</td><td> 0.0218535059</td><td>0.9825970</td><td>0.9949665</td><td>-6.121790</td><td>6.695040</td><td>6.707302</td><td>7.624569e-03</td></tr>\n",
       "\t<tr><td>1378953</td><td>ENSG00000107521.18</td><td>HPS1    </td><td>protein_coding                    </td><td>chr10</td><td> 98416198</td><td> 98446947</td><td>-</td><td>-3.960914e-05</td><td>5.949496</td><td>-0.0003229715</td><td>0.9997428</td><td>0.9999130</td><td>-6.122382</td><td>5.955280</td><td>5.931280</td><td>1.117229e-04</td></tr>\n",
       "</tbody>\n",
       "</table>\n"
      ],
      "text/latex": [
       "A data.frame: 23493 × 17\n",
       "\\begin{tabular}{lllllllllllllllll}\n",
       " X & gene\\_id & gene\\_name & gene\\_type & seqname & start & end & strand & logFC & AveExpr & t & P.Value & adj.P.Val & B & AvgExpr\\_Control & AvgExpr\\_Case & minus\\_log10\\_pValue\\\\\n",
       " <int> & <chr> & <chr> & <chr> & <chr> & <int> & <int> & <chr> & <dbl> & <dbl> & <dbl> & <dbl> & <dbl> & <dbl> & <dbl> & <dbl> & <dbl>\\\\\n",
       "\\hline\n",
       "\t 1047081 & ENSG00000127990.17 & SGCE       & protein\\_coding                     & chr7  &  94524204 &  94656572 & - &  0.9575136 &  0.8940157735 &  4.333610 & 2.839283e-05 & 0.1132687 & 2.11313738 &  0.87624398 &  1.58043298 & 4.546791\\\\\n",
       "\t 2170746 & ENSG00000277089.4  & AC243829.4 & antisense                          & chr17 &  36072866 &  36090134 & + &  0.9573735 &  0.4221780501 &  4.340574 & 2.761464e-05 & 0.1132687 & 1.90394999 &  0.44258832 &  1.06415763 & 4.558861\\\\\n",
       "\t  615568 & ENSG00000163923.9  & RPL39L     & protein\\_coding                     & chr3  & 187120948 & 187180908 & - &  0.6228526 &  0.0343727768 &  4.349092 & 2.669058e-05 & 0.1132687 & 1.88424027 &  0.11072914 &  0.49422146 & 4.573642\\\\\n",
       "\t 1675713 & ENSG00000180881.19 & CAPS2      & protein\\_coding                     & chr12 &  75275979 &  75390928 & - &  0.4369203 &  2.8729281601 &  4.218148 & 4.481451e-05 & 0.1132687 & 1.87562447 &  2.86518204 &  3.04395116 & 4.348581\\\\\n",
       "\t 1683400 & ENSG00000258302.2  & AC025034.1 & antisense                          & chr12 &  89561129 &  89594878 & + &  0.5329528 &  0.7040414301 &  4.238647 & 4.135171e-05 & 0.1132687 & 1.75377966 &  0.74761571 &  1.01869761 & 4.383507\\\\\n",
       "\t 1872776 & ENSG00000211973.2  & IGHV1-69   & IG\\_V\\_gene                          & chr14 & 106714684 & 106715181 & - & -1.8540707 & -1.8850235174 & -4.579615 & 1.044862e-05 & 0.1132687 & 1.72824274 & -1.12727131 & -1.96013234 & 4.980941\\\\\n",
       "\t 2347526 & ENSG00000125726.10 & CD70       & protein\\_coding                     & chr19 &   6583183 &   6604103 & - &  0.8076482 & -0.1433975112 &  4.300069 & 3.244593e-05 & 0.1132687 & 1.63119350 & -0.06406166 &  0.45302989 & 4.488840\\\\\n",
       "\t 1859608 & ENSG00000168350.7  & DEGS2      & protein\\_coding                     & chr14 & 100143957 & 100160163 & - &  0.9076694 & -0.7508862081 &  4.197713 & 4.854232e-05 & 0.1132687 & 1.31069173 & -0.61884449 &  0.32111462 & 4.313879\\\\\n",
       "\t  794644 & ENSG00000197744.5  & PTMAP2     & processed\\_pseudogene               & chr5  & 118973796 & 118974122 & + &  0.7619128 & -1.1307252500 &  4.262738 & 3.760982e-05 & 0.1132687 & 1.16169876 & -0.85659052 & -0.65665827 & 4.424699\\\\\n",
       "\t  623870 & ENSG00000163958.13 & ZDHHC19    & protein\\_coding                     & chr3  & 196197449 & 196211437 & - &  1.1146895 & -1.8641185734 &  4.313148 & 3.080335e-05 & 0.1132687 & 1.04169703 & -1.48458547 & -0.39627538 & 4.511402\\\\\n",
       "\t 1905912 & ENSG00000259520.5  & AC051619.5 & antisense                          & chr15 &  45251580 &  45279251 & - &  0.7710052 & -1.1930518521 &  4.157241 & 5.682107e-05 & 0.1132687 & 1.02302784 & -0.95040653 & -0.40986778 & 4.245491\\\\\n",
       "\t 1698733 & ENSG00000151136.14 & BTBD11     & protein\\_coding                     & chr12 & 107318413 & 107659642 & + & -0.4392640 &  4.2618476266 & -3.964777 & 1.184351e-04 & 0.1623141 & 1.00604815 &  4.31286685 &  4.01621260 & 3.926519\\\\\n",
       "\t 2521353 & ENSG00000025293.16 & PHF20      & protein\\_coding                     & chr20 &  35771974 &  35950381 & + & -0.1964115 &  6.7890912774 & -3.951751 & 1.243627e-04 & 0.1623141 & 0.95357949 &  6.82809914 &  6.57134636 & 3.905310\\\\\n",
       "\t  150685 & ENSG00000163155.11 & LYSMD1     & protein\\_coding                     & chr1  & 151159748 & 151165948 & - &  0.4178172 &  0.2776337619 &  4.001252 & 1.032363e-04 & 0.1623141 & 0.94263549 &  0.31532916 &  0.82217409 & 3.986168\\\\\n",
       "\t  501655 & ENSG00000265078.2  & RN7SL664P  & misc\\_RNA                           & chr3  &  48094801 &  48095105 & - &  1.0831635 & -1.2311377337 &  4.152582 & 5.785656e-05 & 0.1132687 & 0.87421504 & -0.93891647 & -0.57573212 & 4.237647\\\\\n",
       "\t 1057276 & ENSG00000066923.17 & STAG3      & protein\\_coding                     & chr7  & 100177563 & 100221488 & + &  0.6368061 &  0.0003129914 &  3.973586 & 1.145804e-04 & 0.1623141 & 0.76465237 &  0.03721758 &  0.78139417 & 3.940890\\\\\n",
       "\t 1291545 & ENSG00000125482.12 & TTF1       & protein\\_coding                     & chr9  & 132375548 & 132406851 & - & -0.2176816 &  4.7713990363 & -3.883430 & 1.603759e-04 & 0.1668673 & 0.73051809 &  4.82659245 &  4.48508702 & 3.794861\\\\\n",
       "\t 2044176 & ENSG00000069329.17 & VPS35      & protein\\_coding                     & chr16 &  46656132 &  46689518 & - & -0.2479898 &  6.9415681290 & -3.855832 & 1.775713e-04 & 0.1668673 & 0.63332924 &  7.00483170 &  6.58257858 & 3.750627\\\\\n",
       "\t 1956233 & ENSG00000103723.13 & AP3B2      & protein\\_coding                     & chr15 &  82659281 &  82709914 & - &  1.3879046 & -0.8735858177 &  3.999745 & 1.038257e-04 & 0.1623141 & 0.55734540 & -0.74455351 &  0.50700654 & 3.983695\\\\\n",
       "\t  276642 & ENSG00000214711.9  & CAPN14     & protein\\_coding                     & chr2  &  31173056 &  31233858 & - &  0.5370334 &  0.4898435822 &  3.856318 & 1.772540e-04 & 0.1668673 & 0.52495839 &  0.51287445 &  1.03159815 & 3.751404\\\\\n",
       "\t  689669 & ENSG00000163116.9  & STPG2      & protein\\_coding                     & chr4  &  97184093 &  98143240 & - &  0.6195154 & -0.6133671292 &  3.919053 & 1.405133e-04 & 0.1668673 & 0.49815852 & -0.48239724 &  0.07661418 & 3.852283\\\\\n",
       "\t 1291437 & ENSG00000107290.13 & SETX       & protein\\_coding                     & chr9  & 132261356 & 132354985 & - & -0.3006426 &  9.4291146943 & -3.798031 & 2.194311e-04 & 0.1921157 & 0.45824943 &  9.49914790 &  9.02477964 & 3.658702\\\\\n",
       "\t 1473698 & ENSG00000197629.5  & MPEG1      & protein\\_coding                     & chr11 &  59208510 &  59212951 & - & -0.3726257 &  8.1506453351 & -3.796330 & 2.207944e-04 & 0.1921157 & 0.44429792 &  8.21226902 &  7.79699279 & 3.656012\\\\\n",
       "\t   53349 & ENSG00000220785.7  & MTMR9LP    & transcribed\\_unprocessed\\_pseudogene & chr1  &  32231658 &  32241620 & - &  1.0362658 & -1.7609550201 &  4.119088 & 6.585148e-05 & 0.1190038 & 0.40708280 & -1.41921859 & -0.47899816 & 4.181434\\\\\n",
       "\t  816770 & ENSG00000113141.17 & IK         & protein\\_coding                     & chr5  & 140647058 & 140662479 & + & -0.2491288 &  6.9531149711 & -3.723604 & 2.872267e-04 & 0.2301555 & 0.20054961 &  7.01600193 &  6.59628770 & 3.541775\\\\\n",
       "\t  519284 & ENSG00000164091.11 & WDR82      & protein\\_coding                     & chr3  &  52254421 &  52288020 & - & -0.2316190 &  7.7195326461 & -3.696762 & 3.162229e-04 & 0.2301555 & 0.11955166 &  7.76201519 &  7.47777311 & 3.500007\\\\\n",
       "\t 1221880 & ENSG00000147889.17 & CDKN2A     & protein\\_coding                     & chr9  &  21967753 &  21995301 & - &  0.4432767 &  2.0052344417 &  3.684515 & 3.303537e-04 & 0.2301555 & 0.10497588 &  1.97041708 &  2.44311864 & 3.481021\\\\\n",
       "\t 1355319 & ENSG00000279689.1  & AC022400.8 & TEC                                & chr10 &  73769264 &  73772862 & - &  0.4378061 & -0.0627927055 &  3.747750 & 2.633107e-04 & 0.2209271 & 0.09748851 &  0.02213770 &  0.39921588 & 3.579531\\\\\n",
       "\t  807555 & ENSG00000145833.15 & DDX46      & protein\\_coding                     & chr5  & 134758771 & 134855133 & + & -0.1982569 &  6.4667762077 & -3.669184 & 3.488857e-04 & 0.2301555 & 0.02500587 &  6.51195839 &  6.21534165 & 3.457317\\\\\n",
       "\t 1284258 & ENSG00000119392.14 & GLE1       & protein\\_coding                     & chr9  & 128504700 & 128542288 & + & -0.1779501 &  5.5825388777 & -3.662799 & 3.568909e-04 & 0.2301555 & 0.00470246 &  5.61978006 &  5.38578888 & 3.447464\\\\\n",
       "\t ⋮ & ⋮ & ⋮ & ⋮ & ⋮ & ⋮ & ⋮ & ⋮ & ⋮ & ⋮ & ⋮ & ⋮ & ⋮ & ⋮ & ⋮ & ⋮ & ⋮\\\\\n",
       "\t 2046840 & ENSG00000205423.11 & CNEP1R1  & protein\\_coding                     & chr16 &  50024410 &  50037088 & + & -1.523392e-03 & 5.769270 & -0.0186188069 & 0.9851726 & 0.9953186 & -6.117588 & 5.799643 & 5.610354 & 6.487669e-03\\\\\n",
       "\t 2104124 & ENSG00000260528.4  & FAM157C  & lincRNA                            & chr16 &  90102271 &  90178344 & + &  1.428478e-02 & 5.857681 &  0.0930773523 & 0.9259797 & 0.9801683 & -6.117598 & 5.819215 & 6.097702 & 3.339852e-02\\\\\n",
       "\t  257764 & ENSG00000134308.13 & YWHAQ    & protein\\_coding                     & chr2  &   9583972 &   9631014 & - & -2.218321e-03 & 6.189199 & -0.0310832523 & 0.9752489 & 0.9934404 & -6.117786 & 6.233724 & 5.944028 & 1.088452e-02\\\\\n",
       "\t 2019654 & ENSG00000180747.15 & SMG1P3   & transcribed\\_unprocessed\\_pseudogene & chr16 &  21446683 &  21520444 & - & -1.577399e-03 & 5.932217 & -0.0173776085 & 0.9861610 & 0.9954832 & -6.117825 & 5.933246 & 5.941433 & 6.052195e-03\\\\\n",
       "\t 1270798 & ENSG00000226752.9  & CUTALP   & transcribed\\_unitary\\_pseudogene     & chr9  & 120824828 & 120854385 & + & -8.246343e-03 & 5.965736 & -0.0354502431 & 0.9717729 & 0.9929683 & -6.117946 & 5.978037 & 5.911828 & 1.243520e-02\\\\\n",
       "\t  989011 & ENSG00000205903.6  & ZNF316   & protein\\_coding                     & chr7  &   6637322 &   6656432 & + &  7.883649e-03 & 5.816470 &  0.0866801243 & 0.9310539 & 0.9815130 & -6.117999 & 5.813622 & 5.849805 & 3.102519e-02\\\\\n",
       "\t  876743 & ENSG00000204569.9  & PPP1R10  & protein\\_coding                     & chr6  &  30600400 &  30618612 & - &  2.969939e-03 & 6.197248 &  0.0482984916 & 0.9615495 & 0.9912612 & -6.118400 & 6.209979 & 6.135994 & 1.702833e-02\\\\\n",
       "\t 1339287 & ENSG00000198964.13 & SGMS1    & protein\\_coding                     & chr10 &  50305586 &  50625163 & - & -2.439162e-03 & 6.064686 & -0.0408440750 & 0.9674804 & 0.9924545 & -6.118567 & 6.083519 & 5.969220 & 1.435783e-02\\\\\n",
       "\t 1917494 & ENSG00000140262.17 & TCF12    & protein\\_coding                     & chr15 &  56918623 &  57299281 & + & -3.233955e-03 & 6.171161 & -0.0521416487 & 0.9584927 & 0.9906238 & -6.118895 & 6.193740 & 6.052983 & 1.841119e-02\\\\\n",
       "\t  552410 & ENSG00000072858.10 & SIDT1    & protein\\_coding                     & chr3  & 113532296 & 113629578 & + & -5.050496e-03 & 5.716584 & -0.0479712307 & 0.9618099 & 0.9912612 & -6.118998 & 5.725911 & 5.680181 & 1.691077e-02\\\\\n",
       "\t 1878168 & ENSG00000128731.16 & HERC2    & protein\\_coding                     & chr15 &  28111040 &  28322152 & - &  4.472515e-03 & 5.900806 &  0.0460747672 & 0.9633186 & 0.9915981 & -6.119164 & 5.874803 & 6.067134 & 1.623007e-02\\\\\n",
       "\t 1388605 & ENSG00000108039.17 & XPNPEP1  & protein\\_coding                     & chr10 & 109864766 & 109923553 & - & -2.651447e-03 & 5.881096 & -0.0527758037 & 0.9579883 & 0.9903187 & -6.119215 & 5.904584 & 5.760376 & 1.863977e-02\\\\\n",
       "\t   44666 & ENSG00000142765.17 & SYTL1    & protein\\_coding                     & chr1  &  27342020 &  27353937 & + &  7.077173e-04 & 6.159966 &  0.0083570149 & 0.9933444 & 0.9978304 & -6.119219 & 6.155394 & 6.200469 & 2.900131e-03\\\\\n",
       "\t  848450 & ENSG00000146094.14 & DOK3     & protein\\_coding                     & chr5  & 177501907 & 177511274 & - &  6.893725e-03 & 6.168012 &  0.0557447537 & 0.9556273 & 0.9898833 & -6.119330 & 6.143706 & 6.322662 & 1.971143e-02\\\\\n",
       "\t 1452533 & ENSG00000085063.15 & CD59     & protein\\_coding                     & chr11 &  33703010 &  33736491 & - & -1.241222e-05 & 5.803344 & -0.0001360079 & 0.9998917 & 0.9999643 & -6.119706 & 5.822834 & 5.706996 & 4.704462e-05\\\\\n",
       "\t  830900 & ENSG00000123643.12 & SLC36A1  & protein\\_coding                     & chr5  & 151437046 & 151492381 & + &  4.175601e-03 & 5.586811 &  0.0342425671 & 0.9727342 & 0.9931527 & -6.119755 & 5.565450 & 5.730179 & 1.200583e-02\\\\\n",
       "\t  357949 & ENSG00000115919.14 & KYNU     & protein\\_coding                     & chr2  & 142877498 & 143055832 & + & -1.084882e-03 & 5.903582 & -0.0098147013 & 0.9921836 & 0.9973629 & -6.120070 & 5.930586 & 5.762694 & 3.407966e-03\\\\\n",
       "\t  358351 & ENSG00000121964.14 & GTDC1    & protein\\_coding                     & chr2  & 143938068 & 144332568 & - &  4.338456e-05 & 5.615215 &  0.0006224742 & 0.9995043 & 0.9998022 & -6.120074 & 5.625670 & 5.573201 & 2.153532e-04\\\\\n",
       "\t  335831 & ENSG00000115604.10 & IL18R1   & protein\\_coding                     & chr2  & 102311529 & 102398775 & + & -7.431494e-03 & 5.830680 & -0.0563649174 & 0.9551342 & 0.9897855 & -6.120180 & 5.846035 & 5.758235 & 1.993560e-02\\\\\n",
       "\t 1625567 & ENSG00000061273.17 & HDAC7    & protein\\_coding                     & chr12 &  47782722 &  47833132 & - &  2.382394e-03 & 5.870383 &  0.0191754874 & 0.9847293 & 0.9952607 & -6.120361 & 5.838190 & 6.073310 & 6.683119e-03\\\\\n",
       "\t  857450 & ENSG00000124570.19 & SERPINB6 & protein\\_coding                     & chr6  &   2948159 &   2972165 & - &  2.625126e-03 & 5.712219 &  0.0323121210 & 0.9742707 & 0.9933170 & -6.120441 & 5.713564 & 5.721887 & 1.132034e-02\\\\\n",
       "\t 2228835 & ENSG00000170921.15 & TANC2    & protein\\_coding                     & chr17 &  63009556 &  63427699 & + &  3.173090e-03 & 5.617490 &  0.0364557536 & 0.9709727 & 0.9928913 & -6.120904 & 5.605614 & 5.705027 & 1.279300e-02\\\\\n",
       "\t 1661341 & ENSG00000166986.14 & MARS     & protein\\_coding                     & chr12 &  57475445 &  57517569 & + & -2.408975e-03 & 6.193260 & -0.0348709520 & 0.9722340 & 0.9929683 & -6.120936 & 6.187397 & 6.239691 & 1.222919e-02\\\\\n",
       "\t  811395 & ENSG00000120709.10 & FAM53C   & protein\\_coding                     & chr5  & 138331935 & 138349729 & + & -5.802742e-03 & 6.147088 & -0.0486923493 & 0.9612362 & 0.9912612 & -6.120998 & 6.129717 & 6.260984 & 1.716986e-02\\\\\n",
       "\t 1311424 & ENSG00000170525.20 & PFKFB3   & protein\\_coding                     & chr10 &   6144934 &   6254644 & + & -8.046183e-03 & 6.178698 & -0.0635710297 & 0.9494056 & 0.9875706 & -6.121390 & 6.146644 & 6.377634 & 2.254822e-02\\\\\n",
       "\t 1775551 & ENSG00000150403.17 & TMCO3    & protein\\_coding                     & chr13 & 113490995 & 113554590 & + & -3.232960e-03 & 6.171723 & -0.0423349507 & 0.9662941 & 0.9924140 & -6.121501 & 6.180570 & 6.133142 & 1.489069e-02\\\\\n",
       "\t 2152978 & ENSG00000034152.18 & MAP2K3   & protein\\_coding                     & chr17 &  21284672 &  21315240 & + & -4.778963e-03 & 6.407099 & -0.0300610526 & 0.9760626 & 0.9934500 & -6.121611 & 6.396788 & 6.478349 & 1.052231e-02\\\\\n",
       "\t 1135924 & ENSG00000197892.12 & KIF13B   & protein\\_coding                     & chr8  &  29067279 &  29263124 & - &  3.558001e-03 & 5.701174 &  0.0451116926 & 0.9640848 & 0.9917277 & -6.121705 & 5.696171 & 5.747726 & 1.588478e-02\\\\\n",
       "\t  335234 & ENSG00000115590.13 & IL1R2    & protein\\_coding                     & chr2  & 101991844 & 102028544 & + &  3.278117e-03 & 6.695467 &  0.0218535059 & 0.9825970 & 0.9949665 & -6.121790 & 6.695040 & 6.707302 & 7.624569e-03\\\\\n",
       "\t 1378953 & ENSG00000107521.18 & HPS1     & protein\\_coding                     & chr10 &  98416198 &  98446947 & - & -3.960914e-05 & 5.949496 & -0.0003229715 & 0.9997428 & 0.9999130 & -6.122382 & 5.955280 & 5.931280 & 1.117229e-04\\\\\n",
       "\\end{tabular}\n"
      ],
      "text/markdown": [
       "\n",
       "A data.frame: 23493 × 17\n",
       "\n",
       "| X &lt;int&gt; | gene_id &lt;chr&gt; | gene_name &lt;chr&gt; | gene_type &lt;chr&gt; | seqname &lt;chr&gt; | start &lt;int&gt; | end &lt;int&gt; | strand &lt;chr&gt; | logFC &lt;dbl&gt; | AveExpr &lt;dbl&gt; | t &lt;dbl&gt; | P.Value &lt;dbl&gt; | adj.P.Val &lt;dbl&gt; | B &lt;dbl&gt; | AvgExpr_Control &lt;dbl&gt; | AvgExpr_Case &lt;dbl&gt; | minus_log10_pValue &lt;dbl&gt; |\n",
       "|---|---|---|---|---|---|---|---|---|---|---|---|---|---|---|---|---|\n",
       "| 1047081 | ENSG00000127990.17 | SGCE       | protein_coding                     | chr7  |  94524204 |  94656572 | - |  0.9575136 |  0.8940157735 |  4.333610 | 2.839283e-05 | 0.1132687 | 2.11313738 |  0.87624398 |  1.58043298 | 4.546791 |\n",
       "| 2170746 | ENSG00000277089.4  | AC243829.4 | antisense                          | chr17 |  36072866 |  36090134 | + |  0.9573735 |  0.4221780501 |  4.340574 | 2.761464e-05 | 0.1132687 | 1.90394999 |  0.44258832 |  1.06415763 | 4.558861 |\n",
       "|  615568 | ENSG00000163923.9  | RPL39L     | protein_coding                     | chr3  | 187120948 | 187180908 | - |  0.6228526 |  0.0343727768 |  4.349092 | 2.669058e-05 | 0.1132687 | 1.88424027 |  0.11072914 |  0.49422146 | 4.573642 |\n",
       "| 1675713 | ENSG00000180881.19 | CAPS2      | protein_coding                     | chr12 |  75275979 |  75390928 | - |  0.4369203 |  2.8729281601 |  4.218148 | 4.481451e-05 | 0.1132687 | 1.87562447 |  2.86518204 |  3.04395116 | 4.348581 |\n",
       "| 1683400 | ENSG00000258302.2  | AC025034.1 | antisense                          | chr12 |  89561129 |  89594878 | + |  0.5329528 |  0.7040414301 |  4.238647 | 4.135171e-05 | 0.1132687 | 1.75377966 |  0.74761571 |  1.01869761 | 4.383507 |\n",
       "| 1872776 | ENSG00000211973.2  | IGHV1-69   | IG_V_gene                          | chr14 | 106714684 | 106715181 | - | -1.8540707 | -1.8850235174 | -4.579615 | 1.044862e-05 | 0.1132687 | 1.72824274 | -1.12727131 | -1.96013234 | 4.980941 |\n",
       "| 2347526 | ENSG00000125726.10 | CD70       | protein_coding                     | chr19 |   6583183 |   6604103 | - |  0.8076482 | -0.1433975112 |  4.300069 | 3.244593e-05 | 0.1132687 | 1.63119350 | -0.06406166 |  0.45302989 | 4.488840 |\n",
       "| 1859608 | ENSG00000168350.7  | DEGS2      | protein_coding                     | chr14 | 100143957 | 100160163 | - |  0.9076694 | -0.7508862081 |  4.197713 | 4.854232e-05 | 0.1132687 | 1.31069173 | -0.61884449 |  0.32111462 | 4.313879 |\n",
       "|  794644 | ENSG00000197744.5  | PTMAP2     | processed_pseudogene               | chr5  | 118973796 | 118974122 | + |  0.7619128 | -1.1307252500 |  4.262738 | 3.760982e-05 | 0.1132687 | 1.16169876 | -0.85659052 | -0.65665827 | 4.424699 |\n",
       "|  623870 | ENSG00000163958.13 | ZDHHC19    | protein_coding                     | chr3  | 196197449 | 196211437 | - |  1.1146895 | -1.8641185734 |  4.313148 | 3.080335e-05 | 0.1132687 | 1.04169703 | -1.48458547 | -0.39627538 | 4.511402 |\n",
       "| 1905912 | ENSG00000259520.5  | AC051619.5 | antisense                          | chr15 |  45251580 |  45279251 | - |  0.7710052 | -1.1930518521 |  4.157241 | 5.682107e-05 | 0.1132687 | 1.02302784 | -0.95040653 | -0.40986778 | 4.245491 |\n",
       "| 1698733 | ENSG00000151136.14 | BTBD11     | protein_coding                     | chr12 | 107318413 | 107659642 | + | -0.4392640 |  4.2618476266 | -3.964777 | 1.184351e-04 | 0.1623141 | 1.00604815 |  4.31286685 |  4.01621260 | 3.926519 |\n",
       "| 2521353 | ENSG00000025293.16 | PHF20      | protein_coding                     | chr20 |  35771974 |  35950381 | + | -0.1964115 |  6.7890912774 | -3.951751 | 1.243627e-04 | 0.1623141 | 0.95357949 |  6.82809914 |  6.57134636 | 3.905310 |\n",
       "|  150685 | ENSG00000163155.11 | LYSMD1     | protein_coding                     | chr1  | 151159748 | 151165948 | - |  0.4178172 |  0.2776337619 |  4.001252 | 1.032363e-04 | 0.1623141 | 0.94263549 |  0.31532916 |  0.82217409 | 3.986168 |\n",
       "|  501655 | ENSG00000265078.2  | RN7SL664P  | misc_RNA                           | chr3  |  48094801 |  48095105 | - |  1.0831635 | -1.2311377337 |  4.152582 | 5.785656e-05 | 0.1132687 | 0.87421504 | -0.93891647 | -0.57573212 | 4.237647 |\n",
       "| 1057276 | ENSG00000066923.17 | STAG3      | protein_coding                     | chr7  | 100177563 | 100221488 | + |  0.6368061 |  0.0003129914 |  3.973586 | 1.145804e-04 | 0.1623141 | 0.76465237 |  0.03721758 |  0.78139417 | 3.940890 |\n",
       "| 1291545 | ENSG00000125482.12 | TTF1       | protein_coding                     | chr9  | 132375548 | 132406851 | - | -0.2176816 |  4.7713990363 | -3.883430 | 1.603759e-04 | 0.1668673 | 0.73051809 |  4.82659245 |  4.48508702 | 3.794861 |\n",
       "| 2044176 | ENSG00000069329.17 | VPS35      | protein_coding                     | chr16 |  46656132 |  46689518 | - | -0.2479898 |  6.9415681290 | -3.855832 | 1.775713e-04 | 0.1668673 | 0.63332924 |  7.00483170 |  6.58257858 | 3.750627 |\n",
       "| 1956233 | ENSG00000103723.13 | AP3B2      | protein_coding                     | chr15 |  82659281 |  82709914 | - |  1.3879046 | -0.8735858177 |  3.999745 | 1.038257e-04 | 0.1623141 | 0.55734540 | -0.74455351 |  0.50700654 | 3.983695 |\n",
       "|  276642 | ENSG00000214711.9  | CAPN14     | protein_coding                     | chr2  |  31173056 |  31233858 | - |  0.5370334 |  0.4898435822 |  3.856318 | 1.772540e-04 | 0.1668673 | 0.52495839 |  0.51287445 |  1.03159815 | 3.751404 |\n",
       "|  689669 | ENSG00000163116.9  | STPG2      | protein_coding                     | chr4  |  97184093 |  98143240 | - |  0.6195154 | -0.6133671292 |  3.919053 | 1.405133e-04 | 0.1668673 | 0.49815852 | -0.48239724 |  0.07661418 | 3.852283 |\n",
       "| 1291437 | ENSG00000107290.13 | SETX       | protein_coding                     | chr9  | 132261356 | 132354985 | - | -0.3006426 |  9.4291146943 | -3.798031 | 2.194311e-04 | 0.1921157 | 0.45824943 |  9.49914790 |  9.02477964 | 3.658702 |\n",
       "| 1473698 | ENSG00000197629.5  | MPEG1      | protein_coding                     | chr11 |  59208510 |  59212951 | - | -0.3726257 |  8.1506453351 | -3.796330 | 2.207944e-04 | 0.1921157 | 0.44429792 |  8.21226902 |  7.79699279 | 3.656012 |\n",
       "|   53349 | ENSG00000220785.7  | MTMR9LP    | transcribed_unprocessed_pseudogene | chr1  |  32231658 |  32241620 | - |  1.0362658 | -1.7609550201 |  4.119088 | 6.585148e-05 | 0.1190038 | 0.40708280 | -1.41921859 | -0.47899816 | 4.181434 |\n",
       "|  816770 | ENSG00000113141.17 | IK         | protein_coding                     | chr5  | 140647058 | 140662479 | + | -0.2491288 |  6.9531149711 | -3.723604 | 2.872267e-04 | 0.2301555 | 0.20054961 |  7.01600193 |  6.59628770 | 3.541775 |\n",
       "|  519284 | ENSG00000164091.11 | WDR82      | protein_coding                     | chr3  |  52254421 |  52288020 | - | -0.2316190 |  7.7195326461 | -3.696762 | 3.162229e-04 | 0.2301555 | 0.11955166 |  7.76201519 |  7.47777311 | 3.500007 |\n",
       "| 1221880 | ENSG00000147889.17 | CDKN2A     | protein_coding                     | chr9  |  21967753 |  21995301 | - |  0.4432767 |  2.0052344417 |  3.684515 | 3.303537e-04 | 0.2301555 | 0.10497588 |  1.97041708 |  2.44311864 | 3.481021 |\n",
       "| 1355319 | ENSG00000279689.1  | AC022400.8 | TEC                                | chr10 |  73769264 |  73772862 | - |  0.4378061 | -0.0627927055 |  3.747750 | 2.633107e-04 | 0.2209271 | 0.09748851 |  0.02213770 |  0.39921588 | 3.579531 |\n",
       "|  807555 | ENSG00000145833.15 | DDX46      | protein_coding                     | chr5  | 134758771 | 134855133 | + | -0.1982569 |  6.4667762077 | -3.669184 | 3.488857e-04 | 0.2301555 | 0.02500587 |  6.51195839 |  6.21534165 | 3.457317 |\n",
       "| 1284258 | ENSG00000119392.14 | GLE1       | protein_coding                     | chr9  | 128504700 | 128542288 | + | -0.1779501 |  5.5825388777 | -3.662799 | 3.568909e-04 | 0.2301555 | 0.00470246 |  5.61978006 |  5.38578888 | 3.447464 |\n",
       "| ⋮ | ⋮ | ⋮ | ⋮ | ⋮ | ⋮ | ⋮ | ⋮ | ⋮ | ⋮ | ⋮ | ⋮ | ⋮ | ⋮ | ⋮ | ⋮ | ⋮ |\n",
       "| 2046840 | ENSG00000205423.11 | CNEP1R1  | protein_coding                     | chr16 |  50024410 |  50037088 | + | -1.523392e-03 | 5.769270 | -0.0186188069 | 0.9851726 | 0.9953186 | -6.117588 | 5.799643 | 5.610354 | 6.487669e-03 |\n",
       "| 2104124 | ENSG00000260528.4  | FAM157C  | lincRNA                            | chr16 |  90102271 |  90178344 | + |  1.428478e-02 | 5.857681 |  0.0930773523 | 0.9259797 | 0.9801683 | -6.117598 | 5.819215 | 6.097702 | 3.339852e-02 |\n",
       "|  257764 | ENSG00000134308.13 | YWHAQ    | protein_coding                     | chr2  |   9583972 |   9631014 | - | -2.218321e-03 | 6.189199 | -0.0310832523 | 0.9752489 | 0.9934404 | -6.117786 | 6.233724 | 5.944028 | 1.088452e-02 |\n",
       "| 2019654 | ENSG00000180747.15 | SMG1P3   | transcribed_unprocessed_pseudogene | chr16 |  21446683 |  21520444 | - | -1.577399e-03 | 5.932217 | -0.0173776085 | 0.9861610 | 0.9954832 | -6.117825 | 5.933246 | 5.941433 | 6.052195e-03 |\n",
       "| 1270798 | ENSG00000226752.9  | CUTALP   | transcribed_unitary_pseudogene     | chr9  | 120824828 | 120854385 | + | -8.246343e-03 | 5.965736 | -0.0354502431 | 0.9717729 | 0.9929683 | -6.117946 | 5.978037 | 5.911828 | 1.243520e-02 |\n",
       "|  989011 | ENSG00000205903.6  | ZNF316   | protein_coding                     | chr7  |   6637322 |   6656432 | + |  7.883649e-03 | 5.816470 |  0.0866801243 | 0.9310539 | 0.9815130 | -6.117999 | 5.813622 | 5.849805 | 3.102519e-02 |\n",
       "|  876743 | ENSG00000204569.9  | PPP1R10  | protein_coding                     | chr6  |  30600400 |  30618612 | - |  2.969939e-03 | 6.197248 |  0.0482984916 | 0.9615495 | 0.9912612 | -6.118400 | 6.209979 | 6.135994 | 1.702833e-02 |\n",
       "| 1339287 | ENSG00000198964.13 | SGMS1    | protein_coding                     | chr10 |  50305586 |  50625163 | - | -2.439162e-03 | 6.064686 | -0.0408440750 | 0.9674804 | 0.9924545 | -6.118567 | 6.083519 | 5.969220 | 1.435783e-02 |\n",
       "| 1917494 | ENSG00000140262.17 | TCF12    | protein_coding                     | chr15 |  56918623 |  57299281 | + | -3.233955e-03 | 6.171161 | -0.0521416487 | 0.9584927 | 0.9906238 | -6.118895 | 6.193740 | 6.052983 | 1.841119e-02 |\n",
       "|  552410 | ENSG00000072858.10 | SIDT1    | protein_coding                     | chr3  | 113532296 | 113629578 | + | -5.050496e-03 | 5.716584 | -0.0479712307 | 0.9618099 | 0.9912612 | -6.118998 | 5.725911 | 5.680181 | 1.691077e-02 |\n",
       "| 1878168 | ENSG00000128731.16 | HERC2    | protein_coding                     | chr15 |  28111040 |  28322152 | - |  4.472515e-03 | 5.900806 |  0.0460747672 | 0.9633186 | 0.9915981 | -6.119164 | 5.874803 | 6.067134 | 1.623007e-02 |\n",
       "| 1388605 | ENSG00000108039.17 | XPNPEP1  | protein_coding                     | chr10 | 109864766 | 109923553 | - | -2.651447e-03 | 5.881096 | -0.0527758037 | 0.9579883 | 0.9903187 | -6.119215 | 5.904584 | 5.760376 | 1.863977e-02 |\n",
       "|   44666 | ENSG00000142765.17 | SYTL1    | protein_coding                     | chr1  |  27342020 |  27353937 | + |  7.077173e-04 | 6.159966 |  0.0083570149 | 0.9933444 | 0.9978304 | -6.119219 | 6.155394 | 6.200469 | 2.900131e-03 |\n",
       "|  848450 | ENSG00000146094.14 | DOK3     | protein_coding                     | chr5  | 177501907 | 177511274 | - |  6.893725e-03 | 6.168012 |  0.0557447537 | 0.9556273 | 0.9898833 | -6.119330 | 6.143706 | 6.322662 | 1.971143e-02 |\n",
       "| 1452533 | ENSG00000085063.15 | CD59     | protein_coding                     | chr11 |  33703010 |  33736491 | - | -1.241222e-05 | 5.803344 | -0.0001360079 | 0.9998917 | 0.9999643 | -6.119706 | 5.822834 | 5.706996 | 4.704462e-05 |\n",
       "|  830900 | ENSG00000123643.12 | SLC36A1  | protein_coding                     | chr5  | 151437046 | 151492381 | + |  4.175601e-03 | 5.586811 |  0.0342425671 | 0.9727342 | 0.9931527 | -6.119755 | 5.565450 | 5.730179 | 1.200583e-02 |\n",
       "|  357949 | ENSG00000115919.14 | KYNU     | protein_coding                     | chr2  | 142877498 | 143055832 | + | -1.084882e-03 | 5.903582 | -0.0098147013 | 0.9921836 | 0.9973629 | -6.120070 | 5.930586 | 5.762694 | 3.407966e-03 |\n",
       "|  358351 | ENSG00000121964.14 | GTDC1    | protein_coding                     | chr2  | 143938068 | 144332568 | - |  4.338456e-05 | 5.615215 |  0.0006224742 | 0.9995043 | 0.9998022 | -6.120074 | 5.625670 | 5.573201 | 2.153532e-04 |\n",
       "|  335831 | ENSG00000115604.10 | IL18R1   | protein_coding                     | chr2  | 102311529 | 102398775 | + | -7.431494e-03 | 5.830680 | -0.0563649174 | 0.9551342 | 0.9897855 | -6.120180 | 5.846035 | 5.758235 | 1.993560e-02 |\n",
       "| 1625567 | ENSG00000061273.17 | HDAC7    | protein_coding                     | chr12 |  47782722 |  47833132 | - |  2.382394e-03 | 5.870383 |  0.0191754874 | 0.9847293 | 0.9952607 | -6.120361 | 5.838190 | 6.073310 | 6.683119e-03 |\n",
       "|  857450 | ENSG00000124570.19 | SERPINB6 | protein_coding                     | chr6  |   2948159 |   2972165 | - |  2.625126e-03 | 5.712219 |  0.0323121210 | 0.9742707 | 0.9933170 | -6.120441 | 5.713564 | 5.721887 | 1.132034e-02 |\n",
       "| 2228835 | ENSG00000170921.15 | TANC2    | protein_coding                     | chr17 |  63009556 |  63427699 | + |  3.173090e-03 | 5.617490 |  0.0364557536 | 0.9709727 | 0.9928913 | -6.120904 | 5.605614 | 5.705027 | 1.279300e-02 |\n",
       "| 1661341 | ENSG00000166986.14 | MARS     | protein_coding                     | chr12 |  57475445 |  57517569 | + | -2.408975e-03 | 6.193260 | -0.0348709520 | 0.9722340 | 0.9929683 | -6.120936 | 6.187397 | 6.239691 | 1.222919e-02 |\n",
       "|  811395 | ENSG00000120709.10 | FAM53C   | protein_coding                     | chr5  | 138331935 | 138349729 | + | -5.802742e-03 | 6.147088 | -0.0486923493 | 0.9612362 | 0.9912612 | -6.120998 | 6.129717 | 6.260984 | 1.716986e-02 |\n",
       "| 1311424 | ENSG00000170525.20 | PFKFB3   | protein_coding                     | chr10 |   6144934 |   6254644 | + | -8.046183e-03 | 6.178698 | -0.0635710297 | 0.9494056 | 0.9875706 | -6.121390 | 6.146644 | 6.377634 | 2.254822e-02 |\n",
       "| 1775551 | ENSG00000150403.17 | TMCO3    | protein_coding                     | chr13 | 113490995 | 113554590 | + | -3.232960e-03 | 6.171723 | -0.0423349507 | 0.9662941 | 0.9924140 | -6.121501 | 6.180570 | 6.133142 | 1.489069e-02 |\n",
       "| 2152978 | ENSG00000034152.18 | MAP2K3   | protein_coding                     | chr17 |  21284672 |  21315240 | + | -4.778963e-03 | 6.407099 | -0.0300610526 | 0.9760626 | 0.9934500 | -6.121611 | 6.396788 | 6.478349 | 1.052231e-02 |\n",
       "| 1135924 | ENSG00000197892.12 | KIF13B   | protein_coding                     | chr8  |  29067279 |  29263124 | - |  3.558001e-03 | 5.701174 |  0.0451116926 | 0.9640848 | 0.9917277 | -6.121705 | 5.696171 | 5.747726 | 1.588478e-02 |\n",
       "|  335234 | ENSG00000115590.13 | IL1R2    | protein_coding                     | chr2  | 101991844 | 102028544 | + |  3.278117e-03 | 6.695467 |  0.0218535059 | 0.9825970 | 0.9949665 | -6.121790 | 6.695040 | 6.707302 | 7.624569e-03 |\n",
       "| 1378953 | ENSG00000107521.18 | HPS1     | protein_coding                     | chr10 |  98416198 |  98446947 | - | -3.960914e-05 | 5.949496 | -0.0003229715 | 0.9997428 | 0.9999130 | -6.122382 | 5.955280 | 5.931280 | 1.117229e-04 |\n",
       "\n"
      ],
      "text/plain": [
       "      X       gene_id            gene_name  gene_type                         \n",
       "1     1047081 ENSG00000127990.17 SGCE       protein_coding                    \n",
       "2     2170746 ENSG00000277089.4  AC243829.4 antisense                         \n",
       "3      615568 ENSG00000163923.9  RPL39L     protein_coding                    \n",
       "4     1675713 ENSG00000180881.19 CAPS2      protein_coding                    \n",
       "5     1683400 ENSG00000258302.2  AC025034.1 antisense                         \n",
       "6     1872776 ENSG00000211973.2  IGHV1-69   IG_V_gene                         \n",
       "7     2347526 ENSG00000125726.10 CD70       protein_coding                    \n",
       "8     1859608 ENSG00000168350.7  DEGS2      protein_coding                    \n",
       "9      794644 ENSG00000197744.5  PTMAP2     processed_pseudogene              \n",
       "10     623870 ENSG00000163958.13 ZDHHC19    protein_coding                    \n",
       "11    1905912 ENSG00000259520.5  AC051619.5 antisense                         \n",
       "12    1698733 ENSG00000151136.14 BTBD11     protein_coding                    \n",
       "13    2521353 ENSG00000025293.16 PHF20      protein_coding                    \n",
       "14     150685 ENSG00000163155.11 LYSMD1     protein_coding                    \n",
       "15     501655 ENSG00000265078.2  RN7SL664P  misc_RNA                          \n",
       "16    1057276 ENSG00000066923.17 STAG3      protein_coding                    \n",
       "17    1291545 ENSG00000125482.12 TTF1       protein_coding                    \n",
       "18    2044176 ENSG00000069329.17 VPS35      protein_coding                    \n",
       "19    1956233 ENSG00000103723.13 AP3B2      protein_coding                    \n",
       "20     276642 ENSG00000214711.9  CAPN14     protein_coding                    \n",
       "21     689669 ENSG00000163116.9  STPG2      protein_coding                    \n",
       "22    1291437 ENSG00000107290.13 SETX       protein_coding                    \n",
       "23    1473698 ENSG00000197629.5  MPEG1      protein_coding                    \n",
       "24      53349 ENSG00000220785.7  MTMR9LP    transcribed_unprocessed_pseudogene\n",
       "25     816770 ENSG00000113141.17 IK         protein_coding                    \n",
       "26     519284 ENSG00000164091.11 WDR82      protein_coding                    \n",
       "27    1221880 ENSG00000147889.17 CDKN2A     protein_coding                    \n",
       "28    1355319 ENSG00000279689.1  AC022400.8 TEC                               \n",
       "29     807555 ENSG00000145833.15 DDX46      protein_coding                    \n",
       "30    1284258 ENSG00000119392.14 GLE1       protein_coding                    \n",
       "⋮     ⋮       ⋮                  ⋮          ⋮                                 \n",
       "23464 2046840 ENSG00000205423.11 CNEP1R1    protein_coding                    \n",
       "23465 2104124 ENSG00000260528.4  FAM157C    lincRNA                           \n",
       "23466  257764 ENSG00000134308.13 YWHAQ      protein_coding                    \n",
       "23467 2019654 ENSG00000180747.15 SMG1P3     transcribed_unprocessed_pseudogene\n",
       "23468 1270798 ENSG00000226752.9  CUTALP     transcribed_unitary_pseudogene    \n",
       "23469  989011 ENSG00000205903.6  ZNF316     protein_coding                    \n",
       "23470  876743 ENSG00000204569.9  PPP1R10    protein_coding                    \n",
       "23471 1339287 ENSG00000198964.13 SGMS1      protein_coding                    \n",
       "23472 1917494 ENSG00000140262.17 TCF12      protein_coding                    \n",
       "23473  552410 ENSG00000072858.10 SIDT1      protein_coding                    \n",
       "23474 1878168 ENSG00000128731.16 HERC2      protein_coding                    \n",
       "23475 1388605 ENSG00000108039.17 XPNPEP1    protein_coding                    \n",
       "23476   44666 ENSG00000142765.17 SYTL1      protein_coding                    \n",
       "23477  848450 ENSG00000146094.14 DOK3       protein_coding                    \n",
       "23478 1452533 ENSG00000085063.15 CD59       protein_coding                    \n",
       "23479  830900 ENSG00000123643.12 SLC36A1    protein_coding                    \n",
       "23480  357949 ENSG00000115919.14 KYNU       protein_coding                    \n",
       "23481  358351 ENSG00000121964.14 GTDC1      protein_coding                    \n",
       "23482  335831 ENSG00000115604.10 IL18R1     protein_coding                    \n",
       "23483 1625567 ENSG00000061273.17 HDAC7      protein_coding                    \n",
       "23484  857450 ENSG00000124570.19 SERPINB6   protein_coding                    \n",
       "23485 2228835 ENSG00000170921.15 TANC2      protein_coding                    \n",
       "23486 1661341 ENSG00000166986.14 MARS       protein_coding                    \n",
       "23487  811395 ENSG00000120709.10 FAM53C     protein_coding                    \n",
       "23488 1311424 ENSG00000170525.20 PFKFB3     protein_coding                    \n",
       "23489 1775551 ENSG00000150403.17 TMCO3      protein_coding                    \n",
       "23490 2152978 ENSG00000034152.18 MAP2K3     protein_coding                    \n",
       "23491 1135924 ENSG00000197892.12 KIF13B     protein_coding                    \n",
       "23492  335234 ENSG00000115590.13 IL1R2      protein_coding                    \n",
       "23493 1378953 ENSG00000107521.18 HPS1       protein_coding                    \n",
       "      seqname start     end       strand logFC         AveExpr      \n",
       "1     chr7     94524204  94656572 -       0.9575136     0.8940157735\n",
       "2     chr17    36072866  36090134 +       0.9573735     0.4221780501\n",
       "3     chr3    187120948 187180908 -       0.6228526     0.0343727768\n",
       "4     chr12    75275979  75390928 -       0.4369203     2.8729281601\n",
       "5     chr12    89561129  89594878 +       0.5329528     0.7040414301\n",
       "6     chr14   106714684 106715181 -      -1.8540707    -1.8850235174\n",
       "7     chr19     6583183   6604103 -       0.8076482    -0.1433975112\n",
       "8     chr14   100143957 100160163 -       0.9076694    -0.7508862081\n",
       "9     chr5    118973796 118974122 +       0.7619128    -1.1307252500\n",
       "10    chr3    196197449 196211437 -       1.1146895    -1.8641185734\n",
       "11    chr15    45251580  45279251 -       0.7710052    -1.1930518521\n",
       "12    chr12   107318413 107659642 +      -0.4392640     4.2618476266\n",
       "13    chr20    35771974  35950381 +      -0.1964115     6.7890912774\n",
       "14    chr1    151159748 151165948 -       0.4178172     0.2776337619\n",
       "15    chr3     48094801  48095105 -       1.0831635    -1.2311377337\n",
       "16    chr7    100177563 100221488 +       0.6368061     0.0003129914\n",
       "17    chr9    132375548 132406851 -      -0.2176816     4.7713990363\n",
       "18    chr16    46656132  46689518 -      -0.2479898     6.9415681290\n",
       "19    chr15    82659281  82709914 -       1.3879046    -0.8735858177\n",
       "20    chr2     31173056  31233858 -       0.5370334     0.4898435822\n",
       "21    chr4     97184093  98143240 -       0.6195154    -0.6133671292\n",
       "22    chr9    132261356 132354985 -      -0.3006426     9.4291146943\n",
       "23    chr11    59208510  59212951 -      -0.3726257     8.1506453351\n",
       "24    chr1     32231658  32241620 -       1.0362658    -1.7609550201\n",
       "25    chr5    140647058 140662479 +      -0.2491288     6.9531149711\n",
       "26    chr3     52254421  52288020 -      -0.2316190     7.7195326461\n",
       "27    chr9     21967753  21995301 -       0.4432767     2.0052344417\n",
       "28    chr10    73769264  73772862 -       0.4378061    -0.0627927055\n",
       "29    chr5    134758771 134855133 +      -0.1982569     6.4667762077\n",
       "30    chr9    128504700 128542288 +      -0.1779501     5.5825388777\n",
       "⋮     ⋮       ⋮         ⋮         ⋮      ⋮             ⋮            \n",
       "23464 chr16    50024410  50037088 +      -1.523392e-03 5.769270     \n",
       "23465 chr16    90102271  90178344 +       1.428478e-02 5.857681     \n",
       "23466 chr2      9583972   9631014 -      -2.218321e-03 6.189199     \n",
       "23467 chr16    21446683  21520444 -      -1.577399e-03 5.932217     \n",
       "23468 chr9    120824828 120854385 +      -8.246343e-03 5.965736     \n",
       "23469 chr7      6637322   6656432 +       7.883649e-03 5.816470     \n",
       "23470 chr6     30600400  30618612 -       2.969939e-03 6.197248     \n",
       "23471 chr10    50305586  50625163 -      -2.439162e-03 6.064686     \n",
       "23472 chr15    56918623  57299281 +      -3.233955e-03 6.171161     \n",
       "23473 chr3    113532296 113629578 +      -5.050496e-03 5.716584     \n",
       "23474 chr15    28111040  28322152 -       4.472515e-03 5.900806     \n",
       "23475 chr10   109864766 109923553 -      -2.651447e-03 5.881096     \n",
       "23476 chr1     27342020  27353937 +       7.077173e-04 6.159966     \n",
       "23477 chr5    177501907 177511274 -       6.893725e-03 6.168012     \n",
       "23478 chr11    33703010  33736491 -      -1.241222e-05 5.803344     \n",
       "23479 chr5    151437046 151492381 +       4.175601e-03 5.586811     \n",
       "23480 chr2    142877498 143055832 +      -1.084882e-03 5.903582     \n",
       "23481 chr2    143938068 144332568 -       4.338456e-05 5.615215     \n",
       "23482 chr2    102311529 102398775 +      -7.431494e-03 5.830680     \n",
       "23483 chr12    47782722  47833132 -       2.382394e-03 5.870383     \n",
       "23484 chr6      2948159   2972165 -       2.625126e-03 5.712219     \n",
       "23485 chr17    63009556  63427699 +       3.173090e-03 5.617490     \n",
       "23486 chr12    57475445  57517569 +      -2.408975e-03 6.193260     \n",
       "23487 chr5    138331935 138349729 +      -5.802742e-03 6.147088     \n",
       "23488 chr10     6144934   6254644 +      -8.046183e-03 6.178698     \n",
       "23489 chr13   113490995 113554590 +      -3.232960e-03 6.171723     \n",
       "23490 chr17    21284672  21315240 +      -4.778963e-03 6.407099     \n",
       "23491 chr8     29067279  29263124 -       3.558001e-03 5.701174     \n",
       "23492 chr2    101991844 102028544 +       3.278117e-03 6.695467     \n",
       "23493 chr10    98416198  98446947 -      -3.960914e-05 5.949496     \n",
       "      t             P.Value      adj.P.Val B          AvgExpr_Control\n",
       "1      4.333610     2.839283e-05 0.1132687 2.11313738  0.87624398    \n",
       "2      4.340574     2.761464e-05 0.1132687 1.90394999  0.44258832    \n",
       "3      4.349092     2.669058e-05 0.1132687 1.88424027  0.11072914    \n",
       "4      4.218148     4.481451e-05 0.1132687 1.87562447  2.86518204    \n",
       "5      4.238647     4.135171e-05 0.1132687 1.75377966  0.74761571    \n",
       "6     -4.579615     1.044862e-05 0.1132687 1.72824274 -1.12727131    \n",
       "7      4.300069     3.244593e-05 0.1132687 1.63119350 -0.06406166    \n",
       "8      4.197713     4.854232e-05 0.1132687 1.31069173 -0.61884449    \n",
       "9      4.262738     3.760982e-05 0.1132687 1.16169876 -0.85659052    \n",
       "10     4.313148     3.080335e-05 0.1132687 1.04169703 -1.48458547    \n",
       "11     4.157241     5.682107e-05 0.1132687 1.02302784 -0.95040653    \n",
       "12    -3.964777     1.184351e-04 0.1623141 1.00604815  4.31286685    \n",
       "13    -3.951751     1.243627e-04 0.1623141 0.95357949  6.82809914    \n",
       "14     4.001252     1.032363e-04 0.1623141 0.94263549  0.31532916    \n",
       "15     4.152582     5.785656e-05 0.1132687 0.87421504 -0.93891647    \n",
       "16     3.973586     1.145804e-04 0.1623141 0.76465237  0.03721758    \n",
       "17    -3.883430     1.603759e-04 0.1668673 0.73051809  4.82659245    \n",
       "18    -3.855832     1.775713e-04 0.1668673 0.63332924  7.00483170    \n",
       "19     3.999745     1.038257e-04 0.1623141 0.55734540 -0.74455351    \n",
       "20     3.856318     1.772540e-04 0.1668673 0.52495839  0.51287445    \n",
       "21     3.919053     1.405133e-04 0.1668673 0.49815852 -0.48239724    \n",
       "22    -3.798031     2.194311e-04 0.1921157 0.45824943  9.49914790    \n",
       "23    -3.796330     2.207944e-04 0.1921157 0.44429792  8.21226902    \n",
       "24     4.119088     6.585148e-05 0.1190038 0.40708280 -1.41921859    \n",
       "25    -3.723604     2.872267e-04 0.2301555 0.20054961  7.01600193    \n",
       "26    -3.696762     3.162229e-04 0.2301555 0.11955166  7.76201519    \n",
       "27     3.684515     3.303537e-04 0.2301555 0.10497588  1.97041708    \n",
       "28     3.747750     2.633107e-04 0.2209271 0.09748851  0.02213770    \n",
       "29    -3.669184     3.488857e-04 0.2301555 0.02500587  6.51195839    \n",
       "30    -3.662799     3.568909e-04 0.2301555 0.00470246  5.61978006    \n",
       "⋮     ⋮             ⋮            ⋮         ⋮          ⋮              \n",
       "23464 -0.0186188069 0.9851726    0.9953186 -6.117588  5.799643       \n",
       "23465  0.0930773523 0.9259797    0.9801683 -6.117598  5.819215       \n",
       "23466 -0.0310832523 0.9752489    0.9934404 -6.117786  6.233724       \n",
       "23467 -0.0173776085 0.9861610    0.9954832 -6.117825  5.933246       \n",
       "23468 -0.0354502431 0.9717729    0.9929683 -6.117946  5.978037       \n",
       "23469  0.0866801243 0.9310539    0.9815130 -6.117999  5.813622       \n",
       "23470  0.0482984916 0.9615495    0.9912612 -6.118400  6.209979       \n",
       "23471 -0.0408440750 0.9674804    0.9924545 -6.118567  6.083519       \n",
       "23472 -0.0521416487 0.9584927    0.9906238 -6.118895  6.193740       \n",
       "23473 -0.0479712307 0.9618099    0.9912612 -6.118998  5.725911       \n",
       "23474  0.0460747672 0.9633186    0.9915981 -6.119164  5.874803       \n",
       "23475 -0.0527758037 0.9579883    0.9903187 -6.119215  5.904584       \n",
       "23476  0.0083570149 0.9933444    0.9978304 -6.119219  6.155394       \n",
       "23477  0.0557447537 0.9556273    0.9898833 -6.119330  6.143706       \n",
       "23478 -0.0001360079 0.9998917    0.9999643 -6.119706  5.822834       \n",
       "23479  0.0342425671 0.9727342    0.9931527 -6.119755  5.565450       \n",
       "23480 -0.0098147013 0.9921836    0.9973629 -6.120070  5.930586       \n",
       "23481  0.0006224742 0.9995043    0.9998022 -6.120074  5.625670       \n",
       "23482 -0.0563649174 0.9551342    0.9897855 -6.120180  5.846035       \n",
       "23483  0.0191754874 0.9847293    0.9952607 -6.120361  5.838190       \n",
       "23484  0.0323121210 0.9742707    0.9933170 -6.120441  5.713564       \n",
       "23485  0.0364557536 0.9709727    0.9928913 -6.120904  5.605614       \n",
       "23486 -0.0348709520 0.9722340    0.9929683 -6.120936  6.187397       \n",
       "23487 -0.0486923493 0.9612362    0.9912612 -6.120998  6.129717       \n",
       "23488 -0.0635710297 0.9494056    0.9875706 -6.121390  6.146644       \n",
       "23489 -0.0423349507 0.9662941    0.9924140 -6.121501  6.180570       \n",
       "23490 -0.0300610526 0.9760626    0.9934500 -6.121611  6.396788       \n",
       "23491  0.0451116926 0.9640848    0.9917277 -6.121705  5.696171       \n",
       "23492  0.0218535059 0.9825970    0.9949665 -6.121790  6.695040       \n",
       "23493 -0.0003229715 0.9997428    0.9999130 -6.122382  5.955280       \n",
       "      AvgExpr_Case minus_log10_pValue\n",
       "1      1.58043298  4.546791          \n",
       "2      1.06415763  4.558861          \n",
       "3      0.49422146  4.573642          \n",
       "4      3.04395116  4.348581          \n",
       "5      1.01869761  4.383507          \n",
       "6     -1.96013234  4.980941          \n",
       "7      0.45302989  4.488840          \n",
       "8      0.32111462  4.313879          \n",
       "9     -0.65665827  4.424699          \n",
       "10    -0.39627538  4.511402          \n",
       "11    -0.40986778  4.245491          \n",
       "12     4.01621260  3.926519          \n",
       "13     6.57134636  3.905310          \n",
       "14     0.82217409  3.986168          \n",
       "15    -0.57573212  4.237647          \n",
       "16     0.78139417  3.940890          \n",
       "17     4.48508702  3.794861          \n",
       "18     6.58257858  3.750627          \n",
       "19     0.50700654  3.983695          \n",
       "20     1.03159815  3.751404          \n",
       "21     0.07661418  3.852283          \n",
       "22     9.02477964  3.658702          \n",
       "23     7.79699279  3.656012          \n",
       "24    -0.47899816  4.181434          \n",
       "25     6.59628770  3.541775          \n",
       "26     7.47777311  3.500007          \n",
       "27     2.44311864  3.481021          \n",
       "28     0.39921588  3.579531          \n",
       "29     6.21534165  3.457317          \n",
       "30     5.38578888  3.447464          \n",
       "⋮     ⋮            ⋮                 \n",
       "23464 5.610354     6.487669e-03      \n",
       "23465 6.097702     3.339852e-02      \n",
       "23466 5.944028     1.088452e-02      \n",
       "23467 5.941433     6.052195e-03      \n",
       "23468 5.911828     1.243520e-02      \n",
       "23469 5.849805     3.102519e-02      \n",
       "23470 6.135994     1.702833e-02      \n",
       "23471 5.969220     1.435783e-02      \n",
       "23472 6.052983     1.841119e-02      \n",
       "23473 5.680181     1.691077e-02      \n",
       "23474 6.067134     1.623007e-02      \n",
       "23475 5.760376     1.863977e-02      \n",
       "23476 6.200469     2.900131e-03      \n",
       "23477 6.322662     1.971143e-02      \n",
       "23478 5.706996     4.704462e-05      \n",
       "23479 5.730179     1.200583e-02      \n",
       "23480 5.762694     3.407966e-03      \n",
       "23481 5.573201     2.153532e-04      \n",
       "23482 5.758235     1.993560e-02      \n",
       "23483 6.073310     6.683119e-03      \n",
       "23484 5.721887     1.132034e-02      \n",
       "23485 5.705027     1.279300e-02      \n",
       "23486 6.239691     1.222919e-02      \n",
       "23487 6.260984     1.716986e-02      \n",
       "23488 6.377634     2.254822e-02      \n",
       "23489 6.133142     1.489069e-02      \n",
       "23490 6.478349     1.052231e-02      \n",
       "23491 5.747726     1.588478e-02      \n",
       "23492 6.707302     7.624569e-03      \n",
       "23493 5.931280     1.117229e-04      "
      ]
     },
     "metadata": {},
     "output_type": "display_data"
    }
   ],
   "source": [
    "df.withMeans"
   ]
  },
  {
   "cell_type": "code",
   "execution_count": 167,
   "metadata": {},
   "outputs": [
    {
     "data": {
      "text/html": [
       "<table class=\"dataframe\">\n",
       "<caption>A data.frame: 0 × 1</caption>\n",
       "<thead>\n",
       "\t<tr><th scope=col>gene_name</th></tr>\n",
       "\t<tr><th scope=col>&lt;chr&gt;</th></tr>\n",
       "</thead>\n",
       "<tbody>\n",
       "</tbody>\n",
       "</table>\n"
      ],
      "text/latex": [
       "A data.frame: 0 × 1\n",
       "\\begin{tabular}{l}\n",
       " gene\\_name\\\\\n",
       " <chr>\\\\\n",
       "\\hline\n",
       "\\end{tabular}\n"
      ],
      "text/markdown": [
       "\n",
       "A data.frame: 0 × 1\n",
       "\n",
       "| gene_name &lt;chr&gt; |\n",
       "|---|\n",
       "\n"
      ],
      "text/plain": [
       "     gene_name"
      ]
     },
     "metadata": {},
     "output_type": "display_data"
    }
   ],
   "source": [
    "genes<-subset(df.withMeans,((adj.P.Val<=0.05 & logFC>=log2(1.5)) | (adj.P.Val<=0.05 & logFC<=-log2(1.5))),select=\"gene_name\")\n",
    "genes"
   ]
  },
  {
   "cell_type": "code",
   "execution_count": 168,
   "metadata": {
    "scrolled": false
   },
   "outputs": [
    {
     "name": "stderr",
     "output_type": "stream",
     "text": [
      "Loading required package: BiasedUrn\n",
      "\n",
      "Loading required package: geneLenDataBase\n",
      "\n",
      "\n",
      "\n",
      "Loading required package: AnnotationDbi\n",
      "\n",
      "Loading required package: stats4\n",
      "\n",
      "Loading required package: BiocGenerics\n",
      "\n",
      "\n",
      "Attaching package: ‘BiocGenerics’\n",
      "\n",
      "\n",
      "The following object is masked from ‘package:limma’:\n",
      "\n",
      "    plotMA\n",
      "\n",
      "\n",
      "The following objects are masked from ‘package:lubridate’:\n",
      "\n",
      "    intersect, setdiff, union\n",
      "\n",
      "\n",
      "The following objects are masked from ‘package:dplyr’:\n",
      "\n",
      "    combine, intersect, setdiff, union\n",
      "\n",
      "\n",
      "The following objects are masked from ‘package:stats’:\n",
      "\n",
      "    IQR, mad, sd, var, xtabs\n",
      "\n",
      "\n",
      "The following objects are masked from ‘package:base’:\n",
      "\n",
      "    anyDuplicated, aperm, append, as.data.frame, basename, cbind,\n",
      "    colnames, dirname, do.call, duplicated, eval, evalq, Filter, Find,\n",
      "    get, grep, grepl, intersect, is.unsorted, lapply, Map, mapply,\n",
      "    match, mget, order, paste, pmax, pmax.int, pmin, pmin.int,\n",
      "    Position, rank, rbind, Reduce, rownames, sapply, setdiff, sort,\n",
      "    table, tapply, union, unique, unsplit, which.max, which.min\n",
      "\n",
      "\n",
      "Loading required package: Biobase\n",
      "\n",
      "Welcome to Bioconductor\n",
      "\n",
      "    Vignettes contain introductory material; view with\n",
      "    'browseVignettes()'. To cite Bioconductor, see\n",
      "    'citation(\"Biobase\")', and for packages 'citation(\"pkgname\")'.\n",
      "\n",
      "\n",
      "Loading required package: IRanges\n",
      "\n",
      "Loading required package: S4Vectors\n",
      "\n",
      "\n",
      "Attaching package: ‘S4Vectors’\n",
      "\n",
      "\n",
      "The following object is masked from ‘package:geneLenDataBase’:\n",
      "\n",
      "    unfactor\n",
      "\n",
      "\n",
      "The following objects are masked from ‘package:lubridate’:\n",
      "\n",
      "    second, second<-\n",
      "\n",
      "\n",
      "The following objects are masked from ‘package:dplyr’:\n",
      "\n",
      "    first, rename\n",
      "\n",
      "\n",
      "The following object is masked from ‘package:tidyr’:\n",
      "\n",
      "    expand\n",
      "\n",
      "\n",
      "The following objects are masked from ‘package:base’:\n",
      "\n",
      "    expand.grid, I, unname\n",
      "\n",
      "\n",
      "\n",
      "Attaching package: ‘IRanges’\n",
      "\n",
      "\n",
      "The following object is masked from ‘package:lubridate’:\n",
      "\n",
      "    %within%\n",
      "\n",
      "\n",
      "The following objects are masked from ‘package:dplyr’:\n",
      "\n",
      "    collapse, desc, slice\n",
      "\n",
      "\n",
      "The following object is masked from ‘package:purrr’:\n",
      "\n",
      "    reduce\n",
      "\n",
      "\n",
      "\n",
      "Attaching package: ‘AnnotationDbi’\n",
      "\n",
      "\n",
      "The following object is masked from ‘package:dplyr’:\n",
      "\n",
      "    select\n",
      "\n",
      "\n",
      "\n",
      "\n"
     ]
    }
   ],
   "source": [
    "library(goseq)\n",
    "library(org.Hs.eg.db)\n",
    "library(GO.db)"
   ]
  },
  {
   "cell_type": "code",
   "execution_count": 169,
   "metadata": {},
   "outputs": [],
   "source": [
    "genes<-subset(df.withMeans,((adj.P.Val<=0.05 & logFC>=log2(1.5)) | (adj.P.Val<=0.05 & logFC<=-log2(1.5))),select=\"gene_id\")\n",
    "genes$gene_id <- sub(\"\\\\..*\", \"\", genes$gene_id)\n",
    "genes<-genes$gene_id"
   ]
  },
  {
   "cell_type": "code",
   "execution_count": 170,
   "metadata": {},
   "outputs": [
    {
     "data": {
      "text/html": [],
      "text/latex": [],
      "text/markdown": [],
      "text/plain": [
       "character(0)"
      ]
     },
     "metadata": {},
     "output_type": "display_data"
    }
   ],
   "source": [
    "genes"
   ]
  },
  {
   "cell_type": "code",
   "execution_count": 171,
   "metadata": {},
   "outputs": [
    {
     "name": "stderr",
     "output_type": "stream",
     "text": [
      "clusterProfiler v4.6.2  For help: https://yulab-smu.top/biomedical-knowledge-mining-book/\n",
      "\n",
      "If you use clusterProfiler in published research, please cite:\n",
      "T Wu, E Hu, S Xu, M Chen, P Guo, Z Dai, T Feng, L Zhou, W Tang, L Zhan, X Fu, S Liu, X Bo, and G Yu. clusterProfiler 4.0: A universal enrichment tool for interpreting omics data. The Innovation. 2021, 2(3):100141\n",
      "\n",
      "\n",
      "Attaching package: ‘clusterProfiler’\n",
      "\n",
      "\n",
      "The following object is masked from ‘package:AnnotationDbi’:\n",
      "\n",
      "    select\n",
      "\n",
      "\n",
      "The following object is masked from ‘package:IRanges’:\n",
      "\n",
      "    slice\n",
      "\n",
      "\n",
      "The following object is masked from ‘package:S4Vectors’:\n",
      "\n",
      "    rename\n",
      "\n",
      "\n",
      "The following object is masked from ‘package:purrr’:\n",
      "\n",
      "    simplify\n",
      "\n",
      "\n",
      "The following object is masked from ‘package:stats’:\n",
      "\n",
      "    filter\n",
      "\n",
      "\n"
     ]
    }
   ],
   "source": [
    "library(clusterProfiler)\n",
    "library(ggplot2)"
   ]
  },
  {
   "cell_type": "code",
   "execution_count": 172,
   "metadata": {},
   "outputs": [
    {
     "name": "stderr",
     "output_type": "stream",
     "text": [
      "--> No gene can be mapped....\n",
      "\n",
      "--> Expected input gene ID: ENSG00000125779,ENSG00000185728,ENSG00000143452,ENSG00000215021,ENSG00000180509,ENSG00000101574\n",
      "\n",
      "--> return NULL...\n",
      "\n"
     ]
    }
   ],
   "source": [
    "sample_test <- enrichGO(genes, OrgDb=org.Hs.eg.db, pAdjustMethod = \"BH\", pvalueCutoff  = 0.01, qvalueCutoff  = 0.05,keyType = \"ENSEMBL\",ont=\"BP\")"
   ]
  },
  {
   "cell_type": "markdown",
   "metadata": {},
   "source": [
    "ont= MP (molecular process), BP (biological process), MF (molecular function, in what process is involved?)"
   ]
  },
  {
   "cell_type": "code",
   "execution_count": null,
   "metadata": {},
   "outputs": [],
   "source": [
    "sample_test"
   ]
  },
  {
   "cell_type": "code",
   "execution_count": null,
   "metadata": {
    "scrolled": false
   },
   "outputs": [],
   "source": [
    "enrich_go_tidy <- sample_test %>% \n",
    "  slot(\"result\") %>% \n",
    "  tibble::as.tibble() \n",
    "enrich_go_tidy"
   ]
  },
  {
   "cell_type": "code",
   "execution_count": null,
   "metadata": {
    "scrolled": false
   },
   "outputs": [],
   "source": [
    "dotplot(sample_test,font.size = 8)"
   ]
  },
  {
   "cell_type": "code",
   "execution_count": null,
   "metadata": {},
   "outputs": [],
   "source": [
    "library(enrichplot)"
   ]
  },
  {
   "cell_type": "code",
   "execution_count": null,
   "metadata": {},
   "outputs": [],
   "source": [
    "par(mfrow=c(5,5))\n",
    "goplot(sample_test,font.size=5)"
   ]
  },
  {
   "cell_type": "code",
   "execution_count": null,
   "metadata": {},
   "outputs": [],
   "source": []
  }
 ],
 "metadata": {
  "kernelspec": {
   "display_name": "R",
   "language": "R",
   "name": "ir"
  },
  "language_info": {
   "codemirror_mode": "r",
   "file_extension": ".r",
   "mimetype": "text/x-r-source",
   "name": "R",
   "pygments_lexer": "r",
   "version": "4.2.2"
  },
  "toc": {
   "base_numbering": 1,
   "nav_menu": {},
   "number_sections": true,
   "sideBar": true,
   "skip_h1_title": false,
   "title_cell": "Table of Contents",
   "title_sidebar": "Contents",
   "toc_cell": false,
   "toc_position": {},
   "toc_section_display": true,
   "toc_window_display": false
  }
 },
 "nbformat": 4,
 "nbformat_minor": 2
}
