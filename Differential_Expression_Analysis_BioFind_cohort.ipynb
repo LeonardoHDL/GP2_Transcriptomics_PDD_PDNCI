{
 "cells": [
  {
   "cell_type": "markdown",
   "metadata": {},
   "source": [
    "## Load libraries"
   ]
  },
  {
   "cell_type": "code",
   "execution_count": 1,
   "metadata": {},
   "outputs": [
    {
     "name": "stderr",
     "output_type": "stream",
     "text": [
      "Warning message in system(\"timedatectl\", intern = TRUE):\n",
      "“running command 'timedatectl' had status 1”\n",
      "── \u001b[1mAttaching core tidyverse packages\u001b[22m ──────────────────────── tidyverse 2.0.0 ──\n",
      "\u001b[32m✔\u001b[39m \u001b[34mdplyr    \u001b[39m 1.1.2     \u001b[32m✔\u001b[39m \u001b[34mreadr    \u001b[39m 2.1.4\n",
      "\u001b[32m✔\u001b[39m \u001b[34mforcats  \u001b[39m 1.0.0     \u001b[32m✔\u001b[39m \u001b[34mstringr  \u001b[39m 1.5.0\n",
      "\u001b[32m✔\u001b[39m \u001b[34mggplot2  \u001b[39m 3.4.2     \u001b[32m✔\u001b[39m \u001b[34mtibble   \u001b[39m 3.2.1\n",
      "\u001b[32m✔\u001b[39m \u001b[34mlubridate\u001b[39m 1.9.2     \u001b[32m✔\u001b[39m \u001b[34mtidyr    \u001b[39m 1.3.0\n",
      "\u001b[32m✔\u001b[39m \u001b[34mpurrr    \u001b[39m 1.0.1     \n",
      "── \u001b[1mConflicts\u001b[22m ────────────────────────────────────────── tidyverse_conflicts() ──\n",
      "\u001b[31m✖\u001b[39m \u001b[34mdplyr\u001b[39m::\u001b[32mfilter()\u001b[39m masks \u001b[34mstats\u001b[39m::filter()\n",
      "\u001b[31m✖\u001b[39m \u001b[34mdplyr\u001b[39m::\u001b[32mlag()\u001b[39m    masks \u001b[34mstats\u001b[39m::lag()\n",
      "\u001b[36mℹ\u001b[39m Use the conflicted package (\u001b[3m\u001b[34m<http://conflicted.r-lib.org/>\u001b[39m\u001b[23m) to force all conflicts to become errors\n",
      "Loading required package: limma\n",
      "\n",
      "\n",
      "Attaching package: ‘EnvStats’\n",
      "\n",
      "\n",
      "The following objects are masked from ‘package:stats’:\n",
      "\n",
      "    predict, predict.lm\n",
      "\n",
      "\n",
      "The following object is masked from ‘package:base’:\n",
      "\n",
      "    print.default\n",
      "\n",
      "\n"
     ]
    }
   ],
   "source": [
    "library(tidyverse) #basis for data manipulation, best practices\n",
    "library(edgeR) #expression normalization\n",
    "library(limma) #differential expression\n",
    "library(reticulate) # Load reticulate for calling the FireCloud Python API\n",
    "library(bigrquery) # Load biqrquery for interacting with BigQuery\n",
    "library(EnvStats)\n",
    "library(xlsx)"
   ]
  },
  {
   "cell_type": "markdown",
   "metadata": {},
   "source": [
    "## Initialize Workspace Variables"
   ]
  },
  {
   "cell_type": "code",
   "execution_count": 2,
   "metadata": {},
   "outputs": [],
   "source": [
    "BILLING_PROJECT_ID <- Sys.getenv('GOOGLE_PROJECT')\n",
    "WORKSPACE_NAMESPACE <- Sys.getenv('WORKSPACE_NAMESPACE')\n",
    "WORKSPACE_NAME <- Sys.getenv('WORKSPACE_NAME')\n",
    "WORKSPACE_BUCKET <- Sys.getenv('WORKSPACE_BUCKET')"
   ]
  },
  {
   "cell_type": "code",
   "execution_count": 3,
   "metadata": {},
   "outputs": [],
   "source": [
    "# Utility routine for printing a shell command before executing it\n",
    "shell_do <- function(command) {\n",
    "    print(paste('Executing: ', command))\n",
    "    system(command, intern = TRUE)\n",
    "}"
   ]
  },
  {
   "cell_type": "code",
   "execution_count": 4,
   "metadata": {},
   "outputs": [],
   "source": [
    "gcs_read_file <- function(path) {\n",
    "    pipe(str_glue('gsutil -u {BILLING_PROJECT_ID} cat {path}'))\n",
    "}"
   ]
  },
  {
   "cell_type": "code",
   "execution_count": 104,
   "metadata": {},
   "outputs": [],
   "source": [
    "#Sample metadata\n",
    "samplemetaPath <- file.path({WORKSPACE_BUCKET}, 'sample_meta_white_BF_cohort_final_PDD_PDMCI_PDNC.csv')\n",
    "tmp <- gcs_read_file(samplemetaPath)\n",
    "\n",
    "sample_meta <- read.csv(tmp,header=TRUE)"
   ]
  },
  {
   "cell_type": "code",
   "execution_count": 105,
   "metadata": {},
   "outputs": [
    {
     "data": {
      "text/html": [
       "<style>\n",
       ".list-inline {list-style: none; margin:0; padding: 0}\n",
       ".list-inline>li {display: inline-block}\n",
       ".list-inline>li:not(:last-child)::after {content: \"\\00b7\"; padding: 0 .5ex}\n",
       "</style>\n",
       "<ol class=list-inline><li>'X'</li><li>'participant_id'</li><li>'GUID'</li><li>'visit_month'</li><li>'sample_id'</li><li>'PCT_USABLE_BASES'</li><li>'Plate'</li><li>'STRAND_BALANCE'</li><li>'diagnosis_at_baseline'</li><li>'diagnosis_latest'</li><li>'case_control_other_at_baseline'</li><li>'case_control_other_latest'</li><li>'age_at_baseline'</li><li>'age_at_diagnosis'</li><li>'disease_duration'</li><li>'sex'</li><li>'ethnicity'</li><li>'race'</li><li>'education_level_years'</li><li>'moca_total_score'</li><li>'Cognition_phenotype'</li><li>'age_baseline_range'</li><li>'belonging_cohort'</li><li>'ID_number'</li></ol>\n"
      ],
      "text/latex": [
       "\\begin{enumerate*}\n",
       "\\item 'X'\n",
       "\\item 'participant\\_id'\n",
       "\\item 'GUID'\n",
       "\\item 'visit\\_month'\n",
       "\\item 'sample\\_id'\n",
       "\\item 'PCT\\_USABLE\\_BASES'\n",
       "\\item 'Plate'\n",
       "\\item 'STRAND\\_BALANCE'\n",
       "\\item 'diagnosis\\_at\\_baseline'\n",
       "\\item 'diagnosis\\_latest'\n",
       "\\item 'case\\_control\\_other\\_at\\_baseline'\n",
       "\\item 'case\\_control\\_other\\_latest'\n",
       "\\item 'age\\_at\\_baseline'\n",
       "\\item 'age\\_at\\_diagnosis'\n",
       "\\item 'disease\\_duration'\n",
       "\\item 'sex'\n",
       "\\item 'ethnicity'\n",
       "\\item 'race'\n",
       "\\item 'education\\_level\\_years'\n",
       "\\item 'moca\\_total\\_score'\n",
       "\\item 'Cognition\\_phenotype'\n",
       "\\item 'age\\_baseline\\_range'\n",
       "\\item 'belonging\\_cohort'\n",
       "\\item 'ID\\_number'\n",
       "\\end{enumerate*}\n"
      ],
      "text/markdown": [
       "1. 'X'\n",
       "2. 'participant_id'\n",
       "3. 'GUID'\n",
       "4. 'visit_month'\n",
       "5. 'sample_id'\n",
       "6. 'PCT_USABLE_BASES'\n",
       "7. 'Plate'\n",
       "8. 'STRAND_BALANCE'\n",
       "9. 'diagnosis_at_baseline'\n",
       "10. 'diagnosis_latest'\n",
       "11. 'case_control_other_at_baseline'\n",
       "12. 'case_control_other_latest'\n",
       "13. 'age_at_baseline'\n",
       "14. 'age_at_diagnosis'\n",
       "15. 'disease_duration'\n",
       "16. 'sex'\n",
       "17. 'ethnicity'\n",
       "18. 'race'\n",
       "19. 'education_level_years'\n",
       "20. 'moca_total_score'\n",
       "21. 'Cognition_phenotype'\n",
       "22. 'age_baseline_range'\n",
       "23. 'belonging_cohort'\n",
       "24. 'ID_number'\n",
       "\n",
       "\n"
      ],
      "text/plain": [
       " [1] \"X\"                              \"participant_id\"                \n",
       " [3] \"GUID\"                           \"visit_month\"                   \n",
       " [5] \"sample_id\"                      \"PCT_USABLE_BASES\"              \n",
       " [7] \"Plate\"                          \"STRAND_BALANCE\"                \n",
       " [9] \"diagnosis_at_baseline\"          \"diagnosis_latest\"              \n",
       "[11] \"case_control_other_at_baseline\" \"case_control_other_latest\"     \n",
       "[13] \"age_at_baseline\"                \"age_at_diagnosis\"              \n",
       "[15] \"disease_duration\"               \"sex\"                           \n",
       "[17] \"ethnicity\"                      \"race\"                          \n",
       "[19] \"education_level_years\"          \"moca_total_score\"              \n",
       "[21] \"Cognition_phenotype\"            \"age_baseline_range\"            \n",
       "[23] \"belonging_cohort\"               \"ID_number\"                     "
      ]
     },
     "metadata": {},
     "output_type": "display_data"
    }
   ],
   "source": [
    "colnames(sample_meta)"
   ]
  },
  {
   "cell_type": "code",
   "execution_count": 106,
   "metadata": {},
   "outputs": [
    {
     "data": {
      "text/plain": [
       "\n",
       "53 55 56 57 58 59 60 61 62 63 64 65 66 67 68 69 70 71 72 73 74 75 76 77 78 79 \n",
       " 1  3  6  4  7  4  5 14  7  3  6 10 13  5 12 12 12  5  7  9  7  1  4  3  2  5 \n",
       "80 81 82 84 \n",
       " 2  4  2  1 "
      ]
     },
     "metadata": {},
     "output_type": "display_data"
    }
   ],
   "source": [
    "table(sample_meta$age_at_baseline)"
   ]
  },
  {
   "cell_type": "code",
   "execution_count": 107,
   "metadata": {},
   "outputs": [
    {
     "data": {
      "text/plain": [
       "\n",
       " HCMCI HCnoCI    PDD  PDMCI PDnoCI \n",
       "     2     75      2     15     82 "
      ]
     },
     "metadata": {},
     "output_type": "display_data"
    }
   ],
   "source": [
    "table(sample_meta$Cognition_phenotype)"
   ]
  },
  {
   "cell_type": "code",
   "execution_count": 110,
   "metadata": {},
   "outputs": [
    {
     "data": {
      "text/plain": [
       "        \n",
       "         Female Male\n",
       "  HCMCI       2    0\n",
       "  HCnoCI     38   37\n",
       "  PDD         0    2\n",
       "  PDMCI       4   11\n",
       "  PDnoCI     33   49"
      ]
     },
     "metadata": {},
     "output_type": "display_data"
    }
   ],
   "source": [
    "table(sample_meta$Cognition_phenotype, sample_meta$sex)"
   ]
  },
  {
   "cell_type": "markdown",
   "metadata": {},
   "source": [
    "Choose sex and age of interest"
   ]
  },
  {
   "cell_type": "code",
   "execution_count": 108,
   "metadata": {},
   "outputs": [
    {
     "name": "stdout",
     "output_type": "stream",
     "text": [
      "'data.frame':\t176 obs. of  24 variables:\n",
      " $ X                             : int  0 1 2 3 4 6 7 9 10 11 ...\n",
      " $ participant_id                : chr  \"BF-1001\" \"BF-1002\" \"BF-1003\" \"BF-1004\" ...\n",
      " $ GUID                          : chr  \"PDNW781VHY\" \"PDCB969UGG\" \"PDLW805AHT\" \"PDKW284DYW\" ...\n",
      " $ visit_month                   : int  0 0 0 0 0 0 0 0 0 0 ...\n",
      " $ sample_id                     : chr  \"BF-1001-SVM0_5T1\" \"BF-1002-SVM0_5T1\" \"BF-1003-SVM0_5T1\" \"BF-1004-SVM0_5T1\" ...\n",
      " $ PCT_USABLE_BASES              : num  0.38 0.205 0.252 0.269 0.32 ...\n",
      " $ Plate                         : chr  \"P341\" \"P341\" \"P341\" \"P341\" ...\n",
      " $ STRAND_BALANCE                : num  0.628 0.751 0.714 0.675 0.595 ...\n",
      " $ diagnosis_at_baseline         : chr  \"No PD Nor Other Neurological Disorder\" \"Idiopathic PD\" \"Idiopathic PD\" \"Idiopathic PD\" ...\n",
      " $ diagnosis_latest              : chr  \"No PD Nor Other Neurological Disorder\" \"Idiopathic PD\" \"Idiopathic PD\" \"Idiopathic PD\" ...\n",
      " $ case_control_other_at_baseline: chr  \"Control\" \"Case\" \"Case\" \"Case\" ...\n",
      " $ case_control_other_latest     : chr  \"Control\" \"Case\" \"Case\" \"Case\" ...\n",
      " $ age_at_baseline               : num  55 66 61 62 61 69 73 70 65 81 ...\n",
      " $ age_at_diagnosis              : num  NA 61 56 55 NA 65 NA 65 NA NA ...\n",
      " $ disease_duration              : num  NA 5 5 7 NA 4 NA 5 NA NA ...\n",
      " $ sex                           : chr  \"Male\" \"Female\" \"Male\" \"Male\" ...\n",
      " $ ethnicity                     : chr  \"Not Hispanic or Latino\" \"Not Hispanic or Latino\" \"Not Hispanic or Latino\" \"Not Hispanic or Latino\" ...\n",
      " $ race                          : chr  \"White\" \"White\" \"White\" \"White\" ...\n",
      " $ education_level_years         : chr  \"12-16 years\" \"12-16 years\" \"12-16 years\" \"12-16 years\" ...\n",
      " $ moca_total_score              : num  28 29 30 28 27 29 29 24 26 29 ...\n",
      " $ Cognition_phenotype           : chr  \"HCnoCI\" \"PDnoCI\" \"PDnoCI\" \"PDnoCI\" ...\n",
      " $ age_baseline_range            : chr  \"55_to_65\" \"above_65\" \"55_to_65\" \"55_to_65\" ...\n",
      " $ belonging_cohort              : chr  \"BF\" \"BF\" \"BF\" \"BF\" ...\n",
      " $ ID_number                     : int  1001 1002 1003 1004 1005 1008 1009 1011 1012 1013 ...\n"
     ]
    }
   ],
   "source": [
    "str(sample_meta)"
   ]
  },
  {
   "cell_type": "code",
   "execution_count": 109,
   "metadata": {},
   "outputs": [
    {
     "data": {
      "text/plain": [
       "\n",
       "Female   Male \n",
       "    77     99 "
      ]
     },
     "metadata": {},
     "output_type": "display_data"
    }
   ],
   "source": [
    "table(sample_meta$sex)"
   ]
  },
  {
   "cell_type": "code",
   "execution_count": 14,
   "metadata": {},
   "outputs": [],
   "source": [
    "#Transcriptomics count data\n",
    "rnaPath <- file.path({WORKSPACE_BUCKET}, 'matrix.featureCounts.tsv')"
   ]
  },
  {
   "cell_type": "code",
   "execution_count": 15,
   "metadata": {},
   "outputs": [],
   "source": [
    "tmp <- gcs_read_file(rnaPath)"
   ]
  },
  {
   "cell_type": "code",
   "execution_count": 16,
   "metadata": {},
   "outputs": [],
   "source": [
    "countTable <- read.table(file=tmp, header=TRUE, sep=\"\\t\", check.names=FALSE, row.names=\"Geneid\")"
   ]
  },
  {
   "cell_type": "code",
   "execution_count": 17,
   "metadata": {},
   "outputs": [],
   "source": [
    "#passingGenesAnno\n",
    "annoPath <- file.path({WORKSPACE_BUCKET}, 'passingGenesAnno.csv')\n",
    "tmp <- gcs_read_file(annoPath)\n",
    "filtGenes <- read.csv(tmp,header=TRUE)"
   ]
  },
  {
   "cell_type": "code",
   "execution_count": 18,
   "metadata": {},
   "outputs": [
    {
     "data": {
      "text/html": [
       "<style>\n",
       ".list-inline {list-style: none; margin:0; padding: 0}\n",
       ".list-inline>li {display: inline-block}\n",
       ".list-inline>li:not(:last-child)::after {content: \"\\00b7\"; padding: 0 .5ex}\n",
       "</style>\n",
       "<ol class=list-inline><li>58780</li><li>8461</li></ol>\n"
      ],
      "text/latex": [
       "\\begin{enumerate*}\n",
       "\\item 58780\n",
       "\\item 8461\n",
       "\\end{enumerate*}\n"
      ],
      "text/markdown": [
       "1. 58780\n",
       "2. 8461\n",
       "\n",
       "\n"
      ],
      "text/plain": [
       "[1] 58780  8461"
      ]
     },
     "metadata": {},
     "output_type": "display_data"
    },
    {
     "data": {
      "text/html": [
       "<table class=\"dataframe\">\n",
       "<caption>A data.frame: 6 × 10</caption>\n",
       "<thead>\n",
       "\t<tr><th></th><th scope=col>PP-3867-SVM6T1</th><th scope=col>PD-PDMZ724XCN-SVM18T1</th><th scope=col>PP-60044-SVM24T1</th><th scope=col>PP-3604-SVM12T1</th><th scope=col>PP-3522-SVM12T1</th><th scope=col>PP-50572-SVM12T1</th><th scope=col>PD-PDCT406CN9-SVM12T1</th><th scope=col>PP-3071-SVM12T1</th><th scope=col>PP-3815-BLM0T1</th><th scope=col>PD-PDDE532JGE-SVM12T1</th></tr>\n",
       "\t<tr><th></th><th scope=col>&lt;int&gt;</th><th scope=col>&lt;int&gt;</th><th scope=col>&lt;int&gt;</th><th scope=col>&lt;int&gt;</th><th scope=col>&lt;int&gt;</th><th scope=col>&lt;int&gt;</th><th scope=col>&lt;int&gt;</th><th scope=col>&lt;int&gt;</th><th scope=col>&lt;int&gt;</th><th scope=col>&lt;int&gt;</th></tr>\n",
       "</thead>\n",
       "<tbody>\n",
       "\t<tr><th scope=row>ENSG00000242268.2</th><td>1</td><td>0</td><td> 3</td><td>0</td><td> 1</td><td> 0</td><td> 1</td><td> 0</td><td> 0</td><td> 1</td></tr>\n",
       "\t<tr><th scope=row>ENSG00000259041.1</th><td>0</td><td>0</td><td> 0</td><td>0</td><td> 0</td><td> 0</td><td> 1</td><td> 0</td><td> 0</td><td> 0</td></tr>\n",
       "\t<tr><th scope=row>ENSG00000207641.1</th><td>0</td><td>0</td><td> 0</td><td>0</td><td> 0</td><td> 0</td><td> 0</td><td> 0</td><td> 0</td><td> 0</td></tr>\n",
       "\t<tr><th scope=row>ENSG00000270112.3</th><td>0</td><td>0</td><td> 2</td><td>7</td><td> 1</td><td> 2</td><td>27</td><td> 2</td><td> 1</td><td> 2</td></tr>\n",
       "\t<tr><th scope=row>ENSG00000280143.1</th><td>6</td><td>9</td><td>38</td><td>6</td><td>27</td><td>13</td><td>18</td><td>26</td><td>19</td><td>11</td></tr>\n",
       "\t<tr><th scope=row>ENSG00000269416.5</th><td>0</td><td>1</td><td> 1</td><td>1</td><td> 4</td><td> 0</td><td> 8</td><td> 0</td><td> 0</td><td> 0</td></tr>\n",
       "</tbody>\n",
       "</table>\n"
      ],
      "text/latex": [
       "A data.frame: 6 × 10\n",
       "\\begin{tabular}{r|llllllllll}\n",
       "  & PP-3867-SVM6T1 & PD-PDMZ724XCN-SVM18T1 & PP-60044-SVM24T1 & PP-3604-SVM12T1 & PP-3522-SVM12T1 & PP-50572-SVM12T1 & PD-PDCT406CN9-SVM12T1 & PP-3071-SVM12T1 & PP-3815-BLM0T1 & PD-PDDE532JGE-SVM12T1\\\\\n",
       "  & <int> & <int> & <int> & <int> & <int> & <int> & <int> & <int> & <int> & <int>\\\\\n",
       "\\hline\n",
       "\tENSG00000242268.2 & 1 & 0 &  3 & 0 &  1 &  0 &  1 &  0 &  0 &  1\\\\\n",
       "\tENSG00000259041.1 & 0 & 0 &  0 & 0 &  0 &  0 &  1 &  0 &  0 &  0\\\\\n",
       "\tENSG00000207641.1 & 0 & 0 &  0 & 0 &  0 &  0 &  0 &  0 &  0 &  0\\\\\n",
       "\tENSG00000270112.3 & 0 & 0 &  2 & 7 &  1 &  2 & 27 &  2 &  1 &  2\\\\\n",
       "\tENSG00000280143.1 & 6 & 9 & 38 & 6 & 27 & 13 & 18 & 26 & 19 & 11\\\\\n",
       "\tENSG00000269416.5 & 0 & 1 &  1 & 1 &  4 &  0 &  8 &  0 &  0 &  0\\\\\n",
       "\\end{tabular}\n"
      ],
      "text/markdown": [
       "\n",
       "A data.frame: 6 × 10\n",
       "\n",
       "| <!--/--> | PP-3867-SVM6T1 &lt;int&gt; | PD-PDMZ724XCN-SVM18T1 &lt;int&gt; | PP-60044-SVM24T1 &lt;int&gt; | PP-3604-SVM12T1 &lt;int&gt; | PP-3522-SVM12T1 &lt;int&gt; | PP-50572-SVM12T1 &lt;int&gt; | PD-PDCT406CN9-SVM12T1 &lt;int&gt; | PP-3071-SVM12T1 &lt;int&gt; | PP-3815-BLM0T1 &lt;int&gt; | PD-PDDE532JGE-SVM12T1 &lt;int&gt; |\n",
       "|---|---|---|---|---|---|---|---|---|---|---|\n",
       "| ENSG00000242268.2 | 1 | 0 |  3 | 0 |  1 |  0 |  1 |  0 |  0 |  1 |\n",
       "| ENSG00000259041.1 | 0 | 0 |  0 | 0 |  0 |  0 |  1 |  0 |  0 |  0 |\n",
       "| ENSG00000207641.1 | 0 | 0 |  0 | 0 |  0 |  0 |  0 |  0 |  0 |  0 |\n",
       "| ENSG00000270112.3 | 0 | 0 |  2 | 7 |  1 |  2 | 27 |  2 |  1 |  2 |\n",
       "| ENSG00000280143.1 | 6 | 9 | 38 | 6 | 27 | 13 | 18 | 26 | 19 | 11 |\n",
       "| ENSG00000269416.5 | 0 | 1 |  1 | 1 |  4 |  0 |  8 |  0 |  0 |  0 |\n",
       "\n"
      ],
      "text/plain": [
       "                  PP-3867-SVM6T1 PD-PDMZ724XCN-SVM18T1 PP-60044-SVM24T1\n",
       "ENSG00000242268.2 1              0                      3              \n",
       "ENSG00000259041.1 0              0                      0              \n",
       "ENSG00000207641.1 0              0                      0              \n",
       "ENSG00000270112.3 0              0                      2              \n",
       "ENSG00000280143.1 6              9                     38              \n",
       "ENSG00000269416.5 0              1                      1              \n",
       "                  PP-3604-SVM12T1 PP-3522-SVM12T1 PP-50572-SVM12T1\n",
       "ENSG00000242268.2 0                1               0              \n",
       "ENSG00000259041.1 0                0               0              \n",
       "ENSG00000207641.1 0                0               0              \n",
       "ENSG00000270112.3 7                1               2              \n",
       "ENSG00000280143.1 6               27              13              \n",
       "ENSG00000269416.5 1                4               0              \n",
       "                  PD-PDCT406CN9-SVM12T1 PP-3071-SVM12T1 PP-3815-BLM0T1\n",
       "ENSG00000242268.2  1                     0               0            \n",
       "ENSG00000259041.1  1                     0               0            \n",
       "ENSG00000207641.1  0                     0               0            \n",
       "ENSG00000270112.3 27                     2               1            \n",
       "ENSG00000280143.1 18                    26              19            \n",
       "ENSG00000269416.5  8                     0               0            \n",
       "                  PD-PDDE532JGE-SVM12T1\n",
       "ENSG00000242268.2  1                   \n",
       "ENSG00000259041.1  0                   \n",
       "ENSG00000207641.1  0                   \n",
       "ENSG00000270112.3  2                   \n",
       "ENSG00000280143.1 11                   \n",
       "ENSG00000269416.5  0                   "
      ]
     },
     "metadata": {},
     "output_type": "display_data"
    }
   ],
   "source": [
    "dim(countTable)\n",
    "head(countTable[,c(1:10)])"
   ]
  },
  {
   "cell_type": "code",
   "execution_count": 19,
   "metadata": {},
   "outputs": [
    {
     "data": {
      "text/html": [
       "<style>\n",
       ".list-inline {list-style: none; margin:0; padding: 0}\n",
       ".list-inline>li {display: inline-block}\n",
       ".list-inline>li:not(:last-child)::after {content: \"\\00b7\"; padding: 0 .5ex}\n",
       "</style>\n",
       "<ol class=list-inline><li>2742017</li><li>8</li></ol>\n"
      ],
      "text/latex": [
       "\\begin{enumerate*}\n",
       "\\item 2742017\n",
       "\\item 8\n",
       "\\end{enumerate*}\n"
      ],
      "text/markdown": [
       "1. 2742017\n",
       "2. 8\n",
       "\n",
       "\n"
      ],
      "text/plain": [
       "[1] 2742017       8"
      ]
     },
     "metadata": {},
     "output_type": "display_data"
    },
    {
     "data": {
      "text/html": [
       "<table class=\"dataframe\">\n",
       "<caption>A data.frame: 6 × 8</caption>\n",
       "<thead>\n",
       "\t<tr><th></th><th scope=col>X</th><th scope=col>gene_id</th><th scope=col>gene_name</th><th scope=col>gene_type</th><th scope=col>seqname</th><th scope=col>start</th><th scope=col>end</th><th scope=col>strand</th></tr>\n",
       "\t<tr><th></th><th scope=col>&lt;int&gt;</th><th scope=col>&lt;chr&gt;</th><th scope=col>&lt;chr&gt;</th><th scope=col>&lt;chr&gt;</th><th scope=col>&lt;chr&gt;</th><th scope=col>&lt;int&gt;</th><th scope=col>&lt;int&gt;</th><th scope=col>&lt;chr&gt;</th></tr>\n",
       "</thead>\n",
       "<tbody>\n",
       "\t<tr><th scope=row>1</th><td>0</td><td>ENSG00000223972.5</td><td>DDX11L1</td><td>transcribed_unprocessed_pseudogene</td><td>chr1</td><td>11869</td><td>14409</td><td>+</td></tr>\n",
       "\t<tr><th scope=row>2</th><td>1</td><td>ENSG00000223972.5</td><td>DDX11L1</td><td>transcribed_unprocessed_pseudogene</td><td>chr1</td><td>11869</td><td>14409</td><td>+</td></tr>\n",
       "\t<tr><th scope=row>3</th><td>2</td><td>ENSG00000223972.5</td><td>DDX11L1</td><td>transcribed_unprocessed_pseudogene</td><td>chr1</td><td>11869</td><td>12227</td><td>+</td></tr>\n",
       "\t<tr><th scope=row>4</th><td>3</td><td>ENSG00000223972.5</td><td>DDX11L1</td><td>transcribed_unprocessed_pseudogene</td><td>chr1</td><td>12613</td><td>12721</td><td>+</td></tr>\n",
       "\t<tr><th scope=row>5</th><td>4</td><td>ENSG00000223972.5</td><td>DDX11L1</td><td>transcribed_unprocessed_pseudogene</td><td>chr1</td><td>13221</td><td>14409</td><td>+</td></tr>\n",
       "\t<tr><th scope=row>6</th><td>5</td><td>ENSG00000223972.5</td><td>DDX11L1</td><td>transcribed_unprocessed_pseudogene</td><td>chr1</td><td>12010</td><td>13670</td><td>+</td></tr>\n",
       "</tbody>\n",
       "</table>\n"
      ],
      "text/latex": [
       "A data.frame: 6 × 8\n",
       "\\begin{tabular}{r|llllllll}\n",
       "  & X & gene\\_id & gene\\_name & gene\\_type & seqname & start & end & strand\\\\\n",
       "  & <int> & <chr> & <chr> & <chr> & <chr> & <int> & <int> & <chr>\\\\\n",
       "\\hline\n",
       "\t1 & 0 & ENSG00000223972.5 & DDX11L1 & transcribed\\_unprocessed\\_pseudogene & chr1 & 11869 & 14409 & +\\\\\n",
       "\t2 & 1 & ENSG00000223972.5 & DDX11L1 & transcribed\\_unprocessed\\_pseudogene & chr1 & 11869 & 14409 & +\\\\\n",
       "\t3 & 2 & ENSG00000223972.5 & DDX11L1 & transcribed\\_unprocessed\\_pseudogene & chr1 & 11869 & 12227 & +\\\\\n",
       "\t4 & 3 & ENSG00000223972.5 & DDX11L1 & transcribed\\_unprocessed\\_pseudogene & chr1 & 12613 & 12721 & +\\\\\n",
       "\t5 & 4 & ENSG00000223972.5 & DDX11L1 & transcribed\\_unprocessed\\_pseudogene & chr1 & 13221 & 14409 & +\\\\\n",
       "\t6 & 5 & ENSG00000223972.5 & DDX11L1 & transcribed\\_unprocessed\\_pseudogene & chr1 & 12010 & 13670 & +\\\\\n",
       "\\end{tabular}\n"
      ],
      "text/markdown": [
       "\n",
       "A data.frame: 6 × 8\n",
       "\n",
       "| <!--/--> | X &lt;int&gt; | gene_id &lt;chr&gt; | gene_name &lt;chr&gt; | gene_type &lt;chr&gt; | seqname &lt;chr&gt; | start &lt;int&gt; | end &lt;int&gt; | strand &lt;chr&gt; |\n",
       "|---|---|---|---|---|---|---|---|---|\n",
       "| 1 | 0 | ENSG00000223972.5 | DDX11L1 | transcribed_unprocessed_pseudogene | chr1 | 11869 | 14409 | + |\n",
       "| 2 | 1 | ENSG00000223972.5 | DDX11L1 | transcribed_unprocessed_pseudogene | chr1 | 11869 | 14409 | + |\n",
       "| 3 | 2 | ENSG00000223972.5 | DDX11L1 | transcribed_unprocessed_pseudogene | chr1 | 11869 | 12227 | + |\n",
       "| 4 | 3 | ENSG00000223972.5 | DDX11L1 | transcribed_unprocessed_pseudogene | chr1 | 12613 | 12721 | + |\n",
       "| 5 | 4 | ENSG00000223972.5 | DDX11L1 | transcribed_unprocessed_pseudogene | chr1 | 13221 | 14409 | + |\n",
       "| 6 | 5 | ENSG00000223972.5 | DDX11L1 | transcribed_unprocessed_pseudogene | chr1 | 12010 | 13670 | + |\n",
       "\n"
      ],
      "text/plain": [
       "  X gene_id           gene_name gene_type                          seqname\n",
       "1 0 ENSG00000223972.5 DDX11L1   transcribed_unprocessed_pseudogene chr1   \n",
       "2 1 ENSG00000223972.5 DDX11L1   transcribed_unprocessed_pseudogene chr1   \n",
       "3 2 ENSG00000223972.5 DDX11L1   transcribed_unprocessed_pseudogene chr1   \n",
       "4 3 ENSG00000223972.5 DDX11L1   transcribed_unprocessed_pseudogene chr1   \n",
       "5 4 ENSG00000223972.5 DDX11L1   transcribed_unprocessed_pseudogene chr1   \n",
       "6 5 ENSG00000223972.5 DDX11L1   transcribed_unprocessed_pseudogene chr1   \n",
       "  start end   strand\n",
       "1 11869 14409 +     \n",
       "2 11869 14409 +     \n",
       "3 11869 12227 +     \n",
       "4 12613 12721 +     \n",
       "5 13221 14409 +     \n",
       "6 12010 13670 +     "
      ]
     },
     "metadata": {},
     "output_type": "display_data"
    }
   ],
   "source": [
    "dim(filtGenes)\n",
    "head(filtGenes)"
   ]
  },
  {
   "cell_type": "code",
   "execution_count": 20,
   "metadata": {},
   "outputs": [],
   "source": [
    "countTable.back <- countTable"
   ]
  },
  {
   "cell_type": "code",
   "execution_count": 21,
   "metadata": {
    "scrolled": true
   },
   "outputs": [
    {
     "data": {
      "text/html": [
       "<style>\n",
       ".list-inline {list-style: none; margin:0; padding: 0}\n",
       ".list-inline>li {display: inline-block}\n",
       ".list-inline>li:not(:last-child)::after {content: \"\\00b7\"; padding: 0 .5ex}\n",
       "</style>\n",
       "<ol class=list-inline><li>58721</li><li>8461</li></ol>\n"
      ],
      "text/latex": [
       "\\begin{enumerate*}\n",
       "\\item 58721\n",
       "\\item 8461\n",
       "\\end{enumerate*}\n"
      ],
      "text/markdown": [
       "1. 58721\n",
       "2. 8461\n",
       "\n",
       "\n"
      ],
      "text/plain": [
       "[1] 58721  8461"
      ]
     },
     "metadata": {},
     "output_type": "display_data"
    }
   ],
   "source": [
    "countTable <- countTable[rownames(countTable) %in% filtGenes$gene_id,]\n",
    "dim(countTable)"
   ]
  },
  {
   "cell_type": "code",
   "execution_count": 111,
   "metadata": {},
   "outputs": [],
   "source": [
    "#Subset sample data to case control only, match count table to sample table\n",
    "sample_meta.sub <- sample_meta %>%\n",
    "    filter(Cognition_phenotype == \"PDD\" | Cognition_phenotype == \"PDnoCI\") %>%\n",
    "    mutate(ageBin = factor(cut(age_at_baseline, breaks=c(0, 55, 65, 100),\n",
    "                             labels = c(\"under_55\", \"55_to_65\", \"over_65\"),\n",
    "                             right = FALSE,\n",
    "                             include.lowest = T),\n",
    "                         levels = c(\"under_55\", \"55_to_65\", \"over_65\")))"
   ]
  },
  {
   "cell_type": "code",
   "execution_count": 112,
   "metadata": {},
   "outputs": [
    {
     "name": "stdout",
     "output_type": "stream",
     "text": [
      "'data.frame':\t84 obs. of  25 variables:\n",
      " $ X                             : int  1 2 3 6 13 14 28 36 37 38 ...\n",
      " $ participant_id                : chr  \"BF-1002\" \"BF-1003\" \"BF-1004\" \"BF-1008\" ...\n",
      " $ GUID                          : chr  \"PDCB969UGG\" \"PDLW805AHT\" \"PDKW284DYW\" \"PDEA056CRM\" ...\n",
      " $ visit_month                   : int  0 0 0 0 0 0 0 0 0 0 ...\n",
      " $ sample_id                     : chr  \"BF-1002-SVM0_5T1\" \"BF-1003-SVM0_5T1\" \"BF-1004-SVM0_5T1\" \"BF-1008-SVM0_5T1\" ...\n",
      " $ PCT_USABLE_BASES              : num  0.205 0.252 0.269 0.172 0.205 ...\n",
      " $ Plate                         : chr  \"P341\" \"P341\" \"P341\" \"P341\" ...\n",
      " $ STRAND_BALANCE                : num  0.751 0.714 0.675 0.807 0.794 ...\n",
      " $ diagnosis_at_baseline         : chr  \"Idiopathic PD\" \"Idiopathic PD\" \"Idiopathic PD\" \"Idiopathic PD\" ...\n",
      " $ diagnosis_latest              : chr  \"Idiopathic PD\" \"Idiopathic PD\" \"Idiopathic PD\" \"Idiopathic PD\" ...\n",
      " $ case_control_other_at_baseline: chr  \"Case\" \"Case\" \"Case\" \"Case\" ...\n",
      " $ case_control_other_latest     : chr  \"Case\" \"Case\" \"Case\" \"Case\" ...\n",
      " $ age_at_baseline               : num  66 61 62 69 61 71 70 76 77 72 ...\n",
      " $ age_at_diagnosis              : num  61 56 55 65 57 71 63 70 67 72 ...\n",
      " $ disease_duration              : num  5 5 7 4 4 0 7 6 10 0 ...\n",
      " $ sex                           : chr  \"Female\" \"Male\" \"Male\" \"Female\" ...\n",
      " $ ethnicity                     : chr  \"Not Hispanic or Latino\" \"Not Hispanic or Latino\" \"Not Hispanic or Latino\" \"Not Hispanic or Latino\" ...\n",
      " $ race                          : chr  \"White\" \"White\" \"White\" \"White\" ...\n",
      " $ education_level_years         : chr  \"12-16 years\" \"12-16 years\" \"12-16 years\" \"Greater than 16 years\" ...\n",
      " $ moca_total_score              : num  29 30 28 29 27 30 18 26 26 26 ...\n",
      " $ Cognition_phenotype           : chr  \"PDnoCI\" \"PDnoCI\" \"PDnoCI\" \"PDnoCI\" ...\n",
      " $ age_baseline_range            : chr  \"above_65\" \"55_to_65\" \"55_to_65\" \"above_65\" ...\n",
      " $ belonging_cohort              : chr  \"BF\" \"BF\" \"BF\" \"BF\" ...\n",
      " $ ID_number                     : int  1002 1003 1004 1008 1015 1016 1032 1043 1044 1045 ...\n",
      " $ ageBin                        : Factor w/ 3 levels \"under_55\",\"55_to_65\",..: 3 2 2 3 2 3 3 3 3 3 ...\n"
     ]
    }
   ],
   "source": [
    "str(sample_meta.sub) #the difference in the numbers its because we are only selecting PDD and PDnoCI"
   ]
  },
  {
   "cell_type": "code",
   "execution_count": 113,
   "metadata": {},
   "outputs": [
    {
     "name": "stdout",
     "output_type": "stream",
     "text": [
      "'data.frame':\t176 obs. of  24 variables:\n",
      " $ X                             : int  0 1 2 3 4 6 7 9 10 11 ...\n",
      " $ participant_id                : chr  \"BF-1001\" \"BF-1002\" \"BF-1003\" \"BF-1004\" ...\n",
      " $ GUID                          : chr  \"PDNW781VHY\" \"PDCB969UGG\" \"PDLW805AHT\" \"PDKW284DYW\" ...\n",
      " $ visit_month                   : int  0 0 0 0 0 0 0 0 0 0 ...\n",
      " $ sample_id                     : chr  \"BF-1001-SVM0_5T1\" \"BF-1002-SVM0_5T1\" \"BF-1003-SVM0_5T1\" \"BF-1004-SVM0_5T1\" ...\n",
      " $ PCT_USABLE_BASES              : num  0.38 0.205 0.252 0.269 0.32 ...\n",
      " $ Plate                         : chr  \"P341\" \"P341\" \"P341\" \"P341\" ...\n",
      " $ STRAND_BALANCE                : num  0.628 0.751 0.714 0.675 0.595 ...\n",
      " $ diagnosis_at_baseline         : chr  \"No PD Nor Other Neurological Disorder\" \"Idiopathic PD\" \"Idiopathic PD\" \"Idiopathic PD\" ...\n",
      " $ diagnosis_latest              : chr  \"No PD Nor Other Neurological Disorder\" \"Idiopathic PD\" \"Idiopathic PD\" \"Idiopathic PD\" ...\n",
      " $ case_control_other_at_baseline: chr  \"Control\" \"Case\" \"Case\" \"Case\" ...\n",
      " $ case_control_other_latest     : chr  \"Control\" \"Case\" \"Case\" \"Case\" ...\n",
      " $ age_at_baseline               : num  55 66 61 62 61 69 73 70 65 81 ...\n",
      " $ age_at_diagnosis              : num  NA 61 56 55 NA 65 NA 65 NA NA ...\n",
      " $ disease_duration              : num  NA 5 5 7 NA 4 NA 5 NA NA ...\n",
      " $ sex                           : chr  \"Male\" \"Female\" \"Male\" \"Male\" ...\n",
      " $ ethnicity                     : chr  \"Not Hispanic or Latino\" \"Not Hispanic or Latino\" \"Not Hispanic or Latino\" \"Not Hispanic or Latino\" ...\n",
      " $ race                          : chr  \"White\" \"White\" \"White\" \"White\" ...\n",
      " $ education_level_years         : chr  \"12-16 years\" \"12-16 years\" \"12-16 years\" \"12-16 years\" ...\n",
      " $ moca_total_score              : num  28 29 30 28 27 29 29 24 26 29 ...\n",
      " $ Cognition_phenotype           : chr  \"HCnoCI\" \"PDnoCI\" \"PDnoCI\" \"PDnoCI\" ...\n",
      " $ age_baseline_range            : chr  \"55_to_65\" \"above_65\" \"55_to_65\" \"55_to_65\" ...\n",
      " $ belonging_cohort              : chr  \"BF\" \"BF\" \"BF\" \"BF\" ...\n",
      " $ ID_number                     : int  1001 1002 1003 1004 1005 1008 1009 1011 1012 1013 ...\n"
     ]
    }
   ],
   "source": [
    "str(sample_meta)"
   ]
  },
  {
   "cell_type": "code",
   "execution_count": 114,
   "metadata": {},
   "outputs": [],
   "source": [
    "##Filtering by sex (keeping only males)\n",
    "sample_meta.sub <- sample_meta.sub[sample_meta.sub$sex=='Male',]"
   ]
  },
  {
   "cell_type": "code",
   "execution_count": 115,
   "metadata": {
    "scrolled": true
   },
   "outputs": [
    {
     "data": {
      "text/plain": [
       "        \n",
       "         Male\n",
       "  PDD       2\n",
       "  PDnoCI   49"
      ]
     },
     "metadata": {},
     "output_type": "display_data"
    },
    {
     "data": {
      "text/plain": [
       "        \n",
       "         under_55 55_to_65 over_65\n",
       "  PDD           0        0       2\n",
       "  PDnoCI        0       19      30"
      ]
     },
     "metadata": {},
     "output_type": "display_data"
    }
   ],
   "source": [
    "#Here is a summary of the samples we will use for this comparison\n",
    "table(sample_meta.sub$Cognition_phenotype, sample_meta.sub$sex)\n",
    "table(sample_meta.sub$Cognition_phenotype, sample_meta.sub$ageBin)"
   ]
  },
  {
   "cell_type": "code",
   "execution_count": 116,
   "metadata": {},
   "outputs": [
    {
     "data": {
      "text/html": [
       "71.5"
      ],
      "text/latex": [
       "71.5"
      ],
      "text/markdown": [
       "71.5"
      ],
      "text/plain": [
       "[1] 71.5"
      ]
     },
     "metadata": {},
     "output_type": "display_data"
    },
    {
     "data": {
      "text/html": [
       "2.12132034355964"
      ],
      "text/latex": [
       "2.12132034355964"
      ],
      "text/markdown": [
       "2.12132034355964"
      ],
      "text/plain": [
       "[1] 2.12132"
      ]
     },
     "metadata": {},
     "output_type": "display_data"
    },
    {
     "data": {
      "text/html": [
       "67.4285714285714"
      ],
      "text/latex": [
       "67.4285714285714"
      ],
      "text/markdown": [
       "67.4285714285714"
      ],
      "text/plain": [
       "[1] 67.42857"
      ]
     },
     "metadata": {},
     "output_type": "display_data"
    },
    {
     "data": {
      "text/html": [
       "6.53834841531101"
      ],
      "text/latex": [
       "6.53834841531101"
      ],
      "text/markdown": [
       "6.53834841531101"
      ],
      "text/plain": [
       "[1] 6.538348"
      ]
     },
     "metadata": {},
     "output_type": "display_data"
    }
   ],
   "source": [
    "library(dplyr)\n",
    "sample_meta.sub %>% filter(Cognition_phenotype == \"PDD\") %>% pull(age_at_baseline) %>% mean()\n",
    "sample_meta.sub %>% filter(Cognition_phenotype == \"PDD\") %>% pull(age_at_baseline) %>% sd()\n",
    "sample_meta.sub %>% filter(Cognition_phenotype == \"PDnoCI\") %>% pull(age_at_baseline) %>% mean()\n",
    "sample_meta.sub %>% filter(Cognition_phenotype == \"PDnoCI\") %>% pull(age_at_baseline) %>% sd()"
   ]
  },
  {
   "cell_type": "code",
   "execution_count": 117,
   "metadata": {},
   "outputs": [
    {
     "data": {
      "text/html": [
       "<style>\n",
       ".list-inline {list-style: none; margin:0; padding: 0}\n",
       ".list-inline>li {display: inline-block}\n",
       ".list-inline>li:not(:last-child)::after {content: \"\\00b7\"; padding: 0 .5ex}\n",
       "</style>\n",
       "<ol class=list-inline><li>58721</li><li>51</li></ol>\n"
      ],
      "text/latex": [
       "\\begin{enumerate*}\n",
       "\\item 58721\n",
       "\\item 51\n",
       "\\end{enumerate*}\n"
      ],
      "text/markdown": [
       "1. 58721\n",
       "2. 51\n",
       "\n",
       "\n"
      ],
      "text/plain": [
       "[1] 58721    51"
      ]
     },
     "metadata": {},
     "output_type": "display_data"
    }
   ],
   "source": [
    "#order count table and metadata table to match\n",
    "countsSub <- countTable[,names(countTable) %in% sort(sample_meta.sub$sample_id)]\n",
    "dim(countsSub)"
   ]
  },
  {
   "cell_type": "code",
   "execution_count": 118,
   "metadata": {},
   "outputs": [],
   "source": [
    "i <- match(sample_meta.sub$sample_id, names(countsSub), nomatch = 0)\n",
    "countsSub <- countsSub[,i]"
   ]
  },
  {
   "cell_type": "code",
   "execution_count": 119,
   "metadata": {
    "scrolled": true
   },
   "outputs": [
    {
     "data": {
      "text/html": [
       "TRUE"
      ],
      "text/latex": [
       "TRUE"
      ],
      "text/markdown": [
       "TRUE"
      ],
      "text/plain": [
       "[1] TRUE"
      ]
     },
     "metadata": {},
     "output_type": "display_data"
    }
   ],
   "source": [
    "identical(names(countsSub), sample_meta.sub$sample_id) #double checking"
   ]
  },
  {
   "cell_type": "code",
   "execution_count": 120,
   "metadata": {},
   "outputs": [
    {
     "data": {
      "text/html": [
       "<table class=\"dataframe\">\n",
       "<caption>A data.frame: 51 × 25</caption>\n",
       "<thead>\n",
       "\t<tr><th></th><th scope=col>X</th><th scope=col>participant_id</th><th scope=col>GUID</th><th scope=col>visit_month</th><th scope=col>sample_id</th><th scope=col>PCT_USABLE_BASES</th><th scope=col>Plate</th><th scope=col>STRAND_BALANCE</th><th scope=col>diagnosis_at_baseline</th><th scope=col>diagnosis_latest</th><th scope=col>⋯</th><th scope=col>sex</th><th scope=col>ethnicity</th><th scope=col>race</th><th scope=col>education_level_years</th><th scope=col>moca_total_score</th><th scope=col>Cognition_phenotype</th><th scope=col>age_baseline_range</th><th scope=col>belonging_cohort</th><th scope=col>ID_number</th><th scope=col>ageBin</th></tr>\n",
       "\t<tr><th></th><th scope=col>&lt;int&gt;</th><th scope=col>&lt;chr&gt;</th><th scope=col>&lt;chr&gt;</th><th scope=col>&lt;int&gt;</th><th scope=col>&lt;chr&gt;</th><th scope=col>&lt;dbl&gt;</th><th scope=col>&lt;chr&gt;</th><th scope=col>&lt;dbl&gt;</th><th scope=col>&lt;chr&gt;</th><th scope=col>&lt;chr&gt;</th><th scope=col>⋯</th><th scope=col>&lt;chr&gt;</th><th scope=col>&lt;chr&gt;</th><th scope=col>&lt;chr&gt;</th><th scope=col>&lt;chr&gt;</th><th scope=col>&lt;dbl&gt;</th><th scope=col>&lt;chr&gt;</th><th scope=col>&lt;chr&gt;</th><th scope=col>&lt;chr&gt;</th><th scope=col>&lt;int&gt;</th><th scope=col>&lt;fct&gt;</th></tr>\n",
       "</thead>\n",
       "<tbody>\n",
       "\t<tr><th scope=row>2</th><td>  2</td><td>BF-1003</td><td>PDLW805AHT    </td><td>0</td><td>BF-1003-SVM0_5T1</td><td>0.251916</td><td>P341</td><td>0.714203</td><td>Idiopathic PD</td><td>Idiopathic PD</td><td>⋯</td><td>Male</td><td>Not Hispanic or Latino</td><td>White</td><td>12-16 years          </td><td>30</td><td>PDnoCI</td><td>55_to_65</td><td>BF</td><td>1003</td><td>55_to_65</td></tr>\n",
       "\t<tr><th scope=row>3</th><td>  3</td><td>BF-1004</td><td>PDKW284DYW    </td><td>0</td><td>BF-1004-SVM0_5T1</td><td>0.269126</td><td>P341</td><td>0.675027</td><td>Idiopathic PD</td><td>Idiopathic PD</td><td>⋯</td><td>Male</td><td>Not Hispanic or Latino</td><td>White</td><td>12-16 years          </td><td>28</td><td>PDnoCI</td><td>55_to_65</td><td>BF</td><td>1004</td><td>55_to_65</td></tr>\n",
       "\t<tr><th scope=row>5</th><td> 13</td><td>BF-1015</td><td>PDDL325JX0    </td><td>0</td><td>BF-1015-SVM0_5T1</td><td>0.205056</td><td>P341</td><td>0.793548</td><td>Idiopathic PD</td><td>Idiopathic PD</td><td>⋯</td><td>Male</td><td>Not Hispanic or Latino</td><td>White</td><td>12-16 years          </td><td>27</td><td>PDnoCI</td><td>55_to_65</td><td>BF</td><td>1015</td><td>55_to_65</td></tr>\n",
       "\t<tr><th scope=row>7</th><td> 28</td><td>BF-1032</td><td>PDJZ532TZK    </td><td>0</td><td>BF-1032-SVM0_5T1</td><td>0.178567</td><td>P341</td><td>0.785834</td><td>Idiopathic PD</td><td>Idiopathic PD</td><td>⋯</td><td>Male</td><td>Not Hispanic or Latino</td><td>White</td><td>Greater than 16 years</td><td>18</td><td>PDD   </td><td>above_65</td><td>BF</td><td>1032</td><td>over_65 </td></tr>\n",
       "\t<tr><th scope=row>9</th><td> 37</td><td>BF-1044</td><td>PDKG534VMG    </td><td>0</td><td>BF-1044-SVM0_5T1</td><td>0.543721</td><td>P342</td><td>0.518666</td><td>Idiopathic PD</td><td>Idiopathic PD</td><td>⋯</td><td>Male</td><td>Not Hispanic or Latino</td><td>White</td><td>Greater than 16 years</td><td>26</td><td>PDnoCI</td><td>above_65</td><td>BF</td><td>1044</td><td>over_65 </td></tr>\n",
       "\t<tr><th scope=row>10</th><td> 38</td><td>BF-1045</td><td>PDEZ044TE4    </td><td>0</td><td>BF-1045-SVM0_5T1</td><td>0.400889</td><td>P342</td><td>0.632508</td><td>Idiopathic PD</td><td>Idiopathic PD</td><td>⋯</td><td>Male</td><td>Not Hispanic or Latino</td><td>White</td><td>Greater than 16 years</td><td>26</td><td>PDnoCI</td><td>above_65</td><td>BF</td><td>1045</td><td>over_65 </td></tr>\n",
       "\t<tr><th scope=row>11</th><td> 41</td><td>BF-1048</td><td>PD_INVBF924PLB</td><td>0</td><td>BF-1048-SVM0_5T1</td><td>0.311984</td><td>P342</td><td>0.665112</td><td>Idiopathic PD</td><td>Idiopathic PD</td><td>⋯</td><td>Male</td><td>Not Hispanic or Latino</td><td>White</td><td>Greater than 16 years</td><td>29</td><td>PDnoCI</td><td>55_to_65</td><td>BF</td><td>1048</td><td>55_to_65</td></tr>\n",
       "\t<tr><th scope=row>12</th><td> 43</td><td>BF-1051</td><td>PDYA912JPR    </td><td>0</td><td>BF-1051-SVM0_5T1</td><td>0.428424</td><td>P341</td><td>0.552939</td><td>Idiopathic PD</td><td>Idiopathic PD</td><td>⋯</td><td>Male</td><td>Not Hispanic or Latino</td><td>White</td><td>Greater than 16 years</td><td>27</td><td>PDnoCI</td><td>55_to_65</td><td>BF</td><td>1051</td><td>over_65 </td></tr>\n",
       "\t<tr><th scope=row>13</th><td> 46</td><td>BF-1054</td><td>PDTF210PBJ    </td><td>0</td><td>BF-1054-SVM0_5T1</td><td>0.217465</td><td>P341</td><td>0.761710</td><td>Idiopathic PD</td><td>Idiopathic PD</td><td>⋯</td><td>Male</td><td>Not Hispanic or Latino</td><td>White</td><td>Greater than 16 years</td><td>27</td><td>PDnoCI</td><td>55_to_65</td><td>BF</td><td>1054</td><td>over_65 </td></tr>\n",
       "\t<tr><th scope=row>14</th><td> 47</td><td>BF-1055</td><td>PDNM387YJK    </td><td>0</td><td>BF-1055-SVM0_5T1</td><td>0.237050</td><td>P341</td><td>0.757579</td><td>Idiopathic PD</td><td>Idiopathic PD</td><td>⋯</td><td>Male</td><td>Not Hispanic or Latino</td><td>White</td><td>Greater than 16 years</td><td>27</td><td>PDnoCI</td><td>55_to_65</td><td>BF</td><td>1055</td><td>55_to_65</td></tr>\n",
       "\t<tr><th scope=row>15</th><td> 50</td><td>BF-1059</td><td>PDVR351AT4    </td><td>0</td><td>BF-1059-SVM0_5T1</td><td>0.407545</td><td>P341</td><td>0.511536</td><td>Idiopathic PD</td><td>Idiopathic PD</td><td>⋯</td><td>Male</td><td>Not Hispanic or Latino</td><td>White</td><td>Greater than 16 years</td><td>29</td><td>PDnoCI</td><td>55_to_65</td><td>BF</td><td>1059</td><td>55_to_65</td></tr>\n",
       "\t<tr><th scope=row>18</th><td> 56</td><td>BF-1067</td><td>PDXC409YFK    </td><td>0</td><td>BF-1067-SVM0_5T1</td><td>0.267014</td><td>P341</td><td>0.765189</td><td>Idiopathic PD</td><td>Idiopathic PD</td><td>⋯</td><td>Male</td><td>Not Hispanic or Latino</td><td>White</td><td>Greater than 16 years</td><td>27</td><td>PDnoCI</td><td>55_to_65</td><td>BF</td><td>1067</td><td>55_to_65</td></tr>\n",
       "\t<tr><th scope=row>19</th><td> 57</td><td>BF-1068</td><td>PDNM040XEK    </td><td>0</td><td>BF-1068-SVM0_5T1</td><td>0.204843</td><td>P341</td><td>0.805482</td><td>Idiopathic PD</td><td>Idiopathic PD</td><td>⋯</td><td>Male</td><td>Not Hispanic or Latino</td><td>White</td><td>Greater than 16 years</td><td>27</td><td>PDnoCI</td><td>above_65</td><td>BF</td><td>1068</td><td>over_65 </td></tr>\n",
       "\t<tr><th scope=row>21</th><td> 63</td><td>BF-1077</td><td>PDCG485AAK    </td><td>0</td><td>BF-1077-SVM0_5T1</td><td>0.272285</td><td>P342</td><td>0.651994</td><td>Idiopathic PD</td><td>Idiopathic PD</td><td>⋯</td><td>Male</td><td>Not Hispanic or Latino</td><td>White</td><td>Greater than 16 years</td><td>26</td><td>PDnoCI</td><td>55_to_65</td><td>BF</td><td>1077</td><td>55_to_65</td></tr>\n",
       "\t<tr><th scope=row>22</th><td> 65</td><td>BF-1079</td><td>PDGE561MVQ    </td><td>0</td><td>BF-1079-SVM0_5T1</td><td>0.301587</td><td>P342</td><td>0.614442</td><td>Idiopathic PD</td><td>Idiopathic PD</td><td>⋯</td><td>Male</td><td>Not Hispanic or Latino</td><td>White</td><td>Greater than 16 years</td><td>26</td><td>PDnoCI</td><td>55_to_65</td><td>BF</td><td>1079</td><td>55_to_65</td></tr>\n",
       "\t<tr><th scope=row>24</th><td> 69</td><td>BF-1083</td><td>PDHC631ZTT    </td><td>0</td><td>BF-1083-SVM0_5T1</td><td>0.303373</td><td>P342</td><td>0.591517</td><td>Idiopathic PD</td><td>Idiopathic PD</td><td>⋯</td><td>Male</td><td>Not Hispanic or Latino</td><td>White</td><td>12-16 years          </td><td>28</td><td>PDnoCI</td><td>above_65</td><td>BF</td><td>1083</td><td>over_65 </td></tr>\n",
       "\t<tr><th scope=row>25</th><td> 70</td><td>BF-1084</td><td>PDHW583BHX    </td><td>0</td><td>BF-1084-SVM0_5T1</td><td>0.242487</td><td>P342</td><td>0.624345</td><td>Idiopathic PD</td><td>Idiopathic PD</td><td>⋯</td><td>Male</td><td>Not Hispanic or Latino</td><td>White</td><td>Greater than 16 years</td><td>30</td><td>PDnoCI</td><td>55_to_65</td><td>BF</td><td>1084</td><td>55_to_65</td></tr>\n",
       "\t<tr><th scope=row>26</th><td> 72</td><td>BF-1086</td><td>PDVC688DCC    </td><td>0</td><td>BF-1086-SVM0_5T1</td><td>0.267975</td><td>P342</td><td>0.702552</td><td>Idiopathic PD</td><td>Idiopathic PD</td><td>⋯</td><td>Male</td><td>Not Hispanic or Latino</td><td>White</td><td>12-16 years          </td><td>28</td><td>PDnoCI</td><td>above_65</td><td>BF</td><td>1086</td><td>over_65 </td></tr>\n",
       "\t<tr><th scope=row>28</th><td> 75</td><td>BF-1091</td><td>PDEB612LPE    </td><td>0</td><td>BF-1091-SVM0_5T1</td><td>0.297992</td><td>P342</td><td>0.594147</td><td>Idiopathic PD</td><td>Idiopathic PD</td><td>⋯</td><td>Male</td><td>Not Hispanic or Latino</td><td>White</td><td>12-16 years          </td><td>27</td><td>PDnoCI</td><td>above_65</td><td>BF</td><td>1091</td><td>over_65 </td></tr>\n",
       "\t<tr><th scope=row>31</th><td> 82</td><td>BF-1098</td><td>PDUA781LH0    </td><td>0</td><td>BF-1098-SVM0_5T1</td><td>0.275520</td><td>P342</td><td>0.566768</td><td>Idiopathic PD</td><td>Idiopathic PD</td><td>⋯</td><td>Male</td><td>Not Hispanic or Latino</td><td>White</td><td>12-16 years          </td><td>29</td><td>PDnoCI</td><td>55_to_65</td><td>BF</td><td>1098</td><td>55_to_65</td></tr>\n",
       "\t<tr><th scope=row>32</th><td> 83</td><td>BF-1100</td><td>PDBW494GHE    </td><td>0</td><td>BF-1100-SVM0_5T1</td><td>0.346323</td><td>P342</td><td>0.679662</td><td>Idiopathic PD</td><td>Idiopathic PD</td><td>⋯</td><td>Male</td><td>Not Hispanic or Latino</td><td>White</td><td>Less than 12 years   </td><td>28</td><td>PDnoCI</td><td>above_65</td><td>BF</td><td>1100</td><td>over_65 </td></tr>\n",
       "\t<tr><th scope=row>33</th><td> 85</td><td>BF-1102</td><td>PDGE690VLX    </td><td>0</td><td>BF-1102-SVM0_5T1</td><td>0.342366</td><td>P341</td><td>0.630592</td><td>Idiopathic PD</td><td>Idiopathic PD</td><td>⋯</td><td>Male</td><td>Not Hispanic or Latino</td><td>White</td><td>12-16 years          </td><td>27</td><td>PDnoCI</td><td>above_65</td><td>BF</td><td>1102</td><td>over_65 </td></tr>\n",
       "\t<tr><th scope=row>38</th><td> 98</td><td>BF-1123</td><td>PDPW971YLK    </td><td>0</td><td>BF-1123-SVM0_5T1</td><td>0.412993</td><td>P342</td><td>0.581839</td><td>Idiopathic PD</td><td>Idiopathic PD</td><td>⋯</td><td>Male</td><td>Not Hispanic or Latino</td><td>White</td><td>12-16 years          </td><td>28</td><td>PDnoCI</td><td>above_65</td><td>BF</td><td>1123</td><td>over_65 </td></tr>\n",
       "\t<tr><th scope=row>40</th><td>100</td><td>BF-1125</td><td>PDGM095LTR    </td><td>0</td><td>BF-1125-SVM0_5T1</td><td>0.243849</td><td>P343</td><td>0.740451</td><td>Idiopathic PD</td><td>Idiopathic PD</td><td>⋯</td><td>Male</td><td>Not Hispanic or Latino</td><td>White</td><td>Greater than 16 years</td><td>29</td><td>PDnoCI</td><td>above_65</td><td>BF</td><td>1125</td><td>over_65 </td></tr>\n",
       "\t<tr><th scope=row>41</th><td>102</td><td>BF-1127</td><td>PD_INVAU879RU4</td><td>0</td><td>BF-1127-SVM0_5T1</td><td>0.307194</td><td>P342</td><td>0.595753</td><td>Idiopathic PD</td><td>Idiopathic PD</td><td>⋯</td><td>Male</td><td>Not Hispanic or Latino</td><td>White</td><td>12-16 years          </td><td>30</td><td>PDnoCI</td><td>55_to_65</td><td>BF</td><td>1127</td><td>over_65 </td></tr>\n",
       "\t<tr><th scope=row>42</th><td>104</td><td>BF-1129</td><td>PD_INVHZ900CFX</td><td>0</td><td>BF-1129-SVM0_5T1</td><td>0.356789</td><td>P342</td><td>0.583377</td><td>Idiopathic PD</td><td>Idiopathic PD</td><td>⋯</td><td>Male</td><td>Not Hispanic or Latino</td><td>White</td><td>Greater than 16 years</td><td>29</td><td>PDnoCI</td><td>55_to_65</td><td>BF</td><td>1129</td><td>55_to_65</td></tr>\n",
       "\t<tr><th scope=row>43</th><td>105</td><td>BF-1130</td><td>PD_INVWT425XR4</td><td>0</td><td>BF-1130-SVM0_5T1</td><td>0.302694</td><td>P342</td><td>0.681069</td><td>Idiopathic PD</td><td>Idiopathic PD</td><td>⋯</td><td>Male</td><td>Not Hispanic or Latino</td><td>White</td><td>Greater than 16 years</td><td>27</td><td>PDnoCI</td><td>above_65</td><td>BF</td><td>1130</td><td>over_65 </td></tr>\n",
       "\t<tr><th scope=row>44</th><td>108</td><td>BF-1133</td><td>PD_INVTG922XML</td><td>0</td><td>BF-1133-SVM0_5T1</td><td>0.355065</td><td>P342</td><td>0.540170</td><td>Idiopathic PD</td><td>Idiopathic PD</td><td>⋯</td><td>Male</td><td>Not Hispanic or Latino</td><td>White</td><td>12-16 years          </td><td>26</td><td>PDnoCI</td><td>above_65</td><td>BF</td><td>1133</td><td>over_65 </td></tr>\n",
       "\t<tr><th scope=row>45</th><td>109</td><td>BF-1134</td><td>PD_INVYK998BZ8</td><td>0</td><td>BF-1134-SVM0_5T1</td><td>0.328281</td><td>P342</td><td>0.605603</td><td>Idiopathic PD</td><td>Idiopathic PD</td><td>⋯</td><td>Male</td><td>Not Hispanic or Latino</td><td>White</td><td>Greater than 16 years</td><td>26</td><td>PDnoCI</td><td>55_to_65</td><td>BF</td><td>1134</td><td>55_to_65</td></tr>\n",
       "\t<tr><th scope=row>48</th><td>114</td><td>BF-1139</td><td>PD_INVPR071NUA</td><td>0</td><td>BF-1139-SVM0_5T1</td><td>0.216803</td><td>P343</td><td>0.773767</td><td>Idiopathic PD</td><td>Idiopathic PD</td><td>⋯</td><td>Male</td><td>Not Hispanic or Latino</td><td>White</td><td>12-16 years          </td><td>26</td><td>PDnoCI</td><td>55_to_65</td><td>BF</td><td>1139</td><td>55_to_65</td></tr>\n",
       "\t<tr><th scope=row>51</th><td>124</td><td>BF-1151</td><td>PD_INVRG832TVQ</td><td>0</td><td>BF-1151-SVM0_5T1</td><td>0.385131</td><td>P341</td><td>0.512446</td><td>Idiopathic PD</td><td>Idiopathic PD</td><td>⋯</td><td>Male</td><td>Not Hispanic or Latino</td><td>White</td><td>12-16 years          </td><td>28</td><td>PDnoCI</td><td>above_65</td><td>BF</td><td>1151</td><td>over_65 </td></tr>\n",
       "\t<tr><th scope=row>52</th><td>125</td><td>BF-1152</td><td>PD_INVRN008END</td><td>0</td><td>BF-1152-SVM0_5T1</td><td>0.198934</td><td>P341</td><td>0.816509</td><td>Idiopathic PD</td><td>Idiopathic PD</td><td>⋯</td><td>Male</td><td>Not Hispanic or Latino</td><td>White</td><td>Greater than 16 years</td><td>28</td><td>PDnoCI</td><td>above_65</td><td>BF</td><td>1152</td><td>over_65 </td></tr>\n",
       "\t<tr><th scope=row>54</th><td>128</td><td>BF-1155</td><td>PDZM594GHY    </td><td>0</td><td>BF-1155-SVM0_5T1</td><td>0.360555</td><td>P341</td><td>0.652022</td><td>Idiopathic PD</td><td>Idiopathic PD</td><td>⋯</td><td>Male</td><td>Not Hispanic or Latino</td><td>White</td><td>Greater than 16 years</td><td>27</td><td>PDnoCI</td><td>above_65</td><td>BF</td><td>1155</td><td>over_65 </td></tr>\n",
       "\t<tr><th scope=row>56</th><td>132</td><td>BF-1160</td><td>PDFJ292RHT    </td><td>0</td><td>BF-1160-SVM0_5T1</td><td>0.205793</td><td>P341</td><td>0.780496</td><td>Idiopathic PD</td><td>Idiopathic PD</td><td>⋯</td><td>Male</td><td>Not Hispanic or Latino</td><td>White</td><td>Greater than 16 years</td><td>27</td><td>PDnoCI</td><td>above_65</td><td>BF</td><td>1160</td><td>over_65 </td></tr>\n",
       "\t<tr><th scope=row>57</th><td>133</td><td>BF-1161</td><td>PD_INVNX553YZD</td><td>0</td><td>BF-1161-SVM0_5T1</td><td>0.287526</td><td>P342</td><td>0.673995</td><td>Idiopathic PD</td><td>Idiopathic PD</td><td>⋯</td><td>Male</td><td>Not Hispanic or Latino</td><td>White</td><td>Greater than 16 years</td><td>29</td><td>PDnoCI</td><td>above_65</td><td>BF</td><td>1161</td><td>over_65 </td></tr>\n",
       "\t<tr><th scope=row>60</th><td>139</td><td>BF-1167</td><td>PD_INVYJ820YPJ</td><td>0</td><td>BF-1167-SVM0_5T1</td><td>0.394993</td><td>P342</td><td>0.543050</td><td>Idiopathic PD</td><td>Idiopathic PD</td><td>⋯</td><td>Male</td><td>Not Hispanic or Latino</td><td>White</td><td>Greater than 16 years</td><td>29</td><td>PDnoCI</td><td>above_65</td><td>BF</td><td>1167</td><td>over_65 </td></tr>\n",
       "\t<tr><th scope=row>61</th><td>145</td><td>BF-1176</td><td>PDCM527JX5    </td><td>0</td><td>BF-1176-SVM0_5T1</td><td>0.280651</td><td>P342</td><td>0.724924</td><td>Idiopathic PD</td><td>Idiopathic PD</td><td>⋯</td><td>Male</td><td>Not Hispanic or Latino</td><td>White</td><td>Greater than 16 years</td><td>30</td><td>PDnoCI</td><td>55_to_65</td><td>BF</td><td>1176</td><td>55_to_65</td></tr>\n",
       "\t<tr><th scope=row>62</th><td>149</td><td>BF-1191</td><td>PDZR921CUJ    </td><td>0</td><td>BF-1191-SVM0_5T1</td><td>0.260631</td><td>P343</td><td>0.677435</td><td>Idiopathic PD</td><td>Idiopathic PD</td><td>⋯</td><td>Male</td><td>Not Hispanic or Latino</td><td>White</td><td>Greater than 16 years</td><td>30</td><td>PDnoCI</td><td>above_65</td><td>BF</td><td>1191</td><td>over_65 </td></tr>\n",
       "\t<tr><th scope=row>66</th><td>161</td><td>BF-1204</td><td>PDXA574ULG    </td><td>0</td><td>BF-1204-SVM0_5T1</td><td>0.302043</td><td>P341</td><td>0.677706</td><td>Idiopathic PD</td><td>Idiopathic PD</td><td>⋯</td><td>Male</td><td>Not Hispanic or Latino</td><td>White</td><td>Greater than 16 years</td><td>26</td><td>PDnoCI</td><td>above_65</td><td>BF</td><td>1204</td><td>over_65 </td></tr>\n",
       "\t<tr><th scope=row>68</th><td>164</td><td>BF-1207</td><td>PDCU412CXY    </td><td>0</td><td>BF-1207-SVM0_5T1</td><td>0.170571</td><td>P341</td><td>0.828935</td><td>Idiopathic PD</td><td>Idiopathic PD</td><td>⋯</td><td>Male</td><td>Not Hispanic or Latino</td><td>White</td><td>Greater than 16 years</td><td>28</td><td>PDnoCI</td><td>55_to_65</td><td>BF</td><td>1207</td><td>55_to_65</td></tr>\n",
       "\t<tr><th scope=row>69</th><td>165</td><td>BF-1208</td><td>PDCW532NUB    </td><td>0</td><td>BF-1208-SVM0_5T1</td><td>0.263316</td><td>P341</td><td>0.725312</td><td>Idiopathic PD</td><td>Idiopathic PD</td><td>⋯</td><td>Male</td><td>Not Hispanic or Latino</td><td>White</td><td>12-16 years          </td><td>28</td><td>PDnoCI</td><td>above_65</td><td>BF</td><td>1208</td><td>over_65 </td></tr>\n",
       "\t<tr><th scope=row>71</th><td>167</td><td>BF-1210</td><td>PDWP671VP0    </td><td>0</td><td>BF-1210-SVM0_5T1</td><td>0.152539</td><td>P341</td><td>0.861824</td><td>Idiopathic PD</td><td>Idiopathic PD</td><td>⋯</td><td>Male</td><td>Not Hispanic or Latino</td><td>White</td><td>12-16 years          </td><td>18</td><td>PDD   </td><td>above_65</td><td>BF</td><td>1210</td><td>over_65 </td></tr>\n",
       "\t<tr><th scope=row>72</th><td>168</td><td>BF-1211</td><td>PDNP038PMF    </td><td>0</td><td>BF-1211-SVM0_5T1</td><td>0.321360</td><td>P341</td><td>0.697575</td><td>Idiopathic PD</td><td>Idiopathic PD</td><td>⋯</td><td>Male</td><td>Not Hispanic or Latino</td><td>White</td><td>12-16 years          </td><td>28</td><td>PDnoCI</td><td>55_to_65</td><td>BF</td><td>1211</td><td>55_to_65</td></tr>\n",
       "\t<tr><th scope=row>73</th><td>170</td><td>BF-1213</td><td>PDHR732TR6    </td><td>0</td><td>BF-1213-SVM0_5T1</td><td>0.177323</td><td>P341</td><td>0.802834</td><td>Idiopathic PD</td><td>Idiopathic PD</td><td>⋯</td><td>Male</td><td>Not Hispanic or Latino</td><td>White</td><td>12-16 years          </td><td>28</td><td>PDnoCI</td><td>55_to_65</td><td>BF</td><td>1213</td><td>55_to_65</td></tr>\n",
       "\t<tr><th scope=row>74</th><td>171</td><td>BF-1216</td><td>PDVG701BFF    </td><td>0</td><td>BF-1216-SVM0_5T1</td><td>0.303068</td><td>P341</td><td>0.643768</td><td>Idiopathic PD</td><td>Idiopathic PD</td><td>⋯</td><td>Male</td><td>Not Hispanic or Latino</td><td>White</td><td>Greater than 16 years</td><td>28</td><td>PDnoCI</td><td>above_65</td><td>BF</td><td>1216</td><td>over_65 </td></tr>\n",
       "\t<tr><th scope=row>78</th><td>182</td><td>BF-1230</td><td>PDWZ350UPE    </td><td>0</td><td>BF-1230-SVM0_5T1</td><td>0.266801</td><td>P342</td><td>0.755565</td><td>Idiopathic PD</td><td>Idiopathic PD</td><td>⋯</td><td>Male</td><td>Not Hispanic or Latino</td><td>White</td><td>12-16 years          </td><td>30</td><td>PDnoCI</td><td>55_to_65</td><td>BF</td><td>1230</td><td>over_65 </td></tr>\n",
       "\t<tr><th scope=row>79</th><td>183</td><td>BF-1236</td><td>PDBD372DJU    </td><td>0</td><td>BF-1236-SVM0_5T1</td><td>0.356779</td><td>P342</td><td>0.648287</td><td>Idiopathic PD</td><td>Idiopathic PD</td><td>⋯</td><td>Male</td><td>Not Hispanic or Latino</td><td>White</td><td>Greater than 16 years</td><td>29</td><td>PDnoCI</td><td>55_to_65</td><td>BF</td><td>1236</td><td>55_to_65</td></tr>\n",
       "\t<tr><th scope=row>81</th><td>187</td><td>BF-1240</td><td>PDXG646ULT    </td><td>0</td><td>BF-1240-SVM0_5T1</td><td>0.412228</td><td>P343</td><td>0.611796</td><td>Idiopathic PD</td><td>Idiopathic PD</td><td>⋯</td><td>Male</td><td>Not Hispanic or Latino</td><td>White</td><td>Greater than 16 years</td><td>26</td><td>PDnoCI</td><td>above_65</td><td>BF</td><td>1240</td><td>over_65 </td></tr>\n",
       "\t<tr><th scope=row>82</th><td>188</td><td>BF-1241</td><td>PDDX898NYQ    </td><td>0</td><td>BF-1241-SVM0_5T1</td><td>0.339546</td><td>P342</td><td>0.649403</td><td>Idiopathic PD</td><td>Idiopathic PD</td><td>⋯</td><td>Male</td><td>Not Hispanic or Latino</td><td>White</td><td>Greater than 16 years</td><td>26</td><td>PDnoCI</td><td>above_65</td><td>BF</td><td>1241</td><td>over_65 </td></tr>\n",
       "\t<tr><th scope=row>83</th><td>193</td><td>BF-1253</td><td>PDTZ386BRM    </td><td>0</td><td>BF-1253-SVM0_5T1</td><td>0.252925</td><td>P343</td><td>0.737213</td><td>Idiopathic PD</td><td>Idiopathic PD</td><td>⋯</td><td>Male</td><td>Not Hispanic or Latino</td><td>White</td><td>12-16 years          </td><td>26</td><td>PDnoCI</td><td>above_65</td><td>BF</td><td>1253</td><td>over_65 </td></tr>\n",
       "\t<tr><th scope=row>84</th><td>194</td><td>BF-1255</td><td>PDHN834JU2    </td><td>0</td><td>BF-1255-SVM0_5T1</td><td>0.326313</td><td>P343</td><td>0.586934</td><td>Idiopathic PD</td><td>Idiopathic PD</td><td>⋯</td><td>Male</td><td>Not Hispanic or Latino</td><td>White</td><td>Greater than 16 years</td><td>30</td><td>PDnoCI</td><td>above_65</td><td>BF</td><td>1255</td><td>over_65 </td></tr>\n",
       "</tbody>\n",
       "</table>\n"
      ],
      "text/latex": [
       "A data.frame: 51 × 25\n",
       "\\begin{tabular}{r|lllllllllllllllllllll}\n",
       "  & X & participant\\_id & GUID & visit\\_month & sample\\_id & PCT\\_USABLE\\_BASES & Plate & STRAND\\_BALANCE & diagnosis\\_at\\_baseline & diagnosis\\_latest & ⋯ & sex & ethnicity & race & education\\_level\\_years & moca\\_total\\_score & Cognition\\_phenotype & age\\_baseline\\_range & belonging\\_cohort & ID\\_number & ageBin\\\\\n",
       "  & <int> & <chr> & <chr> & <int> & <chr> & <dbl> & <chr> & <dbl> & <chr> & <chr> & ⋯ & <chr> & <chr> & <chr> & <chr> & <dbl> & <chr> & <chr> & <chr> & <int> & <fct>\\\\\n",
       "\\hline\n",
       "\t2 &   2 & BF-1003 & PDLW805AHT     & 0 & BF-1003-SVM0\\_5T1 & 0.251916 & P341 & 0.714203 & Idiopathic PD & Idiopathic PD & ⋯ & Male & Not Hispanic or Latino & White & 12-16 years           & 30 & PDnoCI & 55\\_to\\_65 & BF & 1003 & 55\\_to\\_65\\\\\n",
       "\t3 &   3 & BF-1004 & PDKW284DYW     & 0 & BF-1004-SVM0\\_5T1 & 0.269126 & P341 & 0.675027 & Idiopathic PD & Idiopathic PD & ⋯ & Male & Not Hispanic or Latino & White & 12-16 years           & 28 & PDnoCI & 55\\_to\\_65 & BF & 1004 & 55\\_to\\_65\\\\\n",
       "\t5 &  13 & BF-1015 & PDDL325JX0     & 0 & BF-1015-SVM0\\_5T1 & 0.205056 & P341 & 0.793548 & Idiopathic PD & Idiopathic PD & ⋯ & Male & Not Hispanic or Latino & White & 12-16 years           & 27 & PDnoCI & 55\\_to\\_65 & BF & 1015 & 55\\_to\\_65\\\\\n",
       "\t7 &  28 & BF-1032 & PDJZ532TZK     & 0 & BF-1032-SVM0\\_5T1 & 0.178567 & P341 & 0.785834 & Idiopathic PD & Idiopathic PD & ⋯ & Male & Not Hispanic or Latino & White & Greater than 16 years & 18 & PDD    & above\\_65 & BF & 1032 & over\\_65 \\\\\n",
       "\t9 &  37 & BF-1044 & PDKG534VMG     & 0 & BF-1044-SVM0\\_5T1 & 0.543721 & P342 & 0.518666 & Idiopathic PD & Idiopathic PD & ⋯ & Male & Not Hispanic or Latino & White & Greater than 16 years & 26 & PDnoCI & above\\_65 & BF & 1044 & over\\_65 \\\\\n",
       "\t10 &  38 & BF-1045 & PDEZ044TE4     & 0 & BF-1045-SVM0\\_5T1 & 0.400889 & P342 & 0.632508 & Idiopathic PD & Idiopathic PD & ⋯ & Male & Not Hispanic or Latino & White & Greater than 16 years & 26 & PDnoCI & above\\_65 & BF & 1045 & over\\_65 \\\\\n",
       "\t11 &  41 & BF-1048 & PD\\_INVBF924PLB & 0 & BF-1048-SVM0\\_5T1 & 0.311984 & P342 & 0.665112 & Idiopathic PD & Idiopathic PD & ⋯ & Male & Not Hispanic or Latino & White & Greater than 16 years & 29 & PDnoCI & 55\\_to\\_65 & BF & 1048 & 55\\_to\\_65\\\\\n",
       "\t12 &  43 & BF-1051 & PDYA912JPR     & 0 & BF-1051-SVM0\\_5T1 & 0.428424 & P341 & 0.552939 & Idiopathic PD & Idiopathic PD & ⋯ & Male & Not Hispanic or Latino & White & Greater than 16 years & 27 & PDnoCI & 55\\_to\\_65 & BF & 1051 & over\\_65 \\\\\n",
       "\t13 &  46 & BF-1054 & PDTF210PBJ     & 0 & BF-1054-SVM0\\_5T1 & 0.217465 & P341 & 0.761710 & Idiopathic PD & Idiopathic PD & ⋯ & Male & Not Hispanic or Latino & White & Greater than 16 years & 27 & PDnoCI & 55\\_to\\_65 & BF & 1054 & over\\_65 \\\\\n",
       "\t14 &  47 & BF-1055 & PDNM387YJK     & 0 & BF-1055-SVM0\\_5T1 & 0.237050 & P341 & 0.757579 & Idiopathic PD & Idiopathic PD & ⋯ & Male & Not Hispanic or Latino & White & Greater than 16 years & 27 & PDnoCI & 55\\_to\\_65 & BF & 1055 & 55\\_to\\_65\\\\\n",
       "\t15 &  50 & BF-1059 & PDVR351AT4     & 0 & BF-1059-SVM0\\_5T1 & 0.407545 & P341 & 0.511536 & Idiopathic PD & Idiopathic PD & ⋯ & Male & Not Hispanic or Latino & White & Greater than 16 years & 29 & PDnoCI & 55\\_to\\_65 & BF & 1059 & 55\\_to\\_65\\\\\n",
       "\t18 &  56 & BF-1067 & PDXC409YFK     & 0 & BF-1067-SVM0\\_5T1 & 0.267014 & P341 & 0.765189 & Idiopathic PD & Idiopathic PD & ⋯ & Male & Not Hispanic or Latino & White & Greater than 16 years & 27 & PDnoCI & 55\\_to\\_65 & BF & 1067 & 55\\_to\\_65\\\\\n",
       "\t19 &  57 & BF-1068 & PDNM040XEK     & 0 & BF-1068-SVM0\\_5T1 & 0.204843 & P341 & 0.805482 & Idiopathic PD & Idiopathic PD & ⋯ & Male & Not Hispanic or Latino & White & Greater than 16 years & 27 & PDnoCI & above\\_65 & BF & 1068 & over\\_65 \\\\\n",
       "\t21 &  63 & BF-1077 & PDCG485AAK     & 0 & BF-1077-SVM0\\_5T1 & 0.272285 & P342 & 0.651994 & Idiopathic PD & Idiopathic PD & ⋯ & Male & Not Hispanic or Latino & White & Greater than 16 years & 26 & PDnoCI & 55\\_to\\_65 & BF & 1077 & 55\\_to\\_65\\\\\n",
       "\t22 &  65 & BF-1079 & PDGE561MVQ     & 0 & BF-1079-SVM0\\_5T1 & 0.301587 & P342 & 0.614442 & Idiopathic PD & Idiopathic PD & ⋯ & Male & Not Hispanic or Latino & White & Greater than 16 years & 26 & PDnoCI & 55\\_to\\_65 & BF & 1079 & 55\\_to\\_65\\\\\n",
       "\t24 &  69 & BF-1083 & PDHC631ZTT     & 0 & BF-1083-SVM0\\_5T1 & 0.303373 & P342 & 0.591517 & Idiopathic PD & Idiopathic PD & ⋯ & Male & Not Hispanic or Latino & White & 12-16 years           & 28 & PDnoCI & above\\_65 & BF & 1083 & over\\_65 \\\\\n",
       "\t25 &  70 & BF-1084 & PDHW583BHX     & 0 & BF-1084-SVM0\\_5T1 & 0.242487 & P342 & 0.624345 & Idiopathic PD & Idiopathic PD & ⋯ & Male & Not Hispanic or Latino & White & Greater than 16 years & 30 & PDnoCI & 55\\_to\\_65 & BF & 1084 & 55\\_to\\_65\\\\\n",
       "\t26 &  72 & BF-1086 & PDVC688DCC     & 0 & BF-1086-SVM0\\_5T1 & 0.267975 & P342 & 0.702552 & Idiopathic PD & Idiopathic PD & ⋯ & Male & Not Hispanic or Latino & White & 12-16 years           & 28 & PDnoCI & above\\_65 & BF & 1086 & over\\_65 \\\\\n",
       "\t28 &  75 & BF-1091 & PDEB612LPE     & 0 & BF-1091-SVM0\\_5T1 & 0.297992 & P342 & 0.594147 & Idiopathic PD & Idiopathic PD & ⋯ & Male & Not Hispanic or Latino & White & 12-16 years           & 27 & PDnoCI & above\\_65 & BF & 1091 & over\\_65 \\\\\n",
       "\t31 &  82 & BF-1098 & PDUA781LH0     & 0 & BF-1098-SVM0\\_5T1 & 0.275520 & P342 & 0.566768 & Idiopathic PD & Idiopathic PD & ⋯ & Male & Not Hispanic or Latino & White & 12-16 years           & 29 & PDnoCI & 55\\_to\\_65 & BF & 1098 & 55\\_to\\_65\\\\\n",
       "\t32 &  83 & BF-1100 & PDBW494GHE     & 0 & BF-1100-SVM0\\_5T1 & 0.346323 & P342 & 0.679662 & Idiopathic PD & Idiopathic PD & ⋯ & Male & Not Hispanic or Latino & White & Less than 12 years    & 28 & PDnoCI & above\\_65 & BF & 1100 & over\\_65 \\\\\n",
       "\t33 &  85 & BF-1102 & PDGE690VLX     & 0 & BF-1102-SVM0\\_5T1 & 0.342366 & P341 & 0.630592 & Idiopathic PD & Idiopathic PD & ⋯ & Male & Not Hispanic or Latino & White & 12-16 years           & 27 & PDnoCI & above\\_65 & BF & 1102 & over\\_65 \\\\\n",
       "\t38 &  98 & BF-1123 & PDPW971YLK     & 0 & BF-1123-SVM0\\_5T1 & 0.412993 & P342 & 0.581839 & Idiopathic PD & Idiopathic PD & ⋯ & Male & Not Hispanic or Latino & White & 12-16 years           & 28 & PDnoCI & above\\_65 & BF & 1123 & over\\_65 \\\\\n",
       "\t40 & 100 & BF-1125 & PDGM095LTR     & 0 & BF-1125-SVM0\\_5T1 & 0.243849 & P343 & 0.740451 & Idiopathic PD & Idiopathic PD & ⋯ & Male & Not Hispanic or Latino & White & Greater than 16 years & 29 & PDnoCI & above\\_65 & BF & 1125 & over\\_65 \\\\\n",
       "\t41 & 102 & BF-1127 & PD\\_INVAU879RU4 & 0 & BF-1127-SVM0\\_5T1 & 0.307194 & P342 & 0.595753 & Idiopathic PD & Idiopathic PD & ⋯ & Male & Not Hispanic or Latino & White & 12-16 years           & 30 & PDnoCI & 55\\_to\\_65 & BF & 1127 & over\\_65 \\\\\n",
       "\t42 & 104 & BF-1129 & PD\\_INVHZ900CFX & 0 & BF-1129-SVM0\\_5T1 & 0.356789 & P342 & 0.583377 & Idiopathic PD & Idiopathic PD & ⋯ & Male & Not Hispanic or Latino & White & Greater than 16 years & 29 & PDnoCI & 55\\_to\\_65 & BF & 1129 & 55\\_to\\_65\\\\\n",
       "\t43 & 105 & BF-1130 & PD\\_INVWT425XR4 & 0 & BF-1130-SVM0\\_5T1 & 0.302694 & P342 & 0.681069 & Idiopathic PD & Idiopathic PD & ⋯ & Male & Not Hispanic or Latino & White & Greater than 16 years & 27 & PDnoCI & above\\_65 & BF & 1130 & over\\_65 \\\\\n",
       "\t44 & 108 & BF-1133 & PD\\_INVTG922XML & 0 & BF-1133-SVM0\\_5T1 & 0.355065 & P342 & 0.540170 & Idiopathic PD & Idiopathic PD & ⋯ & Male & Not Hispanic or Latino & White & 12-16 years           & 26 & PDnoCI & above\\_65 & BF & 1133 & over\\_65 \\\\\n",
       "\t45 & 109 & BF-1134 & PD\\_INVYK998BZ8 & 0 & BF-1134-SVM0\\_5T1 & 0.328281 & P342 & 0.605603 & Idiopathic PD & Idiopathic PD & ⋯ & Male & Not Hispanic or Latino & White & Greater than 16 years & 26 & PDnoCI & 55\\_to\\_65 & BF & 1134 & 55\\_to\\_65\\\\\n",
       "\t48 & 114 & BF-1139 & PD\\_INVPR071NUA & 0 & BF-1139-SVM0\\_5T1 & 0.216803 & P343 & 0.773767 & Idiopathic PD & Idiopathic PD & ⋯ & Male & Not Hispanic or Latino & White & 12-16 years           & 26 & PDnoCI & 55\\_to\\_65 & BF & 1139 & 55\\_to\\_65\\\\\n",
       "\t51 & 124 & BF-1151 & PD\\_INVRG832TVQ & 0 & BF-1151-SVM0\\_5T1 & 0.385131 & P341 & 0.512446 & Idiopathic PD & Idiopathic PD & ⋯ & Male & Not Hispanic or Latino & White & 12-16 years           & 28 & PDnoCI & above\\_65 & BF & 1151 & over\\_65 \\\\\n",
       "\t52 & 125 & BF-1152 & PD\\_INVRN008END & 0 & BF-1152-SVM0\\_5T1 & 0.198934 & P341 & 0.816509 & Idiopathic PD & Idiopathic PD & ⋯ & Male & Not Hispanic or Latino & White & Greater than 16 years & 28 & PDnoCI & above\\_65 & BF & 1152 & over\\_65 \\\\\n",
       "\t54 & 128 & BF-1155 & PDZM594GHY     & 0 & BF-1155-SVM0\\_5T1 & 0.360555 & P341 & 0.652022 & Idiopathic PD & Idiopathic PD & ⋯ & Male & Not Hispanic or Latino & White & Greater than 16 years & 27 & PDnoCI & above\\_65 & BF & 1155 & over\\_65 \\\\\n",
       "\t56 & 132 & BF-1160 & PDFJ292RHT     & 0 & BF-1160-SVM0\\_5T1 & 0.205793 & P341 & 0.780496 & Idiopathic PD & Idiopathic PD & ⋯ & Male & Not Hispanic or Latino & White & Greater than 16 years & 27 & PDnoCI & above\\_65 & BF & 1160 & over\\_65 \\\\\n",
       "\t57 & 133 & BF-1161 & PD\\_INVNX553YZD & 0 & BF-1161-SVM0\\_5T1 & 0.287526 & P342 & 0.673995 & Idiopathic PD & Idiopathic PD & ⋯ & Male & Not Hispanic or Latino & White & Greater than 16 years & 29 & PDnoCI & above\\_65 & BF & 1161 & over\\_65 \\\\\n",
       "\t60 & 139 & BF-1167 & PD\\_INVYJ820YPJ & 0 & BF-1167-SVM0\\_5T1 & 0.394993 & P342 & 0.543050 & Idiopathic PD & Idiopathic PD & ⋯ & Male & Not Hispanic or Latino & White & Greater than 16 years & 29 & PDnoCI & above\\_65 & BF & 1167 & over\\_65 \\\\\n",
       "\t61 & 145 & BF-1176 & PDCM527JX5     & 0 & BF-1176-SVM0\\_5T1 & 0.280651 & P342 & 0.724924 & Idiopathic PD & Idiopathic PD & ⋯ & Male & Not Hispanic or Latino & White & Greater than 16 years & 30 & PDnoCI & 55\\_to\\_65 & BF & 1176 & 55\\_to\\_65\\\\\n",
       "\t62 & 149 & BF-1191 & PDZR921CUJ     & 0 & BF-1191-SVM0\\_5T1 & 0.260631 & P343 & 0.677435 & Idiopathic PD & Idiopathic PD & ⋯ & Male & Not Hispanic or Latino & White & Greater than 16 years & 30 & PDnoCI & above\\_65 & BF & 1191 & over\\_65 \\\\\n",
       "\t66 & 161 & BF-1204 & PDXA574ULG     & 0 & BF-1204-SVM0\\_5T1 & 0.302043 & P341 & 0.677706 & Idiopathic PD & Idiopathic PD & ⋯ & Male & Not Hispanic or Latino & White & Greater than 16 years & 26 & PDnoCI & above\\_65 & BF & 1204 & over\\_65 \\\\\n",
       "\t68 & 164 & BF-1207 & PDCU412CXY     & 0 & BF-1207-SVM0\\_5T1 & 0.170571 & P341 & 0.828935 & Idiopathic PD & Idiopathic PD & ⋯ & Male & Not Hispanic or Latino & White & Greater than 16 years & 28 & PDnoCI & 55\\_to\\_65 & BF & 1207 & 55\\_to\\_65\\\\\n",
       "\t69 & 165 & BF-1208 & PDCW532NUB     & 0 & BF-1208-SVM0\\_5T1 & 0.263316 & P341 & 0.725312 & Idiopathic PD & Idiopathic PD & ⋯ & Male & Not Hispanic or Latino & White & 12-16 years           & 28 & PDnoCI & above\\_65 & BF & 1208 & over\\_65 \\\\\n",
       "\t71 & 167 & BF-1210 & PDWP671VP0     & 0 & BF-1210-SVM0\\_5T1 & 0.152539 & P341 & 0.861824 & Idiopathic PD & Idiopathic PD & ⋯ & Male & Not Hispanic or Latino & White & 12-16 years           & 18 & PDD    & above\\_65 & BF & 1210 & over\\_65 \\\\\n",
       "\t72 & 168 & BF-1211 & PDNP038PMF     & 0 & BF-1211-SVM0\\_5T1 & 0.321360 & P341 & 0.697575 & Idiopathic PD & Idiopathic PD & ⋯ & Male & Not Hispanic or Latino & White & 12-16 years           & 28 & PDnoCI & 55\\_to\\_65 & BF & 1211 & 55\\_to\\_65\\\\\n",
       "\t73 & 170 & BF-1213 & PDHR732TR6     & 0 & BF-1213-SVM0\\_5T1 & 0.177323 & P341 & 0.802834 & Idiopathic PD & Idiopathic PD & ⋯ & Male & Not Hispanic or Latino & White & 12-16 years           & 28 & PDnoCI & 55\\_to\\_65 & BF & 1213 & 55\\_to\\_65\\\\\n",
       "\t74 & 171 & BF-1216 & PDVG701BFF     & 0 & BF-1216-SVM0\\_5T1 & 0.303068 & P341 & 0.643768 & Idiopathic PD & Idiopathic PD & ⋯ & Male & Not Hispanic or Latino & White & Greater than 16 years & 28 & PDnoCI & above\\_65 & BF & 1216 & over\\_65 \\\\\n",
       "\t78 & 182 & BF-1230 & PDWZ350UPE     & 0 & BF-1230-SVM0\\_5T1 & 0.266801 & P342 & 0.755565 & Idiopathic PD & Idiopathic PD & ⋯ & Male & Not Hispanic or Latino & White & 12-16 years           & 30 & PDnoCI & 55\\_to\\_65 & BF & 1230 & over\\_65 \\\\\n",
       "\t79 & 183 & BF-1236 & PDBD372DJU     & 0 & BF-1236-SVM0\\_5T1 & 0.356779 & P342 & 0.648287 & Idiopathic PD & Idiopathic PD & ⋯ & Male & Not Hispanic or Latino & White & Greater than 16 years & 29 & PDnoCI & 55\\_to\\_65 & BF & 1236 & 55\\_to\\_65\\\\\n",
       "\t81 & 187 & BF-1240 & PDXG646ULT     & 0 & BF-1240-SVM0\\_5T1 & 0.412228 & P343 & 0.611796 & Idiopathic PD & Idiopathic PD & ⋯ & Male & Not Hispanic or Latino & White & Greater than 16 years & 26 & PDnoCI & above\\_65 & BF & 1240 & over\\_65 \\\\\n",
       "\t82 & 188 & BF-1241 & PDDX898NYQ     & 0 & BF-1241-SVM0\\_5T1 & 0.339546 & P342 & 0.649403 & Idiopathic PD & Idiopathic PD & ⋯ & Male & Not Hispanic or Latino & White & Greater than 16 years & 26 & PDnoCI & above\\_65 & BF & 1241 & over\\_65 \\\\\n",
       "\t83 & 193 & BF-1253 & PDTZ386BRM     & 0 & BF-1253-SVM0\\_5T1 & 0.252925 & P343 & 0.737213 & Idiopathic PD & Idiopathic PD & ⋯ & Male & Not Hispanic or Latino & White & 12-16 years           & 26 & PDnoCI & above\\_65 & BF & 1253 & over\\_65 \\\\\n",
       "\t84 & 194 & BF-1255 & PDHN834JU2     & 0 & BF-1255-SVM0\\_5T1 & 0.326313 & P343 & 0.586934 & Idiopathic PD & Idiopathic PD & ⋯ & Male & Not Hispanic or Latino & White & Greater than 16 years & 30 & PDnoCI & above\\_65 & BF & 1255 & over\\_65 \\\\\n",
       "\\end{tabular}\n"
      ],
      "text/markdown": [
       "\n",
       "A data.frame: 51 × 25\n",
       "\n",
       "| <!--/--> | X &lt;int&gt; | participant_id &lt;chr&gt; | GUID &lt;chr&gt; | visit_month &lt;int&gt; | sample_id &lt;chr&gt; | PCT_USABLE_BASES &lt;dbl&gt; | Plate &lt;chr&gt; | STRAND_BALANCE &lt;dbl&gt; | diagnosis_at_baseline &lt;chr&gt; | diagnosis_latest &lt;chr&gt; | ⋯ ⋯ | sex &lt;chr&gt; | ethnicity &lt;chr&gt; | race &lt;chr&gt; | education_level_years &lt;chr&gt; | moca_total_score &lt;dbl&gt; | Cognition_phenotype &lt;chr&gt; | age_baseline_range &lt;chr&gt; | belonging_cohort &lt;chr&gt; | ID_number &lt;int&gt; | ageBin &lt;fct&gt; |\n",
       "|---|---|---|---|---|---|---|---|---|---|---|---|---|---|---|---|---|---|---|---|---|---|\n",
       "| 2 |   2 | BF-1003 | PDLW805AHT     | 0 | BF-1003-SVM0_5T1 | 0.251916 | P341 | 0.714203 | Idiopathic PD | Idiopathic PD | ⋯ | Male | Not Hispanic or Latino | White | 12-16 years           | 30 | PDnoCI | 55_to_65 | BF | 1003 | 55_to_65 |\n",
       "| 3 |   3 | BF-1004 | PDKW284DYW     | 0 | BF-1004-SVM0_5T1 | 0.269126 | P341 | 0.675027 | Idiopathic PD | Idiopathic PD | ⋯ | Male | Not Hispanic or Latino | White | 12-16 years           | 28 | PDnoCI | 55_to_65 | BF | 1004 | 55_to_65 |\n",
       "| 5 |  13 | BF-1015 | PDDL325JX0     | 0 | BF-1015-SVM0_5T1 | 0.205056 | P341 | 0.793548 | Idiopathic PD | Idiopathic PD | ⋯ | Male | Not Hispanic or Latino | White | 12-16 years           | 27 | PDnoCI | 55_to_65 | BF | 1015 | 55_to_65 |\n",
       "| 7 |  28 | BF-1032 | PDJZ532TZK     | 0 | BF-1032-SVM0_5T1 | 0.178567 | P341 | 0.785834 | Idiopathic PD | Idiopathic PD | ⋯ | Male | Not Hispanic or Latino | White | Greater than 16 years | 18 | PDD    | above_65 | BF | 1032 | over_65  |\n",
       "| 9 |  37 | BF-1044 | PDKG534VMG     | 0 | BF-1044-SVM0_5T1 | 0.543721 | P342 | 0.518666 | Idiopathic PD | Idiopathic PD | ⋯ | Male | Not Hispanic or Latino | White | Greater than 16 years | 26 | PDnoCI | above_65 | BF | 1044 | over_65  |\n",
       "| 10 |  38 | BF-1045 | PDEZ044TE4     | 0 | BF-1045-SVM0_5T1 | 0.400889 | P342 | 0.632508 | Idiopathic PD | Idiopathic PD | ⋯ | Male | Not Hispanic or Latino | White | Greater than 16 years | 26 | PDnoCI | above_65 | BF | 1045 | over_65  |\n",
       "| 11 |  41 | BF-1048 | PD_INVBF924PLB | 0 | BF-1048-SVM0_5T1 | 0.311984 | P342 | 0.665112 | Idiopathic PD | Idiopathic PD | ⋯ | Male | Not Hispanic or Latino | White | Greater than 16 years | 29 | PDnoCI | 55_to_65 | BF | 1048 | 55_to_65 |\n",
       "| 12 |  43 | BF-1051 | PDYA912JPR     | 0 | BF-1051-SVM0_5T1 | 0.428424 | P341 | 0.552939 | Idiopathic PD | Idiopathic PD | ⋯ | Male | Not Hispanic or Latino | White | Greater than 16 years | 27 | PDnoCI | 55_to_65 | BF | 1051 | over_65  |\n",
       "| 13 |  46 | BF-1054 | PDTF210PBJ     | 0 | BF-1054-SVM0_5T1 | 0.217465 | P341 | 0.761710 | Idiopathic PD | Idiopathic PD | ⋯ | Male | Not Hispanic or Latino | White | Greater than 16 years | 27 | PDnoCI | 55_to_65 | BF | 1054 | over_65  |\n",
       "| 14 |  47 | BF-1055 | PDNM387YJK     | 0 | BF-1055-SVM0_5T1 | 0.237050 | P341 | 0.757579 | Idiopathic PD | Idiopathic PD | ⋯ | Male | Not Hispanic or Latino | White | Greater than 16 years | 27 | PDnoCI | 55_to_65 | BF | 1055 | 55_to_65 |\n",
       "| 15 |  50 | BF-1059 | PDVR351AT4     | 0 | BF-1059-SVM0_5T1 | 0.407545 | P341 | 0.511536 | Idiopathic PD | Idiopathic PD | ⋯ | Male | Not Hispanic or Latino | White | Greater than 16 years | 29 | PDnoCI | 55_to_65 | BF | 1059 | 55_to_65 |\n",
       "| 18 |  56 | BF-1067 | PDXC409YFK     | 0 | BF-1067-SVM0_5T1 | 0.267014 | P341 | 0.765189 | Idiopathic PD | Idiopathic PD | ⋯ | Male | Not Hispanic or Latino | White | Greater than 16 years | 27 | PDnoCI | 55_to_65 | BF | 1067 | 55_to_65 |\n",
       "| 19 |  57 | BF-1068 | PDNM040XEK     | 0 | BF-1068-SVM0_5T1 | 0.204843 | P341 | 0.805482 | Idiopathic PD | Idiopathic PD | ⋯ | Male | Not Hispanic or Latino | White | Greater than 16 years | 27 | PDnoCI | above_65 | BF | 1068 | over_65  |\n",
       "| 21 |  63 | BF-1077 | PDCG485AAK     | 0 | BF-1077-SVM0_5T1 | 0.272285 | P342 | 0.651994 | Idiopathic PD | Idiopathic PD | ⋯ | Male | Not Hispanic or Latino | White | Greater than 16 years | 26 | PDnoCI | 55_to_65 | BF | 1077 | 55_to_65 |\n",
       "| 22 |  65 | BF-1079 | PDGE561MVQ     | 0 | BF-1079-SVM0_5T1 | 0.301587 | P342 | 0.614442 | Idiopathic PD | Idiopathic PD | ⋯ | Male | Not Hispanic or Latino | White | Greater than 16 years | 26 | PDnoCI | 55_to_65 | BF | 1079 | 55_to_65 |\n",
       "| 24 |  69 | BF-1083 | PDHC631ZTT     | 0 | BF-1083-SVM0_5T1 | 0.303373 | P342 | 0.591517 | Idiopathic PD | Idiopathic PD | ⋯ | Male | Not Hispanic or Latino | White | 12-16 years           | 28 | PDnoCI | above_65 | BF | 1083 | over_65  |\n",
       "| 25 |  70 | BF-1084 | PDHW583BHX     | 0 | BF-1084-SVM0_5T1 | 0.242487 | P342 | 0.624345 | Idiopathic PD | Idiopathic PD | ⋯ | Male | Not Hispanic or Latino | White | Greater than 16 years | 30 | PDnoCI | 55_to_65 | BF | 1084 | 55_to_65 |\n",
       "| 26 |  72 | BF-1086 | PDVC688DCC     | 0 | BF-1086-SVM0_5T1 | 0.267975 | P342 | 0.702552 | Idiopathic PD | Idiopathic PD | ⋯ | Male | Not Hispanic or Latino | White | 12-16 years           | 28 | PDnoCI | above_65 | BF | 1086 | over_65  |\n",
       "| 28 |  75 | BF-1091 | PDEB612LPE     | 0 | BF-1091-SVM0_5T1 | 0.297992 | P342 | 0.594147 | Idiopathic PD | Idiopathic PD | ⋯ | Male | Not Hispanic or Latino | White | 12-16 years           | 27 | PDnoCI | above_65 | BF | 1091 | over_65  |\n",
       "| 31 |  82 | BF-1098 | PDUA781LH0     | 0 | BF-1098-SVM0_5T1 | 0.275520 | P342 | 0.566768 | Idiopathic PD | Idiopathic PD | ⋯ | Male | Not Hispanic or Latino | White | 12-16 years           | 29 | PDnoCI | 55_to_65 | BF | 1098 | 55_to_65 |\n",
       "| 32 |  83 | BF-1100 | PDBW494GHE     | 0 | BF-1100-SVM0_5T1 | 0.346323 | P342 | 0.679662 | Idiopathic PD | Idiopathic PD | ⋯ | Male | Not Hispanic or Latino | White | Less than 12 years    | 28 | PDnoCI | above_65 | BF | 1100 | over_65  |\n",
       "| 33 |  85 | BF-1102 | PDGE690VLX     | 0 | BF-1102-SVM0_5T1 | 0.342366 | P341 | 0.630592 | Idiopathic PD | Idiopathic PD | ⋯ | Male | Not Hispanic or Latino | White | 12-16 years           | 27 | PDnoCI | above_65 | BF | 1102 | over_65  |\n",
       "| 38 |  98 | BF-1123 | PDPW971YLK     | 0 | BF-1123-SVM0_5T1 | 0.412993 | P342 | 0.581839 | Idiopathic PD | Idiopathic PD | ⋯ | Male | Not Hispanic or Latino | White | 12-16 years           | 28 | PDnoCI | above_65 | BF | 1123 | over_65  |\n",
       "| 40 | 100 | BF-1125 | PDGM095LTR     | 0 | BF-1125-SVM0_5T1 | 0.243849 | P343 | 0.740451 | Idiopathic PD | Idiopathic PD | ⋯ | Male | Not Hispanic or Latino | White | Greater than 16 years | 29 | PDnoCI | above_65 | BF | 1125 | over_65  |\n",
       "| 41 | 102 | BF-1127 | PD_INVAU879RU4 | 0 | BF-1127-SVM0_5T1 | 0.307194 | P342 | 0.595753 | Idiopathic PD | Idiopathic PD | ⋯ | Male | Not Hispanic or Latino | White | 12-16 years           | 30 | PDnoCI | 55_to_65 | BF | 1127 | over_65  |\n",
       "| 42 | 104 | BF-1129 | PD_INVHZ900CFX | 0 | BF-1129-SVM0_5T1 | 0.356789 | P342 | 0.583377 | Idiopathic PD | Idiopathic PD | ⋯ | Male | Not Hispanic or Latino | White | Greater than 16 years | 29 | PDnoCI | 55_to_65 | BF | 1129 | 55_to_65 |\n",
       "| 43 | 105 | BF-1130 | PD_INVWT425XR4 | 0 | BF-1130-SVM0_5T1 | 0.302694 | P342 | 0.681069 | Idiopathic PD | Idiopathic PD | ⋯ | Male | Not Hispanic or Latino | White | Greater than 16 years | 27 | PDnoCI | above_65 | BF | 1130 | over_65  |\n",
       "| 44 | 108 | BF-1133 | PD_INVTG922XML | 0 | BF-1133-SVM0_5T1 | 0.355065 | P342 | 0.540170 | Idiopathic PD | Idiopathic PD | ⋯ | Male | Not Hispanic or Latino | White | 12-16 years           | 26 | PDnoCI | above_65 | BF | 1133 | over_65  |\n",
       "| 45 | 109 | BF-1134 | PD_INVYK998BZ8 | 0 | BF-1134-SVM0_5T1 | 0.328281 | P342 | 0.605603 | Idiopathic PD | Idiopathic PD | ⋯ | Male | Not Hispanic or Latino | White | Greater than 16 years | 26 | PDnoCI | 55_to_65 | BF | 1134 | 55_to_65 |\n",
       "| 48 | 114 | BF-1139 | PD_INVPR071NUA | 0 | BF-1139-SVM0_5T1 | 0.216803 | P343 | 0.773767 | Idiopathic PD | Idiopathic PD | ⋯ | Male | Not Hispanic or Latino | White | 12-16 years           | 26 | PDnoCI | 55_to_65 | BF | 1139 | 55_to_65 |\n",
       "| 51 | 124 | BF-1151 | PD_INVRG832TVQ | 0 | BF-1151-SVM0_5T1 | 0.385131 | P341 | 0.512446 | Idiopathic PD | Idiopathic PD | ⋯ | Male | Not Hispanic or Latino | White | 12-16 years           | 28 | PDnoCI | above_65 | BF | 1151 | over_65  |\n",
       "| 52 | 125 | BF-1152 | PD_INVRN008END | 0 | BF-1152-SVM0_5T1 | 0.198934 | P341 | 0.816509 | Idiopathic PD | Idiopathic PD | ⋯ | Male | Not Hispanic or Latino | White | Greater than 16 years | 28 | PDnoCI | above_65 | BF | 1152 | over_65  |\n",
       "| 54 | 128 | BF-1155 | PDZM594GHY     | 0 | BF-1155-SVM0_5T1 | 0.360555 | P341 | 0.652022 | Idiopathic PD | Idiopathic PD | ⋯ | Male | Not Hispanic or Latino | White | Greater than 16 years | 27 | PDnoCI | above_65 | BF | 1155 | over_65  |\n",
       "| 56 | 132 | BF-1160 | PDFJ292RHT     | 0 | BF-1160-SVM0_5T1 | 0.205793 | P341 | 0.780496 | Idiopathic PD | Idiopathic PD | ⋯ | Male | Not Hispanic or Latino | White | Greater than 16 years | 27 | PDnoCI | above_65 | BF | 1160 | over_65  |\n",
       "| 57 | 133 | BF-1161 | PD_INVNX553YZD | 0 | BF-1161-SVM0_5T1 | 0.287526 | P342 | 0.673995 | Idiopathic PD | Idiopathic PD | ⋯ | Male | Not Hispanic or Latino | White | Greater than 16 years | 29 | PDnoCI | above_65 | BF | 1161 | over_65  |\n",
       "| 60 | 139 | BF-1167 | PD_INVYJ820YPJ | 0 | BF-1167-SVM0_5T1 | 0.394993 | P342 | 0.543050 | Idiopathic PD | Idiopathic PD | ⋯ | Male | Not Hispanic or Latino | White | Greater than 16 years | 29 | PDnoCI | above_65 | BF | 1167 | over_65  |\n",
       "| 61 | 145 | BF-1176 | PDCM527JX5     | 0 | BF-1176-SVM0_5T1 | 0.280651 | P342 | 0.724924 | Idiopathic PD | Idiopathic PD | ⋯ | Male | Not Hispanic or Latino | White | Greater than 16 years | 30 | PDnoCI | 55_to_65 | BF | 1176 | 55_to_65 |\n",
       "| 62 | 149 | BF-1191 | PDZR921CUJ     | 0 | BF-1191-SVM0_5T1 | 0.260631 | P343 | 0.677435 | Idiopathic PD | Idiopathic PD | ⋯ | Male | Not Hispanic or Latino | White | Greater than 16 years | 30 | PDnoCI | above_65 | BF | 1191 | over_65  |\n",
       "| 66 | 161 | BF-1204 | PDXA574ULG     | 0 | BF-1204-SVM0_5T1 | 0.302043 | P341 | 0.677706 | Idiopathic PD | Idiopathic PD | ⋯ | Male | Not Hispanic or Latino | White | Greater than 16 years | 26 | PDnoCI | above_65 | BF | 1204 | over_65  |\n",
       "| 68 | 164 | BF-1207 | PDCU412CXY     | 0 | BF-1207-SVM0_5T1 | 0.170571 | P341 | 0.828935 | Idiopathic PD | Idiopathic PD | ⋯ | Male | Not Hispanic or Latino | White | Greater than 16 years | 28 | PDnoCI | 55_to_65 | BF | 1207 | 55_to_65 |\n",
       "| 69 | 165 | BF-1208 | PDCW532NUB     | 0 | BF-1208-SVM0_5T1 | 0.263316 | P341 | 0.725312 | Idiopathic PD | Idiopathic PD | ⋯ | Male | Not Hispanic or Latino | White | 12-16 years           | 28 | PDnoCI | above_65 | BF | 1208 | over_65  |\n",
       "| 71 | 167 | BF-1210 | PDWP671VP0     | 0 | BF-1210-SVM0_5T1 | 0.152539 | P341 | 0.861824 | Idiopathic PD | Idiopathic PD | ⋯ | Male | Not Hispanic or Latino | White | 12-16 years           | 18 | PDD    | above_65 | BF | 1210 | over_65  |\n",
       "| 72 | 168 | BF-1211 | PDNP038PMF     | 0 | BF-1211-SVM0_5T1 | 0.321360 | P341 | 0.697575 | Idiopathic PD | Idiopathic PD | ⋯ | Male | Not Hispanic or Latino | White | 12-16 years           | 28 | PDnoCI | 55_to_65 | BF | 1211 | 55_to_65 |\n",
       "| 73 | 170 | BF-1213 | PDHR732TR6     | 0 | BF-1213-SVM0_5T1 | 0.177323 | P341 | 0.802834 | Idiopathic PD | Idiopathic PD | ⋯ | Male | Not Hispanic or Latino | White | 12-16 years           | 28 | PDnoCI | 55_to_65 | BF | 1213 | 55_to_65 |\n",
       "| 74 | 171 | BF-1216 | PDVG701BFF     | 0 | BF-1216-SVM0_5T1 | 0.303068 | P341 | 0.643768 | Idiopathic PD | Idiopathic PD | ⋯ | Male | Not Hispanic or Latino | White | Greater than 16 years | 28 | PDnoCI | above_65 | BF | 1216 | over_65  |\n",
       "| 78 | 182 | BF-1230 | PDWZ350UPE     | 0 | BF-1230-SVM0_5T1 | 0.266801 | P342 | 0.755565 | Idiopathic PD | Idiopathic PD | ⋯ | Male | Not Hispanic or Latino | White | 12-16 years           | 30 | PDnoCI | 55_to_65 | BF | 1230 | over_65  |\n",
       "| 79 | 183 | BF-1236 | PDBD372DJU     | 0 | BF-1236-SVM0_5T1 | 0.356779 | P342 | 0.648287 | Idiopathic PD | Idiopathic PD | ⋯ | Male | Not Hispanic or Latino | White | Greater than 16 years | 29 | PDnoCI | 55_to_65 | BF | 1236 | 55_to_65 |\n",
       "| 81 | 187 | BF-1240 | PDXG646ULT     | 0 | BF-1240-SVM0_5T1 | 0.412228 | P343 | 0.611796 | Idiopathic PD | Idiopathic PD | ⋯ | Male | Not Hispanic or Latino | White | Greater than 16 years | 26 | PDnoCI | above_65 | BF | 1240 | over_65  |\n",
       "| 82 | 188 | BF-1241 | PDDX898NYQ     | 0 | BF-1241-SVM0_5T1 | 0.339546 | P342 | 0.649403 | Idiopathic PD | Idiopathic PD | ⋯ | Male | Not Hispanic or Latino | White | Greater than 16 years | 26 | PDnoCI | above_65 | BF | 1241 | over_65  |\n",
       "| 83 | 193 | BF-1253 | PDTZ386BRM     | 0 | BF-1253-SVM0_5T1 | 0.252925 | P343 | 0.737213 | Idiopathic PD | Idiopathic PD | ⋯ | Male | Not Hispanic or Latino | White | 12-16 years           | 26 | PDnoCI | above_65 | BF | 1253 | over_65  |\n",
       "| 84 | 194 | BF-1255 | PDHN834JU2     | 0 | BF-1255-SVM0_5T1 | 0.326313 | P343 | 0.586934 | Idiopathic PD | Idiopathic PD | ⋯ | Male | Not Hispanic or Latino | White | Greater than 16 years | 30 | PDnoCI | above_65 | BF | 1255 | over_65  |\n",
       "\n"
      ],
      "text/plain": [
       "   X   participant_id GUID           visit_month sample_id       \n",
       "2    2 BF-1003        PDLW805AHT     0           BF-1003-SVM0_5T1\n",
       "3    3 BF-1004        PDKW284DYW     0           BF-1004-SVM0_5T1\n",
       "5   13 BF-1015        PDDL325JX0     0           BF-1015-SVM0_5T1\n",
       "7   28 BF-1032        PDJZ532TZK     0           BF-1032-SVM0_5T1\n",
       "9   37 BF-1044        PDKG534VMG     0           BF-1044-SVM0_5T1\n",
       "10  38 BF-1045        PDEZ044TE4     0           BF-1045-SVM0_5T1\n",
       "11  41 BF-1048        PD_INVBF924PLB 0           BF-1048-SVM0_5T1\n",
       "12  43 BF-1051        PDYA912JPR     0           BF-1051-SVM0_5T1\n",
       "13  46 BF-1054        PDTF210PBJ     0           BF-1054-SVM0_5T1\n",
       "14  47 BF-1055        PDNM387YJK     0           BF-1055-SVM0_5T1\n",
       "15  50 BF-1059        PDVR351AT4     0           BF-1059-SVM0_5T1\n",
       "18  56 BF-1067        PDXC409YFK     0           BF-1067-SVM0_5T1\n",
       "19  57 BF-1068        PDNM040XEK     0           BF-1068-SVM0_5T1\n",
       "21  63 BF-1077        PDCG485AAK     0           BF-1077-SVM0_5T1\n",
       "22  65 BF-1079        PDGE561MVQ     0           BF-1079-SVM0_5T1\n",
       "24  69 BF-1083        PDHC631ZTT     0           BF-1083-SVM0_5T1\n",
       "25  70 BF-1084        PDHW583BHX     0           BF-1084-SVM0_5T1\n",
       "26  72 BF-1086        PDVC688DCC     0           BF-1086-SVM0_5T1\n",
       "28  75 BF-1091        PDEB612LPE     0           BF-1091-SVM0_5T1\n",
       "31  82 BF-1098        PDUA781LH0     0           BF-1098-SVM0_5T1\n",
       "32  83 BF-1100        PDBW494GHE     0           BF-1100-SVM0_5T1\n",
       "33  85 BF-1102        PDGE690VLX     0           BF-1102-SVM0_5T1\n",
       "38  98 BF-1123        PDPW971YLK     0           BF-1123-SVM0_5T1\n",
       "40 100 BF-1125        PDGM095LTR     0           BF-1125-SVM0_5T1\n",
       "41 102 BF-1127        PD_INVAU879RU4 0           BF-1127-SVM0_5T1\n",
       "42 104 BF-1129        PD_INVHZ900CFX 0           BF-1129-SVM0_5T1\n",
       "43 105 BF-1130        PD_INVWT425XR4 0           BF-1130-SVM0_5T1\n",
       "44 108 BF-1133        PD_INVTG922XML 0           BF-1133-SVM0_5T1\n",
       "45 109 BF-1134        PD_INVYK998BZ8 0           BF-1134-SVM0_5T1\n",
       "48 114 BF-1139        PD_INVPR071NUA 0           BF-1139-SVM0_5T1\n",
       "51 124 BF-1151        PD_INVRG832TVQ 0           BF-1151-SVM0_5T1\n",
       "52 125 BF-1152        PD_INVRN008END 0           BF-1152-SVM0_5T1\n",
       "54 128 BF-1155        PDZM594GHY     0           BF-1155-SVM0_5T1\n",
       "56 132 BF-1160        PDFJ292RHT     0           BF-1160-SVM0_5T1\n",
       "57 133 BF-1161        PD_INVNX553YZD 0           BF-1161-SVM0_5T1\n",
       "60 139 BF-1167        PD_INVYJ820YPJ 0           BF-1167-SVM0_5T1\n",
       "61 145 BF-1176        PDCM527JX5     0           BF-1176-SVM0_5T1\n",
       "62 149 BF-1191        PDZR921CUJ     0           BF-1191-SVM0_5T1\n",
       "66 161 BF-1204        PDXA574ULG     0           BF-1204-SVM0_5T1\n",
       "68 164 BF-1207        PDCU412CXY     0           BF-1207-SVM0_5T1\n",
       "69 165 BF-1208        PDCW532NUB     0           BF-1208-SVM0_5T1\n",
       "71 167 BF-1210        PDWP671VP0     0           BF-1210-SVM0_5T1\n",
       "72 168 BF-1211        PDNP038PMF     0           BF-1211-SVM0_5T1\n",
       "73 170 BF-1213        PDHR732TR6     0           BF-1213-SVM0_5T1\n",
       "74 171 BF-1216        PDVG701BFF     0           BF-1216-SVM0_5T1\n",
       "78 182 BF-1230        PDWZ350UPE     0           BF-1230-SVM0_5T1\n",
       "79 183 BF-1236        PDBD372DJU     0           BF-1236-SVM0_5T1\n",
       "81 187 BF-1240        PDXG646ULT     0           BF-1240-SVM0_5T1\n",
       "82 188 BF-1241        PDDX898NYQ     0           BF-1241-SVM0_5T1\n",
       "83 193 BF-1253        PDTZ386BRM     0           BF-1253-SVM0_5T1\n",
       "84 194 BF-1255        PDHN834JU2     0           BF-1255-SVM0_5T1\n",
       "   PCT_USABLE_BASES Plate STRAND_BALANCE diagnosis_at_baseline diagnosis_latest\n",
       "2  0.251916         P341  0.714203       Idiopathic PD         Idiopathic PD   \n",
       "3  0.269126         P341  0.675027       Idiopathic PD         Idiopathic PD   \n",
       "5  0.205056         P341  0.793548       Idiopathic PD         Idiopathic PD   \n",
       "7  0.178567         P341  0.785834       Idiopathic PD         Idiopathic PD   \n",
       "9  0.543721         P342  0.518666       Idiopathic PD         Idiopathic PD   \n",
       "10 0.400889         P342  0.632508       Idiopathic PD         Idiopathic PD   \n",
       "11 0.311984         P342  0.665112       Idiopathic PD         Idiopathic PD   \n",
       "12 0.428424         P341  0.552939       Idiopathic PD         Idiopathic PD   \n",
       "13 0.217465         P341  0.761710       Idiopathic PD         Idiopathic PD   \n",
       "14 0.237050         P341  0.757579       Idiopathic PD         Idiopathic PD   \n",
       "15 0.407545         P341  0.511536       Idiopathic PD         Idiopathic PD   \n",
       "18 0.267014         P341  0.765189       Idiopathic PD         Idiopathic PD   \n",
       "19 0.204843         P341  0.805482       Idiopathic PD         Idiopathic PD   \n",
       "21 0.272285         P342  0.651994       Idiopathic PD         Idiopathic PD   \n",
       "22 0.301587         P342  0.614442       Idiopathic PD         Idiopathic PD   \n",
       "24 0.303373         P342  0.591517       Idiopathic PD         Idiopathic PD   \n",
       "25 0.242487         P342  0.624345       Idiopathic PD         Idiopathic PD   \n",
       "26 0.267975         P342  0.702552       Idiopathic PD         Idiopathic PD   \n",
       "28 0.297992         P342  0.594147       Idiopathic PD         Idiopathic PD   \n",
       "31 0.275520         P342  0.566768       Idiopathic PD         Idiopathic PD   \n",
       "32 0.346323         P342  0.679662       Idiopathic PD         Idiopathic PD   \n",
       "33 0.342366         P341  0.630592       Idiopathic PD         Idiopathic PD   \n",
       "38 0.412993         P342  0.581839       Idiopathic PD         Idiopathic PD   \n",
       "40 0.243849         P343  0.740451       Idiopathic PD         Idiopathic PD   \n",
       "41 0.307194         P342  0.595753       Idiopathic PD         Idiopathic PD   \n",
       "42 0.356789         P342  0.583377       Idiopathic PD         Idiopathic PD   \n",
       "43 0.302694         P342  0.681069       Idiopathic PD         Idiopathic PD   \n",
       "44 0.355065         P342  0.540170       Idiopathic PD         Idiopathic PD   \n",
       "45 0.328281         P342  0.605603       Idiopathic PD         Idiopathic PD   \n",
       "48 0.216803         P343  0.773767       Idiopathic PD         Idiopathic PD   \n",
       "51 0.385131         P341  0.512446       Idiopathic PD         Idiopathic PD   \n",
       "52 0.198934         P341  0.816509       Idiopathic PD         Idiopathic PD   \n",
       "54 0.360555         P341  0.652022       Idiopathic PD         Idiopathic PD   \n",
       "56 0.205793         P341  0.780496       Idiopathic PD         Idiopathic PD   \n",
       "57 0.287526         P342  0.673995       Idiopathic PD         Idiopathic PD   \n",
       "60 0.394993         P342  0.543050       Idiopathic PD         Idiopathic PD   \n",
       "61 0.280651         P342  0.724924       Idiopathic PD         Idiopathic PD   \n",
       "62 0.260631         P343  0.677435       Idiopathic PD         Idiopathic PD   \n",
       "66 0.302043         P341  0.677706       Idiopathic PD         Idiopathic PD   \n",
       "68 0.170571         P341  0.828935       Idiopathic PD         Idiopathic PD   \n",
       "69 0.263316         P341  0.725312       Idiopathic PD         Idiopathic PD   \n",
       "71 0.152539         P341  0.861824       Idiopathic PD         Idiopathic PD   \n",
       "72 0.321360         P341  0.697575       Idiopathic PD         Idiopathic PD   \n",
       "73 0.177323         P341  0.802834       Idiopathic PD         Idiopathic PD   \n",
       "74 0.303068         P341  0.643768       Idiopathic PD         Idiopathic PD   \n",
       "78 0.266801         P342  0.755565       Idiopathic PD         Idiopathic PD   \n",
       "79 0.356779         P342  0.648287       Idiopathic PD         Idiopathic PD   \n",
       "81 0.412228         P343  0.611796       Idiopathic PD         Idiopathic PD   \n",
       "82 0.339546         P342  0.649403       Idiopathic PD         Idiopathic PD   \n",
       "83 0.252925         P343  0.737213       Idiopathic PD         Idiopathic PD   \n",
       "84 0.326313         P343  0.586934       Idiopathic PD         Idiopathic PD   \n",
       "   ⋯ sex  ethnicity              race  education_level_years moca_total_score\n",
       "2  ⋯ Male Not Hispanic or Latino White 12-16 years           30              \n",
       "3  ⋯ Male Not Hispanic or Latino White 12-16 years           28              \n",
       "5  ⋯ Male Not Hispanic or Latino White 12-16 years           27              \n",
       "7  ⋯ Male Not Hispanic or Latino White Greater than 16 years 18              \n",
       "9  ⋯ Male Not Hispanic or Latino White Greater than 16 years 26              \n",
       "10 ⋯ Male Not Hispanic or Latino White Greater than 16 years 26              \n",
       "11 ⋯ Male Not Hispanic or Latino White Greater than 16 years 29              \n",
       "12 ⋯ Male Not Hispanic or Latino White Greater than 16 years 27              \n",
       "13 ⋯ Male Not Hispanic or Latino White Greater than 16 years 27              \n",
       "14 ⋯ Male Not Hispanic or Latino White Greater than 16 years 27              \n",
       "15 ⋯ Male Not Hispanic or Latino White Greater than 16 years 29              \n",
       "18 ⋯ Male Not Hispanic or Latino White Greater than 16 years 27              \n",
       "19 ⋯ Male Not Hispanic or Latino White Greater than 16 years 27              \n",
       "21 ⋯ Male Not Hispanic or Latino White Greater than 16 years 26              \n",
       "22 ⋯ Male Not Hispanic or Latino White Greater than 16 years 26              \n",
       "24 ⋯ Male Not Hispanic or Latino White 12-16 years           28              \n",
       "25 ⋯ Male Not Hispanic or Latino White Greater than 16 years 30              \n",
       "26 ⋯ Male Not Hispanic or Latino White 12-16 years           28              \n",
       "28 ⋯ Male Not Hispanic or Latino White 12-16 years           27              \n",
       "31 ⋯ Male Not Hispanic or Latino White 12-16 years           29              \n",
       "32 ⋯ Male Not Hispanic or Latino White Less than 12 years    28              \n",
       "33 ⋯ Male Not Hispanic or Latino White 12-16 years           27              \n",
       "38 ⋯ Male Not Hispanic or Latino White 12-16 years           28              \n",
       "40 ⋯ Male Not Hispanic or Latino White Greater than 16 years 29              \n",
       "41 ⋯ Male Not Hispanic or Latino White 12-16 years           30              \n",
       "42 ⋯ Male Not Hispanic or Latino White Greater than 16 years 29              \n",
       "43 ⋯ Male Not Hispanic or Latino White Greater than 16 years 27              \n",
       "44 ⋯ Male Not Hispanic or Latino White 12-16 years           26              \n",
       "45 ⋯ Male Not Hispanic or Latino White Greater than 16 years 26              \n",
       "48 ⋯ Male Not Hispanic or Latino White 12-16 years           26              \n",
       "51 ⋯ Male Not Hispanic or Latino White 12-16 years           28              \n",
       "52 ⋯ Male Not Hispanic or Latino White Greater than 16 years 28              \n",
       "54 ⋯ Male Not Hispanic or Latino White Greater than 16 years 27              \n",
       "56 ⋯ Male Not Hispanic or Latino White Greater than 16 years 27              \n",
       "57 ⋯ Male Not Hispanic or Latino White Greater than 16 years 29              \n",
       "60 ⋯ Male Not Hispanic or Latino White Greater than 16 years 29              \n",
       "61 ⋯ Male Not Hispanic or Latino White Greater than 16 years 30              \n",
       "62 ⋯ Male Not Hispanic or Latino White Greater than 16 years 30              \n",
       "66 ⋯ Male Not Hispanic or Latino White Greater than 16 years 26              \n",
       "68 ⋯ Male Not Hispanic or Latino White Greater than 16 years 28              \n",
       "69 ⋯ Male Not Hispanic or Latino White 12-16 years           28              \n",
       "71 ⋯ Male Not Hispanic or Latino White 12-16 years           18              \n",
       "72 ⋯ Male Not Hispanic or Latino White 12-16 years           28              \n",
       "73 ⋯ Male Not Hispanic or Latino White 12-16 years           28              \n",
       "74 ⋯ Male Not Hispanic or Latino White Greater than 16 years 28              \n",
       "78 ⋯ Male Not Hispanic or Latino White 12-16 years           30              \n",
       "79 ⋯ Male Not Hispanic or Latino White Greater than 16 years 29              \n",
       "81 ⋯ Male Not Hispanic or Latino White Greater than 16 years 26              \n",
       "82 ⋯ Male Not Hispanic or Latino White Greater than 16 years 26              \n",
       "83 ⋯ Male Not Hispanic or Latino White 12-16 years           26              \n",
       "84 ⋯ Male Not Hispanic or Latino White Greater than 16 years 30              \n",
       "   Cognition_phenotype age_baseline_range belonging_cohort ID_number ageBin  \n",
       "2  PDnoCI              55_to_65           BF               1003      55_to_65\n",
       "3  PDnoCI              55_to_65           BF               1004      55_to_65\n",
       "5  PDnoCI              55_to_65           BF               1015      55_to_65\n",
       "7  PDD                 above_65           BF               1032      over_65 \n",
       "9  PDnoCI              above_65           BF               1044      over_65 \n",
       "10 PDnoCI              above_65           BF               1045      over_65 \n",
       "11 PDnoCI              55_to_65           BF               1048      55_to_65\n",
       "12 PDnoCI              55_to_65           BF               1051      over_65 \n",
       "13 PDnoCI              55_to_65           BF               1054      over_65 \n",
       "14 PDnoCI              55_to_65           BF               1055      55_to_65\n",
       "15 PDnoCI              55_to_65           BF               1059      55_to_65\n",
       "18 PDnoCI              55_to_65           BF               1067      55_to_65\n",
       "19 PDnoCI              above_65           BF               1068      over_65 \n",
       "21 PDnoCI              55_to_65           BF               1077      55_to_65\n",
       "22 PDnoCI              55_to_65           BF               1079      55_to_65\n",
       "24 PDnoCI              above_65           BF               1083      over_65 \n",
       "25 PDnoCI              55_to_65           BF               1084      55_to_65\n",
       "26 PDnoCI              above_65           BF               1086      over_65 \n",
       "28 PDnoCI              above_65           BF               1091      over_65 \n",
       "31 PDnoCI              55_to_65           BF               1098      55_to_65\n",
       "32 PDnoCI              above_65           BF               1100      over_65 \n",
       "33 PDnoCI              above_65           BF               1102      over_65 \n",
       "38 PDnoCI              above_65           BF               1123      over_65 \n",
       "40 PDnoCI              above_65           BF               1125      over_65 \n",
       "41 PDnoCI              55_to_65           BF               1127      over_65 \n",
       "42 PDnoCI              55_to_65           BF               1129      55_to_65\n",
       "43 PDnoCI              above_65           BF               1130      over_65 \n",
       "44 PDnoCI              above_65           BF               1133      over_65 \n",
       "45 PDnoCI              55_to_65           BF               1134      55_to_65\n",
       "48 PDnoCI              55_to_65           BF               1139      55_to_65\n",
       "51 PDnoCI              above_65           BF               1151      over_65 \n",
       "52 PDnoCI              above_65           BF               1152      over_65 \n",
       "54 PDnoCI              above_65           BF               1155      over_65 \n",
       "56 PDnoCI              above_65           BF               1160      over_65 \n",
       "57 PDnoCI              above_65           BF               1161      over_65 \n",
       "60 PDnoCI              above_65           BF               1167      over_65 \n",
       "61 PDnoCI              55_to_65           BF               1176      55_to_65\n",
       "62 PDnoCI              above_65           BF               1191      over_65 \n",
       "66 PDnoCI              above_65           BF               1204      over_65 \n",
       "68 PDnoCI              55_to_65           BF               1207      55_to_65\n",
       "69 PDnoCI              above_65           BF               1208      over_65 \n",
       "71 PDD                 above_65           BF               1210      over_65 \n",
       "72 PDnoCI              55_to_65           BF               1211      55_to_65\n",
       "73 PDnoCI              55_to_65           BF               1213      55_to_65\n",
       "74 PDnoCI              above_65           BF               1216      over_65 \n",
       "78 PDnoCI              55_to_65           BF               1230      over_65 \n",
       "79 PDnoCI              55_to_65           BF               1236      55_to_65\n",
       "81 PDnoCI              above_65           BF               1240      over_65 \n",
       "82 PDnoCI              above_65           BF               1241      over_65 \n",
       "83 PDnoCI              above_65           BF               1253      over_65 \n",
       "84 PDnoCI              above_65           BF               1255      over_65 "
      ]
     },
     "metadata": {},
     "output_type": "display_data"
    }
   ],
   "source": [
    "sample_meta.sub"
   ]
  },
  {
   "cell_type": "code",
   "execution_count": 102,
   "metadata": {},
   "outputs": [],
   "source": [
    "##Subsetting just to keep females\n"
   ]
  },
  {
   "cell_type": "code",
   "execution_count": 121,
   "metadata": {},
   "outputs": [
    {
     "name": "stdout",
     "output_type": "stream",
     "text": [
      "'data.frame':\t51 obs. of  25 variables:\n",
      " $ X                             : int  2 3 13 28 37 38 41 43 46 47 ...\n",
      " $ participant_id                : chr  \"BF-1003\" \"BF-1004\" \"BF-1015\" \"BF-1032\" ...\n",
      " $ GUID                          : chr  \"PDLW805AHT\" \"PDKW284DYW\" \"PDDL325JX0\" \"PDJZ532TZK\" ...\n",
      " $ visit_month                   : int  0 0 0 0 0 0 0 0 0 0 ...\n",
      " $ sample_id                     : chr  \"BF-1003-SVM0_5T1\" \"BF-1004-SVM0_5T1\" \"BF-1015-SVM0_5T1\" \"BF-1032-SVM0_5T1\" ...\n",
      " $ PCT_USABLE_BASES              : num  0.252 0.269 0.205 0.179 0.544 ...\n",
      " $ Plate                         : chr  \"P341\" \"P341\" \"P341\" \"P341\" ...\n",
      " $ STRAND_BALANCE                : num  0.714 0.675 0.794 0.786 0.519 ...\n",
      " $ diagnosis_at_baseline         : chr  \"Idiopathic PD\" \"Idiopathic PD\" \"Idiopathic PD\" \"Idiopathic PD\" ...\n",
      " $ diagnosis_latest              : chr  \"Idiopathic PD\" \"Idiopathic PD\" \"Idiopathic PD\" \"Idiopathic PD\" ...\n",
      " $ case_control_other_at_baseline: chr  \"Case\" \"Case\" \"Case\" \"Case\" ...\n",
      " $ case_control_other_latest     : chr  \"Case\" \"Case\" \"Case\" \"Case\" ...\n",
      " $ age_at_baseline               : num  61 62 61 70 77 72 64 65 65 60 ...\n",
      " $ age_at_diagnosis              : num  56 55 57 63 67 72 58 59 59 53 ...\n",
      " $ disease_duration              : num  5 7 4 7 10 0 6 6 6 7 ...\n",
      " $ sex                           : chr  \"Male\" \"Male\" \"Male\" \"Male\" ...\n",
      " $ ethnicity                     : chr  \"Not Hispanic or Latino\" \"Not Hispanic or Latino\" \"Not Hispanic or Latino\" \"Not Hispanic or Latino\" ...\n",
      " $ race                          : chr  \"White\" \"White\" \"White\" \"White\" ...\n",
      " $ education_level_years         : chr  \"12-16 years\" \"12-16 years\" \"12-16 years\" \"Greater than 16 years\" ...\n",
      " $ moca_total_score              : num  30 28 27 18 26 26 29 27 27 27 ...\n",
      " $ Cognition_phenotype           : chr  \"PDnoCI\" \"PDnoCI\" \"PDnoCI\" \"PDD\" ...\n",
      " $ age_baseline_range            : chr  \"55_to_65\" \"55_to_65\" \"55_to_65\" \"above_65\" ...\n",
      " $ belonging_cohort              : chr  \"BF\" \"BF\" \"BF\" \"BF\" ...\n",
      " $ ID_number                     : int  1003 1004 1015 1032 1044 1045 1048 1051 1054 1055 ...\n",
      " $ ageBin                        : Factor w/ 3 levels \"under_55\",\"55_to_65\",..: 2 2 2 3 3 3 2 3 3 2 ...\n"
     ]
    }
   ],
   "source": [
    "str(sample_meta.sub)"
   ]
  },
  {
   "cell_type": "markdown",
   "metadata": {},
   "source": [
    "Differential Expression testing with limma"
   ]
  },
  {
   "cell_type": "code",
   "execution_count": 123,
   "metadata": {},
   "outputs": [],
   "source": [
    "## sample design\n",
    "case <- factor(gsub(\"\\\\+\", \"\", sample_meta.sub$Cognition_phenotype), levels = c(\"PDD\", \"PDnoCI\"))\n",
    "age <- factor(sample_meta.sub$ageBin, levels = c(\"under_55\", \"55_to_65\", \"over_65\"))\n",
    "#sex <- factor(sample_meta.sub$sex,\n",
    "              #levels = c(\"Male\", \"Female\"))\n",
    "plate <- factor(sample_meta.sub$Plate)\n",
    "usableBases <- sample_meta.sub$PCT_USABLE_BASES\n",
    "strandBalance <- sample_meta.sub$STRAND_BALANCE"
   ]
  },
  {
   "cell_type": "code",
   "execution_count": 124,
   "metadata": {},
   "outputs": [
    {
     "data": {
      "text/html": [
       "<style>\n",
       ".list-inline {list-style: none; margin:0; padding: 0}\n",
       ".list-inline>li {display: inline-block}\n",
       ".list-inline>li:not(:last-child)::after {content: \"\\00b7\"; padding: 0 .5ex}\n",
       "</style>\n",
       "<ol class=list-inline><li>PDnoCI</li><li>PDnoCI</li><li>PDnoCI</li><li>PDD</li><li>PDnoCI</li><li>PDnoCI</li><li>PDnoCI</li><li>PDnoCI</li><li>PDnoCI</li><li>PDnoCI</li><li>PDnoCI</li><li>PDnoCI</li><li>PDnoCI</li><li>PDnoCI</li><li>PDnoCI</li><li>PDnoCI</li><li>PDnoCI</li><li>PDnoCI</li><li>PDnoCI</li><li>PDnoCI</li><li>PDnoCI</li><li>PDnoCI</li><li>PDnoCI</li><li>PDnoCI</li><li>PDnoCI</li><li>PDnoCI</li><li>PDnoCI</li><li>PDnoCI</li><li>PDnoCI</li><li>PDnoCI</li><li>PDnoCI</li><li>PDnoCI</li><li>PDnoCI</li><li>PDnoCI</li><li>PDnoCI</li><li>PDnoCI</li><li>PDnoCI</li><li>PDnoCI</li><li>PDnoCI</li><li>PDnoCI</li><li>PDnoCI</li><li>PDD</li><li>PDnoCI</li><li>PDnoCI</li><li>PDnoCI</li><li>PDnoCI</li><li>PDnoCI</li><li>PDnoCI</li><li>PDnoCI</li><li>PDnoCI</li><li>PDnoCI</li></ol>\n",
       "\n",
       "<details>\n",
       "\t<summary style=display:list-item;cursor:pointer>\n",
       "\t\t<strong>Levels</strong>:\n",
       "\t</summary>\n",
       "\t<style>\n",
       "\t.list-inline {list-style: none; margin:0; padding: 0}\n",
       "\t.list-inline>li {display: inline-block}\n",
       "\t.list-inline>li:not(:last-child)::after {content: \"\\00b7\"; padding: 0 .5ex}\n",
       "\t</style>\n",
       "\t<ol class=list-inline><li>'PDD'</li><li>'PDnoCI'</li></ol>\n",
       "</details>"
      ],
      "text/latex": [
       "\\begin{enumerate*}\n",
       "\\item PDnoCI\n",
       "\\item PDnoCI\n",
       "\\item PDnoCI\n",
       "\\item PDD\n",
       "\\item PDnoCI\n",
       "\\item PDnoCI\n",
       "\\item PDnoCI\n",
       "\\item PDnoCI\n",
       "\\item PDnoCI\n",
       "\\item PDnoCI\n",
       "\\item PDnoCI\n",
       "\\item PDnoCI\n",
       "\\item PDnoCI\n",
       "\\item PDnoCI\n",
       "\\item PDnoCI\n",
       "\\item PDnoCI\n",
       "\\item PDnoCI\n",
       "\\item PDnoCI\n",
       "\\item PDnoCI\n",
       "\\item PDnoCI\n",
       "\\item PDnoCI\n",
       "\\item PDnoCI\n",
       "\\item PDnoCI\n",
       "\\item PDnoCI\n",
       "\\item PDnoCI\n",
       "\\item PDnoCI\n",
       "\\item PDnoCI\n",
       "\\item PDnoCI\n",
       "\\item PDnoCI\n",
       "\\item PDnoCI\n",
       "\\item PDnoCI\n",
       "\\item PDnoCI\n",
       "\\item PDnoCI\n",
       "\\item PDnoCI\n",
       "\\item PDnoCI\n",
       "\\item PDnoCI\n",
       "\\item PDnoCI\n",
       "\\item PDnoCI\n",
       "\\item PDnoCI\n",
       "\\item PDnoCI\n",
       "\\item PDnoCI\n",
       "\\item PDD\n",
       "\\item PDnoCI\n",
       "\\item PDnoCI\n",
       "\\item PDnoCI\n",
       "\\item PDnoCI\n",
       "\\item PDnoCI\n",
       "\\item PDnoCI\n",
       "\\item PDnoCI\n",
       "\\item PDnoCI\n",
       "\\item PDnoCI\n",
       "\\end{enumerate*}\n",
       "\n",
       "\\emph{Levels}: \\begin{enumerate*}\n",
       "\\item 'PDD'\n",
       "\\item 'PDnoCI'\n",
       "\\end{enumerate*}\n"
      ],
      "text/markdown": [
       "1. PDnoCI\n",
       "2. PDnoCI\n",
       "3. PDnoCI\n",
       "4. PDD\n",
       "5. PDnoCI\n",
       "6. PDnoCI\n",
       "7. PDnoCI\n",
       "8. PDnoCI\n",
       "9. PDnoCI\n",
       "10. PDnoCI\n",
       "11. PDnoCI\n",
       "12. PDnoCI\n",
       "13. PDnoCI\n",
       "14. PDnoCI\n",
       "15. PDnoCI\n",
       "16. PDnoCI\n",
       "17. PDnoCI\n",
       "18. PDnoCI\n",
       "19. PDnoCI\n",
       "20. PDnoCI\n",
       "21. PDnoCI\n",
       "22. PDnoCI\n",
       "23. PDnoCI\n",
       "24. PDnoCI\n",
       "25. PDnoCI\n",
       "26. PDnoCI\n",
       "27. PDnoCI\n",
       "28. PDnoCI\n",
       "29. PDnoCI\n",
       "30. PDnoCI\n",
       "31. PDnoCI\n",
       "32. PDnoCI\n",
       "33. PDnoCI\n",
       "34. PDnoCI\n",
       "35. PDnoCI\n",
       "36. PDnoCI\n",
       "37. PDnoCI\n",
       "38. PDnoCI\n",
       "39. PDnoCI\n",
       "40. PDnoCI\n",
       "41. PDnoCI\n",
       "42. PDD\n",
       "43. PDnoCI\n",
       "44. PDnoCI\n",
       "45. PDnoCI\n",
       "46. PDnoCI\n",
       "47. PDnoCI\n",
       "48. PDnoCI\n",
       "49. PDnoCI\n",
       "50. PDnoCI\n",
       "51. PDnoCI\n",
       "\n",
       "\n",
       "\n",
       "**Levels**: 1. 'PDD'\n",
       "2. 'PDnoCI'\n",
       "\n",
       "\n"
      ],
      "text/plain": [
       " [1] PDnoCI PDnoCI PDnoCI PDD    PDnoCI PDnoCI PDnoCI PDnoCI PDnoCI PDnoCI\n",
       "[11] PDnoCI PDnoCI PDnoCI PDnoCI PDnoCI PDnoCI PDnoCI PDnoCI PDnoCI PDnoCI\n",
       "[21] PDnoCI PDnoCI PDnoCI PDnoCI PDnoCI PDnoCI PDnoCI PDnoCI PDnoCI PDnoCI\n",
       "[31] PDnoCI PDnoCI PDnoCI PDnoCI PDnoCI PDnoCI PDnoCI PDnoCI PDnoCI PDnoCI\n",
       "[41] PDnoCI PDD    PDnoCI PDnoCI PDnoCI PDnoCI PDnoCI PDnoCI PDnoCI PDnoCI\n",
       "[51] PDnoCI\n",
       "Levels: PDD PDnoCI"
      ]
     },
     "metadata": {},
     "output_type": "display_data"
    }
   ],
   "source": [
    "case"
   ]
  },
  {
   "cell_type": "code",
   "execution_count": 125,
   "metadata": {},
   "outputs": [
    {
     "data": {
      "text/html": [
       "<style>\n",
       ".list-inline {list-style: none; margin:0; padding: 0}\n",
       ".list-inline>li {display: inline-block}\n",
       ".list-inline>li:not(:last-child)::after {content: \"\\00b7\"; padding: 0 .5ex}\n",
       "</style>\n",
       "<ol class=list-inline><li>P341</li><li>P341</li><li>P341</li><li>P341</li><li>P342</li><li>P342</li><li>P342</li><li>P341</li><li>P341</li><li>P341</li><li>P341</li><li>P341</li><li>P341</li><li>P342</li><li>P342</li><li>P342</li><li>P342</li><li>P342</li><li>P342</li><li>P342</li><li>P342</li><li>P341</li><li>P342</li><li>P343</li><li>P342</li><li>P342</li><li>P342</li><li>P342</li><li>P342</li><li>P343</li><li>P341</li><li>P341</li><li>P341</li><li>P341</li><li>P342</li><li>P342</li><li>P342</li><li>P343</li><li>P341</li><li>P341</li><li>P341</li><li>P341</li><li>P341</li><li>P341</li><li>P341</li><li>P342</li><li>P342</li><li>P343</li><li>P342</li><li>P343</li><li>P343</li></ol>\n",
       "\n",
       "<details>\n",
       "\t<summary style=display:list-item;cursor:pointer>\n",
       "\t\t<strong>Levels</strong>:\n",
       "\t</summary>\n",
       "\t<style>\n",
       "\t.list-inline {list-style: none; margin:0; padding: 0}\n",
       "\t.list-inline>li {display: inline-block}\n",
       "\t.list-inline>li:not(:last-child)::after {content: \"\\00b7\"; padding: 0 .5ex}\n",
       "\t</style>\n",
       "\t<ol class=list-inline><li>'P341'</li><li>'P342'</li><li>'P343'</li></ol>\n",
       "</details>"
      ],
      "text/latex": [
       "\\begin{enumerate*}\n",
       "\\item P341\n",
       "\\item P341\n",
       "\\item P341\n",
       "\\item P341\n",
       "\\item P342\n",
       "\\item P342\n",
       "\\item P342\n",
       "\\item P341\n",
       "\\item P341\n",
       "\\item P341\n",
       "\\item P341\n",
       "\\item P341\n",
       "\\item P341\n",
       "\\item P342\n",
       "\\item P342\n",
       "\\item P342\n",
       "\\item P342\n",
       "\\item P342\n",
       "\\item P342\n",
       "\\item P342\n",
       "\\item P342\n",
       "\\item P341\n",
       "\\item P342\n",
       "\\item P343\n",
       "\\item P342\n",
       "\\item P342\n",
       "\\item P342\n",
       "\\item P342\n",
       "\\item P342\n",
       "\\item P343\n",
       "\\item P341\n",
       "\\item P341\n",
       "\\item P341\n",
       "\\item P341\n",
       "\\item P342\n",
       "\\item P342\n",
       "\\item P342\n",
       "\\item P343\n",
       "\\item P341\n",
       "\\item P341\n",
       "\\item P341\n",
       "\\item P341\n",
       "\\item P341\n",
       "\\item P341\n",
       "\\item P341\n",
       "\\item P342\n",
       "\\item P342\n",
       "\\item P343\n",
       "\\item P342\n",
       "\\item P343\n",
       "\\item P343\n",
       "\\end{enumerate*}\n",
       "\n",
       "\\emph{Levels}: \\begin{enumerate*}\n",
       "\\item 'P341'\n",
       "\\item 'P342'\n",
       "\\item 'P343'\n",
       "\\end{enumerate*}\n"
      ],
      "text/markdown": [
       "1. P341\n",
       "2. P341\n",
       "3. P341\n",
       "4. P341\n",
       "5. P342\n",
       "6. P342\n",
       "7. P342\n",
       "8. P341\n",
       "9. P341\n",
       "10. P341\n",
       "11. P341\n",
       "12. P341\n",
       "13. P341\n",
       "14. P342\n",
       "15. P342\n",
       "16. P342\n",
       "17. P342\n",
       "18. P342\n",
       "19. P342\n",
       "20. P342\n",
       "21. P342\n",
       "22. P341\n",
       "23. P342\n",
       "24. P343\n",
       "25. P342\n",
       "26. P342\n",
       "27. P342\n",
       "28. P342\n",
       "29. P342\n",
       "30. P343\n",
       "31. P341\n",
       "32. P341\n",
       "33. P341\n",
       "34. P341\n",
       "35. P342\n",
       "36. P342\n",
       "37. P342\n",
       "38. P343\n",
       "39. P341\n",
       "40. P341\n",
       "41. P341\n",
       "42. P341\n",
       "43. P341\n",
       "44. P341\n",
       "45. P341\n",
       "46. P342\n",
       "47. P342\n",
       "48. P343\n",
       "49. P342\n",
       "50. P343\n",
       "51. P343\n",
       "\n",
       "\n",
       "\n",
       "**Levels**: 1. 'P341'\n",
       "2. 'P342'\n",
       "3. 'P343'\n",
       "\n",
       "\n"
      ],
      "text/plain": [
       " [1] P341 P341 P341 P341 P342 P342 P342 P341 P341 P341 P341 P341 P341 P342 P342\n",
       "[16] P342 P342 P342 P342 P342 P342 P341 P342 P343 P342 P342 P342 P342 P342 P343\n",
       "[31] P341 P341 P341 P341 P342 P342 P342 P343 P341 P341 P341 P341 P341 P341 P341\n",
       "[46] P342 P342 P343 P342 P343 P343\n",
       "Levels: P341 P342 P343"
      ]
     },
     "metadata": {},
     "output_type": "display_data"
    }
   ],
   "source": [
    "plate"
   ]
  },
  {
   "cell_type": "code",
   "execution_count": 126,
   "metadata": {},
   "outputs": [],
   "source": [
    "design <- model.matrix(~ 0 + case + plate + usableBases + strandBalance)"
   ]
  },
  {
   "cell_type": "code",
   "execution_count": 127,
   "metadata": {},
   "outputs": [
    {
     "data": {
      "text/html": [
       "<table class=\"dataframe\">\n",
       "<caption>A matrix: 51 × 6 of type dbl</caption>\n",
       "<thead>\n",
       "\t<tr><th></th><th scope=col>casePDD</th><th scope=col>casePDnoCI</th><th scope=col>plateP342</th><th scope=col>plateP343</th><th scope=col>usableBases</th><th scope=col>strandBalance</th></tr>\n",
       "</thead>\n",
       "<tbody>\n",
       "\t<tr><th scope=row>1</th><td>0</td><td>1</td><td>0</td><td>0</td><td>0.251916</td><td>0.714203</td></tr>\n",
       "\t<tr><th scope=row>2</th><td>0</td><td>1</td><td>0</td><td>0</td><td>0.269126</td><td>0.675027</td></tr>\n",
       "\t<tr><th scope=row>3</th><td>0</td><td>1</td><td>0</td><td>0</td><td>0.205056</td><td>0.793548</td></tr>\n",
       "\t<tr><th scope=row>4</th><td>1</td><td>0</td><td>0</td><td>0</td><td>0.178567</td><td>0.785834</td></tr>\n",
       "\t<tr><th scope=row>5</th><td>0</td><td>1</td><td>1</td><td>0</td><td>0.543721</td><td>0.518666</td></tr>\n",
       "\t<tr><th scope=row>6</th><td>0</td><td>1</td><td>1</td><td>0</td><td>0.400889</td><td>0.632508</td></tr>\n",
       "\t<tr><th scope=row>7</th><td>0</td><td>1</td><td>1</td><td>0</td><td>0.311984</td><td>0.665112</td></tr>\n",
       "\t<tr><th scope=row>8</th><td>0</td><td>1</td><td>0</td><td>0</td><td>0.428424</td><td>0.552939</td></tr>\n",
       "\t<tr><th scope=row>9</th><td>0</td><td>1</td><td>0</td><td>0</td><td>0.217465</td><td>0.761710</td></tr>\n",
       "\t<tr><th scope=row>10</th><td>0</td><td>1</td><td>0</td><td>0</td><td>0.237050</td><td>0.757579</td></tr>\n",
       "\t<tr><th scope=row>11</th><td>0</td><td>1</td><td>0</td><td>0</td><td>0.407545</td><td>0.511536</td></tr>\n",
       "\t<tr><th scope=row>12</th><td>0</td><td>1</td><td>0</td><td>0</td><td>0.267014</td><td>0.765189</td></tr>\n",
       "\t<tr><th scope=row>13</th><td>0</td><td>1</td><td>0</td><td>0</td><td>0.204843</td><td>0.805482</td></tr>\n",
       "\t<tr><th scope=row>14</th><td>0</td><td>1</td><td>1</td><td>0</td><td>0.272285</td><td>0.651994</td></tr>\n",
       "\t<tr><th scope=row>15</th><td>0</td><td>1</td><td>1</td><td>0</td><td>0.301587</td><td>0.614442</td></tr>\n",
       "\t<tr><th scope=row>16</th><td>0</td><td>1</td><td>1</td><td>0</td><td>0.303373</td><td>0.591517</td></tr>\n",
       "\t<tr><th scope=row>17</th><td>0</td><td>1</td><td>1</td><td>0</td><td>0.242487</td><td>0.624345</td></tr>\n",
       "\t<tr><th scope=row>18</th><td>0</td><td>1</td><td>1</td><td>0</td><td>0.267975</td><td>0.702552</td></tr>\n",
       "\t<tr><th scope=row>19</th><td>0</td><td>1</td><td>1</td><td>0</td><td>0.297992</td><td>0.594147</td></tr>\n",
       "\t<tr><th scope=row>20</th><td>0</td><td>1</td><td>1</td><td>0</td><td>0.275520</td><td>0.566768</td></tr>\n",
       "\t<tr><th scope=row>21</th><td>0</td><td>1</td><td>1</td><td>0</td><td>0.346323</td><td>0.679662</td></tr>\n",
       "\t<tr><th scope=row>22</th><td>0</td><td>1</td><td>0</td><td>0</td><td>0.342366</td><td>0.630592</td></tr>\n",
       "\t<tr><th scope=row>23</th><td>0</td><td>1</td><td>1</td><td>0</td><td>0.412993</td><td>0.581839</td></tr>\n",
       "\t<tr><th scope=row>24</th><td>0</td><td>1</td><td>0</td><td>1</td><td>0.243849</td><td>0.740451</td></tr>\n",
       "\t<tr><th scope=row>25</th><td>0</td><td>1</td><td>1</td><td>0</td><td>0.307194</td><td>0.595753</td></tr>\n",
       "\t<tr><th scope=row>26</th><td>0</td><td>1</td><td>1</td><td>0</td><td>0.356789</td><td>0.583377</td></tr>\n",
       "\t<tr><th scope=row>27</th><td>0</td><td>1</td><td>1</td><td>0</td><td>0.302694</td><td>0.681069</td></tr>\n",
       "\t<tr><th scope=row>28</th><td>0</td><td>1</td><td>1</td><td>0</td><td>0.355065</td><td>0.540170</td></tr>\n",
       "\t<tr><th scope=row>29</th><td>0</td><td>1</td><td>1</td><td>0</td><td>0.328281</td><td>0.605603</td></tr>\n",
       "\t<tr><th scope=row>30</th><td>0</td><td>1</td><td>0</td><td>1</td><td>0.216803</td><td>0.773767</td></tr>\n",
       "\t<tr><th scope=row>31</th><td>0</td><td>1</td><td>0</td><td>0</td><td>0.385131</td><td>0.512446</td></tr>\n",
       "\t<tr><th scope=row>32</th><td>0</td><td>1</td><td>0</td><td>0</td><td>0.198934</td><td>0.816509</td></tr>\n",
       "\t<tr><th scope=row>33</th><td>0</td><td>1</td><td>0</td><td>0</td><td>0.360555</td><td>0.652022</td></tr>\n",
       "\t<tr><th scope=row>34</th><td>0</td><td>1</td><td>0</td><td>0</td><td>0.205793</td><td>0.780496</td></tr>\n",
       "\t<tr><th scope=row>35</th><td>0</td><td>1</td><td>1</td><td>0</td><td>0.287526</td><td>0.673995</td></tr>\n",
       "\t<tr><th scope=row>36</th><td>0</td><td>1</td><td>1</td><td>0</td><td>0.394993</td><td>0.543050</td></tr>\n",
       "\t<tr><th scope=row>37</th><td>0</td><td>1</td><td>1</td><td>0</td><td>0.280651</td><td>0.724924</td></tr>\n",
       "\t<tr><th scope=row>38</th><td>0</td><td>1</td><td>0</td><td>1</td><td>0.260631</td><td>0.677435</td></tr>\n",
       "\t<tr><th scope=row>39</th><td>0</td><td>1</td><td>0</td><td>0</td><td>0.302043</td><td>0.677706</td></tr>\n",
       "\t<tr><th scope=row>40</th><td>0</td><td>1</td><td>0</td><td>0</td><td>0.170571</td><td>0.828935</td></tr>\n",
       "\t<tr><th scope=row>41</th><td>0</td><td>1</td><td>0</td><td>0</td><td>0.263316</td><td>0.725312</td></tr>\n",
       "\t<tr><th scope=row>42</th><td>1</td><td>0</td><td>0</td><td>0</td><td>0.152539</td><td>0.861824</td></tr>\n",
       "\t<tr><th scope=row>43</th><td>0</td><td>1</td><td>0</td><td>0</td><td>0.321360</td><td>0.697575</td></tr>\n",
       "\t<tr><th scope=row>44</th><td>0</td><td>1</td><td>0</td><td>0</td><td>0.177323</td><td>0.802834</td></tr>\n",
       "\t<tr><th scope=row>45</th><td>0</td><td>1</td><td>0</td><td>0</td><td>0.303068</td><td>0.643768</td></tr>\n",
       "\t<tr><th scope=row>46</th><td>0</td><td>1</td><td>1</td><td>0</td><td>0.266801</td><td>0.755565</td></tr>\n",
       "\t<tr><th scope=row>47</th><td>0</td><td>1</td><td>1</td><td>0</td><td>0.356779</td><td>0.648287</td></tr>\n",
       "\t<tr><th scope=row>48</th><td>0</td><td>1</td><td>0</td><td>1</td><td>0.412228</td><td>0.611796</td></tr>\n",
       "\t<tr><th scope=row>49</th><td>0</td><td>1</td><td>1</td><td>0</td><td>0.339546</td><td>0.649403</td></tr>\n",
       "\t<tr><th scope=row>50</th><td>0</td><td>1</td><td>0</td><td>1</td><td>0.252925</td><td>0.737213</td></tr>\n",
       "\t<tr><th scope=row>51</th><td>0</td><td>1</td><td>0</td><td>1</td><td>0.326313</td><td>0.586934</td></tr>\n",
       "</tbody>\n",
       "</table>\n"
      ],
      "text/latex": [
       "A matrix: 51 × 6 of type dbl\n",
       "\\begin{tabular}{r|llllll}\n",
       "  & casePDD & casePDnoCI & plateP342 & plateP343 & usableBases & strandBalance\\\\\n",
       "\\hline\n",
       "\t1 & 0 & 1 & 0 & 0 & 0.251916 & 0.714203\\\\\n",
       "\t2 & 0 & 1 & 0 & 0 & 0.269126 & 0.675027\\\\\n",
       "\t3 & 0 & 1 & 0 & 0 & 0.205056 & 0.793548\\\\\n",
       "\t4 & 1 & 0 & 0 & 0 & 0.178567 & 0.785834\\\\\n",
       "\t5 & 0 & 1 & 1 & 0 & 0.543721 & 0.518666\\\\\n",
       "\t6 & 0 & 1 & 1 & 0 & 0.400889 & 0.632508\\\\\n",
       "\t7 & 0 & 1 & 1 & 0 & 0.311984 & 0.665112\\\\\n",
       "\t8 & 0 & 1 & 0 & 0 & 0.428424 & 0.552939\\\\\n",
       "\t9 & 0 & 1 & 0 & 0 & 0.217465 & 0.761710\\\\\n",
       "\t10 & 0 & 1 & 0 & 0 & 0.237050 & 0.757579\\\\\n",
       "\t11 & 0 & 1 & 0 & 0 & 0.407545 & 0.511536\\\\\n",
       "\t12 & 0 & 1 & 0 & 0 & 0.267014 & 0.765189\\\\\n",
       "\t13 & 0 & 1 & 0 & 0 & 0.204843 & 0.805482\\\\\n",
       "\t14 & 0 & 1 & 1 & 0 & 0.272285 & 0.651994\\\\\n",
       "\t15 & 0 & 1 & 1 & 0 & 0.301587 & 0.614442\\\\\n",
       "\t16 & 0 & 1 & 1 & 0 & 0.303373 & 0.591517\\\\\n",
       "\t17 & 0 & 1 & 1 & 0 & 0.242487 & 0.624345\\\\\n",
       "\t18 & 0 & 1 & 1 & 0 & 0.267975 & 0.702552\\\\\n",
       "\t19 & 0 & 1 & 1 & 0 & 0.297992 & 0.594147\\\\\n",
       "\t20 & 0 & 1 & 1 & 0 & 0.275520 & 0.566768\\\\\n",
       "\t21 & 0 & 1 & 1 & 0 & 0.346323 & 0.679662\\\\\n",
       "\t22 & 0 & 1 & 0 & 0 & 0.342366 & 0.630592\\\\\n",
       "\t23 & 0 & 1 & 1 & 0 & 0.412993 & 0.581839\\\\\n",
       "\t24 & 0 & 1 & 0 & 1 & 0.243849 & 0.740451\\\\\n",
       "\t25 & 0 & 1 & 1 & 0 & 0.307194 & 0.595753\\\\\n",
       "\t26 & 0 & 1 & 1 & 0 & 0.356789 & 0.583377\\\\\n",
       "\t27 & 0 & 1 & 1 & 0 & 0.302694 & 0.681069\\\\\n",
       "\t28 & 0 & 1 & 1 & 0 & 0.355065 & 0.540170\\\\\n",
       "\t29 & 0 & 1 & 1 & 0 & 0.328281 & 0.605603\\\\\n",
       "\t30 & 0 & 1 & 0 & 1 & 0.216803 & 0.773767\\\\\n",
       "\t31 & 0 & 1 & 0 & 0 & 0.385131 & 0.512446\\\\\n",
       "\t32 & 0 & 1 & 0 & 0 & 0.198934 & 0.816509\\\\\n",
       "\t33 & 0 & 1 & 0 & 0 & 0.360555 & 0.652022\\\\\n",
       "\t34 & 0 & 1 & 0 & 0 & 0.205793 & 0.780496\\\\\n",
       "\t35 & 0 & 1 & 1 & 0 & 0.287526 & 0.673995\\\\\n",
       "\t36 & 0 & 1 & 1 & 0 & 0.394993 & 0.543050\\\\\n",
       "\t37 & 0 & 1 & 1 & 0 & 0.280651 & 0.724924\\\\\n",
       "\t38 & 0 & 1 & 0 & 1 & 0.260631 & 0.677435\\\\\n",
       "\t39 & 0 & 1 & 0 & 0 & 0.302043 & 0.677706\\\\\n",
       "\t40 & 0 & 1 & 0 & 0 & 0.170571 & 0.828935\\\\\n",
       "\t41 & 0 & 1 & 0 & 0 & 0.263316 & 0.725312\\\\\n",
       "\t42 & 1 & 0 & 0 & 0 & 0.152539 & 0.861824\\\\\n",
       "\t43 & 0 & 1 & 0 & 0 & 0.321360 & 0.697575\\\\\n",
       "\t44 & 0 & 1 & 0 & 0 & 0.177323 & 0.802834\\\\\n",
       "\t45 & 0 & 1 & 0 & 0 & 0.303068 & 0.643768\\\\\n",
       "\t46 & 0 & 1 & 1 & 0 & 0.266801 & 0.755565\\\\\n",
       "\t47 & 0 & 1 & 1 & 0 & 0.356779 & 0.648287\\\\\n",
       "\t48 & 0 & 1 & 0 & 1 & 0.412228 & 0.611796\\\\\n",
       "\t49 & 0 & 1 & 1 & 0 & 0.339546 & 0.649403\\\\\n",
       "\t50 & 0 & 1 & 0 & 1 & 0.252925 & 0.737213\\\\\n",
       "\t51 & 0 & 1 & 0 & 1 & 0.326313 & 0.586934\\\\\n",
       "\\end{tabular}\n"
      ],
      "text/markdown": [
       "\n",
       "A matrix: 51 × 6 of type dbl\n",
       "\n",
       "| <!--/--> | casePDD | casePDnoCI | plateP342 | plateP343 | usableBases | strandBalance |\n",
       "|---|---|---|---|---|---|---|\n",
       "| 1 | 0 | 1 | 0 | 0 | 0.251916 | 0.714203 |\n",
       "| 2 | 0 | 1 | 0 | 0 | 0.269126 | 0.675027 |\n",
       "| 3 | 0 | 1 | 0 | 0 | 0.205056 | 0.793548 |\n",
       "| 4 | 1 | 0 | 0 | 0 | 0.178567 | 0.785834 |\n",
       "| 5 | 0 | 1 | 1 | 0 | 0.543721 | 0.518666 |\n",
       "| 6 | 0 | 1 | 1 | 0 | 0.400889 | 0.632508 |\n",
       "| 7 | 0 | 1 | 1 | 0 | 0.311984 | 0.665112 |\n",
       "| 8 | 0 | 1 | 0 | 0 | 0.428424 | 0.552939 |\n",
       "| 9 | 0 | 1 | 0 | 0 | 0.217465 | 0.761710 |\n",
       "| 10 | 0 | 1 | 0 | 0 | 0.237050 | 0.757579 |\n",
       "| 11 | 0 | 1 | 0 | 0 | 0.407545 | 0.511536 |\n",
       "| 12 | 0 | 1 | 0 | 0 | 0.267014 | 0.765189 |\n",
       "| 13 | 0 | 1 | 0 | 0 | 0.204843 | 0.805482 |\n",
       "| 14 | 0 | 1 | 1 | 0 | 0.272285 | 0.651994 |\n",
       "| 15 | 0 | 1 | 1 | 0 | 0.301587 | 0.614442 |\n",
       "| 16 | 0 | 1 | 1 | 0 | 0.303373 | 0.591517 |\n",
       "| 17 | 0 | 1 | 1 | 0 | 0.242487 | 0.624345 |\n",
       "| 18 | 0 | 1 | 1 | 0 | 0.267975 | 0.702552 |\n",
       "| 19 | 0 | 1 | 1 | 0 | 0.297992 | 0.594147 |\n",
       "| 20 | 0 | 1 | 1 | 0 | 0.275520 | 0.566768 |\n",
       "| 21 | 0 | 1 | 1 | 0 | 0.346323 | 0.679662 |\n",
       "| 22 | 0 | 1 | 0 | 0 | 0.342366 | 0.630592 |\n",
       "| 23 | 0 | 1 | 1 | 0 | 0.412993 | 0.581839 |\n",
       "| 24 | 0 | 1 | 0 | 1 | 0.243849 | 0.740451 |\n",
       "| 25 | 0 | 1 | 1 | 0 | 0.307194 | 0.595753 |\n",
       "| 26 | 0 | 1 | 1 | 0 | 0.356789 | 0.583377 |\n",
       "| 27 | 0 | 1 | 1 | 0 | 0.302694 | 0.681069 |\n",
       "| 28 | 0 | 1 | 1 | 0 | 0.355065 | 0.540170 |\n",
       "| 29 | 0 | 1 | 1 | 0 | 0.328281 | 0.605603 |\n",
       "| 30 | 0 | 1 | 0 | 1 | 0.216803 | 0.773767 |\n",
       "| 31 | 0 | 1 | 0 | 0 | 0.385131 | 0.512446 |\n",
       "| 32 | 0 | 1 | 0 | 0 | 0.198934 | 0.816509 |\n",
       "| 33 | 0 | 1 | 0 | 0 | 0.360555 | 0.652022 |\n",
       "| 34 | 0 | 1 | 0 | 0 | 0.205793 | 0.780496 |\n",
       "| 35 | 0 | 1 | 1 | 0 | 0.287526 | 0.673995 |\n",
       "| 36 | 0 | 1 | 1 | 0 | 0.394993 | 0.543050 |\n",
       "| 37 | 0 | 1 | 1 | 0 | 0.280651 | 0.724924 |\n",
       "| 38 | 0 | 1 | 0 | 1 | 0.260631 | 0.677435 |\n",
       "| 39 | 0 | 1 | 0 | 0 | 0.302043 | 0.677706 |\n",
       "| 40 | 0 | 1 | 0 | 0 | 0.170571 | 0.828935 |\n",
       "| 41 | 0 | 1 | 0 | 0 | 0.263316 | 0.725312 |\n",
       "| 42 | 1 | 0 | 0 | 0 | 0.152539 | 0.861824 |\n",
       "| 43 | 0 | 1 | 0 | 0 | 0.321360 | 0.697575 |\n",
       "| 44 | 0 | 1 | 0 | 0 | 0.177323 | 0.802834 |\n",
       "| 45 | 0 | 1 | 0 | 0 | 0.303068 | 0.643768 |\n",
       "| 46 | 0 | 1 | 1 | 0 | 0.266801 | 0.755565 |\n",
       "| 47 | 0 | 1 | 1 | 0 | 0.356779 | 0.648287 |\n",
       "| 48 | 0 | 1 | 0 | 1 | 0.412228 | 0.611796 |\n",
       "| 49 | 0 | 1 | 1 | 0 | 0.339546 | 0.649403 |\n",
       "| 50 | 0 | 1 | 0 | 1 | 0.252925 | 0.737213 |\n",
       "| 51 | 0 | 1 | 0 | 1 | 0.326313 | 0.586934 |\n",
       "\n"
      ],
      "text/plain": [
       "   casePDD casePDnoCI plateP342 plateP343 usableBases strandBalance\n",
       "1  0       1          0         0         0.251916    0.714203     \n",
       "2  0       1          0         0         0.269126    0.675027     \n",
       "3  0       1          0         0         0.205056    0.793548     \n",
       "4  1       0          0         0         0.178567    0.785834     \n",
       "5  0       1          1         0         0.543721    0.518666     \n",
       "6  0       1          1         0         0.400889    0.632508     \n",
       "7  0       1          1         0         0.311984    0.665112     \n",
       "8  0       1          0         0         0.428424    0.552939     \n",
       "9  0       1          0         0         0.217465    0.761710     \n",
       "10 0       1          0         0         0.237050    0.757579     \n",
       "11 0       1          0         0         0.407545    0.511536     \n",
       "12 0       1          0         0         0.267014    0.765189     \n",
       "13 0       1          0         0         0.204843    0.805482     \n",
       "14 0       1          1         0         0.272285    0.651994     \n",
       "15 0       1          1         0         0.301587    0.614442     \n",
       "16 0       1          1         0         0.303373    0.591517     \n",
       "17 0       1          1         0         0.242487    0.624345     \n",
       "18 0       1          1         0         0.267975    0.702552     \n",
       "19 0       1          1         0         0.297992    0.594147     \n",
       "20 0       1          1         0         0.275520    0.566768     \n",
       "21 0       1          1         0         0.346323    0.679662     \n",
       "22 0       1          0         0         0.342366    0.630592     \n",
       "23 0       1          1         0         0.412993    0.581839     \n",
       "24 0       1          0         1         0.243849    0.740451     \n",
       "25 0       1          1         0         0.307194    0.595753     \n",
       "26 0       1          1         0         0.356789    0.583377     \n",
       "27 0       1          1         0         0.302694    0.681069     \n",
       "28 0       1          1         0         0.355065    0.540170     \n",
       "29 0       1          1         0         0.328281    0.605603     \n",
       "30 0       1          0         1         0.216803    0.773767     \n",
       "31 0       1          0         0         0.385131    0.512446     \n",
       "32 0       1          0         0         0.198934    0.816509     \n",
       "33 0       1          0         0         0.360555    0.652022     \n",
       "34 0       1          0         0         0.205793    0.780496     \n",
       "35 0       1          1         0         0.287526    0.673995     \n",
       "36 0       1          1         0         0.394993    0.543050     \n",
       "37 0       1          1         0         0.280651    0.724924     \n",
       "38 0       1          0         1         0.260631    0.677435     \n",
       "39 0       1          0         0         0.302043    0.677706     \n",
       "40 0       1          0         0         0.170571    0.828935     \n",
       "41 0       1          0         0         0.263316    0.725312     \n",
       "42 1       0          0         0         0.152539    0.861824     \n",
       "43 0       1          0         0         0.321360    0.697575     \n",
       "44 0       1          0         0         0.177323    0.802834     \n",
       "45 0       1          0         0         0.303068    0.643768     \n",
       "46 0       1          1         0         0.266801    0.755565     \n",
       "47 0       1          1         0         0.356779    0.648287     \n",
       "48 0       1          0         1         0.412228    0.611796     \n",
       "49 0       1          1         0         0.339546    0.649403     \n",
       "50 0       1          0         1         0.252925    0.737213     \n",
       "51 0       1          0         1         0.326313    0.586934     "
      ]
     },
     "metadata": {},
     "output_type": "display_data"
    }
   ],
   "source": [
    "design"
   ]
  },
  {
   "cell_type": "code",
   "execution_count": 128,
   "metadata": {},
   "outputs": [],
   "source": [
    "colnames(design) <- gsub(\"case\", \"\", colnames(design))"
   ]
  },
  {
   "cell_type": "code",
   "execution_count": 129,
   "metadata": {},
   "outputs": [
    {
     "data": {
      "text/html": [
       "<table class=\"dataframe\">\n",
       "<caption>A matrix: 51 × 6 of type dbl</caption>\n",
       "<thead>\n",
       "\t<tr><th></th><th scope=col>PDD</th><th scope=col>PDnoCI</th><th scope=col>plateP342</th><th scope=col>plateP343</th><th scope=col>usableBases</th><th scope=col>strandBalance</th></tr>\n",
       "</thead>\n",
       "<tbody>\n",
       "\t<tr><th scope=row>1</th><td>0</td><td>1</td><td>0</td><td>0</td><td>0.251916</td><td>0.714203</td></tr>\n",
       "\t<tr><th scope=row>2</th><td>0</td><td>1</td><td>0</td><td>0</td><td>0.269126</td><td>0.675027</td></tr>\n",
       "\t<tr><th scope=row>3</th><td>0</td><td>1</td><td>0</td><td>0</td><td>0.205056</td><td>0.793548</td></tr>\n",
       "\t<tr><th scope=row>4</th><td>1</td><td>0</td><td>0</td><td>0</td><td>0.178567</td><td>0.785834</td></tr>\n",
       "\t<tr><th scope=row>5</th><td>0</td><td>1</td><td>1</td><td>0</td><td>0.543721</td><td>0.518666</td></tr>\n",
       "\t<tr><th scope=row>6</th><td>0</td><td>1</td><td>1</td><td>0</td><td>0.400889</td><td>0.632508</td></tr>\n",
       "\t<tr><th scope=row>7</th><td>0</td><td>1</td><td>1</td><td>0</td><td>0.311984</td><td>0.665112</td></tr>\n",
       "\t<tr><th scope=row>8</th><td>0</td><td>1</td><td>0</td><td>0</td><td>0.428424</td><td>0.552939</td></tr>\n",
       "\t<tr><th scope=row>9</th><td>0</td><td>1</td><td>0</td><td>0</td><td>0.217465</td><td>0.761710</td></tr>\n",
       "\t<tr><th scope=row>10</th><td>0</td><td>1</td><td>0</td><td>0</td><td>0.237050</td><td>0.757579</td></tr>\n",
       "\t<tr><th scope=row>11</th><td>0</td><td>1</td><td>0</td><td>0</td><td>0.407545</td><td>0.511536</td></tr>\n",
       "\t<tr><th scope=row>12</th><td>0</td><td>1</td><td>0</td><td>0</td><td>0.267014</td><td>0.765189</td></tr>\n",
       "\t<tr><th scope=row>13</th><td>0</td><td>1</td><td>0</td><td>0</td><td>0.204843</td><td>0.805482</td></tr>\n",
       "\t<tr><th scope=row>14</th><td>0</td><td>1</td><td>1</td><td>0</td><td>0.272285</td><td>0.651994</td></tr>\n",
       "\t<tr><th scope=row>15</th><td>0</td><td>1</td><td>1</td><td>0</td><td>0.301587</td><td>0.614442</td></tr>\n",
       "\t<tr><th scope=row>16</th><td>0</td><td>1</td><td>1</td><td>0</td><td>0.303373</td><td>0.591517</td></tr>\n",
       "\t<tr><th scope=row>17</th><td>0</td><td>1</td><td>1</td><td>0</td><td>0.242487</td><td>0.624345</td></tr>\n",
       "\t<tr><th scope=row>18</th><td>0</td><td>1</td><td>1</td><td>0</td><td>0.267975</td><td>0.702552</td></tr>\n",
       "\t<tr><th scope=row>19</th><td>0</td><td>1</td><td>1</td><td>0</td><td>0.297992</td><td>0.594147</td></tr>\n",
       "\t<tr><th scope=row>20</th><td>0</td><td>1</td><td>1</td><td>0</td><td>0.275520</td><td>0.566768</td></tr>\n",
       "\t<tr><th scope=row>21</th><td>0</td><td>1</td><td>1</td><td>0</td><td>0.346323</td><td>0.679662</td></tr>\n",
       "\t<tr><th scope=row>22</th><td>0</td><td>1</td><td>0</td><td>0</td><td>0.342366</td><td>0.630592</td></tr>\n",
       "\t<tr><th scope=row>23</th><td>0</td><td>1</td><td>1</td><td>0</td><td>0.412993</td><td>0.581839</td></tr>\n",
       "\t<tr><th scope=row>24</th><td>0</td><td>1</td><td>0</td><td>1</td><td>0.243849</td><td>0.740451</td></tr>\n",
       "\t<tr><th scope=row>25</th><td>0</td><td>1</td><td>1</td><td>0</td><td>0.307194</td><td>0.595753</td></tr>\n",
       "\t<tr><th scope=row>26</th><td>0</td><td>1</td><td>1</td><td>0</td><td>0.356789</td><td>0.583377</td></tr>\n",
       "\t<tr><th scope=row>27</th><td>0</td><td>1</td><td>1</td><td>0</td><td>0.302694</td><td>0.681069</td></tr>\n",
       "\t<tr><th scope=row>28</th><td>0</td><td>1</td><td>1</td><td>0</td><td>0.355065</td><td>0.540170</td></tr>\n",
       "\t<tr><th scope=row>29</th><td>0</td><td>1</td><td>1</td><td>0</td><td>0.328281</td><td>0.605603</td></tr>\n",
       "\t<tr><th scope=row>30</th><td>0</td><td>1</td><td>0</td><td>1</td><td>0.216803</td><td>0.773767</td></tr>\n",
       "\t<tr><th scope=row>31</th><td>0</td><td>1</td><td>0</td><td>0</td><td>0.385131</td><td>0.512446</td></tr>\n",
       "\t<tr><th scope=row>32</th><td>0</td><td>1</td><td>0</td><td>0</td><td>0.198934</td><td>0.816509</td></tr>\n",
       "\t<tr><th scope=row>33</th><td>0</td><td>1</td><td>0</td><td>0</td><td>0.360555</td><td>0.652022</td></tr>\n",
       "\t<tr><th scope=row>34</th><td>0</td><td>1</td><td>0</td><td>0</td><td>0.205793</td><td>0.780496</td></tr>\n",
       "\t<tr><th scope=row>35</th><td>0</td><td>1</td><td>1</td><td>0</td><td>0.287526</td><td>0.673995</td></tr>\n",
       "\t<tr><th scope=row>36</th><td>0</td><td>1</td><td>1</td><td>0</td><td>0.394993</td><td>0.543050</td></tr>\n",
       "\t<tr><th scope=row>37</th><td>0</td><td>1</td><td>1</td><td>0</td><td>0.280651</td><td>0.724924</td></tr>\n",
       "\t<tr><th scope=row>38</th><td>0</td><td>1</td><td>0</td><td>1</td><td>0.260631</td><td>0.677435</td></tr>\n",
       "\t<tr><th scope=row>39</th><td>0</td><td>1</td><td>0</td><td>0</td><td>0.302043</td><td>0.677706</td></tr>\n",
       "\t<tr><th scope=row>40</th><td>0</td><td>1</td><td>0</td><td>0</td><td>0.170571</td><td>0.828935</td></tr>\n",
       "\t<tr><th scope=row>41</th><td>0</td><td>1</td><td>0</td><td>0</td><td>0.263316</td><td>0.725312</td></tr>\n",
       "\t<tr><th scope=row>42</th><td>1</td><td>0</td><td>0</td><td>0</td><td>0.152539</td><td>0.861824</td></tr>\n",
       "\t<tr><th scope=row>43</th><td>0</td><td>1</td><td>0</td><td>0</td><td>0.321360</td><td>0.697575</td></tr>\n",
       "\t<tr><th scope=row>44</th><td>0</td><td>1</td><td>0</td><td>0</td><td>0.177323</td><td>0.802834</td></tr>\n",
       "\t<tr><th scope=row>45</th><td>0</td><td>1</td><td>0</td><td>0</td><td>0.303068</td><td>0.643768</td></tr>\n",
       "\t<tr><th scope=row>46</th><td>0</td><td>1</td><td>1</td><td>0</td><td>0.266801</td><td>0.755565</td></tr>\n",
       "\t<tr><th scope=row>47</th><td>0</td><td>1</td><td>1</td><td>0</td><td>0.356779</td><td>0.648287</td></tr>\n",
       "\t<tr><th scope=row>48</th><td>0</td><td>1</td><td>0</td><td>1</td><td>0.412228</td><td>0.611796</td></tr>\n",
       "\t<tr><th scope=row>49</th><td>0</td><td>1</td><td>1</td><td>0</td><td>0.339546</td><td>0.649403</td></tr>\n",
       "\t<tr><th scope=row>50</th><td>0</td><td>1</td><td>0</td><td>1</td><td>0.252925</td><td>0.737213</td></tr>\n",
       "\t<tr><th scope=row>51</th><td>0</td><td>1</td><td>0</td><td>1</td><td>0.326313</td><td>0.586934</td></tr>\n",
       "</tbody>\n",
       "</table>\n"
      ],
      "text/latex": [
       "A matrix: 51 × 6 of type dbl\n",
       "\\begin{tabular}{r|llllll}\n",
       "  & PDD & PDnoCI & plateP342 & plateP343 & usableBases & strandBalance\\\\\n",
       "\\hline\n",
       "\t1 & 0 & 1 & 0 & 0 & 0.251916 & 0.714203\\\\\n",
       "\t2 & 0 & 1 & 0 & 0 & 0.269126 & 0.675027\\\\\n",
       "\t3 & 0 & 1 & 0 & 0 & 0.205056 & 0.793548\\\\\n",
       "\t4 & 1 & 0 & 0 & 0 & 0.178567 & 0.785834\\\\\n",
       "\t5 & 0 & 1 & 1 & 0 & 0.543721 & 0.518666\\\\\n",
       "\t6 & 0 & 1 & 1 & 0 & 0.400889 & 0.632508\\\\\n",
       "\t7 & 0 & 1 & 1 & 0 & 0.311984 & 0.665112\\\\\n",
       "\t8 & 0 & 1 & 0 & 0 & 0.428424 & 0.552939\\\\\n",
       "\t9 & 0 & 1 & 0 & 0 & 0.217465 & 0.761710\\\\\n",
       "\t10 & 0 & 1 & 0 & 0 & 0.237050 & 0.757579\\\\\n",
       "\t11 & 0 & 1 & 0 & 0 & 0.407545 & 0.511536\\\\\n",
       "\t12 & 0 & 1 & 0 & 0 & 0.267014 & 0.765189\\\\\n",
       "\t13 & 0 & 1 & 0 & 0 & 0.204843 & 0.805482\\\\\n",
       "\t14 & 0 & 1 & 1 & 0 & 0.272285 & 0.651994\\\\\n",
       "\t15 & 0 & 1 & 1 & 0 & 0.301587 & 0.614442\\\\\n",
       "\t16 & 0 & 1 & 1 & 0 & 0.303373 & 0.591517\\\\\n",
       "\t17 & 0 & 1 & 1 & 0 & 0.242487 & 0.624345\\\\\n",
       "\t18 & 0 & 1 & 1 & 0 & 0.267975 & 0.702552\\\\\n",
       "\t19 & 0 & 1 & 1 & 0 & 0.297992 & 0.594147\\\\\n",
       "\t20 & 0 & 1 & 1 & 0 & 0.275520 & 0.566768\\\\\n",
       "\t21 & 0 & 1 & 1 & 0 & 0.346323 & 0.679662\\\\\n",
       "\t22 & 0 & 1 & 0 & 0 & 0.342366 & 0.630592\\\\\n",
       "\t23 & 0 & 1 & 1 & 0 & 0.412993 & 0.581839\\\\\n",
       "\t24 & 0 & 1 & 0 & 1 & 0.243849 & 0.740451\\\\\n",
       "\t25 & 0 & 1 & 1 & 0 & 0.307194 & 0.595753\\\\\n",
       "\t26 & 0 & 1 & 1 & 0 & 0.356789 & 0.583377\\\\\n",
       "\t27 & 0 & 1 & 1 & 0 & 0.302694 & 0.681069\\\\\n",
       "\t28 & 0 & 1 & 1 & 0 & 0.355065 & 0.540170\\\\\n",
       "\t29 & 0 & 1 & 1 & 0 & 0.328281 & 0.605603\\\\\n",
       "\t30 & 0 & 1 & 0 & 1 & 0.216803 & 0.773767\\\\\n",
       "\t31 & 0 & 1 & 0 & 0 & 0.385131 & 0.512446\\\\\n",
       "\t32 & 0 & 1 & 0 & 0 & 0.198934 & 0.816509\\\\\n",
       "\t33 & 0 & 1 & 0 & 0 & 0.360555 & 0.652022\\\\\n",
       "\t34 & 0 & 1 & 0 & 0 & 0.205793 & 0.780496\\\\\n",
       "\t35 & 0 & 1 & 1 & 0 & 0.287526 & 0.673995\\\\\n",
       "\t36 & 0 & 1 & 1 & 0 & 0.394993 & 0.543050\\\\\n",
       "\t37 & 0 & 1 & 1 & 0 & 0.280651 & 0.724924\\\\\n",
       "\t38 & 0 & 1 & 0 & 1 & 0.260631 & 0.677435\\\\\n",
       "\t39 & 0 & 1 & 0 & 0 & 0.302043 & 0.677706\\\\\n",
       "\t40 & 0 & 1 & 0 & 0 & 0.170571 & 0.828935\\\\\n",
       "\t41 & 0 & 1 & 0 & 0 & 0.263316 & 0.725312\\\\\n",
       "\t42 & 1 & 0 & 0 & 0 & 0.152539 & 0.861824\\\\\n",
       "\t43 & 0 & 1 & 0 & 0 & 0.321360 & 0.697575\\\\\n",
       "\t44 & 0 & 1 & 0 & 0 & 0.177323 & 0.802834\\\\\n",
       "\t45 & 0 & 1 & 0 & 0 & 0.303068 & 0.643768\\\\\n",
       "\t46 & 0 & 1 & 1 & 0 & 0.266801 & 0.755565\\\\\n",
       "\t47 & 0 & 1 & 1 & 0 & 0.356779 & 0.648287\\\\\n",
       "\t48 & 0 & 1 & 0 & 1 & 0.412228 & 0.611796\\\\\n",
       "\t49 & 0 & 1 & 1 & 0 & 0.339546 & 0.649403\\\\\n",
       "\t50 & 0 & 1 & 0 & 1 & 0.252925 & 0.737213\\\\\n",
       "\t51 & 0 & 1 & 0 & 1 & 0.326313 & 0.586934\\\\\n",
       "\\end{tabular}\n"
      ],
      "text/markdown": [
       "\n",
       "A matrix: 51 × 6 of type dbl\n",
       "\n",
       "| <!--/--> | PDD | PDnoCI | plateP342 | plateP343 | usableBases | strandBalance |\n",
       "|---|---|---|---|---|---|---|\n",
       "| 1 | 0 | 1 | 0 | 0 | 0.251916 | 0.714203 |\n",
       "| 2 | 0 | 1 | 0 | 0 | 0.269126 | 0.675027 |\n",
       "| 3 | 0 | 1 | 0 | 0 | 0.205056 | 0.793548 |\n",
       "| 4 | 1 | 0 | 0 | 0 | 0.178567 | 0.785834 |\n",
       "| 5 | 0 | 1 | 1 | 0 | 0.543721 | 0.518666 |\n",
       "| 6 | 0 | 1 | 1 | 0 | 0.400889 | 0.632508 |\n",
       "| 7 | 0 | 1 | 1 | 0 | 0.311984 | 0.665112 |\n",
       "| 8 | 0 | 1 | 0 | 0 | 0.428424 | 0.552939 |\n",
       "| 9 | 0 | 1 | 0 | 0 | 0.217465 | 0.761710 |\n",
       "| 10 | 0 | 1 | 0 | 0 | 0.237050 | 0.757579 |\n",
       "| 11 | 0 | 1 | 0 | 0 | 0.407545 | 0.511536 |\n",
       "| 12 | 0 | 1 | 0 | 0 | 0.267014 | 0.765189 |\n",
       "| 13 | 0 | 1 | 0 | 0 | 0.204843 | 0.805482 |\n",
       "| 14 | 0 | 1 | 1 | 0 | 0.272285 | 0.651994 |\n",
       "| 15 | 0 | 1 | 1 | 0 | 0.301587 | 0.614442 |\n",
       "| 16 | 0 | 1 | 1 | 0 | 0.303373 | 0.591517 |\n",
       "| 17 | 0 | 1 | 1 | 0 | 0.242487 | 0.624345 |\n",
       "| 18 | 0 | 1 | 1 | 0 | 0.267975 | 0.702552 |\n",
       "| 19 | 0 | 1 | 1 | 0 | 0.297992 | 0.594147 |\n",
       "| 20 | 0 | 1 | 1 | 0 | 0.275520 | 0.566768 |\n",
       "| 21 | 0 | 1 | 1 | 0 | 0.346323 | 0.679662 |\n",
       "| 22 | 0 | 1 | 0 | 0 | 0.342366 | 0.630592 |\n",
       "| 23 | 0 | 1 | 1 | 0 | 0.412993 | 0.581839 |\n",
       "| 24 | 0 | 1 | 0 | 1 | 0.243849 | 0.740451 |\n",
       "| 25 | 0 | 1 | 1 | 0 | 0.307194 | 0.595753 |\n",
       "| 26 | 0 | 1 | 1 | 0 | 0.356789 | 0.583377 |\n",
       "| 27 | 0 | 1 | 1 | 0 | 0.302694 | 0.681069 |\n",
       "| 28 | 0 | 1 | 1 | 0 | 0.355065 | 0.540170 |\n",
       "| 29 | 0 | 1 | 1 | 0 | 0.328281 | 0.605603 |\n",
       "| 30 | 0 | 1 | 0 | 1 | 0.216803 | 0.773767 |\n",
       "| 31 | 0 | 1 | 0 | 0 | 0.385131 | 0.512446 |\n",
       "| 32 | 0 | 1 | 0 | 0 | 0.198934 | 0.816509 |\n",
       "| 33 | 0 | 1 | 0 | 0 | 0.360555 | 0.652022 |\n",
       "| 34 | 0 | 1 | 0 | 0 | 0.205793 | 0.780496 |\n",
       "| 35 | 0 | 1 | 1 | 0 | 0.287526 | 0.673995 |\n",
       "| 36 | 0 | 1 | 1 | 0 | 0.394993 | 0.543050 |\n",
       "| 37 | 0 | 1 | 1 | 0 | 0.280651 | 0.724924 |\n",
       "| 38 | 0 | 1 | 0 | 1 | 0.260631 | 0.677435 |\n",
       "| 39 | 0 | 1 | 0 | 0 | 0.302043 | 0.677706 |\n",
       "| 40 | 0 | 1 | 0 | 0 | 0.170571 | 0.828935 |\n",
       "| 41 | 0 | 1 | 0 | 0 | 0.263316 | 0.725312 |\n",
       "| 42 | 1 | 0 | 0 | 0 | 0.152539 | 0.861824 |\n",
       "| 43 | 0 | 1 | 0 | 0 | 0.321360 | 0.697575 |\n",
       "| 44 | 0 | 1 | 0 | 0 | 0.177323 | 0.802834 |\n",
       "| 45 | 0 | 1 | 0 | 0 | 0.303068 | 0.643768 |\n",
       "| 46 | 0 | 1 | 1 | 0 | 0.266801 | 0.755565 |\n",
       "| 47 | 0 | 1 | 1 | 0 | 0.356779 | 0.648287 |\n",
       "| 48 | 0 | 1 | 0 | 1 | 0.412228 | 0.611796 |\n",
       "| 49 | 0 | 1 | 1 | 0 | 0.339546 | 0.649403 |\n",
       "| 50 | 0 | 1 | 0 | 1 | 0.252925 | 0.737213 |\n",
       "| 51 | 0 | 1 | 0 | 1 | 0.326313 | 0.586934 |\n",
       "\n"
      ],
      "text/plain": [
       "   PDD PDnoCI plateP342 plateP343 usableBases strandBalance\n",
       "1  0   1      0         0         0.251916    0.714203     \n",
       "2  0   1      0         0         0.269126    0.675027     \n",
       "3  0   1      0         0         0.205056    0.793548     \n",
       "4  1   0      0         0         0.178567    0.785834     \n",
       "5  0   1      1         0         0.543721    0.518666     \n",
       "6  0   1      1         0         0.400889    0.632508     \n",
       "7  0   1      1         0         0.311984    0.665112     \n",
       "8  0   1      0         0         0.428424    0.552939     \n",
       "9  0   1      0         0         0.217465    0.761710     \n",
       "10 0   1      0         0         0.237050    0.757579     \n",
       "11 0   1      0         0         0.407545    0.511536     \n",
       "12 0   1      0         0         0.267014    0.765189     \n",
       "13 0   1      0         0         0.204843    0.805482     \n",
       "14 0   1      1         0         0.272285    0.651994     \n",
       "15 0   1      1         0         0.301587    0.614442     \n",
       "16 0   1      1         0         0.303373    0.591517     \n",
       "17 0   1      1         0         0.242487    0.624345     \n",
       "18 0   1      1         0         0.267975    0.702552     \n",
       "19 0   1      1         0         0.297992    0.594147     \n",
       "20 0   1      1         0         0.275520    0.566768     \n",
       "21 0   1      1         0         0.346323    0.679662     \n",
       "22 0   1      0         0         0.342366    0.630592     \n",
       "23 0   1      1         0         0.412993    0.581839     \n",
       "24 0   1      0         1         0.243849    0.740451     \n",
       "25 0   1      1         0         0.307194    0.595753     \n",
       "26 0   1      1         0         0.356789    0.583377     \n",
       "27 0   1      1         0         0.302694    0.681069     \n",
       "28 0   1      1         0         0.355065    0.540170     \n",
       "29 0   1      1         0         0.328281    0.605603     \n",
       "30 0   1      0         1         0.216803    0.773767     \n",
       "31 0   1      0         0         0.385131    0.512446     \n",
       "32 0   1      0         0         0.198934    0.816509     \n",
       "33 0   1      0         0         0.360555    0.652022     \n",
       "34 0   1      0         0         0.205793    0.780496     \n",
       "35 0   1      1         0         0.287526    0.673995     \n",
       "36 0   1      1         0         0.394993    0.543050     \n",
       "37 0   1      1         0         0.280651    0.724924     \n",
       "38 0   1      0         1         0.260631    0.677435     \n",
       "39 0   1      0         0         0.302043    0.677706     \n",
       "40 0   1      0         0         0.170571    0.828935     \n",
       "41 0   1      0         0         0.263316    0.725312     \n",
       "42 1   0      0         0         0.152539    0.861824     \n",
       "43 0   1      0         0         0.321360    0.697575     \n",
       "44 0   1      0         0         0.177323    0.802834     \n",
       "45 0   1      0         0         0.303068    0.643768     \n",
       "46 0   1      1         0         0.266801    0.755565     \n",
       "47 0   1      1         0         0.356779    0.648287     \n",
       "48 0   1      0         1         0.412228    0.611796     \n",
       "49 0   1      1         0         0.339546    0.649403     \n",
       "50 0   1      0         1         0.252925    0.737213     \n",
       "51 0   1      0         1         0.326313    0.586934     "
      ]
     },
     "metadata": {},
     "output_type": "display_data"
    }
   ],
   "source": [
    "design"
   ]
  },
  {
   "cell_type": "code",
   "execution_count": 130,
   "metadata": {},
   "outputs": [],
   "source": [
    "contr.matrix <- makeContrasts(\n",
    "  Case_vs_Control = PDD - PDnoCI,\n",
    "  levels = colnames(design)\n",
    ")"
   ]
  },
  {
   "cell_type": "code",
   "execution_count": 131,
   "metadata": {
    "scrolled": true
   },
   "outputs": [
    {
     "data": {
      "text/html": [
       "<table class=\"dataframe\">\n",
       "<caption>A matrix: 6 × 1 of type dbl</caption>\n",
       "<thead>\n",
       "\t<tr><th></th><th scope=col>Case_vs_Control</th></tr>\n",
       "</thead>\n",
       "<tbody>\n",
       "\t<tr><th scope=row>PDD</th><td> 1</td></tr>\n",
       "\t<tr><th scope=row>PDnoCI</th><td>-1</td></tr>\n",
       "\t<tr><th scope=row>plateP342</th><td> 0</td></tr>\n",
       "\t<tr><th scope=row>plateP343</th><td> 0</td></tr>\n",
       "\t<tr><th scope=row>usableBases</th><td> 0</td></tr>\n",
       "\t<tr><th scope=row>strandBalance</th><td> 0</td></tr>\n",
       "</tbody>\n",
       "</table>\n"
      ],
      "text/latex": [
       "A matrix: 6 × 1 of type dbl\n",
       "\\begin{tabular}{r|l}\n",
       "  & Case\\_vs\\_Control\\\\\n",
       "\\hline\n",
       "\tPDD &  1\\\\\n",
       "\tPDnoCI & -1\\\\\n",
       "\tplateP342 &  0\\\\\n",
       "\tplateP343 &  0\\\\\n",
       "\tusableBases &  0\\\\\n",
       "\tstrandBalance &  0\\\\\n",
       "\\end{tabular}\n"
      ],
      "text/markdown": [
       "\n",
       "A matrix: 6 × 1 of type dbl\n",
       "\n",
       "| <!--/--> | Case_vs_Control |\n",
       "|---|---|\n",
       "| PDD |  1 |\n",
       "| PDnoCI | -1 |\n",
       "| plateP342 |  0 |\n",
       "| plateP343 |  0 |\n",
       "| usableBases |  0 |\n",
       "| strandBalance |  0 |\n",
       "\n"
      ],
      "text/plain": [
       "               Contrasts\n",
       "Levels          Case_vs_Control\n",
       "  PDD            1             \n",
       "  PDnoCI        -1             \n",
       "  plateP342      0             \n",
       "  plateP343      0             \n",
       "  usableBases    0             \n",
       "  strandBalance  0             "
      ]
     },
     "metadata": {},
     "output_type": "display_data"
    }
   ],
   "source": [
    "contr.matrix"
   ]
  },
  {
   "cell_type": "markdown",
   "metadata": {},
   "source": [
    "Pre-filtering and count normalization to counts per million (CPM)"
   ]
  },
  {
   "cell_type": "code",
   "execution_count": 132,
   "metadata": {},
   "outputs": [
    {
     "data": {
      "text/html": [
       "23263"
      ],
      "text/latex": [
       "23263"
      ],
      "text/markdown": [
       "23263"
      ],
      "text/plain": [
       "[1] 23263"
      ]
     },
     "metadata": {},
     "output_type": "display_data"
    }
   ],
   "source": [
    "## normalization and filtering in limma\n",
    "keep <- filterByExpr(countsSub, group = case)\n",
    "sum(keep) #this is the number of genes we are testing for differential expression"
   ]
  },
  {
   "cell_type": "code",
   "execution_count": 133,
   "metadata": {},
   "outputs": [],
   "source": [
    "dge <- DGEList(countsSub[keep,])"
   ]
  },
  {
   "cell_type": "code",
   "execution_count": 134,
   "metadata": {},
   "outputs": [],
   "source": [
    "dge  <- calcNormFactors(dge) #normalizes, what does it do?"
   ]
  },
  {
   "cell_type": "code",
   "execution_count": 135,
   "metadata": {},
   "outputs": [],
   "source": [
    "#sample_meta_male_over_65.sub$sex <- as.factor(sample_meta_male_over_65.sub$sex)"
   ]
  },
  {
   "cell_type": "code",
   "execution_count": 136,
   "metadata": {},
   "outputs": [],
   "source": [
    "#par(mfrow=c(1,2))\n",
    "#levels(sample_meta_male_over_65.sub$sex) #what is this?\n",
    "#col.cell <- c(\"purple\",\"orange\")[sample_meta_male_over_65.sub$sex]\n",
    "#data.frame(sample_meta_male_over_65.sub$sex,col.cell)"
   ]
  },
  {
   "cell_type": "code",
   "execution_count": 137,
   "metadata": {},
   "outputs": [],
   "source": [
    "#plotMDS(dge,col=col.cell)"
   ]
  },
  {
   "cell_type": "code",
   "execution_count": 138,
   "metadata": {
    "scrolled": true
   },
   "outputs": [
    {
     "data": {
      "text/html": [
       "<style>\n",
       ".list-inline {list-style: none; margin:0; padding: 0}\n",
       ".list-inline>li {display: inline-block}\n",
       ".list-inline>li:not(:last-child)::after {content: \"\\00b7\"; padding: 0 .5ex}\n",
       "</style>\n",
       "<ol class=list-inline><li>2230013</li><li>8</li></ol>\n"
      ],
      "text/latex": [
       "\\begin{enumerate*}\n",
       "\\item 2230013\n",
       "\\item 8\n",
       "\\end{enumerate*}\n"
      ],
      "text/markdown": [
       "1. 2230013\n",
       "2. 8\n",
       "\n",
       "\n"
      ],
      "text/plain": [
       "[1] 2230013       8"
      ]
     },
     "metadata": {},
     "output_type": "display_data"
    }
   ],
   "source": [
    "#order gene list\n",
    "genes.anno.Match <- filtGenes[filtGenes$gene_id %in% sort(row.names(dge$counts)),]\n",
    "dim(genes.anno.Match)"
   ]
  },
  {
   "cell_type": "code",
   "execution_count": 139,
   "metadata": {},
   "outputs": [],
   "source": [
    "i <- match(row.names(dge$counts), genes.anno.Match$gene_id, nomatch = 0)"
   ]
  },
  {
   "cell_type": "code",
   "execution_count": 140,
   "metadata": {},
   "outputs": [],
   "source": [
    "genes.anno.Match <- genes.anno.Match[i,]"
   ]
  },
  {
   "cell_type": "code",
   "execution_count": 141,
   "metadata": {},
   "outputs": [
    {
     "data": {
      "text/html": [
       "<table class=\"dataframe\">\n",
       "<caption>A data.frame: 23263 × 8</caption>\n",
       "<thead>\n",
       "\t<tr><th></th><th scope=col>X</th><th scope=col>gene_id</th><th scope=col>gene_name</th><th scope=col>gene_type</th><th scope=col>seqname</th><th scope=col>start</th><th scope=col>end</th><th scope=col>strand</th></tr>\n",
       "\t<tr><th></th><th scope=col>&lt;int&gt;</th><th scope=col>&lt;chr&gt;</th><th scope=col>&lt;chr&gt;</th><th scope=col>&lt;chr&gt;</th><th scope=col>&lt;chr&gt;</th><th scope=col>&lt;int&gt;</th><th scope=col>&lt;int&gt;</th><th scope=col>&lt;chr&gt;</th></tr>\n",
       "</thead>\n",
       "<tbody>\n",
       "\t<tr><th scope=row>1553274</th><td>1553273</td><td>ENSG00000280143.1 </td><td>AP000892.3</td><td>TEC                 </td><td>chr11</td><td>117204967</td><td>117210292</td><td>+</td></tr>\n",
       "\t<tr><th scope=row>2400893</th><td>2400892</td><td>ENSG00000269416.5 </td><td>LINC01224 </td><td>lincRNA             </td><td>chr19</td><td> 23399233</td><td> 23416075</td><td>-</td></tr>\n",
       "\t<tr><th scope=row>653470</th><td> 653469</td><td>ENSG00000263642.1 </td><td>MIR4802   </td><td>miRNA               </td><td>chr4 </td><td> 40502040</td><td> 40502119</td><td>-</td></tr>\n",
       "\t<tr><th scope=row>2157821</th><td>2157820</td><td>ENSG00000198242.13</td><td>RPL23A    </td><td>protein_coding      </td><td>chr17</td><td> 28719393</td><td> 28724359</td><td>+</td></tr>\n",
       "\t<tr><th scope=row>1767755</th><td>1767754</td><td>ENSG00000231981.3 </td><td>RPL7L1P12 </td><td>processed_pseudogene</td><td>chr13</td><td> 98949719</td><td> 98950447</td><td>-</td></tr>\n",
       "\t<tr><th scope=row>458779</th><td> 458778</td><td>ENSG00000134108.12</td><td>ARL8B     </td><td>protein_coding      </td><td>chr3 </td><td>  5122220</td><td>  5180912</td><td>+</td></tr>\n",
       "\t<tr><th scope=row>1759388</th><td>1759387</td><td>ENSG00000276644.4 </td><td>DACH1     </td><td>protein_coding      </td><td>chr13</td><td> 71437966</td><td> 71867192</td><td>-</td></tr>\n",
       "\t<tr><th scope=row>33611</th><td>  33610</td><td>ENSG00000231105.1 </td><td>AL031728.1</td><td>antisense           </td><td>chr1 </td><td> 21293290</td><td> 21299774</td><td>+</td></tr>\n",
       "\t<tr><th scope=row>2430783</th><td>2430782</td><td>ENSG00000167578.17</td><td>RAB4B     </td><td>protein_coding      </td><td>chr19</td><td> 40778216</td><td> 40796938</td><td>+</td></tr>\n",
       "\t<tr><th scope=row>2566917</th><td>2566916</td><td>ENSG00000236830.6 </td><td>CBR3-AS1  </td><td>processed_transcript</td><td>chr21</td><td> 36131767</td><td> 36175815</td><td>-</td></tr>\n",
       "\t<tr><th scope=row>1273453</th><td>1273452</td><td>ENSG00000056586.15</td><td>RC3H2     </td><td>protein_coding      </td><td>chr9 </td><td>122844556</td><td>122905341</td><td>-</td></tr>\n",
       "\t<tr><th scope=row>585931</th><td> 585930</td><td>ENSG00000070087.14</td><td>PFN2      </td><td>protein_coding      </td><td>chr3 </td><td>149964904</td><td>150050788</td><td>-</td></tr>\n",
       "\t<tr><th scope=row>845107</th><td> 845106</td><td>ENSG00000146083.11</td><td>RNF44     </td><td>protein_coding      </td><td>chr5 </td><td>176526697</td><td>176538025</td><td>-</td></tr>\n",
       "\t<tr><th scope=row>1731546</th><td>1731545</td><td>ENSG00000279700.1 </td><td>AC131212.2</td><td>TEC                 </td><td>chr12</td><td>132565071</td><td>132566425</td><td>+</td></tr>\n",
       "\t<tr><th scope=row>322203</th><td> 322202</td><td>ENSG00000153561.12</td><td>RMND5A    </td><td>protein_coding      </td><td>chr2 </td><td> 86720173</td><td> 86778041</td><td>+</td></tr>\n",
       "\t<tr><th scope=row>2372905</th><td>2372904</td><td>ENSG00000179262.9 </td><td>RAD23A    </td><td>protein_coding      </td><td>chr19</td><td> 12945855</td><td> 12953642</td><td>+</td></tr>\n",
       "\t<tr><th scope=row>2347336</th><td>2347335</td><td>ENSG00000104833.11</td><td>TUBB4A    </td><td>protein_coding      </td><td>chr19</td><td>  6494319</td><td>  6502848</td><td>-</td></tr>\n",
       "\t<tr><th scope=row>2138328</th><td>2138327</td><td>ENSG00000006695.10</td><td>COX10     </td><td>protein_coding      </td><td>chr17</td><td> 14069496</td><td> 14208677</td><td>+</td></tr>\n",
       "\t<tr><th scope=row>1375735</th><td>1375734</td><td>ENSG00000095587.8 </td><td>TLL2      </td><td>protein_coding      </td><td>chr10</td><td> 96364606</td><td> 96513918</td><td>-</td></tr>\n",
       "\t<tr><th scope=row>1208477</th><td>1208476</td><td>ENSG00000167700.8 </td><td>MFSD3     </td><td>protein_coding      </td><td>chr8 </td><td>144509074</td><td>144511213</td><td>+</td></tr>\n",
       "\t<tr><th scope=row>870448</th><td> 870447</td><td>ENSG00000187475.5 </td><td>HIST1H1T  </td><td>protein_coding      </td><td>chr6 </td><td> 26107419</td><td> 26108136</td><td>-</td></tr>\n",
       "\t<tr><th scope=row>1993478</th><td>1993477</td><td>ENSG00000008517.16</td><td>IL32      </td><td>protein_coding      </td><td>chr16</td><td>  3065297</td><td>  3082192</td><td>+</td></tr>\n",
       "\t<tr><th scope=row>2012933</th><td>2012932</td><td>ENSG00000279415.1 </td><td>AC099494.2</td><td>TEC                 </td><td>chr16</td><td> 17227023</td><td> 17228000</td><td>-</td></tr>\n",
       "\t<tr><th scope=row>2235346</th><td>2235345</td><td>ENSG00000266644.1 </td><td>AC103810.5</td><td>antisense           </td><td>chr17</td><td> 64899766</td><td> 64900716</td><td>+</td></tr>\n",
       "\t<tr><th scope=row>1366822</th><td>1366821</td><td>ENSG00000227896.2 </td><td>AL731569.1</td><td>antisense           </td><td>chr10</td><td> 86521945</td><td> 86525101</td><td>+</td></tr>\n",
       "\t<tr><th scope=row>2500096</th><td>2500095</td><td>ENSG00000101292.7 </td><td>PROKR2    </td><td>protein_coding      </td><td>chr20</td><td>  5302040</td><td>  5314369</td><td>-</td></tr>\n",
       "\t<tr><th scope=row>1437702</th><td>1437701</td><td>ENSG00000070081.16</td><td>NUCB2     </td><td>protein_coding      </td><td>chr11</td><td> 17208153</td><td> 17349980</td><td>+</td></tr>\n",
       "\t<tr><th scope=row>346735</th><td> 346734</td><td>ENSG00000088179.8 </td><td>PTPN4     </td><td>protein_coding      </td><td>chr2 </td><td>119759631</td><td>119983818</td><td>+</td></tr>\n",
       "\t<tr><th scope=row>2262716</th><td>2262715</td><td>ENSG00000275479.1 </td><td>AC087741.2</td><td>lincRNA             </td><td>chr17</td><td> 80149627</td><td> 80149798</td><td>+</td></tr>\n",
       "\t<tr><th scope=row>1125180</th><td>1125179</td><td>ENSG00000254092.1 </td><td>AC015468.3</td><td>lincRNA             </td><td>chr8 </td><td> 20952645</td><td> 20973877</td><td>-</td></tr>\n",
       "\t<tr><th scope=row>⋮</th><td>⋮</td><td>⋮</td><td>⋮</td><td>⋮</td><td>⋮</td><td>⋮</td><td>⋮</td><td>⋮</td></tr>\n",
       "\t<tr><th scope=row>1431012</th><td>1431011</td><td>ENSG00000268403.2 </td><td>AC132192.2</td><td>antisense             </td><td>chr11</td><td>  9459556</td><td>  9460702</td><td>-</td></tr>\n",
       "\t<tr><th scope=row>2323122</th><td>2323121</td><td>ENSG00000279474.1 </td><td>AC125437.2</td><td>TEC                   </td><td>chr18</td><td> 79144752</td><td> 79146918</td><td>+</td></tr>\n",
       "\t<tr><th scope=row>1098893</th><td>1098892</td><td>ENSG00000223459.6 </td><td>TCAF1P1   </td><td>unprocessed_pseudogene</td><td>chr7 </td><td>143598039</td><td>143604839</td><td>+</td></tr>\n",
       "\t<tr><th scope=row>323932</th><td> 323931</td><td>ENSG00000241294.1 </td><td>IGKV2-24  </td><td>IG_V_gene             </td><td>chr2 </td><td> 89176328</td><td> 89177160</td><td>-</td></tr>\n",
       "\t<tr><th scope=row>2144486</th><td>2144485</td><td>ENSG00000171953.15</td><td>ATPAF2    </td><td>protein_coding        </td><td>chr17</td><td> 17977409</td><td> 18039209</td><td>-</td></tr>\n",
       "\t<tr><th scope=row>2382414</th><td>2382413</td><td>ENSG00000186115.12</td><td>CYP4F2    </td><td>protein_coding        </td><td>chr19</td><td> 15878023</td><td> 15898120</td><td>-</td></tr>\n",
       "\t<tr><th scope=row>2611662</th><td>2611661</td><td>ENSG00000213888.3 </td><td>LINC01521 </td><td>lincRNA               </td><td>chr22</td><td> 31346777</td><td> 31348719</td><td>+</td></tr>\n",
       "\t<tr><th scope=row>281388</th><td> 281387</td><td>ENSG00000237803.5 </td><td>LINC00211 </td><td>lincRNA               </td><td>chr2 </td><td> 37826247</td><td> 37876274</td><td>-</td></tr>\n",
       "\t<tr><th scope=row>1163850</th><td>1163849</td><td>ENSG00000260398.1 </td><td>AC068700.1</td><td>sense_overlapping     </td><td>chr8 </td><td> 78605952</td><td> 78609705</td><td>+</td></tr>\n",
       "\t<tr><th scope=row>699892</th><td> 699891</td><td>ENSG00000170522.9 </td><td>ELOVL6    </td><td>protein_coding        </td><td>chr4 </td><td>110045846</td><td>110199199</td><td>-</td></tr>\n",
       "\t<tr><th scope=row>395575</th><td> 395574</td><td>ENSG00000162999.12</td><td>DUSP19    </td><td>protein_coding        </td><td>chr2 </td><td>183078559</td><td>183100005</td><td>+</td></tr>\n",
       "\t<tr><th scope=row>2598137</th><td>2598136</td><td>ENSG00000099991.17</td><td>CABIN1    </td><td>protein_coding        </td><td>chr22</td><td> 24011192</td><td> 24178628</td><td>+</td></tr>\n",
       "\t<tr><th scope=row>2668514</th><td>2668513</td><td>ENSG00000102265.11</td><td>TIMP1     </td><td>protein_coding        </td><td>chrX </td><td> 47582313</td><td> 47586789</td><td>+</td></tr>\n",
       "\t<tr><th scope=row>856543</th><td> 856542</td><td>ENSG00000285578.1 </td><td>AL035696.4</td><td>lincRNA               </td><td>chr6 </td><td>   184339</td><td>   186899</td><td>+</td></tr>\n",
       "\t<tr><th scope=row>2352301</th><td>2352300</td><td>ENSG00000066044.14</td><td>ELAVL1    </td><td>protein_coding        </td><td>chr19</td><td>  7958579</td><td>  8005659</td><td>-</td></tr>\n",
       "\t<tr><th scope=row>2657235</th><td>2657234</td><td>ENSG00000214124.3 </td><td>SNRPEP9   </td><td>processed_pseudogene  </td><td>chrX </td><td> 24513450</td><td> 24513687</td><td>+</td></tr>\n",
       "\t<tr><th scope=row>986082</th><td> 986081</td><td>ENSG00000146587.17</td><td>RBAK      </td><td>protein_coding        </td><td>chr7 </td><td>  5045821</td><td>  5069488</td><td>+</td></tr>\n",
       "\t<tr><th scope=row>788566</th><td> 788565</td><td>ENSG00000173930.8 </td><td>SLCO4C1   </td><td>protein_coding        </td><td>chr5 </td><td>102233986</td><td>102296549</td><td>-</td></tr>\n",
       "\t<tr><th scope=row>1322381</th><td>1322380</td><td>ENSG00000107863.17</td><td>ARHGAP21  </td><td>protein_coding        </td><td>chr10</td><td> 24583609</td><td> 24723668</td><td>-</td></tr>\n",
       "\t<tr><th scope=row>2602539</th><td>2602538</td><td>ENSG00000221760.1 </td><td>MIR548J   </td><td>miRNA                 </td><td>chr22</td><td> 26555212</td><td> 26555323</td><td>-</td></tr>\n",
       "\t<tr><th scope=row>1601271</th><td>1601270</td><td>ENSG00000213782.7 </td><td>DDX47     </td><td>protein_coding        </td><td>chr12</td><td> 12813316</td><td> 12829981</td><td>+</td></tr>\n",
       "\t<tr><th scope=row>1034500</th><td>1034499</td><td>ENSG00000146707.14</td><td>POMZP3    </td><td>protein_coding        </td><td>chr7 </td><td> 76609986</td><td> 76627261</td><td>-</td></tr>\n",
       "\t<tr><th scope=row>332690</th><td> 332689</td><td>ENSG00000158417.10</td><td>EIF5B     </td><td>protein_coding        </td><td>chr2 </td><td> 99337353</td><td> 99401326</td><td>+</td></tr>\n",
       "\t<tr><th scope=row>2504403</th><td>2504402</td><td>ENSG00000089177.18</td><td>KIF16B    </td><td>protein_coding        </td><td>chr20</td><td> 16272104</td><td> 16573434</td><td>-</td></tr>\n",
       "\t<tr><th scope=row>196710</th><td> 196709</td><td>ENSG00000203729.8 </td><td>LINC00272 </td><td>lincRNA               </td><td>chr1 </td><td>182407621</td><td>182414815</td><td>+</td></tr>\n",
       "\t<tr><th scope=row>2710500</th><td>2710499</td><td>ENSG00000009694.13</td><td>TENM1     </td><td>protein_coding        </td><td>chrX </td><td>124375903</td><td>124963817</td><td>-</td></tr>\n",
       "\t<tr><th scope=row>222746</th><td> 222745</td><td>ENSG00000123685.8 </td><td>BATF3     </td><td>protein_coding        </td><td>chr1 </td><td>212686418</td><td>212699985</td><td>-</td></tr>\n",
       "\t<tr><th scope=row>1121428</th><td>1121427</td><td>ENSG00000265520.1 </td><td>MIR548V   </td><td>miRNA                 </td><td>chr8 </td><td> 17681578</td><td> 17681657</td><td>-</td></tr>\n",
       "\t<tr><th scope=row>2483083</th><td>2483082</td><td>ENSG00000105063.18</td><td>PPP6R1    </td><td>protein_coding        </td><td>chr19</td><td> 55229780</td><td> 55258995</td><td>-</td></tr>\n",
       "\t<tr><th scope=row>2132170</th><td>2132169</td><td>ENSG00000178921.13</td><td>PFAS      </td><td>protein_coding        </td><td>chr17</td><td>  8247618</td><td>  8270491</td><td>+</td></tr>\n",
       "</tbody>\n",
       "</table>\n"
      ],
      "text/latex": [
       "A data.frame: 23263 × 8\n",
       "\\begin{tabular}{r|llllllll}\n",
       "  & X & gene\\_id & gene\\_name & gene\\_type & seqname & start & end & strand\\\\\n",
       "  & <int> & <chr> & <chr> & <chr> & <chr> & <int> & <int> & <chr>\\\\\n",
       "\\hline\n",
       "\t1553274 & 1553273 & ENSG00000280143.1  & AP000892.3 & TEC                  & chr11 & 117204967 & 117210292 & +\\\\\n",
       "\t2400893 & 2400892 & ENSG00000269416.5  & LINC01224  & lincRNA              & chr19 &  23399233 &  23416075 & -\\\\\n",
       "\t653470 &  653469 & ENSG00000263642.1  & MIR4802    & miRNA                & chr4  &  40502040 &  40502119 & -\\\\\n",
       "\t2157821 & 2157820 & ENSG00000198242.13 & RPL23A     & protein\\_coding       & chr17 &  28719393 &  28724359 & +\\\\\n",
       "\t1767755 & 1767754 & ENSG00000231981.3  & RPL7L1P12  & processed\\_pseudogene & chr13 &  98949719 &  98950447 & -\\\\\n",
       "\t458779 &  458778 & ENSG00000134108.12 & ARL8B      & protein\\_coding       & chr3  &   5122220 &   5180912 & +\\\\\n",
       "\t1759388 & 1759387 & ENSG00000276644.4  & DACH1      & protein\\_coding       & chr13 &  71437966 &  71867192 & -\\\\\n",
       "\t33611 &   33610 & ENSG00000231105.1  & AL031728.1 & antisense            & chr1  &  21293290 &  21299774 & +\\\\\n",
       "\t2430783 & 2430782 & ENSG00000167578.17 & RAB4B      & protein\\_coding       & chr19 &  40778216 &  40796938 & +\\\\\n",
       "\t2566917 & 2566916 & ENSG00000236830.6  & CBR3-AS1   & processed\\_transcript & chr21 &  36131767 &  36175815 & -\\\\\n",
       "\t1273453 & 1273452 & ENSG00000056586.15 & RC3H2      & protein\\_coding       & chr9  & 122844556 & 122905341 & -\\\\\n",
       "\t585931 &  585930 & ENSG00000070087.14 & PFN2       & protein\\_coding       & chr3  & 149964904 & 150050788 & -\\\\\n",
       "\t845107 &  845106 & ENSG00000146083.11 & RNF44      & protein\\_coding       & chr5  & 176526697 & 176538025 & -\\\\\n",
       "\t1731546 & 1731545 & ENSG00000279700.1  & AC131212.2 & TEC                  & chr12 & 132565071 & 132566425 & +\\\\\n",
       "\t322203 &  322202 & ENSG00000153561.12 & RMND5A     & protein\\_coding       & chr2  &  86720173 &  86778041 & +\\\\\n",
       "\t2372905 & 2372904 & ENSG00000179262.9  & RAD23A     & protein\\_coding       & chr19 &  12945855 &  12953642 & +\\\\\n",
       "\t2347336 & 2347335 & ENSG00000104833.11 & TUBB4A     & protein\\_coding       & chr19 &   6494319 &   6502848 & -\\\\\n",
       "\t2138328 & 2138327 & ENSG00000006695.10 & COX10      & protein\\_coding       & chr17 &  14069496 &  14208677 & +\\\\\n",
       "\t1375735 & 1375734 & ENSG00000095587.8  & TLL2       & protein\\_coding       & chr10 &  96364606 &  96513918 & -\\\\\n",
       "\t1208477 & 1208476 & ENSG00000167700.8  & MFSD3      & protein\\_coding       & chr8  & 144509074 & 144511213 & +\\\\\n",
       "\t870448 &  870447 & ENSG00000187475.5  & HIST1H1T   & protein\\_coding       & chr6  &  26107419 &  26108136 & -\\\\\n",
       "\t1993478 & 1993477 & ENSG00000008517.16 & IL32       & protein\\_coding       & chr16 &   3065297 &   3082192 & +\\\\\n",
       "\t2012933 & 2012932 & ENSG00000279415.1  & AC099494.2 & TEC                  & chr16 &  17227023 &  17228000 & -\\\\\n",
       "\t2235346 & 2235345 & ENSG00000266644.1  & AC103810.5 & antisense            & chr17 &  64899766 &  64900716 & +\\\\\n",
       "\t1366822 & 1366821 & ENSG00000227896.2  & AL731569.1 & antisense            & chr10 &  86521945 &  86525101 & +\\\\\n",
       "\t2500096 & 2500095 & ENSG00000101292.7  & PROKR2     & protein\\_coding       & chr20 &   5302040 &   5314369 & -\\\\\n",
       "\t1437702 & 1437701 & ENSG00000070081.16 & NUCB2      & protein\\_coding       & chr11 &  17208153 &  17349980 & +\\\\\n",
       "\t346735 &  346734 & ENSG00000088179.8  & PTPN4      & protein\\_coding       & chr2  & 119759631 & 119983818 & +\\\\\n",
       "\t2262716 & 2262715 & ENSG00000275479.1  & AC087741.2 & lincRNA              & chr17 &  80149627 &  80149798 & +\\\\\n",
       "\t1125180 & 1125179 & ENSG00000254092.1  & AC015468.3 & lincRNA              & chr8  &  20952645 &  20973877 & -\\\\\n",
       "\t⋮ & ⋮ & ⋮ & ⋮ & ⋮ & ⋮ & ⋮ & ⋮ & ⋮\\\\\n",
       "\t1431012 & 1431011 & ENSG00000268403.2  & AC132192.2 & antisense              & chr11 &   9459556 &   9460702 & -\\\\\n",
       "\t2323122 & 2323121 & ENSG00000279474.1  & AC125437.2 & TEC                    & chr18 &  79144752 &  79146918 & +\\\\\n",
       "\t1098893 & 1098892 & ENSG00000223459.6  & TCAF1P1    & unprocessed\\_pseudogene & chr7  & 143598039 & 143604839 & +\\\\\n",
       "\t323932 &  323931 & ENSG00000241294.1  & IGKV2-24   & IG\\_V\\_gene              & chr2  &  89176328 &  89177160 & -\\\\\n",
       "\t2144486 & 2144485 & ENSG00000171953.15 & ATPAF2     & protein\\_coding         & chr17 &  17977409 &  18039209 & -\\\\\n",
       "\t2382414 & 2382413 & ENSG00000186115.12 & CYP4F2     & protein\\_coding         & chr19 &  15878023 &  15898120 & -\\\\\n",
       "\t2611662 & 2611661 & ENSG00000213888.3  & LINC01521  & lincRNA                & chr22 &  31346777 &  31348719 & +\\\\\n",
       "\t281388 &  281387 & ENSG00000237803.5  & LINC00211  & lincRNA                & chr2  &  37826247 &  37876274 & -\\\\\n",
       "\t1163850 & 1163849 & ENSG00000260398.1  & AC068700.1 & sense\\_overlapping      & chr8  &  78605952 &  78609705 & +\\\\\n",
       "\t699892 &  699891 & ENSG00000170522.9  & ELOVL6     & protein\\_coding         & chr4  & 110045846 & 110199199 & -\\\\\n",
       "\t395575 &  395574 & ENSG00000162999.12 & DUSP19     & protein\\_coding         & chr2  & 183078559 & 183100005 & +\\\\\n",
       "\t2598137 & 2598136 & ENSG00000099991.17 & CABIN1     & protein\\_coding         & chr22 &  24011192 &  24178628 & +\\\\\n",
       "\t2668514 & 2668513 & ENSG00000102265.11 & TIMP1      & protein\\_coding         & chrX  &  47582313 &  47586789 & +\\\\\n",
       "\t856543 &  856542 & ENSG00000285578.1  & AL035696.4 & lincRNA                & chr6  &    184339 &    186899 & +\\\\\n",
       "\t2352301 & 2352300 & ENSG00000066044.14 & ELAVL1     & protein\\_coding         & chr19 &   7958579 &   8005659 & -\\\\\n",
       "\t2657235 & 2657234 & ENSG00000214124.3  & SNRPEP9    & processed\\_pseudogene   & chrX  &  24513450 &  24513687 & +\\\\\n",
       "\t986082 &  986081 & ENSG00000146587.17 & RBAK       & protein\\_coding         & chr7  &   5045821 &   5069488 & +\\\\\n",
       "\t788566 &  788565 & ENSG00000173930.8  & SLCO4C1    & protein\\_coding         & chr5  & 102233986 & 102296549 & -\\\\\n",
       "\t1322381 & 1322380 & ENSG00000107863.17 & ARHGAP21   & protein\\_coding         & chr10 &  24583609 &  24723668 & -\\\\\n",
       "\t2602539 & 2602538 & ENSG00000221760.1  & MIR548J    & miRNA                  & chr22 &  26555212 &  26555323 & -\\\\\n",
       "\t1601271 & 1601270 & ENSG00000213782.7  & DDX47      & protein\\_coding         & chr12 &  12813316 &  12829981 & +\\\\\n",
       "\t1034500 & 1034499 & ENSG00000146707.14 & POMZP3     & protein\\_coding         & chr7  &  76609986 &  76627261 & -\\\\\n",
       "\t332690 &  332689 & ENSG00000158417.10 & EIF5B      & protein\\_coding         & chr2  &  99337353 &  99401326 & +\\\\\n",
       "\t2504403 & 2504402 & ENSG00000089177.18 & KIF16B     & protein\\_coding         & chr20 &  16272104 &  16573434 & -\\\\\n",
       "\t196710 &  196709 & ENSG00000203729.8  & LINC00272  & lincRNA                & chr1  & 182407621 & 182414815 & +\\\\\n",
       "\t2710500 & 2710499 & ENSG00000009694.13 & TENM1      & protein\\_coding         & chrX  & 124375903 & 124963817 & -\\\\\n",
       "\t222746 &  222745 & ENSG00000123685.8  & BATF3      & protein\\_coding         & chr1  & 212686418 & 212699985 & -\\\\\n",
       "\t1121428 & 1121427 & ENSG00000265520.1  & MIR548V    & miRNA                  & chr8  &  17681578 &  17681657 & -\\\\\n",
       "\t2483083 & 2483082 & ENSG00000105063.18 & PPP6R1     & protein\\_coding         & chr19 &  55229780 &  55258995 & -\\\\\n",
       "\t2132170 & 2132169 & ENSG00000178921.13 & PFAS       & protein\\_coding         & chr17 &   8247618 &   8270491 & +\\\\\n",
       "\\end{tabular}\n"
      ],
      "text/markdown": [
       "\n",
       "A data.frame: 23263 × 8\n",
       "\n",
       "| <!--/--> | X &lt;int&gt; | gene_id &lt;chr&gt; | gene_name &lt;chr&gt; | gene_type &lt;chr&gt; | seqname &lt;chr&gt; | start &lt;int&gt; | end &lt;int&gt; | strand &lt;chr&gt; |\n",
       "|---|---|---|---|---|---|---|---|---|\n",
       "| 1553274 | 1553273 | ENSG00000280143.1  | AP000892.3 | TEC                  | chr11 | 117204967 | 117210292 | + |\n",
       "| 2400893 | 2400892 | ENSG00000269416.5  | LINC01224  | lincRNA              | chr19 |  23399233 |  23416075 | - |\n",
       "| 653470 |  653469 | ENSG00000263642.1  | MIR4802    | miRNA                | chr4  |  40502040 |  40502119 | - |\n",
       "| 2157821 | 2157820 | ENSG00000198242.13 | RPL23A     | protein_coding       | chr17 |  28719393 |  28724359 | + |\n",
       "| 1767755 | 1767754 | ENSG00000231981.3  | RPL7L1P12  | processed_pseudogene | chr13 |  98949719 |  98950447 | - |\n",
       "| 458779 |  458778 | ENSG00000134108.12 | ARL8B      | protein_coding       | chr3  |   5122220 |   5180912 | + |\n",
       "| 1759388 | 1759387 | ENSG00000276644.4  | DACH1      | protein_coding       | chr13 |  71437966 |  71867192 | - |\n",
       "| 33611 |   33610 | ENSG00000231105.1  | AL031728.1 | antisense            | chr1  |  21293290 |  21299774 | + |\n",
       "| 2430783 | 2430782 | ENSG00000167578.17 | RAB4B      | protein_coding       | chr19 |  40778216 |  40796938 | + |\n",
       "| 2566917 | 2566916 | ENSG00000236830.6  | CBR3-AS1   | processed_transcript | chr21 |  36131767 |  36175815 | - |\n",
       "| 1273453 | 1273452 | ENSG00000056586.15 | RC3H2      | protein_coding       | chr9  | 122844556 | 122905341 | - |\n",
       "| 585931 |  585930 | ENSG00000070087.14 | PFN2       | protein_coding       | chr3  | 149964904 | 150050788 | - |\n",
       "| 845107 |  845106 | ENSG00000146083.11 | RNF44      | protein_coding       | chr5  | 176526697 | 176538025 | - |\n",
       "| 1731546 | 1731545 | ENSG00000279700.1  | AC131212.2 | TEC                  | chr12 | 132565071 | 132566425 | + |\n",
       "| 322203 |  322202 | ENSG00000153561.12 | RMND5A     | protein_coding       | chr2  |  86720173 |  86778041 | + |\n",
       "| 2372905 | 2372904 | ENSG00000179262.9  | RAD23A     | protein_coding       | chr19 |  12945855 |  12953642 | + |\n",
       "| 2347336 | 2347335 | ENSG00000104833.11 | TUBB4A     | protein_coding       | chr19 |   6494319 |   6502848 | - |\n",
       "| 2138328 | 2138327 | ENSG00000006695.10 | COX10      | protein_coding       | chr17 |  14069496 |  14208677 | + |\n",
       "| 1375735 | 1375734 | ENSG00000095587.8  | TLL2       | protein_coding       | chr10 |  96364606 |  96513918 | - |\n",
       "| 1208477 | 1208476 | ENSG00000167700.8  | MFSD3      | protein_coding       | chr8  | 144509074 | 144511213 | + |\n",
       "| 870448 |  870447 | ENSG00000187475.5  | HIST1H1T   | protein_coding       | chr6  |  26107419 |  26108136 | - |\n",
       "| 1993478 | 1993477 | ENSG00000008517.16 | IL32       | protein_coding       | chr16 |   3065297 |   3082192 | + |\n",
       "| 2012933 | 2012932 | ENSG00000279415.1  | AC099494.2 | TEC                  | chr16 |  17227023 |  17228000 | - |\n",
       "| 2235346 | 2235345 | ENSG00000266644.1  | AC103810.5 | antisense            | chr17 |  64899766 |  64900716 | + |\n",
       "| 1366822 | 1366821 | ENSG00000227896.2  | AL731569.1 | antisense            | chr10 |  86521945 |  86525101 | + |\n",
       "| 2500096 | 2500095 | ENSG00000101292.7  | PROKR2     | protein_coding       | chr20 |   5302040 |   5314369 | - |\n",
       "| 1437702 | 1437701 | ENSG00000070081.16 | NUCB2      | protein_coding       | chr11 |  17208153 |  17349980 | + |\n",
       "| 346735 |  346734 | ENSG00000088179.8  | PTPN4      | protein_coding       | chr2  | 119759631 | 119983818 | + |\n",
       "| 2262716 | 2262715 | ENSG00000275479.1  | AC087741.2 | lincRNA              | chr17 |  80149627 |  80149798 | + |\n",
       "| 1125180 | 1125179 | ENSG00000254092.1  | AC015468.3 | lincRNA              | chr8  |  20952645 |  20973877 | - |\n",
       "| ⋮ | ⋮ | ⋮ | ⋮ | ⋮ | ⋮ | ⋮ | ⋮ | ⋮ |\n",
       "| 1431012 | 1431011 | ENSG00000268403.2  | AC132192.2 | antisense              | chr11 |   9459556 |   9460702 | - |\n",
       "| 2323122 | 2323121 | ENSG00000279474.1  | AC125437.2 | TEC                    | chr18 |  79144752 |  79146918 | + |\n",
       "| 1098893 | 1098892 | ENSG00000223459.6  | TCAF1P1    | unprocessed_pseudogene | chr7  | 143598039 | 143604839 | + |\n",
       "| 323932 |  323931 | ENSG00000241294.1  | IGKV2-24   | IG_V_gene              | chr2  |  89176328 |  89177160 | - |\n",
       "| 2144486 | 2144485 | ENSG00000171953.15 | ATPAF2     | protein_coding         | chr17 |  17977409 |  18039209 | - |\n",
       "| 2382414 | 2382413 | ENSG00000186115.12 | CYP4F2     | protein_coding         | chr19 |  15878023 |  15898120 | - |\n",
       "| 2611662 | 2611661 | ENSG00000213888.3  | LINC01521  | lincRNA                | chr22 |  31346777 |  31348719 | + |\n",
       "| 281388 |  281387 | ENSG00000237803.5  | LINC00211  | lincRNA                | chr2  |  37826247 |  37876274 | - |\n",
       "| 1163850 | 1163849 | ENSG00000260398.1  | AC068700.1 | sense_overlapping      | chr8  |  78605952 |  78609705 | + |\n",
       "| 699892 |  699891 | ENSG00000170522.9  | ELOVL6     | protein_coding         | chr4  | 110045846 | 110199199 | - |\n",
       "| 395575 |  395574 | ENSG00000162999.12 | DUSP19     | protein_coding         | chr2  | 183078559 | 183100005 | + |\n",
       "| 2598137 | 2598136 | ENSG00000099991.17 | CABIN1     | protein_coding         | chr22 |  24011192 |  24178628 | + |\n",
       "| 2668514 | 2668513 | ENSG00000102265.11 | TIMP1      | protein_coding         | chrX  |  47582313 |  47586789 | + |\n",
       "| 856543 |  856542 | ENSG00000285578.1  | AL035696.4 | lincRNA                | chr6  |    184339 |    186899 | + |\n",
       "| 2352301 | 2352300 | ENSG00000066044.14 | ELAVL1     | protein_coding         | chr19 |   7958579 |   8005659 | - |\n",
       "| 2657235 | 2657234 | ENSG00000214124.3  | SNRPEP9    | processed_pseudogene   | chrX  |  24513450 |  24513687 | + |\n",
       "| 986082 |  986081 | ENSG00000146587.17 | RBAK       | protein_coding         | chr7  |   5045821 |   5069488 | + |\n",
       "| 788566 |  788565 | ENSG00000173930.8  | SLCO4C1    | protein_coding         | chr5  | 102233986 | 102296549 | - |\n",
       "| 1322381 | 1322380 | ENSG00000107863.17 | ARHGAP21   | protein_coding         | chr10 |  24583609 |  24723668 | - |\n",
       "| 2602539 | 2602538 | ENSG00000221760.1  | MIR548J    | miRNA                  | chr22 |  26555212 |  26555323 | - |\n",
       "| 1601271 | 1601270 | ENSG00000213782.7  | DDX47      | protein_coding         | chr12 |  12813316 |  12829981 | + |\n",
       "| 1034500 | 1034499 | ENSG00000146707.14 | POMZP3     | protein_coding         | chr7  |  76609986 |  76627261 | - |\n",
       "| 332690 |  332689 | ENSG00000158417.10 | EIF5B      | protein_coding         | chr2  |  99337353 |  99401326 | + |\n",
       "| 2504403 | 2504402 | ENSG00000089177.18 | KIF16B     | protein_coding         | chr20 |  16272104 |  16573434 | - |\n",
       "| 196710 |  196709 | ENSG00000203729.8  | LINC00272  | lincRNA                | chr1  | 182407621 | 182414815 | + |\n",
       "| 2710500 | 2710499 | ENSG00000009694.13 | TENM1      | protein_coding         | chrX  | 124375903 | 124963817 | - |\n",
       "| 222746 |  222745 | ENSG00000123685.8  | BATF3      | protein_coding         | chr1  | 212686418 | 212699985 | - |\n",
       "| 1121428 | 1121427 | ENSG00000265520.1  | MIR548V    | miRNA                  | chr8  |  17681578 |  17681657 | - |\n",
       "| 2483083 | 2483082 | ENSG00000105063.18 | PPP6R1     | protein_coding         | chr19 |  55229780 |  55258995 | - |\n",
       "| 2132170 | 2132169 | ENSG00000178921.13 | PFAS       | protein_coding         | chr17 |   8247618 |   8270491 | + |\n",
       "\n"
      ],
      "text/plain": [
       "        X       gene_id            gene_name  gene_type              seqname\n",
       "1553274 1553273 ENSG00000280143.1  AP000892.3 TEC                    chr11  \n",
       "2400893 2400892 ENSG00000269416.5  LINC01224  lincRNA                chr19  \n",
       "653470   653469 ENSG00000263642.1  MIR4802    miRNA                  chr4   \n",
       "2157821 2157820 ENSG00000198242.13 RPL23A     protein_coding         chr17  \n",
       "1767755 1767754 ENSG00000231981.3  RPL7L1P12  processed_pseudogene   chr13  \n",
       "458779   458778 ENSG00000134108.12 ARL8B      protein_coding         chr3   \n",
       "1759388 1759387 ENSG00000276644.4  DACH1      protein_coding         chr13  \n",
       "33611     33610 ENSG00000231105.1  AL031728.1 antisense              chr1   \n",
       "2430783 2430782 ENSG00000167578.17 RAB4B      protein_coding         chr19  \n",
       "2566917 2566916 ENSG00000236830.6  CBR3-AS1   processed_transcript   chr21  \n",
       "1273453 1273452 ENSG00000056586.15 RC3H2      protein_coding         chr9   \n",
       "585931   585930 ENSG00000070087.14 PFN2       protein_coding         chr3   \n",
       "845107   845106 ENSG00000146083.11 RNF44      protein_coding         chr5   \n",
       "1731546 1731545 ENSG00000279700.1  AC131212.2 TEC                    chr12  \n",
       "322203   322202 ENSG00000153561.12 RMND5A     protein_coding         chr2   \n",
       "2372905 2372904 ENSG00000179262.9  RAD23A     protein_coding         chr19  \n",
       "2347336 2347335 ENSG00000104833.11 TUBB4A     protein_coding         chr19  \n",
       "2138328 2138327 ENSG00000006695.10 COX10      protein_coding         chr17  \n",
       "1375735 1375734 ENSG00000095587.8  TLL2       protein_coding         chr10  \n",
       "1208477 1208476 ENSG00000167700.8  MFSD3      protein_coding         chr8   \n",
       "870448   870447 ENSG00000187475.5  HIST1H1T   protein_coding         chr6   \n",
       "1993478 1993477 ENSG00000008517.16 IL32       protein_coding         chr16  \n",
       "2012933 2012932 ENSG00000279415.1  AC099494.2 TEC                    chr16  \n",
       "2235346 2235345 ENSG00000266644.1  AC103810.5 antisense              chr17  \n",
       "1366822 1366821 ENSG00000227896.2  AL731569.1 antisense              chr10  \n",
       "2500096 2500095 ENSG00000101292.7  PROKR2     protein_coding         chr20  \n",
       "1437702 1437701 ENSG00000070081.16 NUCB2      protein_coding         chr11  \n",
       "346735   346734 ENSG00000088179.8  PTPN4      protein_coding         chr2   \n",
       "2262716 2262715 ENSG00000275479.1  AC087741.2 lincRNA                chr17  \n",
       "1125180 1125179 ENSG00000254092.1  AC015468.3 lincRNA                chr8   \n",
       "⋮       ⋮       ⋮                  ⋮          ⋮                      ⋮      \n",
       "1431012 1431011 ENSG00000268403.2  AC132192.2 antisense              chr11  \n",
       "2323122 2323121 ENSG00000279474.1  AC125437.2 TEC                    chr18  \n",
       "1098893 1098892 ENSG00000223459.6  TCAF1P1    unprocessed_pseudogene chr7   \n",
       "323932   323931 ENSG00000241294.1  IGKV2-24   IG_V_gene              chr2   \n",
       "2144486 2144485 ENSG00000171953.15 ATPAF2     protein_coding         chr17  \n",
       "2382414 2382413 ENSG00000186115.12 CYP4F2     protein_coding         chr19  \n",
       "2611662 2611661 ENSG00000213888.3  LINC01521  lincRNA                chr22  \n",
       "281388   281387 ENSG00000237803.5  LINC00211  lincRNA                chr2   \n",
       "1163850 1163849 ENSG00000260398.1  AC068700.1 sense_overlapping      chr8   \n",
       "699892   699891 ENSG00000170522.9  ELOVL6     protein_coding         chr4   \n",
       "395575   395574 ENSG00000162999.12 DUSP19     protein_coding         chr2   \n",
       "2598137 2598136 ENSG00000099991.17 CABIN1     protein_coding         chr22  \n",
       "2668514 2668513 ENSG00000102265.11 TIMP1      protein_coding         chrX   \n",
       "856543   856542 ENSG00000285578.1  AL035696.4 lincRNA                chr6   \n",
       "2352301 2352300 ENSG00000066044.14 ELAVL1     protein_coding         chr19  \n",
       "2657235 2657234 ENSG00000214124.3  SNRPEP9    processed_pseudogene   chrX   \n",
       "986082   986081 ENSG00000146587.17 RBAK       protein_coding         chr7   \n",
       "788566   788565 ENSG00000173930.8  SLCO4C1    protein_coding         chr5   \n",
       "1322381 1322380 ENSG00000107863.17 ARHGAP21   protein_coding         chr10  \n",
       "2602539 2602538 ENSG00000221760.1  MIR548J    miRNA                  chr22  \n",
       "1601271 1601270 ENSG00000213782.7  DDX47      protein_coding         chr12  \n",
       "1034500 1034499 ENSG00000146707.14 POMZP3     protein_coding         chr7   \n",
       "332690   332689 ENSG00000158417.10 EIF5B      protein_coding         chr2   \n",
       "2504403 2504402 ENSG00000089177.18 KIF16B     protein_coding         chr20  \n",
       "196710   196709 ENSG00000203729.8  LINC00272  lincRNA                chr1   \n",
       "2710500 2710499 ENSG00000009694.13 TENM1      protein_coding         chrX   \n",
       "222746   222745 ENSG00000123685.8  BATF3      protein_coding         chr1   \n",
       "1121428 1121427 ENSG00000265520.1  MIR548V    miRNA                  chr8   \n",
       "2483083 2483082 ENSG00000105063.18 PPP6R1     protein_coding         chr19  \n",
       "2132170 2132169 ENSG00000178921.13 PFAS       protein_coding         chr17  \n",
       "        start     end       strand\n",
       "1553274 117204967 117210292 +     \n",
       "2400893  23399233  23416075 -     \n",
       "653470   40502040  40502119 -     \n",
       "2157821  28719393  28724359 +     \n",
       "1767755  98949719  98950447 -     \n",
       "458779    5122220   5180912 +     \n",
       "1759388  71437966  71867192 -     \n",
       "33611    21293290  21299774 +     \n",
       "2430783  40778216  40796938 +     \n",
       "2566917  36131767  36175815 -     \n",
       "1273453 122844556 122905341 -     \n",
       "585931  149964904 150050788 -     \n",
       "845107  176526697 176538025 -     \n",
       "1731546 132565071 132566425 +     \n",
       "322203   86720173  86778041 +     \n",
       "2372905  12945855  12953642 +     \n",
       "2347336   6494319   6502848 -     \n",
       "2138328  14069496  14208677 +     \n",
       "1375735  96364606  96513918 -     \n",
       "1208477 144509074 144511213 +     \n",
       "870448   26107419  26108136 -     \n",
       "1993478   3065297   3082192 +     \n",
       "2012933  17227023  17228000 -     \n",
       "2235346  64899766  64900716 +     \n",
       "1366822  86521945  86525101 +     \n",
       "2500096   5302040   5314369 -     \n",
       "1437702  17208153  17349980 +     \n",
       "346735  119759631 119983818 +     \n",
       "2262716  80149627  80149798 +     \n",
       "1125180  20952645  20973877 -     \n",
       "⋮       ⋮         ⋮         ⋮     \n",
       "1431012   9459556   9460702 -     \n",
       "2323122  79144752  79146918 +     \n",
       "1098893 143598039 143604839 +     \n",
       "323932   89176328  89177160 -     \n",
       "2144486  17977409  18039209 -     \n",
       "2382414  15878023  15898120 -     \n",
       "2611662  31346777  31348719 +     \n",
       "281388   37826247  37876274 -     \n",
       "1163850  78605952  78609705 +     \n",
       "699892  110045846 110199199 -     \n",
       "395575  183078559 183100005 +     \n",
       "2598137  24011192  24178628 +     \n",
       "2668514  47582313  47586789 +     \n",
       "856543     184339    186899 +     \n",
       "2352301   7958579   8005659 -     \n",
       "2657235  24513450  24513687 +     \n",
       "986082    5045821   5069488 +     \n",
       "788566  102233986 102296549 -     \n",
       "1322381  24583609  24723668 -     \n",
       "2602539  26555212  26555323 -     \n",
       "1601271  12813316  12829981 +     \n",
       "1034500  76609986  76627261 -     \n",
       "332690   99337353  99401326 +     \n",
       "2504403  16272104  16573434 -     \n",
       "196710  182407621 182414815 +     \n",
       "2710500 124375903 124963817 -     \n",
       "222746  212686418 212699985 -     \n",
       "1121428  17681578  17681657 -     \n",
       "2483083  55229780  55258995 -     \n",
       "2132170   8247618   8270491 +     "
      ]
     },
     "metadata": {},
     "output_type": "display_data"
    }
   ],
   "source": [
    "genes.anno.Match"
   ]
  },
  {
   "cell_type": "code",
   "execution_count": 142,
   "metadata": {
    "scrolled": true
   },
   "outputs": [
    {
     "data": {
      "text/html": [
       "TRUE"
      ],
      "text/latex": [
       "TRUE"
      ],
      "text/markdown": [
       "TRUE"
      ],
      "text/plain": [
       "[1] TRUE"
      ]
     },
     "metadata": {},
     "output_type": "display_data"
    }
   ],
   "source": [
    "identical(genes.anno.Match$gene_id, row.names(dge$counts)) #double checking"
   ]
  },
  {
   "cell_type": "code",
   "execution_count": 143,
   "metadata": {},
   "outputs": [],
   "source": [
    "dge$genes <- genes.anno.Match"
   ]
  },
  {
   "cell_type": "code",
   "execution_count": 144,
   "metadata": {},
   "outputs": [
    {
     "data": {
      "text/html": [
       "<style>\n",
       ".list-inline {list-style: none; margin:0; padding: 0}\n",
       ".list-inline>li {display: inline-block}\n",
       ".list-inline>li:not(:last-child)::after {content: \"\\00b7\"; padding: 0 .5ex}\n",
       "</style>\n",
       "<ol class=list-inline><li>23263</li><li>51</li></ol>\n"
      ],
      "text/latex": [
       "\\begin{enumerate*}\n",
       "\\item 23263\n",
       "\\item 51\n",
       "\\end{enumerate*}\n"
      ],
      "text/markdown": [
       "1. 23263\n",
       "2. 51\n",
       "\n",
       "\n"
      ],
      "text/plain": [
       "[1] 23263    51"
      ]
     },
     "metadata": {},
     "output_type": "display_data"
    }
   ],
   "source": [
    "dim(dge) #where rows are the samples"
   ]
  },
  {
   "cell_type": "code",
   "execution_count": 145,
   "metadata": {},
   "outputs": [],
   "source": [
    "CPM <- cpm(dge) #used to calculate counts per million (CPM) values for a matrix or data frame of\n",
    "#normalized counts. CPM values are commonly used to normalize and compare gene expression levels across different samples."
   ]
  },
  {
   "cell_type": "code",
   "execution_count": 146,
   "metadata": {},
   "outputs": [],
   "source": [
    "logCPM <- cpm(dge, log = TRUE, prior.count = 3)"
   ]
  },
  {
   "cell_type": "code",
   "execution_count": 147,
   "metadata": {},
   "outputs": [
    {
     "data": {
      "text/html": [
       "<table class=\"dataframe\">\n",
       "<caption>A matrix: 5 × 5 of type chr</caption>\n",
       "<thead>\n",
       "\t<tr><th></th><th scope=col>gene_name</th><th scope=col>BF-1003-SVM0_5T1</th><th scope=col>BF-1004-SVM0_5T1</th><th scope=col>BF-1015-SVM0_5T1</th><th scope=col>BF-1032-SVM0_5T1</th></tr>\n",
       "</thead>\n",
       "<tbody>\n",
       "\t<tr><th scope=row>ENSG00000280143.1</th><td>AP000892.3</td><td>0.566477318865705</td><td>0.333733234115086</td><td>0.374226796607888</td><td>0.198601005243144</td></tr>\n",
       "\t<tr><th scope=row>ENSG00000269416.5</th><td>LINC01224 </td><td>0                </td><td>0                </td><td>0                </td><td>0.066200335081048</td></tr>\n",
       "\t<tr><th scope=row>ENSG00000263642.1</th><td>MIR4802   </td><td>2.11141546122672 </td><td>3.78230998663764 </td><td>0.748453593215777</td><td>1.78740904718829 </td></tr>\n",
       "\t<tr><th scope=row>ENSG00000198242.13</th><td>RPL23A    </td><td>371.763614990139 </td><td>265.151054504436 </td><td>372.605147155921 </td><td>340.071121311343 </td></tr>\n",
       "\t<tr><th scope=row>ENSG00000231981.3</th><td>RPL7L1P12 </td><td>1.49344020428231 </td><td>0.834333085287715</td><td>1.74639171750348 </td><td>1.19160603145886 </td></tr>\n",
       "</tbody>\n",
       "</table>\n"
      ],
      "text/latex": [
       "A matrix: 5 × 5 of type chr\n",
       "\\begin{tabular}{r|lllll}\n",
       "  & gene\\_name & BF-1003-SVM0\\_5T1 & BF-1004-SVM0\\_5T1 & BF-1015-SVM0\\_5T1 & BF-1032-SVM0\\_5T1\\\\\n",
       "\\hline\n",
       "\tENSG00000280143.1 & AP000892.3 & 0.566477318865705 & 0.333733234115086 & 0.374226796607888 & 0.198601005243144\\\\\n",
       "\tENSG00000269416.5 & LINC01224  & 0                 & 0                 & 0                 & 0.066200335081048\\\\\n",
       "\tENSG00000263642.1 & MIR4802    & 2.11141546122672  & 3.78230998663764  & 0.748453593215777 & 1.78740904718829 \\\\\n",
       "\tENSG00000198242.13 & RPL23A     & 371.763614990139  & 265.151054504436  & 372.605147155921  & 340.071121311343 \\\\\n",
       "\tENSG00000231981.3 & RPL7L1P12  & 1.49344020428231  & 0.834333085287715 & 1.74639171750348  & 1.19160603145886 \\\\\n",
       "\\end{tabular}\n"
      ],
      "text/markdown": [
       "\n",
       "A matrix: 5 × 5 of type chr\n",
       "\n",
       "| <!--/--> | gene_name | BF-1003-SVM0_5T1 | BF-1004-SVM0_5T1 | BF-1015-SVM0_5T1 | BF-1032-SVM0_5T1 |\n",
       "|---|---|---|---|---|---|\n",
       "| ENSG00000280143.1 | AP000892.3 | 0.566477318865705 | 0.333733234115086 | 0.374226796607888 | 0.198601005243144 |\n",
       "| ENSG00000269416.5 | LINC01224  | 0                 | 0                 | 0                 | 0.066200335081048 |\n",
       "| ENSG00000263642.1 | MIR4802    | 2.11141546122672  | 3.78230998663764  | 0.748453593215777 | 1.78740904718829  |\n",
       "| ENSG00000198242.13 | RPL23A     | 371.763614990139  | 265.151054504436  | 372.605147155921  | 340.071121311343  |\n",
       "| ENSG00000231981.3 | RPL7L1P12  | 1.49344020428231  | 0.834333085287715 | 1.74639171750348  | 1.19160603145886  |\n",
       "\n"
      ],
      "text/plain": [
       "                   gene_name  BF-1003-SVM0_5T1  BF-1004-SVM0_5T1 \n",
       "ENSG00000280143.1  AP000892.3 0.566477318865705 0.333733234115086\n",
       "ENSG00000269416.5  LINC01224  0                 0                \n",
       "ENSG00000263642.1  MIR4802    2.11141546122672  3.78230998663764 \n",
       "ENSG00000198242.13 RPL23A     371.763614990139  265.151054504436 \n",
       "ENSG00000231981.3  RPL7L1P12  1.49344020428231  0.834333085287715\n",
       "                   BF-1015-SVM0_5T1  BF-1032-SVM0_5T1 \n",
       "ENSG00000280143.1  0.374226796607888 0.198601005243144\n",
       "ENSG00000269416.5  0                 0.066200335081048\n",
       "ENSG00000263642.1  0.748453593215777 1.78740904718829 \n",
       "ENSG00000198242.13 372.605147155921  340.071121311343 \n",
       "ENSG00000231981.3  1.74639171750348  1.19160603145886 "
      ]
     },
     "metadata": {},
     "output_type": "display_data"
    }
   ],
   "source": [
    "cpm_names <- cbind(gene_name=genes.anno.Match$gene_name, CPM) #it was binded the gene name from gene anno and the cpm matrix from\n",
    "#the count_table matrix. \n",
    "head(cpm_names)[1:5,1:5] #when CPM ==0?"
   ]
  },
  {
   "cell_type": "code",
   "execution_count": 148,
   "metadata": {},
   "outputs": [
    {
     "data": {
      "text/html": [
       "<style>\n",
       ".list-inline {list-style: none; margin:0; padding: 0}\n",
       ".list-inline>li {display: inline-block}\n",
       ".list-inline>li:not(:last-child)::after {content: \"\\00b7\"; padding: 0 .5ex}\n",
       "</style>\n",
       "<ol class=list-inline><li>23263</li><li>52</li></ol>\n"
      ],
      "text/latex": [
       "\\begin{enumerate*}\n",
       "\\item 23263\n",
       "\\item 52\n",
       "\\end{enumerate*}\n"
      ],
      "text/markdown": [
       "1. 23263\n",
       "2. 52\n",
       "\n",
       "\n"
      ],
      "text/plain": [
       "[1] 23263    52"
      ]
     },
     "metadata": {},
     "output_type": "display_data"
    }
   ],
   "source": [
    "dim(cpm_names) #just one column more: gene_name"
   ]
  },
  {
   "cell_type": "code",
   "execution_count": 149,
   "metadata": {},
   "outputs": [
    {
     "data": {
      "text/html": [
       "<table class=\"dataframe\">\n",
       "<caption>A data.frame: 5 × 5</caption>\n",
       "<thead>\n",
       "\t<tr><th></th><th scope=col>gene_name</th><th scope=col>BF-1003-SVM0_5T1</th><th scope=col>BF-1004-SVM0_5T1</th><th scope=col>BF-1015-SVM0_5T1</th><th scope=col>BF-1032-SVM0_5T1</th></tr>\n",
       "\t<tr><th></th><th scope=col>&lt;chr&gt;</th><th scope=col>&lt;chr&gt;</th><th scope=col>&lt;chr&gt;</th><th scope=col>&lt;chr&gt;</th><th scope=col>&lt;chr&gt;</th></tr>\n",
       "</thead>\n",
       "<tbody>\n",
       "\t<tr><th scope=row>ENSG00000280143.1</th><td>AP000892.3</td><td>0.566477318865705</td><td>0.333733234115086</td><td>0.374226796607888</td><td>0.198601005243144</td></tr>\n",
       "\t<tr><th scope=row>ENSG00000269416.5</th><td>LINC01224 </td><td>0                </td><td>0                </td><td>0                </td><td>0.066200335081048</td></tr>\n",
       "\t<tr><th scope=row>ENSG00000263642.1</th><td>MIR4802   </td><td>2.11141546122672 </td><td>3.78230998663764 </td><td>0.748453593215777</td><td>1.78740904718829 </td></tr>\n",
       "\t<tr><th scope=row>ENSG00000198242.13</th><td>RPL23A    </td><td>371.763614990139 </td><td>265.151054504436 </td><td>372.605147155921 </td><td>340.071121311343 </td></tr>\n",
       "\t<tr><th scope=row>ENSG00000231981.3</th><td>RPL7L1P12 </td><td>1.49344020428231 </td><td>0.834333085287715</td><td>1.74639171750348 </td><td>1.19160603145886 </td></tr>\n",
       "</tbody>\n",
       "</table>\n"
      ],
      "text/latex": [
       "A data.frame: 5 × 5\n",
       "\\begin{tabular}{r|lllll}\n",
       "  & gene\\_name & BF-1003-SVM0\\_5T1 & BF-1004-SVM0\\_5T1 & BF-1015-SVM0\\_5T1 & BF-1032-SVM0\\_5T1\\\\\n",
       "  & <chr> & <chr> & <chr> & <chr> & <chr>\\\\\n",
       "\\hline\n",
       "\tENSG00000280143.1 & AP000892.3 & 0.566477318865705 & 0.333733234115086 & 0.374226796607888 & 0.198601005243144\\\\\n",
       "\tENSG00000269416.5 & LINC01224  & 0                 & 0                 & 0                 & 0.066200335081048\\\\\n",
       "\tENSG00000263642.1 & MIR4802    & 2.11141546122672  & 3.78230998663764  & 0.748453593215777 & 1.78740904718829 \\\\\n",
       "\tENSG00000198242.13 & RPL23A     & 371.763614990139  & 265.151054504436  & 372.605147155921  & 340.071121311343 \\\\\n",
       "\tENSG00000231981.3 & RPL7L1P12  & 1.49344020428231  & 0.834333085287715 & 1.74639171750348  & 1.19160603145886 \\\\\n",
       "\\end{tabular}\n"
      ],
      "text/markdown": [
       "\n",
       "A data.frame: 5 × 5\n",
       "\n",
       "| <!--/--> | gene_name &lt;chr&gt; | BF-1003-SVM0_5T1 &lt;chr&gt; | BF-1004-SVM0_5T1 &lt;chr&gt; | BF-1015-SVM0_5T1 &lt;chr&gt; | BF-1032-SVM0_5T1 &lt;chr&gt; |\n",
       "|---|---|---|---|---|---|\n",
       "| ENSG00000280143.1 | AP000892.3 | 0.566477318865705 | 0.333733234115086 | 0.374226796607888 | 0.198601005243144 |\n",
       "| ENSG00000269416.5 | LINC01224  | 0                 | 0                 | 0                 | 0.066200335081048 |\n",
       "| ENSG00000263642.1 | MIR4802    | 2.11141546122672  | 3.78230998663764  | 0.748453593215777 | 1.78740904718829  |\n",
       "| ENSG00000198242.13 | RPL23A     | 371.763614990139  | 265.151054504436  | 372.605147155921  | 340.071121311343  |\n",
       "| ENSG00000231981.3 | RPL7L1P12  | 1.49344020428231  | 0.834333085287715 | 1.74639171750348  | 1.19160603145886  |\n",
       "\n"
      ],
      "text/plain": [
       "                   gene_name  BF-1003-SVM0_5T1  BF-1004-SVM0_5T1 \n",
       "ENSG00000280143.1  AP000892.3 0.566477318865705 0.333733234115086\n",
       "ENSG00000269416.5  LINC01224  0                 0                \n",
       "ENSG00000263642.1  MIR4802    2.11141546122672  3.78230998663764 \n",
       "ENSG00000198242.13 RPL23A     371.763614990139  265.151054504436 \n",
       "ENSG00000231981.3  RPL7L1P12  1.49344020428231  0.834333085287715\n",
       "                   BF-1015-SVM0_5T1  BF-1032-SVM0_5T1 \n",
       "ENSG00000280143.1  0.374226796607888 0.198601005243144\n",
       "ENSG00000269416.5  0                 0.066200335081048\n",
       "ENSG00000263642.1  0.748453593215777 1.78740904718829 \n",
       "ENSG00000198242.13 372.605147155921  340.071121311343 \n",
       "ENSG00000231981.3  1.74639171750348  1.19160603145886 "
      ]
     },
     "metadata": {},
     "output_type": "display_data"
    },
    {
     "data": {
      "text/html": [
       "<style>\n",
       ".list-inline {list-style: none; margin:0; padding: 0}\n",
       ".list-inline>li {display: inline-block}\n",
       ".list-inline>li:not(:last-child)::after {content: \"\\00b7\"; padding: 0 .5ex}\n",
       "</style>\n",
       "<ol class=list-inline><li>23263</li><li>52</li></ol>\n"
      ],
      "text/latex": [
       "\\begin{enumerate*}\n",
       "\\item 23263\n",
       "\\item 52\n",
       "\\end{enumerate*}\n"
      ],
      "text/markdown": [
       "1. 23263\n",
       "2. 52\n",
       "\n",
       "\n"
      ],
      "text/plain": [
       "[1] 23263    52"
      ]
     },
     "metadata": {},
     "output_type": "display_data"
    },
    {
     "data": {
      "text/html": [
       "<style>\n",
       ".list-inline {list-style: none; margin:0; padding: 0}\n",
       ".list-inline>li {display: inline-block}\n",
       ".list-inline>li:not(:last-child)::after {content: \"\\00b7\"; padding: 0 .5ex}\n",
       "</style>\n",
       "<ol class=list-inline><li>23065</li><li>52</li></ol>\n"
      ],
      "text/latex": [
       "\\begin{enumerate*}\n",
       "\\item 23065\n",
       "\\item 52\n",
       "\\end{enumerate*}\n"
      ],
      "text/markdown": [
       "1. 23065\n",
       "2. 52\n",
       "\n",
       "\n"
      ],
      "text/plain": [
       "[1] 23065    52"
      ]
     },
     "metadata": {},
     "output_type": "display_data"
    }
   ],
   "source": [
    "cpm_names_dist <- distinct(as.data.frame(cpm_names), gene_name, .keep_all = TRUE)\n",
    "head(cpm_names_dist)[1:5,1:5]\n",
    "dim(cpm_names)\n",
    "dim(cpm_names_dist)"
   ]
  },
  {
   "cell_type": "markdown",
   "metadata": {},
   "source": [
    "Limma voom, fit, and eBayes"
   ]
  },
  {
   "cell_type": "code",
   "execution_count": 150,
   "metadata": {
    "scrolled": false
   },
   "outputs": [
    {
     "data": {
      "image/png": "[encoded data removed]",
      "text/plain": [
       "Plot with title “voom: Mean-variance trend”"
      ]
     },
     "metadata": {
      "image/png": {
       "height": 420,
       "width": 420
      }
     },
     "output_type": "display_data"
    }
   ],
   "source": [
    "#Transform count data to log2-counts per million (logCPM), estimate the mean-variance relationship and use this to compute appropriate observational-level weights.\n",
    "#The data are then ready for linear modelling.\n",
    "v <- voom(dge, design, plot=TRUE) #check voom plot for curve to see if we need to do more filtering\n",
    "# voom is used to transform RNA-seq count data into log-counts-per-million (logCPM) values suitable for linear modeling and differential expression analysis.\n",
    "\n",
    "#design: A design matrix or model matrix specifying the experimental design and contrasts of interest for differential expression analysis."
   ]
  },
  {
   "cell_type": "code",
   "execution_count": 151,
   "metadata": {},
   "outputs": [],
   "source": [
    "#compute linear model fit for each gene, given our design and the results from voom\n",
    "vfit <- lmFit(v, design)\n",
    "vfit.con1 <- contrasts.fit(vfit, contrasts=contr.matrix) \n",
    "#The lmFit() function is a part of the limma package in R.\n",
    "#It is used for fitting linear models to gene expression data, particularly for \n",
    "#differential expression analysis in microarray and RNA-seq experiments."
   ]
  },
  {
   "cell_type": "markdown",
   "metadata": {},
   "source": [
    "The eBayes() function applies an empirical Bayes method to estimate the overall distribution of gene-specific variances. It shrinks the estimated gene-specific variances towards a common value, resulting in more stable and moderated estimates. This shrinkage improves the accuracy of statistical inference, especially in cases where the number of samples is small."
   ]
  },
  {
   "cell_type": "code",
   "execution_count": 152,
   "metadata": {},
   "outputs": [],
   "source": [
    "#Given a linear model fit, compute moderated t-statistics, moderated F-statistic, and log-odds of differential expression by empirical Bayes moderation of the standard errors towards a common value\n",
    "efit <- eBayes(vfit.con1)"
   ]
  },
  {
   "cell_type": "code",
   "execution_count": 153,
   "metadata": {},
   "outputs": [
    {
     "data": {
      "image/png": "[encoded data removed]",
      "text/plain": [
       "plot without title"
      ]
     },
     "metadata": {
      "image/png": {
       "height": 420,
       "width": 420
      }
     },
     "output_type": "display_data"
    }
   ],
   "source": [
    "plotSA(efit)"
   ]
  },
  {
   "cell_type": "code",
   "execution_count": 154,
   "metadata": {},
   "outputs": [
    {
     "data": {
      "text/plain": [
       "       Case_vs_Control\n",
       "Down                12\n",
       "NotSig           23249\n",
       "Up                   2"
      ]
     },
     "metadata": {},
     "output_type": "display_data"
    }
   ],
   "source": [
    "#summary of differential expression results\n",
    "summary(decideTests(efit))"
   ]
  },
  {
   "cell_type": "code",
   "execution_count": 155,
   "metadata": {},
   "outputs": [],
   "source": [
    "DE.results <- as.data.frame(summary(decideTests(efit))) %>%\n",
    "pivot_wider(names_from = Var2, values_from = Freq)"
   ]
  },
  {
   "cell_type": "code",
   "execution_count": 156,
   "metadata": {},
   "outputs": [
    {
     "data": {
      "text/html": [
       "<table class=\"dataframe\">\n",
       "<caption>A tibble: 3 × 2</caption>\n",
       "<thead>\n",
       "\t<tr><th scope=col>Var1</th><th scope=col>Case_vs_Control</th></tr>\n",
       "\t<tr><th scope=col>&lt;fct&gt;</th><th scope=col>&lt;dbl&gt;</th></tr>\n",
       "</thead>\n",
       "<tbody>\n",
       "\t<tr><td>Down  </td><td>   12</td></tr>\n",
       "\t<tr><td>NotSig</td><td>23249</td></tr>\n",
       "\t<tr><td>Up    </td><td>    2</td></tr>\n",
       "</tbody>\n",
       "</table>\n"
      ],
      "text/latex": [
       "A tibble: 3 × 2\n",
       "\\begin{tabular}{ll}\n",
       " Var1 & Case\\_vs\\_Control\\\\\n",
       " <fct> & <dbl>\\\\\n",
       "\\hline\n",
       "\t Down   &    12\\\\\n",
       "\t NotSig & 23249\\\\\n",
       "\t Up     &     2\\\\\n",
       "\\end{tabular}\n"
      ],
      "text/markdown": [
       "\n",
       "A tibble: 3 × 2\n",
       "\n",
       "| Var1 &lt;fct&gt; | Case_vs_Control &lt;dbl&gt; |\n",
       "|---|---|\n",
       "| Down   |    12 |\n",
       "| NotSig | 23249 |\n",
       "| Up     |     2 |\n",
       "\n"
      ],
      "text/plain": [
       "  Var1   Case_vs_Control\n",
       "1 Down      12          \n",
       "2 NotSig 23249          \n",
       "3 Up         2          "
      ]
     },
     "metadata": {},
     "output_type": "display_data"
    }
   ],
   "source": [
    "DE.results"
   ]
  },
  {
   "cell_type": "code",
   "execution_count": 157,
   "metadata": {},
   "outputs": [],
   "source": [
    "#make table of mean CPM for each group to add to results file\n",
    "control.Group <- sample_meta.sub$sample_id[sample_meta.sub$Cognition_phenotype == \"PDnoCI\"]\n",
    "case.Group <- sample_meta.sub$sample_id[sample_meta.sub$Cognition_phenotype == \"PDD\"]"
   ]
  },
  {
   "cell_type": "code",
   "execution_count": 158,
   "metadata": {},
   "outputs": [],
   "source": [
    "controlCPM <- logCPM[,control.Group]\n",
    "caseCPM <- logCPM[,case.Group]"
   ]
  },
  {
   "cell_type": "code",
   "execution_count": 159,
   "metadata": {
    "scrolled": true
   },
   "outputs": [
    {
     "data": {
      "text/plain": [
       "   gene_id          AvgExpr_Control    AvgExpr_Case    \n",
       " Length:23263       Min.   :-2.9245   Min.   :-3.0738  \n",
       " Class :character   1st Qu.:-0.4268   1st Qu.:-0.3845  \n",
       " Mode  :character   Median : 2.0700   Median : 2.1002  \n",
       "                    Mean   : 2.2665   Mean   : 2.2284  \n",
       "                    3rd Qu.: 4.6900   3rd Qu.: 4.6058  \n",
       "                    Max.   :17.0964   Max.   :17.0580  "
      ]
     },
     "metadata": {},
     "output_type": "display_data"
    }
   ],
   "source": [
    "meanCPM <- data.frame(\"gene_id\" = row.names(logCPM),\n",
    "                      \"AvgExpr_Control\" = rowMeans(controlCPM),\n",
    "                      \"AvgExpr_Case\" = rowMeans(caseCPM)\n",
    "\n",
    ")\n",
    "summary(meanCPM)"
   ]
  },
  {
   "cell_type": "code",
   "execution_count": 160,
   "metadata": {},
   "outputs": [
    {
     "data": {
      "text/html": [
       "<table class=\"dataframe\">\n",
       "<caption>A data.frame: 6 × 3</caption>\n",
       "<thead>\n",
       "\t<tr><th></th><th scope=col>gene_id</th><th scope=col>AvgExpr_Control</th><th scope=col>AvgExpr_Case</th></tr>\n",
       "\t<tr><th></th><th scope=col>&lt;chr&gt;</th><th scope=col>&lt;dbl&gt;</th><th scope=col>&lt;dbl&gt;</th></tr>\n",
       "</thead>\n",
       "<tbody>\n",
       "\t<tr><th scope=row>ENSG00000280143.1</th><td>ENSG00000280143.1 </td><td>-1.2977435</td><td>-1.8845693</td></tr>\n",
       "\t<tr><th scope=row>ENSG00000269416.5</th><td>ENSG00000269416.5 </td><td>-2.6146769</td><td>-2.7542023</td></tr>\n",
       "\t<tr><th scope=row>ENSG00000263642.1</th><td>ENSG00000263642.1 </td><td> 0.2281337</td><td> 0.7416777</td></tr>\n",
       "\t<tr><th scope=row>ENSG00000198242.13</th><td>ENSG00000198242.13</td><td> 8.6600655</td><td> 8.2623314</td></tr>\n",
       "\t<tr><th scope=row>ENSG00000231981.3</th><td>ENSG00000231981.3 </td><td> 0.2844709</td><td> 0.2830190</td></tr>\n",
       "\t<tr><th scope=row>ENSG00000134108.12</th><td>ENSG00000134108.12</td><td> 5.7583738</td><td> 5.2929464</td></tr>\n",
       "</tbody>\n",
       "</table>\n"
      ],
      "text/latex": [
       "A data.frame: 6 × 3\n",
       "\\begin{tabular}{r|lll}\n",
       "  & gene\\_id & AvgExpr\\_Control & AvgExpr\\_Case\\\\\n",
       "  & <chr> & <dbl> & <dbl>\\\\\n",
       "\\hline\n",
       "\tENSG00000280143.1 & ENSG00000280143.1  & -1.2977435 & -1.8845693\\\\\n",
       "\tENSG00000269416.5 & ENSG00000269416.5  & -2.6146769 & -2.7542023\\\\\n",
       "\tENSG00000263642.1 & ENSG00000263642.1  &  0.2281337 &  0.7416777\\\\\n",
       "\tENSG00000198242.13 & ENSG00000198242.13 &  8.6600655 &  8.2623314\\\\\n",
       "\tENSG00000231981.3 & ENSG00000231981.3  &  0.2844709 &  0.2830190\\\\\n",
       "\tENSG00000134108.12 & ENSG00000134108.12 &  5.7583738 &  5.2929464\\\\\n",
       "\\end{tabular}\n"
      ],
      "text/markdown": [
       "\n",
       "A data.frame: 6 × 3\n",
       "\n",
       "| <!--/--> | gene_id &lt;chr&gt; | AvgExpr_Control &lt;dbl&gt; | AvgExpr_Case &lt;dbl&gt; |\n",
       "|---|---|---|---|\n",
       "| ENSG00000280143.1 | ENSG00000280143.1  | -1.2977435 | -1.8845693 |\n",
       "| ENSG00000269416.5 | ENSG00000269416.5  | -2.6146769 | -2.7542023 |\n",
       "| ENSG00000263642.1 | ENSG00000263642.1  |  0.2281337 |  0.7416777 |\n",
       "| ENSG00000198242.13 | ENSG00000198242.13 |  8.6600655 |  8.2623314 |\n",
       "| ENSG00000231981.3 | ENSG00000231981.3  |  0.2844709 |  0.2830190 |\n",
       "| ENSG00000134108.12 | ENSG00000134108.12 |  5.7583738 |  5.2929464 |\n",
       "\n"
      ],
      "text/plain": [
       "                   gene_id            AvgExpr_Control AvgExpr_Case\n",
       "ENSG00000280143.1  ENSG00000280143.1  -1.2977435      -1.8845693  \n",
       "ENSG00000269416.5  ENSG00000269416.5  -2.6146769      -2.7542023  \n",
       "ENSG00000263642.1  ENSG00000263642.1   0.2281337       0.7416777  \n",
       "ENSG00000198242.13 ENSG00000198242.13  8.6600655       8.2623314  \n",
       "ENSG00000231981.3  ENSG00000231981.3   0.2844709       0.2830190  \n",
       "ENSG00000134108.12 ENSG00000134108.12  5.7583738       5.2929464  "
      ]
     },
     "metadata": {},
     "output_type": "display_data"
    }
   ],
   "source": [
    "head(meanCPM)"
   ]
  },
  {
   "cell_type": "code",
   "execution_count": 161,
   "metadata": {},
   "outputs": [],
   "source": [
    "#Classify a series of related t-statistics as up, down or not significant\n",
    "dt <- decideTests(efit)"
   ]
  },
  {
   "cell_type": "code",
   "execution_count": 162,
   "metadata": {},
   "outputs": [],
   "source": [
    "#output full results table with logFC, p values, and mean CPM for each gene\n",
    "df <- topTable(efit, coef = 1, n = Inf)"
   ]
  },
  {
   "cell_type": "code",
   "execution_count": 163,
   "metadata": {},
   "outputs": [
    {
     "name": "stderr",
     "output_type": "stream",
     "text": [
      "\u001b[1m\u001b[22mJoining with `by = join_by(gene_id)`\n"
     ]
    }
   ],
   "source": [
    "df.withMeans <- left_join(df, meanCPM)"
   ]
  },
  {
   "cell_type": "code",
   "execution_count": 164,
   "metadata": {},
   "outputs": [],
   "source": [
    "df.withMeans$minus_log10_pValue <- -log10(df.withMeans$P.Value)"
   ]
  },
  {
   "cell_type": "code",
   "execution_count": 165,
   "metadata": {
    "scrolled": false
   },
   "outputs": [
    {
     "data": {
      "text/html": [
       "<table class=\"dataframe\">\n",
       "<caption>A data.frame: 6 × 17</caption>\n",
       "<thead>\n",
       "\t<tr><th></th><th scope=col>X</th><th scope=col>gene_id</th><th scope=col>gene_name</th><th scope=col>gene_type</th><th scope=col>seqname</th><th scope=col>start</th><th scope=col>end</th><th scope=col>strand</th><th scope=col>logFC</th><th scope=col>AveExpr</th><th scope=col>t</th><th scope=col>P.Value</th><th scope=col>adj.P.Val</th><th scope=col>B</th><th scope=col>AvgExpr_Control</th><th scope=col>AvgExpr_Case</th><th scope=col>minus_log10_pValue</th></tr>\n",
       "\t<tr><th></th><th scope=col>&lt;int&gt;</th><th scope=col>&lt;chr&gt;</th><th scope=col>&lt;chr&gt;</th><th scope=col>&lt;chr&gt;</th><th scope=col>&lt;chr&gt;</th><th scope=col>&lt;int&gt;</th><th scope=col>&lt;int&gt;</th><th scope=col>&lt;chr&gt;</th><th scope=col>&lt;dbl&gt;</th><th scope=col>&lt;dbl&gt;</th><th scope=col>&lt;dbl&gt;</th><th scope=col>&lt;dbl&gt;</th><th scope=col>&lt;dbl&gt;</th><th scope=col>&lt;dbl&gt;</th><th scope=col>&lt;dbl&gt;</th><th scope=col>&lt;dbl&gt;</th><th scope=col>&lt;dbl&gt;</th></tr>\n",
       "</thead>\n",
       "<tbody>\n",
       "\t<tr><th scope=row>1</th><td>2705958</td><td>ENSG00000102024.17</td><td>PLS3      </td><td>protein_coding      </td><td>chrX </td><td>115561174</td><td>115650861</td><td>+</td><td>-3.388923</td><td>-1.24385853</td><td>-5.919555</td><td>2.962222e-07</td><td>0.006891017</td><td>4.880868</td><td>-0.8203175</td><td>-3.0737653</td><td>6.528382</td></tr>\n",
       "\t<tr><th scope=row>2</th><td> 750985</td><td>ENSG00000270558.1 </td><td>AC025449.1</td><td>processed_pseudogene</td><td>chr5 </td><td> 37286449</td><td> 37286977</td><td>-</td><td>-1.563424</td><td>-0.44404056</td><td>-5.285480</td><td>2.784043e-06</td><td>0.032382597</td><td>4.089878</td><td>-0.2161641</td><td>-1.4621504</td><td>5.555324</td></tr>\n",
       "\t<tr><th scope=row>3</th><td>1853421</td><td>ENSG00000259066.5 </td><td>AL110118.2</td><td>protein_coding      </td><td>chr14</td><td> 93184973</td><td> 93218586</td><td>+</td><td>-2.499502</td><td>-0.85731418</td><td>-5.069837</td><td>5.894265e-06</td><td>0.032619073</td><td>3.111669</td><td>-0.5258121</td><td>-2.5335146</td><td>5.229570</td></tr>\n",
       "\t<tr><th scope=row>4</th><td>2701191</td><td>ENSG00000198088.10</td><td>NUP62CL   </td><td>protein_coding      </td><td>chrX </td><td>107123427</td><td>107206433</td><td>-</td><td>-2.395341</td><td>-0.03503932</td><td>-4.921902</td><td>9.815308e-06</td><td>0.032619073</td><td>2.983913</td><td> 0.2116636</td><td>-2.1132514</td><td>5.008096</td></tr>\n",
       "\t<tr><th scope=row>5</th><td> 743062</td><td>ENSG00000248150.1 </td><td>LINC02150 </td><td>lincRNA             </td><td>chr5 </td><td> 16373361</td><td> 16440081</td><td>-</td><td> 1.907746</td><td>-0.85472528</td><td> 4.881962</td><td>1.125616e-05</td><td>0.032731499</td><td>2.971522</td><td>-0.6598600</td><td> 0.7088294</td><td>4.948610</td></tr>\n",
       "\t<tr><th scope=row>6</th><td>1666461</td><td>ENSG00000221949.5 </td><td>LINC01465 </td><td>lincRNA             </td><td>chr12</td><td> 62601751</td><td> 62603690</td><td>-</td><td>-2.110910</td><td>-0.85432699</td><td>-4.937189</td><td>9.313206e-06</td><td>0.032619073</td><td>2.881270</td><td>-0.5566788</td><td>-1.6087915</td><td>5.030901</td></tr>\n",
       "</tbody>\n",
       "</table>\n"
      ],
      "text/latex": [
       "A data.frame: 6 × 17\n",
       "\\begin{tabular}{r|lllllllllllllllll}\n",
       "  & X & gene\\_id & gene\\_name & gene\\_type & seqname & start & end & strand & logFC & AveExpr & t & P.Value & adj.P.Val & B & AvgExpr\\_Control & AvgExpr\\_Case & minus\\_log10\\_pValue\\\\\n",
       "  & <int> & <chr> & <chr> & <chr> & <chr> & <int> & <int> & <chr> & <dbl> & <dbl> & <dbl> & <dbl> & <dbl> & <dbl> & <dbl> & <dbl> & <dbl>\\\\\n",
       "\\hline\n",
       "\t1 & 2705958 & ENSG00000102024.17 & PLS3       & protein\\_coding       & chrX  & 115561174 & 115650861 & + & -3.388923 & -1.24385853 & -5.919555 & 2.962222e-07 & 0.006891017 & 4.880868 & -0.8203175 & -3.0737653 & 6.528382\\\\\n",
       "\t2 &  750985 & ENSG00000270558.1  & AC025449.1 & processed\\_pseudogene & chr5  &  37286449 &  37286977 & - & -1.563424 & -0.44404056 & -5.285480 & 2.784043e-06 & 0.032382597 & 4.089878 & -0.2161641 & -1.4621504 & 5.555324\\\\\n",
       "\t3 & 1853421 & ENSG00000259066.5  & AL110118.2 & protein\\_coding       & chr14 &  93184973 &  93218586 & + & -2.499502 & -0.85731418 & -5.069837 & 5.894265e-06 & 0.032619073 & 3.111669 & -0.5258121 & -2.5335146 & 5.229570\\\\\n",
       "\t4 & 2701191 & ENSG00000198088.10 & NUP62CL    & protein\\_coding       & chrX  & 107123427 & 107206433 & - & -2.395341 & -0.03503932 & -4.921902 & 9.815308e-06 & 0.032619073 & 2.983913 &  0.2116636 & -2.1132514 & 5.008096\\\\\n",
       "\t5 &  743062 & ENSG00000248150.1  & LINC02150  & lincRNA              & chr5  &  16373361 &  16440081 & - &  1.907746 & -0.85472528 &  4.881962 & 1.125616e-05 & 0.032731499 & 2.971522 & -0.6598600 &  0.7088294 & 4.948610\\\\\n",
       "\t6 & 1666461 & ENSG00000221949.5  & LINC01465  & lincRNA              & chr12 &  62601751 &  62603690 & - & -2.110910 & -0.85432699 & -4.937189 & 9.313206e-06 & 0.032619073 & 2.881270 & -0.5566788 & -1.6087915 & 5.030901\\\\\n",
       "\\end{tabular}\n"
      ],
      "text/markdown": [
       "\n",
       "A data.frame: 6 × 17\n",
       "\n",
       "| <!--/--> | X &lt;int&gt; | gene_id &lt;chr&gt; | gene_name &lt;chr&gt; | gene_type &lt;chr&gt; | seqname &lt;chr&gt; | start &lt;int&gt; | end &lt;int&gt; | strand &lt;chr&gt; | logFC &lt;dbl&gt; | AveExpr &lt;dbl&gt; | t &lt;dbl&gt; | P.Value &lt;dbl&gt; | adj.P.Val &lt;dbl&gt; | B &lt;dbl&gt; | AvgExpr_Control &lt;dbl&gt; | AvgExpr_Case &lt;dbl&gt; | minus_log10_pValue &lt;dbl&gt; |\n",
       "|---|---|---|---|---|---|---|---|---|---|---|---|---|---|---|---|---|---|\n",
       "| 1 | 2705958 | ENSG00000102024.17 | PLS3       | protein_coding       | chrX  | 115561174 | 115650861 | + | -3.388923 | -1.24385853 | -5.919555 | 2.962222e-07 | 0.006891017 | 4.880868 | -0.8203175 | -3.0737653 | 6.528382 |\n",
       "| 2 |  750985 | ENSG00000270558.1  | AC025449.1 | processed_pseudogene | chr5  |  37286449 |  37286977 | - | -1.563424 | -0.44404056 | -5.285480 | 2.784043e-06 | 0.032382597 | 4.089878 | -0.2161641 | -1.4621504 | 5.555324 |\n",
       "| 3 | 1853421 | ENSG00000259066.5  | AL110118.2 | protein_coding       | chr14 |  93184973 |  93218586 | + | -2.499502 | -0.85731418 | -5.069837 | 5.894265e-06 | 0.032619073 | 3.111669 | -0.5258121 | -2.5335146 | 5.229570 |\n",
       "| 4 | 2701191 | ENSG00000198088.10 | NUP62CL    | protein_coding       | chrX  | 107123427 | 107206433 | - | -2.395341 | -0.03503932 | -4.921902 | 9.815308e-06 | 0.032619073 | 2.983913 |  0.2116636 | -2.1132514 | 5.008096 |\n",
       "| 5 |  743062 | ENSG00000248150.1  | LINC02150  | lincRNA              | chr5  |  16373361 |  16440081 | - |  1.907746 | -0.85472528 |  4.881962 | 1.125616e-05 | 0.032731499 | 2.971522 | -0.6598600 |  0.7088294 | 4.948610 |\n",
       "| 6 | 1666461 | ENSG00000221949.5  | LINC01465  | lincRNA              | chr12 |  62601751 |  62603690 | - | -2.110910 | -0.85432699 | -4.937189 | 9.313206e-06 | 0.032619073 | 2.881270 | -0.5566788 | -1.6087915 | 5.030901 |\n",
       "\n"
      ],
      "text/plain": [
       "  X       gene_id            gene_name  gene_type            seqname start    \n",
       "1 2705958 ENSG00000102024.17 PLS3       protein_coding       chrX    115561174\n",
       "2  750985 ENSG00000270558.1  AC025449.1 processed_pseudogene chr5     37286449\n",
       "3 1853421 ENSG00000259066.5  AL110118.2 protein_coding       chr14    93184973\n",
       "4 2701191 ENSG00000198088.10 NUP62CL    protein_coding       chrX    107123427\n",
       "5  743062 ENSG00000248150.1  LINC02150  lincRNA              chr5     16373361\n",
       "6 1666461 ENSG00000221949.5  LINC01465  lincRNA              chr12    62601751\n",
       "  end       strand logFC     AveExpr     t         P.Value      adj.P.Val  \n",
       "1 115650861 +      -3.388923 -1.24385853 -5.919555 2.962222e-07 0.006891017\n",
       "2  37286977 -      -1.563424 -0.44404056 -5.285480 2.784043e-06 0.032382597\n",
       "3  93218586 +      -2.499502 -0.85731418 -5.069837 5.894265e-06 0.032619073\n",
       "4 107206433 -      -2.395341 -0.03503932 -4.921902 9.815308e-06 0.032619073\n",
       "5  16440081 -       1.907746 -0.85472528  4.881962 1.125616e-05 0.032731499\n",
       "6  62603690 -      -2.110910 -0.85432699 -4.937189 9.313206e-06 0.032619073\n",
       "  B        AvgExpr_Control AvgExpr_Case minus_log10_pValue\n",
       "1 4.880868 -0.8203175      -3.0737653   6.528382          \n",
       "2 4.089878 -0.2161641      -1.4621504   5.555324          \n",
       "3 3.111669 -0.5258121      -2.5335146   5.229570          \n",
       "4 2.983913  0.2116636      -2.1132514   5.008096          \n",
       "5 2.971522 -0.6598600       0.7088294   4.948610          \n",
       "6 2.881270 -0.5566788      -1.6087915   5.030901          "
      ]
     },
     "metadata": {},
     "output_type": "display_data"
    }
   ],
   "source": [
    "head(df.withMeans)"
   ]
  },
  {
   "cell_type": "code",
   "execution_count": 166,
   "metadata": {},
   "outputs": [],
   "source": [
    "library(ggrepel)"
   ]
  },
  {
   "cell_type": "code",
   "execution_count": 167,
   "metadata": {},
   "outputs": [],
   "source": [
    "genes<-subset(df.withMeans,((adj.P.Val<0.05 & logFC>=log2(1.5)) | (adj.P.Val<0.05 & logFC<=-log2(1.5))))"
   ]
  },
  {
   "cell_type": "code",
   "execution_count": 168,
   "metadata": {},
   "outputs": [
    {
     "data": {
      "text/html": [
       "<table class=\"dataframe\">\n",
       "<caption>A data.frame: 14 × 17</caption>\n",
       "<thead>\n",
       "\t<tr><th></th><th scope=col>X</th><th scope=col>gene_id</th><th scope=col>gene_name</th><th scope=col>gene_type</th><th scope=col>seqname</th><th scope=col>start</th><th scope=col>end</th><th scope=col>strand</th><th scope=col>logFC</th><th scope=col>AveExpr</th><th scope=col>t</th><th scope=col>P.Value</th><th scope=col>adj.P.Val</th><th scope=col>B</th><th scope=col>AvgExpr_Control</th><th scope=col>AvgExpr_Case</th><th scope=col>minus_log10_pValue</th></tr>\n",
       "\t<tr><th></th><th scope=col>&lt;int&gt;</th><th scope=col>&lt;chr&gt;</th><th scope=col>&lt;chr&gt;</th><th scope=col>&lt;chr&gt;</th><th scope=col>&lt;chr&gt;</th><th scope=col>&lt;int&gt;</th><th scope=col>&lt;int&gt;</th><th scope=col>&lt;chr&gt;</th><th scope=col>&lt;dbl&gt;</th><th scope=col>&lt;dbl&gt;</th><th scope=col>&lt;dbl&gt;</th><th scope=col>&lt;dbl&gt;</th><th scope=col>&lt;dbl&gt;</th><th scope=col>&lt;dbl&gt;</th><th scope=col>&lt;dbl&gt;</th><th scope=col>&lt;dbl&gt;</th><th scope=col>&lt;dbl&gt;</th></tr>\n",
       "</thead>\n",
       "<tbody>\n",
       "\t<tr><th scope=row>1</th><td>2705958</td><td>ENSG00000102024.17</td><td>PLS3      </td><td>protein_coding      </td><td>chrX </td><td>115561174</td><td>115650861</td><td>+</td><td>-3.388923</td><td>-1.24385853</td><td>-5.919555</td><td>2.962222e-07</td><td>0.006891017</td><td>4.880868</td><td>-0.8203175</td><td>-3.0737653</td><td>6.528382</td></tr>\n",
       "\t<tr><th scope=row>2</th><td> 750985</td><td>ENSG00000270558.1 </td><td>AC025449.1</td><td>processed_pseudogene</td><td>chr5 </td><td> 37286449</td><td> 37286977</td><td>-</td><td>-1.563424</td><td>-0.44404056</td><td>-5.285480</td><td>2.784043e-06</td><td>0.032382597</td><td>4.089878</td><td>-0.2161641</td><td>-1.4621504</td><td>5.555324</td></tr>\n",
       "\t<tr><th scope=row>3</th><td>1853421</td><td>ENSG00000259066.5 </td><td>AL110118.2</td><td>protein_coding      </td><td>chr14</td><td> 93184973</td><td> 93218586</td><td>+</td><td>-2.499502</td><td>-0.85731418</td><td>-5.069837</td><td>5.894265e-06</td><td>0.032619073</td><td>3.111669</td><td>-0.5258121</td><td>-2.5335146</td><td>5.229570</td></tr>\n",
       "\t<tr><th scope=row>4</th><td>2701191</td><td>ENSG00000198088.10</td><td>NUP62CL   </td><td>protein_coding      </td><td>chrX </td><td>107123427</td><td>107206433</td><td>-</td><td>-2.395341</td><td>-0.03503932</td><td>-4.921902</td><td>9.815308e-06</td><td>0.032619073</td><td>2.983913</td><td> 0.2116636</td><td>-2.1132514</td><td>5.008096</td></tr>\n",
       "\t<tr><th scope=row>5</th><td> 743062</td><td>ENSG00000248150.1 </td><td>LINC02150 </td><td>lincRNA             </td><td>chr5 </td><td> 16373361</td><td> 16440081</td><td>-</td><td> 1.907746</td><td>-0.85472528</td><td> 4.881962</td><td>1.125616e-05</td><td>0.032731499</td><td>2.971522</td><td>-0.6598600</td><td> 0.7088294</td><td>4.948610</td></tr>\n",
       "\t<tr><th scope=row>6</th><td>1666461</td><td>ENSG00000221949.5 </td><td>LINC01465 </td><td>lincRNA             </td><td>chr12</td><td> 62601751</td><td> 62603690</td><td>-</td><td>-2.110910</td><td>-0.85432699</td><td>-4.937189</td><td>9.313206e-06</td><td>0.032619073</td><td>2.881270</td><td>-0.5566788</td><td>-1.6087915</td><td>5.030901</td></tr>\n",
       "\t<tr><th scope=row>7</th><td> 933342</td><td>ENSG00000199630.1 </td><td>RF00019   </td><td>misc_RNA            </td><td>chr6 </td><td> 89841329</td><td> 89841424</td><td>+</td><td>-2.692947</td><td>-1.03758636</td><td>-4.980005</td><td>8.037606e-06</td><td>0.032619073</td><td>2.861270</td><td>-0.6721558</td><td>-2.3647631</td><td>5.094873</td></tr>\n",
       "\t<tr><th scope=row>8</th><td> 899459</td><td>ENSG00000226976.3 </td><td>COX6A1P2  </td><td>processed_pseudogene</td><td>chr6 </td><td> 37044860</td><td> 37045189</td><td>+</td><td>-2.523766</td><td>-1.79734388</td><td>-5.060195</td><td>6.094208e-06</td><td>0.032619073</td><td>2.619413</td><td>-1.2830542</td><td>-3.0737653</td><td>5.215083</td></tr>\n",
       "\t<tr><th scope=row>9</th><td>1719633</td><td>ENSG00000139714.12</td><td>MORN3     </td><td>protein_coding      </td><td>chr12</td><td>121648742</td><td>121672631</td><td>-</td><td> 1.350504</td><td> 2.27543668</td><td> 4.648392</td><td>2.491040e-05</td><td>0.041392193</td><td>2.499265</td><td> 2.2617557</td><td> 3.3471046</td><td>4.603619</td></tr>\n",
       "\t<tr><th scope=row>11</th><td> 996868</td><td>ENSG00000230658.1 </td><td>KLHL7-DT  </td><td>lincRNA             </td><td>chr7 </td><td> 23101228</td><td> 23105703</td><td>-</td><td>-2.934115</td><td>-0.89164811</td><td>-4.686274</td><td>2.191703e-05</td><td>0.040943816</td><td>2.019278</td><td>-0.5399448</td><td>-2.5935716</td><td>4.659218</td></tr>\n",
       "\t<tr><th scope=row>12</th><td> 993098</td><td>ENSG00000272361.2 </td><td>AC005014.2</td><td>lincRNA             </td><td>chr7 </td><td> 16593626</td><td> 16594224</td><td>-</td><td>-2.368858</td><td>-1.58970496</td><td>-4.744148</td><td>1.801220e-05</td><td>0.040943816</td><td>1.979097</td><td>-1.1372020</td><td>-2.7542023</td><td>4.744433</td></tr>\n",
       "\t<tr><th scope=row>13</th><td>2430678</td><td>ENSG00000261857.6 </td><td>MIA       </td><td>protein_coding      </td><td>chr19</td><td> 40771648</td><td> 40777490</td><td>+</td><td>-2.126261</td><td>-1.40517895</td><td>-4.685327</td><td>2.198733e-05</td><td>0.040943816</td><td>1.961668</td><td>-1.0013791</td><td>-2.5335146</td><td>4.657827</td></tr>\n",
       "\t<tr><th scope=row>14</th><td>1338564</td><td>ENSG00000223111.1 </td><td>SNORA74C-2</td><td>snoRNA              </td><td>chr10</td><td> 49954214</td><td> 49954414</td><td>+</td><td>-2.377668</td><td>-1.67826546</td><td>-4.673554</td><td>2.288052e-05</td><td>0.040943816</td><td>1.859899</td><td>-1.1991622</td><td>-2.3078151</td><td>4.640534</td></tr>\n",
       "\t<tr><th scope=row>17</th><td>1395298</td><td>ENSG00000222588.1 </td><td>RF00413   </td><td>snoRNA              </td><td>chr10</td><td>119060983</td><td>119061111</td><td>-</td><td>-2.890026</td><td>-1.76050785</td><td>-4.690699</td><td>2.159121e-05</td><td>0.040943816</td><td>1.703809</td><td>-1.2376745</td><td>-3.0737653</td><td>4.665723</td></tr>\n",
       "</tbody>\n",
       "</table>\n"
      ],
      "text/latex": [
       "A data.frame: 14 × 17\n",
       "\\begin{tabular}{r|lllllllllllllllll}\n",
       "  & X & gene\\_id & gene\\_name & gene\\_type & seqname & start & end & strand & logFC & AveExpr & t & P.Value & adj.P.Val & B & AvgExpr\\_Control & AvgExpr\\_Case & minus\\_log10\\_pValue\\\\\n",
       "  & <int> & <chr> & <chr> & <chr> & <chr> & <int> & <int> & <chr> & <dbl> & <dbl> & <dbl> & <dbl> & <dbl> & <dbl> & <dbl> & <dbl> & <dbl>\\\\\n",
       "\\hline\n",
       "\t1 & 2705958 & ENSG00000102024.17 & PLS3       & protein\\_coding       & chrX  & 115561174 & 115650861 & + & -3.388923 & -1.24385853 & -5.919555 & 2.962222e-07 & 0.006891017 & 4.880868 & -0.8203175 & -3.0737653 & 6.528382\\\\\n",
       "\t2 &  750985 & ENSG00000270558.1  & AC025449.1 & processed\\_pseudogene & chr5  &  37286449 &  37286977 & - & -1.563424 & -0.44404056 & -5.285480 & 2.784043e-06 & 0.032382597 & 4.089878 & -0.2161641 & -1.4621504 & 5.555324\\\\\n",
       "\t3 & 1853421 & ENSG00000259066.5  & AL110118.2 & protein\\_coding       & chr14 &  93184973 &  93218586 & + & -2.499502 & -0.85731418 & -5.069837 & 5.894265e-06 & 0.032619073 & 3.111669 & -0.5258121 & -2.5335146 & 5.229570\\\\\n",
       "\t4 & 2701191 & ENSG00000198088.10 & NUP62CL    & protein\\_coding       & chrX  & 107123427 & 107206433 & - & -2.395341 & -0.03503932 & -4.921902 & 9.815308e-06 & 0.032619073 & 2.983913 &  0.2116636 & -2.1132514 & 5.008096\\\\\n",
       "\t5 &  743062 & ENSG00000248150.1  & LINC02150  & lincRNA              & chr5  &  16373361 &  16440081 & - &  1.907746 & -0.85472528 &  4.881962 & 1.125616e-05 & 0.032731499 & 2.971522 & -0.6598600 &  0.7088294 & 4.948610\\\\\n",
       "\t6 & 1666461 & ENSG00000221949.5  & LINC01465  & lincRNA              & chr12 &  62601751 &  62603690 & - & -2.110910 & -0.85432699 & -4.937189 & 9.313206e-06 & 0.032619073 & 2.881270 & -0.5566788 & -1.6087915 & 5.030901\\\\\n",
       "\t7 &  933342 & ENSG00000199630.1  & RF00019    & misc\\_RNA             & chr6  &  89841329 &  89841424 & + & -2.692947 & -1.03758636 & -4.980005 & 8.037606e-06 & 0.032619073 & 2.861270 & -0.6721558 & -2.3647631 & 5.094873\\\\\n",
       "\t8 &  899459 & ENSG00000226976.3  & COX6A1P2   & processed\\_pseudogene & chr6  &  37044860 &  37045189 & + & -2.523766 & -1.79734388 & -5.060195 & 6.094208e-06 & 0.032619073 & 2.619413 & -1.2830542 & -3.0737653 & 5.215083\\\\\n",
       "\t9 & 1719633 & ENSG00000139714.12 & MORN3      & protein\\_coding       & chr12 & 121648742 & 121672631 & - &  1.350504 &  2.27543668 &  4.648392 & 2.491040e-05 & 0.041392193 & 2.499265 &  2.2617557 &  3.3471046 & 4.603619\\\\\n",
       "\t11 &  996868 & ENSG00000230658.1  & KLHL7-DT   & lincRNA              & chr7  &  23101228 &  23105703 & - & -2.934115 & -0.89164811 & -4.686274 & 2.191703e-05 & 0.040943816 & 2.019278 & -0.5399448 & -2.5935716 & 4.659218\\\\\n",
       "\t12 &  993098 & ENSG00000272361.2  & AC005014.2 & lincRNA              & chr7  &  16593626 &  16594224 & - & -2.368858 & -1.58970496 & -4.744148 & 1.801220e-05 & 0.040943816 & 1.979097 & -1.1372020 & -2.7542023 & 4.744433\\\\\n",
       "\t13 & 2430678 & ENSG00000261857.6  & MIA        & protein\\_coding       & chr19 &  40771648 &  40777490 & + & -2.126261 & -1.40517895 & -4.685327 & 2.198733e-05 & 0.040943816 & 1.961668 & -1.0013791 & -2.5335146 & 4.657827\\\\\n",
       "\t14 & 1338564 & ENSG00000223111.1  & SNORA74C-2 & snoRNA               & chr10 &  49954214 &  49954414 & + & -2.377668 & -1.67826546 & -4.673554 & 2.288052e-05 & 0.040943816 & 1.859899 & -1.1991622 & -2.3078151 & 4.640534\\\\\n",
       "\t17 & 1395298 & ENSG00000222588.1  & RF00413    & snoRNA               & chr10 & 119060983 & 119061111 & - & -2.890026 & -1.76050785 & -4.690699 & 2.159121e-05 & 0.040943816 & 1.703809 & -1.2376745 & -3.0737653 & 4.665723\\\\\n",
       "\\end{tabular}\n"
      ],
      "text/markdown": [
       "\n",
       "A data.frame: 14 × 17\n",
       "\n",
       "| <!--/--> | X &lt;int&gt; | gene_id &lt;chr&gt; | gene_name &lt;chr&gt; | gene_type &lt;chr&gt; | seqname &lt;chr&gt; | start &lt;int&gt; | end &lt;int&gt; | strand &lt;chr&gt; | logFC &lt;dbl&gt; | AveExpr &lt;dbl&gt; | t &lt;dbl&gt; | P.Value &lt;dbl&gt; | adj.P.Val &lt;dbl&gt; | B &lt;dbl&gt; | AvgExpr_Control &lt;dbl&gt; | AvgExpr_Case &lt;dbl&gt; | minus_log10_pValue &lt;dbl&gt; |\n",
       "|---|---|---|---|---|---|---|---|---|---|---|---|---|---|---|---|---|---|\n",
       "| 1 | 2705958 | ENSG00000102024.17 | PLS3       | protein_coding       | chrX  | 115561174 | 115650861 | + | -3.388923 | -1.24385853 | -5.919555 | 2.962222e-07 | 0.006891017 | 4.880868 | -0.8203175 | -3.0737653 | 6.528382 |\n",
       "| 2 |  750985 | ENSG00000270558.1  | AC025449.1 | processed_pseudogene | chr5  |  37286449 |  37286977 | - | -1.563424 | -0.44404056 | -5.285480 | 2.784043e-06 | 0.032382597 | 4.089878 | -0.2161641 | -1.4621504 | 5.555324 |\n",
       "| 3 | 1853421 | ENSG00000259066.5  | AL110118.2 | protein_coding       | chr14 |  93184973 |  93218586 | + | -2.499502 | -0.85731418 | -5.069837 | 5.894265e-06 | 0.032619073 | 3.111669 | -0.5258121 | -2.5335146 | 5.229570 |\n",
       "| 4 | 2701191 | ENSG00000198088.10 | NUP62CL    | protein_coding       | chrX  | 107123427 | 107206433 | - | -2.395341 | -0.03503932 | -4.921902 | 9.815308e-06 | 0.032619073 | 2.983913 |  0.2116636 | -2.1132514 | 5.008096 |\n",
       "| 5 |  743062 | ENSG00000248150.1  | LINC02150  | lincRNA              | chr5  |  16373361 |  16440081 | - |  1.907746 | -0.85472528 |  4.881962 | 1.125616e-05 | 0.032731499 | 2.971522 | -0.6598600 |  0.7088294 | 4.948610 |\n",
       "| 6 | 1666461 | ENSG00000221949.5  | LINC01465  | lincRNA              | chr12 |  62601751 |  62603690 | - | -2.110910 | -0.85432699 | -4.937189 | 9.313206e-06 | 0.032619073 | 2.881270 | -0.5566788 | -1.6087915 | 5.030901 |\n",
       "| 7 |  933342 | ENSG00000199630.1  | RF00019    | misc_RNA             | chr6  |  89841329 |  89841424 | + | -2.692947 | -1.03758636 | -4.980005 | 8.037606e-06 | 0.032619073 | 2.861270 | -0.6721558 | -2.3647631 | 5.094873 |\n",
       "| 8 |  899459 | ENSG00000226976.3  | COX6A1P2   | processed_pseudogene | chr6  |  37044860 |  37045189 | + | -2.523766 | -1.79734388 | -5.060195 | 6.094208e-06 | 0.032619073 | 2.619413 | -1.2830542 | -3.0737653 | 5.215083 |\n",
       "| 9 | 1719633 | ENSG00000139714.12 | MORN3      | protein_coding       | chr12 | 121648742 | 121672631 | - |  1.350504 |  2.27543668 |  4.648392 | 2.491040e-05 | 0.041392193 | 2.499265 |  2.2617557 |  3.3471046 | 4.603619 |\n",
       "| 11 |  996868 | ENSG00000230658.1  | KLHL7-DT   | lincRNA              | chr7  |  23101228 |  23105703 | - | -2.934115 | -0.89164811 | -4.686274 | 2.191703e-05 | 0.040943816 | 2.019278 | -0.5399448 | -2.5935716 | 4.659218 |\n",
       "| 12 |  993098 | ENSG00000272361.2  | AC005014.2 | lincRNA              | chr7  |  16593626 |  16594224 | - | -2.368858 | -1.58970496 | -4.744148 | 1.801220e-05 | 0.040943816 | 1.979097 | -1.1372020 | -2.7542023 | 4.744433 |\n",
       "| 13 | 2430678 | ENSG00000261857.6  | MIA        | protein_coding       | chr19 |  40771648 |  40777490 | + | -2.126261 | -1.40517895 | -4.685327 | 2.198733e-05 | 0.040943816 | 1.961668 | -1.0013791 | -2.5335146 | 4.657827 |\n",
       "| 14 | 1338564 | ENSG00000223111.1  | SNORA74C-2 | snoRNA               | chr10 |  49954214 |  49954414 | + | -2.377668 | -1.67826546 | -4.673554 | 2.288052e-05 | 0.040943816 | 1.859899 | -1.1991622 | -2.3078151 | 4.640534 |\n",
       "| 17 | 1395298 | ENSG00000222588.1  | RF00413    | snoRNA               | chr10 | 119060983 | 119061111 | - | -2.890026 | -1.76050785 | -4.690699 | 2.159121e-05 | 0.040943816 | 1.703809 | -1.2376745 | -3.0737653 | 4.665723 |\n",
       "\n"
      ],
      "text/plain": [
       "   X       gene_id            gene_name  gene_type            seqname start    \n",
       "1  2705958 ENSG00000102024.17 PLS3       protein_coding       chrX    115561174\n",
       "2   750985 ENSG00000270558.1  AC025449.1 processed_pseudogene chr5     37286449\n",
       "3  1853421 ENSG00000259066.5  AL110118.2 protein_coding       chr14    93184973\n",
       "4  2701191 ENSG00000198088.10 NUP62CL    protein_coding       chrX    107123427\n",
       "5   743062 ENSG00000248150.1  LINC02150  lincRNA              chr5     16373361\n",
       "6  1666461 ENSG00000221949.5  LINC01465  lincRNA              chr12    62601751\n",
       "7   933342 ENSG00000199630.1  RF00019    misc_RNA             chr6     89841329\n",
       "8   899459 ENSG00000226976.3  COX6A1P2   processed_pseudogene chr6     37044860\n",
       "9  1719633 ENSG00000139714.12 MORN3      protein_coding       chr12   121648742\n",
       "11  996868 ENSG00000230658.1  KLHL7-DT   lincRNA              chr7     23101228\n",
       "12  993098 ENSG00000272361.2  AC005014.2 lincRNA              chr7     16593626\n",
       "13 2430678 ENSG00000261857.6  MIA        protein_coding       chr19    40771648\n",
       "14 1338564 ENSG00000223111.1  SNORA74C-2 snoRNA               chr10    49954214\n",
       "17 1395298 ENSG00000222588.1  RF00413    snoRNA               chr10   119060983\n",
       "   end       strand logFC     AveExpr     t         P.Value      adj.P.Val  \n",
       "1  115650861 +      -3.388923 -1.24385853 -5.919555 2.962222e-07 0.006891017\n",
       "2   37286977 -      -1.563424 -0.44404056 -5.285480 2.784043e-06 0.032382597\n",
       "3   93218586 +      -2.499502 -0.85731418 -5.069837 5.894265e-06 0.032619073\n",
       "4  107206433 -      -2.395341 -0.03503932 -4.921902 9.815308e-06 0.032619073\n",
       "5   16440081 -       1.907746 -0.85472528  4.881962 1.125616e-05 0.032731499\n",
       "6   62603690 -      -2.110910 -0.85432699 -4.937189 9.313206e-06 0.032619073\n",
       "7   89841424 +      -2.692947 -1.03758636 -4.980005 8.037606e-06 0.032619073\n",
       "8   37045189 +      -2.523766 -1.79734388 -5.060195 6.094208e-06 0.032619073\n",
       "9  121672631 -       1.350504  2.27543668  4.648392 2.491040e-05 0.041392193\n",
       "11  23105703 -      -2.934115 -0.89164811 -4.686274 2.191703e-05 0.040943816\n",
       "12  16594224 -      -2.368858 -1.58970496 -4.744148 1.801220e-05 0.040943816\n",
       "13  40777490 +      -2.126261 -1.40517895 -4.685327 2.198733e-05 0.040943816\n",
       "14  49954414 +      -2.377668 -1.67826546 -4.673554 2.288052e-05 0.040943816\n",
       "17 119061111 -      -2.890026 -1.76050785 -4.690699 2.159121e-05 0.040943816\n",
       "   B        AvgExpr_Control AvgExpr_Case minus_log10_pValue\n",
       "1  4.880868 -0.8203175      -3.0737653   6.528382          \n",
       "2  4.089878 -0.2161641      -1.4621504   5.555324          \n",
       "3  3.111669 -0.5258121      -2.5335146   5.229570          \n",
       "4  2.983913  0.2116636      -2.1132514   5.008096          \n",
       "5  2.971522 -0.6598600       0.7088294   4.948610          \n",
       "6  2.881270 -0.5566788      -1.6087915   5.030901          \n",
       "7  2.861270 -0.6721558      -2.3647631   5.094873          \n",
       "8  2.619413 -1.2830542      -3.0737653   5.215083          \n",
       "9  2.499265  2.2617557       3.3471046   4.603619          \n",
       "11 2.019278 -0.5399448      -2.5935716   4.659218          \n",
       "12 1.979097 -1.1372020      -2.7542023   4.744433          \n",
       "13 1.961668 -1.0013791      -2.5335146   4.657827          \n",
       "14 1.859899 -1.1991622      -2.3078151   4.640534          \n",
       "17 1.703809 -1.2376745      -3.0737653   4.665723          "
      ]
     },
     "metadata": {},
     "output_type": "display_data"
    }
   ],
   "source": [
    "genes"
   ]
  },
  {
   "cell_type": "code",
   "execution_count": 169,
   "metadata": {},
   "outputs": [],
   "source": [
    "df <- df %>% \n",
    "  mutate(\n",
    "    Expression = case_when(logFC >= log2(1.5) & adj.P.Val <= 0.05 ~ \"Up-regulated\",\n",
    "                           logFC <= -log2(1.5) & adj.P.Val <= 0.05 ~ \"Down-regulated\",\n",
    "                           TRUE ~ \"Unchanged\")\n",
    "    )"
   ]
  },
  {
   "cell_type": "code",
   "execution_count": 170,
   "metadata": {
    "scrolled": true
   },
   "outputs": [],
   "source": [
    "p2 <- ggplot(df, aes(logFC, -log(adj.P.Val,10))) +\n",
    "  geom_point(aes(color = Expression), size = 1) +\n",
    "  xlab(expression(\"log\"[2]*\"FC\")) + \n",
    "  ylab(expression(\"-log\"[10]*\"(padj)\")) +\n",
    "  scale_color_manual(values = c(\"dodgerblue3\", \"gray50\", \"firebrick3\")) +\n",
    "  guides(colour = guide_legend(override.aes = list(size=1.5)))+\n",
    "  geom_hline(yintercept = -log10(0.05),linetype = \"dashed\") + \n",
    "  geom_vline(xintercept = c(-log2(1.5), log2(1.5)),linetype = \"dashed\") +\n",
    "  geom_text_repel(data = genes, \n",
    "                  aes(label = gene_name))"
   ]
  },
  {
   "cell_type": "code",
   "execution_count": 188,
   "metadata": {},
   "outputs": [
    {
     "name": "stderr",
     "output_type": "stream",
     "text": [
      "Warning message:\n",
      "“ggrepel: 5 unlabeled data points (too many overlaps). Consider increasing max.overlaps”\n"
     ]
    },
    {
     "data": {
      "image/png": "[encoded data removed]",
      "text/plain": [
       "plot without title"
      ]
     },
     "metadata": {
      "image/png": {
       "height": 420,
       "width": 420
      }
     },
     "output_type": "display_data"
    }
   ],
   "source": [
    "p2 + ggtitle(\"Volcano Plot: PDD vs PD-NC (only males)\")\n",
    "#linea horizontal log fold change\n",
    "#linea vertical -log10 p value"
   ]
  },
  {
   "cell_type": "code",
   "execution_count": 172,
   "metadata": {},
   "outputs": [
    {
     "data": {
      "image/png": "[encoded data removed]",
      "text/plain": [
       "Plot with title “MD Plot: PDD vs. PD-NC”"
      ]
     },
     "metadata": {
      "image/png": {
       "height": 420,
       "width": 420
      }
     },
     "output_type": "display_data"
    }
   ],
   "source": [
    "#MD plot with upregulated genes in green and downregulated genes in red\n",
    "plotMD(efit, column = 1, status = dt[,1], main = \"MD Plot: PDD vs. PD-NC\",\n",
    "       xlim=c(-10,15))"
   ]
  },
  {
   "cell_type": "code",
   "execution_count": 173,
   "metadata": {},
   "outputs": [],
   "source": [
    "write_tsv(df.withMeans, \"PDD_vs_PDnoCI_M0_passingFilt_white_limmaResults.tsv\")"
   ]
  },
  {
   "cell_type": "code",
   "execution_count": 174,
   "metadata": {},
   "outputs": [
    {
     "data": {
      "text/html": [],
      "text/latex": [],
      "text/markdown": [],
      "text/plain": [
       "character(0)"
      ]
     },
     "metadata": {},
     "output_type": "display_data"
    }
   ],
   "source": [
    "system(paste0(\"gsutil cp ./* \",WORKSPACE_BUCKET),intern=TRUE)"
   ]
  },
  {
   "cell_type": "code",
   "execution_count": 175,
   "metadata": {},
   "outputs": [],
   "source": [
    "#df.withMeans\n",
    "df.withMeansPath <- file.path({WORKSPACE_BUCKET}, 'PDD_vs_PDnoCI_M0_passingFilt_white_limmaResults.tsv')\n",
    "tmp <- gcs_read_file(df.withMeansPath)\n",
    "df.withMeans <- read.csv(tmp,header=TRUE, sep=\"\\t\")"
   ]
  },
  {
   "cell_type": "code",
   "execution_count": 176,
   "metadata": {
    "scrolled": false
   },
   "outputs": [
    {
     "data": {
      "text/html": [
       "<table class=\"dataframe\">\n",
       "<caption>A data.frame: 23263 × 17</caption>\n",
       "<thead>\n",
       "\t<tr><th scope=col>X</th><th scope=col>gene_id</th><th scope=col>gene_name</th><th scope=col>gene_type</th><th scope=col>seqname</th><th scope=col>start</th><th scope=col>end</th><th scope=col>strand</th><th scope=col>logFC</th><th scope=col>AveExpr</th><th scope=col>t</th><th scope=col>P.Value</th><th scope=col>adj.P.Val</th><th scope=col>B</th><th scope=col>AvgExpr_Control</th><th scope=col>AvgExpr_Case</th><th scope=col>minus_log10_pValue</th></tr>\n",
       "\t<tr><th scope=col>&lt;int&gt;</th><th scope=col>&lt;chr&gt;</th><th scope=col>&lt;chr&gt;</th><th scope=col>&lt;chr&gt;</th><th scope=col>&lt;chr&gt;</th><th scope=col>&lt;int&gt;</th><th scope=col>&lt;int&gt;</th><th scope=col>&lt;chr&gt;</th><th scope=col>&lt;dbl&gt;</th><th scope=col>&lt;dbl&gt;</th><th scope=col>&lt;dbl&gt;</th><th scope=col>&lt;dbl&gt;</th><th scope=col>&lt;dbl&gt;</th><th scope=col>&lt;dbl&gt;</th><th scope=col>&lt;dbl&gt;</th><th scope=col>&lt;dbl&gt;</th><th scope=col>&lt;dbl&gt;</th></tr>\n",
       "</thead>\n",
       "<tbody>\n",
       "\t<tr><td>2705958</td><td>ENSG00000102024.17</td><td>PLS3      </td><td>protein_coding                </td><td>chrX </td><td>115561174</td><td>115650861</td><td>+</td><td>-3.3889232</td><td>-1.24385853</td><td>-5.919555</td><td>2.962222e-07</td><td>0.006891017</td><td>4.8808682</td><td>-0.82031750</td><td>-3.0737653</td><td>6.528382</td></tr>\n",
       "\t<tr><td> 750985</td><td>ENSG00000270558.1 </td><td>AC025449.1</td><td>processed_pseudogene          </td><td>chr5 </td><td> 37286449</td><td> 37286977</td><td>-</td><td>-1.5634244</td><td>-0.44404056</td><td>-5.285480</td><td>2.784043e-06</td><td>0.032382597</td><td>4.0898778</td><td>-0.21616411</td><td>-1.4621504</td><td>5.555324</td></tr>\n",
       "\t<tr><td>1853421</td><td>ENSG00000259066.5 </td><td>AL110118.2</td><td>protein_coding                </td><td>chr14</td><td> 93184973</td><td> 93218586</td><td>+</td><td>-2.4995018</td><td>-0.85731418</td><td>-5.069837</td><td>5.894265e-06</td><td>0.032619073</td><td>3.1116685</td><td>-0.52581213</td><td>-2.5335146</td><td>5.229570</td></tr>\n",
       "\t<tr><td>2701191</td><td>ENSG00000198088.10</td><td>NUP62CL   </td><td>protein_coding                </td><td>chrX </td><td>107123427</td><td>107206433</td><td>-</td><td>-2.3953414</td><td>-0.03503932</td><td>-4.921902</td><td>9.815308e-06</td><td>0.032619073</td><td>2.9839127</td><td> 0.21166362</td><td>-2.1132514</td><td>5.008096</td></tr>\n",
       "\t<tr><td> 743062</td><td>ENSG00000248150.1 </td><td>LINC02150 </td><td>lincRNA                       </td><td>chr5 </td><td> 16373361</td><td> 16440081</td><td>-</td><td> 1.9077463</td><td>-0.85472528</td><td> 4.881962</td><td>1.125616e-05</td><td>0.032731499</td><td>2.9715220</td><td>-0.65986000</td><td> 0.7088294</td><td>4.948610</td></tr>\n",
       "\t<tr><td>1666461</td><td>ENSG00000221949.5 </td><td>LINC01465 </td><td>lincRNA                       </td><td>chr12</td><td> 62601751</td><td> 62603690</td><td>-</td><td>-2.1109096</td><td>-0.85432699</td><td>-4.937189</td><td>9.313206e-06</td><td>0.032619073</td><td>2.8812698</td><td>-0.55667876</td><td>-1.6087915</td><td>5.030901</td></tr>\n",
       "\t<tr><td> 933342</td><td>ENSG00000199630.1 </td><td>RF00019   </td><td>misc_RNA                      </td><td>chr6 </td><td> 89841329</td><td> 89841424</td><td>+</td><td>-2.6929473</td><td>-1.03758636</td><td>-4.980005</td><td>8.037606e-06</td><td>0.032619073</td><td>2.8612699</td><td>-0.67215584</td><td>-2.3647631</td><td>5.094873</td></tr>\n",
       "\t<tr><td> 899459</td><td>ENSG00000226976.3 </td><td>COX6A1P2  </td><td>processed_pseudogene          </td><td>chr6 </td><td> 37044860</td><td> 37045189</td><td>+</td><td>-2.5237665</td><td>-1.79734388</td><td>-5.060195</td><td>6.094208e-06</td><td>0.032619073</td><td>2.6194129</td><td>-1.28305420</td><td>-3.0737653</td><td>5.215083</td></tr>\n",
       "\t<tr><td>1719633</td><td>ENSG00000139714.12</td><td>MORN3     </td><td>protein_coding                </td><td>chr12</td><td>121648742</td><td>121672631</td><td>-</td><td> 1.3505044</td><td> 2.27543668</td><td> 4.648392</td><td>2.491040e-05</td><td>0.041392193</td><td>2.4992654</td><td> 2.26175574</td><td> 3.3471046</td><td>4.603619</td></tr>\n",
       "\t<tr><td>1226290</td><td>ENSG00000224802.2 </td><td>TUBB4BP2  </td><td>processed_pseudogene          </td><td>chr9 </td><td> 34109171</td><td> 34109968</td><td>-</td><td>-1.2250377</td><td> 0.46363997</td><td>-4.566445</td><td>3.282121e-05</td><td>0.050901314</td><td>2.2135332</td><td> 0.60080264</td><td>-0.3975267</td><td>4.483845</td></tr>\n",
       "\t<tr><td> 996868</td><td>ENSG00000230658.1 </td><td>KLHL7-DT  </td><td>lincRNA                       </td><td>chr7 </td><td> 23101228</td><td> 23105703</td><td>-</td><td>-2.9341151</td><td>-0.89164811</td><td>-4.686274</td><td>2.191703e-05</td><td>0.040943816</td><td>2.0192775</td><td>-0.53994480</td><td>-2.5935716</td><td>4.659218</td></tr>\n",
       "\t<tr><td> 993098</td><td>ENSG00000272361.2 </td><td>AC005014.2</td><td>lincRNA                       </td><td>chr7 </td><td> 16593626</td><td> 16594224</td><td>-</td><td>-2.3688579</td><td>-1.58970496</td><td>-4.744148</td><td>1.801220e-05</td><td>0.040943816</td><td>1.9790966</td><td>-1.13720202</td><td>-2.7542023</td><td>4.744433</td></tr>\n",
       "\t<tr><td>2430678</td><td>ENSG00000261857.6 </td><td>MIA       </td><td>protein_coding                </td><td>chr19</td><td> 40771648</td><td> 40777490</td><td>+</td><td>-2.1262607</td><td>-1.40517895</td><td>-4.685327</td><td>2.198733e-05</td><td>0.040943816</td><td>1.9616680</td><td>-1.00137912</td><td>-2.5335146</td><td>4.657827</td></tr>\n",
       "\t<tr><td>1338564</td><td>ENSG00000223111.1 </td><td>SNORA74C-2</td><td>snoRNA                        </td><td>chr10</td><td> 49954214</td><td> 49954414</td><td>+</td><td>-2.3776679</td><td>-1.67826546</td><td>-4.673554</td><td>2.288052e-05</td><td>0.040943816</td><td>1.8598991</td><td>-1.19916224</td><td>-2.3078151</td><td>4.640534</td></tr>\n",
       "\t<tr><td>1500594</td><td>ENSG00000174547.13</td><td>MRPL11    </td><td>protein_coding                </td><td>chr11</td><td> 66435075</td><td> 66466738</td><td>-</td><td>-0.8280396</td><td> 3.19566589</td><td>-4.443760</td><td>4.944537e-05</td><td>0.067475394</td><td>1.8280275</td><td> 3.24838979</td><td> 2.2877373</td><td>4.305874</td></tr>\n",
       "\t<tr><td>1163852</td><td>ENSG00000104427.11</td><td>ZC2HC1A   </td><td>protein_coding                </td><td>chr8 </td><td> 78666047</td><td> 78719765</td><td>+</td><td>-1.6967113</td><td> 2.79253636</td><td>-4.430411</td><td>5.168788e-05</td><td>0.067475394</td><td>1.8189594</td><td> 2.87310545</td><td> 1.3908081</td><td>4.286611</td></tr>\n",
       "\t<tr><td>1395298</td><td>ENSG00000222588.1 </td><td>RF00413   </td><td>snoRNA                        </td><td>chr10</td><td>119060983</td><td>119061111</td><td>-</td><td>-2.8900263</td><td>-1.76050785</td><td>-4.690699</td><td>2.159121e-05</td><td>0.040943816</td><td>1.7038089</td><td>-1.23767447</td><td>-3.0737653</td><td>4.665723</td></tr>\n",
       "\t<tr><td> 311844</td><td>ENSG00000264324.1 </td><td>AC006030.1</td><td>protein_coding                </td><td>chr2 </td><td> 74211604</td><td> 74363377</td><td>-</td><td>-1.2776102</td><td>-0.09962164</td><td>-4.332527</td><td>7.144989e-05</td><td>0.082261085</td><td>1.4736063</td><td> 0.08026511</td><td>-0.8540893</td><td>4.145998</td></tr>\n",
       "\t<tr><td> 278488</td><td>ENSG00000276334.1 </td><td>AL133243.2</td><td>sense_intronic                </td><td>chr2 </td><td> 32521927</td><td> 32523547</td><td>+</td><td>-0.8323316</td><td> 2.75841413</td><td>-4.320816</td><td>7.425881e-05</td><td>0.082261085</td><td>1.4692984</td><td> 2.80754765</td><td> 2.0679544</td><td>4.129252</td></tr>\n",
       "\t<tr><td> 938989</td><td>ENSG00000203799.12</td><td>CCDC162P  </td><td>transcribed_unitary_pseudogene</td><td>chr6 </td><td>109165831</td><td>109355063</td><td>+</td><td> 2.0178741</td><td> 0.18205145</td><td> 4.298218</td><td>7.998588e-05</td><td>0.083325990</td><td>1.4316067</td><td> 0.24786544</td><td> 1.7662430</td><td>4.096987</td></tr>\n",
       "\t<tr><td>1317061</td><td>ENSG00000152455.15</td><td>SUV39H2   </td><td>protein_coding                </td><td>chr10</td><td> 14878820</td><td> 14904315</td><td>+</td><td>-1.0368014</td><td> 1.58420440</td><td>-4.254209</td><td>9.239960e-05</td><td>0.084076581</td><td>1.3209879</td><td> 1.67017016</td><td> 0.6435633</td><td>4.034330</td></tr>\n",
       "\t<tr><td>2516503</td><td>ENSG00000207997.1 </td><td>MIR644A   </td><td>miRNA                         </td><td>chr20</td><td> 34466325</td><td> 34466418</td><td>+</td><td>-2.0527654</td><td> 0.08428673</td><td>-4.257439</td><td>9.142796e-05</td><td>0.084076581</td><td>1.2496381</td><td> 0.28171483</td><td>-1.2048359</td><td>4.038921</td></tr>\n",
       "\t<tr><td>1902157</td><td>ENSG00000249839.1 </td><td>AC011330.1</td><td>unprocessed_pseudogene        </td><td>chr15</td><td> 43663654</td><td> 43684339</td><td>-</td><td>-2.2957477</td><td>-1.75345745</td><td>-4.411090</td><td>5.511037e-05</td><td>0.067475394</td><td>1.1473389</td><td>-1.25799700</td><td>-2.5935716</td><td>4.258767</td></tr>\n",
       "\t<tr><td>1213337</td><td>ENSG00000215297.3 </td><td>AL354941.1</td><td>processed_pseudogene          </td><td>chr9 </td><td>  3364329</td><td>  3364792</td><td>-</td><td>-1.3534265</td><td>-0.28414918</td><td>-4.203706</td><td>1.089599e-04</td><td>0.090931993</td><td>1.0841651</td><td>-0.07959881</td><td>-1.0441184</td><td>3.962733</td></tr>\n",
       "\t<tr><td>2424163</td><td>ENSG00000268262.1 </td><td>AC011445.1</td><td>sense_overlapping             </td><td>chr19</td><td> 39314651</td><td> 39320858</td><td>-</td><td> 1.8663379</td><td>-1.25562893</td><td> 4.249061</td><td>9.396858e-05</td><td>0.084076581</td><td>1.0710741</td><td>-0.99141474</td><td> 0.6096816</td><td>4.027017</td></tr>\n",
       "\t<tr><td> 135927</td><td>ENSG00000239873.2 </td><td>GAPDHP27  </td><td>processed_pseudogene          </td><td>chr1 </td><td>119558755</td><td>119559774</td><td>-</td><td>-2.5641679</td><td>-1.79391812</td><td>-4.417659</td><td>5.392269e-05</td><td>0.067475394</td><td>1.0674137</td><td>-1.28915599</td><td>-2.5935716</td><td>4.268228</td></tr>\n",
       "\t<tr><td> 411108</td><td>ENSG00000119004.15</td><td>CYP20A1   </td><td>protein_coding                </td><td>chr2 </td><td>203238940</td><td>203305611</td><td>+</td><td>-0.4081091</td><td> 4.95656025</td><td>-4.202333</td><td>1.094483e-04</td><td>0.090931993</td><td>0.9880341</td><td> 4.97649128</td><td> 4.5793554</td><td>3.960791</td></tr>\n",
       "\t<tr><td> 788546</td><td>ENSG00000221263.1 </td><td>MIR548P   </td><td>miRNA                         </td><td>chr5 </td><td>100816482</td><td>100816565</td><td>-</td><td>-1.6609153</td><td> 0.08722686</td><td>-4.123306</td><td>1.414354e-04</td><td>0.106135880</td><td>0.8895392</td><td> 0.27332331</td><td>-1.0685408</td><td>3.849442</td></tr>\n",
       "\t<tr><td> 831299</td><td>ENSG00000272112.1 </td><td>AC011374.2</td><td>lincRNA                       </td><td>chr5 </td><td>151724831</td><td>151725356</td><td>-</td><td>-0.9211003</td><td> 0.38667645</td><td>-4.098210</td><td>1.533707e-04</td><td>0.106237989</td><td>0.8571308</td><td> 0.51843792</td><td>-0.2455731</td><td>3.814258</td></tr>\n",
       "\t<tr><td>1446163</td><td>ENSG00000246225.6 </td><td>AC006299.1</td><td>antisense                     </td><td>chr11</td><td> 22829380</td><td> 22945393</td><td>+</td><td>-1.3275493</td><td> 0.30180862</td><td>-4.094388</td><td>1.552720e-04</td><td>0.106237989</td><td>0.8380727</td><td> 0.45545351</td><td>-0.6502991</td><td>3.808907</td></tr>\n",
       "\t<tr><td>⋮</td><td>⋮</td><td>⋮</td><td>⋮</td><td>⋮</td><td>⋮</td><td>⋮</td><td>⋮</td><td>⋮</td><td>⋮</td><td>⋮</td><td>⋮</td><td>⋮</td><td>⋮</td><td>⋮</td><td>⋮</td><td>⋮</td></tr>\n",
       "\t<tr><td>2629021</td><td>ENSG00000100380.13</td><td>ST13      </td><td>protein_coding   </td><td>chr22</td><td> 40824535</td><td> 40857022</td><td>-</td><td>-0.0210850473</td><td>5.883271</td><td>-0.073408226</td><td>0.9417755</td><td>0.9895449</td><td>-6.552868</td><td>5.884015</td><td>5.925723</td><td>0.0260525948</td></tr>\n",
       "\t<tr><td> 143442</td><td>ENSG00000270629.5 </td><td>NBPF14    </td><td>protein_coding   </td><td>chr1 </td><td>148531385</td><td>148679751</td><td>-</td><td>-0.0122562213</td><td>5.800746</td><td>-0.047660159</td><td>0.9621778</td><td>0.9931292</td><td>-6.552911</td><td>5.804907</td><td>5.762063</td><td>0.0167446481</td></tr>\n",
       "\t<tr><td>2339482</td><td>ENSG00000126934.13</td><td>MAP2K2    </td><td>protein_coding   </td><td>chr19</td><td>  4090321</td><td>  4124129</td><td>-</td><td> 0.0113884852</td><td>5.590557</td><td> 0.041528279</td><td>0.9670409</td><td>0.9931292</td><td>-6.552997</td><td>5.583883</td><td>5.829428</td><td>0.0145551493</td></tr>\n",
       "\t<tr><td> 631107</td><td>ENSG00000163945.16</td><td>UVSSA     </td><td>protein_coding   </td><td>chr4 </td><td>  1347266</td><td>  1395992</td><td>+</td><td>-0.0067393779</td><td>5.890316</td><td>-0.030202819</td><td>0.9760261</td><td>0.9938847</td><td>-6.553045</td><td>5.887705</td><td>6.014294</td><td>0.0105385669</td></tr>\n",
       "\t<tr><td>1753702</td><td>ENSG00000152213.3 </td><td>ARL11     </td><td>protein_coding   </td><td>chr13</td><td> 49628299</td><td> 49633872</td><td>+</td><td>-0.0127107513</td><td>6.143292</td><td>-0.054391291</td><td>0.9568412</td><td>0.9924425</td><td>-6.553080</td><td>6.149321</td><td>6.045656</td><td>0.0191601378</td></tr>\n",
       "\t<tr><td>1000766</td><td>ENSG00000153814.12</td><td>JAZF1     </td><td>protein_coding   </td><td>chr7 </td><td> 27830573</td><td> 28180743</td><td>-</td><td> 0.0249079569</td><td>5.742919</td><td> 0.070709174</td><td>0.9439126</td><td>0.9898170</td><td>-6.553108</td><td>5.738081</td><td>5.929861</td><td>0.0250682115</td></tr>\n",
       "\t<tr><td> 152314</td><td>ENSG00000143442.21</td><td>POGZ      </td><td>protein_coding   </td><td>chr1 </td><td>151402724</td><td>151459465</td><td>-</td><td>-0.0028856424</td><td>6.172265</td><td>-0.021611438</td><td>0.9828443</td><td>0.9951783</td><td>-6.553129</td><td>6.173383</td><td>6.193014</td><td>0.0075152633</td></tr>\n",
       "\t<tr><td>  68065</td><td>ENSG00000198815.8 </td><td>FOXJ3     </td><td>protein_coding   </td><td>chr1 </td><td> 42176539</td><td> 42335877</td><td>-</td><td>-0.0054779295</td><td>6.071599</td><td>-0.045622578</td><td>0.9637937</td><td>0.9931292</td><td>-6.553173</td><td>6.072554</td><td>6.099794</td><td>0.0160159360</td></tr>\n",
       "\t<tr><td>2657237</td><td>ENSG00000260822.1 </td><td>AC004656.1</td><td>sense_overlapping</td><td>chrX </td><td> 24545516</td><td> 24550466</td><td>+</td><td> 0.0065156234</td><td>6.147420</td><td> 0.029691450</td><td>0.9764319</td><td>0.9940201</td><td>-6.553217</td><td>6.154706</td><td>6.018244</td><td>0.0103580464</td></tr>\n",
       "\t<tr><td>1337633</td><td>ENSG00000225830.12</td><td>ERCC6     </td><td>protein_coding   </td><td>chr10</td><td> 49455368</td><td> 49539538</td><td>-</td><td> 0.0046111738</td><td>6.261126</td><td> 0.029947665</td><td>0.9762286</td><td>0.9939603</td><td>-6.553424</td><td>6.263281</td><td>6.253536</td><td>0.0104484849</td></tr>\n",
       "\t<tr><td>2585014</td><td>ENSG00000131100.12</td><td>ATP6V1E1  </td><td>protein_coding   </td><td>chr22</td><td> 17592136</td><td> 17628818</td><td>-</td><td> 0.0013587562</td><td>6.220187</td><td> 0.006830511</td><td>0.9945774</td><td>0.9985694</td><td>-6.553503</td><td>6.226495</td><td>6.113107</td><td>0.0023614171</td></tr>\n",
       "\t<tr><td> 150599</td><td>ENSG00000163154.5 </td><td>TNFAIP8L2 </td><td>protein_coding   </td><td>chr1 </td><td>151156629</td><td>151159749</td><td>+</td><td>-0.0031955058</td><td>5.922158</td><td>-0.017026402</td><td>0.9864836</td><td>0.9962819</td><td>-6.553605</td><td>5.930645</td><td>5.772399</td><td>0.0059101158</td></tr>\n",
       "\t<tr><td> 140418</td><td>ENSG00000271601.3 </td><td>LIX1L     </td><td>protein_coding   </td><td>chr1 </td><td>145933423</td><td>145958001</td><td>-</td><td>-0.0054719410</td><td>5.582052</td><td>-0.038273824</td><td>0.9696225</td><td>0.9934514</td><td>-6.553627</td><td>5.582279</td><td>5.649095</td><td>0.0133973206</td></tr>\n",
       "\t<tr><td>2065786</td><td>ENSG00000102871.15</td><td>TRADD     </td><td>protein_coding   </td><td>chr16</td><td> 67154180</td><td> 67160298</td><td>-</td><td> 0.0059633386</td><td>5.750190</td><td> 0.043201586</td><td>0.9657137</td><td>0.9931292</td><td>-6.553629</td><td>5.754619</td><td>5.706226</td><td>0.0151515996</td></tr>\n",
       "\t<tr><td> 471754</td><td>ENSG00000131381.12</td><td>RBSN      </td><td>protein_coding   </td><td>chr3 </td><td> 15070073</td><td> 15099163</td><td>-</td><td>-0.0003037900</td><td>5.561038</td><td>-0.003110803</td><td>0.9975304</td><td>0.9995138</td><td>-6.553705</td><td>5.563356</td><td>5.577315</td><td>0.0010738692</td></tr>\n",
       "\t<tr><td>1482432</td><td>ENSG00000162191.13</td><td>UBXN1     </td><td>protein_coding   </td><td>chr11</td><td> 62676498</td><td> 62679117</td><td>-</td><td> 0.0001873167</td><td>6.124897</td><td> 0.001664282</td><td>0.9986787</td><td>0.9996926</td><td>-6.554049</td><td>6.129813</td><td>6.054636</td><td>0.0005741914</td></tr>\n",
       "\t<tr><td>1311282</td><td>ENSG00000134453.15</td><td>RBM17     </td><td>protein_coding   </td><td>chr10</td><td>  6088987</td><td>  6117457</td><td>+</td><td>-0.0053824908</td><td>5.808151</td><td>-0.047837446</td><td>0.9620373</td><td>0.9931292</td><td>-6.554086</td><td>5.811924</td><td>5.777325</td><td>0.0168081066</td></tr>\n",
       "\t<tr><td>1930571</td><td>ENSG00000169032.9 </td><td>MAP2K1    </td><td>protein_coding   </td><td>chr15</td><td> 66386817</td><td> 66492312</td><td>+</td><td> 0.0094781393</td><td>5.755572</td><td> 0.054955204</td><td>0.9563942</td><td>0.9924425</td><td>-6.554093</td><td>5.757262</td><td>5.778741</td><td>0.0193630717</td></tr>\n",
       "\t<tr><td> 902183</td><td>ENSG00000001167.14</td><td>NFYA      </td><td>protein_coding   </td><td>chr6 </td><td> 41072945</td><td> 41099976</td><td>+</td><td>-0.0029306418</td><td>5.994699</td><td>-0.026065657</td><td>0.9793092</td><td>0.9945779</td><td>-6.554105</td><td>6.001461</td><td>5.883089</td><td>0.0090801595</td></tr>\n",
       "\t<tr><td>1534043</td><td>ENSG00000166004.14</td><td>CEP295    </td><td>protein_coding   </td><td>chr11</td><td> 93661639</td><td> 93730358</td><td>+</td><td>-0.0064078570</td><td>6.058281</td><td>-0.041603317</td><td>0.9669814</td><td>0.9931292</td><td>-6.554134</td><td>6.062654</td><td>6.003403</td><td>0.0145818801</td></tr>\n",
       "\t<tr><td>  54855</td><td>ENSG00000116497.17</td><td>S100PBP   </td><td>protein_coding   </td><td>chr1 </td><td> 32816767</td><td> 32858879</td><td>+</td><td> 0.0045598307</td><td>6.138572</td><td> 0.037492079</td><td>0.9702427</td><td>0.9934514</td><td>-6.554234</td><td>6.137811</td><td>6.206403</td><td>0.0131196382</td></tr>\n",
       "\t<tr><td> 739430</td><td>ENSG00000037474.14</td><td>NSUN2     </td><td>protein_coding   </td><td>chr5 </td><td>  6599239</td><td>  6633291</td><td>-</td><td> 0.0016011688</td><td>6.207149</td><td> 0.012742624</td><td>0.9898841</td><td>0.9974360</td><td>-6.554293</td><td>6.209141</td><td>6.205164</td><td>0.0044156603</td></tr>\n",
       "\t<tr><td>1378718</td><td>ENSG00000166024.13</td><td>R3HCC1L   </td><td>protein_coding   </td><td>chr10</td><td> 98134624</td><td> 98244897</td><td>+</td><td> 0.0020579966</td><td>5.729430</td><td> 0.012655027</td><td>0.9899536</td><td>0.9974360</td><td>-6.554305</td><td>5.735072</td><td>5.656796</td><td>0.0043851535</td></tr>\n",
       "\t<tr><td>2494256</td><td>ENSG00000125818.17</td><td>PSMF1     </td><td>protein_coding   </td><td>chr20</td><td>  1113263</td><td>  1189415</td><td>+</td><td> 0.0222235859</td><td>6.284037</td><td> 0.053709566</td><td>0.9573816</td><td>0.9924425</td><td>-6.554582</td><td>6.271599</td><td>6.637365</td><td>0.0189149253</td></tr>\n",
       "\t<tr><td>2286412</td><td>ENSG00000168675.18</td><td>LDLRAD4   </td><td>protein_coding   </td><td>chr18</td><td> 13217498</td><td> 13652755</td><td>+</td><td> 0.0036141435</td><td>5.800740</td><td> 0.019512393</td><td>0.9845104</td><td>0.9956369</td><td>-6.554763</td><td>5.797789</td><td>5.935898</td><td>0.0067797028</td></tr>\n",
       "\t<tr><td>1339287</td><td>ENSG00000198964.13</td><td>SGMS1     </td><td>protein_coding   </td><td>chr10</td><td> 50305586</td><td> 50625163</td><td>-</td><td>-0.0022111890</td><td>6.061227</td><td>-0.014740546</td><td>0.9882981</td><td>0.9968685</td><td>-6.554854</td><td>6.065601</td><td>6.006003</td><td>0.0051120352</td></tr>\n",
       "\t<tr><td>1102957</td><td>ENSG00000171115.3 </td><td>GIMAP8    </td><td>protein_coding   </td><td>chr7 </td><td>150450630</td><td>150479392</td><td>+</td><td>-0.0004351412</td><td>6.119565</td><td>-0.002332803</td><td>0.9981480</td><td>0.9995813</td><td>-6.555075</td><td>6.120227</td><td>6.153569</td><td>0.0008050500</td></tr>\n",
       "\t<tr><td> 151583</td><td>ENSG00000143390.17</td><td>RFX5      </td><td>protein_coding   </td><td>chr1 </td><td>151340640</td><td>151347357</td><td>-</td><td> 0.0026023540</td><td>5.888371</td><td> 0.019825936</td><td>0.9842615</td><td>0.9956029</td><td>-6.555299</td><td>5.890451</td><td>5.895943</td><td>0.0068894997</td></tr>\n",
       "\t<tr><td>1725870</td><td>ENSG00000185344.13</td><td>ATP6V0A2  </td><td>protein_coding   </td><td>chr12</td><td>123712318</td><td>123761755</td><td>+</td><td> 0.0009520926</td><td>5.810460</td><td> 0.008473756</td><td>0.9932729</td><td>0.9984823</td><td>-6.555388</td><td>5.811800</td><td>5.839291</td><td>0.0029314219</td></tr>\n",
       "\t<tr><td> 496241</td><td>ENSG00000163812.13</td><td>ZDHHC3    </td><td>protein_coding   </td><td>chr3 </td><td> 44915257</td><td> 44976185</td><td>-</td><td> 0.0005781312</td><td>6.018223</td><td> 0.003403306</td><td>0.9972982</td><td>0.9995138</td><td>-6.556106</td><td>6.017937</td><td>6.079431</td><td>0.0011749797</td></tr>\n",
       "</tbody>\n",
       "</table>\n"
      ],
      "text/latex": [
       "A data.frame: 23263 × 17\n",
       "\\begin{tabular}{lllllllllllllllll}\n",
       " X & gene\\_id & gene\\_name & gene\\_type & seqname & start & end & strand & logFC & AveExpr & t & P.Value & adj.P.Val & B & AvgExpr\\_Control & AvgExpr\\_Case & minus\\_log10\\_pValue\\\\\n",
       " <int> & <chr> & <chr> & <chr> & <chr> & <int> & <int> & <chr> & <dbl> & <dbl> & <dbl> & <dbl> & <dbl> & <dbl> & <dbl> & <dbl> & <dbl>\\\\\n",
       "\\hline\n",
       "\t 2705958 & ENSG00000102024.17 & PLS3       & protein\\_coding                 & chrX  & 115561174 & 115650861 & + & -3.3889232 & -1.24385853 & -5.919555 & 2.962222e-07 & 0.006891017 & 4.8808682 & -0.82031750 & -3.0737653 & 6.528382\\\\\n",
       "\t  750985 & ENSG00000270558.1  & AC025449.1 & processed\\_pseudogene           & chr5  &  37286449 &  37286977 & - & -1.5634244 & -0.44404056 & -5.285480 & 2.784043e-06 & 0.032382597 & 4.0898778 & -0.21616411 & -1.4621504 & 5.555324\\\\\n",
       "\t 1853421 & ENSG00000259066.5  & AL110118.2 & protein\\_coding                 & chr14 &  93184973 &  93218586 & + & -2.4995018 & -0.85731418 & -5.069837 & 5.894265e-06 & 0.032619073 & 3.1116685 & -0.52581213 & -2.5335146 & 5.229570\\\\\n",
       "\t 2701191 & ENSG00000198088.10 & NUP62CL    & protein\\_coding                 & chrX  & 107123427 & 107206433 & - & -2.3953414 & -0.03503932 & -4.921902 & 9.815308e-06 & 0.032619073 & 2.9839127 &  0.21166362 & -2.1132514 & 5.008096\\\\\n",
       "\t  743062 & ENSG00000248150.1  & LINC02150  & lincRNA                        & chr5  &  16373361 &  16440081 & - &  1.9077463 & -0.85472528 &  4.881962 & 1.125616e-05 & 0.032731499 & 2.9715220 & -0.65986000 &  0.7088294 & 4.948610\\\\\n",
       "\t 1666461 & ENSG00000221949.5  & LINC01465  & lincRNA                        & chr12 &  62601751 &  62603690 & - & -2.1109096 & -0.85432699 & -4.937189 & 9.313206e-06 & 0.032619073 & 2.8812698 & -0.55667876 & -1.6087915 & 5.030901\\\\\n",
       "\t  933342 & ENSG00000199630.1  & RF00019    & misc\\_RNA                       & chr6  &  89841329 &  89841424 & + & -2.6929473 & -1.03758636 & -4.980005 & 8.037606e-06 & 0.032619073 & 2.8612699 & -0.67215584 & -2.3647631 & 5.094873\\\\\n",
       "\t  899459 & ENSG00000226976.3  & COX6A1P2   & processed\\_pseudogene           & chr6  &  37044860 &  37045189 & + & -2.5237665 & -1.79734388 & -5.060195 & 6.094208e-06 & 0.032619073 & 2.6194129 & -1.28305420 & -3.0737653 & 5.215083\\\\\n",
       "\t 1719633 & ENSG00000139714.12 & MORN3      & protein\\_coding                 & chr12 & 121648742 & 121672631 & - &  1.3505044 &  2.27543668 &  4.648392 & 2.491040e-05 & 0.041392193 & 2.4992654 &  2.26175574 &  3.3471046 & 4.603619\\\\\n",
       "\t 1226290 & ENSG00000224802.2  & TUBB4BP2   & processed\\_pseudogene           & chr9  &  34109171 &  34109968 & - & -1.2250377 &  0.46363997 & -4.566445 & 3.282121e-05 & 0.050901314 & 2.2135332 &  0.60080264 & -0.3975267 & 4.483845\\\\\n",
       "\t  996868 & ENSG00000230658.1  & KLHL7-DT   & lincRNA                        & chr7  &  23101228 &  23105703 & - & -2.9341151 & -0.89164811 & -4.686274 & 2.191703e-05 & 0.040943816 & 2.0192775 & -0.53994480 & -2.5935716 & 4.659218\\\\\n",
       "\t  993098 & ENSG00000272361.2  & AC005014.2 & lincRNA                        & chr7  &  16593626 &  16594224 & - & -2.3688579 & -1.58970496 & -4.744148 & 1.801220e-05 & 0.040943816 & 1.9790966 & -1.13720202 & -2.7542023 & 4.744433\\\\\n",
       "\t 2430678 & ENSG00000261857.6  & MIA        & protein\\_coding                 & chr19 &  40771648 &  40777490 & + & -2.1262607 & -1.40517895 & -4.685327 & 2.198733e-05 & 0.040943816 & 1.9616680 & -1.00137912 & -2.5335146 & 4.657827\\\\\n",
       "\t 1338564 & ENSG00000223111.1  & SNORA74C-2 & snoRNA                         & chr10 &  49954214 &  49954414 & + & -2.3776679 & -1.67826546 & -4.673554 & 2.288052e-05 & 0.040943816 & 1.8598991 & -1.19916224 & -2.3078151 & 4.640534\\\\\n",
       "\t 1500594 & ENSG00000174547.13 & MRPL11     & protein\\_coding                 & chr11 &  66435075 &  66466738 & - & -0.8280396 &  3.19566589 & -4.443760 & 4.944537e-05 & 0.067475394 & 1.8280275 &  3.24838979 &  2.2877373 & 4.305874\\\\\n",
       "\t 1163852 & ENSG00000104427.11 & ZC2HC1A    & protein\\_coding                 & chr8  &  78666047 &  78719765 & + & -1.6967113 &  2.79253636 & -4.430411 & 5.168788e-05 & 0.067475394 & 1.8189594 &  2.87310545 &  1.3908081 & 4.286611\\\\\n",
       "\t 1395298 & ENSG00000222588.1  & RF00413    & snoRNA                         & chr10 & 119060983 & 119061111 & - & -2.8900263 & -1.76050785 & -4.690699 & 2.159121e-05 & 0.040943816 & 1.7038089 & -1.23767447 & -3.0737653 & 4.665723\\\\\n",
       "\t  311844 & ENSG00000264324.1  & AC006030.1 & protein\\_coding                 & chr2  &  74211604 &  74363377 & - & -1.2776102 & -0.09962164 & -4.332527 & 7.144989e-05 & 0.082261085 & 1.4736063 &  0.08026511 & -0.8540893 & 4.145998\\\\\n",
       "\t  278488 & ENSG00000276334.1  & AL133243.2 & sense\\_intronic                 & chr2  &  32521927 &  32523547 & + & -0.8323316 &  2.75841413 & -4.320816 & 7.425881e-05 & 0.082261085 & 1.4692984 &  2.80754765 &  2.0679544 & 4.129252\\\\\n",
       "\t  938989 & ENSG00000203799.12 & CCDC162P   & transcribed\\_unitary\\_pseudogene & chr6  & 109165831 & 109355063 & + &  2.0178741 &  0.18205145 &  4.298218 & 7.998588e-05 & 0.083325990 & 1.4316067 &  0.24786544 &  1.7662430 & 4.096987\\\\\n",
       "\t 1317061 & ENSG00000152455.15 & SUV39H2    & protein\\_coding                 & chr10 &  14878820 &  14904315 & + & -1.0368014 &  1.58420440 & -4.254209 & 9.239960e-05 & 0.084076581 & 1.3209879 &  1.67017016 &  0.6435633 & 4.034330\\\\\n",
       "\t 2516503 & ENSG00000207997.1  & MIR644A    & miRNA                          & chr20 &  34466325 &  34466418 & + & -2.0527654 &  0.08428673 & -4.257439 & 9.142796e-05 & 0.084076581 & 1.2496381 &  0.28171483 & -1.2048359 & 4.038921\\\\\n",
       "\t 1902157 & ENSG00000249839.1  & AC011330.1 & unprocessed\\_pseudogene         & chr15 &  43663654 &  43684339 & - & -2.2957477 & -1.75345745 & -4.411090 & 5.511037e-05 & 0.067475394 & 1.1473389 & -1.25799700 & -2.5935716 & 4.258767\\\\\n",
       "\t 1213337 & ENSG00000215297.3  & AL354941.1 & processed\\_pseudogene           & chr9  &   3364329 &   3364792 & - & -1.3534265 & -0.28414918 & -4.203706 & 1.089599e-04 & 0.090931993 & 1.0841651 & -0.07959881 & -1.0441184 & 3.962733\\\\\n",
       "\t 2424163 & ENSG00000268262.1  & AC011445.1 & sense\\_overlapping              & chr19 &  39314651 &  39320858 & - &  1.8663379 & -1.25562893 &  4.249061 & 9.396858e-05 & 0.084076581 & 1.0710741 & -0.99141474 &  0.6096816 & 4.027017\\\\\n",
       "\t  135927 & ENSG00000239873.2  & GAPDHP27   & processed\\_pseudogene           & chr1  & 119558755 & 119559774 & - & -2.5641679 & -1.79391812 & -4.417659 & 5.392269e-05 & 0.067475394 & 1.0674137 & -1.28915599 & -2.5935716 & 4.268228\\\\\n",
       "\t  411108 & ENSG00000119004.15 & CYP20A1    & protein\\_coding                 & chr2  & 203238940 & 203305611 & + & -0.4081091 &  4.95656025 & -4.202333 & 1.094483e-04 & 0.090931993 & 0.9880341 &  4.97649128 &  4.5793554 & 3.960791\\\\\n",
       "\t  788546 & ENSG00000221263.1  & MIR548P    & miRNA                          & chr5  & 100816482 & 100816565 & - & -1.6609153 &  0.08722686 & -4.123306 & 1.414354e-04 & 0.106135880 & 0.8895392 &  0.27332331 & -1.0685408 & 3.849442\\\\\n",
       "\t  831299 & ENSG00000272112.1  & AC011374.2 & lincRNA                        & chr5  & 151724831 & 151725356 & - & -0.9211003 &  0.38667645 & -4.098210 & 1.533707e-04 & 0.106237989 & 0.8571308 &  0.51843792 & -0.2455731 & 3.814258\\\\\n",
       "\t 1446163 & ENSG00000246225.6  & AC006299.1 & antisense                      & chr11 &  22829380 &  22945393 & + & -1.3275493 &  0.30180862 & -4.094388 & 1.552720e-04 & 0.106237989 & 0.8380727 &  0.45545351 & -0.6502991 & 3.808907\\\\\n",
       "\t ⋮ & ⋮ & ⋮ & ⋮ & ⋮ & ⋮ & ⋮ & ⋮ & ⋮ & ⋮ & ⋮ & ⋮ & ⋮ & ⋮ & ⋮ & ⋮ & ⋮\\\\\n",
       "\t 2629021 & ENSG00000100380.13 & ST13       & protein\\_coding    & chr22 &  40824535 &  40857022 & - & -0.0210850473 & 5.883271 & -0.073408226 & 0.9417755 & 0.9895449 & -6.552868 & 5.884015 & 5.925723 & 0.0260525948\\\\\n",
       "\t  143442 & ENSG00000270629.5  & NBPF14     & protein\\_coding    & chr1  & 148531385 & 148679751 & - & -0.0122562213 & 5.800746 & -0.047660159 & 0.9621778 & 0.9931292 & -6.552911 & 5.804907 & 5.762063 & 0.0167446481\\\\\n",
       "\t 2339482 & ENSG00000126934.13 & MAP2K2     & protein\\_coding    & chr19 &   4090321 &   4124129 & - &  0.0113884852 & 5.590557 &  0.041528279 & 0.9670409 & 0.9931292 & -6.552997 & 5.583883 & 5.829428 & 0.0145551493\\\\\n",
       "\t  631107 & ENSG00000163945.16 & UVSSA      & protein\\_coding    & chr4  &   1347266 &   1395992 & + & -0.0067393779 & 5.890316 & -0.030202819 & 0.9760261 & 0.9938847 & -6.553045 & 5.887705 & 6.014294 & 0.0105385669\\\\\n",
       "\t 1753702 & ENSG00000152213.3  & ARL11      & protein\\_coding    & chr13 &  49628299 &  49633872 & + & -0.0127107513 & 6.143292 & -0.054391291 & 0.9568412 & 0.9924425 & -6.553080 & 6.149321 & 6.045656 & 0.0191601378\\\\\n",
       "\t 1000766 & ENSG00000153814.12 & JAZF1      & protein\\_coding    & chr7  &  27830573 &  28180743 & - &  0.0249079569 & 5.742919 &  0.070709174 & 0.9439126 & 0.9898170 & -6.553108 & 5.738081 & 5.929861 & 0.0250682115\\\\\n",
       "\t  152314 & ENSG00000143442.21 & POGZ       & protein\\_coding    & chr1  & 151402724 & 151459465 & - & -0.0028856424 & 6.172265 & -0.021611438 & 0.9828443 & 0.9951783 & -6.553129 & 6.173383 & 6.193014 & 0.0075152633\\\\\n",
       "\t   68065 & ENSG00000198815.8  & FOXJ3      & protein\\_coding    & chr1  &  42176539 &  42335877 & - & -0.0054779295 & 6.071599 & -0.045622578 & 0.9637937 & 0.9931292 & -6.553173 & 6.072554 & 6.099794 & 0.0160159360\\\\\n",
       "\t 2657237 & ENSG00000260822.1  & AC004656.1 & sense\\_overlapping & chrX  &  24545516 &  24550466 & + &  0.0065156234 & 6.147420 &  0.029691450 & 0.9764319 & 0.9940201 & -6.553217 & 6.154706 & 6.018244 & 0.0103580464\\\\\n",
       "\t 1337633 & ENSG00000225830.12 & ERCC6      & protein\\_coding    & chr10 &  49455368 &  49539538 & - &  0.0046111738 & 6.261126 &  0.029947665 & 0.9762286 & 0.9939603 & -6.553424 & 6.263281 & 6.253536 & 0.0104484849\\\\\n",
       "\t 2585014 & ENSG00000131100.12 & ATP6V1E1   & protein\\_coding    & chr22 &  17592136 &  17628818 & - &  0.0013587562 & 6.220187 &  0.006830511 & 0.9945774 & 0.9985694 & -6.553503 & 6.226495 & 6.113107 & 0.0023614171\\\\\n",
       "\t  150599 & ENSG00000163154.5  & TNFAIP8L2  & protein\\_coding    & chr1  & 151156629 & 151159749 & + & -0.0031955058 & 5.922158 & -0.017026402 & 0.9864836 & 0.9962819 & -6.553605 & 5.930645 & 5.772399 & 0.0059101158\\\\\n",
       "\t  140418 & ENSG00000271601.3  & LIX1L      & protein\\_coding    & chr1  & 145933423 & 145958001 & - & -0.0054719410 & 5.582052 & -0.038273824 & 0.9696225 & 0.9934514 & -6.553627 & 5.582279 & 5.649095 & 0.0133973206\\\\\n",
       "\t 2065786 & ENSG00000102871.15 & TRADD      & protein\\_coding    & chr16 &  67154180 &  67160298 & - &  0.0059633386 & 5.750190 &  0.043201586 & 0.9657137 & 0.9931292 & -6.553629 & 5.754619 & 5.706226 & 0.0151515996\\\\\n",
       "\t  471754 & ENSG00000131381.12 & RBSN       & protein\\_coding    & chr3  &  15070073 &  15099163 & - & -0.0003037900 & 5.561038 & -0.003110803 & 0.9975304 & 0.9995138 & -6.553705 & 5.563356 & 5.577315 & 0.0010738692\\\\\n",
       "\t 1482432 & ENSG00000162191.13 & UBXN1      & protein\\_coding    & chr11 &  62676498 &  62679117 & - &  0.0001873167 & 6.124897 &  0.001664282 & 0.9986787 & 0.9996926 & -6.554049 & 6.129813 & 6.054636 & 0.0005741914\\\\\n",
       "\t 1311282 & ENSG00000134453.15 & RBM17      & protein\\_coding    & chr10 &   6088987 &   6117457 & + & -0.0053824908 & 5.808151 & -0.047837446 & 0.9620373 & 0.9931292 & -6.554086 & 5.811924 & 5.777325 & 0.0168081066\\\\\n",
       "\t 1930571 & ENSG00000169032.9  & MAP2K1     & protein\\_coding    & chr15 &  66386817 &  66492312 & + &  0.0094781393 & 5.755572 &  0.054955204 & 0.9563942 & 0.9924425 & -6.554093 & 5.757262 & 5.778741 & 0.0193630717\\\\\n",
       "\t  902183 & ENSG00000001167.14 & NFYA       & protein\\_coding    & chr6  &  41072945 &  41099976 & + & -0.0029306418 & 5.994699 & -0.026065657 & 0.9793092 & 0.9945779 & -6.554105 & 6.001461 & 5.883089 & 0.0090801595\\\\\n",
       "\t 1534043 & ENSG00000166004.14 & CEP295     & protein\\_coding    & chr11 &  93661639 &  93730358 & + & -0.0064078570 & 6.058281 & -0.041603317 & 0.9669814 & 0.9931292 & -6.554134 & 6.062654 & 6.003403 & 0.0145818801\\\\\n",
       "\t   54855 & ENSG00000116497.17 & S100PBP    & protein\\_coding    & chr1  &  32816767 &  32858879 & + &  0.0045598307 & 6.138572 &  0.037492079 & 0.9702427 & 0.9934514 & -6.554234 & 6.137811 & 6.206403 & 0.0131196382\\\\\n",
       "\t  739430 & ENSG00000037474.14 & NSUN2      & protein\\_coding    & chr5  &   6599239 &   6633291 & - &  0.0016011688 & 6.207149 &  0.012742624 & 0.9898841 & 0.9974360 & -6.554293 & 6.209141 & 6.205164 & 0.0044156603\\\\\n",
       "\t 1378718 & ENSG00000166024.13 & R3HCC1L    & protein\\_coding    & chr10 &  98134624 &  98244897 & + &  0.0020579966 & 5.729430 &  0.012655027 & 0.9899536 & 0.9974360 & -6.554305 & 5.735072 & 5.656796 & 0.0043851535\\\\\n",
       "\t 2494256 & ENSG00000125818.17 & PSMF1      & protein\\_coding    & chr20 &   1113263 &   1189415 & + &  0.0222235859 & 6.284037 &  0.053709566 & 0.9573816 & 0.9924425 & -6.554582 & 6.271599 & 6.637365 & 0.0189149253\\\\\n",
       "\t 2286412 & ENSG00000168675.18 & LDLRAD4    & protein\\_coding    & chr18 &  13217498 &  13652755 & + &  0.0036141435 & 5.800740 &  0.019512393 & 0.9845104 & 0.9956369 & -6.554763 & 5.797789 & 5.935898 & 0.0067797028\\\\\n",
       "\t 1339287 & ENSG00000198964.13 & SGMS1      & protein\\_coding    & chr10 &  50305586 &  50625163 & - & -0.0022111890 & 6.061227 & -0.014740546 & 0.9882981 & 0.9968685 & -6.554854 & 6.065601 & 6.006003 & 0.0051120352\\\\\n",
       "\t 1102957 & ENSG00000171115.3  & GIMAP8     & protein\\_coding    & chr7  & 150450630 & 150479392 & + & -0.0004351412 & 6.119565 & -0.002332803 & 0.9981480 & 0.9995813 & -6.555075 & 6.120227 & 6.153569 & 0.0008050500\\\\\n",
       "\t  151583 & ENSG00000143390.17 & RFX5       & protein\\_coding    & chr1  & 151340640 & 151347357 & - &  0.0026023540 & 5.888371 &  0.019825936 & 0.9842615 & 0.9956029 & -6.555299 & 5.890451 & 5.895943 & 0.0068894997\\\\\n",
       "\t 1725870 & ENSG00000185344.13 & ATP6V0A2   & protein\\_coding    & chr12 & 123712318 & 123761755 & + &  0.0009520926 & 5.810460 &  0.008473756 & 0.9932729 & 0.9984823 & -6.555388 & 5.811800 & 5.839291 & 0.0029314219\\\\\n",
       "\t  496241 & ENSG00000163812.13 & ZDHHC3     & protein\\_coding    & chr3  &  44915257 &  44976185 & - &  0.0005781312 & 6.018223 &  0.003403306 & 0.9972982 & 0.9995138 & -6.556106 & 6.017937 & 6.079431 & 0.0011749797\\\\\n",
       "\\end{tabular}\n"
      ],
      "text/markdown": [
       "\n",
       "A data.frame: 23263 × 17\n",
       "\n",
       "| X &lt;int&gt; | gene_id &lt;chr&gt; | gene_name &lt;chr&gt; | gene_type &lt;chr&gt; | seqname &lt;chr&gt; | start &lt;int&gt; | end &lt;int&gt; | strand &lt;chr&gt; | logFC &lt;dbl&gt; | AveExpr &lt;dbl&gt; | t &lt;dbl&gt; | P.Value &lt;dbl&gt; | adj.P.Val &lt;dbl&gt; | B &lt;dbl&gt; | AvgExpr_Control &lt;dbl&gt; | AvgExpr_Case &lt;dbl&gt; | minus_log10_pValue &lt;dbl&gt; |\n",
       "|---|---|---|---|---|---|---|---|---|---|---|---|---|---|---|---|---|\n",
       "| 2705958 | ENSG00000102024.17 | PLS3       | protein_coding                 | chrX  | 115561174 | 115650861 | + | -3.3889232 | -1.24385853 | -5.919555 | 2.962222e-07 | 0.006891017 | 4.8808682 | -0.82031750 | -3.0737653 | 6.528382 |\n",
       "|  750985 | ENSG00000270558.1  | AC025449.1 | processed_pseudogene           | chr5  |  37286449 |  37286977 | - | -1.5634244 | -0.44404056 | -5.285480 | 2.784043e-06 | 0.032382597 | 4.0898778 | -0.21616411 | -1.4621504 | 5.555324 |\n",
       "| 1853421 | ENSG00000259066.5  | AL110118.2 | protein_coding                 | chr14 |  93184973 |  93218586 | + | -2.4995018 | -0.85731418 | -5.069837 | 5.894265e-06 | 0.032619073 | 3.1116685 | -0.52581213 | -2.5335146 | 5.229570 |\n",
       "| 2701191 | ENSG00000198088.10 | NUP62CL    | protein_coding                 | chrX  | 107123427 | 107206433 | - | -2.3953414 | -0.03503932 | -4.921902 | 9.815308e-06 | 0.032619073 | 2.9839127 |  0.21166362 | -2.1132514 | 5.008096 |\n",
       "|  743062 | ENSG00000248150.1  | LINC02150  | lincRNA                        | chr5  |  16373361 |  16440081 | - |  1.9077463 | -0.85472528 |  4.881962 | 1.125616e-05 | 0.032731499 | 2.9715220 | -0.65986000 |  0.7088294 | 4.948610 |\n",
       "| 1666461 | ENSG00000221949.5  | LINC01465  | lincRNA                        | chr12 |  62601751 |  62603690 | - | -2.1109096 | -0.85432699 | -4.937189 | 9.313206e-06 | 0.032619073 | 2.8812698 | -0.55667876 | -1.6087915 | 5.030901 |\n",
       "|  933342 | ENSG00000199630.1  | RF00019    | misc_RNA                       | chr6  |  89841329 |  89841424 | + | -2.6929473 | -1.03758636 | -4.980005 | 8.037606e-06 | 0.032619073 | 2.8612699 | -0.67215584 | -2.3647631 | 5.094873 |\n",
       "|  899459 | ENSG00000226976.3  | COX6A1P2   | processed_pseudogene           | chr6  |  37044860 |  37045189 | + | -2.5237665 | -1.79734388 | -5.060195 | 6.094208e-06 | 0.032619073 | 2.6194129 | -1.28305420 | -3.0737653 | 5.215083 |\n",
       "| 1719633 | ENSG00000139714.12 | MORN3      | protein_coding                 | chr12 | 121648742 | 121672631 | - |  1.3505044 |  2.27543668 |  4.648392 | 2.491040e-05 | 0.041392193 | 2.4992654 |  2.26175574 |  3.3471046 | 4.603619 |\n",
       "| 1226290 | ENSG00000224802.2  | TUBB4BP2   | processed_pseudogene           | chr9  |  34109171 |  34109968 | - | -1.2250377 |  0.46363997 | -4.566445 | 3.282121e-05 | 0.050901314 | 2.2135332 |  0.60080264 | -0.3975267 | 4.483845 |\n",
       "|  996868 | ENSG00000230658.1  | KLHL7-DT   | lincRNA                        | chr7  |  23101228 |  23105703 | - | -2.9341151 | -0.89164811 | -4.686274 | 2.191703e-05 | 0.040943816 | 2.0192775 | -0.53994480 | -2.5935716 | 4.659218 |\n",
       "|  993098 | ENSG00000272361.2  | AC005014.2 | lincRNA                        | chr7  |  16593626 |  16594224 | - | -2.3688579 | -1.58970496 | -4.744148 | 1.801220e-05 | 0.040943816 | 1.9790966 | -1.13720202 | -2.7542023 | 4.744433 |\n",
       "| 2430678 | ENSG00000261857.6  | MIA        | protein_coding                 | chr19 |  40771648 |  40777490 | + | -2.1262607 | -1.40517895 | -4.685327 | 2.198733e-05 | 0.040943816 | 1.9616680 | -1.00137912 | -2.5335146 | 4.657827 |\n",
       "| 1338564 | ENSG00000223111.1  | SNORA74C-2 | snoRNA                         | chr10 |  49954214 |  49954414 | + | -2.3776679 | -1.67826546 | -4.673554 | 2.288052e-05 | 0.040943816 | 1.8598991 | -1.19916224 | -2.3078151 | 4.640534 |\n",
       "| 1500594 | ENSG00000174547.13 | MRPL11     | protein_coding                 | chr11 |  66435075 |  66466738 | - | -0.8280396 |  3.19566589 | -4.443760 | 4.944537e-05 | 0.067475394 | 1.8280275 |  3.24838979 |  2.2877373 | 4.305874 |\n",
       "| 1163852 | ENSG00000104427.11 | ZC2HC1A    | protein_coding                 | chr8  |  78666047 |  78719765 | + | -1.6967113 |  2.79253636 | -4.430411 | 5.168788e-05 | 0.067475394 | 1.8189594 |  2.87310545 |  1.3908081 | 4.286611 |\n",
       "| 1395298 | ENSG00000222588.1  | RF00413    | snoRNA                         | chr10 | 119060983 | 119061111 | - | -2.8900263 | -1.76050785 | -4.690699 | 2.159121e-05 | 0.040943816 | 1.7038089 | -1.23767447 | -3.0737653 | 4.665723 |\n",
       "|  311844 | ENSG00000264324.1  | AC006030.1 | protein_coding                 | chr2  |  74211604 |  74363377 | - | -1.2776102 | -0.09962164 | -4.332527 | 7.144989e-05 | 0.082261085 | 1.4736063 |  0.08026511 | -0.8540893 | 4.145998 |\n",
       "|  278488 | ENSG00000276334.1  | AL133243.2 | sense_intronic                 | chr2  |  32521927 |  32523547 | + | -0.8323316 |  2.75841413 | -4.320816 | 7.425881e-05 | 0.082261085 | 1.4692984 |  2.80754765 |  2.0679544 | 4.129252 |\n",
       "|  938989 | ENSG00000203799.12 | CCDC162P   | transcribed_unitary_pseudogene | chr6  | 109165831 | 109355063 | + |  2.0178741 |  0.18205145 |  4.298218 | 7.998588e-05 | 0.083325990 | 1.4316067 |  0.24786544 |  1.7662430 | 4.096987 |\n",
       "| 1317061 | ENSG00000152455.15 | SUV39H2    | protein_coding                 | chr10 |  14878820 |  14904315 | + | -1.0368014 |  1.58420440 | -4.254209 | 9.239960e-05 | 0.084076581 | 1.3209879 |  1.67017016 |  0.6435633 | 4.034330 |\n",
       "| 2516503 | ENSG00000207997.1  | MIR644A    | miRNA                          | chr20 |  34466325 |  34466418 | + | -2.0527654 |  0.08428673 | -4.257439 | 9.142796e-05 | 0.084076581 | 1.2496381 |  0.28171483 | -1.2048359 | 4.038921 |\n",
       "| 1902157 | ENSG00000249839.1  | AC011330.1 | unprocessed_pseudogene         | chr15 |  43663654 |  43684339 | - | -2.2957477 | -1.75345745 | -4.411090 | 5.511037e-05 | 0.067475394 | 1.1473389 | -1.25799700 | -2.5935716 | 4.258767 |\n",
       "| 1213337 | ENSG00000215297.3  | AL354941.1 | processed_pseudogene           | chr9  |   3364329 |   3364792 | - | -1.3534265 | -0.28414918 | -4.203706 | 1.089599e-04 | 0.090931993 | 1.0841651 | -0.07959881 | -1.0441184 | 3.962733 |\n",
       "| 2424163 | ENSG00000268262.1  | AC011445.1 | sense_overlapping              | chr19 |  39314651 |  39320858 | - |  1.8663379 | -1.25562893 |  4.249061 | 9.396858e-05 | 0.084076581 | 1.0710741 | -0.99141474 |  0.6096816 | 4.027017 |\n",
       "|  135927 | ENSG00000239873.2  | GAPDHP27   | processed_pseudogene           | chr1  | 119558755 | 119559774 | - | -2.5641679 | -1.79391812 | -4.417659 | 5.392269e-05 | 0.067475394 | 1.0674137 | -1.28915599 | -2.5935716 | 4.268228 |\n",
       "|  411108 | ENSG00000119004.15 | CYP20A1    | protein_coding                 | chr2  | 203238940 | 203305611 | + | -0.4081091 |  4.95656025 | -4.202333 | 1.094483e-04 | 0.090931993 | 0.9880341 |  4.97649128 |  4.5793554 | 3.960791 |\n",
       "|  788546 | ENSG00000221263.1  | MIR548P    | miRNA                          | chr5  | 100816482 | 100816565 | - | -1.6609153 |  0.08722686 | -4.123306 | 1.414354e-04 | 0.106135880 | 0.8895392 |  0.27332331 | -1.0685408 | 3.849442 |\n",
       "|  831299 | ENSG00000272112.1  | AC011374.2 | lincRNA                        | chr5  | 151724831 | 151725356 | - | -0.9211003 |  0.38667645 | -4.098210 | 1.533707e-04 | 0.106237989 | 0.8571308 |  0.51843792 | -0.2455731 | 3.814258 |\n",
       "| 1446163 | ENSG00000246225.6  | AC006299.1 | antisense                      | chr11 |  22829380 |  22945393 | + | -1.3275493 |  0.30180862 | -4.094388 | 1.552720e-04 | 0.106237989 | 0.8380727 |  0.45545351 | -0.6502991 | 3.808907 |\n",
       "| ⋮ | ⋮ | ⋮ | ⋮ | ⋮ | ⋮ | ⋮ | ⋮ | ⋮ | ⋮ | ⋮ | ⋮ | ⋮ | ⋮ | ⋮ | ⋮ | ⋮ |\n",
       "| 2629021 | ENSG00000100380.13 | ST13       | protein_coding    | chr22 |  40824535 |  40857022 | - | -0.0210850473 | 5.883271 | -0.073408226 | 0.9417755 | 0.9895449 | -6.552868 | 5.884015 | 5.925723 | 0.0260525948 |\n",
       "|  143442 | ENSG00000270629.5  | NBPF14     | protein_coding    | chr1  | 148531385 | 148679751 | - | -0.0122562213 | 5.800746 | -0.047660159 | 0.9621778 | 0.9931292 | -6.552911 | 5.804907 | 5.762063 | 0.0167446481 |\n",
       "| 2339482 | ENSG00000126934.13 | MAP2K2     | protein_coding    | chr19 |   4090321 |   4124129 | - |  0.0113884852 | 5.590557 |  0.041528279 | 0.9670409 | 0.9931292 | -6.552997 | 5.583883 | 5.829428 | 0.0145551493 |\n",
       "|  631107 | ENSG00000163945.16 | UVSSA      | protein_coding    | chr4  |   1347266 |   1395992 | + | -0.0067393779 | 5.890316 | -0.030202819 | 0.9760261 | 0.9938847 | -6.553045 | 5.887705 | 6.014294 | 0.0105385669 |\n",
       "| 1753702 | ENSG00000152213.3  | ARL11      | protein_coding    | chr13 |  49628299 |  49633872 | + | -0.0127107513 | 6.143292 | -0.054391291 | 0.9568412 | 0.9924425 | -6.553080 | 6.149321 | 6.045656 | 0.0191601378 |\n",
       "| 1000766 | ENSG00000153814.12 | JAZF1      | protein_coding    | chr7  |  27830573 |  28180743 | - |  0.0249079569 | 5.742919 |  0.070709174 | 0.9439126 | 0.9898170 | -6.553108 | 5.738081 | 5.929861 | 0.0250682115 |\n",
       "|  152314 | ENSG00000143442.21 | POGZ       | protein_coding    | chr1  | 151402724 | 151459465 | - | -0.0028856424 | 6.172265 | -0.021611438 | 0.9828443 | 0.9951783 | -6.553129 | 6.173383 | 6.193014 | 0.0075152633 |\n",
       "|   68065 | ENSG00000198815.8  | FOXJ3      | protein_coding    | chr1  |  42176539 |  42335877 | - | -0.0054779295 | 6.071599 | -0.045622578 | 0.9637937 | 0.9931292 | -6.553173 | 6.072554 | 6.099794 | 0.0160159360 |\n",
       "| 2657237 | ENSG00000260822.1  | AC004656.1 | sense_overlapping | chrX  |  24545516 |  24550466 | + |  0.0065156234 | 6.147420 |  0.029691450 | 0.9764319 | 0.9940201 | -6.553217 | 6.154706 | 6.018244 | 0.0103580464 |\n",
       "| 1337633 | ENSG00000225830.12 | ERCC6      | protein_coding    | chr10 |  49455368 |  49539538 | - |  0.0046111738 | 6.261126 |  0.029947665 | 0.9762286 | 0.9939603 | -6.553424 | 6.263281 | 6.253536 | 0.0104484849 |\n",
       "| 2585014 | ENSG00000131100.12 | ATP6V1E1   | protein_coding    | chr22 |  17592136 |  17628818 | - |  0.0013587562 | 6.220187 |  0.006830511 | 0.9945774 | 0.9985694 | -6.553503 | 6.226495 | 6.113107 | 0.0023614171 |\n",
       "|  150599 | ENSG00000163154.5  | TNFAIP8L2  | protein_coding    | chr1  | 151156629 | 151159749 | + | -0.0031955058 | 5.922158 | -0.017026402 | 0.9864836 | 0.9962819 | -6.553605 | 5.930645 | 5.772399 | 0.0059101158 |\n",
       "|  140418 | ENSG00000271601.3  | LIX1L      | protein_coding    | chr1  | 145933423 | 145958001 | - | -0.0054719410 | 5.582052 | -0.038273824 | 0.9696225 | 0.9934514 | -6.553627 | 5.582279 | 5.649095 | 0.0133973206 |\n",
       "| 2065786 | ENSG00000102871.15 | TRADD      | protein_coding    | chr16 |  67154180 |  67160298 | - |  0.0059633386 | 5.750190 |  0.043201586 | 0.9657137 | 0.9931292 | -6.553629 | 5.754619 | 5.706226 | 0.0151515996 |\n",
       "|  471754 | ENSG00000131381.12 | RBSN       | protein_coding    | chr3  |  15070073 |  15099163 | - | -0.0003037900 | 5.561038 | -0.003110803 | 0.9975304 | 0.9995138 | -6.553705 | 5.563356 | 5.577315 | 0.0010738692 |\n",
       "| 1482432 | ENSG00000162191.13 | UBXN1      | protein_coding    | chr11 |  62676498 |  62679117 | - |  0.0001873167 | 6.124897 |  0.001664282 | 0.9986787 | 0.9996926 | -6.554049 | 6.129813 | 6.054636 | 0.0005741914 |\n",
       "| 1311282 | ENSG00000134453.15 | RBM17      | protein_coding    | chr10 |   6088987 |   6117457 | + | -0.0053824908 | 5.808151 | -0.047837446 | 0.9620373 | 0.9931292 | -6.554086 | 5.811924 | 5.777325 | 0.0168081066 |\n",
       "| 1930571 | ENSG00000169032.9  | MAP2K1     | protein_coding    | chr15 |  66386817 |  66492312 | + |  0.0094781393 | 5.755572 |  0.054955204 | 0.9563942 | 0.9924425 | -6.554093 | 5.757262 | 5.778741 | 0.0193630717 |\n",
       "|  902183 | ENSG00000001167.14 | NFYA       | protein_coding    | chr6  |  41072945 |  41099976 | + | -0.0029306418 | 5.994699 | -0.026065657 | 0.9793092 | 0.9945779 | -6.554105 | 6.001461 | 5.883089 | 0.0090801595 |\n",
       "| 1534043 | ENSG00000166004.14 | CEP295     | protein_coding    | chr11 |  93661639 |  93730358 | + | -0.0064078570 | 6.058281 | -0.041603317 | 0.9669814 | 0.9931292 | -6.554134 | 6.062654 | 6.003403 | 0.0145818801 |\n",
       "|   54855 | ENSG00000116497.17 | S100PBP    | protein_coding    | chr1  |  32816767 |  32858879 | + |  0.0045598307 | 6.138572 |  0.037492079 | 0.9702427 | 0.9934514 | -6.554234 | 6.137811 | 6.206403 | 0.0131196382 |\n",
       "|  739430 | ENSG00000037474.14 | NSUN2      | protein_coding    | chr5  |   6599239 |   6633291 | - |  0.0016011688 | 6.207149 |  0.012742624 | 0.9898841 | 0.9974360 | -6.554293 | 6.209141 | 6.205164 | 0.0044156603 |\n",
       "| 1378718 | ENSG00000166024.13 | R3HCC1L    | protein_coding    | chr10 |  98134624 |  98244897 | + |  0.0020579966 | 5.729430 |  0.012655027 | 0.9899536 | 0.9974360 | -6.554305 | 5.735072 | 5.656796 | 0.0043851535 |\n",
       "| 2494256 | ENSG00000125818.17 | PSMF1      | protein_coding    | chr20 |   1113263 |   1189415 | + |  0.0222235859 | 6.284037 |  0.053709566 | 0.9573816 | 0.9924425 | -6.554582 | 6.271599 | 6.637365 | 0.0189149253 |\n",
       "| 2286412 | ENSG00000168675.18 | LDLRAD4    | protein_coding    | chr18 |  13217498 |  13652755 | + |  0.0036141435 | 5.800740 |  0.019512393 | 0.9845104 | 0.9956369 | -6.554763 | 5.797789 | 5.935898 | 0.0067797028 |\n",
       "| 1339287 | ENSG00000198964.13 | SGMS1      | protein_coding    | chr10 |  50305586 |  50625163 | - | -0.0022111890 | 6.061227 | -0.014740546 | 0.9882981 | 0.9968685 | -6.554854 | 6.065601 | 6.006003 | 0.0051120352 |\n",
       "| 1102957 | ENSG00000171115.3  | GIMAP8     | protein_coding    | chr7  | 150450630 | 150479392 | + | -0.0004351412 | 6.119565 | -0.002332803 | 0.9981480 | 0.9995813 | -6.555075 | 6.120227 | 6.153569 | 0.0008050500 |\n",
       "|  151583 | ENSG00000143390.17 | RFX5       | protein_coding    | chr1  | 151340640 | 151347357 | - |  0.0026023540 | 5.888371 |  0.019825936 | 0.9842615 | 0.9956029 | -6.555299 | 5.890451 | 5.895943 | 0.0068894997 |\n",
       "| 1725870 | ENSG00000185344.13 | ATP6V0A2   | protein_coding    | chr12 | 123712318 | 123761755 | + |  0.0009520926 | 5.810460 |  0.008473756 | 0.9932729 | 0.9984823 | -6.555388 | 5.811800 | 5.839291 | 0.0029314219 |\n",
       "|  496241 | ENSG00000163812.13 | ZDHHC3     | protein_coding    | chr3  |  44915257 |  44976185 | - |  0.0005781312 | 6.018223 |  0.003403306 | 0.9972982 | 0.9995138 | -6.556106 | 6.017937 | 6.079431 | 0.0011749797 |\n",
       "\n"
      ],
      "text/plain": [
       "      X       gene_id            gene_name  gene_type                     \n",
       "1     2705958 ENSG00000102024.17 PLS3       protein_coding                \n",
       "2      750985 ENSG00000270558.1  AC025449.1 processed_pseudogene          \n",
       "3     1853421 ENSG00000259066.5  AL110118.2 protein_coding                \n",
       "4     2701191 ENSG00000198088.10 NUP62CL    protein_coding                \n",
       "5      743062 ENSG00000248150.1  LINC02150  lincRNA                       \n",
       "6     1666461 ENSG00000221949.5  LINC01465  lincRNA                       \n",
       "7      933342 ENSG00000199630.1  RF00019    misc_RNA                      \n",
       "8      899459 ENSG00000226976.3  COX6A1P2   processed_pseudogene          \n",
       "9     1719633 ENSG00000139714.12 MORN3      protein_coding                \n",
       "10    1226290 ENSG00000224802.2  TUBB4BP2   processed_pseudogene          \n",
       "11     996868 ENSG00000230658.1  KLHL7-DT   lincRNA                       \n",
       "12     993098 ENSG00000272361.2  AC005014.2 lincRNA                       \n",
       "13    2430678 ENSG00000261857.6  MIA        protein_coding                \n",
       "14    1338564 ENSG00000223111.1  SNORA74C-2 snoRNA                        \n",
       "15    1500594 ENSG00000174547.13 MRPL11     protein_coding                \n",
       "16    1163852 ENSG00000104427.11 ZC2HC1A    protein_coding                \n",
       "17    1395298 ENSG00000222588.1  RF00413    snoRNA                        \n",
       "18     311844 ENSG00000264324.1  AC006030.1 protein_coding                \n",
       "19     278488 ENSG00000276334.1  AL133243.2 sense_intronic                \n",
       "20     938989 ENSG00000203799.12 CCDC162P   transcribed_unitary_pseudogene\n",
       "21    1317061 ENSG00000152455.15 SUV39H2    protein_coding                \n",
       "22    2516503 ENSG00000207997.1  MIR644A    miRNA                         \n",
       "23    1902157 ENSG00000249839.1  AC011330.1 unprocessed_pseudogene        \n",
       "24    1213337 ENSG00000215297.3  AL354941.1 processed_pseudogene          \n",
       "25    2424163 ENSG00000268262.1  AC011445.1 sense_overlapping             \n",
       "26     135927 ENSG00000239873.2  GAPDHP27   processed_pseudogene          \n",
       "27     411108 ENSG00000119004.15 CYP20A1    protein_coding                \n",
       "28     788546 ENSG00000221263.1  MIR548P    miRNA                         \n",
       "29     831299 ENSG00000272112.1  AC011374.2 lincRNA                       \n",
       "30    1446163 ENSG00000246225.6  AC006299.1 antisense                     \n",
       "⋮     ⋮       ⋮                  ⋮          ⋮                             \n",
       "23234 2629021 ENSG00000100380.13 ST13       protein_coding                \n",
       "23235  143442 ENSG00000270629.5  NBPF14     protein_coding                \n",
       "23236 2339482 ENSG00000126934.13 MAP2K2     protein_coding                \n",
       "23237  631107 ENSG00000163945.16 UVSSA      protein_coding                \n",
       "23238 1753702 ENSG00000152213.3  ARL11      protein_coding                \n",
       "23239 1000766 ENSG00000153814.12 JAZF1      protein_coding                \n",
       "23240  152314 ENSG00000143442.21 POGZ       protein_coding                \n",
       "23241   68065 ENSG00000198815.8  FOXJ3      protein_coding                \n",
       "23242 2657237 ENSG00000260822.1  AC004656.1 sense_overlapping             \n",
       "23243 1337633 ENSG00000225830.12 ERCC6      protein_coding                \n",
       "23244 2585014 ENSG00000131100.12 ATP6V1E1   protein_coding                \n",
       "23245  150599 ENSG00000163154.5  TNFAIP8L2  protein_coding                \n",
       "23246  140418 ENSG00000271601.3  LIX1L      protein_coding                \n",
       "23247 2065786 ENSG00000102871.15 TRADD      protein_coding                \n",
       "23248  471754 ENSG00000131381.12 RBSN       protein_coding                \n",
       "23249 1482432 ENSG00000162191.13 UBXN1      protein_coding                \n",
       "23250 1311282 ENSG00000134453.15 RBM17      protein_coding                \n",
       "23251 1930571 ENSG00000169032.9  MAP2K1     protein_coding                \n",
       "23252  902183 ENSG00000001167.14 NFYA       protein_coding                \n",
       "23253 1534043 ENSG00000166004.14 CEP295     protein_coding                \n",
       "23254   54855 ENSG00000116497.17 S100PBP    protein_coding                \n",
       "23255  739430 ENSG00000037474.14 NSUN2      protein_coding                \n",
       "23256 1378718 ENSG00000166024.13 R3HCC1L    protein_coding                \n",
       "23257 2494256 ENSG00000125818.17 PSMF1      protein_coding                \n",
       "23258 2286412 ENSG00000168675.18 LDLRAD4    protein_coding                \n",
       "23259 1339287 ENSG00000198964.13 SGMS1      protein_coding                \n",
       "23260 1102957 ENSG00000171115.3  GIMAP8     protein_coding                \n",
       "23261  151583 ENSG00000143390.17 RFX5       protein_coding                \n",
       "23262 1725870 ENSG00000185344.13 ATP6V0A2   protein_coding                \n",
       "23263  496241 ENSG00000163812.13 ZDHHC3     protein_coding                \n",
       "      seqname start     end       strand logFC         AveExpr     t           \n",
       "1     chrX    115561174 115650861 +      -3.3889232    -1.24385853 -5.919555   \n",
       "2     chr5     37286449  37286977 -      -1.5634244    -0.44404056 -5.285480   \n",
       "3     chr14    93184973  93218586 +      -2.4995018    -0.85731418 -5.069837   \n",
       "4     chrX    107123427 107206433 -      -2.3953414    -0.03503932 -4.921902   \n",
       "5     chr5     16373361  16440081 -       1.9077463    -0.85472528  4.881962   \n",
       "6     chr12    62601751  62603690 -      -2.1109096    -0.85432699 -4.937189   \n",
       "7     chr6     89841329  89841424 +      -2.6929473    -1.03758636 -4.980005   \n",
       "8     chr6     37044860  37045189 +      -2.5237665    -1.79734388 -5.060195   \n",
       "9     chr12   121648742 121672631 -       1.3505044     2.27543668  4.648392   \n",
       "10    chr9     34109171  34109968 -      -1.2250377     0.46363997 -4.566445   \n",
       "11    chr7     23101228  23105703 -      -2.9341151    -0.89164811 -4.686274   \n",
       "12    chr7     16593626  16594224 -      -2.3688579    -1.58970496 -4.744148   \n",
       "13    chr19    40771648  40777490 +      -2.1262607    -1.40517895 -4.685327   \n",
       "14    chr10    49954214  49954414 +      -2.3776679    -1.67826546 -4.673554   \n",
       "15    chr11    66435075  66466738 -      -0.8280396     3.19566589 -4.443760   \n",
       "16    chr8     78666047  78719765 +      -1.6967113     2.79253636 -4.430411   \n",
       "17    chr10   119060983 119061111 -      -2.8900263    -1.76050785 -4.690699   \n",
       "18    chr2     74211604  74363377 -      -1.2776102    -0.09962164 -4.332527   \n",
       "19    chr2     32521927  32523547 +      -0.8323316     2.75841413 -4.320816   \n",
       "20    chr6    109165831 109355063 +       2.0178741     0.18205145  4.298218   \n",
       "21    chr10    14878820  14904315 +      -1.0368014     1.58420440 -4.254209   \n",
       "22    chr20    34466325  34466418 +      -2.0527654     0.08428673 -4.257439   \n",
       "23    chr15    43663654  43684339 -      -2.2957477    -1.75345745 -4.411090   \n",
       "24    chr9      3364329   3364792 -      -1.3534265    -0.28414918 -4.203706   \n",
       "25    chr19    39314651  39320858 -       1.8663379    -1.25562893  4.249061   \n",
       "26    chr1    119558755 119559774 -      -2.5641679    -1.79391812 -4.417659   \n",
       "27    chr2    203238940 203305611 +      -0.4081091     4.95656025 -4.202333   \n",
       "28    chr5    100816482 100816565 -      -1.6609153     0.08722686 -4.123306   \n",
       "29    chr5    151724831 151725356 -      -0.9211003     0.38667645 -4.098210   \n",
       "30    chr11    22829380  22945393 +      -1.3275493     0.30180862 -4.094388   \n",
       "⋮     ⋮       ⋮         ⋮         ⋮      ⋮             ⋮           ⋮           \n",
       "23234 chr22    40824535  40857022 -      -0.0210850473 5.883271    -0.073408226\n",
       "23235 chr1    148531385 148679751 -      -0.0122562213 5.800746    -0.047660159\n",
       "23236 chr19     4090321   4124129 -       0.0113884852 5.590557     0.041528279\n",
       "23237 chr4      1347266   1395992 +      -0.0067393779 5.890316    -0.030202819\n",
       "23238 chr13    49628299  49633872 +      -0.0127107513 6.143292    -0.054391291\n",
       "23239 chr7     27830573  28180743 -       0.0249079569 5.742919     0.070709174\n",
       "23240 chr1    151402724 151459465 -      -0.0028856424 6.172265    -0.021611438\n",
       "23241 chr1     42176539  42335877 -      -0.0054779295 6.071599    -0.045622578\n",
       "23242 chrX     24545516  24550466 +       0.0065156234 6.147420     0.029691450\n",
       "23243 chr10    49455368  49539538 -       0.0046111738 6.261126     0.029947665\n",
       "23244 chr22    17592136  17628818 -       0.0013587562 6.220187     0.006830511\n",
       "23245 chr1    151156629 151159749 +      -0.0031955058 5.922158    -0.017026402\n",
       "23246 chr1    145933423 145958001 -      -0.0054719410 5.582052    -0.038273824\n",
       "23247 chr16    67154180  67160298 -       0.0059633386 5.750190     0.043201586\n",
       "23248 chr3     15070073  15099163 -      -0.0003037900 5.561038    -0.003110803\n",
       "23249 chr11    62676498  62679117 -       0.0001873167 6.124897     0.001664282\n",
       "23250 chr10     6088987   6117457 +      -0.0053824908 5.808151    -0.047837446\n",
       "23251 chr15    66386817  66492312 +       0.0094781393 5.755572     0.054955204\n",
       "23252 chr6     41072945  41099976 +      -0.0029306418 5.994699    -0.026065657\n",
       "23253 chr11    93661639  93730358 +      -0.0064078570 6.058281    -0.041603317\n",
       "23254 chr1     32816767  32858879 +       0.0045598307 6.138572     0.037492079\n",
       "23255 chr5      6599239   6633291 -       0.0016011688 6.207149     0.012742624\n",
       "23256 chr10    98134624  98244897 +       0.0020579966 5.729430     0.012655027\n",
       "23257 chr20     1113263   1189415 +       0.0222235859 6.284037     0.053709566\n",
       "23258 chr18    13217498  13652755 +       0.0036141435 5.800740     0.019512393\n",
       "23259 chr10    50305586  50625163 -      -0.0022111890 6.061227    -0.014740546\n",
       "23260 chr7    150450630 150479392 +      -0.0004351412 6.119565    -0.002332803\n",
       "23261 chr1    151340640 151347357 -       0.0026023540 5.888371     0.019825936\n",
       "23262 chr12   123712318 123761755 +       0.0009520926 5.810460     0.008473756\n",
       "23263 chr3     44915257  44976185 -       0.0005781312 6.018223     0.003403306\n",
       "      P.Value      adj.P.Val   B         AvgExpr_Control AvgExpr_Case\n",
       "1     2.962222e-07 0.006891017 4.8808682 -0.82031750     -3.0737653  \n",
       "2     2.784043e-06 0.032382597 4.0898778 -0.21616411     -1.4621504  \n",
       "3     5.894265e-06 0.032619073 3.1116685 -0.52581213     -2.5335146  \n",
       "4     9.815308e-06 0.032619073 2.9839127  0.21166362     -2.1132514  \n",
       "5     1.125616e-05 0.032731499 2.9715220 -0.65986000      0.7088294  \n",
       "6     9.313206e-06 0.032619073 2.8812698 -0.55667876     -1.6087915  \n",
       "7     8.037606e-06 0.032619073 2.8612699 -0.67215584     -2.3647631  \n",
       "8     6.094208e-06 0.032619073 2.6194129 -1.28305420     -3.0737653  \n",
       "9     2.491040e-05 0.041392193 2.4992654  2.26175574      3.3471046  \n",
       "10    3.282121e-05 0.050901314 2.2135332  0.60080264     -0.3975267  \n",
       "11    2.191703e-05 0.040943816 2.0192775 -0.53994480     -2.5935716  \n",
       "12    1.801220e-05 0.040943816 1.9790966 -1.13720202     -2.7542023  \n",
       "13    2.198733e-05 0.040943816 1.9616680 -1.00137912     -2.5335146  \n",
       "14    2.288052e-05 0.040943816 1.8598991 -1.19916224     -2.3078151  \n",
       "15    4.944537e-05 0.067475394 1.8280275  3.24838979      2.2877373  \n",
       "16    5.168788e-05 0.067475394 1.8189594  2.87310545      1.3908081  \n",
       "17    2.159121e-05 0.040943816 1.7038089 -1.23767447     -3.0737653  \n",
       "18    7.144989e-05 0.082261085 1.4736063  0.08026511     -0.8540893  \n",
       "19    7.425881e-05 0.082261085 1.4692984  2.80754765      2.0679544  \n",
       "20    7.998588e-05 0.083325990 1.4316067  0.24786544      1.7662430  \n",
       "21    9.239960e-05 0.084076581 1.3209879  1.67017016      0.6435633  \n",
       "22    9.142796e-05 0.084076581 1.2496381  0.28171483     -1.2048359  \n",
       "23    5.511037e-05 0.067475394 1.1473389 -1.25799700     -2.5935716  \n",
       "24    1.089599e-04 0.090931993 1.0841651 -0.07959881     -1.0441184  \n",
       "25    9.396858e-05 0.084076581 1.0710741 -0.99141474      0.6096816  \n",
       "26    5.392269e-05 0.067475394 1.0674137 -1.28915599     -2.5935716  \n",
       "27    1.094483e-04 0.090931993 0.9880341  4.97649128      4.5793554  \n",
       "28    1.414354e-04 0.106135880 0.8895392  0.27332331     -1.0685408  \n",
       "29    1.533707e-04 0.106237989 0.8571308  0.51843792     -0.2455731  \n",
       "30    1.552720e-04 0.106237989 0.8380727  0.45545351     -0.6502991  \n",
       "⋮     ⋮            ⋮           ⋮         ⋮               ⋮           \n",
       "23234 0.9417755    0.9895449   -6.552868 5.884015        5.925723    \n",
       "23235 0.9621778    0.9931292   -6.552911 5.804907        5.762063    \n",
       "23236 0.9670409    0.9931292   -6.552997 5.583883        5.829428    \n",
       "23237 0.9760261    0.9938847   -6.553045 5.887705        6.014294    \n",
       "23238 0.9568412    0.9924425   -6.553080 6.149321        6.045656    \n",
       "23239 0.9439126    0.9898170   -6.553108 5.738081        5.929861    \n",
       "23240 0.9828443    0.9951783   -6.553129 6.173383        6.193014    \n",
       "23241 0.9637937    0.9931292   -6.553173 6.072554        6.099794    \n",
       "23242 0.9764319    0.9940201   -6.553217 6.154706        6.018244    \n",
       "23243 0.9762286    0.9939603   -6.553424 6.263281        6.253536    \n",
       "23244 0.9945774    0.9985694   -6.553503 6.226495        6.113107    \n",
       "23245 0.9864836    0.9962819   -6.553605 5.930645        5.772399    \n",
       "23246 0.9696225    0.9934514   -6.553627 5.582279        5.649095    \n",
       "23247 0.9657137    0.9931292   -6.553629 5.754619        5.706226    \n",
       "23248 0.9975304    0.9995138   -6.553705 5.563356        5.577315    \n",
       "23249 0.9986787    0.9996926   -6.554049 6.129813        6.054636    \n",
       "23250 0.9620373    0.9931292   -6.554086 5.811924        5.777325    \n",
       "23251 0.9563942    0.9924425   -6.554093 5.757262        5.778741    \n",
       "23252 0.9793092    0.9945779   -6.554105 6.001461        5.883089    \n",
       "23253 0.9669814    0.9931292   -6.554134 6.062654        6.003403    \n",
       "23254 0.9702427    0.9934514   -6.554234 6.137811        6.206403    \n",
       "23255 0.9898841    0.9974360   -6.554293 6.209141        6.205164    \n",
       "23256 0.9899536    0.9974360   -6.554305 5.735072        5.656796    \n",
       "23257 0.9573816    0.9924425   -6.554582 6.271599        6.637365    \n",
       "23258 0.9845104    0.9956369   -6.554763 5.797789        5.935898    \n",
       "23259 0.9882981    0.9968685   -6.554854 6.065601        6.006003    \n",
       "23260 0.9981480    0.9995813   -6.555075 6.120227        6.153569    \n",
       "23261 0.9842615    0.9956029   -6.555299 5.890451        5.895943    \n",
       "23262 0.9932729    0.9984823   -6.555388 5.811800        5.839291    \n",
       "23263 0.9972982    0.9995138   -6.556106 6.017937        6.079431    \n",
       "      minus_log10_pValue\n",
       "1     6.528382          \n",
       "2     5.555324          \n",
       "3     5.229570          \n",
       "4     5.008096          \n",
       "5     4.948610          \n",
       "6     5.030901          \n",
       "7     5.094873          \n",
       "8     5.215083          \n",
       "9     4.603619          \n",
       "10    4.483845          \n",
       "11    4.659218          \n",
       "12    4.744433          \n",
       "13    4.657827          \n",
       "14    4.640534          \n",
       "15    4.305874          \n",
       "16    4.286611          \n",
       "17    4.665723          \n",
       "18    4.145998          \n",
       "19    4.129252          \n",
       "20    4.096987          \n",
       "21    4.034330          \n",
       "22    4.038921          \n",
       "23    4.258767          \n",
       "24    3.962733          \n",
       "25    4.027017          \n",
       "26    4.268228          \n",
       "27    3.960791          \n",
       "28    3.849442          \n",
       "29    3.814258          \n",
       "30    3.808907          \n",
       "⋮     ⋮                 \n",
       "23234 0.0260525948      \n",
       "23235 0.0167446481      \n",
       "23236 0.0145551493      \n",
       "23237 0.0105385669      \n",
       "23238 0.0191601378      \n",
       "23239 0.0250682115      \n",
       "23240 0.0075152633      \n",
       "23241 0.0160159360      \n",
       "23242 0.0103580464      \n",
       "23243 0.0104484849      \n",
       "23244 0.0023614171      \n",
       "23245 0.0059101158      \n",
       "23246 0.0133973206      \n",
       "23247 0.0151515996      \n",
       "23248 0.0010738692      \n",
       "23249 0.0005741914      \n",
       "23250 0.0168081066      \n",
       "23251 0.0193630717      \n",
       "23252 0.0090801595      \n",
       "23253 0.0145818801      \n",
       "23254 0.0131196382      \n",
       "23255 0.0044156603      \n",
       "23256 0.0043851535      \n",
       "23257 0.0189149253      \n",
       "23258 0.0067797028      \n",
       "23259 0.0051120352      \n",
       "23260 0.0008050500      \n",
       "23261 0.0068894997      \n",
       "23262 0.0029314219      \n",
       "23263 0.0011749797      "
      ]
     },
     "metadata": {},
     "output_type": "display_data"
    }
   ],
   "source": [
    "df.withMeans"
   ]
  },
  {
   "cell_type": "code",
   "execution_count": 177,
   "metadata": {},
   "outputs": [
    {
     "data": {
      "text/html": [
       "<table class=\"dataframe\">\n",
       "<caption>A data.frame: 14 × 1</caption>\n",
       "<thead>\n",
       "\t<tr><th></th><th scope=col>gene_name</th></tr>\n",
       "\t<tr><th></th><th scope=col>&lt;chr&gt;</th></tr>\n",
       "</thead>\n",
       "<tbody>\n",
       "\t<tr><th scope=row>1</th><td>PLS3      </td></tr>\n",
       "\t<tr><th scope=row>2</th><td>AC025449.1</td></tr>\n",
       "\t<tr><th scope=row>3</th><td>AL110118.2</td></tr>\n",
       "\t<tr><th scope=row>4</th><td>NUP62CL   </td></tr>\n",
       "\t<tr><th scope=row>5</th><td>LINC02150 </td></tr>\n",
       "\t<tr><th scope=row>6</th><td>LINC01465 </td></tr>\n",
       "\t<tr><th scope=row>7</th><td>RF00019   </td></tr>\n",
       "\t<tr><th scope=row>8</th><td>COX6A1P2  </td></tr>\n",
       "\t<tr><th scope=row>9</th><td>MORN3     </td></tr>\n",
       "\t<tr><th scope=row>11</th><td>KLHL7-DT  </td></tr>\n",
       "\t<tr><th scope=row>12</th><td>AC005014.2</td></tr>\n",
       "\t<tr><th scope=row>13</th><td>MIA       </td></tr>\n",
       "\t<tr><th scope=row>14</th><td>SNORA74C-2</td></tr>\n",
       "\t<tr><th scope=row>17</th><td>RF00413   </td></tr>\n",
       "</tbody>\n",
       "</table>\n"
      ],
      "text/latex": [
       "A data.frame: 14 × 1\n",
       "\\begin{tabular}{r|l}\n",
       "  & gene\\_name\\\\\n",
       "  & <chr>\\\\\n",
       "\\hline\n",
       "\t1 & PLS3      \\\\\n",
       "\t2 & AC025449.1\\\\\n",
       "\t3 & AL110118.2\\\\\n",
       "\t4 & NUP62CL   \\\\\n",
       "\t5 & LINC02150 \\\\\n",
       "\t6 & LINC01465 \\\\\n",
       "\t7 & RF00019   \\\\\n",
       "\t8 & COX6A1P2  \\\\\n",
       "\t9 & MORN3     \\\\\n",
       "\t11 & KLHL7-DT  \\\\\n",
       "\t12 & AC005014.2\\\\\n",
       "\t13 & MIA       \\\\\n",
       "\t14 & SNORA74C-2\\\\\n",
       "\t17 & RF00413   \\\\\n",
       "\\end{tabular}\n"
      ],
      "text/markdown": [
       "\n",
       "A data.frame: 14 × 1\n",
       "\n",
       "| <!--/--> | gene_name &lt;chr&gt; |\n",
       "|---|---|\n",
       "| 1 | PLS3       |\n",
       "| 2 | AC025449.1 |\n",
       "| 3 | AL110118.2 |\n",
       "| 4 | NUP62CL    |\n",
       "| 5 | LINC02150  |\n",
       "| 6 | LINC01465  |\n",
       "| 7 | RF00019    |\n",
       "| 8 | COX6A1P2   |\n",
       "| 9 | MORN3      |\n",
       "| 11 | KLHL7-DT   |\n",
       "| 12 | AC005014.2 |\n",
       "| 13 | MIA        |\n",
       "| 14 | SNORA74C-2 |\n",
       "| 17 | RF00413    |\n",
       "\n"
      ],
      "text/plain": [
       "   gene_name \n",
       "1  PLS3      \n",
       "2  AC025449.1\n",
       "3  AL110118.2\n",
       "4  NUP62CL   \n",
       "5  LINC02150 \n",
       "6  LINC01465 \n",
       "7  RF00019   \n",
       "8  COX6A1P2  \n",
       "9  MORN3     \n",
       "11 KLHL7-DT  \n",
       "12 AC005014.2\n",
       "13 MIA       \n",
       "14 SNORA74C-2\n",
       "17 RF00413   "
      ]
     },
     "metadata": {},
     "output_type": "display_data"
    }
   ],
   "source": [
    "genes<-subset(df.withMeans,((adj.P.Val<=0.05 & logFC>=log2(1.5)) | (adj.P.Val<=0.05 & logFC<=-log2(1.5))),select=\"gene_name\")\n",
    "genes"
   ]
  },
  {
   "cell_type": "code",
   "execution_count": 178,
   "metadata": {
    "scrolled": false
   },
   "outputs": [],
   "source": [
    "library(goseq)\n",
    "library(org.Hs.eg.db)\n",
    "library(GO.db)"
   ]
  },
  {
   "cell_type": "code",
   "execution_count": 179,
   "metadata": {},
   "outputs": [],
   "source": [
    "genes<-subset(df.withMeans,((adj.P.Val<=0.05 & logFC>=log2(1.5)) | (adj.P.Val<=0.05 & logFC<=-log2(1.5))),select=\"gene_id\")\n",
    "genes$gene_id <- sub(\"\\\\..*\", \"\", genes$gene_id)\n",
    "genes<-genes$gene_id"
   ]
  },
  {
   "cell_type": "code",
   "execution_count": 180,
   "metadata": {},
   "outputs": [
    {
     "data": {
      "text/html": [
       "<style>\n",
       ".list-inline {list-style: none; margin:0; padding: 0}\n",
       ".list-inline>li {display: inline-block}\n",
       ".list-inline>li:not(:last-child)::after {content: \"\\00b7\"; padding: 0 .5ex}\n",
       "</style>\n",
       "<ol class=list-inline><li>'ENSG00000102024'</li><li>'ENSG00000270558'</li><li>'ENSG00000259066'</li><li>'ENSG00000198088'</li><li>'ENSG00000248150'</li><li>'ENSG00000221949'</li><li>'ENSG00000199630'</li><li>'ENSG00000226976'</li><li>'ENSG00000139714'</li><li>'ENSG00000230658'</li><li>'ENSG00000272361'</li><li>'ENSG00000261857'</li><li>'ENSG00000223111'</li><li>'ENSG00000222588'</li></ol>\n"
      ],
      "text/latex": [
       "\\begin{enumerate*}\n",
       "\\item 'ENSG00000102024'\n",
       "\\item 'ENSG00000270558'\n",
       "\\item 'ENSG00000259066'\n",
       "\\item 'ENSG00000198088'\n",
       "\\item 'ENSG00000248150'\n",
       "\\item 'ENSG00000221949'\n",
       "\\item 'ENSG00000199630'\n",
       "\\item 'ENSG00000226976'\n",
       "\\item 'ENSG00000139714'\n",
       "\\item 'ENSG00000230658'\n",
       "\\item 'ENSG00000272361'\n",
       "\\item 'ENSG00000261857'\n",
       "\\item 'ENSG00000223111'\n",
       "\\item 'ENSG00000222588'\n",
       "\\end{enumerate*}\n"
      ],
      "text/markdown": [
       "1. 'ENSG00000102024'\n",
       "2. 'ENSG00000270558'\n",
       "3. 'ENSG00000259066'\n",
       "4. 'ENSG00000198088'\n",
       "5. 'ENSG00000248150'\n",
       "6. 'ENSG00000221949'\n",
       "7. 'ENSG00000199630'\n",
       "8. 'ENSG00000226976'\n",
       "9. 'ENSG00000139714'\n",
       "10. 'ENSG00000230658'\n",
       "11. 'ENSG00000272361'\n",
       "12. 'ENSG00000261857'\n",
       "13. 'ENSG00000223111'\n",
       "14. 'ENSG00000222588'\n",
       "\n",
       "\n"
      ],
      "text/plain": [
       " [1] \"ENSG00000102024\" \"ENSG00000270558\" \"ENSG00000259066\" \"ENSG00000198088\"\n",
       " [5] \"ENSG00000248150\" \"ENSG00000221949\" \"ENSG00000199630\" \"ENSG00000226976\"\n",
       " [9] \"ENSG00000139714\" \"ENSG00000230658\" \"ENSG00000272361\" \"ENSG00000261857\"\n",
       "[13] \"ENSG00000223111\" \"ENSG00000222588\""
      ]
     },
     "metadata": {},
     "output_type": "display_data"
    }
   ],
   "source": [
    "genes"
   ]
  },
  {
   "cell_type": "code",
   "execution_count": 181,
   "metadata": {},
   "outputs": [],
   "source": [
    "library(clusterProfiler)\n",
    "library(ggplot2)"
   ]
  },
  {
   "cell_type": "code",
   "execution_count": 182,
   "metadata": {},
   "outputs": [],
   "source": [
    "sample_test <- enrichGO(genes, OrgDb=org.Hs.eg.db, pAdjustMethod = \"BH\", pvalueCutoff  = 0.01, qvalueCutoff  = 0.05,keyType = \"ENSEMBL\",ont=\"BP\")"
   ]
  },
  {
   "cell_type": "markdown",
   "metadata": {},
   "source": [
    "ont= MP (molecular process), BP (biological process), MF (molecular function, in what process is involved?)"
   ]
  },
  {
   "cell_type": "code",
   "execution_count": 183,
   "metadata": {},
   "outputs": [
    {
     "data": {
      "text/plain": [
       "#\n",
       "# over-representation test\n",
       "#\n",
       "#...@organism \t Homo sapiens \n",
       "#...@ontology \t BP \n",
       "#...@keytype \t ENSEMBL \n",
       "#...@gene \t chr [1:14] \"ENSG00000102024\" \"ENSG00000270558\" \"ENSG00000259066\" ...\n",
       "#...pvalues adjusted by 'BH' with cutoff <0.01 \n",
       "#...0 enriched terms found\n",
       "#...Citation\n",
       " T Wu, E Hu, S Xu, M Chen, P Guo, Z Dai, T Feng, L Zhou, W Tang, L Zhan, X Fu, S Liu, X Bo, and G Yu.\n",
       " clusterProfiler 4.0: A universal enrichment tool for interpreting omics data.\n",
       " The Innovation. 2021, 2(3):100141 \n"
      ]
     },
     "metadata": {},
     "output_type": "display_data"
    }
   ],
   "source": [
    "sample_test"
   ]
  },
  {
   "cell_type": "code",
   "execution_count": 184,
   "metadata": {
    "scrolled": false
   },
   "outputs": [
    {
     "data": {
      "text/html": [
       "<table class=\"dataframe\">\n",
       "<caption>A tibble: 21 × 9</caption>\n",
       "<thead>\n",
       "\t<tr><th scope=col>ID</th><th scope=col>Description</th><th scope=col>GeneRatio</th><th scope=col>BgRatio</th><th scope=col>pvalue</th><th scope=col>p.adjust</th><th scope=col>qvalue</th><th scope=col>geneID</th><th scope=col>Count</th></tr>\n",
       "\t<tr><th scope=col>&lt;chr&gt;</th><th scope=col>&lt;chr&gt;</th><th scope=col>&lt;chr&gt;</th><th scope=col>&lt;chr&gt;</th><th scope=col>&lt;dbl&gt;</th><th scope=col>&lt;dbl&gt;</th><th scope=col>&lt;dbl&gt;</th><th scope=col>&lt;chr&gt;</th><th scope=col>&lt;int&gt;</th></tr>\n",
       "</thead>\n",
       "<tbody>\n",
       "\t<tr><td>GO:0051639</td><td>actin filament network formation                  </td><td>1/3</td><td>12/21069 </td><td>0.00170778</td><td>0.03586337</td><td>0.01258364</td><td>ENSG00000102024</td><td>1</td></tr>\n",
       "\t<tr><td>GO:0006405</td><td>RNA export from nucleus                           </td><td>1/3</td><td>97/21069 </td><td>0.01374892</td><td>0.05513030</td><td>0.01934396</td><td>ENSG00000198088</td><td>1</td></tr>\n",
       "\t<tr><td>GO:0006606</td><td>protein import into nucleus                       </td><td>1/3</td><td>175/21069</td><td>0.02471289</td><td>0.05513030</td><td>0.01934396</td><td>ENSG00000198088</td><td>1</td></tr>\n",
       "\t<tr><td>GO:0051017</td><td>actin filament bundle assembly                    </td><td>1/3</td><td>175/21069</td><td>0.02471289</td><td>0.05513030</td><td>0.01934396</td><td>ENSG00000102024</td><td>1</td></tr>\n",
       "\t<tr><td>GO:0051170</td><td>import into nucleus                               </td><td>1/3</td><td>179/21069</td><td>0.02527295</td><td>0.05513030</td><td>0.01934396</td><td>ENSG00000198088</td><td>1</td></tr>\n",
       "\t<tr><td>GO:0061572</td><td>actin filament bundle organization                </td><td>1/3</td><td>179/21069</td><td>0.02527295</td><td>0.05513030</td><td>0.01934396</td><td>ENSG00000102024</td><td>1</td></tr>\n",
       "\t<tr><td>GO:0050657</td><td>nucleic acid transport                            </td><td>1/3</td><td>183/21069</td><td>0.02583278</td><td>0.05513030</td><td>0.01934396</td><td>ENSG00000198088</td><td>1</td></tr>\n",
       "\t<tr><td>GO:0050658</td><td>RNA transport                                     </td><td>1/3</td><td>183/21069</td><td>0.02583278</td><td>0.05513030</td><td>0.01934396</td><td>ENSG00000198088</td><td>1</td></tr>\n",
       "\t<tr><td>GO:0051168</td><td>nuclear export                                    </td><td>1/3</td><td>184/21069</td><td>0.02597271</td><td>0.05513030</td><td>0.01934396</td><td>ENSG00000198088</td><td>1</td></tr>\n",
       "\t<tr><td>GO:0051236</td><td>establishment of RNA localization                 </td><td>1/3</td><td>186/21069</td><td>0.02625252</td><td>0.05513030</td><td>0.01934396</td><td>ENSG00000198088</td><td>1</td></tr>\n",
       "\t<tr><td>GO:0006403</td><td>RNA localization                                  </td><td>1/3</td><td>227/21069</td><td>0.03197688</td><td>0.05727556</td><td>0.02009669</td><td>ENSG00000198088</td><td>1</td></tr>\n",
       "\t<tr><td>GO:0015931</td><td>nucleobase-containing compound transport          </td><td>1/3</td><td>246/21069</td><td>0.03462200</td><td>0.05727556</td><td>0.02009669</td><td>ENSG00000198088</td><td>1</td></tr>\n",
       "\t<tr><td>GO:0060348</td><td>bone development                                  </td><td>1/3</td><td>252/21069</td><td>0.03545630</td><td>0.05727556</td><td>0.02009669</td><td>ENSG00000102024</td><td>1</td></tr>\n",
       "\t<tr><td>GO:0034504</td><td>protein localization to nucleus                   </td><td>1/3</td><td>335/21069</td><td>0.04694818</td><td>0.05736769</td><td>0.02012901</td><td>ENSG00000198088</td><td>1</td></tr>\n",
       "\t<tr><td>GO:0006913</td><td>nucleocytoplasmic transport                       </td><td>1/3</td><td>358/21069</td><td>0.05011645</td><td>0.05736769</td><td>0.02012901</td><td>ENSG00000198088</td><td>1</td></tr>\n",
       "\t<tr><td>GO:0051169</td><td>nuclear transport                                 </td><td>1/3</td><td>358/21069</td><td>0.05011645</td><td>0.05736769</td><td>0.02012901</td><td>ENSG00000198088</td><td>1</td></tr>\n",
       "\t<tr><td>GO:0030198</td><td>extracellular matrix organization                 </td><td>1/3</td><td>367/21069</td><td>0.05135429</td><td>0.05736769</td><td>0.02012901</td><td>ENSG00000261857</td><td>1</td></tr>\n",
       "\t<tr><td>GO:0043062</td><td>extracellular structure organization              </td><td>1/3</td><td>368/21069</td><td>0.05149176</td><td>0.05736769</td><td>0.02012901</td><td>ENSG00000261857</td><td>1</td></tr>\n",
       "\t<tr><td>GO:0045229</td><td>external encapsulating structure organization     </td><td>1/3</td><td>371/21069</td><td>0.05190410</td><td>0.05736769</td><td>0.02012901</td><td>ENSG00000261857</td><td>1</td></tr>\n",
       "\t<tr><td>GO:0072594</td><td>establishment of protein localization to organelle</td><td>1/3</td><td>482/21069</td><td>0.06707662</td><td>0.06789211</td><td>0.02382179</td><td>ENSG00000198088</td><td>1</td></tr>\n",
       "\t<tr><td>GO:0007015</td><td>actin filament organization                       </td><td>1/3</td><td>488/21069</td><td>0.06789211</td><td>0.06789211</td><td>0.02382179</td><td>ENSG00000102024</td><td>1</td></tr>\n",
       "</tbody>\n",
       "</table>\n"
      ],
      "text/latex": [
       "A tibble: 21 × 9\n",
       "\\begin{tabular}{lllllllll}\n",
       " ID & Description & GeneRatio & BgRatio & pvalue & p.adjust & qvalue & geneID & Count\\\\\n",
       " <chr> & <chr> & <chr> & <chr> & <dbl> & <dbl> & <dbl> & <chr> & <int>\\\\\n",
       "\\hline\n",
       "\t GO:0051639 & actin filament network formation                   & 1/3 & 12/21069  & 0.00170778 & 0.03586337 & 0.01258364 & ENSG00000102024 & 1\\\\\n",
       "\t GO:0006405 & RNA export from nucleus                            & 1/3 & 97/21069  & 0.01374892 & 0.05513030 & 0.01934396 & ENSG00000198088 & 1\\\\\n",
       "\t GO:0006606 & protein import into nucleus                        & 1/3 & 175/21069 & 0.02471289 & 0.05513030 & 0.01934396 & ENSG00000198088 & 1\\\\\n",
       "\t GO:0051017 & actin filament bundle assembly                     & 1/3 & 175/21069 & 0.02471289 & 0.05513030 & 0.01934396 & ENSG00000102024 & 1\\\\\n",
       "\t GO:0051170 & import into nucleus                                & 1/3 & 179/21069 & 0.02527295 & 0.05513030 & 0.01934396 & ENSG00000198088 & 1\\\\\n",
       "\t GO:0061572 & actin filament bundle organization                 & 1/3 & 179/21069 & 0.02527295 & 0.05513030 & 0.01934396 & ENSG00000102024 & 1\\\\\n",
       "\t GO:0050657 & nucleic acid transport                             & 1/3 & 183/21069 & 0.02583278 & 0.05513030 & 0.01934396 & ENSG00000198088 & 1\\\\\n",
       "\t GO:0050658 & RNA transport                                      & 1/3 & 183/21069 & 0.02583278 & 0.05513030 & 0.01934396 & ENSG00000198088 & 1\\\\\n",
       "\t GO:0051168 & nuclear export                                     & 1/3 & 184/21069 & 0.02597271 & 0.05513030 & 0.01934396 & ENSG00000198088 & 1\\\\\n",
       "\t GO:0051236 & establishment of RNA localization                  & 1/3 & 186/21069 & 0.02625252 & 0.05513030 & 0.01934396 & ENSG00000198088 & 1\\\\\n",
       "\t GO:0006403 & RNA localization                                   & 1/3 & 227/21069 & 0.03197688 & 0.05727556 & 0.02009669 & ENSG00000198088 & 1\\\\\n",
       "\t GO:0015931 & nucleobase-containing compound transport           & 1/3 & 246/21069 & 0.03462200 & 0.05727556 & 0.02009669 & ENSG00000198088 & 1\\\\\n",
       "\t GO:0060348 & bone development                                   & 1/3 & 252/21069 & 0.03545630 & 0.05727556 & 0.02009669 & ENSG00000102024 & 1\\\\\n",
       "\t GO:0034504 & protein localization to nucleus                    & 1/3 & 335/21069 & 0.04694818 & 0.05736769 & 0.02012901 & ENSG00000198088 & 1\\\\\n",
       "\t GO:0006913 & nucleocytoplasmic transport                        & 1/3 & 358/21069 & 0.05011645 & 0.05736769 & 0.02012901 & ENSG00000198088 & 1\\\\\n",
       "\t GO:0051169 & nuclear transport                                  & 1/3 & 358/21069 & 0.05011645 & 0.05736769 & 0.02012901 & ENSG00000198088 & 1\\\\\n",
       "\t GO:0030198 & extracellular matrix organization                  & 1/3 & 367/21069 & 0.05135429 & 0.05736769 & 0.02012901 & ENSG00000261857 & 1\\\\\n",
       "\t GO:0043062 & extracellular structure organization               & 1/3 & 368/21069 & 0.05149176 & 0.05736769 & 0.02012901 & ENSG00000261857 & 1\\\\\n",
       "\t GO:0045229 & external encapsulating structure organization      & 1/3 & 371/21069 & 0.05190410 & 0.05736769 & 0.02012901 & ENSG00000261857 & 1\\\\\n",
       "\t GO:0072594 & establishment of protein localization to organelle & 1/3 & 482/21069 & 0.06707662 & 0.06789211 & 0.02382179 & ENSG00000198088 & 1\\\\\n",
       "\t GO:0007015 & actin filament organization                        & 1/3 & 488/21069 & 0.06789211 & 0.06789211 & 0.02382179 & ENSG00000102024 & 1\\\\\n",
       "\\end{tabular}\n"
      ],
      "text/markdown": [
       "\n",
       "A tibble: 21 × 9\n",
       "\n",
       "| ID &lt;chr&gt; | Description &lt;chr&gt; | GeneRatio &lt;chr&gt; | BgRatio &lt;chr&gt; | pvalue &lt;dbl&gt; | p.adjust &lt;dbl&gt; | qvalue &lt;dbl&gt; | geneID &lt;chr&gt; | Count &lt;int&gt; |\n",
       "|---|---|---|---|---|---|---|---|---|\n",
       "| GO:0051639 | actin filament network formation                   | 1/3 | 12/21069  | 0.00170778 | 0.03586337 | 0.01258364 | ENSG00000102024 | 1 |\n",
       "| GO:0006405 | RNA export from nucleus                            | 1/3 | 97/21069  | 0.01374892 | 0.05513030 | 0.01934396 | ENSG00000198088 | 1 |\n",
       "| GO:0006606 | protein import into nucleus                        | 1/3 | 175/21069 | 0.02471289 | 0.05513030 | 0.01934396 | ENSG00000198088 | 1 |\n",
       "| GO:0051017 | actin filament bundle assembly                     | 1/3 | 175/21069 | 0.02471289 | 0.05513030 | 0.01934396 | ENSG00000102024 | 1 |\n",
       "| GO:0051170 | import into nucleus                                | 1/3 | 179/21069 | 0.02527295 | 0.05513030 | 0.01934396 | ENSG00000198088 | 1 |\n",
       "| GO:0061572 | actin filament bundle organization                 | 1/3 | 179/21069 | 0.02527295 | 0.05513030 | 0.01934396 | ENSG00000102024 | 1 |\n",
       "| GO:0050657 | nucleic acid transport                             | 1/3 | 183/21069 | 0.02583278 | 0.05513030 | 0.01934396 | ENSG00000198088 | 1 |\n",
       "| GO:0050658 | RNA transport                                      | 1/3 | 183/21069 | 0.02583278 | 0.05513030 | 0.01934396 | ENSG00000198088 | 1 |\n",
       "| GO:0051168 | nuclear export                                     | 1/3 | 184/21069 | 0.02597271 | 0.05513030 | 0.01934396 | ENSG00000198088 | 1 |\n",
       "| GO:0051236 | establishment of RNA localization                  | 1/3 | 186/21069 | 0.02625252 | 0.05513030 | 0.01934396 | ENSG00000198088 | 1 |\n",
       "| GO:0006403 | RNA localization                                   | 1/3 | 227/21069 | 0.03197688 | 0.05727556 | 0.02009669 | ENSG00000198088 | 1 |\n",
       "| GO:0015931 | nucleobase-containing compound transport           | 1/3 | 246/21069 | 0.03462200 | 0.05727556 | 0.02009669 | ENSG00000198088 | 1 |\n",
       "| GO:0060348 | bone development                                   | 1/3 | 252/21069 | 0.03545630 | 0.05727556 | 0.02009669 | ENSG00000102024 | 1 |\n",
       "| GO:0034504 | protein localization to nucleus                    | 1/3 | 335/21069 | 0.04694818 | 0.05736769 | 0.02012901 | ENSG00000198088 | 1 |\n",
       "| GO:0006913 | nucleocytoplasmic transport                        | 1/3 | 358/21069 | 0.05011645 | 0.05736769 | 0.02012901 | ENSG00000198088 | 1 |\n",
       "| GO:0051169 | nuclear transport                                  | 1/3 | 358/21069 | 0.05011645 | 0.05736769 | 0.02012901 | ENSG00000198088 | 1 |\n",
       "| GO:0030198 | extracellular matrix organization                  | 1/3 | 367/21069 | 0.05135429 | 0.05736769 | 0.02012901 | ENSG00000261857 | 1 |\n",
       "| GO:0043062 | extracellular structure organization               | 1/3 | 368/21069 | 0.05149176 | 0.05736769 | 0.02012901 | ENSG00000261857 | 1 |\n",
       "| GO:0045229 | external encapsulating structure organization      | 1/3 | 371/21069 | 0.05190410 | 0.05736769 | 0.02012901 | ENSG00000261857 | 1 |\n",
       "| GO:0072594 | establishment of protein localization to organelle | 1/3 | 482/21069 | 0.06707662 | 0.06789211 | 0.02382179 | ENSG00000198088 | 1 |\n",
       "| GO:0007015 | actin filament organization                        | 1/3 | 488/21069 | 0.06789211 | 0.06789211 | 0.02382179 | ENSG00000102024 | 1 |\n",
       "\n"
      ],
      "text/plain": [
       "   ID         Description                                        GeneRatio\n",
       "1  GO:0051639 actin filament network formation                   1/3      \n",
       "2  GO:0006405 RNA export from nucleus                            1/3      \n",
       "3  GO:0006606 protein import into nucleus                        1/3      \n",
       "4  GO:0051017 actin filament bundle assembly                     1/3      \n",
       "5  GO:0051170 import into nucleus                                1/3      \n",
       "6  GO:0061572 actin filament bundle organization                 1/3      \n",
       "7  GO:0050657 nucleic acid transport                             1/3      \n",
       "8  GO:0050658 RNA transport                                      1/3      \n",
       "9  GO:0051168 nuclear export                                     1/3      \n",
       "10 GO:0051236 establishment of RNA localization                  1/3      \n",
       "11 GO:0006403 RNA localization                                   1/3      \n",
       "12 GO:0015931 nucleobase-containing compound transport           1/3      \n",
       "13 GO:0060348 bone development                                   1/3      \n",
       "14 GO:0034504 protein localization to nucleus                    1/3      \n",
       "15 GO:0006913 nucleocytoplasmic transport                        1/3      \n",
       "16 GO:0051169 nuclear transport                                  1/3      \n",
       "17 GO:0030198 extracellular matrix organization                  1/3      \n",
       "18 GO:0043062 extracellular structure organization               1/3      \n",
       "19 GO:0045229 external encapsulating structure organization      1/3      \n",
       "20 GO:0072594 establishment of protein localization to organelle 1/3      \n",
       "21 GO:0007015 actin filament organization                        1/3      \n",
       "   BgRatio   pvalue     p.adjust   qvalue     geneID          Count\n",
       "1  12/21069  0.00170778 0.03586337 0.01258364 ENSG00000102024 1    \n",
       "2  97/21069  0.01374892 0.05513030 0.01934396 ENSG00000198088 1    \n",
       "3  175/21069 0.02471289 0.05513030 0.01934396 ENSG00000198088 1    \n",
       "4  175/21069 0.02471289 0.05513030 0.01934396 ENSG00000102024 1    \n",
       "5  179/21069 0.02527295 0.05513030 0.01934396 ENSG00000198088 1    \n",
       "6  179/21069 0.02527295 0.05513030 0.01934396 ENSG00000102024 1    \n",
       "7  183/21069 0.02583278 0.05513030 0.01934396 ENSG00000198088 1    \n",
       "8  183/21069 0.02583278 0.05513030 0.01934396 ENSG00000198088 1    \n",
       "9  184/21069 0.02597271 0.05513030 0.01934396 ENSG00000198088 1    \n",
       "10 186/21069 0.02625252 0.05513030 0.01934396 ENSG00000198088 1    \n",
       "11 227/21069 0.03197688 0.05727556 0.02009669 ENSG00000198088 1    \n",
       "12 246/21069 0.03462200 0.05727556 0.02009669 ENSG00000198088 1    \n",
       "13 252/21069 0.03545630 0.05727556 0.02009669 ENSG00000102024 1    \n",
       "14 335/21069 0.04694818 0.05736769 0.02012901 ENSG00000198088 1    \n",
       "15 358/21069 0.05011645 0.05736769 0.02012901 ENSG00000198088 1    \n",
       "16 358/21069 0.05011645 0.05736769 0.02012901 ENSG00000198088 1    \n",
       "17 367/21069 0.05135429 0.05736769 0.02012901 ENSG00000261857 1    \n",
       "18 368/21069 0.05149176 0.05736769 0.02012901 ENSG00000261857 1    \n",
       "19 371/21069 0.05190410 0.05736769 0.02012901 ENSG00000261857 1    \n",
       "20 482/21069 0.06707662 0.06789211 0.02382179 ENSG00000198088 1    \n",
       "21 488/21069 0.06789211 0.06789211 0.02382179 ENSG00000102024 1    "
      ]
     },
     "metadata": {},
     "output_type": "display_data"
    }
   ],
   "source": [
    "enrich_go_tidy <- sample_test %>% \n",
    "  slot(\"result\") %>% \n",
    "  tibble::as.tibble() \n",
    "enrich_go_tidy"
   ]
  },
  {
   "cell_type": "code",
   "execution_count": 185,
   "metadata": {
    "scrolled": false
   },
   "outputs": [
    {
     "name": "stderr",
     "output_type": "stream",
     "text": [
      "Warning message in rep(yes, length.out = len):\n",
      "“'x' is NULL so the result will be NULL”\n",
      "ERROR while rich displaying an object: Error in ans[ypos] <- rep(yes, length.out = len)[ypos]: replacement has length zero\n",
      "\n",
      "Traceback:\n",
      "1. tryCatch(withCallingHandlers({\n",
      " .     if (!mime %in% names(repr::mime2repr)) \n",
      " .         stop(\"No repr_* for mimetype \", mime, \" in repr::mime2repr\")\n",
      " .     rpr <- repr::mime2repr[[mime]](obj)\n",
      " .     if (is.null(rpr)) \n",
      " .         return(NULL)\n",
      " .     prepare_content(is.raw(rpr), rpr)\n",
      " . }, error = error_handler), error = outer_handler)\n",
      "2. tryCatchList(expr, classes, parentenv, handlers)\n",
      "3. tryCatchOne(expr, names, parentenv, handlers[[1L]])\n",
      "4. doTryCatch(return(expr), name, parentenv, handler)\n",
      "5. withCallingHandlers({\n",
      " .     if (!mime %in% names(repr::mime2repr)) \n",
      " .         stop(\"No repr_* for mimetype \", mime, \" in repr::mime2repr\")\n",
      " .     rpr <- repr::mime2repr[[mime]](obj)\n",
      " .     if (is.null(rpr)) \n",
      " .         return(NULL)\n",
      " .     prepare_content(is.raw(rpr), rpr)\n",
      " . }, error = error_handler)\n",
      "6. repr::mime2repr[[mime]](obj)\n",
      "7. repr_text.default(obj)\n",
      "8. paste(capture.output(print(obj)), collapse = \"\\n\")\n",
      "9. capture.output(print(obj))\n",
      "10. withVisible(...elt(i))\n",
      "11. print(obj)\n",
      "12. print.ggplot(obj)\n",
      "13. ggplot_build(x)\n",
      "14. ggplot_build.ggplot(x)\n",
      "15. layout$setup_panel_params()\n",
      "16. setup_panel_params(..., self = self)\n",
      "17. Map(setup_panel_params, scales_x, scales_y)\n",
      "18. mapply(FUN = f, ..., SIMPLIFY = FALSE)\n",
      "19. (function (scale_x, scale_y) \n",
      "  . {\n",
      "  .     self$coord$setup_panel_params(scale_x, scale_y, params = self$coord_params)\n",
      "  . })(dots[[1L]][[1L]], dots[[2L]][[1L]])\n",
      "20. self$coord$setup_panel_params(scale_x, scale_y, params = self$coord_params)\n",
      "21. setup_panel_params(..., self = self)\n",
      "22. view_scales_from_scale(scale_y, self$limits$y, self$expand)\n",
      "23. expand_limits_scale(scale, expansion, limits, coord_limits = coord_limits)\n",
      "24. expand_limits_discrete(limits, expand, coord_limits, range_continuous = scale$range_c$range)\n",
      "25. expand_limits_discrete_trans(limits, expand, coord_limits, range_continuous = range_continuous)\n",
      "26. expand_limits_continuous_trans(range_continuous, expand, coord_limits, \n",
      "  .     trans)\n",
      "27. ifelse(is.na(coord_limits), limits, coord_limits)\n"
     ]
    }
   ],
   "source": [
    "dotplot(sample_test,font.size = 8)"
   ]
  },
  {
   "cell_type": "code",
   "execution_count": 186,
   "metadata": {},
   "outputs": [],
   "source": [
    "library(enrichplot)"
   ]
  },
  {
   "cell_type": "code",
   "execution_count": 187,
   "metadata": {},
   "outputs": [
    {
     "ename": "ERROR",
     "evalue": "Error in .checkKeysAreWellFormed(keys): keys must be supplied in a character vector with no NAs\n",
     "output_type": "error",
     "traceback": [
      "Error in .checkKeysAreWellFormed(keys): keys must be supplied in a character vector with no NAs\nTraceback:\n",
      "1. goplot(sample_test, font.size = 5)",
      "2. goplot(sample_test, font.size = 5)",
      "3. goplot.enrichResult(x, showCategory = showCategory, color = color, \n .     layout = layout, geom = geom, ...)",
      "4. AnnotationDbi::mget(id, GOANCESTOR)",
      "5. AnnotationDbi::mget(id, GOANCESTOR)",
      "6. `keys<-`(`*tmp*`, value = x)",
      "7. `keys<-`(`*tmp*`, value = x)",
      "8. `Lkeys<-`(x, value)",
      "9. `Lkeys<-`(x, value)",
      "10. .checkKeys(value, Lkeys(x), x@ifnotfound)",
      "11. .checkKeysAreWellFormed(keys)",
      "12. stop(\"keys must be supplied in a character vector with no NAs\")"
     ]
    }
   ],
   "source": [
    "par(mfrow=c(5,5))\n",
    "goplot(sample_test,font.size=5)"
   ]
  },
  {
   "cell_type": "code",
   "execution_count": null,
   "metadata": {},
   "outputs": [],
   "source": [
    "sample_test"
   ]
  },
  {
   "cell_type": "code",
   "execution_count": null,
   "metadata": {},
   "outputs": [],
   "source": []
  }
 ],
 "metadata": {
  "kernelspec": {
   "display_name": "R",
   "language": "R",
   "name": "ir"
  },
  "language_info": {
   "codemirror_mode": "r",
   "file_extension": ".r",
   "mimetype": "text/x-r-source",
   "name": "R",
   "pygments_lexer": "r",
   "version": "4.2.2"
  },
  "toc": {
   "base_numbering": 1,
   "nav_menu": {},
   "number_sections": true,
   "sideBar": true,
   "skip_h1_title": false,
   "title_cell": "Table of Contents",
   "title_sidebar": "Contents",
   "toc_cell": false,
   "toc_position": {},
   "toc_section_display": true,
   "toc_window_display": false
  }
 },
 "nbformat": 4,
 "nbformat_minor": 2
}
